{
 "cells": [
  {
   "cell_type": "code",
   "execution_count": 1,
   "metadata": {},
   "outputs": [
    {
     "name": "stderr",
     "output_type": "stream",
     "text": [
      "Using TensorFlow backend.\n",
      "/Users/soma/venvs/daggit/lib/python3.6/site-packages/tensorflow/python/framework/dtypes.py:526: FutureWarning: Passing (type, 1) or '1type' as a synonym of type is deprecated; in a future version of numpy, it will be understood as (type, (1,)) / '(1,)type'.\n",
      "  _np_qint8 = np.dtype([(\"qint8\", np.int8, 1)])\n",
      "/Users/soma/venvs/daggit/lib/python3.6/site-packages/tensorflow/python/framework/dtypes.py:527: FutureWarning: Passing (type, 1) or '1type' as a synonym of type is deprecated; in a future version of numpy, it will be understood as (type, (1,)) / '(1,)type'.\n",
      "  _np_quint8 = np.dtype([(\"quint8\", np.uint8, 1)])\n",
      "/Users/soma/venvs/daggit/lib/python3.6/site-packages/tensorflow/python/framework/dtypes.py:528: FutureWarning: Passing (type, 1) or '1type' as a synonym of type is deprecated; in a future version of numpy, it will be understood as (type, (1,)) / '(1,)type'.\n",
      "  _np_qint16 = np.dtype([(\"qint16\", np.int16, 1)])\n",
      "/Users/soma/venvs/daggit/lib/python3.6/site-packages/tensorflow/python/framework/dtypes.py:529: FutureWarning: Passing (type, 1) or '1type' as a synonym of type is deprecated; in a future version of numpy, it will be understood as (type, (1,)) / '(1,)type'.\n",
      "  _np_quint16 = np.dtype([(\"quint16\", np.uint16, 1)])\n",
      "/Users/soma/venvs/daggit/lib/python3.6/site-packages/tensorflow/python/framework/dtypes.py:530: FutureWarning: Passing (type, 1) or '1type' as a synonym of type is deprecated; in a future version of numpy, it will be understood as (type, (1,)) / '(1,)type'.\n",
      "  _np_qint32 = np.dtype([(\"qint32\", np.int32, 1)])\n",
      "/Users/soma/venvs/daggit/lib/python3.6/site-packages/tensorflow/python/framework/dtypes.py:535: FutureWarning: Passing (type, 1) or '1type' as a synonym of type is deprecated; in a future version of numpy, it will be understood as (type, (1,)) / '(1,)type'.\n",
      "  np_resource = np.dtype([(\"resource\", np.ubyte, 1)])\n",
      "2019-09-24 10:08:47,129\tINFO node.py:423 -- Process STDOUT and STDERR is being redirected to /tmp/ray/session_2019-09-24_10-08-47_3112/logs.\n",
      "2019-09-24 10:08:47,241\tINFO services.py:363 -- Waiting for redis server at 127.0.0.1:12911 to respond...\n",
      "2019-09-24 10:08:47,365\tINFO services.py:363 -- Waiting for redis server at 127.0.0.1:36383 to respond...\n",
      "2019-09-24 10:08:47,369\tINFO services.py:760 -- Starting Redis shard with 20.0 GB max memory.\n",
      "2019-09-24 10:08:47,398\tINFO services.py:1384 -- Starting the Plasma object store with 1.0 GB memory using /tmp.\n"
     ]
    }
   ],
   "source": [
    "from mlsquare.losses.keras import quantile_loss\n",
    "import numpy as np\n",
    "%load_ext autoreload\n",
    "%autoreload 2"
   ]
  },
  {
   "cell_type": "code",
   "execution_count": 24,
   "metadata": {},
   "outputs": [
    {
     "name": "stdout",
     "output_type": "stream",
     "text": [
      "                         QuantReg Regression Results                          \n",
      "==============================================================================\n",
      "Dep. Variable:                foodexp   Pseudo R-squared:               0.4945\n",
      "Model:                       QuantReg   Bandwidth:                      0.2613\n",
      "Method:                 Least Squares   Sparsity:                        1.303\n",
      "Date:                Tue, 24 Sep 2019   No. Observations:                  235\n",
      "Time:                        10:42:50   Df Residuals:                      233\n",
      "                                        Df Model:                            1\n",
      "==============================================================================\n",
      "                 coef    std err          t      P>|t|      [0.025      0.975]\n",
      "------------------------------------------------------------------------------\n",
      "Intercept     -0.4315      0.026    -16.758      0.000      -0.482      -0.381\n",
      "income         0.7546      0.046     16.376      0.000       0.664       0.845\n",
      "==============================================================================\n",
      "                         QuantReg Regression Results                          \n",
      "==============================================================================\n",
      "Dep. Variable:                foodexp   Pseudo R-squared:               0.6206\n",
      "Model:                       QuantReg   Bandwidth:                      0.2343\n",
      "Method:                 Least Squares   Sparsity:                       0.7584\n",
      "Date:                Tue, 24 Sep 2019   No. Observations:                  235\n",
      "Time:                        10:42:50   Df Residuals:                      233\n",
      "                                        Df Model:                            1\n",
      "==============================================================================\n",
      "                 coef    std err          t      P>|t|      [0.025      0.975]\n",
      "------------------------------------------------------------------------------\n",
      "Intercept      0.0274      0.025      1.108      0.269      -0.021       0.076\n",
      "income         1.0496      0.025     42.342      0.000       1.001       1.098\n",
      "==============================================================================\n",
      "                         QuantReg Regression Results                          \n",
      "==============================================================================\n",
      "Dep. Variable:                foodexp   Pseudo R-squared:               0.7647\n",
      "Model:                       QuantReg   Bandwidth:                      0.2177\n",
      "Method:                 Least Squares   Sparsity:                        1.232\n",
      "Date:                Tue, 24 Sep 2019   No. Observations:                  235\n",
      "Time:                        10:42:50   Df Residuals:                      233\n",
      "                                        Df Model:                            1\n",
      "==============================================================================\n",
      "                 coef    std err          t      P>|t|      [0.025      0.975]\n",
      "------------------------------------------------------------------------------\n",
      "Intercept      0.4249      0.024     17.459      0.000       0.377       0.473\n",
      "income         1.2890      0.025     52.034      0.000       1.240       1.338\n",
      "==============================================================================\n"
     ]
    }
   ],
   "source": [
    "%matplotlib inline\n",
    "\n",
    "import numpy as np\n",
    "import pandas as pd\n",
    "import statsmodels.api as sm\n",
    "import statsmodels.formula.api as smf\n",
    "import matplotlib.pyplot as plt\n",
    "from statsmodels.regression.quantile_regression import QuantReg\n",
    "\n",
    "data = sm.datasets.engel.load_pandas().data\n",
    "data.head()\n",
    "df = (data-data.mean())/data.std()\n",
    "df.head()\n",
    "mod = smf.quantreg('foodexp ~ income', df)\n",
    "res = mod.fit(q=.1)\n",
    "print(res.summary())\n",
    "res = mod.fit(q=.5)\n",
    "print(res.summary())\n",
    "res = mod.fit(q=.9)\n",
    "print(res.summary())"
   ]
  },
  {
   "cell_type": "markdown",
   "metadata": {},
   "source": [
    "# Median Regression using Keras MAE loss"
   ]
  },
  {
   "cell_type": "code",
   "execution_count": 3,
   "metadata": {},
   "outputs": [
    {
     "name": "stdout",
     "output_type": "stream",
     "text": [
      "WARNING:tensorflow:From /Users/soma/venvs/daggit/lib/python3.6/site-packages/tensorflow/python/framework/op_def_library.py:263: colocate_with (from tensorflow.python.framework.ops) is deprecated and will be removed in a future version.\n",
      "Instructions for updating:\n",
      "Colocations handled automatically by placer.\n",
      "WARNING:tensorflow:From /Users/soma/venvs/daggit/lib/python3.6/site-packages/tensorflow/python/ops/math_ops.py:3066: to_int32 (from tensorflow.python.ops.math_ops) is deprecated and will be removed in a future version.\n",
      "Instructions for updating:\n",
      "Use tf.cast instead.\n",
      "235/235 [==============================] - 0s 94us/step\n",
      "\n",
      "mean_absolute_error: 27.03%\n",
      "[array([[1.0520353]], dtype=float32), array([0.03000003], dtype=float32)]\n"
     ]
    }
   ],
   "source": [
    "# Create your first MLP in Keras\n",
    "from keras.models import Sequential\n",
    "from keras.layers import Dense\n",
    "# fix random seed for reproducibility\n",
    "X = np.array(df.loc[:,\"income\"])\n",
    "Y = np.array(df.loc[:,\"foodexp\"])\n",
    "# create model\n",
    "model = Sequential()\n",
    "model.add(Dense(1, input_dim=1, activation='linear'))\n",
    "# Compile model\n",
    "model.compile(loss='mae', optimizer='sgd', metrics=['mae'])\n",
    "# Fit the model\n",
    "model.fit(X, Y, epochs=100, batch_size=20,verbose=0)\n",
    "# evaluate the model\n",
    "scores = model.evaluate(X, Y)\n",
    "print(\"\\n%s: %.2f%%\" % (model.metrics_names[1], scores[1]*100))\n",
    "print(model.get_weights())"
   ]
  },
  {
   "cell_type": "markdown",
   "metadata": {},
   "source": [
    "# Median Regression Using custom Quantile Loss"
   ]
  },
  {
   "cell_type": "code",
   "execution_count": 5,
   "metadata": {},
   "outputs": [
    {
     "name": "stdout",
     "output_type": "stream",
     "text": [
      "235/235 [==============================] - 0s 172us/step\n",
      "\n",
      "mean_absolute_error: 27.04%\n",
      "[array([[1.033776]], dtype=float32), array([0.02433334], dtype=float32)]\n"
     ]
    }
   ],
   "source": [
    "from mlsquare.losses.keras import quantile_loss\n",
    "model = Sequential()\n",
    "model.add(Dense(1, input_dim=1, activation='linear'))\n",
    "model.compile(optimizer='sgd', metrics=['mae'],loss=quantile_loss)\n",
    "# Fit the model\n",
    "model.fit(X, Y, epochs=100, batch_size=20,verbose=0)\n",
    "# evaluate the model\n",
    "scores = model.evaluate(X, Y)\n",
    "print(\"\\n%s: %.2f%%\" % (model.metrics_names[1], scores[1]*100))\n",
    "print(model.get_weights())"
   ]
  },
  {
   "cell_type": "markdown",
   "metadata": {},
   "source": [
    "# Quantile Regression, one model for each Quantile"
   ]
  },
  {
   "cell_type": "code",
   "execution_count": 33,
   "metadata": {},
   "outputs": [
    {
     "name": "stdout",
     "output_type": "stream",
     "text": [
      "235/235 [==============================] - 0s 768us/step\n",
      "\n",
      "q1_loss: 5.96%\n",
      "[array([[0.7531248]], dtype=float32), array([-0.43300548], dtype=float32), array([[1.0518758]], dtype=float32), array([0.02616658], dtype=float32), array([[1.2921655]], dtype=float32), array([0.4230025], dtype=float32)]\n"
     ]
    }
   ],
   "source": [
    "from keras.layers import Input, Dense\n",
    "from keras.models import Model\n",
    "x = Input(shape=(1,))\n",
    "q1 = Dense(1,activation='linear',name='q1')(x)\n",
    "q2 = Dense(1,activation='linear',name='q2')(x)\n",
    "q3 = Dense(1,activation='linear',name='q3')(x)\n",
    "model = Model(inputs=x, outputs=[q1,q2,q3])\n",
    "loss = {\"q1\": quantile_loss(quantile=0.1), 'q2':quantile_loss(quantile=0.5),'q3':quantile_loss(quantile=0.9)}\n",
    "loss_weights = {\"q1\": 1.0, \"q2\": 1.0,\"q3\":1.0}\n",
    "model.compile(optimizer='sgd', metrics=['mae'],loss=loss,loss_weights=loss_weights)\n",
    "# Fit the model\n",
    "model.fit(X, [Y,Y,Y], epochs=500, batch_size=20,verbose=0)\n",
    "# evaluate the model\n",
    "scores = model.evaluate(X, [Y,Y,Y])\n",
    "print(\"\\n%s: %.2f%%\" % (model.metrics_names[1], scores[1]*100))\n",
    "print(model.get_weights())"
   ]
  },
  {
   "cell_type": "markdown",
   "metadata": {},
   "source": [
    "# Single Input, Multiple Output, Interface. But all quantiles, share the same input"
   ]
  },
  {
   "cell_type": "code",
   "execution_count": 30,
   "metadata": {},
   "outputs": [
    {
     "name": "stdout",
     "output_type": "stream",
     "text": [
      "235/235 [==============================] - 0s 624us/step\n",
      "\n",
      "mean_absolute_error: 41.57%\n",
      "[array([[0.6503008, 1.0055718, 1.1047503]], dtype=float32), array([-0.51633525,  0.02011111,  0.40517914], dtype=float32)]\n"
     ]
    }
   ],
   "source": [
    "from keras.layers import Input, Dense\n",
    "from keras.models import Model\n",
    "from mlsquare.losses.keras import quantile_ensemble_loss\n",
    "x = Input(shape=(1,))\n",
    "q = Dense(3,activation='linear',name='q1')(x)\n",
    "model = Model(inputs=x, outputs=q)\n",
    "quantiles = np.array([0.1,0.5,0.9])\n",
    "loss = quantile_ensemble_loss(quantile=quantiles)\n",
    "model.compile(optimizer='sgd', metrics=['mae'],loss=loss)\n",
    "# Fit the model\n",
    "model.fit(X, Y, epochs=500, batch_size=20,verbose=0)\n",
    "# evaluate the model\n",
    "scores = model.evaluate(X,Y)\n",
    "print(\"\\n%s: %.2f%%\" % (model.metrics_names[1], scores[1]*100))\n",
    "print(model.get_weights())"
   ]
  },
  {
   "cell_type": "markdown",
   "metadata": {},
   "source": [
    "# Single Input, Multiple Output, Interface. Quantile can be fed by arbitraty DNNs. In the end, cross-over penalty is applied"
   ]
  },
  {
   "cell_type": "code",
   "execution_count": 43,
   "metadata": {},
   "outputs": [
    {
     "name": "stdout",
     "output_type": "stream",
     "text": [
      "235/235 [==============================] - 0s 983us/step\n",
      "\n",
      "mean_absolute_error: 40.44%\n",
      "[array([[0.69779]], dtype=float32), array([-0.47458422], dtype=float32), array([[1.0511156]], dtype=float32), array([0.02738887], dtype=float32), array([[1.29023]], dtype=float32), array([0.42405877], dtype=float32), array([[1., 0., 0.],\n",
      "       [0., 1., 0.],\n",
      "       [0., 0., 1.]], dtype=float32), array([0., 0., 0.], dtype=float32)]\n"
     ]
    }
   ],
   "source": [
    "from keras.layers import Input, Dense, Concatenate, concatenate\n",
    "from keras.models import Model\n",
    "from keras import initializers\n",
    "x = Input(shape=(1,))\n",
    "q1 = Dense(1,activation='linear',name='q1')(x)\n",
    "q2 = Dense(1,activation='linear',name='q2')(x)\n",
    "q3 = Dense(1,activation='linear',name='q3')(x)\n",
    "cat = concatenate([q1,q2,q3])\n",
    "q = Dense(3,activation='linear',name='final',kernel_initializer=initializers.Identity(gain=1.0),bias_initializer=initializers.Zeros(),trainable=False)(cat)\n",
    "model = Model(inputs=x, outputs=q)\n",
    "quantiles = np.array([0.1,0.5,0.9])\n",
    "loss = quantile_ensemble_loss(quantile=quantiles)\n",
    "model.compile(optimizer='sgd', metrics=['mae'],loss=loss)\n",
    "# Fit the model\n",
    "model.fit(X, Y, epochs=500, batch_size=20,verbose=0)\n",
    "# evaluate the model\n",
    "scores = model.evaluate(X, Y)\n",
    "print(\"\\n%s: %.2f%%\" % (model.metrics_names[1], scores[1]*100))\n",
    "print(model.get_weights())"
   ]
  },
  {
   "cell_type": "code",
   "execution_count": null,
   "metadata": {},
   "outputs": [],
   "source": []
  }
 ],
 "metadata": {
  "kernelspec": {
   "display_name": "daggit",
   "language": "python",
   "name": "daggit"
  },
  "language_info": {
   "codemirror_mode": {
    "name": "ipython",
    "version": 3
   },
   "file_extension": ".py",
   "mimetype": "text/x-python",
   "name": "python",
   "nbconvert_exporter": "python",
   "pygments_lexer": "ipython3",
   "version": "3.6.5"
  }
 },
 "nbformat": 4,
 "nbformat_minor": 2
}
