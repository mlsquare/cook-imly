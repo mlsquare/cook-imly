{
 "cells": [
  {
   "cell_type": "code",
   "execution_count": 2,
   "metadata": {},
   "outputs": [],
   "source": [
    "import numpy as np\n",
    "import tensorflow as tf\n",
    "\n",
    "sess= tf.Session()"
   ]
  },
  {
   "cell_type": "code",
   "execution_count": 3,
   "metadata": {},
   "outputs": [
    {
     "data": {
      "text/plain": [
       "array([[9., 5., 5., 5.],\n",
       "       [5., 5., 5., 5.],\n",
       "       [5., 5., 5., 5.],\n",
       "       [5., 5., 5., 5.],\n",
       "       [5., 5., 5., 5.],\n",
       "       [5., 5., 5., 5.]])"
      ]
     },
     "execution_count": 3,
     "metadata": {},
     "output_type": "execute_result"
    }
   ],
   "source": [
    "mat= np.ones((6,4))*5\n",
    "mat[0,0]=9\n",
    "mat"
   ]
  },
  {
   "cell_type": "markdown",
   "metadata": {},
   "source": [
    "### With numpy svd"
   ]
  },
  {
   "cell_type": "code",
   "execution_count": 4,
   "metadata": {},
   "outputs": [],
   "source": [
    "u,s,v= np.linalg.svd(mat)"
   ]
  },
  {
   "cell_type": "code",
   "execution_count": 5,
   "metadata": {},
   "outputs": [
    {
     "name": "stdout",
     "output_type": "stream",
     "text": [
      "shapes of u, s & v:\n",
      " (6, 6) (4,) (4, 4)\n"
     ]
    }
   ],
   "source": [
    "print('shapes of u, s & v:\\n',u.shape, s.shape, v.shape)"
   ]
  },
  {
   "cell_type": "markdown",
   "metadata": {},
   "source": [
    "### With sklearn_Truncated SVD"
   ]
  },
  {
   "cell_type": "code",
   "execution_count": 6,
   "metadata": {},
   "outputs": [
    {
     "data": {
      "text/plain": [
       "TruncatedSVD(algorithm='randomized', n_components=3, n_iter=5,\n",
       "             random_state=None, tol=0.0)"
      ]
     },
     "execution_count": 6,
     "metadata": {},
     "output_type": "execute_result"
    }
   ],
   "source": [
    "from sklearn.decomposition import TruncatedSVD\n",
    "\n",
    "mod= TruncatedSVD(n_components=3)\n",
    "mod.fit(mat)"
   ]
  },
  {
   "cell_type": "code",
   "execution_count": 7,
   "metadata": {},
   "outputs": [
    {
     "data": {
      "text/plain": [
       "array([[ 1.22007331e+01,  2.67247281e+00, -3.89754130e-49],\n",
       "       [ 9.97862276e+00, -6.53519595e-01,  8.48776309e-33],\n",
       "       [ 9.97862276e+00, -6.53519595e-01, -6.86674458e-33],\n",
       "       [ 9.97862276e+00, -6.53519595e-01, -6.86674458e-33],\n",
       "       [ 9.97862276e+00, -6.53519595e-01,  2.62286304e-33],\n",
       "       [ 9.97862276e+00, -6.53519595e-01,  2.62286304e-33]])"
      ]
     },
     "execution_count": 7,
     "metadata": {},
     "output_type": "execute_result"
    }
   ],
   "source": [
    "x_trans = mod.fit_transform(mat)\n",
    "x_trans"
   ]
  },
  {
   "cell_type": "code",
   "execution_count": 8,
   "metadata": {
    "scrolled": false
   },
   "outputs": [
    {
     "data": {
      "text/plain": [
       "(6, 3)"
      ]
     },
     "execution_count": 8,
     "metadata": {},
     "output_type": "execute_result"
    }
   ],
   "source": [
    "x_trans.shape"
   ]
  },
  {
   "cell_type": "code",
   "execution_count": 9,
   "metadata": {
    "scrolled": false
   },
   "outputs": [
    {
     "data": {
      "text/plain": [
       "array([[ 1.22007331e+01,  2.67247281e+00,  3.44169138e-15],\n",
       "       [ 9.97862276e+00, -6.53519595e-01,  3.44169138e-15],\n",
       "       [ 9.97862276e+00, -6.53519595e-01,  3.44169138e-15],\n",
       "       [ 9.97862276e+00, -6.53519595e-01,  3.44169138e-15],\n",
       "       [ 9.97862276e+00, -6.53519595e-01,  3.44169138e-15],\n",
       "       [ 9.97862276e+00, -6.53519595e-01,  3.44169138e-15]])"
      ]
     },
     "execution_count": 9,
     "metadata": {},
     "output_type": "execute_result"
    }
   ],
   "source": [
    "trans= mod.transform(mat)# np.dot(mat, mod.components_.T)\n",
    "trans"
   ]
  },
  {
   "cell_type": "markdown",
   "metadata": {},
   "source": [
    "* **Fit & Fit_transform yields are equivalent in sklearn svd**"
   ]
  },
  {
   "cell_type": "code",
   "execution_count": 10,
   "metadata": {
    "scrolled": true
   },
   "outputs": [
    {
     "data": {
      "text/plain": [
       "True"
      ]
     },
     "execution_count": 10,
     "metadata": {},
     "output_type": "execute_result"
    }
   ],
   "source": [
    "np.allclose(x_trans, trans)"
   ]
  },
  {
   "cell_type": "markdown",
   "metadata": {},
   "source": [
    "### With `tf.linalg.SVD`"
   ]
  },
  {
   "cell_type": "code",
   "execution_count": 11,
   "metadata": {},
   "outputs": [],
   "source": [
    "st,ut,vt= sess.run(tf.linalg.svd(mat, full_matrices=True))"
   ]
  },
  {
   "cell_type": "code",
   "execution_count": 12,
   "metadata": {
    "scrolled": true
   },
   "outputs": [
    {
     "name": "stdout",
     "output_type": "stream",
     "text": [
      "shapes of ut, st & vt:\n",
      " (6, 6) (4,) (4, 4)\n"
     ]
    }
   ],
   "source": [
    "print('shapes of ut, st & vt:\\n',ut.shape, st.shape, vt.shape)"
   ]
  },
  {
   "cell_type": "markdown",
   "metadata": {},
   "source": [
    "**Comparing values**\n",
    "* 1. sigma val from tf vs. sigma val from skl"
   ]
  },
  {
   "cell_type": "code",
   "execution_count": 13,
   "metadata": {},
   "outputs": [
    {
     "data": {
      "text/plain": [
       "array([2.54307383e+01, 3.04590712e+00, 3.53270803e-16])"
      ]
     },
     "execution_count": 13,
     "metadata": {},
     "output_type": "execute_result"
    }
   ],
   "source": [
    "st[:3]#sigma val from tf"
   ]
  },
  {
   "cell_type": "code",
   "execution_count": 14,
   "metadata": {},
   "outputs": [
    {
     "data": {
      "text/plain": [
       "array([2.54307383e+01, 3.04590712e+00, 1.34203318e-32])"
      ]
     },
     "execution_count": 14,
     "metadata": {},
     "output_type": "execute_result"
    }
   ],
   "source": [
    "mod.singular_values_#sigma val from skl"
   ]
  },
  {
   "cell_type": "markdown",
   "metadata": {},
   "source": [
    "**Both yield Similar Sigma values**"
   ]
  },
  {
   "cell_type": "code",
   "execution_count": 15,
   "metadata": {},
   "outputs": [
    {
     "data": {
      "text/plain": [
       "True"
      ]
     },
     "execution_count": 15,
     "metadata": {},
     "output_type": "execute_result"
    }
   ],
   "source": [
    "np.allclose(st[:3], mod.singular_values_)"
   ]
  },
  {
   "cell_type": "markdown",
   "metadata": {},
   "source": [
    "* 2. right singular vec from tf vs skl "
   ]
  },
  {
   "cell_type": "code",
   "execution_count": 16,
   "metadata": {},
   "outputs": [
    {
     "data": {
      "text/plain": [
       "array([[ 5.55527595e-01,  4.80065652e-01,  4.80065652e-01],\n",
       "       [-8.31498101e-01,  3.20734007e-01,  3.20734007e-01],\n",
       "       [ 1.66533454e-16, -7.07106781e-01,  7.07106781e-01],\n",
       "       [ 5.55111512e-17, -4.08248290e-01, -4.08248290e-01]])"
      ]
     },
     "execution_count": 16,
     "metadata": {},
     "output_type": "execute_result"
    }
   ],
   "source": [
    "vt[:3,:].T#right singular vec from tf"
   ]
  },
  {
   "cell_type": "code",
   "execution_count": 17,
   "metadata": {},
   "outputs": [
    {
     "data": {
      "text/plain": [
       "array([[ 0.5555276 ,  0.48006565,  0.48006565,  0.48006565],\n",
       "       [ 0.8314981 , -0.32073401, -0.32073401, -0.32073401],\n",
       "       [ 0.        ,  0.81649658, -0.40824829, -0.40824829]])"
      ]
     },
     "execution_count": 17,
     "metadata": {},
     "output_type": "execute_result"
    }
   ],
   "source": [
    "mod.components_#right singular vec from sklearn"
   ]
  },
  {
   "cell_type": "code",
   "execution_count": 18,
   "metadata": {},
   "outputs": [
    {
     "data": {
      "text/plain": [
       "array([[-0.5555276 , -0.48006565, -0.48006565, -0.48006565],\n",
       "       [ 0.8314981 , -0.32073401, -0.32073401, -0.32073401],\n",
       "       [ 0.        , -0.57735027, -0.21132487,  0.78867513],\n",
       "       [ 0.        , -0.57735027,  0.78867513, -0.21132487]])"
      ]
     },
     "execution_count": 18,
     "metadata": {},
     "output_type": "execute_result"
    }
   ],
   "source": [
    "np.linalg.svd(mat, full_matrices=False)[2]#right singular values from numpy"
   ]
  },
  {
   "cell_type": "code",
   "execution_count": 19,
   "metadata": {},
   "outputs": [
    {
     "data": {
      "text/plain": [
       "True"
      ]
     },
     "execution_count": 19,
     "metadata": {},
     "output_type": "execute_result"
    }
   ],
   "source": [
    "np.allclose(vt.T[0,:], mod.components_[0])\n",
    "#similar Sigma values for 1st col from tf & sklearn"
   ]
  },
  {
   "cell_type": "code",
   "execution_count": 20,
   "metadata": {},
   "outputs": [
    {
     "data": {
      "text/plain": [
       "False"
      ]
     },
     "execution_count": 20,
     "metadata": {},
     "output_type": "execute_result"
    }
   ],
   "source": [
    "np.allclose(vt.T[:3,:], mod.components_)\n",
    "#dissimilar Sigma values othewise from both"
   ]
  },
  {
   "cell_type": "markdown",
   "metadata": {},
   "source": [
    "* 3. left singular vec from tf vs. skl"
   ]
  },
  {
   "cell_type": "code",
   "execution_count": 21,
   "metadata": {
    "scrolled": true
   },
   "outputs": [
    {
     "data": {
      "text/plain": [
       "array([[ 4.79763230e-01, -8.77397996e-01, -5.78784447e-18],\n",
       "       [ 3.92384312e-01,  2.14556639e-01,  8.94427191e-01],\n",
       "       [ 3.92384312e-01,  2.14556639e-01, -2.23606798e-01],\n",
       "       [ 3.92384312e-01,  2.14556639e-01, -2.23606798e-01],\n",
       "       [ 3.92384312e-01,  2.14556639e-01, -2.23606798e-01],\n",
       "       [ 3.92384312e-01,  2.14556639e-01, -2.23606798e-01]])"
      ]
     },
     "execution_count": 21,
     "metadata": {},
     "output_type": "execute_result"
    }
   ],
   "source": [
    "ut[:,:3]#left singular vec from tf"
   ]
  },
  {
   "cell_type": "code",
   "execution_count": 22,
   "metadata": {},
   "outputs": [
    {
     "data": {
      "text/plain": [
       "array([[ 4.79763230e-01,  8.77397996e-01,  1.42543000e-16],\n",
       "       [ 3.92384312e-01, -2.14556639e-01,  8.93306378e-01],\n",
       "       [ 3.92384312e-01, -2.14556639e-01, -2.48349806e-01],\n",
       "       [ 3.92384312e-01, -2.14556639e-01, -1.81621243e-01],\n",
       "       [ 3.92384312e-01, -2.14556639e-01, -2.31667665e-01],\n",
       "       [ 3.92384312e-01, -2.14556639e-01, -2.31667665e-01]])"
      ]
     },
     "execution_count": 22,
     "metadata": {},
     "output_type": "execute_result"
    }
   ],
   "source": [
    "from sklearn.utils.extmath import randomized_svd\n",
    "usk,ssk,vsk= randomized_svd(mat, n_components=3, n_iter=5, random_state=None)\n",
    "\n",
    "usk#left singular vec from tf"
   ]
  },
  {
   "cell_type": "code",
   "execution_count": 23,
   "metadata": {},
   "outputs": [
    {
     "data": {
      "text/plain": [
       "False"
      ]
     },
     "execution_count": 23,
     "metadata": {},
     "output_type": "execute_result"
    }
   ],
   "source": [
    "np.allclose(ut[:,:3], usk)#dissimilar left singular values from both"
   ]
  },
  {
   "cell_type": "markdown",
   "metadata": {},
   "source": [
    "* 4. fit_transfrom from tf svd vs. skl svd"
   ]
  },
  {
   "cell_type": "code",
   "execution_count": 24,
   "metadata": {},
   "outputs": [
    {
     "data": {
      "text/plain": [
       "array([[ 1.22007331e+01,  2.67247281e+00, -1.59130736e-47],\n",
       "       [ 9.97862276e+00, -6.53519595e-01,  9.08954444e-32],\n",
       "       [ 9.97862276e+00, -6.53519595e-01, -7.35359592e-32],\n",
       "       [ 9.97862276e+00, -6.53519595e-01, -7.35359592e-32],\n",
       "       [ 9.97862276e+00, -6.53519595e-01,  2.80882370e-32],\n",
       "       [ 9.97862276e+00, -6.53519595e-01,  2.80882370e-32]])"
      ]
     },
     "execution_count": 24,
     "metadata": {},
     "output_type": "execute_result"
    }
   ],
   "source": [
    "trans= mod.fit_transform(mat)\n",
    "trans #skearn's fit_transform"
   ]
  },
  {
   "cell_type": "code",
   "execution_count": 25,
   "metadata": {},
   "outputs": [
    {
     "data": {
      "text/plain": [
       "array([[ 1.22007331e+01, -2.67247281e+00, -2.04467647e-33],\n",
       "       [ 9.97862276e+00,  6.53519595e-01,  3.15975012e-16],\n",
       "       [ 9.97862276e+00,  6.53519595e-01, -7.89937530e-17],\n",
       "       [ 9.97862276e+00,  6.53519595e-01, -7.89937530e-17],\n",
       "       [ 9.97862276e+00,  6.53519595e-01, -7.89937530e-17],\n",
       "       [ 9.97862276e+00,  6.53519595e-01, -7.89937530e-17]])"
      ]
     },
     "execution_count": 25,
     "metadata": {},
     "output_type": "execute_result"
    }
   ],
   "source": [
    "ut[:,:3]*st[:3] #tf's fit_transform"
   ]
  },
  {
   "cell_type": "code",
   "execution_count": 27,
   "metadata": {},
   "outputs": [
    {
     "data": {
      "text/plain": [
       "False"
      ]
     },
     "execution_count": 27,
     "metadata": {},
     "output_type": "execute_result"
    }
   ],
   "source": [
    "np.allclose(trans, ut[:,:3]*st[:3])"
   ]
  },
  {
   "cell_type": "code",
   "execution_count": 29,
   "metadata": {},
   "outputs": [
    {
     "data": {
      "text/plain": [
       "array([[ 1.22007331e+01, -2.67247281e+00, -2.04467647e-33],\n",
       "       [ 9.97862276e+00,  6.53519595e-01,  3.15975012e-16],\n",
       "       [ 9.97862276e+00,  6.53519595e-01, -7.89937530e-17],\n",
       "       [ 9.97862276e+00,  6.53519595e-01, -7.89937530e-17],\n",
       "       [ 9.97862276e+00,  6.53519595e-01, -7.89937530e-17],\n",
       "       [ 9.97862276e+00,  6.53519595e-01, -7.89937530e-17]])"
      ]
     },
     "execution_count": 29,
     "metadata": {},
     "output_type": "execute_result"
    }
   ],
   "source": [
    "st,ut,vt= tf.linalg.svd(mat, full_matrices=False)\n",
    "sess.run(tf.matmul(ut[:,:3], tf.linalg.diag(st[:3])))#X_transform similar to mod.fit_trasform above"
   ]
  }
 ],
 "metadata": {
  "kernelspec": {
   "display_name": "Python 3",
   "language": "python",
   "name": "python3"
  },
  "language_info": {
   "codemirror_mode": {
    "name": "ipython",
    "version": 3
   },
   "file_extension": ".py",
   "mimetype": "text/x-python",
   "name": "python",
   "nbconvert_exporter": "python",
   "pygments_lexer": "ipython3",
   "version": "3.6.8"
  }
 },
 "nbformat": 4,
 "nbformat_minor": 2
}
