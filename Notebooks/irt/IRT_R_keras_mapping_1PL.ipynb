{
 "cells": [
  {
   "cell_type": "markdown",
   "metadata": {},
   "source": [
    "### Assuming user intend to interact with IRT via following 3 schemes:\n",
    "**Scheme 1.** Using all available defaults.\n",
    "\n",
    "**Scheme 2.** Changing some values and passing new vals to model params.\n",
    "\n",
    "**Scheme 3.** User bringing in all initializer objects nad passing corresponding object declarations to model_params."
   ]
  },
  {
   "cell_type": "markdown",
   "metadata": {},
   "source": [
    "#### Building onto saved dataframe,  following  function appends/extends new records to existing dataset using 'n' bernouli trials."
   ]
  },
  {
   "cell_type": "code",
   "execution_count": 1,
   "metadata": {},
   "outputs": [
    {
     "name": "stdout",
     "output_type": "stream",
     "text": [
      "# of sim user: 100 \n",
      "# of sim items: 3\n",
      "Extended df size: (3300, 3)\n"
     ]
    }
   ],
   "source": [
    "import pandas as pd\n",
    "import numpy as np\n",
    "num_sim_users = 100\n",
    "num_sim_items = 3\n",
    "print('# of sim user:',num_sim_users,'\\n# of sim items:',num_sim_items)\n",
    "\n",
    "df_cols = ['user','questions', 'response']\n",
    "\n",
    "def add_data(array, trials_per_user):\n",
    "    array_li= array.tolist()#list of tuples\n",
    "    dock_list=list()#holds tuples generated from trials\n",
    "    for u, i, prob in array_li:\n",
    "        success_failure_arr = np.random.binomial(1, prob, trials_per_user)\n",
    "        \n",
    "        for resp in success_failure_arr:\n",
    "            dock_list.append([u,i, resp])\n",
    "        \n",
    "    array_li+=dock_list\n",
    "    return np.array(array_li)\n",
    "\n",
    "c_probs= pd.read_csv('simulated_data_c_probs.csv')\n",
    "df_mat = add_data(c_probs.values, trials_per_user=10)\n",
    "df_sim = pd.DataFrame(df_mat, columns=df_cols)\n",
    "print('Extended df size:', df_sim.shape)"
   ]
  },
  {
   "cell_type": "code",
   "execution_count": 2,
   "metadata": {
    "scrolled": false
   },
   "outputs": [
    {
     "data": {
      "text/html": [
       "<div>\n",
       "<style scoped>\n",
       "    .dataframe tbody tr th:only-of-type {\n",
       "        vertical-align: middle;\n",
       "    }\n",
       "\n",
       "    .dataframe tbody tr th {\n",
       "        vertical-align: top;\n",
       "    }\n",
       "\n",
       "    .dataframe thead th {\n",
       "        text-align: right;\n",
       "    }\n",
       "</style>\n",
       "<table border=\"1\" class=\"dataframe\">\n",
       "  <thead>\n",
       "    <tr style=\"text-align: right;\">\n",
       "      <th></th>\n",
       "      <th>user</th>\n",
       "      <th>questions</th>\n",
       "      <th>response</th>\n",
       "    </tr>\n",
       "  </thead>\n",
       "  <tbody>\n",
       "    <tr>\n",
       "      <td>0</td>\n",
       "      <td>92.0</td>\n",
       "      <td>0.0</td>\n",
       "      <td>1</td>\n",
       "    </tr>\n",
       "    <tr>\n",
       "      <td>1</td>\n",
       "      <td>86.0</td>\n",
       "      <td>2.0</td>\n",
       "      <td>1</td>\n",
       "    </tr>\n",
       "    <tr>\n",
       "      <td>2</td>\n",
       "      <td>57.0</td>\n",
       "      <td>1.0</td>\n",
       "      <td>1</td>\n",
       "    </tr>\n",
       "  </tbody>\n",
       "</table>\n",
       "</div>"
      ],
      "text/plain": [
       "   user  questions  response\n",
       "0  92.0        0.0         1\n",
       "1  86.0        2.0         1\n",
       "2  57.0        1.0         1"
      ]
     },
     "execution_count": 2,
     "metadata": {},
     "output_type": "execute_result"
    }
   ],
   "source": [
    "df_sim['response']=df_sim['response'].apply(lambda x: int(np.round(x)))\n",
    "df_sim.head(3)"
   ]
  },
  {
   "cell_type": "markdown",
   "metadata": {},
   "source": [
    "### A GeneralisedIrtModel class defines a keras model with following two parameterization schemes for 1PL:\n",
    "**Scheme 1.** `P{i=1,j} = c_j+ (1- c_j)*Sigmoid[a_j*(t_i - b_j)]`\n",
    "        * P(i,j) = Prob of i-th student, correctly scoring on j-th\n",
    "          item.\n",
    "        * t_i= Degree of latent trait of i-th student\n",
    "        * b_j= difficulty_level of j-th question\n",
    "        * a_j= discrimination parameter of j-th question\n",
    "        * c_j= pseudo guessing parameter of j-th question\n",
    "    \n",
    "**Scheme 2.** `P{i=1,j} = c_j+ (1- c_j)*Sigmoid[alpha_j + lamda_j*t_i]`\n",
    "        * P(i,j) = Prob of i-th student, correctly scoring on j-th\n",
    "          item.\n",
    "        * t_i= Degree of latent trait of i-th student\n",
    "        * b_j= difficulty_level of j-th question\n",
    "        * `lamda_j / a_j`= discrimination parameter of j-th question\n",
    "        * alpha_j= -lam_j*b_j.\n",
    "        * c_j = pseudo guessing parameter of j-th question\n",
    "\n",
    "        \n",
    "\n"
   ]
  },
  {
   "cell_type": "markdown",
   "metadata": {},
   "source": [
    "#### Now using  dataset  from above, train a keras 1/2/3PL proxy models model using an mlsquare adapter."
   ]
  },
  {
   "cell_type": "code",
   "execution_count": 3,
   "metadata": {},
   "outputs": [
    {
     "name": "stderr",
     "output_type": "stream",
     "text": [
      "Using TensorFlow backend.\n",
      "/home/kev/Desktop/pyvirtual2/lib/python3.6/site-packages/tensorflow/python/framework/dtypes.py:526: FutureWarning: Passing (type, 1) or '1type' as a synonym of type is deprecated; in a future version of numpy, it will be understood as (type, (1,)) / '(1,)type'.\n",
      "  _np_qint8 = np.dtype([(\"qint8\", np.int8, 1)])\n",
      "/home/kev/Desktop/pyvirtual2/lib/python3.6/site-packages/tensorflow/python/framework/dtypes.py:527: FutureWarning: Passing (type, 1) or '1type' as a synonym of type is deprecated; in a future version of numpy, it will be understood as (type, (1,)) / '(1,)type'.\n",
      "  _np_quint8 = np.dtype([(\"quint8\", np.uint8, 1)])\n",
      "/home/kev/Desktop/pyvirtual2/lib/python3.6/site-packages/tensorflow/python/framework/dtypes.py:528: FutureWarning: Passing (type, 1) or '1type' as a synonym of type is deprecated; in a future version of numpy, it will be understood as (type, (1,)) / '(1,)type'.\n",
      "  _np_qint16 = np.dtype([(\"qint16\", np.int16, 1)])\n",
      "/home/kev/Desktop/pyvirtual2/lib/python3.6/site-packages/tensorflow/python/framework/dtypes.py:529: FutureWarning: Passing (type, 1) or '1type' as a synonym of type is deprecated; in a future version of numpy, it will be understood as (type, (1,)) / '(1,)type'.\n",
      "  _np_quint16 = np.dtype([(\"quint16\", np.uint16, 1)])\n",
      "/home/kev/Desktop/pyvirtual2/lib/python3.6/site-packages/tensorflow/python/framework/dtypes.py:530: FutureWarning: Passing (type, 1) or '1type' as a synonym of type is deprecated; in a future version of numpy, it will be understood as (type, (1,)) / '(1,)type'.\n",
      "  _np_qint32 = np.dtype([(\"qint32\", np.int32, 1)])\n",
      "/home/kev/Desktop/pyvirtual2/lib/python3.6/site-packages/tensorflow/python/framework/dtypes.py:535: FutureWarning: Passing (type, 1) or '1type' as a synonym of type is deprecated; in a future version of numpy, it will be understood as (type, (1,)) / '(1,)type'.\n",
      "  np_resource = np.dtype([(\"resource\", np.ubyte, 1)])\n"
     ]
    },
    {
     "name": "stdout",
     "output_type": "stream",
     "text": [
      "shape of simulated x_train_user: (3135, 100) \n",
      "shape of simulated  x_train_questions: (3135, 3) \n",
      "shape of simulated  y_train: (3135,)\n"
     ]
    }
   ],
   "source": [
    "from keras.utils import to_categorical\n",
    "from sklearn.model_selection import train_test_split\n",
    "\n",
    "xtrain, xtest, ytrain, ytest = train_test_split(df_sim[df_cols[:-1]], df_sim[df_cols[-1]], test_size=0.05)\n",
    "\n",
    "x_train_user = to_categorical(xtrain['user'], num_classes=num_sim_users)#contains the one-hot encoded user data\n",
    "x_train_questions = pd.get_dummies(xtrain['questions']).values#contains the one-hot encoded questions\n",
    "\n",
    "y_train= ytrain.values\n",
    "print('shape of simulated x_train_user:', x_train_user.shape,'\\nshape of simulated  x_train_questions:', x_train_questions.shape,\n",
    "      '\\nshape of simulated  y_train:',y_train.shape)"
   ]
  },
  {
   "cell_type": "markdown",
   "metadata": {},
   "source": [
    "#### View regsitered IRT proxy models & adapters from mlsquare registry"
   ]
  },
  {
   "cell_type": "code",
   "execution_count": 4,
   "metadata": {
    "scrolled": false
   },
   "outputs": [
    {
     "name": "stderr",
     "output_type": "stream",
     "text": [
      "2020-01-09 18:31:02,578\tINFO node.py:423 -- Process STDOUT and STDERR is being redirected to /tmp/ray/session_2020-01-09_18-31-02_11087/logs.\n",
      "2020-01-09 18:31:02,714\tINFO services.py:363 -- Waiting for redis server at 127.0.0.1:47720 to respond...\n",
      "2020-01-09 18:31:02,845\tINFO services.py:363 -- Waiting for redis server at 127.0.0.1:23229 to respond...\n",
      "2020-01-09 18:31:02,853\tINFO services.py:760 -- Starting Redis shard with 20.0 GB max memory.\n",
      "2020-01-09 18:31:02,898\tINFO services.py:1384 -- Starting the Plasma object store with 1.0 GB memory using /dev/shm.\n"
     ]
    },
    {
     "data": {
      "text/plain": [
       "{('sklearn',\n",
       "  'TruncatedSVD'): {'default': [<mlsquare.architectures.sklearn.SVD at 0x7f8a5170b668>,\n",
       "   mlsquare.adapters.sklearn.SklearnTfTransformer]},\n",
       " ('sklearn',\n",
       "  'LogisticRegression'): {'default': [<mlsquare.architectures.sklearn.LogisticRegression at 0x7f8a5170bb38>,\n",
       "   mlsquare.adapters.sklearn.SklearnKerasClassifier]},\n",
       " ('sklearn',\n",
       "  'LinearRegression'): {'default': [<mlsquare.architectures.sklearn.LinearRegression at 0x7f8a5170bcf8>,\n",
       "   mlsquare.adapters.sklearn.SklearnKerasRegressor]},\n",
       " ('sklearn',\n",
       "  'Ridge'): {'default': [<mlsquare.architectures.sklearn.Ridge at 0x7f8a5170beb8>,\n",
       "   mlsquare.adapters.sklearn.SklearnKerasRegressor]},\n",
       " ('sklearn',\n",
       "  'Lasso'): {'default': [<mlsquare.architectures.sklearn.Lasso at 0x7f8a517290b8>,\n",
       "   mlsquare.adapters.sklearn.SklearnKerasRegressor]},\n",
       " ('sklearn',\n",
       "  'ElasticNet'): {'default': [<mlsquare.architectures.sklearn.ElasticNet at 0x7f8a51729278>,\n",
       "   mlsquare.adapters.sklearn.SklearnKerasRegressor]},\n",
       " ('sklearn',\n",
       "  'LinearSVC'): {'default': [<mlsquare.architectures.sklearn.LinearSVC at 0x7f8a51729438>,\n",
       "   mlsquare.adapters.sklearn.SklearnKerasClassifier]},\n",
       " ('sklearn',\n",
       "  'SVC'): {'default': [<mlsquare.architectures.sklearn.SVC at 0x7f8a51729780>,\n",
       "   mlsquare.adapters.sklearn.SklearnKerasClassifier]},\n",
       " ('sklearn',\n",
       "  'DecisionTreeClassifier'): {'default': [<mlsquare.architectures.sklearn.DecisionTreeClassifier at 0x7f8a51729ac8>,\n",
       "   mlsquare.adapters.sklearn.SklearnKerasClassifier]},\n",
       " ('mlsquare',\n",
       "  'rasch'): {'default': [<mlsquare.architectures.irt.KerasIrt1PLModel at 0x7f8a5145a7b8>,\n",
       "   mlsquare.adapters.sklearn.IrtKerasRegressor]},\n",
       " ('mlsquare',\n",
       "  'twoPl'): {'default': [<mlsquare.architectures.irt.KerasIrt2PLModel at 0x7f8a5145aa20>,\n",
       "   mlsquare.adapters.sklearn.IrtKerasRegressor]},\n",
       " ('mlsquare',\n",
       "  'tpm'): {'default': [<mlsquare.architectures.irt.KerasIrt3PLModel at 0x7f8a5145acc0>,\n",
       "   mlsquare.adapters.sklearn.IrtKerasRegressor]}}"
      ]
     },
     "execution_count": 4,
     "metadata": {},
     "output_type": "execute_result"
    }
   ],
   "source": [
    "from mlsquare import registry\n",
    "reg= registry.data\n",
    "reg"
   ]
  },
  {
   "cell_type": "markdown",
   "metadata": {},
   "source": [
    "### Scheme 1.  Using available defaults"
   ]
  },
  {
   "cell_type": "markdown",
   "metadata": {},
   "source": [
    "#### Doping Rasch(1PL) primal model class & performing a fit."
   ]
  },
  {
   "cell_type": "code",
   "execution_count": 5,
   "metadata": {},
   "outputs": [],
   "source": [
    "from mlsquare import dope"
   ]
  },
  {
   "cell_type": "code",
   "execution_count": 6,
   "metadata": {},
   "outputs": [
    {
     "data": {
      "text/plain": [
       "rasch(Hessian=True, IRT_param=True, constraint='NULL', control=[], data=None,\n",
       "      na_action='NULL', start_val='NULL')"
      ]
     },
     "execution_count": 6,
     "metadata": {},
     "output_type": "execute_result"
    }
   ],
   "source": [
    "from mlsquare.embibe.irt import rasch\n",
    "\n",
    "primal1= rasch()\n",
    "primal1"
   ]
  },
  {
   "cell_type": "code",
   "execution_count": 7,
   "metadata": {},
   "outputs": [
    {
     "name": "stderr",
     "output_type": "stream",
     "text": [
      "Transpiling your model to it's Deep Neural Network equivalent...\n"
     ]
    }
   ],
   "source": [
    "model1pl= dope(primal1)"
   ]
  },
  {
   "cell_type": "code",
   "execution_count": 8,
   "metadata": {},
   "outputs": [
    {
     "name": "stdout",
     "output_type": "stream",
     "text": [
      "\n",
      "Intitializing fit for rasch model. . .\n",
      "Batch_size: 64; epochs: 40;\n",
      "WARNING:tensorflow:From /home/kev/Desktop/pyvirtual2/lib/python3.6/site-packages/tensorflow/python/ops/resource_variable_ops.py:435: colocate_with (from tensorflow.python.framework.ops) is deprecated and will be removed in a future version.\n",
      "Instructions for updating:\n",
      "Colocations handled automatically by placer.\n",
      "WARNING:tensorflow:From /home/kev/Desktop/pyvirtual2/lib/python3.6/site-packages/tensorflow/python/ops/math_ops.py:3066: to_int32 (from tensorflow.python.ops.math_ops) is deprecated and will be removed in a future version.\n",
      "Instructions for updating:\n",
      "Use tf.cast instead.\n",
      "\n",
      "Training on : 3135 samples for : 40 epochs has completed in : 2.551 seconds.\n",
      "\n",
      "Use object.plot() to view train/validation loss curves;\n",
      "Use `object.history` to obtain train/validation loss across all the epochs.\n",
      "Use `object.coefficients()` to obtain model parameters--difficulty, discrimination & guessing\n"
     ]
    },
    {
     "data": {
      "text/plain": [
       "<mlsquare.adapters.sklearn.IrtKerasRegressor at 0x7f8a9cb2ab00>"
      ]
     },
     "execution_count": 8,
     "metadata": {},
     "output_type": "execute_result"
    }
   ],
   "source": [
    "model1pl.fit(x_user=x_train_user,x_questions=x_train_questions,\n",
    "          y_vals=y_train, batch_size=64, epochs=40)"
   ]
  },
  {
   "cell_type": "code",
   "execution_count": 9,
   "metadata": {},
   "outputs": [
    {
     "name": "stdout",
     "output_type": "stream",
     "text": [
      "Model: \"model_1\"\n",
      "__________________________________________________________________________________________________\n",
      "Layer (type)                    Output Shape         Param #     Connected to                     \n",
      "==================================================================================================\n",
      "questions/items (InputLayer)    (None, 3)            0                                            \n",
      "__________________________________________________________________________________________________\n",
      "user_id (InputLayer)            (None, 100)          0                                            \n",
      "__________________________________________________________________________________________________\n",
      "disc_param (Dense)              (None, 1)            3           questions/items[0][0]            \n",
      "__________________________________________________________________________________________________\n",
      "latent_trait/ability (Dense)    (None, 1)            100         user_id[0][0]                    \n",
      "__________________________________________________________________________________________________\n",
      "difficulty_level (Dense)        (None, 1)            3           questions/items[0][0]            \n",
      "__________________________________________________________________________________________________\n",
      "lambda_latent_inter. (Multiply) (None, 1)            0           disc_param[0][0]                 \n",
      "                                                                 latent_trait/ability[0][0]       \n",
      "__________________________________________________________________________________________________\n",
      "alpha_param. (Multiply)         (None, 1)            0           disc_param[0][0]                 \n",
      "                                                                 difficulty_level[0][0]           \n",
      "__________________________________________________________________________________________________\n",
      "guessing_param (Dense)          (None, 1)            3           questions/items[0][0]            \n",
      "__________________________________________________________________________________________________\n",
      "alpha_lambda_add (Subtract)     (None, 1)            0           lambda_latent_inter.[0][0]       \n",
      "                                                                 alpha_param.[0][0]               \n",
      "__________________________________________________________________________________________________\n",
      "Sigmoid_func (Activation)       (None, 1)            0           alpha_lambda_add[0][0]           \n",
      "__________________________________________________________________________________________________\n",
      "guess_param_inter. (Lambda)     (None, 1)            0           guessing_param[0][0]             \n",
      "__________________________________________________________________________________________________\n",
      "disc/guess_param_inter. (Multip (None, 1)            0           Sigmoid_func[0][0]               \n",
      "                                                                 guess_param_inter.[0][0]         \n",
      "__________________________________________________________________________________________________\n",
      "guess_param_inter/add (Add)     (None, 1)            0           guessing_param[0][0]             \n",
      "                                                                 disc/guess_param_inter.[0][0]    \n",
      "__________________________________________________________________________________________________\n",
      "prediction_layer (Dense)        (None, 1)            1           guess_param_inter/add[0][0]      \n",
      "==================================================================================================\n",
      "Total params: 110\n",
      "Trainable params: 103\n",
      "Non-trainable params: 7\n",
      "__________________________________________________________________________________________________\n"
     ]
    }
   ],
   "source": [
    "model1pl.model.summary()"
   ]
  },
  {
   "cell_type": "markdown",
   "metadata": {},
   "source": [
    "#### Obtaining underlying trained Rasch(1pl) parameters from doped model"
   ]
  },
  {
   "cell_type": "code",
   "execution_count": 10,
   "metadata": {},
   "outputs": [
    {
     "data": {
      "text/plain": [
       "{'difficulty_level': array([[0.09145481],\n",
       "        [0.17275578],\n",
       "        [0.4433803 ]], dtype=float32), 'disc_param': array([[1.],\n",
       "        [1.],\n",
       "        [1.]], dtype=float32), 'guessing_param': array([[0.],\n",
       "        [0.],\n",
       "        [0.]], dtype=float32)}"
      ]
     },
     "execution_count": 10,
     "metadata": {},
     "output_type": "execute_result"
    }
   ],
   "source": [
    "model1pl.coefficients()"
   ]
  },
  {
   "cell_type": "markdown",
   "metadata": {},
   "source": [
    "* **Train Vs. Validation loss curves for simulated dataset**"
   ]
  },
  {
   "cell_type": "code",
   "execution_count": 11,
   "metadata": {},
   "outputs": [
    {
     "data": {
      "image/png": "[encoded data removed]",
      "text/plain": [
       "<Figure size 432x288 with 1 Axes>"
      ]
     },
     "metadata": {
      "needs_background": "light"
     },
     "output_type": "display_data"
    }
   ],
   "source": [
    "model1pl.plot()"
   ]
  },
  {
   "cell_type": "markdown",
   "metadata": {},
   "source": [
    "* **Following are the available default configs(backend-distributions)**"
   ]
  },
  {
   "cell_type": "code",
   "execution_count": 12,
   "metadata": {},
   "outputs": [
    {
     "data": {
      "text/plain": [
       "{'backend': {'keras': {'distrib': {'normal': {'mean': 0, 'stddev': 0},\n",
       "    'uniform': {'minval': 0, 'maxval': 0, 'distrib': 'uniform'}}},\n",
       "  'pytorch': {'distrib': {'normal': {'mean': 0, 'stddev': 0},\n",
       "    'uniform': {'minval': 0, 'maxval': 0, 'distrib': 'uniform'}}}}}"
      ]
     },
     "execution_count": 12,
     "metadata": {},
     "output_type": "execute_result"
    }
   ],
   "source": [
    "model1pl.proxy_model.default_backend_dist_params"
   ]
  },
  {
   "cell_type": "markdown",
   "metadata": {},
   "source": [
    "* **For existing configs, following is the updated dictionary(containing initializer objects as a result of `get_initializers()`) taking reference configs from `default_backend_dist_params` dictionary above.**"
   ]
  },
  {
   "cell_type": "code",
   "execution_count": 13,
   "metadata": {},
   "outputs": [
    {
     "data": {
      "text/plain": [
       "{'ability_params': {'units': 1,\n",
       "  'kernel_params': {},\n",
       "  'kernel': <keras.initializers.RandomNormal at 0x7f8a5145a828>},\n",
       " 'diff_params': {'units': 1,\n",
       "  'kernel_params': {},\n",
       "  'kernel': <keras.initializers.RandomNormal at 0x7f8a5145a860>},\n",
       " 'disc_params': {'units': 1,\n",
       "  'kernel_params': {'stddev': 0},\n",
       "  'train': False,\n",
       "  'act': 'exponential',\n",
       "  'kernel': <keras.initializers.RandomNormal at 0x7f8a5145a8d0>},\n",
       " 'guess_params': {'units': 1,\n",
       "  'kernel_params': {'distrib': 'uniform'},\n",
       "  'train': False,\n",
       "  'act': 'linear',\n",
       "  'slip': 0,\n",
       "  'kernel': <keras.initializers.RandomUniform at 0x7f8a5145a908>},\n",
       " 'regularizers': {'l1': 0, 'l2': 0},\n",
       " 'hyper_params': {'units': 1,\n",
       "  'optimizer': 'sgd',\n",
       "  'loss': 'binary_crossentropy'}}"
      ]
     },
     "execution_count": 13,
     "metadata": {},
     "output_type": "execute_result"
    }
   ],
   "source": [
    "model1pl.proxy_model.get_params()"
   ]
  },
  {
   "cell_type": "markdown",
   "metadata": {},
   "source": [
    "* Model is fit with available defaults, since No params are passed in `model.fit()`"
   ]
  },
  {
   "cell_type": "markdown",
   "metadata": {},
   "source": [
    "### Scheme 2. Changing some values and passing new vals to model params."
   ]
  },
  {
   "cell_type": "markdown",
   "metadata": {},
   "source": [
    "* Customizing some initializers for new training exp.\n",
    "    * kernel_params of select layer of-- latent_trait, difficulty_level, disc_params, guess_params"
   ]
  },
  {
   "cell_type": "markdown",
   "metadata": {},
   "source": [
    "**2.1 Updating `ability_params` layer's kernel initilizer to `keras:uniform:defaults`**"
   ]
  },
  {
   "cell_type": "code",
   "execution_count": 14,
   "metadata": {},
   "outputs": [
    {
     "data": {
      "text/plain": [
       "{'ability_params': {'units': 1, 'kernel_params': {'distrib': 'uniform'}}}"
      ]
     },
     "execution_count": 14,
     "metadata": {},
     "output_type": "execute_result"
    }
   ],
   "source": [
    "params_ = {'ability_params': {'units':1, 'kernel_params': {'distrib':'uniform'}}}\n",
    "params_"
   ]
  },
  {
   "cell_type": "code",
   "execution_count": 15,
   "metadata": {},
   "outputs": [
    {
     "name": "stderr",
     "output_type": "stream",
     "text": [
      "Transpiling your model to it's Deep Neural Network equivalent...\n"
     ]
    }
   ],
   "source": [
    "model1pl_2s1= dope(primal1)"
   ]
  },
  {
   "cell_type": "code",
   "execution_count": 16,
   "metadata": {},
   "outputs": [
    {
     "name": "stdout",
     "output_type": "stream",
     "text": [
      "\n",
      "Intitializing fit for rasch model. . .\n",
      "Batch_size: 64; epochs: 40;\n",
      "\n",
      "Training on : 3135 samples for : 40 epochs has completed in : 2.365 seconds.\n",
      "\n",
      "Use object.plot() to view train/validation loss curves;\n",
      "Use `object.history` to obtain train/validation loss across all the epochs.\n",
      "Use `object.coefficients()` to obtain model parameters--difficulty, discrimination & guessing\n"
     ]
    },
    {
     "data": {
      "text/plain": [
       "<mlsquare.adapters.sklearn.IrtKerasRegressor at 0x7f8a5174e390>"
      ]
     },
     "execution_count": 16,
     "metadata": {},
     "output_type": "execute_result"
    }
   ],
   "source": [
    "model1pl_2s1.fit(x_user=x_train_user,x_questions=x_train_questions,\n",
    "          y_vals=y_train, batch_size=64, epochs=40, params=params_)\n",
    "#model1pl.proxy_model.update_params(params_) is triggered within"
   ]
  },
  {
   "cell_type": "code",
   "execution_count": 17,
   "metadata": {},
   "outputs": [
    {
     "data": {
      "text/plain": [
       "{'ability_params': {'units': 1,\n",
       "  'kernel_params': {'distrib': 'uniform'},\n",
       "  'kernel': <keras.initializers.RandomUniform at 0x7f8a4efce0f0>},\n",
       " 'diff_params': {'units': 1,\n",
       "  'kernel_params': {},\n",
       "  'kernel': <keras.initializers.RandomNormal at 0x7f8a4efce080>},\n",
       " 'disc_params': {'units': 1,\n",
       "  'kernel_params': {'stddev': 0},\n",
       "  'train': False,\n",
       "  'act': 'exponential',\n",
       "  'kernel': <keras.initializers.RandomNormal at 0x7f8a4efce1d0>},\n",
       " 'guess_params': {'units': 1,\n",
       "  'kernel_params': {'distrib': 'uniform'},\n",
       "  'train': False,\n",
       "  'act': 'linear',\n",
       "  'slip': 0,\n",
       "  'kernel': <keras.initializers.RandomUniform at 0x7f8a4efce208>},\n",
       " 'regularizers': {'l1': 0, 'l2': 0},\n",
       " 'hyper_params': {'units': 1,\n",
       "  'optimizer': 'sgd',\n",
       "  'loss': 'binary_crossentropy'}}"
      ]
     },
     "execution_count": 17,
     "metadata": {},
     "output_type": "execute_result"
    }
   ],
   "source": [
    "#Overall model_params with kernel_params & kernels after updation 1.1\n",
    "model1pl.proxy_model.get_params()"
   ]
  },
  {
   "cell_type": "markdown",
   "metadata": {},
   "source": [
    "**2.2 Updating `difficulty_level` layer's kernel initilizer to `keras:uniform:minval:-2`**"
   ]
  },
  {
   "cell_type": "code",
   "execution_count": 18,
   "metadata": {
    "scrolled": true
   },
   "outputs": [
    {
     "data": {
      "text/plain": [
       "{'diff_params': {'units': 1,\n",
       "  'kernel_params': {'distrib': 'uniform', 'minval': -2}}}"
      ]
     },
     "execution_count": 18,
     "metadata": {},
     "output_type": "execute_result"
    }
   ],
   "source": [
    "params_ = {'diff_params': {'units':1, 'kernel_params': {'distrib':'uniform', 'minval':-2}}}\n",
    "params_"
   ]
  },
  {
   "cell_type": "code",
   "execution_count": 19,
   "metadata": {},
   "outputs": [
    {
     "name": "stderr",
     "output_type": "stream",
     "text": [
      "Transpiling your model to it's Deep Neural Network equivalent...\n"
     ]
    }
   ],
   "source": [
    "model1pl_2s2= dope(primal1)"
   ]
  },
  {
   "cell_type": "code",
   "execution_count": 20,
   "metadata": {
    "scrolled": false
   },
   "outputs": [
    {
     "name": "stdout",
     "output_type": "stream",
     "text": [
      "\n",
      "Intitializing fit for rasch model. . .\n",
      "Batch_size: 64; epochs: 40;\n",
      "\n",
      "Training on : 3135 samples for : 40 epochs has completed in : 2.334 seconds.\n",
      "\n",
      "Use object.plot() to view train/validation loss curves;\n",
      "Use `object.history` to obtain train/validation loss across all the epochs.\n",
      "Use `object.coefficients()` to obtain model parameters--difficulty, discrimination & guessing\n"
     ]
    },
    {
     "data": {
      "text/plain": [
       "<mlsquare.adapters.sklearn.IrtKerasRegressor at 0x7f8a30737390>"
      ]
     },
     "execution_count": 20,
     "metadata": {},
     "output_type": "execute_result"
    }
   ],
   "source": [
    "model1pl_2s2.fit(x_user=x_train_user,x_questions=x_train_questions,\n",
    "          y_vals=y_train, batch_size=64, epochs=40, params=params_)\n",
    "#model1pl.proxy_model.update_params(params_) is triggered within"
   ]
  },
  {
   "cell_type": "code",
   "execution_count": 21,
   "metadata": {},
   "outputs": [
    {
     "data": {
      "text/plain": [
       "{'ability_params': {'units': 1,\n",
       "  'kernel_params': {'distrib': 'uniform'},\n",
       "  'kernel': <keras.initializers.RandomUniform at 0x7f8a30737a90>},\n",
       " 'diff_params': {'units': 1,\n",
       "  'kernel_params': {'distrib': 'uniform', 'minval': -2},\n",
       "  'kernel': <keras.initializers.RandomUniform at 0x7f8a307372b0>},\n",
       " 'disc_params': {'units': 1,\n",
       "  'kernel_params': {'stddev': 0},\n",
       "  'train': False,\n",
       "  'act': 'exponential',\n",
       "  'kernel': <keras.initializers.RandomNormal at 0x7f8a307376a0>},\n",
       " 'guess_params': {'units': 1,\n",
       "  'kernel_params': {'distrib': 'uniform'},\n",
       "  'train': False,\n",
       "  'act': 'linear',\n",
       "  'slip': 0,\n",
       "  'kernel': <keras.initializers.RandomUniform at 0x7f8a30737048>},\n",
       " 'regularizers': {'l1': 0, 'l2': 0},\n",
       " 'hyper_params': {'units': 1,\n",
       "  'optimizer': 'sgd',\n",
       "  'loss': 'binary_crossentropy'}}"
      ]
     },
     "execution_count": 21,
     "metadata": {},
     "output_type": "execute_result"
    }
   ],
   "source": [
    "#Overall model_params with kernel_params & kernels after updation 1.2\n",
    "model1pl_2s2.proxy_model.get_params()"
   ]
  },
  {
   "cell_type": "markdown",
   "metadata": {},
   "source": [
    "**2.3 Updating Multiple layer(All) initializer at once--**\n",
    "* `latent_trait`->`keras:uniform:defaults`\n",
    "* `difficulty_level'`->`keras:uniform:defaults`\n",
    "* `'disc_params`->`keras:normal:stddev:0`\n",
    "* `guess_params`->`keras:normal:stddev:0`"
   ]
  },
  {
   "cell_type": "code",
   "execution_count": 22,
   "metadata": {},
   "outputs": [
    {
     "data": {
      "text/plain": [
       "{'ability_params': {'units': 1, 'kernel_params': {'distrib': 'uniform'}},\n",
       " 'diff_params': {'units': 1, 'kernel_params': {'distrib': 'uniform'}},\n",
       " 'disc_params': {'units': 1,\n",
       "  'kernel_params': {'stddev': 0},\n",
       "  'train': False,\n",
       "  'act': 'exponential'},\n",
       " 'guess_params': {'units': 1,\n",
       "  'kernel_params': {'stddev': 0},\n",
       "  'train': False,\n",
       "  'act': 'linear',\n",
       "  'slip': 0}}"
      ]
     },
     "execution_count": 22,
     "metadata": {},
     "output_type": "execute_result"
    }
   ],
   "source": [
    "params_ = {'ability_params': {'units': 1, 'kernel_params':{'distrib': 'uniform'}},\n",
    " 'diff_params': {'units': 1,'kernel_params': {'distrib': 'uniform'}},\n",
    " 'disc_params':{'units': 1, 'kernel_params': {'stddev': 0},'train': False,'act':'exponential'},\n",
    " 'guess_params': {'units': 1, 'kernel_params': {'stddev': 0}, 'train': False, 'act': 'linear','slip': 0}}\n",
    "params_"
   ]
  },
  {
   "cell_type": "code",
   "execution_count": 23,
   "metadata": {},
   "outputs": [
    {
     "name": "stderr",
     "output_type": "stream",
     "text": [
      "Transpiling your model to it's Deep Neural Network equivalent...\n"
     ]
    }
   ],
   "source": [
    "model1pl_2s3= dope(primal1)"
   ]
  },
  {
   "cell_type": "code",
   "execution_count": 24,
   "metadata": {},
   "outputs": [
    {
     "name": "stdout",
     "output_type": "stream",
     "text": [
      "\n",
      "Intitializing fit for rasch model. . .\n",
      "Batch_size: 64; epochs: 40;\n",
      "\n",
      "Training on : 3135 samples for : 40 epochs has completed in : 2.635 seconds.\n",
      "\n",
      "Use object.plot() to view train/validation loss curves;\n",
      "Use `object.history` to obtain train/validation loss across all the epochs.\n",
      "Use `object.coefficients()` to obtain model parameters--difficulty, discrimination & guessing\n"
     ]
    },
    {
     "data": {
      "text/plain": [
       "<mlsquare.adapters.sklearn.IrtKerasRegressor at 0x7f8a307374a8>"
      ]
     },
     "execution_count": 24,
     "metadata": {},
     "output_type": "execute_result"
    }
   ],
   "source": [
    "model1pl_2s3.fit(x_user=x_train_user,x_questions=x_train_questions,\n",
    "          y_vals=y_train, batch_size=64, epochs=40, params=params_)\n",
    "#model1pl.proxy_model.update_params(params_) is triggered within"
   ]
  },
  {
   "cell_type": "code",
   "execution_count": 25,
   "metadata": {},
   "outputs": [
    {
     "data": {
      "text/plain": [
       "{'ability_params': {'units': 1,\n",
       "  'kernel_params': {'distrib': 'uniform'},\n",
       "  'kernel': <keras.initializers.RandomUniform at 0x7f8a30746e80>},\n",
       " 'diff_params': {'units': 1,\n",
       "  'kernel_params': {'distrib': 'uniform'},\n",
       "  'kernel': <keras.initializers.RandomUniform at 0x7f8a307469b0>},\n",
       " 'disc_params': {'units': 1,\n",
       "  'kernel_params': {'stddev': 0},\n",
       "  'train': False,\n",
       "  'act': 'exponential',\n",
       "  'kernel': <keras.initializers.RandomNormal at 0x7f8a61fbfda0>},\n",
       " 'guess_params': {'units': 1,\n",
       "  'kernel_params': {'stddev': 0},\n",
       "  'train': False,\n",
       "  'act': 'linear',\n",
       "  'slip': 0,\n",
       "  'kernel': <keras.initializers.RandomNormal at 0x7f8a3073feb8>},\n",
       " 'regularizers': {'l1': 0, 'l2': 0},\n",
       " 'hyper_params': {'units': 1,\n",
       "  'optimizer': 'sgd',\n",
       "  'loss': 'binary_crossentropy'}}"
      ]
     },
     "execution_count": 25,
     "metadata": {},
     "output_type": "execute_result"
    }
   ],
   "source": [
    "model1pl_2s3.proxy_model.get_params()"
   ]
  },
  {
   "cell_type": "markdown",
   "metadata": {},
   "source": [
    "### Scheme 3. User bringing in all initializer objects nad passing corresponding object declarations to model_params."
   ]
  },
  {
   "cell_type": "markdown",
   "metadata": {},
   "source": [
    "**3.1 Customizing all layers' kernel in model_params through object declaration (Total scheme 3)**"
   ]
  },
  {
   "cell_type": "code",
   "execution_count": 26,
   "metadata": {},
   "outputs": [],
   "source": [
    "from keras import initializers"
   ]
  },
  {
   "cell_type": "code",
   "execution_count": 27,
   "metadata": {},
   "outputs": [
    {
     "data": {
      "text/plain": [
       "{'ability_params': {'units': 1,\n",
       "  'kernel': <keras.initializers.RandomNormal at 0x7f89e06eb550>},\n",
       " 'diff_params': {'units': 1,\n",
       "  'kernel': <keras.initializers.RandomUniform at 0x7f89e06eb588>},\n",
       " 'disc_params': {'units': 1,\n",
       "  'kernel': <keras.initializers.RandomNormal at 0x7f89e06eb5c0>,\n",
       "  'train': False,\n",
       "  'act': 'exponential'},\n",
       " 'guess_params': {'units': 1,\n",
       "  'kernel': <keras.initializers.RandomUniform at 0x7f89e06eb5f8>,\n",
       "  'train': False,\n",
       "  'act': 'linear',\n",
       "  'slip': 0}}"
      ]
     },
     "execution_count": 27,
     "metadata": {},
     "output_type": "execute_result"
    }
   ],
   "source": [
    "params_1 = {'ability_params': {'units': 1,'kernel':initializers.RandomNormal(mean=1, stddev=0.5)},\n",
    " 'diff_params': {'units': 1,'kernel':initializers.RandomUniform(minval=-3.5, maxval=-2.5)},\n",
    " 'disc_params':{'units': 1, 'kernel':initializers.RandomNormal(mean=0.5, stddev=1.5),'train': False,'act':'exponential'},\n",
    " 'guess_params': {'units': 1, 'kernel':initializers.RandomUniform(minval=-3.5, maxval=-1.5), 'train': False, 'act': 'linear','slip': 0}}\n",
    "params_1"
   ]
  },
  {
   "cell_type": "code",
   "execution_count": 28,
   "metadata": {},
   "outputs": [
    {
     "name": "stderr",
     "output_type": "stream",
     "text": [
      "Transpiling your model to it's Deep Neural Network equivalent...\n"
     ]
    }
   ],
   "source": [
    "model1pl_3s1= dope(primal1)"
   ]
  },
  {
   "cell_type": "code",
   "execution_count": 29,
   "metadata": {},
   "outputs": [
    {
     "name": "stdout",
     "output_type": "stream",
     "text": [
      "\n",
      "Intitializing fit for rasch model. . .\n",
      "Batch_size: 64; epochs: 40;\n",
      "\n",
      "Training on : 3135 samples for : 40 epochs has completed in : 2.663 seconds.\n",
      "\n",
      "Use object.plot() to view train/validation loss curves;\n",
      "Use `object.history` to obtain train/validation loss across all the epochs.\n",
      "Use `object.coefficients()` to obtain model parameters--difficulty, discrimination & guessing\n"
     ]
    },
    {
     "data": {
      "text/plain": [
       "<mlsquare.adapters.sklearn.IrtKerasRegressor at 0x7f8a30737cc0>"
      ]
     },
     "execution_count": 29,
     "metadata": {},
     "output_type": "execute_result"
    }
   ],
   "source": [
    "model1pl_3s1.fit(x_user=x_train_user,x_questions=x_train_questions,\n",
    "          y_vals=y_train, batch_size=64, epochs=40, params=params_1)\n",
    "#model1pl.proxy_model.update_params(params_) is triggered within"
   ]
  },
  {
   "cell_type": "code",
   "execution_count": 30,
   "metadata": {},
   "outputs": [
    {
     "data": {
      "text/plain": [
       "{'ability_params': {'units': 1,\n",
       "  'kernel': <keras.initializers.RandomNormal at 0x7f89e06eb550>},\n",
       " 'diff_params': {'units': 1,\n",
       "  'kernel': <keras.initializers.RandomUniform at 0x7f89e06eb588>},\n",
       " 'disc_params': {'units': 1,\n",
       "  'train': False,\n",
       "  'act': 'exponential',\n",
       "  'kernel': <keras.initializers.RandomNormal at 0x7f89e06eb5c0>},\n",
       " 'guess_params': {'units': 1,\n",
       "  'train': False,\n",
       "  'act': 'linear',\n",
       "  'slip': 0,\n",
       "  'kernel': <keras.initializers.RandomUniform at 0x7f89e06eb5f8>},\n",
       " 'regularizers': {'l1': 0, 'l2': 0},\n",
       " 'hyper_params': {'units': 1,\n",
       "  'optimizer': 'sgd',\n",
       "  'loss': 'binary_crossentropy'}}"
      ]
     },
     "execution_count": 30,
     "metadata": {},
     "output_type": "execute_result"
    }
   ],
   "source": [
    "model1pl_3s1.proxy_model.get_params()"
   ]
  },
  {
   "cell_type": "markdown",
   "metadata": {},
   "source": [
    "**3.2 Customizing some layers' kernel in model_params through object declaration(`{'kernel':object_dec}`) and remaining through use of available defaults(`{kernel_params': {'distrib': 'uniform'}})`,-- a mix of scheme 2 & 3.**"
   ]
  },
  {
   "cell_type": "code",
   "execution_count": 31,
   "metadata": {},
   "outputs": [
    {
     "data": {
      "text/plain": [
       "{'ability_params': {'units': 1,\n",
       "  'kernel': <keras.initializers.RandomNormal at 0x7f89e02edef0>},\n",
       " 'diff_params': {'units': 1,\n",
       "  'kernel': <keras.initializers.RandomUniform at 0x7f89e02edf28>},\n",
       " 'disc_params': {'units': 1,\n",
       "  'kernel_params': {'distrib': 'uniform', 'minval': -6},\n",
       "  'train': False,\n",
       "  'act': 'exponential'},\n",
       " 'guess_params': {'units': 1,\n",
       "  'kernel': <keras.initializers.RandomUniform at 0x7f89e02edf60>,\n",
       "  'train': False,\n",
       "  'act': 'linear',\n",
       "  'slip': 0}}"
      ]
     },
     "execution_count": 31,
     "metadata": {},
     "output_type": "execute_result"
    }
   ],
   "source": [
    "params_2 = {'ability_params': {'units': 1,'kernel':initializers.RandomNormal(mean=1, stddev=0.5)},\n",
    " 'diff_params': {'units': 1,'kernel':initializers.RandomUniform(minval=-3.5, maxval=-2.5)},\n",
    " 'disc_params':{'units': 1, 'kernel_params': {'distrib': 'uniform', 'minval':-6},'train': False,'act':'exponential'},\n",
    " 'guess_params': {'units': 1, 'kernel':initializers.RandomUniform(minval=-3.5, maxval=-1.5), 'train': False, 'act': 'linear','slip': 0}}\n",
    "params_2"
   ]
  },
  {
   "cell_type": "code",
   "execution_count": 32,
   "metadata": {},
   "outputs": [
    {
     "name": "stderr",
     "output_type": "stream",
     "text": [
      "Transpiling your model to it's Deep Neural Network equivalent...\n"
     ]
    }
   ],
   "source": [
    "model1pl_3s2= dope(primal1)"
   ]
  },
  {
   "cell_type": "code",
   "execution_count": 33,
   "metadata": {},
   "outputs": [
    {
     "name": "stdout",
     "output_type": "stream",
     "text": [
      "\n",
      "Intitializing fit for rasch model. . .\n",
      "Batch_size: 64; epochs: 40;\n",
      "\n",
      "Training on : 3135 samples for : 40 epochs has completed in : 2.932 seconds.\n",
      "\n",
      "Use object.plot() to view train/validation loss curves;\n",
      "Use `object.history` to obtain train/validation loss across all the epochs.\n",
      "Use `object.coefficients()` to obtain model parameters--difficulty, discrimination & guessing\n"
     ]
    },
    {
     "data": {
      "text/plain": [
       "<mlsquare.adapters.sklearn.IrtKerasRegressor at 0x7f89e02ed390>"
      ]
     },
     "execution_count": 33,
     "metadata": {},
     "output_type": "execute_result"
    }
   ],
   "source": [
    "model1pl_3s2.fit(x_user=x_train_user,x_questions=x_train_questions,\n",
    "          y_vals=y_train, batch_size=64, epochs=40, params=params_2)\n",
    "#model1pl.proxy_model.update_params(params_) is triggered within"
   ]
  },
  {
   "cell_type": "code",
   "execution_count": 34,
   "metadata": {},
   "outputs": [
    {
     "data": {
      "text/plain": [
       "{'ability_params': {'units': 1,\n",
       "  'kernel': <keras.initializers.RandomNormal at 0x7f89e02edef0>},\n",
       " 'diff_params': {'units': 1,\n",
       "  'kernel': <keras.initializers.RandomUniform at 0x7f89e02edf28>},\n",
       " 'disc_params': {'units': 1,\n",
       "  'train': False,\n",
       "  'act': 'exponential',\n",
       "  'kernel': <keras.initializers.RandomUniform at 0x7f89e02ed668>,\n",
       "  'kernel_params': {'distrib': 'uniform', 'minval': -6}},\n",
       " 'guess_params': {'units': 1,\n",
       "  'train': False,\n",
       "  'act': 'linear',\n",
       "  'slip': 0,\n",
       "  'kernel': <keras.initializers.RandomUniform at 0x7f89e02edf60>},\n",
       " 'regularizers': {'l1': 0, 'l2': 0},\n",
       " 'hyper_params': {'units': 1,\n",
       "  'optimizer': 'sgd',\n",
       "  'loss': 'binary_crossentropy'}}"
      ]
     },
     "execution_count": 34,
     "metadata": {},
     "output_type": "execute_result"
    }
   ],
   "source": [
    "#Overall model_params with kernel_params & kernels after updation 1.1\n",
    "model1pl_3s2.proxy_model.get_params()"
   ]
  },
  {
   "cell_type": "markdown",
   "metadata": {},
   "source": [
    "### *** Easing updation of kernel params Or Kernel; ignoring the mention of other key:value pairs at same level of model_param dictionary during updation. (So to infer, preventing dictionary Overwrite).\n",
    "\n",
    "For instance Enable working with-- params_ = `{'guess_params': {'kernel_params': {'distrib':'uniform', 'minval':-2}}}` NOT `'{guess_params':{'units':1, 'kernel_params':{'distrib':'uniform'}, 'train':False, 'act':'linear', 'slip':0}`\n",
    "\n",
    "**The model_params updation should happen without modifying unspecified(Or Default model_params)**"
   ]
  },
  {
   "cell_type": "markdown",
   "metadata": {},
   "source": [
    "**1.1 Following contains the select params-- `{'kernel_params': {'distrib':'uniform'}`,`{'train':True, 'slip':1}` to be updated at layer level.**\n",
    "* [Not `{'kernel':kernel_object}`]"
   ]
  },
  {
   "cell_type": "code",
   "execution_count": 35,
   "metadata": {
    "scrolled": true
   },
   "outputs": [],
   "source": [
    "params_ = {'ability_params': {'kernel_params': {'distrib':'uniform'}},\n",
    "           'disc_params': {'kernel_params': {'distrib': 'uniform', 'minval':-4}},\n",
    "          'guess_params': {'train': True}}"
   ]
  },
  {
   "cell_type": "markdown",
   "metadata": {},
   "source": [
    "* Issues without tap (targeted) model_params update"
   ]
  },
  {
   "cell_type": "code",
   "execution_count": 36,
   "metadata": {},
   "outputs": [
    {
     "data": {
      "text/plain": [
       "{'ability_params': {'units': 1, 'kernel_params': {}},\n",
       " 'diff_params': {'units': 1, 'kernel_params': {'std': 0.5}},\n",
       " 'disc_params': {'units': 1,\n",
       "  'kernel_params': {'stddev': 0},\n",
       "  'train': False,\n",
       "  'act': 'exponential'},\n",
       " 'guess_params': {'units': 1,\n",
       "  'kernel_params': {'stddev': 0},\n",
       "  'train': False,\n",
       "  'act': 'linear',\n",
       "  'slip': 0}}"
      ]
     },
     "execution_count": 36,
     "metadata": {},
     "output_type": "execute_result"
    }
   ],
   "source": [
    "params_o = {'ability_params': {'units': 1, 'kernel_params':{}},\n",
    " 'diff_params': {'units': 1,'kernel_params': {'std':0.5}},\n",
    " 'disc_params':{'units': 1, 'kernel_params': {'stddev': 0},'train': False,'act':'exponential'},\n",
    " 'guess_params': {'units': 1, 'kernel_params': {'stddev': 0}, 'train': False, 'act': 'linear','slip': 0}}\n",
    "params_o"
   ]
  },
  {
   "cell_type": "code",
   "execution_count": 37,
   "metadata": {},
   "outputs": [
    {
     "data": {
      "text/plain": [
       "{'ability_params': {'kernel_params': {'distrib': 'uniform'}},\n",
       " 'diff_params': {'units': 1, 'kernel_params': {'std': 0.5}},\n",
       " 'disc_params': {'kernel_params': {'distrib': 'uniform', 'minval': -4}},\n",
       " 'guess_params': {'train': True}}"
      ]
     },
     "execution_count": 37,
     "metadata": {},
     "output_type": "execute_result"
    }
   ],
   "source": [
    "#get_params output is overwrritten with ordinary dict update as follows\n",
    "params_copy= params_o.copy()\n",
    "params_copy.update(params_)\n",
    "params_copy"
   ]
  },
  {
   "cell_type": "markdown",
   "metadata": {},
   "source": [
    "* The params_copy is overwritten at places targeted by params dictionary, which amounts to 'keyerror' in architecture's `create_model()` method"
   ]
  },
  {
   "cell_type": "markdown",
   "metadata": {},
   "source": [
    "**With deep_dict updation is done in targeted manner, unaffecting the rest unspecified defaults.**"
   ]
  },
  {
   "cell_type": "code",
   "execution_count": 38,
   "metadata": {},
   "outputs": [],
   "source": [
    "from dict_deep import *\n",
    "\n",
    "def tap_update(params_to_tap, params):\n",
    "        #li= list()\n",
    "        for k, v in params.items():\n",
    "            n_keys= len(v.keys())\n",
    "            for key, val in v.items():#for iters in range(n_keys):\n",
    "                li= [k,key]# for key, val in v.items()\n",
    "                assign = deep_get(params, li)\n",
    "                deep_set(params_to_tap, li, deep_get(params, li), \n",
    "                    accessor=lambda params_to_tap, k: params_to_tap.setdefault(k, dict()))\n"
   ]
  },
  {
   "cell_type": "code",
   "execution_count": 39,
   "metadata": {},
   "outputs": [
    {
     "data": {
      "text/plain": [
       "{'ability_params': {'units': 1, 'kernel_params': {'distrib': 'uniform'}},\n",
       " 'diff_params': {'units': 1, 'kernel_params': {'std': 0.5}},\n",
       " 'disc_params': {'units': 1,\n",
       "  'kernel_params': {'distrib': 'uniform', 'minval': -4},\n",
       "  'train': False,\n",
       "  'act': 'exponential'},\n",
       " 'guess_params': {'units': 1,\n",
       "  'kernel_params': {'stddev': 0},\n",
       "  'train': True,\n",
       "  'act': 'linear',\n",
       "  'slip': 0}}"
      ]
     },
     "execution_count": 39,
     "metadata": {},
     "output_type": "execute_result"
    }
   ],
   "source": [
    "tap_update(params_o, params_)\n",
    "params_o"
   ]
  },
  {
   "cell_type": "code",
   "execution_count": 40,
   "metadata": {},
   "outputs": [
    {
     "name": "stderr",
     "output_type": "stream",
     "text": [
      "Transpiling your model to it's Deep Neural Network equivalent...\n"
     ]
    }
   ],
   "source": [
    "from mlsquare import dope\n",
    "model1pl_4s1= dope(primal1)"
   ]
  },
  {
   "cell_type": "markdown",
   "metadata": {},
   "source": [
    "* Passing following select params to update model_params & fit."
   ]
  },
  {
   "cell_type": "code",
   "execution_count": 41,
   "metadata": {},
   "outputs": [
    {
     "data": {
      "text/plain": [
       "{'ability_params': {'kernel_params': {'distrib': 'uniform'}},\n",
       " 'disc_params': {'kernel_params': {'distrib': 'uniform', 'minval': -4}},\n",
       " 'guess_params': {'train': True}}"
      ]
     },
     "execution_count": 41,
     "metadata": {},
     "output_type": "execute_result"
    }
   ],
   "source": [
    "params_"
   ]
  },
  {
   "cell_type": "code",
   "execution_count": 42,
   "metadata": {
    "scrolled": false
   },
   "outputs": [
    {
     "name": "stdout",
     "output_type": "stream",
     "text": [
      "\n",
      "Intitializing fit for rasch model. . .\n",
      "Batch_size: 64; epochs: 40;\n",
      "\n",
      "Training on : 3135 samples for : 40 epochs has completed in : 2.771 seconds.\n",
      "\n",
      "Use object.plot() to view train/validation loss curves;\n",
      "Use `object.history` to obtain train/validation loss across all the epochs.\n",
      "Use `object.coefficients()` to obtain model parameters--difficulty, discrimination & guessing\n"
     ]
    },
    {
     "data": {
      "text/plain": [
       "<mlsquare.adapters.sklearn.IrtKerasRegressor at 0x7f89ae693da0>"
      ]
     },
     "execution_count": 42,
     "metadata": {},
     "output_type": "execute_result"
    }
   ],
   "source": [
    "model1pl_4s1.fit(x_user=x_train_user,x_questions=x_train_questions,\n",
    "          y_vals=y_train, batch_size=64, epochs=40, params= params_)"
   ]
  },
  {
   "cell_type": "code",
   "execution_count": 43,
   "metadata": {},
   "outputs": [
    {
     "data": {
      "text/plain": [
       "{'ability_params': {'units': 1,\n",
       "  'kernel': <keras.initializers.RandomUniform at 0x7f89ae693f28>,\n",
       "  'kernel_params': {'distrib': 'uniform'}},\n",
       " 'diff_params': {'units': 1,\n",
       "  'kernel': <keras.initializers.RandomUniform at 0x7f89e02edf28>},\n",
       " 'disc_params': {'units': 1,\n",
       "  'train': False,\n",
       "  'act': 'exponential',\n",
       "  'kernel': <keras.initializers.RandomUniform at 0x7f89ae693e80>,\n",
       "  'kernel_params': {'distrib': 'uniform', 'minval': -4}},\n",
       " 'guess_params': {'units': 1,\n",
       "  'train': True,\n",
       "  'act': 'linear',\n",
       "  'slip': 0,\n",
       "  'kernel': <keras.initializers.RandomUniform at 0x7f89e02edf60>},\n",
       " 'regularizers': {'l1': 0, 'l2': 0},\n",
       " 'hyper_params': {'units': 1,\n",
       "  'optimizer': 'sgd',\n",
       "  'loss': 'binary_crossentropy'}}"
      ]
     },
     "execution_count": 43,
     "metadata": {},
     "output_type": "execute_result"
    }
   ],
   "source": [
    "model1pl_4s1.proxy_model.get_params()"
   ]
  },
  {
   "cell_type": "markdown",
   "metadata": {},
   "source": [
    "* **Above select update is not agnostic to all key:value pairs, as the logic flow updates/adds `{'kernel':object_dec}` everytime in response to `{'kernel_params':{}}` it obtains as input, and since `{'kernel_params':{}}` is by defalt there(declared) during dope object creation and passed in as `self._model_params` and despite `{'kernel_params':{}}` not being passed in select params at fit it exists because of `deep_set` method by `dict_deep`.**"
   ]
  },
  {
   "cell_type": "markdown",
   "metadata": {},
   "source": [
    "**1.2 Following contains the select params-- `{'kernel':object declaration}` to be updated at layer level.**"
   ]
  },
  {
   "cell_type": "code",
   "execution_count": 44,
   "metadata": {},
   "outputs": [
    {
     "data": {
      "text/plain": [
       "{'diff_params': {'kernel': <keras.initializers.RandomUniform at 0x7f89ae26da20>}}"
      ]
     },
     "execution_count": 44,
     "metadata": {},
     "output_type": "execute_result"
    }
   ],
   "source": [
    "from keras import initializers\n",
    "params_2 = {'diff_params': {'kernel': initializers.RandomUniform(minval=-2, maxval=-2.5)}}\n",
    "params_2"
   ]
  },
  {
   "cell_type": "code",
   "execution_count": 45,
   "metadata": {},
   "outputs": [
    {
     "name": "stderr",
     "output_type": "stream",
     "text": [
      "Transpiling your model to it's Deep Neural Network equivalent...\n"
     ]
    }
   ],
   "source": [
    "model1pl_5 = dope(primal1)"
   ]
  },
  {
   "cell_type": "code",
   "execution_count": 46,
   "metadata": {},
   "outputs": [
    {
     "name": "stdout",
     "output_type": "stream",
     "text": [
      "\n",
      "Intitializing fit for rasch model. . .\n",
      "Batch_size: 64; epochs: 40;\n",
      "\n",
      "Training on : 3135 samples for : 40 epochs has completed in : 2.822 seconds.\n",
      "\n",
      "Use object.plot() to view train/validation loss curves;\n",
      "Use `object.history` to obtain train/validation loss across all the epochs.\n",
      "Use `object.coefficients()` to obtain model parameters--difficulty, discrimination & guessing\n"
     ]
    },
    {
     "data": {
      "text/plain": [
       "<mlsquare.adapters.sklearn.IrtKerasRegressor at 0x7f89e06d4898>"
      ]
     },
     "execution_count": 46,
     "metadata": {},
     "output_type": "execute_result"
    }
   ],
   "source": [
    "model1pl_5.fit(x_user=x_train_user,x_questions=x_train_questions,\n",
    "          y_vals=y_train, batch_size=64, epochs=40, params=params_2)\n",
    "#model1pl.proxy_model.update_params(params_) is triggered within"
   ]
  },
  {
   "cell_type": "code",
   "execution_count": 47,
   "metadata": {},
   "outputs": [
    {
     "data": {
      "text/plain": [
       "{'name': 'difficulty_level',\n",
       " 'trainable': True,\n",
       " 'dtype': 'float32',\n",
       " 'units': 1,\n",
       " 'activation': 'linear',\n",
       " 'use_bias': False,\n",
       " 'kernel_initializer': {'class_name': 'RandomUniform',\n",
       "  'config': {'minval': -2, 'maxval': -2.5, 'seed': None}},\n",
       " 'bias_initializer': {'class_name': 'Zeros', 'config': {}},\n",
       " 'kernel_regularizer': None,\n",
       " 'bias_regularizer': None,\n",
       " 'activity_regularizer': None,\n",
       " 'kernel_constraint': None,\n",
       " 'bias_constraint': None}"
      ]
     },
     "execution_count": 47,
     "metadata": {},
     "output_type": "execute_result"
    }
   ],
   "source": [
    "model1pl_5.model.layers[4].get_config()"
   ]
  },
  {
   "cell_type": "markdown",
   "metadata": {},
   "source": [
    "* Now the `difficulty_level` is updated with passed initializer object."
   ]
  },
  {
   "cell_type": "code",
   "execution_count": 48,
   "metadata": {},
   "outputs": [
    {
     "data": {
      "text/plain": [
       "{'ability_params': {'units': 1,\n",
       "  'kernel': <keras.initializers.RandomUniform at 0x7f89ae26d908>,\n",
       "  'kernel_params': {'distrib': 'uniform'}},\n",
       " 'diff_params': {'units': 1,\n",
       "  'kernel': <keras.initializers.RandomUniform at 0x7f89ae26da20>},\n",
       " 'disc_params': {'units': 1,\n",
       "  'train': False,\n",
       "  'act': 'exponential',\n",
       "  'kernel': <keras.initializers.RandomUniform at 0x7f89ae26d6a0>,\n",
       "  'kernel_params': {'distrib': 'uniform', 'minval': -4}},\n",
       " 'guess_params': {'units': 1,\n",
       "  'train': True,\n",
       "  'act': 'linear',\n",
       "  'slip': 0,\n",
       "  'kernel': <keras.initializers.RandomUniform at 0x7f89e02edf60>},\n",
       " 'regularizers': {'l1': 0, 'l2': 0},\n",
       " 'hyper_params': {'units': 1,\n",
       "  'optimizer': 'sgd',\n",
       "  'loss': 'binary_crossentropy'}}"
      ]
     },
     "execution_count": 48,
     "metadata": {},
     "output_type": "execute_result"
    }
   ],
   "source": [
    "model1pl_5.proxy_model.get_params()"
   ]
  },
  {
   "cell_type": "markdown",
   "metadata": {},
   "source": [
    "* **1.3 Passing both `kernel_params` and `kernel` key:vals `{'kernel_params':{}, 'kernel':Object declaration}` as select params.**"
   ]
  },
  {
   "cell_type": "code",
   "execution_count": 49,
   "metadata": {},
   "outputs": [
    {
     "data": {
      "text/plain": [
       "{'diff_params': {'kernel_params': {},\n",
       "  'kernel': <keras.initializers.RandomUniform at 0x7f89ade325c0>}}"
      ]
     },
     "execution_count": 49,
     "metadata": {},
     "output_type": "execute_result"
    }
   ],
   "source": [
    "params_2= {'diff_params': {'kernel_params':{}, 'kernel': initializers.RandomUniform(minval=-2, maxval=-2.5)}}\n",
    "params_2"
   ]
  },
  {
   "cell_type": "code",
   "execution_count": 50,
   "metadata": {},
   "outputs": [
    {
     "name": "stderr",
     "output_type": "stream",
     "text": [
      "Transpiling your model to it's Deep Neural Network equivalent...\n"
     ]
    }
   ],
   "source": [
    "model1pl_5 = dope(primal1)"
   ]
  },
  {
   "cell_type": "code",
   "execution_count": 51,
   "metadata": {},
   "outputs": [
    {
     "name": "stdout",
     "output_type": "stream",
     "text": [
      "\n",
      "Intitializing fit for rasch model. . .\n",
      "Batch_size: 64; epochs: 40;\n",
      "\n",
      "Training on : 3135 samples for : 40 epochs has completed in : 2.91 seconds.\n",
      "\n",
      "Use object.plot() to view train/validation loss curves;\n",
      "Use `object.history` to obtain train/validation loss across all the epochs.\n",
      "Use `object.coefficients()` to obtain model parameters--difficulty, discrimination & guessing\n"
     ]
    },
    {
     "data": {
      "text/plain": [
       "<mlsquare.adapters.sklearn.IrtKerasRegressor at 0x7f89e02ed630>"
      ]
     },
     "execution_count": 51,
     "metadata": {},
     "output_type": "execute_result"
    }
   ],
   "source": [
    "model1pl_5.fit(x_user=x_train_user,x_questions=x_train_questions,\n",
    "          y_vals=y_train, batch_size=64, epochs=40, params=params_2)\n",
    "#model1pl.proxy_model.update_params(params_) is triggered within"
   ]
  },
  {
   "cell_type": "code",
   "execution_count": 52,
   "metadata": {},
   "outputs": [
    {
     "data": {
      "text/plain": [
       "{'name': 'difficulty_level',\n",
       " 'trainable': True,\n",
       " 'dtype': 'float32',\n",
       " 'units': 1,\n",
       " 'activation': 'linear',\n",
       " 'use_bias': False,\n",
       " 'kernel_initializer': {'class_name': 'RandomNormal',\n",
       "  'config': {'mean': 0, 'stddev': 1, 'seed': None}},\n",
       " 'bias_initializer': {'class_name': 'Zeros', 'config': {}},\n",
       " 'kernel_regularizer': None,\n",
       " 'bias_regularizer': None,\n",
       " 'activity_regularizer': None,\n",
       " 'kernel_constraint': None,\n",
       " 'bias_constraint': None}"
      ]
     },
     "execution_count": 52,
     "metadata": {},
     "output_type": "execute_result"
    }
   ],
   "source": [
    "model1pl_5.model.layers[4].get_config()"
   ]
  },
  {
   "cell_type": "markdown",
   "metadata": {},
   "source": [
    "* Here when user passes different args in `kernel_params` and `kernel` (`{'kernel_params':{}, 'kernel': object_dec}`), model prefers to ignore `'kernel': object_dec` and updates `model_params` with `{'kernel_params':{}}`"
   ]
  },
  {
   "cell_type": "code",
   "execution_count": 54,
   "metadata": {
    "scrolled": true
   },
   "outputs": [
    {
     "data": {
      "text/plain": [
       "{'ability_params': {'units': 1,\n",
       "  'kernel': <keras.initializers.RandomUniform at 0x7f89ade32550>,\n",
       "  'kernel_params': {'distrib': 'uniform'}},\n",
       " 'diff_params': {'units': 1,\n",
       "  'kernel': <keras.initializers.RandomNormal at 0x7f89ade32908>,\n",
       "  'kernel_params': {}},\n",
       " 'disc_params': {'units': 1,\n",
       "  'train': False,\n",
       "  'act': 'exponential',\n",
       "  'kernel': <keras.initializers.RandomUniform at 0x7f89ade32588>,\n",
       "  'kernel_params': {'distrib': 'uniform', 'minval': -4}},\n",
       " 'guess_params': {'units': 1,\n",
       "  'train': True,\n",
       "  'act': 'linear',\n",
       "  'slip': 0,\n",
       "  'kernel': <keras.initializers.RandomUniform at 0x7f89e02edf60>},\n",
       " 'regularizers': {'l1': 0, 'l2': 0},\n",
       " 'hyper_params': {'units': 1,\n",
       "  'optimizer': 'sgd',\n",
       "  'loss': 'binary_crossentropy'}}"
      ]
     },
     "execution_count": 54,
     "metadata": {},
     "output_type": "execute_result"
    }
   ],
   "source": [
    "model1pl_5.proxy_model.get_params()"
   ]
  },
  {
   "cell_type": "markdown",
   "metadata": {},
   "source": [
    "________________________"
   ]
  },
  {
   "cell_type": "markdown",
   "metadata": {},
   "source": [
    "### Future works\n",
    "* Sensitivity to default params"
   ]
  }
 ],
 "metadata": {
  "kernelspec": {
   "display_name": "Python 3",
   "language": "python",
   "name": "python3"
  },
  "language_info": {
   "codemirror_mode": {
    "name": "ipython",
    "version": 3
   },
   "file_extension": ".py",
   "mimetype": "text/x-python",
   "name": "python",
   "nbconvert_exporter": "python",
   "pygments_lexer": "ipython3",
   "version": "3.6.8"
  }
 },
 "nbformat": 4,
 "nbformat_minor": 2
}
