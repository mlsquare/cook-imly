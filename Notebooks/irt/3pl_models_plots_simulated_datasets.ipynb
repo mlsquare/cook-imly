{
 "cells": [
  {
   "cell_type": "markdown",
   "metadata": {},
   "source": [
    "## Simulating dataset"
   ]
  },
  {
   "cell_type": "markdown",
   "metadata": {},
   "source": [
    "* Obtaining 100 values corresponding to latent abilties of 100 users from a random normal distribution"
   ]
  },
  {
   "cell_type": "code",
   "execution_count": 102,
   "metadata": {
    "scrolled": true
   },
   "outputs": [
    {
     "name": "stdout",
     "output_type": "stream",
     "text": [
      "# of sim user: 100 \n",
      "# of sim items: 3\n"
     ]
    }
   ],
   "source": [
    "import pandas as pd\n",
    "import numpy as np\n",
    "#from numpy.random import seed\n",
    "#seed(1)\n",
    "\n",
    "ltrait_new = np.random.normal(0, 1, size=100)\n",
    "num_sim_users = ltrait_new.shape[0]\n",
    "num_sim_items = len([0,1,2])\n",
    "print('# of sim user:',num_sim_users,'\\n# of sim items:',num_sim_items)"
   ]
  },
  {
   "cell_type": "markdown",
   "metadata": {},
   "source": [
    "* **In following:**\n",
    "\n",
    "    **a.) tpm functions: outputs 3PL likelihood values of responding to all 3 items by particular user.**\n",
    "    \n",
    "    **b.) sim_data: outputs list of tuples containing values in format (user, question/item, response).**"
   ]
  },
  {
   "cell_type": "code",
   "execution_count": 103,
   "metadata": {},
   "outputs": [],
   "source": [
    "def tpm(diff, latent, guess=0.001, desc=1):\n",
    "    guess= 0.001 #[0.001]*3#for 3 items\n",
    "    desc=1 #[1]*3 for 3 items\n",
    "    prob_per_user = list()\n",
    "    \n",
    "    for d in diff:\n",
    "        prob_per_user.append(guess+ (1- guess)*(np.exp(desc*(latent-d))/(1+np.exp(desc*(latent-d)))))\n",
    "        \n",
    "    return prob_per_user"
   ]
  },
  {
   "cell_type": "code",
   "execution_count": 104,
   "metadata": {},
   "outputs": [],
   "source": [
    "def sim_data(l_trait):\n",
    "    items= [0,1,2]\n",
    "    data_li= list()\n",
    "    difficulty= [-0.5,0,0.5]\n",
    "    for idx, val in enumerate(l_trait):\n",
    "        data_li= data_li+ list(zip([idx]*3, items, tpm(diff= difficulty, latent= val)))\n",
    "    \n",
    "    return data_li"
   ]
  },
  {
   "cell_type": "code",
   "execution_count": 105,
   "metadata": {
    "scrolled": false
   },
   "outputs": [
    {
     "data": {
      "text/html": [
       "<div>\n",
       "<style scoped>\n",
       "    .dataframe tbody tr th:only-of-type {\n",
       "        vertical-align: middle;\n",
       "    }\n",
       "\n",
       "    .dataframe tbody tr th {\n",
       "        vertical-align: top;\n",
       "    }\n",
       "\n",
       "    .dataframe thead th {\n",
       "        text-align: right;\n",
       "    }\n",
       "</style>\n",
       "<table border=\"1\" class=\"dataframe\">\n",
       "  <thead>\n",
       "    <tr style=\"text-align: right;\">\n",
       "      <th></th>\n",
       "      <th>user</th>\n",
       "      <th>questions</th>\n",
       "      <th>response</th>\n",
       "    </tr>\n",
       "  </thead>\n",
       "  <tbody>\n",
       "    <tr>\n",
       "      <td>0</td>\n",
       "      <td>0</td>\n",
       "      <td>0</td>\n",
       "      <td>0.849011</td>\n",
       "    </tr>\n",
       "    <tr>\n",
       "      <td>1</td>\n",
       "      <td>0</td>\n",
       "      <td>1</td>\n",
       "      <td>0.773290</td>\n",
       "    </tr>\n",
       "    <tr>\n",
       "      <td>2</td>\n",
       "      <td>0</td>\n",
       "      <td>2</td>\n",
       "      <td>0.674184</td>\n",
       "    </tr>\n",
       "    <tr>\n",
       "      <td>3</td>\n",
       "      <td>1</td>\n",
       "      <td>0</td>\n",
       "      <td>0.650062</td>\n",
       "    </tr>\n",
       "    <tr>\n",
       "      <td>4</td>\n",
       "      <td>1</td>\n",
       "      <td>1</td>\n",
       "      <td>0.529880</td>\n",
       "    </tr>\n",
       "  </tbody>\n",
       "</table>\n",
       "</div>"
      ],
      "text/plain": [
       "   user  questions  response\n",
       "0     0          0  0.849011\n",
       "1     0          1  0.773290\n",
       "2     0          2  0.674184\n",
       "3     1          0  0.650062\n",
       "4     1          1  0.529880"
      ]
     },
     "execution_count": 105,
     "metadata": {},
     "output_type": "execute_result"
    }
   ],
   "source": [
    "df_cols = ['user','questions', 'response']#final dataframe cols\n",
    "\n",
    "data_list = sim_data(ltrait_new)\n",
    "df_sim = pd.DataFrame(data_list, columns=df_cols)\n",
    "#df_sim = df_sim.loc[np.random.randint(0,df_sim.shape[0]-1, size=df_sim.shape[0])]#shuffling data\n",
    "df_sim.head(5)"
   ]
  },
  {
   "cell_type": "code",
   "execution_count": 5,
   "metadata": {},
   "outputs": [
    {
     "data": {
      "text/html": [
       "<div>\n",
       "<style scoped>\n",
       "    .dataframe tbody tr th:only-of-type {\n",
       "        vertical-align: middle;\n",
       "    }\n",
       "\n",
       "    .dataframe tbody tr th {\n",
       "        vertical-align: top;\n",
       "    }\n",
       "\n",
       "    .dataframe thead th {\n",
       "        text-align: right;\n",
       "    }\n",
       "</style>\n",
       "<table border=\"1\" class=\"dataframe\">\n",
       "  <thead>\n",
       "    <tr style=\"text-align: right;\">\n",
       "      <th></th>\n",
       "      <th>user</th>\n",
       "      <th>questions</th>\n",
       "      <th>response</th>\n",
       "    </tr>\n",
       "  </thead>\n",
       "  <tbody>\n",
       "    <tr>\n",
       "      <td>121</td>\n",
       "      <td>40</td>\n",
       "      <td>1</td>\n",
       "      <td>0</td>\n",
       "    </tr>\n",
       "    <tr>\n",
       "      <td>258</td>\n",
       "      <td>86</td>\n",
       "      <td>0</td>\n",
       "      <td>1</td>\n",
       "    </tr>\n",
       "    <tr>\n",
       "      <td>227</td>\n",
       "      <td>75</td>\n",
       "      <td>2</td>\n",
       "      <td>0</td>\n",
       "    </tr>\n",
       "  </tbody>\n",
       "</table>\n",
       "</div>"
      ],
      "text/plain": [
       "     user  questions  response\n",
       "121    40          1         0\n",
       "258    86          0         1\n",
       "227    75          2         0"
      ]
     },
     "execution_count": 5,
     "metadata": {},
     "output_type": "execute_result"
    }
   ],
   "source": [
    "df_sim['response']=df_sim['response'].apply(lambda x: int(np.round(x)))\n",
    "df_sim.head(3)"
   ]
  },
  {
   "cell_type": "markdown",
   "metadata": {},
   "source": [
    "**Saving the dataset as CSV for later use with keras:**"
   ]
  },
  {
   "cell_type": "code",
   "execution_count": 6,
   "metadata": {},
   "outputs": [],
   "source": [
    "#df_sim.to_csv('simulated_data.csv', index=False)"
   ]
  },
  {
   "cell_type": "markdown",
   "metadata": {},
   "source": [
    "**Saving the dataset in format of R**\n",
    "* Following dataset will be used to obtain coefficients from R tpm\n",
    "* table array represent users along rows & questions/items across columns in progression and contain a response value at particular index say (i,j)."
   ]
  },
  {
   "cell_type": "code",
   "execution_count": 7,
   "metadata": {},
   "outputs": [
    {
     "data": {
      "text/html": [
       "<div>\n",
       "<style scoped>\n",
       "    .dataframe tbody tr th:only-of-type {\n",
       "        vertical-align: middle;\n",
       "    }\n",
       "\n",
       "    .dataframe tbody tr th {\n",
       "        vertical-align: top;\n",
       "    }\n",
       "\n",
       "    .dataframe thead th {\n",
       "        text-align: right;\n",
       "    }\n",
       "</style>\n",
       "<table border=\"1\" class=\"dataframe\">\n",
       "  <thead>\n",
       "    <tr style=\"text-align: right;\">\n",
       "      <th></th>\n",
       "      <th>0</th>\n",
       "      <th>1</th>\n",
       "      <th>2</th>\n",
       "    </tr>\n",
       "  </thead>\n",
       "  <tbody>\n",
       "    <tr>\n",
       "      <td>0</td>\n",
       "      <td>0</td>\n",
       "      <td>0</td>\n",
       "      <td>0</td>\n",
       "    </tr>\n",
       "    <tr>\n",
       "      <td>1</td>\n",
       "      <td>0</td>\n",
       "      <td>0</td>\n",
       "      <td>0</td>\n",
       "    </tr>\n",
       "    <tr>\n",
       "      <td>2</td>\n",
       "      <td>0</td>\n",
       "      <td>0</td>\n",
       "      <td>0</td>\n",
       "    </tr>\n",
       "    <tr>\n",
       "      <td>3</td>\n",
       "      <td>1</td>\n",
       "      <td>0</td>\n",
       "      <td>0</td>\n",
       "    </tr>\n",
       "  </tbody>\n",
       "</table>\n",
       "</div>"
      ],
      "text/plain": [
       "   0  1  2\n",
       "0  0  0  0\n",
       "1  0  0  0\n",
       "2  0  0  0\n",
       "3  1  0  0"
      ]
     },
     "execution_count": 7,
     "metadata": {},
     "output_type": "execute_result"
    }
   ],
   "source": [
    "table_arr= np.zeros((num_sim_users,num_sim_items), dtype=int)\n",
    "\n",
    "for user, item, resp in data_list:\n",
    "    table_arr[user,item]= np.round(resp)\n",
    "\n",
    "df_Rtable = pd.DataFrame(table_arr)\n",
    "df_Rtable.head(4)"
   ]
  },
  {
   "cell_type": "code",
   "execution_count": 8,
   "metadata": {},
   "outputs": [],
   "source": [
    "#df_Rtable.to_csv('simulated_data.dat', sep=' ', index=False, header= None)#Saves a .dat file in pwd"
   ]
  },
  {
   "cell_type": "markdown",
   "metadata": {},
   "source": [
    "### Now using above simulated dataset to first train a keras_3PL & then R_tpm to draw comparison"
   ]
  },
  {
   "cell_type": "markdown",
   "metadata": {},
   "source": [
    "#### Defining and Training a keras model with above simulated dataset"
   ]
  },
  {
   "cell_type": "code",
   "execution_count": 9,
   "metadata": {},
   "outputs": [
    {
     "name": "stderr",
     "output_type": "stream",
     "text": [
      "Using TensorFlow backend.\n",
      "/home/kev/Desktop/pyvirtual2/lib/python3.6/site-packages/tensorflow/python/framework/dtypes.py:526: FutureWarning: Passing (type, 1) or '1type' as a synonym of type is deprecated; in a future version of numpy, it will be understood as (type, (1,)) / '(1,)type'.\n",
      "  _np_qint8 = np.dtype([(\"qint8\", np.int8, 1)])\n",
      "/home/kev/Desktop/pyvirtual2/lib/python3.6/site-packages/tensorflow/python/framework/dtypes.py:527: FutureWarning: Passing (type, 1) or '1type' as a synonym of type is deprecated; in a future version of numpy, it will be understood as (type, (1,)) / '(1,)type'.\n",
      "  _np_quint8 = np.dtype([(\"quint8\", np.uint8, 1)])\n",
      "/home/kev/Desktop/pyvirtual2/lib/python3.6/site-packages/tensorflow/python/framework/dtypes.py:528: FutureWarning: Passing (type, 1) or '1type' as a synonym of type is deprecated; in a future version of numpy, it will be understood as (type, (1,)) / '(1,)type'.\n",
      "  _np_qint16 = np.dtype([(\"qint16\", np.int16, 1)])\n",
      "/home/kev/Desktop/pyvirtual2/lib/python3.6/site-packages/tensorflow/python/framework/dtypes.py:529: FutureWarning: Passing (type, 1) or '1type' as a synonym of type is deprecated; in a future version of numpy, it will be understood as (type, (1,)) / '(1,)type'.\n",
      "  _np_quint16 = np.dtype([(\"quint16\", np.uint16, 1)])\n",
      "/home/kev/Desktop/pyvirtual2/lib/python3.6/site-packages/tensorflow/python/framework/dtypes.py:530: FutureWarning: Passing (type, 1) or '1type' as a synonym of type is deprecated; in a future version of numpy, it will be understood as (type, (1,)) / '(1,)type'.\n",
      "  _np_qint32 = np.dtype([(\"qint32\", np.int32, 1)])\n",
      "/home/kev/Desktop/pyvirtual2/lib/python3.6/site-packages/tensorflow/python/framework/dtypes.py:535: FutureWarning: Passing (type, 1) or '1type' as a synonym of type is deprecated; in a future version of numpy, it will be understood as (type, (1,)) / '(1,)type'.\n",
      "  np_resource = np.dtype([(\"resource\", np.ubyte, 1)])\n"
     ]
    }
   ],
   "source": [
    "import keras\n",
    "from keras.models import Model\n",
    "from keras.layers import Input, Dense, Activation\n",
    "from keras import metrics\n",
    "from keras.utils import to_categorical"
   ]
  },
  {
   "cell_type": "code",
   "execution_count": 10,
   "metadata": {},
   "outputs": [
    {
     "data": {
      "text/html": [
       "<div>\n",
       "<style scoped>\n",
       "    .dataframe tbody tr th:only-of-type {\n",
       "        vertical-align: middle;\n",
       "    }\n",
       "\n",
       "    .dataframe tbody tr th {\n",
       "        vertical-align: top;\n",
       "    }\n",
       "\n",
       "    .dataframe thead th {\n",
       "        text-align: right;\n",
       "    }\n",
       "</style>\n",
       "<table border=\"1\" class=\"dataframe\">\n",
       "  <thead>\n",
       "    <tr style=\"text-align: right;\">\n",
       "      <th></th>\n",
       "      <th>user</th>\n",
       "      <th>questions</th>\n",
       "      <th>response</th>\n",
       "    </tr>\n",
       "  </thead>\n",
       "  <tbody>\n",
       "    <tr>\n",
       "      <td>0</td>\n",
       "      <td>92</td>\n",
       "      <td>0</td>\n",
       "      <td>1</td>\n",
       "    </tr>\n",
       "    <tr>\n",
       "      <td>1</td>\n",
       "      <td>86</td>\n",
       "      <td>2</td>\n",
       "      <td>1</td>\n",
       "    </tr>\n",
       "    <tr>\n",
       "      <td>2</td>\n",
       "      <td>57</td>\n",
       "      <td>1</td>\n",
       "      <td>1</td>\n",
       "    </tr>\n",
       "  </tbody>\n",
       "</table>\n",
       "</div>"
      ],
      "text/plain": [
       "   user  questions  response\n",
       "0    92          0         1\n",
       "1    86          2         1\n",
       "2    57          1         1"
      ]
     },
     "execution_count": 10,
     "metadata": {},
     "output_type": "execute_result"
    }
   ],
   "source": [
    "df_sim= pd.read_csv('simulated_data.csv')\n",
    "df_sim.head(3)"
   ]
  },
  {
   "cell_type": "code",
   "execution_count": 11,
   "metadata": {},
   "outputs": [
    {
     "name": "stdout",
     "output_type": "stream",
     "text": [
      "shape of simulated x_train_user: (285, 100) \n",
      "shape of simulated  x_train_questions: (285, 3) \n",
      "shape of simulated  y_train: (285,)\n"
     ]
    }
   ],
   "source": [
    "from sklearn.model_selection import train_test_split\n",
    "\n",
    "xtrain, xtest, ytrain, ytest = train_test_split(df_sim[df_cols[:-1]], df_sim[df_cols[-1]], test_size=0.05)\n",
    "\n",
    "x_train_user = to_categorical(xtrain['user'], num_classes=num_sim_users)#contains the one-hot encoded user data\n",
    "x_train_questions = pd.get_dummies(xtrain['questions']).values#contains the one-hot encoded questions\n",
    "\n",
    "y_train= ytrain.values\n",
    "print('shape of simulated x_train_user:', x_train_user.shape,'\\nshape of simulated  x_train_questions:', x_train_questions.shape,\n",
    "      '\\nshape of simulated  y_train:',y_train.shape)"
   ]
  },
  {
   "cell_type": "markdown",
   "metadata": {},
   "source": [
    "## 3 PL IRT model\n",
    "* t_i= Degree of latent trait of i-th student\n",
    "* b_j= difficulty_level of j-th question\n",
    "* a_j= discrimination parameter of j-th question\n",
    "* c_j= pseudo guessing parameter of j-th question\n",
    "* P(i,j) = Prob of i-th student, correctly scoring on j-th item.\n",
    "\n",
    "`P{i=1,j} = c_j+ (1- c_j)*Sigmoid[a_j*(t_i - b_j)]`"
   ]
  },
  {
   "cell_type": "code",
   "execution_count": 12,
   "metadata": {},
   "outputs": [],
   "source": [
    "from keras import backend as K\n",
    "from keras.layers import Lambda\n",
    "from keras import regularizers\n",
    "from keras import initializers\n",
    "from keras.layers import Activation\n",
    "from keras import constraints"
   ]
  },
  {
   "cell_type": "code",
   "execution_count": 188,
   "metadata": {},
   "outputs": [],
   "source": [
    "user_input_layer = Input(shape=(x_train_user.shape[1],), name= 'user_id')#top half of input\n",
    "quest_input_layer = Input(shape=(x_train_questions.shape[1],), name='questions/items')#bottom half of input\n",
    "\n",
    "#1. kernel init set to RandomNorm(0,1), kernel regularizer set to l2\n",
    "latent_trait = Dense(1, use_bias=False,\n",
    "        kernel_initializer= initializers.RandomNormal(mean=0, stddev=1.0, seed=None),\n",
    "        kernel_regularizer=regularizers.l2(0.01), name='latent_trait')(user_input_layer)\n",
    "\n",
    "#2. kernel init set to RandomNorm(0,1),\n",
    "difficulty_level = Dense(1, use_bias=False,\n",
    "        kernel_initializer= initializers.RandomNormal(mean=0, stddev=1.0, seed=None),\n",
    "        name='difficulty_level')(quest_input_layer)\n",
    "\n",
    "#3. kernel init set to RandomNorm(1,1),\n",
    "discrimination_param = Dense(1, use_bias=False,\n",
    "        kernel_initializer= initializers.RandomNormal(mean=1, stddev=1.0, seed=None),\n",
    "        kernel_constraint= constraints.NonNeg(),\n",
    "        name='disc_param')(quest_input_layer)\n",
    "\n",
    "#4. should add Sigmoid activation-- ?\n",
    "guess_param = Dense(1, use_bias=False,\n",
    "                    kernel_initializer= initializers.RandomUniform(minval=-3.5, maxval=-2.5, seed=None),\n",
    "                    activation='sigmoid', name='guessing_param')(quest_input_layer)\n",
    "\n",
    "latent_difficulty_subtract = keras.layers.Subtract(name='latent_diff_sub')([latent_trait, difficulty_level])\n",
    "\n",
    "disc_param_interaction = keras.layers.Multiply(name='disc_param_inter.')([latent_difficulty_subtract, \n",
    "                                                    discrimination_param])\n",
    "\n",
    "#5. Sigmoid positioning corrected as per 3PL expression\n",
    "sigmoid_layer= Activation('sigmoid', name='Sigmoid_func')(disc_param_interaction)\n",
    "\n",
    "\n",
    "guess_param_interaction= Lambda(lambda x: K.constant(value=np.array([1])) - x, name='guess_param_inter.')(guess_param)\n",
    "\n",
    "\n",
    "guess_param_interaction= keras.layers.Multiply(name='disc/guess_param_inter.')([sigmoid_layer,\n",
    "                                                guess_param_interaction])\n",
    "\n",
    "guess_param_interaction= keras.layers.Add(name='guess_param_inter/add')([guess_param, guess_param_interaction])\n",
    "\n",
    "\n",
    "#6. changed activation to just linear\n",
    "prediction_output = Dense(1, trainable=False, use_bias=False,kernel_initializer=keras.initializers.Ones(), name='prediction_layer')(guess_param_interaction)\n",
    "\n",
    "\n",
    "model3_sim = Model(inputs=[user_input_layer, quest_input_layer], outputs= prediction_output)\n",
    "model3_sim.compile(loss= 'binary_crossentropy', optimizer='sgd', metrics= ['mae', 'accuracy'])"
   ]
  },
  {
   "cell_type": "code",
   "execution_count": 189,
   "metadata": {},
   "outputs": [
    {
     "name": "stdout",
     "output_type": "stream",
     "text": [
      "Model: \"model_2\"\n",
      "__________________________________________________________________________________________________\n",
      "Layer (type)                    Output Shape         Param #     Connected to                     \n",
      "==================================================================================================\n",
      "questions/items (InputLayer)    (None, 3)            0                                            \n",
      "__________________________________________________________________________________________________\n",
      "user_id (InputLayer)            (None, 100)          0                                            \n",
      "__________________________________________________________________________________________________\n",
      "latent_trait (Dense)            (None, 1)            100         user_id[0][0]                    \n",
      "__________________________________________________________________________________________________\n",
      "difficulty_level (Dense)        (None, 1)            3           questions/items[0][0]            \n",
      "__________________________________________________________________________________________________\n",
      "latent_diff_sub (Subtract)      (None, 1)            0           latent_trait[0][0]               \n",
      "                                                                 difficulty_level[0][0]           \n",
      "__________________________________________________________________________________________________\n",
      "disc_param (Dense)              (None, 1)            3           questions/items[0][0]            \n",
      "__________________________________________________________________________________________________\n",
      "guessing_param (Dense)          (None, 1)            3           questions/items[0][0]            \n",
      "__________________________________________________________________________________________________\n",
      "disc_param_inter. (Multiply)    (None, 1)            0           latent_diff_sub[0][0]            \n",
      "                                                                 disc_param[0][0]                 \n",
      "__________________________________________________________________________________________________\n",
      "Sigmoid_func (Activation)       (None, 1)            0           disc_param_inter.[0][0]          \n",
      "__________________________________________________________________________________________________\n",
      "guess_param_inter. (Lambda)     (None, 1)            0           guessing_param[0][0]             \n",
      "__________________________________________________________________________________________________\n",
      "disc/guess_param_inter. (Multip (None, 1)            0           Sigmoid_func[0][0]               \n",
      "                                                                 guess_param_inter.[0][0]         \n",
      "__________________________________________________________________________________________________\n",
      "guess_param_inter/add (Add)     (None, 1)            0           guessing_param[0][0]             \n",
      "                                                                 disc/guess_param_inter.[0][0]    \n",
      "__________________________________________________________________________________________________\n",
      "prediction_layer (Dense)        (None, 1)            1           guess_param_inter/add[0][0]      \n",
      "==================================================================================================\n",
      "Total params: 110\n",
      "Trainable params: 109\n",
      "Non-trainable params: 1\n",
      "__________________________________________________________________________________________________\n"
     ]
    }
   ],
   "source": [
    "model3_sim.summary()"
   ]
  },
  {
   "cell_type": "code",
   "execution_count": 15,
   "metadata": {},
   "outputs": [
    {
     "name": "stdout",
     "output_type": "stream",
     "text": [
      "WARNING:tensorflow:From /home/kev/Desktop/pyvirtual2/lib/python3.6/site-packages/tensorflow/python/ops/math_ops.py:3066: to_int32 (from tensorflow.python.ops.math_ops) is deprecated and will be removed in a future version.\n",
      "Instructions for updating:\n",
      "Use tf.cast instead.\n"
     ]
    }
   ],
   "source": [
    "history= model3_sim.fit(x=[x_train_user,x_train_questions], y=y_train, batch_size=16, epochs=256, verbose=0, validation_split=0.2)"
   ]
  },
  {
   "cell_type": "markdown",
   "metadata": {},
   "source": [
    "* Train Vs. Validation loss curves for simulated dataset"
   ]
  },
  {
   "cell_type": "code",
   "execution_count": 16,
   "metadata": {},
   "outputs": [
    {
     "data": {
      "text/plain": [
       "<Figure size 640x480 with 1 Axes>"
      ]
     },
     "metadata": {},
     "output_type": "display_data"
    }
   ],
   "source": [
    "import matplotlib.pyplot as plt\n",
    "plt.plot(history.history['loss'])\n",
    "plt.plot(history.history['val_loss'])\n",
    "plt.title('Model loss for \"3 PL model\" with sim_data')\n",
    "plt.xlabel('epoch')\n",
    "plt.ylabel('loss')\n",
    "\n",
    "plt.legend(['train', 'validation'], loc= 'upper right')\n",
    "plt.show()"
   ]
  },
  {
   "cell_type": "markdown",
   "metadata": {},
   "source": [
    "### Obtaining underlying trained 3pl parameters from keras model"
   ]
  },
  {
   "cell_type": "code",
   "execution_count": 17,
   "metadata": {},
   "outputs": [
    {
     "name": "stdout",
     "output_type": "stream",
     "text": [
      "layer no: 2 is named: latent_trait\n",
      "layer no: 3 is named: difficulty_level\n",
      "layer no: 5 is named: disc_param\n",
      "layer no: 6 is named: guessing_param\n"
     ]
    }
   ],
   "source": [
    "for idx in [2,3,5,6]:\n",
    "    print('layer no: {} is named: {}'.format(idx, model3_sim.layers[idx].name))"
   ]
  },
  {
   "cell_type": "code",
   "execution_count": 18,
   "metadata": {},
   "outputs": [],
   "source": [
    "latent_trait_parameters = model3_sim.layers[2].get_weights()[0]#latent trait for 500 users\n",
    "difficulty_level_parameters= model3_sim.layers[3].get_weights()[0]#difficulty params for 3 Quests/item.\n",
    "discrimination_parameters= model3_sim.layers[5].get_weights()[0]#dicrimination params for 3 Quests/item.\n",
    "pseudo_guess_parameters = model3_sim.layers[6].get_weights()[0]#pseudo_guess_params for 3 Quests/item."
   ]
  },
  {
   "cell_type": "code",
   "execution_count": 19,
   "metadata": {
    "scrolled": true
   },
   "outputs": [
    {
     "data": {
      "text/plain": [
       "array([[-0.5725935 ],\n",
       "       [-1.5636436 ],\n",
       "       [ 0.44383195]], dtype=float32)"
      ]
     },
     "execution_count": 19,
     "metadata": {},
     "output_type": "execute_result"
    }
   ],
   "source": [
    "difficulty_level_parameters"
   ]
  },
  {
   "cell_type": "code",
   "execution_count": 20,
   "metadata": {},
   "outputs": [
    {
     "data": {
      "text/plain": [
       "array([[1.5333399 ],\n",
       "       [0.19633137],\n",
       "       [2.9944398 ]], dtype=float32)"
      ]
     },
     "execution_count": 20,
     "metadata": {},
     "output_type": "execute_result"
    }
   ],
   "source": [
    "discrimination_parameters"
   ]
  },
  {
   "cell_type": "code",
   "execution_count": 21,
   "metadata": {},
   "outputs": [
    {
     "data": {
      "text/plain": [
       "array([[0.05725337],\n",
       "       [0.05237949],\n",
       "       [0.0708916 ]], dtype=float32)"
      ]
     },
     "execution_count": 21,
     "metadata": {},
     "output_type": "execute_result"
    }
   ],
   "source": [
    "pseudo_guess_parameters = np.exp(pseudo_guess_parameters)/(1+ np.exp(pseudo_guess_parameters))\n",
    "pseudo_guess_parameters#New after sigmoid(weights)"
   ]
  },
  {
   "cell_type": "markdown",
   "metadata": {},
   "source": [
    "### Loading R's 3PL model paramters from simulated dataset for comparison\n"
   ]
  },
  {
   "cell_type": "code",
   "execution_count": 22,
   "metadata": {},
   "outputs": [
    {
     "data": {
      "text/html": [
       "<div>\n",
       "<style scoped>\n",
       "    .dataframe tbody tr th:only-of-type {\n",
       "        vertical-align: middle;\n",
       "    }\n",
       "\n",
       "    .dataframe tbody tr th {\n",
       "        vertical-align: top;\n",
       "    }\n",
       "\n",
       "    .dataframe thead th {\n",
       "        text-align: right;\n",
       "    }\n",
       "</style>\n",
       "<table border=\"1\" class=\"dataframe\">\n",
       "  <thead>\n",
       "    <tr style=\"text-align: right;\">\n",
       "      <th></th>\n",
       "      <th>Unnamed: 0</th>\n",
       "      <th>Gussng</th>\n",
       "      <th>Dffclt</th>\n",
       "      <th>Dscrmn</th>\n",
       "    </tr>\n",
       "  </thead>\n",
       "  <tbody>\n",
       "    <tr>\n",
       "      <td>0</td>\n",
       "      <td>V1</td>\n",
       "      <td>0.048993</td>\n",
       "      <td>-0.539199</td>\n",
       "      <td>23.963986</td>\n",
       "    </tr>\n",
       "    <tr>\n",
       "      <td>1</td>\n",
       "      <td>V2</td>\n",
       "      <td>0.000008</td>\n",
       "      <td>0.044664</td>\n",
       "      <td>21.340652</td>\n",
       "    </tr>\n",
       "    <tr>\n",
       "      <td>2</td>\n",
       "      <td>V3</td>\n",
       "      <td>0.000003</td>\n",
       "      <td>0.695396</td>\n",
       "      <td>18.530009</td>\n",
       "    </tr>\n",
       "  </tbody>\n",
       "</table>\n",
       "</div>"
      ],
      "text/plain": [
       "  Unnamed: 0    Gussng    Dffclt     Dscrmn\n",
       "0         V1  0.048993 -0.539199  23.963986\n",
       "1         V2  0.000008  0.044664  21.340652\n",
       "2         V3  0.000003  0.695396  18.530009"
      ]
     },
     "execution_count": 22,
     "metadata": {},
     "output_type": "execute_result"
    }
   ],
   "source": [
    "coeff = pd.read_csv('simulated_data_r_coeffs.csv')\n",
    "coeff.head(3)"
   ]
  },
  {
   "cell_type": "code",
   "execution_count": 23,
   "metadata": {},
   "outputs": [
    {
     "data": {
      "text/plain": [
       "['Unnamed: 0', 'Gussng', 'Dffclt', 'Dscrmn']"
      ]
     },
     "execution_count": 23,
     "metadata": {},
     "output_type": "execute_result"
    }
   ],
   "source": [
    "r_params_cols =list(coeff.columns)\n",
    "r_params_cols#columns from R's dataframe"
   ]
  },
  {
   "cell_type": "markdown",
   "metadata": {},
   "source": [
    "### Table representation of param values from keras Vs. R"
   ]
  },
  {
   "cell_type": "code",
   "execution_count": 24,
   "metadata": {},
   "outputs": [],
   "source": [
    "rel_items= list(range(1, df_sim['questions'].nunique()+1))"
   ]
  },
  {
   "cell_type": "code",
   "execution_count": 25,
   "metadata": {},
   "outputs": [
    {
     "data": {
      "text/html": [
       "<div>\n",
       "<style scoped>\n",
       "    .dataframe tbody tr th:only-of-type {\n",
       "        vertical-align: middle;\n",
       "    }\n",
       "\n",
       "    .dataframe tbody tr th {\n",
       "        vertical-align: top;\n",
       "    }\n",
       "\n",
       "    .dataframe thead th {\n",
       "        text-align: right;\n",
       "    }\n",
       "</style>\n",
       "<table border=\"1\" class=\"dataframe\">\n",
       "  <thead>\n",
       "    <tr style=\"text-align: right;\">\n",
       "      <th></th>\n",
       "      <th>Questions</th>\n",
       "      <th>Difficulty-keras</th>\n",
       "      <th>Difficulty-R</th>\n",
       "      <th>Discrimination-keras</th>\n",
       "      <th>Discrimination-R</th>\n",
       "      <th>Guess-keras</th>\n",
       "      <th>Guess-R</th>\n",
       "    </tr>\n",
       "  </thead>\n",
       "  <tbody>\n",
       "    <tr>\n",
       "      <td>0</td>\n",
       "      <td>1</td>\n",
       "      <td>-0.572594</td>\n",
       "      <td>-0.539199</td>\n",
       "      <td>1.533340</td>\n",
       "      <td>23.963986</td>\n",
       "      <td>0.057253</td>\n",
       "      <td>-0.539199</td>\n",
       "    </tr>\n",
       "    <tr>\n",
       "      <td>1</td>\n",
       "      <td>2</td>\n",
       "      <td>-1.563644</td>\n",
       "      <td>0.044664</td>\n",
       "      <td>0.196331</td>\n",
       "      <td>21.340652</td>\n",
       "      <td>0.052379</td>\n",
       "      <td>0.044664</td>\n",
       "    </tr>\n",
       "    <tr>\n",
       "      <td>2</td>\n",
       "      <td>3</td>\n",
       "      <td>0.443832</td>\n",
       "      <td>0.695396</td>\n",
       "      <td>2.994440</td>\n",
       "      <td>18.530009</td>\n",
       "      <td>0.070892</td>\n",
       "      <td>0.695396</td>\n",
       "    </tr>\n",
       "  </tbody>\n",
       "</table>\n",
       "</div>"
      ],
      "text/plain": [
       "   Questions  Difficulty-keras  Difficulty-R  Discrimination-keras  \\\n",
       "0          1         -0.572594     -0.539199              1.533340   \n",
       "1          2         -1.563644      0.044664              0.196331   \n",
       "2          3          0.443832      0.695396              2.994440   \n",
       "\n",
       "   Discrimination-R  Guess-keras   Guess-R  \n",
       "0         23.963986     0.057253 -0.539199  \n",
       "1         21.340652     0.052379  0.044664  \n",
       "2         18.530009     0.070892  0.695396  "
      ]
     },
     "execution_count": 25,
     "metadata": {},
     "output_type": "execute_result"
    }
   ],
   "source": [
    "df_table= pd.DataFrame({'Questions': rel_items, 'Difficulty-keras': difficulty_level_parameters.reshape(-1),\n",
    " 'Difficulty-R':coeff[r_params_cols[2]].values, 'Discrimination-keras':discrimination_parameters.reshape(-1),\n",
    " 'Discrimination-R':coeff[r_params_cols[-1]].values, 'Guess-keras':pseudo_guess_parameters.reshape(-1),\n",
    " 'Guess-R':coeff[r_params_cols[2]].values})\n",
    "df_table.head(5)"
   ]
  },
  {
   "cell_type": "code",
   "execution_count": 26,
   "metadata": {},
   "outputs": [
    {
     "data": {
      "text/plain": [
       "0   -0.539199\n",
       "1    0.044664\n",
       "2    0.695396\n",
       "Name: Dffclt, dtype: float64"
      ]
     },
     "execution_count": 26,
     "metadata": {},
     "output_type": "execute_result"
    }
   ],
   "source": [
    "normalized_diff_r=coeff[r_params_cols[2]]#/coeff[r_params_cols[2]].sum()\n",
    "normalized_diff_r#new difficulty vals from R"
   ]
  },
  {
   "cell_type": "markdown",
   "metadata": {},
   "source": [
    "## Scatterplots"
   ]
  },
  {
   "cell_type": "markdown",
   "metadata": {},
   "source": [
    "### 1. Difficulty vals from keras_3pl vs. R_3pl\n",
    "\n",
    "* R_tpm values are plotted across X\n",
    "* Keras values are plotted across Y"
   ]
  },
  {
   "cell_type": "code",
   "execution_count": 27,
   "metadata": {},
   "outputs": [
    {
     "data": {
      "image/png": "[encoded data removed]",
      "text/plain": [
       "<Figure size 432x288 with 1 Axes>"
      ]
     },
     "metadata": {
      "needs_background": "light"
     },
     "output_type": "display_data"
    }
   ],
   "source": [
    "fig = plt.figure()\n",
    "ax = fig.add_subplot(1, 1, 1)\n",
    "y,x = (difficulty_level_parameters.reshape(-1), normalized_diff_r.values)\n",
    "\n",
    "ax.scatter(x, y, alpha=0.8, c=\"red\", edgecolors='none', s=30, label=\"difficulty level R Vs. keras\")\n",
    "plt.title('difficulty params from R_3pl Vs. keras_3pl')\n",
    "plt.ylabel('keras_3pl: Difficulty')\n",
    "plt.xlabel('R_tpm: Difficulty')\n",
    "plt.legend(loc=1)\n",
    "\n",
    "plt.show()"
   ]
  },
  {
   "cell_type": "markdown",
   "metadata": {},
   "source": [
    "### 2. Discrimination vals from keras_3pl vs. R_3pl\n",
    "\n",
    "* R_tpm values are plotted across X\n",
    "* Keras values are plotted across Y"
   ]
  },
  {
   "cell_type": "code",
   "execution_count": 28,
   "metadata": {},
   "outputs": [
    {
     "data": {
      "image/png": "[encoded data removed]",
      "text/plain": [
       "<Figure size 432x288 with 1 Axes>"
      ]
     },
     "metadata": {
      "needs_background": "light"
     },
     "output_type": "display_data"
    }
   ],
   "source": [
    "fig = plt.figure()\n",
    "ax = fig.add_subplot(1, 1, 1)\n",
    "y,x = (discrimination_parameters, coeff[r_params_cols[-1]].values)\n",
    "\n",
    "ax.scatter(x, y, alpha=0.8, c=\"red\", edgecolors='none', s=30, label=\"discrimination R Vs. keras\")\n",
    "plt.title('discrimination parameters from R_3pl Vs. keras_3pl')\n",
    "plt.ylabel('keras_3pl: discrimination')\n",
    "plt.xlabel('R_tpm: discrimination')\n",
    "\n",
    "plt.legend(loc=1)\n",
    "plt.show()"
   ]
  },
  {
   "cell_type": "markdown",
   "metadata": {},
   "source": [
    "### 3. Guessing param values from keras_3pl vs. R_3pl\n",
    "\n",
    "* R_tpm values are plotted across X\n",
    "* Keras values are plotted across Y\n"
   ]
  },
  {
   "cell_type": "code",
   "execution_count": 29,
   "metadata": {},
   "outputs": [
    {
     "data": {
      "image/png": "[encoded data removed]",
      "text/plain": [
       "<Figure size 432x288 with 1 Axes>"
      ]
     },
     "metadata": {
      "needs_background": "light"
     },
     "output_type": "display_data"
    }
   ],
   "source": [
    "fig = plt.figure()\n",
    "ax = fig.add_subplot(1, 1, 1)\n",
    "y,x = (pseudo_guess_parameters, coeff[r_params_cols[1]].values)\n",
    "\n",
    "ax.scatter(x, y, alpha=0.8, c=\"red\", edgecolors='none', s=30, label=\"guessing R Vs. keras\")\n",
    "plt.title('guessing parameters from R_3pl Vs. keras_3pl')\n",
    "plt.ylabel('keras_3pl: guessing')\n",
    "plt.xlabel('R_tpm: guessing')\n",
    "\n",
    "plt.legend(loc=1)\n",
    "plt.show()"
   ]
  },
  {
   "cell_type": "markdown",
   "metadata": {},
   "source": [
    "## Item characteristic curves for all 3 items from simulated dataset with R tpm"
   ]
  },
  {
   "cell_type": "code",
   "execution_count": 30,
   "metadata": {},
   "outputs": [],
   "source": [
    "def logit_func(lat_values):#c:guess, a:descrimination, b:difficulty\n",
    "    prob = list()\n",
    "    prob.append(c+ (1-c)*(np.exp(a*(lat_values-b))/(1+np.exp(a*(lat_values-b)))))#Vectorised implementation\n",
    "    #for val in lat_values:\n",
    "    #    prob.append(c+ (1-c)*(np.exp(a*(val-b))/(1+np.exp(a*(val-b)))))\n",
    "    return prob"
   ]
  },
  {
   "cell_type": "code",
   "execution_count": 31,
   "metadata": {},
   "outputs": [],
   "source": [
    "x = np.linspace(-4,4, num=num_sim_users)#value count for x axis"
   ]
  },
  {
   "cell_type": "code",
   "execution_count": 32,
   "metadata": {},
   "outputs": [
    {
     "data": {
      "image/png": "[encoded data removed]",
      "text/plain": [
       "<Figure size 432x288 with 1 Axes>"
      ]
     },
     "metadata": {
      "needs_background": "light"
     },
     "output_type": "display_data"
    }
   ],
   "source": [
    "for i in range(coeff.shape[0]):\n",
    "    c= coeff[r_params_cols[1]].iloc[i]#values of item 6 from R's dataframe\n",
    "    a= coeff[r_params_cols[-1]].iloc[i]\n",
    "    b= coeff[r_params_cols[2]].iloc[i]\n",
    "    vals_r= logit_func(x)\n",
    "    plt.plot(x,vals_r[0], 'r')\n",
    "\n",
    "plt.title('ICC for each of 10 items from R_3pl')\n",
    "plt.xlabel('x: latent_trait_vals')\n",
    "plt.ylabel('y: P(i=1|x)')\n",
    "plt.show()"
   ]
  },
  {
   "cell_type": "markdown",
   "metadata": {},
   "source": [
    "## Item characteristic curves for all items from simulated dataset with keras 3PL"
   ]
  },
  {
   "cell_type": "code",
   "execution_count": 33,
   "metadata": {},
   "outputs": [
    {
     "data": {
      "image/png": "[encoded data removed]",
      "text/plain": [
       "<Figure size 432x288 with 1 Axes>"
      ]
     },
     "metadata": {
      "needs_background": "light"
     },
     "output_type": "display_data"
    }
   ],
   "source": [
    "for i in range(len(rel_items)):#10 items\n",
    "    c= pseudo_guess_parameters[i]#values for item 6 from keras 3pl params\n",
    "    a= discrimination_parameters[i]\n",
    "    b= difficulty_level_parameters[i]\n",
    "    vals_keras= logit_func(x)\n",
    "    plt.plot(x,vals_keras[0], 'b')\n",
    "\n",
    "plt.title('ICC for each of 10 items from keras_3pl')\n",
    "plt.xlabel('x: latent_trait_vals')\n",
    "plt.ylabel('y: P(i=1|x)')\n",
    "plt.show()#for mean=0 stdDev=1"
   ]
  },
  {
   "cell_type": "markdown",
   "metadata": {},
   "source": [
    "_____________________"
   ]
  },
  {
   "cell_type": "markdown",
   "metadata": {},
   "source": [
    "### Adding additional user/item/response records to exisiting data using binomial prob. distribution"
   ]
  },
  {
   "cell_type": "code",
   "execution_count": 34,
   "metadata": {},
   "outputs": [
    {
     "data": {
      "text/html": [
       "<div>\n",
       "<style scoped>\n",
       "    .dataframe tbody tr th:only-of-type {\n",
       "        vertical-align: middle;\n",
       "    }\n",
       "\n",
       "    .dataframe tbody tr th {\n",
       "        vertical-align: top;\n",
       "    }\n",
       "\n",
       "    .dataframe thead th {\n",
       "        text-align: right;\n",
       "    }\n",
       "</style>\n",
       "<table border=\"1\" class=\"dataframe\">\n",
       "  <thead>\n",
       "    <tr style=\"text-align: right;\">\n",
       "      <th></th>\n",
       "      <th>user</th>\n",
       "      <th>questions</th>\n",
       "      <th>response</th>\n",
       "    </tr>\n",
       "  </thead>\n",
       "  <tbody>\n",
       "    <tr>\n",
       "      <td>0</td>\n",
       "      <td>92</td>\n",
       "      <td>0</td>\n",
       "      <td>0.556639</td>\n",
       "    </tr>\n",
       "    <tr>\n",
       "      <td>1</td>\n",
       "      <td>86</td>\n",
       "      <td>2</td>\n",
       "      <td>0.539308</td>\n",
       "    </tr>\n",
       "    <tr>\n",
       "      <td>2</td>\n",
       "      <td>57</td>\n",
       "      <td>1</td>\n",
       "      <td>0.674226</td>\n",
       "    </tr>\n",
       "  </tbody>\n",
       "</table>\n",
       "</div>"
      ],
      "text/plain": [
       "   user  questions  response\n",
       "0    92          0  0.556639\n",
       "1    86          2  0.539308\n",
       "2    57          1  0.674226"
      ]
     },
     "execution_count": 34,
     "metadata": {},
     "output_type": "execute_result"
    }
   ],
   "source": [
    "c_probs= pd.read_csv('simulated_data_c_probs.csv')\n",
    "c_probs.head(3)"
   ]
  },
  {
   "cell_type": "code",
   "execution_count": 35,
   "metadata": {
    "scrolled": true
   },
   "outputs": [
    {
     "data": {
      "text/plain": [
       "array([1, 3, 3])"
      ]
     },
     "execution_count": 35,
     "metadata": {},
     "output_type": "execute_result"
    }
   ],
   "source": [
    "np.random.binomial(5, c_probs['response'].iloc[0],3)#For 3 trails of 5 exps/appraoch each "
   ]
  },
  {
   "cell_type": "code",
   "execution_count": 76,
   "metadata": {},
   "outputs": [
    {
     "data": {
      "text/plain": [
       "array([[92.        ,  0.        ,  0.55663905],\n",
       "       [86.        ,  2.        ,  0.53930795],\n",
       "       [57.        ,  1.        ,  0.67422594],\n",
       "       [97.        ,  2.        ,  0.10632712],\n",
       "       [48.        ,  0.        ,  0.65960186],\n",
       "       [22.        ,  1.        ,  0.33387805],\n",
       "       [96.        ,  2.        ,  0.54257647],\n",
       "       [87.        ,  0.        ,  0.68642433]])"
      ]
     },
     "execution_count": 76,
     "metadata": {},
     "output_type": "execute_result"
    }
   ],
   "source": [
    "c_mat= c_probs.values\n",
    "c_mat[:8]"
   ]
  },
  {
   "cell_type": "code",
   "execution_count": 93,
   "metadata": {
    "scrolled": true
   },
   "outputs": [
    {
     "data": {
      "text/plain": [
       "(array([  2,  39,  45, 229, 299]),)"
      ]
     },
     "execution_count": 93,
     "metadata": {},
     "output_type": "execute_result"
    }
   ],
   "source": [
    "np.where(c_mat[:,0]==57)"
   ]
  },
  {
   "cell_type": "code",
   "execution_count": 77,
   "metadata": {
    "scrolled": true
   },
   "outputs": [
    {
     "data": {
      "text/plain": [
       "(array([  0,  50, 128, 213]),)"
      ]
     },
     "execution_count": 77,
     "metadata": {},
     "output_type": "execute_result"
    }
   ],
   "source": [
    "np.where(c_mat[:,0]==92)"
   ]
  },
  {
   "cell_type": "markdown",
   "metadata": {},
   "source": [
    "* Since there are only 3 items to uniquely respond, therefore each user might have responded to same question mutiple times."
   ]
  },
  {
   "cell_type": "markdown",
   "metadata": {},
   "source": [
    "### Following function appends new records to existing data"
   ]
  },
  {
   "cell_type": "code",
   "execution_count": 172,
   "metadata": {},
   "outputs": [],
   "source": [
    "def add_data(array, points_per_user):\n",
    "    array_li= array.tolist()\n",
    "    dock_list=list()#to hold new lists\n",
    "    for u, i, prob in array_li:\n",
    "        count_success = np.random.binomial(points_per_user, prob)\n",
    "        \n",
    "        for idx in range(count_success):\n",
    "            dock_list.append([u,i, prob])\n",
    "        for idx in range(points_per_user-count_success):\n",
    "            dock_list.append([u,i, 1-prob])\n",
    "        \n",
    "    array_li+=dock_list\n",
    "    return np.array(array_li)"
   ]
  },
  {
   "cell_type": "code",
   "execution_count": 174,
   "metadata": {
    "scrolled": true
   },
   "outputs": [
    {
     "data": {
      "text/plain": [
       "(300, 3)"
      ]
     },
     "execution_count": 174,
     "metadata": {},
     "output_type": "execute_result"
    }
   ],
   "source": [
    "c_mat.shape#Current shape without additions of new rows/records"
   ]
  },
  {
   "cell_type": "markdown",
   "metadata": {},
   "source": [
    "* **Adding 10 bernouli experiments per user for a single sequence/trial**"
   ]
  },
  {
   "cell_type": "code",
   "execution_count": 177,
   "metadata": {},
   "outputs": [],
   "source": [
    "abc= add_data(c_mat, 10)"
   ]
  },
  {
   "cell_type": "code",
   "execution_count": 185,
   "metadata": {},
   "outputs": [
    {
     "data": {
      "text/html": [
       "<div>\n",
       "<style scoped>\n",
       "    .dataframe tbody tr th:only-of-type {\n",
       "        vertical-align: middle;\n",
       "    }\n",
       "\n",
       "    .dataframe tbody tr th {\n",
       "        vertical-align: top;\n",
       "    }\n",
       "\n",
       "    .dataframe thead th {\n",
       "        text-align: right;\n",
       "    }\n",
       "</style>\n",
       "<table border=\"1\" class=\"dataframe\">\n",
       "  <thead>\n",
       "    <tr style=\"text-align: right;\">\n",
       "      <th></th>\n",
       "      <th>user</th>\n",
       "      <th>questions</th>\n",
       "      <th>response</th>\n",
       "    </tr>\n",
       "  </thead>\n",
       "  <tbody>\n",
       "    <tr>\n",
       "      <td>0</td>\n",
       "      <td>92.0</td>\n",
       "      <td>0.0</td>\n",
       "      <td>0.556639</td>\n",
       "    </tr>\n",
       "    <tr>\n",
       "      <td>1</td>\n",
       "      <td>86.0</td>\n",
       "      <td>2.0</td>\n",
       "      <td>0.539308</td>\n",
       "    </tr>\n",
       "    <tr>\n",
       "      <td>2</td>\n",
       "      <td>57.0</td>\n",
       "      <td>1.0</td>\n",
       "      <td>0.674226</td>\n",
       "    </tr>\n",
       "    <tr>\n",
       "      <td>3</td>\n",
       "      <td>97.0</td>\n",
       "      <td>2.0</td>\n",
       "      <td>0.106327</td>\n",
       "    </tr>\n",
       "    <tr>\n",
       "      <td>4</td>\n",
       "      <td>48.0</td>\n",
       "      <td>0.0</td>\n",
       "      <td>0.659602</td>\n",
       "    </tr>\n",
       "    <tr>\n",
       "      <td>...</td>\n",
       "      <td>...</td>\n",
       "      <td>...</td>\n",
       "      <td>...</td>\n",
       "    </tr>\n",
       "    <tr>\n",
       "      <td>3295</td>\n",
       "      <td>57.0</td>\n",
       "      <td>2.0</td>\n",
       "      <td>0.443326</td>\n",
       "    </tr>\n",
       "    <tr>\n",
       "      <td>3296</td>\n",
       "      <td>57.0</td>\n",
       "      <td>2.0</td>\n",
       "      <td>0.443326</td>\n",
       "    </tr>\n",
       "    <tr>\n",
       "      <td>3297</td>\n",
       "      <td>57.0</td>\n",
       "      <td>2.0</td>\n",
       "      <td>0.443326</td>\n",
       "    </tr>\n",
       "    <tr>\n",
       "      <td>3298</td>\n",
       "      <td>57.0</td>\n",
       "      <td>2.0</td>\n",
       "      <td>0.443326</td>\n",
       "    </tr>\n",
       "    <tr>\n",
       "      <td>3299</td>\n",
       "      <td>57.0</td>\n",
       "      <td>2.0</td>\n",
       "      <td>0.443326</td>\n",
       "    </tr>\n",
       "  </tbody>\n",
       "</table>\n",
       "<p>3300 rows × 3 columns</p>\n",
       "</div>"
      ],
      "text/plain": [
       "      user  questions  response\n",
       "0     92.0        0.0  0.556639\n",
       "1     86.0        2.0  0.539308\n",
       "2     57.0        1.0  0.674226\n",
       "3     97.0        2.0  0.106327\n",
       "4     48.0        0.0  0.659602\n",
       "...    ...        ...       ...\n",
       "3295  57.0        2.0  0.443326\n",
       "3296  57.0        2.0  0.443326\n",
       "3297  57.0        2.0  0.443326\n",
       "3298  57.0        2.0  0.443326\n",
       "3299  57.0        2.0  0.443326\n",
       "\n",
       "[3300 rows x 3 columns]"
      ]
     },
     "execution_count": 185,
     "metadata": {},
     "output_type": "execute_result"
    }
   ],
   "source": [
    "df_abc = pd.DataFrame(abc, columns=df_cols)\n",
    "df_abc"
   ]
  },
  {
   "cell_type": "markdown",
   "metadata": {},
   "source": [
    "* New records added"
   ]
  },
  {
   "cell_type": "code",
   "execution_count": 184,
   "metadata": {},
   "outputs": [
    {
     "data": {
      "text/html": [
       "<div>\n",
       "<style scoped>\n",
       "    .dataframe tbody tr th:only-of-type {\n",
       "        vertical-align: middle;\n",
       "    }\n",
       "\n",
       "    .dataframe tbody tr th {\n",
       "        vertical-align: top;\n",
       "    }\n",
       "\n",
       "    .dataframe thead th {\n",
       "        text-align: right;\n",
       "    }\n",
       "</style>\n",
       "<table border=\"1\" class=\"dataframe\">\n",
       "  <thead>\n",
       "    <tr style=\"text-align: right;\">\n",
       "      <th></th>\n",
       "      <th>user</th>\n",
       "      <th>questions</th>\n",
       "      <th>response</th>\n",
       "    </tr>\n",
       "  </thead>\n",
       "  <tbody>\n",
       "    <tr>\n",
       "      <td>count</td>\n",
       "      <td>3300.00000</td>\n",
       "      <td>3300.000000</td>\n",
       "      <td>3300.000000</td>\n",
       "    </tr>\n",
       "    <tr>\n",
       "      <td>mean</td>\n",
       "      <td>51.04000</td>\n",
       "      <td>0.973333</td>\n",
       "      <td>0.587002</td>\n",
       "    </tr>\n",
       "    <tr>\n",
       "      <td>std</td>\n",
       "      <td>28.62563</td>\n",
       "      <td>0.844297</td>\n",
       "      <td>0.195096</td>\n",
       "    </tr>\n",
       "    <tr>\n",
       "      <td>min</td>\n",
       "      <td>1.00000</td>\n",
       "      <td>0.000000</td>\n",
       "      <td>0.038512</td>\n",
       "    </tr>\n",
       "    <tr>\n",
       "      <td>25%</td>\n",
       "      <td>26.75000</td>\n",
       "      <td>0.000000</td>\n",
       "      <td>0.443326</td>\n",
       "    </tr>\n",
       "    <tr>\n",
       "      <td>50%</td>\n",
       "      <td>50.00000</td>\n",
       "      <td>1.000000</td>\n",
       "      <td>0.585409</td>\n",
       "    </tr>\n",
       "    <tr>\n",
       "      <td>75%</td>\n",
       "      <td>77.00000</td>\n",
       "      <td>2.000000</td>\n",
       "      <td>0.726413</td>\n",
       "    </tr>\n",
       "    <tr>\n",
       "      <td>max</td>\n",
       "      <td>99.00000</td>\n",
       "      <td>2.000000</td>\n",
       "      <td>0.961488</td>\n",
       "    </tr>\n",
       "  </tbody>\n",
       "</table>\n",
       "</div>"
      ],
      "text/plain": [
       "             user    questions     response\n",
       "count  3300.00000  3300.000000  3300.000000\n",
       "mean     51.04000     0.973333     0.587002\n",
       "std      28.62563     0.844297     0.195096\n",
       "min       1.00000     0.000000     0.038512\n",
       "25%      26.75000     0.000000     0.443326\n",
       "50%      50.00000     1.000000     0.585409\n",
       "75%      77.00000     2.000000     0.726413\n",
       "max      99.00000     2.000000     0.961488"
      ]
     },
     "execution_count": 184,
     "metadata": {},
     "output_type": "execute_result"
    }
   ],
   "source": [
    "df_abc.describe()"
   ]
  },
  {
   "cell_type": "markdown",
   "metadata": {},
   "source": [
    "### Now training keras 3PL with new dataset"
   ]
  },
  {
   "cell_type": "markdown",
   "metadata": {},
   "source": [
    "* **Converting responses to 0s & 1s**"
   ]
  },
  {
   "cell_type": "code",
   "execution_count": 186,
   "metadata": {},
   "outputs": [
    {
     "data": {
      "text/html": [
       "<div>\n",
       "<style scoped>\n",
       "    .dataframe tbody tr th:only-of-type {\n",
       "        vertical-align: middle;\n",
       "    }\n",
       "\n",
       "    .dataframe tbody tr th {\n",
       "        vertical-align: top;\n",
       "    }\n",
       "\n",
       "    .dataframe thead th {\n",
       "        text-align: right;\n",
       "    }\n",
       "</style>\n",
       "<table border=\"1\" class=\"dataframe\">\n",
       "  <thead>\n",
       "    <tr style=\"text-align: right;\">\n",
       "      <th></th>\n",
       "      <th>user</th>\n",
       "      <th>questions</th>\n",
       "      <th>response</th>\n",
       "    </tr>\n",
       "  </thead>\n",
       "  <tbody>\n",
       "    <tr>\n",
       "      <td>0</td>\n",
       "      <td>92.0</td>\n",
       "      <td>0.0</td>\n",
       "      <td>1</td>\n",
       "    </tr>\n",
       "    <tr>\n",
       "      <td>1</td>\n",
       "      <td>86.0</td>\n",
       "      <td>2.0</td>\n",
       "      <td>1</td>\n",
       "    </tr>\n",
       "    <tr>\n",
       "      <td>2</td>\n",
       "      <td>57.0</td>\n",
       "      <td>1.0</td>\n",
       "      <td>1</td>\n",
       "    </tr>\n",
       "  </tbody>\n",
       "</table>\n",
       "</div>"
      ],
      "text/plain": [
       "   user  questions  response\n",
       "0  92.0        0.0         1\n",
       "1  86.0        2.0         1\n",
       "2  57.0        1.0         1"
      ]
     },
     "execution_count": 186,
     "metadata": {},
     "output_type": "execute_result"
    }
   ],
   "source": [
    "df_abc['response']=df_abc['response'].apply(lambda x: int(np.round(x)))\n",
    "df_abc.head(3)"
   ]
  },
  {
   "cell_type": "markdown",
   "metadata": {},
   "source": [
    "* Train & test splitting data"
   ]
  },
  {
   "cell_type": "code",
   "execution_count": 187,
   "metadata": {},
   "outputs": [
    {
     "name": "stdout",
     "output_type": "stream",
     "text": [
      "shape of simulated x_train_user: (3135, 100) \n",
      "shape of simulated  x_train_questions: (3135, 3) \n",
      "shape of simulated  y_train: (3135,)\n"
     ]
    }
   ],
   "source": [
    "from sklearn.model_selection import train_test_split\n",
    "\n",
    "xtrain, xtest, ytrain, ytest = train_test_split(df_abc[df_cols[:-1]], df_abc[df_cols[-1]], test_size=0.05)\n",
    "\n",
    "x_train_user = to_categorical(xtrain['user'], num_classes=num_sim_users)#contains the one-hot encoded user data\n",
    "x_train_questions = pd.get_dummies(xtrain['questions']).values#contains the one-hot encoded questions\n",
    "\n",
    "y_train= ytrain.values\n",
    "print('shape of simulated x_train_user:', x_train_user.shape,'\\nshape of simulated  x_train_questions:', x_train_questions.shape,\n",
    "      '\\nshape of simulated  y_train:',y_train.shape)"
   ]
  },
  {
   "cell_type": "code",
   "execution_count": 190,
   "metadata": {
    "scrolled": false
   },
   "outputs": [
    {
     "name": "stdout",
     "output_type": "stream",
     "text": [
      "Model: \"model_2\"\n",
      "__________________________________________________________________________________________________\n",
      "Layer (type)                    Output Shape         Param #     Connected to                     \n",
      "==================================================================================================\n",
      "questions/items (InputLayer)    (None, 3)            0                                            \n",
      "__________________________________________________________________________________________________\n",
      "user_id (InputLayer)            (None, 100)          0                                            \n",
      "__________________________________________________________________________________________________\n",
      "latent_trait (Dense)            (None, 1)            100         user_id[0][0]                    \n",
      "__________________________________________________________________________________________________\n",
      "difficulty_level (Dense)        (None, 1)            3           questions/items[0][0]            \n",
      "__________________________________________________________________________________________________\n",
      "latent_diff_sub (Subtract)      (None, 1)            0           latent_trait[0][0]               \n",
      "                                                                 difficulty_level[0][0]           \n",
      "__________________________________________________________________________________________________\n",
      "disc_param (Dense)              (None, 1)            3           questions/items[0][0]            \n",
      "__________________________________________________________________________________________________\n",
      "guessing_param (Dense)          (None, 1)            3           questions/items[0][0]            \n",
      "__________________________________________________________________________________________________\n",
      "disc_param_inter. (Multiply)    (None, 1)            0           latent_diff_sub[0][0]            \n",
      "                                                                 disc_param[0][0]                 \n",
      "__________________________________________________________________________________________________\n",
      "Sigmoid_func (Activation)       (None, 1)            0           disc_param_inter.[0][0]          \n",
      "__________________________________________________________________________________________________\n",
      "guess_param_inter. (Lambda)     (None, 1)            0           guessing_param[0][0]             \n",
      "__________________________________________________________________________________________________\n",
      "disc/guess_param_inter. (Multip (None, 1)            0           Sigmoid_func[0][0]               \n",
      "                                                                 guess_param_inter.[0][0]         \n",
      "__________________________________________________________________________________________________\n",
      "guess_param_inter/add (Add)     (None, 1)            0           guessing_param[0][0]             \n",
      "                                                                 disc/guess_param_inter.[0][0]    \n",
      "__________________________________________________________________________________________________\n",
      "prediction_layer (Dense)        (None, 1)            1           guess_param_inter/add[0][0]      \n",
      "==================================================================================================\n",
      "Total params: 110\n",
      "Trainable params: 109\n",
      "Non-trainable params: 1\n",
      "__________________________________________________________________________________________________\n"
     ]
    }
   ],
   "source": [
    "model3_sim.compile(loss= 'binary_crossentropy', optimizer='sgd', metrics= ['mae', 'accuracy'])\n",
    "model3_sim.summary()"
   ]
  },
  {
   "cell_type": "code",
   "execution_count": 191,
   "metadata": {
    "scrolled": true
   },
   "outputs": [
    {
     "name": "stdout",
     "output_type": "stream",
     "text": [
      "Train on 2508 samples, validate on 627 samples\n",
      "Epoch 1/256\n",
      "2508/2508 [==============================] - 0s 52us/step - loss: 1.7185 - mae: 0.4784 - accuracy: 0.6288 - val_loss: 1.7072 - val_mae: 0.4787 - val_accuracy: 0.6364\n",
      "Epoch 2/256\n",
      "2508/2508 [==============================] - 0s 12us/step - loss: 1.7001 - mae: 0.4780 - accuracy: 0.6328 - val_loss: 1.6895 - val_mae: 0.4786 - val_accuracy: 0.6364\n",
      "Epoch 3/256\n",
      "2508/2508 [==============================] - 0s 15us/step - loss: 1.6824 - mae: 0.4779 - accuracy: 0.6328 - val_loss: 1.6721 - val_mae: 0.4785 - val_accuracy: 0.6316\n",
      "Epoch 4/256\n",
      "2508/2508 [==============================] - 0s 13us/step - loss: 1.6650 - mae: 0.4777 - accuracy: 0.6332 - val_loss: 1.6551 - val_mae: 0.4783 - val_accuracy: 0.6188\n",
      "Epoch 5/256\n",
      "2508/2508 [==============================] - 0s 15us/step - loss: 1.6479 - mae: 0.4775 - accuracy: 0.6344 - val_loss: 1.6384 - val_mae: 0.4782 - val_accuracy: 0.6140\n",
      "Epoch 6/256\n",
      "2508/2508 [==============================] - 0s 13us/step - loss: 1.6311 - mae: 0.4773 - accuracy: 0.6304 - val_loss: 1.6220 - val_mae: 0.4781 - val_accuracy: 0.6093\n",
      "Epoch 7/256\n",
      "2508/2508 [==============================] - 0s 15us/step - loss: 1.6147 - mae: 0.4771 - accuracy: 0.6296 - val_loss: 1.6059 - val_mae: 0.4780 - val_accuracy: 0.6108\n",
      "Epoch 8/256\n",
      "2508/2508 [==============================] - 0s 14us/step - loss: 1.5986 - mae: 0.4769 - accuracy: 0.6296 - val_loss: 1.5902 - val_mae: 0.4778 - val_accuracy: 0.6108\n",
      "Epoch 9/256\n",
      "2508/2508 [==============================] - 0s 15us/step - loss: 1.5828 - mae: 0.4767 - accuracy: 0.6232 - val_loss: 1.5747 - val_mae: 0.4777 - val_accuracy: 0.6077\n",
      "Epoch 10/256\n",
      "2508/2508 [==============================] - 0s 14us/step - loss: 1.5673 - mae: 0.4765 - accuracy: 0.6220 - val_loss: 1.5595 - val_mae: 0.4776 - val_accuracy: 0.6077\n",
      "Epoch 11/256\n",
      "2508/2508 [==============================] - 0s 14us/step - loss: 1.5521 - mae: 0.4763 - accuracy: 0.6224 - val_loss: 1.5446 - val_mae: 0.4774 - val_accuracy: 0.6108\n",
      "Epoch 12/256\n",
      "2508/2508 [==============================] - 0s 15us/step - loss: 1.5371 - mae: 0.4761 - accuracy: 0.6240 - val_loss: 1.5300 - val_mae: 0.4773 - val_accuracy: 0.6108\n",
      "Epoch 13/256\n",
      "2508/2508 [==============================] - 0s 15us/step - loss: 1.5224 - mae: 0.4759 - accuracy: 0.6240 - val_loss: 1.5156 - val_mae: 0.4772 - val_accuracy: 0.6108\n",
      "Epoch 14/256\n",
      "2508/2508 [==============================] - 0s 17us/step - loss: 1.5080 - mae: 0.4758 - accuracy: 0.6240 - val_loss: 1.5015 - val_mae: 0.4770 - val_accuracy: 0.6108\n",
      "Epoch 15/256\n",
      "2508/2508 [==============================] - 0s 18us/step - loss: 1.4939 - mae: 0.4756 - accuracy: 0.6232 - val_loss: 1.4876 - val_mae: 0.4769 - val_accuracy: 0.6108\n",
      "Epoch 16/256\n",
      "2508/2508 [==============================] - 0s 15us/step - loss: 1.4800 - mae: 0.4754 - accuracy: 0.6152 - val_loss: 1.4739 - val_mae: 0.4768 - val_accuracy: 0.6108\n",
      "Epoch 17/256\n",
      "2508/2508 [==============================] - 0s 18us/step - loss: 1.4663 - mae: 0.4752 - accuracy: 0.6152 - val_loss: 1.4605 - val_mae: 0.4766 - val_accuracy: 0.6108\n",
      "Epoch 18/256\n",
      "2508/2508 [==============================] - 0s 17us/step - loss: 1.4528 - mae: 0.4751 - accuracy: 0.6152 - val_loss: 1.4473 - val_mae: 0.4765 - val_accuracy: 0.6108\n",
      "Epoch 19/256\n",
      "2508/2508 [==============================] - 0s 15us/step - loss: 1.4396 - mae: 0.4749 - accuracy: 0.6152 - val_loss: 1.4343 - val_mae: 0.4764 - val_accuracy: 0.6108\n",
      "Epoch 20/256\n",
      "2508/2508 [==============================] - 0s 19us/step - loss: 1.4266 - mae: 0.4747 - accuracy: 0.6152 - val_loss: 1.4216 - val_mae: 0.4762 - val_accuracy: 0.6108\n",
      "Epoch 21/256\n",
      "2508/2508 [==============================] - 0s 16us/step - loss: 1.4139 - mae: 0.4745 - accuracy: 0.6152 - val_loss: 1.4090 - val_mae: 0.4760 - val_accuracy: 0.6108\n",
      "Epoch 22/256\n",
      "2508/2508 [==============================] - 0s 16us/step - loss: 1.4013 - mae: 0.4743 - accuracy: 0.6152 - val_loss: 1.3967 - val_mae: 0.4759 - val_accuracy: 0.6124\n",
      "Epoch 23/256\n",
      "2508/2508 [==============================] - 0s 14us/step - loss: 1.3890 - mae: 0.4741 - accuracy: 0.6184 - val_loss: 1.3845 - val_mae: 0.4757 - val_accuracy: 0.6124\n",
      "Epoch 24/256\n",
      "2508/2508 [==============================] - 0s 13us/step - loss: 1.3768 - mae: 0.4739 - accuracy: 0.6184 - val_loss: 1.3726 - val_mae: 0.4755 - val_accuracy: 0.6124\n",
      "Epoch 25/256\n",
      "2508/2508 [==============================] - 0s 13us/step - loss: 1.3649 - mae: 0.4737 - accuracy: 0.6184 - val_loss: 1.3609 - val_mae: 0.4753 - val_accuracy: 0.6124\n",
      "Epoch 26/256\n",
      "2508/2508 [==============================] - 0s 13us/step - loss: 1.3531 - mae: 0.4735 - accuracy: 0.6184 - val_loss: 1.3493 - val_mae: 0.4751 - val_accuracy: 0.6124\n",
      "Epoch 27/256\n",
      "2508/2508 [==============================] - 0s 13us/step - loss: 1.3416 - mae: 0.4733 - accuracy: 0.6244 - val_loss: 1.3379 - val_mae: 0.4750 - val_accuracy: 0.6156\n",
      "Epoch 28/256\n",
      "2508/2508 [==============================] - 0s 13us/step - loss: 1.3302 - mae: 0.4730 - accuracy: 0.6288 - val_loss: 1.3267 - val_mae: 0.4748 - val_accuracy: 0.6124\n",
      "Epoch 29/256\n",
      "2508/2508 [==============================] - 0s 13us/step - loss: 1.3190 - mae: 0.4728 - accuracy: 0.6304 - val_loss: 1.3157 - val_mae: 0.4746 - val_accuracy: 0.6124\n",
      "Epoch 30/256\n",
      "2508/2508 [==============================] - 0s 13us/step - loss: 1.3080 - mae: 0.4726 - accuracy: 0.6304 - val_loss: 1.3049 - val_mae: 0.4743 - val_accuracy: 0.6124\n",
      "Epoch 31/256\n",
      "2508/2508 [==============================] - 0s 13us/step - loss: 1.2971 - mae: 0.4723 - accuracy: 0.6304 - val_loss: 1.2942 - val_mae: 0.4741 - val_accuracy: 0.6124\n",
      "Epoch 32/256\n",
      "2508/2508 [==============================] - 0s 13us/step - loss: 1.2864 - mae: 0.4721 - accuracy: 0.6304 - val_loss: 1.2837 - val_mae: 0.4739 - val_accuracy: 0.6124\n",
      "Epoch 33/256\n",
      "2508/2508 [==============================] - 0s 15us/step - loss: 1.2759 - mae: 0.4718 - accuracy: 0.6304 - val_loss: 1.2734 - val_mae: 0.4737 - val_accuracy: 0.6124\n",
      "Epoch 34/256\n",
      "2508/2508 [==============================] - 0s 14us/step - loss: 1.2656 - mae: 0.4715 - accuracy: 0.6304 - val_loss: 1.2632 - val_mae: 0.4734 - val_accuracy: 0.6124\n",
      "Epoch 35/256\n",
      "2508/2508 [==============================] - 0s 12us/step - loss: 1.2554 - mae: 0.4713 - accuracy: 0.6312 - val_loss: 1.2532 - val_mae: 0.4732 - val_accuracy: 0.6140\n",
      "Epoch 36/256\n",
      "2508/2508 [==============================] - 0s 14us/step - loss: 1.2454 - mae: 0.4710 - accuracy: 0.6324 - val_loss: 1.2433 - val_mae: 0.4729 - val_accuracy: 0.6188\n",
      "Epoch 37/256\n",
      "2508/2508 [==============================] - 0s 13us/step - loss: 1.2355 - mae: 0.4707 - accuracy: 0.6328 - val_loss: 1.2336 - val_mae: 0.4727 - val_accuracy: 0.6188\n",
      "Epoch 38/256\n",
      "2508/2508 [==============================] - 0s 14us/step - loss: 1.2258 - mae: 0.4704 - accuracy: 0.6324 - val_loss: 1.2241 - val_mae: 0.4724 - val_accuracy: 0.6188\n",
      "Epoch 39/256\n",
      "2508/2508 [==============================] - 0s 14us/step - loss: 1.2163 - mae: 0.4702 - accuracy: 0.6324 - val_loss: 1.2147 - val_mae: 0.4722 - val_accuracy: 0.6188\n",
      "Epoch 40/256\n",
      "2508/2508 [==============================] - 0s 13us/step - loss: 1.2069 - mae: 0.4699 - accuracy: 0.6324 - val_loss: 1.2054 - val_mae: 0.4719 - val_accuracy: 0.6188\n",
      "Epoch 41/256\n",
      "2508/2508 [==============================] - 0s 13us/step - loss: 1.1976 - mae: 0.4696 - accuracy: 0.6324 - val_loss: 1.1963 - val_mae: 0.4717 - val_accuracy: 0.6188\n",
      "Epoch 42/256\n",
      "2508/2508 [==============================] - 0s 13us/step - loss: 1.1885 - mae: 0.4693 - accuracy: 0.6324 - val_loss: 1.1874 - val_mae: 0.4715 - val_accuracy: 0.6188\n",
      "Epoch 43/256\n",
      "2508/2508 [==============================] - 0s 14us/step - loss: 1.1795 - mae: 0.4691 - accuracy: 0.6372 - val_loss: 1.1785 - val_mae: 0.4712 - val_accuracy: 0.6172\n",
      "Epoch 44/256\n",
      "2508/2508 [==============================] - 0s 13us/step - loss: 1.1707 - mae: 0.4688 - accuracy: 0.6384 - val_loss: 1.1698 - val_mae: 0.4710 - val_accuracy: 0.6204\n",
      "Epoch 45/256\n",
      "2508/2508 [==============================] - 0s 12us/step - loss: 1.1620 - mae: 0.4685 - accuracy: 0.6407 - val_loss: 1.1613 - val_mae: 0.4707 - val_accuracy: 0.6252\n",
      "Epoch 46/256\n"
     ]
    },
    {
     "name": "stdout",
     "output_type": "stream",
     "text": [
      "2508/2508 [==============================] - 0s 12us/step - loss: 1.1534 - mae: 0.4682 - accuracy: 0.6415 - val_loss: 1.1528 - val_mae: 0.4704 - val_accuracy: 0.6252\n",
      "Epoch 47/256\n",
      "2508/2508 [==============================] - 0s 12us/step - loss: 1.1450 - mae: 0.4679 - accuracy: 0.6415 - val_loss: 1.1445 - val_mae: 0.4701 - val_accuracy: 0.6252\n",
      "Epoch 48/256\n",
      "2508/2508 [==============================] - 0s 11us/step - loss: 1.1367 - mae: 0.4676 - accuracy: 0.6407 - val_loss: 1.1364 - val_mae: 0.4698 - val_accuracy: 0.6252\n",
      "Epoch 49/256\n",
      "2508/2508 [==============================] - 0s 12us/step - loss: 1.1286 - mae: 0.4673 - accuracy: 0.6451 - val_loss: 1.1284 - val_mae: 0.4695 - val_accuracy: 0.6252\n",
      "Epoch 50/256\n",
      "2508/2508 [==============================] - 0s 12us/step - loss: 1.1206 - mae: 0.4670 - accuracy: 0.6451 - val_loss: 1.1204 - val_mae: 0.4692 - val_accuracy: 0.6252\n",
      "Epoch 51/256\n",
      "2508/2508 [==============================] - 0s 13us/step - loss: 1.1126 - mae: 0.4667 - accuracy: 0.6451 - val_loss: 1.1127 - val_mae: 0.4690 - val_accuracy: 0.6252\n",
      "Epoch 52/256\n",
      "2508/2508 [==============================] - 0s 13us/step - loss: 1.1049 - mae: 0.4664 - accuracy: 0.6451 - val_loss: 1.1050 - val_mae: 0.4687 - val_accuracy: 0.6252\n",
      "Epoch 53/256\n",
      "2508/2508 [==============================] - 0s 12us/step - loss: 1.0972 - mae: 0.4661 - accuracy: 0.6451 - val_loss: 1.0974 - val_mae: 0.4684 - val_accuracy: 0.6300\n",
      "Epoch 54/256\n",
      "2508/2508 [==============================] - 0s 14us/step - loss: 1.0896 - mae: 0.4658 - accuracy: 0.6467 - val_loss: 1.0900 - val_mae: 0.4681 - val_accuracy: 0.6300\n",
      "Epoch 55/256\n",
      "2508/2508 [==============================] - 0s 12us/step - loss: 1.0822 - mae: 0.4654 - accuracy: 0.6487 - val_loss: 1.0827 - val_mae: 0.4678 - val_accuracy: 0.6284\n",
      "Epoch 56/256\n",
      "2508/2508 [==============================] - 0s 12us/step - loss: 1.0749 - mae: 0.4651 - accuracy: 0.6487 - val_loss: 1.0755 - val_mae: 0.4675 - val_accuracy: 0.6284\n",
      "Epoch 57/256\n",
      "2508/2508 [==============================] - 0s 12us/step - loss: 1.0677 - mae: 0.4647 - accuracy: 0.6519 - val_loss: 1.0684 - val_mae: 0.4672 - val_accuracy: 0.6284\n",
      "Epoch 58/256\n",
      "2508/2508 [==============================] - 0s 12us/step - loss: 1.0606 - mae: 0.4645 - accuracy: 0.6555 - val_loss: 1.0614 - val_mae: 0.4669 - val_accuracy: 0.6284\n",
      "Epoch 59/256\n",
      "2508/2508 [==============================] - 0s 13us/step - loss: 1.0537 - mae: 0.4641 - accuracy: 0.6555 - val_loss: 1.0545 - val_mae: 0.4666 - val_accuracy: 0.6316\n",
      "Epoch 60/256\n",
      "2508/2508 [==============================] - 0s 13us/step - loss: 1.0468 - mae: 0.4639 - accuracy: 0.6611 - val_loss: 1.0477 - val_mae: 0.4663 - val_accuracy: 0.6316\n",
      "Epoch 61/256\n",
      "2508/2508 [==============================] - 0s 13us/step - loss: 1.0400 - mae: 0.4635 - accuracy: 0.6611 - val_loss: 1.0411 - val_mae: 0.4659 - val_accuracy: 0.6316\n",
      "Epoch 62/256\n",
      "2508/2508 [==============================] - 0s 12us/step - loss: 1.0334 - mae: 0.4632 - accuracy: 0.6623 - val_loss: 1.0345 - val_mae: 0.4656 - val_accuracy: 0.6332\n",
      "Epoch 63/256\n",
      "2508/2508 [==============================] - 0s 12us/step - loss: 1.0268 - mae: 0.4628 - accuracy: 0.6615 - val_loss: 1.0280 - val_mae: 0.4653 - val_accuracy: 0.6364\n",
      "Epoch 64/256\n",
      "2508/2508 [==============================] - 0s 12us/step - loss: 1.0204 - mae: 0.4625 - accuracy: 0.6663 - val_loss: 1.0217 - val_mae: 0.4650 - val_accuracy: 0.6380\n",
      "Epoch 65/256\n",
      "2508/2508 [==============================] - 0s 13us/step - loss: 1.0140 - mae: 0.4622 - accuracy: 0.6663 - val_loss: 1.0154 - val_mae: 0.4647 - val_accuracy: 0.6380\n",
      "Epoch 66/256\n",
      "2508/2508 [==============================] - 0s 13us/step - loss: 1.0078 - mae: 0.4619 - accuracy: 0.6663 - val_loss: 1.0093 - val_mae: 0.4644 - val_accuracy: 0.6396\n",
      "Epoch 67/256\n",
      "2508/2508 [==============================] - 0s 13us/step - loss: 1.0017 - mae: 0.4615 - accuracy: 0.6663 - val_loss: 1.0032 - val_mae: 0.4641 - val_accuracy: 0.6396\n",
      "Epoch 68/256\n",
      "2508/2508 [==============================] - 0s 13us/step - loss: 0.9956 - mae: 0.4612 - accuracy: 0.6663 - val_loss: 0.9972 - val_mae: 0.4637 - val_accuracy: 0.6396\n",
      "Epoch 69/256\n",
      "2508/2508 [==============================] - 0s 12us/step - loss: 0.9897 - mae: 0.4609 - accuracy: 0.6679 - val_loss: 0.9914 - val_mae: 0.4634 - val_accuracy: 0.6411\n",
      "Epoch 70/256\n",
      "2508/2508 [==============================] - 0s 13us/step - loss: 0.9838 - mae: 0.4605 - accuracy: 0.6695 - val_loss: 0.9856 - val_mae: 0.4631 - val_accuracy: 0.6427\n",
      "Epoch 71/256\n",
      "2508/2508 [==============================] - 0s 13us/step - loss: 0.9781 - mae: 0.4602 - accuracy: 0.6699 - val_loss: 0.9799 - val_mae: 0.4628 - val_accuracy: 0.6427\n",
      "Epoch 72/256\n",
      "2508/2508 [==============================] - 0s 15us/step - loss: 0.9724 - mae: 0.4599 - accuracy: 0.6699 - val_loss: 0.9743 - val_mae: 0.4625 - val_accuracy: 0.6427\n",
      "Epoch 73/256\n",
      "2508/2508 [==============================] - 0s 14us/step - loss: 0.9668 - mae: 0.4596 - accuracy: 0.6699 - val_loss: 0.9688 - val_mae: 0.4623 - val_accuracy: 0.6427\n",
      "Epoch 74/256\n",
      "2508/2508 [==============================] - 0s 14us/step - loss: 0.9614 - mae: 0.4593 - accuracy: 0.6699 - val_loss: 0.9634 - val_mae: 0.4619 - val_accuracy: 0.6427\n",
      "Epoch 75/256\n",
      "2508/2508 [==============================] - 0s 12us/step - loss: 0.9560 - mae: 0.4590 - accuracy: 0.6715 - val_loss: 0.9581 - val_mae: 0.4616 - val_accuracy: 0.6427\n",
      "Epoch 76/256\n",
      "2508/2508 [==============================] - 0s 14us/step - loss: 0.9506 - mae: 0.4587 - accuracy: 0.6715 - val_loss: 0.9528 - val_mae: 0.4612 - val_accuracy: 0.6427\n",
      "Epoch 77/256\n",
      "2508/2508 [==============================] - 0s 13us/step - loss: 0.9454 - mae: 0.4583 - accuracy: 0.6715 - val_loss: 0.9476 - val_mae: 0.4609 - val_accuracy: 0.6427\n",
      "Epoch 78/256\n",
      "2508/2508 [==============================] - 0s 12us/step - loss: 0.9402 - mae: 0.4579 - accuracy: 0.6715 - val_loss: 0.9425 - val_mae: 0.4606 - val_accuracy: 0.6427\n",
      "Epoch 79/256\n",
      "2508/2508 [==============================] - 0s 12us/step - loss: 0.9352 - mae: 0.4576 - accuracy: 0.6715 - val_loss: 0.9375 - val_mae: 0.4603 - val_accuracy: 0.6427\n",
      "Epoch 80/256\n",
      "2508/2508 [==============================] - ETA: 0s - loss: 0.9094 - mae: 0.4456 - accuracy: 0.71 - 0s 13us/step - loss: 0.9302 - mae: 0.4573 - accuracy: 0.6715 - val_loss: 0.9326 - val_mae: 0.4599 - val_accuracy: 0.6427\n",
      "Epoch 81/256\n",
      "2508/2508 [==============================] - 0s 13us/step - loss: 0.9253 - mae: 0.4569 - accuracy: 0.6715 - val_loss: 0.9277 - val_mae: 0.4596 - val_accuracy: 0.6507\n",
      "Epoch 82/256\n",
      "2508/2508 [==============================] - 0s 12us/step - loss: 0.9205 - mae: 0.4566 - accuracy: 0.6738 - val_loss: 0.9230 - val_mae: 0.4593 - val_accuracy: 0.6507\n",
      "Epoch 83/256\n",
      "2508/2508 [==============================] - 0s 13us/step - loss: 0.9157 - mae: 0.4563 - accuracy: 0.6738 - val_loss: 0.9183 - val_mae: 0.4590 - val_accuracy: 0.6507\n",
      "Epoch 84/256\n",
      "2508/2508 [==============================] - 0s 13us/step - loss: 0.9110 - mae: 0.4560 - accuracy: 0.6738 - val_loss: 0.9136 - val_mae: 0.4587 - val_accuracy: 0.6507\n",
      "Epoch 85/256\n",
      "2508/2508 [==============================] - 0s 13us/step - loss: 0.9064 - mae: 0.4557 - accuracy: 0.6726 - val_loss: 0.9091 - val_mae: 0.4584 - val_accuracy: 0.6587\n",
      "Epoch 86/256\n",
      "2508/2508 [==============================] - 0s 14us/step - loss: 0.9019 - mae: 0.4555 - accuracy: 0.6726 - val_loss: 0.9046 - val_mae: 0.4581 - val_accuracy: 0.6587\n",
      "Epoch 87/256\n",
      "2508/2508 [==============================] - 0s 14us/step - loss: 0.8975 - mae: 0.4552 - accuracy: 0.6730 - val_loss: 0.9002 - val_mae: 0.4579 - val_accuracy: 0.6619\n",
      "Epoch 88/256\n",
      "2508/2508 [==============================] - 0s 13us/step - loss: 0.8931 - mae: 0.4548 - accuracy: 0.6730 - val_loss: 0.8959 - val_mae: 0.4576 - val_accuracy: 0.6619\n",
      "Epoch 89/256\n",
      "2508/2508 [==============================] - 0s 13us/step - loss: 0.8888 - mae: 0.4546 - accuracy: 0.6730 - val_loss: 0.8916 - val_mae: 0.4574 - val_accuracy: 0.6619\n",
      "Epoch 90/256\n",
      "2508/2508 [==============================] - 0s 13us/step - loss: 0.8846 - mae: 0.4543 - accuracy: 0.6730 - val_loss: 0.8874 - val_mae: 0.4571 - val_accuracy: 0.6619\n",
      "Epoch 91/256\n"
     ]
    },
    {
     "name": "stdout",
     "output_type": "stream",
     "text": [
      "2508/2508 [==============================] - 0s 13us/step - loss: 0.8805 - mae: 0.4541 - accuracy: 0.6730 - val_loss: 0.8833 - val_mae: 0.4568 - val_accuracy: 0.6619\n",
      "Epoch 92/256\n",
      "2508/2508 [==============================] - 0s 13us/step - loss: 0.8764 - mae: 0.4538 - accuracy: 0.6730 - val_loss: 0.8792 - val_mae: 0.4566 - val_accuracy: 0.6619\n",
      "Epoch 93/256\n",
      "2508/2508 [==============================] - 0s 13us/step - loss: 0.8723 - mae: 0.4536 - accuracy: 0.6730 - val_loss: 0.8752 - val_mae: 0.4563 - val_accuracy: 0.6619\n",
      "Epoch 94/256\n",
      "2508/2508 [==============================] - 0s 13us/step - loss: 0.8683 - mae: 0.4533 - accuracy: 0.6730 - val_loss: 0.8713 - val_mae: 0.4561 - val_accuracy: 0.6619\n",
      "Epoch 95/256\n",
      "2508/2508 [==============================] - 0s 13us/step - loss: 0.8644 - mae: 0.4531 - accuracy: 0.6730 - val_loss: 0.8674 - val_mae: 0.4558 - val_accuracy: 0.6619\n",
      "Epoch 96/256\n",
      "2508/2508 [==============================] - 0s 13us/step - loss: 0.8606 - mae: 0.4528 - accuracy: 0.6730 - val_loss: 0.8636 - val_mae: 0.4555 - val_accuracy: 0.6619\n",
      "Epoch 97/256\n",
      "2508/2508 [==============================] - 0s 13us/step - loss: 0.8568 - mae: 0.4526 - accuracy: 0.6730 - val_loss: 0.8598 - val_mae: 0.4553 - val_accuracy: 0.6619\n",
      "Epoch 98/256\n",
      "2508/2508 [==============================] - 0s 13us/step - loss: 0.8531 - mae: 0.4523 - accuracy: 0.6730 - val_loss: 0.8561 - val_mae: 0.4550 - val_accuracy: 0.6619\n",
      "Epoch 99/256\n",
      "2508/2508 [==============================] - 0s 13us/step - loss: 0.8494 - mae: 0.4520 - accuracy: 0.6711 - val_loss: 0.8525 - val_mae: 0.4547 - val_accuracy: 0.6683\n",
      "Epoch 100/256\n",
      "2508/2508 [==============================] - 0s 12us/step - loss: 0.8458 - mae: 0.4518 - accuracy: 0.6703 - val_loss: 0.8489 - val_mae: 0.4545 - val_accuracy: 0.6683\n",
      "Epoch 101/256\n",
      "2508/2508 [==============================] - 0s 12us/step - loss: 0.8423 - mae: 0.4515 - accuracy: 0.6703 - val_loss: 0.8454 - val_mae: 0.4543 - val_accuracy: 0.6683\n",
      "Epoch 102/256\n",
      "2508/2508 [==============================] - 0s 12us/step - loss: 0.8388 - mae: 0.4513 - accuracy: 0.6703 - val_loss: 0.8419 - val_mae: 0.4540 - val_accuracy: 0.6683\n",
      "Epoch 103/256\n",
      "2508/2508 [==============================] - 0s 13us/step - loss: 0.8354 - mae: 0.4510 - accuracy: 0.6703 - val_loss: 0.8385 - val_mae: 0.4538 - val_accuracy: 0.6683\n",
      "Epoch 104/256\n",
      "2508/2508 [==============================] - 0s 12us/step - loss: 0.8320 - mae: 0.4509 - accuracy: 0.6703 - val_loss: 0.8351 - val_mae: 0.4535 - val_accuracy: 0.6683\n",
      "Epoch 105/256\n",
      "2508/2508 [==============================] - 0s 14us/step - loss: 0.8287 - mae: 0.4506 - accuracy: 0.6703 - val_loss: 0.8318 - val_mae: 0.4533 - val_accuracy: 0.6683\n",
      "Epoch 106/256\n",
      "2508/2508 [==============================] - 0s 13us/step - loss: 0.8254 - mae: 0.4504 - accuracy: 0.6703 - val_loss: 0.8286 - val_mae: 0.4531 - val_accuracy: 0.6683\n",
      "Epoch 107/256\n",
      "2508/2508 [==============================] - 0s 12us/step - loss: 0.8222 - mae: 0.4501 - accuracy: 0.6703 - val_loss: 0.8254 - val_mae: 0.4529 - val_accuracy: 0.6683\n",
      "Epoch 108/256\n",
      "2508/2508 [==============================] - 0s 13us/step - loss: 0.8191 - mae: 0.4500 - accuracy: 0.6703 - val_loss: 0.8222 - val_mae: 0.4526 - val_accuracy: 0.6683\n",
      "Epoch 109/256\n",
      "2508/2508 [==============================] - 0s 13us/step - loss: 0.8159 - mae: 0.4497 - accuracy: 0.6703 - val_loss: 0.8191 - val_mae: 0.4524 - val_accuracy: 0.6683\n",
      "Epoch 110/256\n",
      "2508/2508 [==============================] - 0s 13us/step - loss: 0.8129 - mae: 0.4496 - accuracy: 0.6722 - val_loss: 0.8160 - val_mae: 0.4522 - val_accuracy: 0.6746\n",
      "Epoch 111/256\n",
      "2508/2508 [==============================] - 0s 14us/step - loss: 0.8099 - mae: 0.4493 - accuracy: 0.6722 - val_loss: 0.8130 - val_mae: 0.4520 - val_accuracy: 0.6746\n",
      "Epoch 112/256\n",
      "2508/2508 [==============================] - 0s 14us/step - loss: 0.8069 - mae: 0.4492 - accuracy: 0.6722 - val_loss: 0.8101 - val_mae: 0.4518 - val_accuracy: 0.6746\n",
      "Epoch 113/256\n",
      "2508/2508 [==============================] - 0s 15us/step - loss: 0.8040 - mae: 0.4490 - accuracy: 0.6722 - val_loss: 0.8072 - val_mae: 0.4516 - val_accuracy: 0.6746\n",
      "Epoch 114/256\n",
      "2508/2508 [==============================] - 0s 16us/step - loss: 0.8012 - mae: 0.4488 - accuracy: 0.6722 - val_loss: 0.8043 - val_mae: 0.4514 - val_accuracy: 0.6746\n",
      "Epoch 115/256\n",
      "2508/2508 [==============================] - 0s 15us/step - loss: 0.7983 - mae: 0.4486 - accuracy: 0.6722 - val_loss: 0.8015 - val_mae: 0.4512 - val_accuracy: 0.6746\n",
      "Epoch 116/256\n",
      "2508/2508 [==============================] - 0s 14us/step - loss: 0.7956 - mae: 0.4484 - accuracy: 0.6722 - val_loss: 0.7988 - val_mae: 0.4510 - val_accuracy: 0.6746\n",
      "Epoch 117/256\n",
      "2508/2508 [==============================] - 0s 14us/step - loss: 0.7928 - mae: 0.4482 - accuracy: 0.6722 - val_loss: 0.7960 - val_mae: 0.4508 - val_accuracy: 0.6746\n",
      "Epoch 118/256\n",
      "2508/2508 [==============================] - 0s 14us/step - loss: 0.7902 - mae: 0.4480 - accuracy: 0.6722 - val_loss: 0.7933 - val_mae: 0.4506 - val_accuracy: 0.6746\n",
      "Epoch 119/256\n",
      "2508/2508 [==============================] - 0s 12us/step - loss: 0.7875 - mae: 0.4479 - accuracy: 0.6722 - val_loss: 0.7907 - val_mae: 0.4504 - val_accuracy: 0.6746\n",
      "Epoch 120/256\n",
      "2508/2508 [==============================] - 0s 12us/step - loss: 0.7849 - mae: 0.4477 - accuracy: 0.6722 - val_loss: 0.7881 - val_mae: 0.4502 - val_accuracy: 0.6746\n",
      "Epoch 121/256\n",
      "2508/2508 [==============================] - 0s 12us/step - loss: 0.7824 - mae: 0.4475 - accuracy: 0.6722 - val_loss: 0.7856 - val_mae: 0.4500 - val_accuracy: 0.6746\n",
      "Epoch 122/256\n",
      "2508/2508 [==============================] - 0s 12us/step - loss: 0.7799 - mae: 0.4473 - accuracy: 0.6722 - val_loss: 0.7830 - val_mae: 0.4499 - val_accuracy: 0.6746\n",
      "Epoch 123/256\n",
      "2508/2508 [==============================] - 0s 12us/step - loss: 0.7774 - mae: 0.4471 - accuracy: 0.6722 - val_loss: 0.7806 - val_mae: 0.4497 - val_accuracy: 0.6746\n",
      "Epoch 124/256\n",
      "2508/2508 [==============================] - 0s 12us/step - loss: 0.7750 - mae: 0.4471 - accuracy: 0.6722 - val_loss: 0.7781 - val_mae: 0.4495 - val_accuracy: 0.6746\n",
      "Epoch 125/256\n",
      "2508/2508 [==============================] - 0s 12us/step - loss: 0.7726 - mae: 0.4468 - accuracy: 0.6722 - val_loss: 0.7757 - val_mae: 0.4493 - val_accuracy: 0.6746\n",
      "Epoch 126/256\n",
      "2508/2508 [==============================] - 0s 13us/step - loss: 0.7702 - mae: 0.4466 - accuracy: 0.6722 - val_loss: 0.7734 - val_mae: 0.4491 - val_accuracy: 0.6746\n",
      "Epoch 127/256\n",
      "2508/2508 [==============================] - 0s 13us/step - loss: 0.7679 - mae: 0.4463 - accuracy: 0.6722 - val_loss: 0.7711 - val_mae: 0.4488 - val_accuracy: 0.6746\n",
      "Epoch 128/256\n",
      "2508/2508 [==============================] - 0s 12us/step - loss: 0.7656 - mae: 0.4462 - accuracy: 0.6722 - val_loss: 0.7688 - val_mae: 0.4487 - val_accuracy: 0.6746\n",
      "Epoch 129/256\n",
      "2508/2508 [==============================] - 0s 13us/step - loss: 0.7634 - mae: 0.4461 - accuracy: 0.6722 - val_loss: 0.7666 - val_mae: 0.4485 - val_accuracy: 0.6746\n",
      "Epoch 130/256\n",
      "2508/2508 [==============================] - 0s 12us/step - loss: 0.7612 - mae: 0.4459 - accuracy: 0.6722 - val_loss: 0.7644 - val_mae: 0.4484 - val_accuracy: 0.6746\n",
      "Epoch 131/256\n",
      "2508/2508 [==============================] - 0s 12us/step - loss: 0.7590 - mae: 0.4458 - accuracy: 0.6722 - val_loss: 0.7622 - val_mae: 0.4482 - val_accuracy: 0.6746\n",
      "Epoch 132/256\n",
      "2508/2508 [==============================] - 0s 13us/step - loss: 0.7569 - mae: 0.4456 - accuracy: 0.6722 - val_loss: 0.7601 - val_mae: 0.4481 - val_accuracy: 0.6746\n",
      "Epoch 133/256\n",
      "2508/2508 [==============================] - 0s 12us/step - loss: 0.7548 - mae: 0.4456 - accuracy: 0.6722 - val_loss: 0.7580 - val_mae: 0.4479 - val_accuracy: 0.6746\n",
      "Epoch 134/256\n",
      "2508/2508 [==============================] - 0s 12us/step - loss: 0.7527 - mae: 0.4453 - accuracy: 0.6722 - val_loss: 0.7559 - val_mae: 0.4477 - val_accuracy: 0.6746\n",
      "Epoch 135/256\n",
      "2508/2508 [==============================] - 0s 11us/step - loss: 0.7507 - mae: 0.4452 - accuracy: 0.6722 - val_loss: 0.7539 - val_mae: 0.4475 - val_accuracy: 0.6746\n",
      "Epoch 136/256\n",
      "2508/2508 [==============================] - 0s 12us/step - loss: 0.7487 - mae: 0.4450 - accuracy: 0.6722 - val_loss: 0.7519 - val_mae: 0.4473 - val_accuracy: 0.6746\n"
     ]
    },
    {
     "name": "stdout",
     "output_type": "stream",
     "text": [
      "Epoch 137/256\n",
      "2508/2508 [==============================] - 0s 12us/step - loss: 0.7467 - mae: 0.4447 - accuracy: 0.6722 - val_loss: 0.7499 - val_mae: 0.4472 - val_accuracy: 0.6746\n",
      "Epoch 138/256\n",
      "2508/2508 [==============================] - 0s 13us/step - loss: 0.7448 - mae: 0.4447 - accuracy: 0.6722 - val_loss: 0.7479 - val_mae: 0.4471 - val_accuracy: 0.6746\n",
      "Epoch 139/256\n",
      "2508/2508 [==============================] - 0s 13us/step - loss: 0.7429 - mae: 0.4446 - accuracy: 0.6722 - val_loss: 0.7460 - val_mae: 0.4469 - val_accuracy: 0.6746\n",
      "Epoch 140/256\n",
      "2508/2508 [==============================] - 0s 13us/step - loss: 0.7411 - mae: 0.4444 - accuracy: 0.6722 - val_loss: 0.7442 - val_mae: 0.4468 - val_accuracy: 0.6746\n",
      "Epoch 141/256\n",
      "2508/2508 [==============================] - 0s 13us/step - loss: 0.7392 - mae: 0.4443 - accuracy: 0.6722 - val_loss: 0.7423 - val_mae: 0.4467 - val_accuracy: 0.6746\n",
      "Epoch 142/256\n",
      "2508/2508 [==============================] - 0s 12us/step - loss: 0.7374 - mae: 0.4442 - accuracy: 0.6722 - val_loss: 0.7405 - val_mae: 0.4465 - val_accuracy: 0.6746\n",
      "Epoch 143/256\n",
      "2508/2508 [==============================] - 0s 13us/step - loss: 0.7356 - mae: 0.4441 - accuracy: 0.6722 - val_loss: 0.7387 - val_mae: 0.4463 - val_accuracy: 0.6746\n",
      "Epoch 144/256\n",
      "2508/2508 [==============================] - 0s 13us/step - loss: 0.7339 - mae: 0.4439 - accuracy: 0.6722 - val_loss: 0.7369 - val_mae: 0.4462 - val_accuracy: 0.6746\n",
      "Epoch 145/256\n",
      "2508/2508 [==============================] - 0s 13us/step - loss: 0.7322 - mae: 0.4438 - accuracy: 0.6722 - val_loss: 0.7352 - val_mae: 0.4461 - val_accuracy: 0.6746\n",
      "Epoch 146/256\n",
      "2508/2508 [==============================] - 0s 13us/step - loss: 0.7305 - mae: 0.4437 - accuracy: 0.6722 - val_loss: 0.7335 - val_mae: 0.4460 - val_accuracy: 0.6746\n",
      "Epoch 147/256\n",
      "2508/2508 [==============================] - 0s 12us/step - loss: 0.7288 - mae: 0.4436 - accuracy: 0.6722 - val_loss: 0.7319 - val_mae: 0.4459 - val_accuracy: 0.6746\n",
      "Epoch 148/256\n",
      "2508/2508 [==============================] - 0s 13us/step - loss: 0.7272 - mae: 0.4435 - accuracy: 0.6722 - val_loss: 0.7302 - val_mae: 0.4457 - val_accuracy: 0.6746\n",
      "Epoch 149/256\n",
      "2508/2508 [==============================] - 0s 13us/step - loss: 0.7256 - mae: 0.4435 - accuracy: 0.6722 - val_loss: 0.7286 - val_mae: 0.4456 - val_accuracy: 0.6746\n",
      "Epoch 150/256\n",
      "2508/2508 [==============================] - 0s 12us/step - loss: 0.7240 - mae: 0.4433 - accuracy: 0.6722 - val_loss: 0.7270 - val_mae: 0.4455 - val_accuracy: 0.6746\n",
      "Epoch 151/256\n",
      "2508/2508 [==============================] - 0s 13us/step - loss: 0.7225 - mae: 0.4431 - accuracy: 0.6722 - val_loss: 0.7255 - val_mae: 0.4454 - val_accuracy: 0.6746\n",
      "Epoch 152/256\n",
      "2508/2508 [==============================] - 0s 12us/step - loss: 0.7209 - mae: 0.4431 - accuracy: 0.6722 - val_loss: 0.7239 - val_mae: 0.4452 - val_accuracy: 0.6746\n",
      "Epoch 153/256\n",
      "2508/2508 [==============================] - 0s 13us/step - loss: 0.7194 - mae: 0.4429 - accuracy: 0.6722 - val_loss: 0.7224 - val_mae: 0.4451 - val_accuracy: 0.6746\n",
      "Epoch 154/256\n",
      "2508/2508 [==============================] - 0s 13us/step - loss: 0.7179 - mae: 0.4427 - accuracy: 0.6722 - val_loss: 0.7209 - val_mae: 0.4450 - val_accuracy: 0.6746\n",
      "Epoch 155/256\n",
      "2508/2508 [==============================] - 0s 12us/step - loss: 0.7165 - mae: 0.4426 - accuracy: 0.6722 - val_loss: 0.7194 - val_mae: 0.4449 - val_accuracy: 0.6746\n",
      "Epoch 156/256\n",
      "2508/2508 [==============================] - 0s 12us/step - loss: 0.7150 - mae: 0.4426 - accuracy: 0.6722 - val_loss: 0.7180 - val_mae: 0.4448 - val_accuracy: 0.6746\n",
      "Epoch 157/256\n",
      "2508/2508 [==============================] - 0s 12us/step - loss: 0.7136 - mae: 0.4425 - accuracy: 0.6722 - val_loss: 0.7166 - val_mae: 0.4447 - val_accuracy: 0.6746\n",
      "Epoch 158/256\n",
      "2508/2508 [==============================] - 0s 12us/step - loss: 0.7122 - mae: 0.4425 - accuracy: 0.6722 - val_loss: 0.7152 - val_mae: 0.4446 - val_accuracy: 0.6746\n",
      "Epoch 159/256\n",
      "2508/2508 [==============================] - 0s 13us/step - loss: 0.7109 - mae: 0.4424 - accuracy: 0.6722 - val_loss: 0.7138 - val_mae: 0.4444 - val_accuracy: 0.6746\n",
      "Epoch 160/256\n",
      "2508/2508 [==============================] - 0s 13us/step - loss: 0.7095 - mae: 0.4421 - accuracy: 0.6722 - val_loss: 0.7124 - val_mae: 0.4444 - val_accuracy: 0.6746\n",
      "Epoch 161/256\n",
      "2508/2508 [==============================] - 0s 12us/step - loss: 0.7082 - mae: 0.4421 - accuracy: 0.6722 - val_loss: 0.7111 - val_mae: 0.4443 - val_accuracy: 0.6746\n",
      "Epoch 162/256\n",
      "2508/2508 [==============================] - 0s 13us/step - loss: 0.7069 - mae: 0.4421 - accuracy: 0.6722 - val_loss: 0.7098 - val_mae: 0.4441 - val_accuracy: 0.6746\n",
      "Epoch 163/256\n",
      "2508/2508 [==============================] - 0s 12us/step - loss: 0.7056 - mae: 0.4419 - accuracy: 0.6722 - val_loss: 0.7085 - val_mae: 0.4440 - val_accuracy: 0.6746\n",
      "Epoch 164/256\n",
      "2508/2508 [==============================] - 0s 12us/step - loss: 0.7044 - mae: 0.4418 - accuracy: 0.6722 - val_loss: 0.7073 - val_mae: 0.4439 - val_accuracy: 0.6746\n",
      "Epoch 165/256\n",
      "2508/2508 [==============================] - 0s 12us/step - loss: 0.7032 - mae: 0.4417 - accuracy: 0.6722 - val_loss: 0.7060 - val_mae: 0.4438 - val_accuracy: 0.6746\n",
      "Epoch 166/256\n",
      "2508/2508 [==============================] - 0s 13us/step - loss: 0.7019 - mae: 0.4416 - accuracy: 0.6722 - val_loss: 0.7048 - val_mae: 0.4437 - val_accuracy: 0.6746\n",
      "Epoch 167/256\n",
      "2508/2508 [==============================] - 0s 14us/step - loss: 0.7007 - mae: 0.4416 - accuracy: 0.6722 - val_loss: 0.7036 - val_mae: 0.4436 - val_accuracy: 0.6746\n",
      "Epoch 168/256\n",
      "2508/2508 [==============================] - 0s 14us/step - loss: 0.6996 - mae: 0.4415 - accuracy: 0.6722 - val_loss: 0.7024 - val_mae: 0.4435 - val_accuracy: 0.6746\n",
      "Epoch 169/256\n",
      "2508/2508 [==============================] - 0s 13us/step - loss: 0.6984 - mae: 0.4413 - accuracy: 0.6722 - val_loss: 0.7013 - val_mae: 0.4435 - val_accuracy: 0.6746\n",
      "Epoch 170/256\n",
      "2508/2508 [==============================] - 0s 12us/step - loss: 0.6973 - mae: 0.4413 - accuracy: 0.6722 - val_loss: 0.7001 - val_mae: 0.4434 - val_accuracy: 0.6746\n",
      "Epoch 171/256\n",
      "2508/2508 [==============================] - 0s 14us/step - loss: 0.6962 - mae: 0.4413 - accuracy: 0.6722 - val_loss: 0.6990 - val_mae: 0.4433 - val_accuracy: 0.6746\n",
      "Epoch 172/256\n",
      "2508/2508 [==============================] - 0s 14us/step - loss: 0.6951 - mae: 0.4411 - accuracy: 0.6722 - val_loss: 0.6979 - val_mae: 0.4432 - val_accuracy: 0.6746\n",
      "Epoch 173/256\n",
      "2508/2508 [==============================] - 0s 13us/step - loss: 0.6940 - mae: 0.4411 - accuracy: 0.6722 - val_loss: 0.6968 - val_mae: 0.4431 - val_accuracy: 0.6746\n",
      "Epoch 174/256\n",
      "2508/2508 [==============================] - 0s 18us/step - loss: 0.6929 - mae: 0.4411 - accuracy: 0.6722 - val_loss: 0.6957 - val_mae: 0.4430 - val_accuracy: 0.6746\n",
      "Epoch 175/256\n",
      "2508/2508 [==============================] - 0s 14us/step - loss: 0.6919 - mae: 0.4409 - accuracy: 0.6722 - val_loss: 0.6947 - val_mae: 0.4429 - val_accuracy: 0.6746\n",
      "Epoch 176/256\n",
      "2508/2508 [==============================] - 0s 16us/step - loss: 0.6908 - mae: 0.4408 - accuracy: 0.6722 - val_loss: 0.6936 - val_mae: 0.4428 - val_accuracy: 0.6746\n",
      "Epoch 177/256\n",
      "2508/2508 [==============================] - 0s 14us/step - loss: 0.6898 - mae: 0.4408 - accuracy: 0.6722 - val_loss: 0.6926 - val_mae: 0.4428 - val_accuracy: 0.6746\n",
      "Epoch 178/256\n",
      "2508/2508 [==============================] - 0s 15us/step - loss: 0.6888 - mae: 0.4407 - accuracy: 0.6722 - val_loss: 0.6916 - val_mae: 0.4427 - val_accuracy: 0.6746\n",
      "Epoch 179/256\n",
      "2508/2508 [==============================] - 0s 14us/step - loss: 0.6879 - mae: 0.4407 - accuracy: 0.6722 - val_loss: 0.6906 - val_mae: 0.4426 - val_accuracy: 0.6746\n",
      "Epoch 180/256\n",
      "2508/2508 [==============================] - 0s 14us/step - loss: 0.6869 - mae: 0.4406 - accuracy: 0.6722 - val_loss: 0.6897 - val_mae: 0.4425 - val_accuracy: 0.6746\n",
      "Epoch 181/256\n",
      "2508/2508 [==============================] - 0s 12us/step - loss: 0.6860 - mae: 0.4405 - accuracy: 0.6722 - val_loss: 0.6887 - val_mae: 0.4424 - val_accuracy: 0.6746\n",
      "Epoch 182/256\n"
     ]
    },
    {
     "name": "stdout",
     "output_type": "stream",
     "text": [
      "2508/2508 [==============================] - 0s 13us/step - loss: 0.6850 - mae: 0.4403 - accuracy: 0.6722 - val_loss: 0.6877 - val_mae: 0.4423 - val_accuracy: 0.6746\n",
      "Epoch 183/256\n",
      "2508/2508 [==============================] - 0s 13us/step - loss: 0.6841 - mae: 0.4403 - accuracy: 0.6722 - val_loss: 0.6868 - val_mae: 0.4423 - val_accuracy: 0.6746\n",
      "Epoch 184/256\n",
      "2508/2508 [==============================] - 0s 12us/step - loss: 0.6832 - mae: 0.4404 - accuracy: 0.6722 - val_loss: 0.6859 - val_mae: 0.4422 - val_accuracy: 0.6746\n",
      "Epoch 185/256\n",
      "2508/2508 [==============================] - 0s 13us/step - loss: 0.6823 - mae: 0.4403 - accuracy: 0.6722 - val_loss: 0.6850 - val_mae: 0.4422 - val_accuracy: 0.6746\n",
      "Epoch 186/256\n",
      "2508/2508 [==============================] - 0s 13us/step - loss: 0.6814 - mae: 0.4402 - accuracy: 0.6722 - val_loss: 0.6841 - val_mae: 0.4421 - val_accuracy: 0.6746\n",
      "Epoch 187/256\n",
      "2508/2508 [==============================] - 0s 13us/step - loss: 0.6806 - mae: 0.4402 - accuracy: 0.6722 - val_loss: 0.6832 - val_mae: 0.4420 - val_accuracy: 0.6746\n",
      "Epoch 188/256\n",
      "2508/2508 [==============================] - 0s 14us/step - loss: 0.6797 - mae: 0.4401 - accuracy: 0.6722 - val_loss: 0.6824 - val_mae: 0.4420 - val_accuracy: 0.6746\n",
      "Epoch 189/256\n",
      "2508/2508 [==============================] - 0s 15us/step - loss: 0.6789 - mae: 0.4400 - accuracy: 0.6722 - val_loss: 0.6816 - val_mae: 0.4419 - val_accuracy: 0.6746\n",
      "Epoch 190/256\n",
      "2508/2508 [==============================] - 0s 14us/step - loss: 0.6781 - mae: 0.4400 - accuracy: 0.6722 - val_loss: 0.6807 - val_mae: 0.4418 - val_accuracy: 0.6746\n",
      "Epoch 191/256\n",
      "2508/2508 [==============================] - 0s 13us/step - loss: 0.6773 - mae: 0.4398 - accuracy: 0.6722 - val_loss: 0.6799 - val_mae: 0.4417 - val_accuracy: 0.6746\n",
      "Epoch 192/256\n",
      "2508/2508 [==============================] - 0s 12us/step - loss: 0.6765 - mae: 0.4398 - accuracy: 0.6722 - val_loss: 0.6791 - val_mae: 0.4417 - val_accuracy: 0.6746\n",
      "Epoch 193/256\n",
      "2508/2508 [==============================] - 0s 13us/step - loss: 0.6757 - mae: 0.4398 - accuracy: 0.6722 - val_loss: 0.6783 - val_mae: 0.4416 - val_accuracy: 0.6746\n",
      "Epoch 194/256\n",
      "2508/2508 [==============================] - 0s 13us/step - loss: 0.6749 - mae: 0.4397 - accuracy: 0.6722 - val_loss: 0.6775 - val_mae: 0.4415 - val_accuracy: 0.6746\n",
      "Epoch 195/256\n",
      "2508/2508 [==============================] - 0s 14us/step - loss: 0.6742 - mae: 0.4396 - accuracy: 0.6722 - val_loss: 0.6768 - val_mae: 0.4415 - val_accuracy: 0.6746\n",
      "Epoch 196/256\n",
      "2508/2508 [==============================] - 0s 13us/step - loss: 0.6735 - mae: 0.4395 - accuracy: 0.6722 - val_loss: 0.6760 - val_mae: 0.4414 - val_accuracy: 0.6746\n",
      "Epoch 197/256\n",
      "2508/2508 [==============================] - 0s 13us/step - loss: 0.6727 - mae: 0.4394 - accuracy: 0.6722 - val_loss: 0.6753 - val_mae: 0.4413 - val_accuracy: 0.6746\n",
      "Epoch 198/256\n",
      "2508/2508 [==============================] - 0s 13us/step - loss: 0.6720 - mae: 0.4394 - accuracy: 0.6722 - val_loss: 0.6746 - val_mae: 0.4413 - val_accuracy: 0.6746\n",
      "Epoch 199/256\n",
      "2508/2508 [==============================] - 0s 13us/step - loss: 0.6713 - mae: 0.4394 - accuracy: 0.6722 - val_loss: 0.6739 - val_mae: 0.4412 - val_accuracy: 0.6746\n",
      "Epoch 200/256\n",
      "2508/2508 [==============================] - 0s 13us/step - loss: 0.6706 - mae: 0.4393 - accuracy: 0.6722 - val_loss: 0.6732 - val_mae: 0.4411 - val_accuracy: 0.6746\n",
      "Epoch 201/256\n",
      "2508/2508 [==============================] - 0s 14us/step - loss: 0.6699 - mae: 0.4393 - accuracy: 0.6722 - val_loss: 0.6725 - val_mae: 0.4411 - val_accuracy: 0.6746\n",
      "Epoch 202/256\n",
      "2508/2508 [==============================] - 0s 14us/step - loss: 0.6693 - mae: 0.4392 - accuracy: 0.6722 - val_loss: 0.6718 - val_mae: 0.4410 - val_accuracy: 0.6746\n",
      "Epoch 203/256\n",
      "2508/2508 [==============================] - 0s 15us/step - loss: 0.6686 - mae: 0.4392 - accuracy: 0.6722 - val_loss: 0.6712 - val_mae: 0.4409 - val_accuracy: 0.6746\n",
      "Epoch 204/256\n",
      "2508/2508 [==============================] - 0s 15us/step - loss: 0.6680 - mae: 0.4391 - accuracy: 0.6722 - val_loss: 0.6705 - val_mae: 0.4409 - val_accuracy: 0.6746\n",
      "Epoch 205/256\n",
      "2508/2508 [==============================] - 0s 12us/step - loss: 0.6673 - mae: 0.4391 - accuracy: 0.6722 - val_loss: 0.6698 - val_mae: 0.4409 - val_accuracy: 0.6746\n",
      "Epoch 206/256\n",
      "2508/2508 [==============================] - 0s 12us/step - loss: 0.6667 - mae: 0.4391 - accuracy: 0.6722 - val_loss: 0.6692 - val_mae: 0.4409 - val_accuracy: 0.6746\n",
      "Epoch 207/256\n",
      "2508/2508 [==============================] - 0s 13us/step - loss: 0.6661 - mae: 0.4391 - accuracy: 0.6722 - val_loss: 0.6686 - val_mae: 0.4409 - val_accuracy: 0.6746\n",
      "Epoch 208/256\n",
      "2508/2508 [==============================] - 0s 13us/step - loss: 0.6655 - mae: 0.4391 - accuracy: 0.6722 - val_loss: 0.6680 - val_mae: 0.4408 - val_accuracy: 0.6746\n",
      "Epoch 209/256\n",
      "2508/2508 [==============================] - 0s 13us/step - loss: 0.6649 - mae: 0.4390 - accuracy: 0.6722 - val_loss: 0.6674 - val_mae: 0.4408 - val_accuracy: 0.6746\n",
      "Epoch 210/256\n",
      "2508/2508 [==============================] - 0s 13us/step - loss: 0.6643 - mae: 0.4390 - accuracy: 0.6722 - val_loss: 0.6668 - val_mae: 0.4407 - val_accuracy: 0.6746\n",
      "Epoch 211/256\n",
      "2508/2508 [==============================] - 0s 13us/step - loss: 0.6637 - mae: 0.4390 - accuracy: 0.6722 - val_loss: 0.6662 - val_mae: 0.4406 - val_accuracy: 0.6746\n",
      "Epoch 212/256\n",
      "2508/2508 [==============================] - 0s 14us/step - loss: 0.6631 - mae: 0.4389 - accuracy: 0.6722 - val_loss: 0.6656 - val_mae: 0.4405 - val_accuracy: 0.6746\n",
      "Epoch 213/256\n",
      "2508/2508 [==============================] - 0s 15us/step - loss: 0.6626 - mae: 0.4387 - accuracy: 0.6722 - val_loss: 0.6651 - val_mae: 0.4405 - val_accuracy: 0.6746\n",
      "Epoch 214/256\n",
      "2508/2508 [==============================] - 0s 13us/step - loss: 0.6620 - mae: 0.4388 - accuracy: 0.6722 - val_loss: 0.6645 - val_mae: 0.4404 - val_accuracy: 0.6746\n",
      "Epoch 215/256\n",
      "2508/2508 [==============================] - 0s 14us/step - loss: 0.6615 - mae: 0.4388 - accuracy: 0.6722 - val_loss: 0.6640 - val_mae: 0.4403 - val_accuracy: 0.6746\n",
      "Epoch 216/256\n",
      "2508/2508 [==============================] - 0s 16us/step - loss: 0.6610 - mae: 0.4387 - accuracy: 0.6722 - val_loss: 0.6634 - val_mae: 0.4403 - val_accuracy: 0.6746\n",
      "Epoch 217/256\n",
      "2508/2508 [==============================] - 0s 18us/step - loss: 0.6604 - mae: 0.4386 - accuracy: 0.6722 - val_loss: 0.6629 - val_mae: 0.4402 - val_accuracy: 0.6746\n",
      "Epoch 218/256\n",
      "2508/2508 [==============================] - 0s 15us/step - loss: 0.6599 - mae: 0.4385 - accuracy: 0.6722 - val_loss: 0.6624 - val_mae: 0.4402 - val_accuracy: 0.6746\n",
      "Epoch 219/256\n",
      "2508/2508 [==============================] - 0s 19us/step - loss: 0.6594 - mae: 0.4385 - accuracy: 0.6722 - val_loss: 0.6619 - val_mae: 0.4403 - val_accuracy: 0.6746\n",
      "Epoch 220/256\n",
      "2508/2508 [==============================] - 0s 16us/step - loss: 0.6589 - mae: 0.4385 - accuracy: 0.6722 - val_loss: 0.6614 - val_mae: 0.4402 - val_accuracy: 0.6746\n",
      "Epoch 221/256\n",
      "2508/2508 [==============================] - 0s 16us/step - loss: 0.6584 - mae: 0.4385 - accuracy: 0.6722 - val_loss: 0.6609 - val_mae: 0.4402 - val_accuracy: 0.6746\n",
      "Epoch 222/256\n",
      "2508/2508 [==============================] - 0s 17us/step - loss: 0.6580 - mae: 0.4384 - accuracy: 0.6722 - val_loss: 0.6604 - val_mae: 0.4401 - val_accuracy: 0.6746\n",
      "Epoch 223/256\n",
      "2508/2508 [==============================] - 0s 17us/step - loss: 0.6575 - mae: 0.4384 - accuracy: 0.6722 - val_loss: 0.6599 - val_mae: 0.4401 - val_accuracy: 0.6746\n",
      "Epoch 224/256\n",
      "2508/2508 [==============================] - 0s 15us/step - loss: 0.6570 - mae: 0.4384 - accuracy: 0.6722 - val_loss: 0.6594 - val_mae: 0.4400 - val_accuracy: 0.6746\n",
      "Epoch 225/256\n",
      "2508/2508 [==============================] - 0s 16us/step - loss: 0.6566 - mae: 0.4384 - accuracy: 0.6722 - val_loss: 0.6590 - val_mae: 0.4399 - val_accuracy: 0.6746\n",
      "Epoch 226/256\n",
      "2508/2508 [==============================] - 0s 17us/step - loss: 0.6561 - mae: 0.4383 - accuracy: 0.6722 - val_loss: 0.6585 - val_mae: 0.4399 - val_accuracy: 0.6746\n",
      "Epoch 227/256\n"
     ]
    },
    {
     "name": "stdout",
     "output_type": "stream",
     "text": [
      "2508/2508 [==============================] - 0s 13us/step - loss: 0.6557 - mae: 0.4383 - accuracy: 0.6722 - val_loss: 0.6581 - val_mae: 0.4398 - val_accuracy: 0.6746\n",
      "Epoch 228/256\n",
      "2508/2508 [==============================] - 0s 13us/step - loss: 0.6552 - mae: 0.4381 - accuracy: 0.6722 - val_loss: 0.6576 - val_mae: 0.4397 - val_accuracy: 0.6746\n",
      "Epoch 229/256\n",
      "2508/2508 [==============================] - 0s 13us/step - loss: 0.6548 - mae: 0.4380 - accuracy: 0.6722 - val_loss: 0.6572 - val_mae: 0.4397 - val_accuracy: 0.6746\n",
      "Epoch 230/256\n",
      "2508/2508 [==============================] - 0s 13us/step - loss: 0.6544 - mae: 0.4380 - accuracy: 0.6722 - val_loss: 0.6568 - val_mae: 0.4397 - val_accuracy: 0.6746\n",
      "Epoch 231/256\n",
      "2508/2508 [==============================] - 0s 15us/step - loss: 0.6540 - mae: 0.4380 - accuracy: 0.6722 - val_loss: 0.6564 - val_mae: 0.4397 - val_accuracy: 0.6746\n",
      "Epoch 232/256\n",
      "2508/2508 [==============================] - 0s 14us/step - loss: 0.6536 - mae: 0.4380 - accuracy: 0.6722 - val_loss: 0.6559 - val_mae: 0.4396 - val_accuracy: 0.6746\n",
      "Epoch 233/256\n",
      "2508/2508 [==============================] - 0s 13us/step - loss: 0.6532 - mae: 0.4380 - accuracy: 0.6722 - val_loss: 0.6555 - val_mae: 0.4396 - val_accuracy: 0.6746\n",
      "Epoch 234/256\n",
      "2508/2508 [==============================] - 0s 13us/step - loss: 0.6528 - mae: 0.4379 - accuracy: 0.6722 - val_loss: 0.6551 - val_mae: 0.4395 - val_accuracy: 0.6746\n",
      "Epoch 235/256\n",
      "2508/2508 [==============================] - 0s 16us/step - loss: 0.6524 - mae: 0.4379 - accuracy: 0.6722 - val_loss: 0.6548 - val_mae: 0.4394 - val_accuracy: 0.6746\n",
      "Epoch 236/256\n",
      "2508/2508 [==============================] - 0s 18us/step - loss: 0.6520 - mae: 0.4378 - accuracy: 0.6722 - val_loss: 0.6544 - val_mae: 0.4394 - val_accuracy: 0.6746\n",
      "Epoch 237/256\n",
      "2508/2508 [==============================] - 0s 15us/step - loss: 0.6516 - mae: 0.4378 - accuracy: 0.6722 - val_loss: 0.6540 - val_mae: 0.4394 - val_accuracy: 0.6746\n",
      "Epoch 238/256\n",
      "2508/2508 [==============================] - 0s 19us/step - loss: 0.6513 - mae: 0.4378 - accuracy: 0.6722 - val_loss: 0.6536 - val_mae: 0.4394 - val_accuracy: 0.6746\n",
      "Epoch 239/256\n",
      "2508/2508 [==============================] - 0s 17us/step - loss: 0.6509 - mae: 0.4378 - accuracy: 0.6722 - val_loss: 0.6532 - val_mae: 0.4393 - val_accuracy: 0.6746\n",
      "Epoch 240/256\n",
      "2508/2508 [==============================] - 0s 16us/step - loss: 0.6505 - mae: 0.4378 - accuracy: 0.6722 - val_loss: 0.6529 - val_mae: 0.4393 - val_accuracy: 0.6746\n",
      "Epoch 241/256\n",
      "2508/2508 [==============================] - 0s 15us/step - loss: 0.6502 - mae: 0.4378 - accuracy: 0.6722 - val_loss: 0.6525 - val_mae: 0.4393 - val_accuracy: 0.6746\n",
      "Epoch 242/256\n",
      "2508/2508 [==============================] - 0s 15us/step - loss: 0.6498 - mae: 0.4376 - accuracy: 0.6722 - val_loss: 0.6521 - val_mae: 0.4392 - val_accuracy: 0.6746\n",
      "Epoch 243/256\n",
      "2508/2508 [==============================] - 0s 15us/step - loss: 0.6495 - mae: 0.4377 - accuracy: 0.6722 - val_loss: 0.6518 - val_mae: 0.4392 - val_accuracy: 0.6746\n",
      "Epoch 244/256\n",
      "2508/2508 [==============================] - 0s 14us/step - loss: 0.6492 - mae: 0.4376 - accuracy: 0.6722 - val_loss: 0.6515 - val_mae: 0.4393 - val_accuracy: 0.6746\n",
      "Epoch 245/256\n",
      "2508/2508 [==============================] - 0s 18us/step - loss: 0.6488 - mae: 0.4377 - accuracy: 0.6722 - val_loss: 0.6511 - val_mae: 0.4393 - val_accuracy: 0.6746\n",
      "Epoch 246/256\n",
      "2508/2508 [==============================] - 0s 15us/step - loss: 0.6485 - mae: 0.4377 - accuracy: 0.6722 - val_loss: 0.6508 - val_mae: 0.4393 - val_accuracy: 0.6746\n",
      "Epoch 247/256\n",
      "2508/2508 [==============================] - 0s 15us/step - loss: 0.6482 - mae: 0.4377 - accuracy: 0.6722 - val_loss: 0.6505 - val_mae: 0.4393 - val_accuracy: 0.6746\n",
      "Epoch 248/256\n",
      "2508/2508 [==============================] - 0s 14us/step - loss: 0.6479 - mae: 0.4377 - accuracy: 0.6722 - val_loss: 0.6501 - val_mae: 0.4393 - val_accuracy: 0.6746\n",
      "Epoch 249/256\n",
      "2508/2508 [==============================] - 0s 14us/step - loss: 0.6476 - mae: 0.4378 - accuracy: 0.6722 - val_loss: 0.6498 - val_mae: 0.4392 - val_accuracy: 0.6746\n",
      "Epoch 250/256\n",
      "2508/2508 [==============================] - 0s 12us/step - loss: 0.6473 - mae: 0.4377 - accuracy: 0.6722 - val_loss: 0.6495 - val_mae: 0.4392 - val_accuracy: 0.6746\n",
      "Epoch 251/256\n",
      "2508/2508 [==============================] - 0s 17us/step - loss: 0.6470 - mae: 0.4377 - accuracy: 0.6722 - val_loss: 0.6492 - val_mae: 0.4392 - val_accuracy: 0.6746\n",
      "Epoch 252/256\n",
      "2508/2508 [==============================] - 0s 16us/step - loss: 0.6467 - mae: 0.4377 - accuracy: 0.6722 - val_loss: 0.6489 - val_mae: 0.4392 - val_accuracy: 0.6746\n",
      "Epoch 253/256\n",
      "2508/2508 [==============================] - 0s 18us/step - loss: 0.6464 - mae: 0.4376 - accuracy: 0.6722 - val_loss: 0.6486 - val_mae: 0.4392 - val_accuracy: 0.6746\n",
      "Epoch 254/256\n",
      "2508/2508 [==============================] - 0s 17us/step - loss: 0.6461 - mae: 0.4377 - accuracy: 0.6722 - val_loss: 0.6483 - val_mae: 0.4392 - val_accuracy: 0.6746\n",
      "Epoch 255/256\n",
      "2508/2508 [==============================] - 0s 15us/step - loss: 0.6458 - mae: 0.4377 - accuracy: 0.6722 - val_loss: 0.6481 - val_mae: 0.4392 - val_accuracy: 0.6746\n",
      "Epoch 256/256\n",
      "2508/2508 [==============================] - 0s 18us/step - loss: 0.6455 - mae: 0.4376 - accuracy: 0.6722 - val_loss: 0.6478 - val_mae: 0.4391 - val_accuracy: 0.6746\n"
     ]
    }
   ],
   "source": [
    "history= model3_sim.fit(x=[x_train_user,x_train_questions], y=y_train, batch_size=64, epochs=256, verbose=1, validation_split=0.2)"
   ]
  },
  {
   "cell_type": "code",
   "execution_count": 192,
   "metadata": {},
   "outputs": [
    {
     "data": {
      "image/png": "[encoded data removed]",
      "text/plain": [
       "<Figure size 432x288 with 1 Axes>"
      ]
     },
     "metadata": {
      "needs_background": "light"
     },
     "output_type": "display_data"
    }
   ],
   "source": [
    "import matplotlib.pyplot as plt\n",
    "plt.plot(history.history['loss'])\n",
    "plt.plot(history.history['val_loss'])\n",
    "plt.title('Model loss for \"3 PL model\" with sim_data')\n",
    "plt.xlabel('epoch')\n",
    "plt.ylabel('loss')\n",
    "\n",
    "plt.legend(['train', 'validation'], loc= 'upper right')\n",
    "plt.show()"
   ]
  },
  {
   "cell_type": "code",
   "execution_count": 194,
   "metadata": {},
   "outputs": [],
   "source": [
    "latent_trait_parameters = model3_sim.layers[2].get_weights()[0]#latent trait for 500 users\n",
    "difficulty_level_parameters= model3_sim.layers[3].get_weights()[0]#difficulty params for 3 Quests/item.\n",
    "discrimination_parameters= model3_sim.layers[5].get_weights()[0]#dicrimination params for 3 Quests/item.\n",
    "pseudo_guess_parameters = model3_sim.layers[6].get_weights()[0]#pseudo_guess_params for 3 Quests/item."
   ]
  },
  {
   "cell_type": "markdown",
   "metadata": {},
   "source": [
    "### Tabular data b/w Keras Vs. R"
   ]
  },
  {
   "cell_type": "code",
   "execution_count": 195,
   "metadata": {},
   "outputs": [
    {
     "data": {
      "text/html": [
       "<div>\n",
       "<style scoped>\n",
       "    .dataframe tbody tr th:only-of-type {\n",
       "        vertical-align: middle;\n",
       "    }\n",
       "\n",
       "    .dataframe tbody tr th {\n",
       "        vertical-align: top;\n",
       "    }\n",
       "\n",
       "    .dataframe thead th {\n",
       "        text-align: right;\n",
       "    }\n",
       "</style>\n",
       "<table border=\"1\" class=\"dataframe\">\n",
       "  <thead>\n",
       "    <tr style=\"text-align: right;\">\n",
       "      <th></th>\n",
       "      <th>Questions</th>\n",
       "      <th>Difficulty-keras</th>\n",
       "      <th>Difficulty-R</th>\n",
       "      <th>Discrimination-keras</th>\n",
       "      <th>Discrimination-R</th>\n",
       "      <th>Guess-keras</th>\n",
       "      <th>Guess-R</th>\n",
       "    </tr>\n",
       "  </thead>\n",
       "  <tbody>\n",
       "    <tr>\n",
       "      <td>0</td>\n",
       "      <td>1</td>\n",
       "      <td>-0.974313</td>\n",
       "      <td>-0.539199</td>\n",
       "      <td>0.789796</td>\n",
       "      <td>23.963986</td>\n",
       "      <td>-3.332122</td>\n",
       "      <td>-0.539199</td>\n",
       "    </tr>\n",
       "    <tr>\n",
       "      <td>1</td>\n",
       "      <td>2</td>\n",
       "      <td>-0.837232</td>\n",
       "      <td>0.044664</td>\n",
       "      <td>0.691309</td>\n",
       "      <td>21.340652</td>\n",
       "      <td>-2.982681</td>\n",
       "      <td>0.044664</td>\n",
       "    </tr>\n",
       "    <tr>\n",
       "      <td>2</td>\n",
       "      <td>3</td>\n",
       "      <td>-0.859831</td>\n",
       "      <td>0.695396</td>\n",
       "      <td>0.622291</td>\n",
       "      <td>18.530009</td>\n",
       "      <td>-2.507468</td>\n",
       "      <td>0.695396</td>\n",
       "    </tr>\n",
       "  </tbody>\n",
       "</table>\n",
       "</div>"
      ],
      "text/plain": [
       "   Questions  Difficulty-keras  Difficulty-R  Discrimination-keras  \\\n",
       "0          1         -0.974313     -0.539199              0.789796   \n",
       "1          2         -0.837232      0.044664              0.691309   \n",
       "2          3         -0.859831      0.695396              0.622291   \n",
       "\n",
       "   Discrimination-R  Guess-keras   Guess-R  \n",
       "0         23.963986    -3.332122 -0.539199  \n",
       "1         21.340652    -2.982681  0.044664  \n",
       "2         18.530009    -2.507468  0.695396  "
      ]
     },
     "execution_count": 195,
     "metadata": {},
     "output_type": "execute_result"
    }
   ],
   "source": [
    "df_table= pd.DataFrame({'Questions': rel_items, 'Difficulty-keras': difficulty_level_parameters.reshape(-1),\n",
    " 'Difficulty-R':coeff[r_params_cols[2]].values, 'Discrimination-keras':discrimination_parameters.reshape(-1),\n",
    " 'Discrimination-R':coeff[r_params_cols[-1]].values, 'Guess-keras':pseudo_guess_parameters.reshape(-1),\n",
    " 'Guess-R':coeff[r_params_cols[2]].values})\n",
    "df_table.head(5)"
   ]
  },
  {
   "cell_type": "markdown",
   "metadata": {},
   "source": [
    "### Item characteristic curves for all items from new simulated dataset with keras 3PL"
   ]
  },
  {
   "cell_type": "code",
   "execution_count": 197,
   "metadata": {},
   "outputs": [
    {
     "data": {
      "image/png": "[encoded data removed]",
      "text/plain": [
       "<Figure size 432x288 with 1 Axes>"
      ]
     },
     "metadata": {
      "needs_background": "light"
     },
     "output_type": "display_data"
    }
   ],
   "source": [
    "x = np.linspace(-4,4, num=num_sim_users)#value count for x axis\n",
    "\n",
    "for i in range(len(rel_items)):#10 items\n",
    "    c= pseudo_guess_parameters[i]#values for item 6 from keras 3pl params\n",
    "    a= discrimination_parameters[i]\n",
    "    b= difficulty_level_parameters[i]\n",
    "    vals_keras= logit_func(x)\n",
    "    plt.plot(x,vals_keras[0], 'b')\n",
    "\n",
    "plt.title('ICC for each of 3 items from keras on simulated dataset')\n",
    "plt.xlabel('x: latent_trait_vals')\n",
    "plt.ylabel('y: P(i=1|x)')\n",
    "plt.show()#for mean=0 stdDev=1"
   ]
  },
  {
   "cell_type": "markdown",
   "metadata": {},
   "source": [
    "________________"
   ]
  },
  {
   "cell_type": "markdown",
   "metadata": {},
   "source": [
    "* **Questions:**"
   ]
  },
  {
   "cell_type": "markdown",
   "metadata": {},
   "source": [
    "##### 1."
   ]
  },
  {
   "cell_type": "code",
   "execution_count": 101,
   "metadata": {},
   "outputs": [
    {
     "data": {
      "text/plain": [
       "(array([34, 38, 79]),)"
      ]
     },
     "execution_count": 101,
     "metadata": {},
     "output_type": "execute_result"
    }
   ],
   "source": [
    "#represents size 100 = number of users & each user approaches\n",
    "# to Q0 10 times with response(Success) probability 55%?\n",
    "probs= np.random.binomial(10, 0.55, size= 100)\n",
    "which_user_responds_Q1 = np.where(probs>=9)#which users respond to Q1 maximum times\n",
    "which_user_responds_Q1#Now add (34, 0, 0.55), (38, 0, 0.55), (79, 0, 0.55) to dataset"
   ]
  },
  {
   "cell_type": "markdown",
   "metadata": {},
   "source": [
    "##### 2."
   ]
  },
  {
   "cell_type": "code",
   "execution_count": 106,
   "metadata": {},
   "outputs": [
    {
     "data": {
      "text/plain": [
       "array([2, 2, 1, 1, 1, 1, 1, 2, 2, 1, 1, 2, 1, 2, 2, 2, 1, 1, 2, 2, 1, 2,\n",
       "       2, 0, 2, 2, 3, 1, 2, 2, 0, 3, 2, 2, 1, 2, 1, 1, 1, 0, 1, 1, 2, 2,\n",
       "       3, 3, 1, 3, 2, 1, 2, 1, 2, 2, 2, 2, 2, 1, 3, 3, 2, 2, 3, 2, 1, 2,\n",
       "       1, 1, 2, 2, 1, 1, 2, 1, 0, 2, 1, 1, 3, 1, 1, 2, 2, 2, 1, 2, 2, 2,\n",
       "       1, 2, 2, 3, 1, 2, 1, 2, 2, 3, 1, 1])"
      ]
     },
     "execution_count": 106,
     "metadata": {},
     "output_type": "execute_result"
    }
   ],
   "source": [
    "#represents size 100 = number of users & each user tries to respond\n",
    "#to 3 questions with response(Success) probability 55%?\n",
    "probs= np.random.binomial(3,0.55,size= 100) \n",
    "probs#Since every user responses to all 3 questions\n",
    "#Now for 1st user corrsponding to distribution output;\n",
    "#add (0, 0, 0.55),(0, 1, 0.55), (0, 2, 0.45) to dataset"
   ]
  }
 ],
 "metadata": {
  "kernelspec": {
   "display_name": "Python 3",
   "language": "python",
   "name": "python3"
  },
  "language_info": {
   "codemirror_mode": {
    "name": "ipython",
    "version": 3
   },
   "file_extension": ".py",
   "mimetype": "text/x-python",
   "name": "python",
   "nbconvert_exporter": "python",
   "pygments_lexer": "ipython3",
   "version": "3.6.8"
  }
 },
 "nbformat": 4,
 "nbformat_minor": 2
}
