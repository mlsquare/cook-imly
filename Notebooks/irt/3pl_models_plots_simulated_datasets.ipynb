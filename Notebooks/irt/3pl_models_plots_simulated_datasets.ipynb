{
 "cells": [
  {
   "cell_type": "markdown",
   "metadata": {},
   "source": [
    "## Simulating dataset"
   ]
  },
  {
   "cell_type": "markdown",
   "metadata": {},
   "source": [
    "* Obtaining 100 values corresponding to latent abilties of 100 users from a random normal distribution"
   ]
  },
  {
   "cell_type": "code",
   "execution_count": 1,
   "metadata": {
    "scrolled": true
   },
   "outputs": [
    {
     "name": "stdout",
     "output_type": "stream",
     "text": [
      "# of sim user: 100 \n",
      "# of sim items: 3\n"
     ]
    }
   ],
   "source": [
    "import pandas as pd\n",
    "import numpy as np\n",
    "#from numpy.random import seed\n",
    "#seed(1)\n",
    "\n",
    "ltrait_new = np.random.normal(0, 1, size=100)\n",
    "num_sim_users = ltrait_new.shape[0]\n",
    "num_sim_items = len([0,1,2])\n",
    "print('# of sim user:',num_sim_users,'\\n# of sim items:',num_sim_items)"
   ]
  },
  {
   "cell_type": "markdown",
   "metadata": {},
   "source": [
    "* **In following:**\n",
    "\n",
    "    **a.) tpm functions: outputs 3PL likelihood values of responding to all 3 items by particular user.**\n",
    "    \n",
    "    **b.) sim_data: outputs list of tuples containing values in format (user, question/item, response).**"
   ]
  },
  {
   "cell_type": "code",
   "execution_count": 2,
   "metadata": {},
   "outputs": [],
   "source": [
    "def tpm(diff, latent, guess=0.001, desc=1):\n",
    "    guess= 0.001 #[0.001]*3#for 3 items\n",
    "    desc=1 #[1]*3 for 3 items\n",
    "    prob_per_user = list()\n",
    "    \n",
    "    for d in diff:\n",
    "        prob_per_user.append(guess+ (1- guess)*(np.exp(desc*(latent-d))/(1+np.exp(desc*(latent-d)))))\n",
    "        \n",
    "    return prob_per_user"
   ]
  },
  {
   "cell_type": "code",
   "execution_count": 3,
   "metadata": {},
   "outputs": [],
   "source": [
    "def sim_data(l_trait):\n",
    "    items= [0,1,2]\n",
    "    data_li= list()\n",
    "    difficulty= [-0.5,0,0.5]\n",
    "    for idx, val in enumerate(l_trait):\n",
    "        data_li= data_li+ list(zip([idx]*3, items, tpm(diff= difficulty, latent= val)))\n",
    "    \n",
    "    return data_li"
   ]
  },
  {
   "cell_type": "code",
   "execution_count": 4,
   "metadata": {
    "scrolled": false
   },
   "outputs": [
    {
     "data": {
      "text/html": [
       "<div>\n",
       "<style scoped>\n",
       "    .dataframe tbody tr th:only-of-type {\n",
       "        vertical-align: middle;\n",
       "    }\n",
       "\n",
       "    .dataframe tbody tr th {\n",
       "        vertical-align: top;\n",
       "    }\n",
       "\n",
       "    .dataframe thead th {\n",
       "        text-align: right;\n",
       "    }\n",
       "</style>\n",
       "<table border=\"1\" class=\"dataframe\">\n",
       "  <thead>\n",
       "    <tr style=\"text-align: right;\">\n",
       "      <th></th>\n",
       "      <th>user</th>\n",
       "      <th>questions</th>\n",
       "      <th>response</th>\n",
       "    </tr>\n",
       "  </thead>\n",
       "  <tbody>\n",
       "    <tr>\n",
       "      <td>228</td>\n",
       "      <td>76</td>\n",
       "      <td>0</td>\n",
       "      <td>0.664896</td>\n",
       "    </tr>\n",
       "    <tr>\n",
       "      <td>246</td>\n",
       "      <td>82</td>\n",
       "      <td>0</td>\n",
       "      <td>0.841920</td>\n",
       "    </tr>\n",
       "    <tr>\n",
       "      <td>285</td>\n",
       "      <td>95</td>\n",
       "      <td>0</td>\n",
       "      <td>0.636169</td>\n",
       "    </tr>\n",
       "    <tr>\n",
       "      <td>156</td>\n",
       "      <td>52</td>\n",
       "      <td>0</td>\n",
       "      <td>0.839997</td>\n",
       "    </tr>\n",
       "    <tr>\n",
       "      <td>195</td>\n",
       "      <td>65</td>\n",
       "      <td>0</td>\n",
       "      <td>0.442477</td>\n",
       "    </tr>\n",
       "  </tbody>\n",
       "</table>\n",
       "</div>"
      ],
      "text/plain": [
       "     user  questions  response\n",
       "228    76          0  0.664896\n",
       "246    82          0  0.841920\n",
       "285    95          0  0.636169\n",
       "156    52          0  0.839997\n",
       "195    65          0  0.442477"
      ]
     },
     "execution_count": 4,
     "metadata": {},
     "output_type": "execute_result"
    }
   ],
   "source": [
    "df_cols = ['user','questions', 'response']#final dataframe cols\n",
    "\n",
    "data_list = sim_data(ltrait_new)\n",
    "df_sim = pd.DataFrame(data_list, columns=df_cols)\n",
    "df_sim = df_sim.loc[np.random.randint(0,df_sim.shape[0]-1, size=df_sim.shape[0])]#shuffling data\n",
    "df_sim.head(5)"
   ]
  },
  {
   "cell_type": "code",
   "execution_count": 5,
   "metadata": {},
   "outputs": [
    {
     "data": {
      "text/html": [
       "<div>\n",
       "<style scoped>\n",
       "    .dataframe tbody tr th:only-of-type {\n",
       "        vertical-align: middle;\n",
       "    }\n",
       "\n",
       "    .dataframe tbody tr th {\n",
       "        vertical-align: top;\n",
       "    }\n",
       "\n",
       "    .dataframe thead th {\n",
       "        text-align: right;\n",
       "    }\n",
       "</style>\n",
       "<table border=\"1\" class=\"dataframe\">\n",
       "  <thead>\n",
       "    <tr style=\"text-align: right;\">\n",
       "      <th></th>\n",
       "      <th>user</th>\n",
       "      <th>questions</th>\n",
       "      <th>response</th>\n",
       "    </tr>\n",
       "  </thead>\n",
       "  <tbody>\n",
       "    <tr>\n",
       "      <td>228</td>\n",
       "      <td>76</td>\n",
       "      <td>0</td>\n",
       "      <td>1</td>\n",
       "    </tr>\n",
       "    <tr>\n",
       "      <td>246</td>\n",
       "      <td>82</td>\n",
       "      <td>0</td>\n",
       "      <td>1</td>\n",
       "    </tr>\n",
       "    <tr>\n",
       "      <td>285</td>\n",
       "      <td>95</td>\n",
       "      <td>0</td>\n",
       "      <td>1</td>\n",
       "    </tr>\n",
       "  </tbody>\n",
       "</table>\n",
       "</div>"
      ],
      "text/plain": [
       "     user  questions  response\n",
       "228    76          0         1\n",
       "246    82          0         1\n",
       "285    95          0         1"
      ]
     },
     "execution_count": 5,
     "metadata": {},
     "output_type": "execute_result"
    }
   ],
   "source": [
    "df_sim['response']=df_sim['response'].apply(lambda x: int(np.round(x)))\n",
    "df_sim.head(3)"
   ]
  },
  {
   "cell_type": "markdown",
   "metadata": {},
   "source": [
    "**Saving the dataset as CSV for later use with keras:**"
   ]
  },
  {
   "cell_type": "code",
   "execution_count": 6,
   "metadata": {},
   "outputs": [],
   "source": [
    "#df_sim.to_csv('simulated_data.csv', index=False)"
   ]
  },
  {
   "cell_type": "markdown",
   "metadata": {},
   "source": [
    "**Saving the dataset in format of R**\n",
    "* Following dataset will be used to obtain coefficients from R tpm\n",
    "* table array represent users along rows & questions/items across columns in progression and contain a response value at particular index say (i,j)."
   ]
  },
  {
   "cell_type": "code",
   "execution_count": 7,
   "metadata": {},
   "outputs": [
    {
     "data": {
      "text/html": [
       "<div>\n",
       "<style scoped>\n",
       "    .dataframe tbody tr th:only-of-type {\n",
       "        vertical-align: middle;\n",
       "    }\n",
       "\n",
       "    .dataframe tbody tr th {\n",
       "        vertical-align: top;\n",
       "    }\n",
       "\n",
       "    .dataframe thead th {\n",
       "        text-align: right;\n",
       "    }\n",
       "</style>\n",
       "<table border=\"1\" class=\"dataframe\">\n",
       "  <thead>\n",
       "    <tr style=\"text-align: right;\">\n",
       "      <th></th>\n",
       "      <th>0</th>\n",
       "      <th>1</th>\n",
       "      <th>2</th>\n",
       "    </tr>\n",
       "  </thead>\n",
       "  <tbody>\n",
       "    <tr>\n",
       "      <td>0</td>\n",
       "      <td>0</td>\n",
       "      <td>0</td>\n",
       "      <td>0</td>\n",
       "    </tr>\n",
       "    <tr>\n",
       "      <td>1</td>\n",
       "      <td>0</td>\n",
       "      <td>0</td>\n",
       "      <td>0</td>\n",
       "    </tr>\n",
       "    <tr>\n",
       "      <td>2</td>\n",
       "      <td>1</td>\n",
       "      <td>1</td>\n",
       "      <td>1</td>\n",
       "    </tr>\n",
       "    <tr>\n",
       "      <td>3</td>\n",
       "      <td>1</td>\n",
       "      <td>1</td>\n",
       "      <td>1</td>\n",
       "    </tr>\n",
       "  </tbody>\n",
       "</table>\n",
       "</div>"
      ],
      "text/plain": [
       "   0  1  2\n",
       "0  0  0  0\n",
       "1  0  0  0\n",
       "2  1  1  1\n",
       "3  1  1  1"
      ]
     },
     "execution_count": 7,
     "metadata": {},
     "output_type": "execute_result"
    }
   ],
   "source": [
    "table_arr= np.zeros((num_sim_users,num_sim_items), dtype=int)\n",
    "\n",
    "for user, item, resp in data_list:\n",
    "    table_arr[user,item]= np.round(resp)\n",
    "\n",
    "df_Rtable = pd.DataFrame(table_arr)\n",
    "df_Rtable.head(4)"
   ]
  },
  {
   "cell_type": "code",
   "execution_count": 8,
   "metadata": {},
   "outputs": [],
   "source": [
    "#df_Rtable.to_csv('simulated_data.dat', sep=' ', index=False, header= None)#Saves a .dat file in pwd"
   ]
  },
  {
   "cell_type": "markdown",
   "metadata": {},
   "source": [
    "### Now using above simulated dataset to first train a keras_3PL & then R_tpm to draw comparison"
   ]
  },
  {
   "cell_type": "markdown",
   "metadata": {},
   "source": [
    "#### Defining and Training a keras model with above simulated dataset"
   ]
  },
  {
   "cell_type": "code",
   "execution_count": 9,
   "metadata": {},
   "outputs": [
    {
     "name": "stderr",
     "output_type": "stream",
     "text": [
      "Using TensorFlow backend.\n",
      "/home/kev/Desktop/pyvirtual2/lib/python3.6/site-packages/tensorflow/python/framework/dtypes.py:526: FutureWarning: Passing (type, 1) or '1type' as a synonym of type is deprecated; in a future version of numpy, it will be understood as (type, (1,)) / '(1,)type'.\n",
      "  _np_qint8 = np.dtype([(\"qint8\", np.int8, 1)])\n",
      "/home/kev/Desktop/pyvirtual2/lib/python3.6/site-packages/tensorflow/python/framework/dtypes.py:527: FutureWarning: Passing (type, 1) or '1type' as a synonym of type is deprecated; in a future version of numpy, it will be understood as (type, (1,)) / '(1,)type'.\n",
      "  _np_quint8 = np.dtype([(\"quint8\", np.uint8, 1)])\n",
      "/home/kev/Desktop/pyvirtual2/lib/python3.6/site-packages/tensorflow/python/framework/dtypes.py:528: FutureWarning: Passing (type, 1) or '1type' as a synonym of type is deprecated; in a future version of numpy, it will be understood as (type, (1,)) / '(1,)type'.\n",
      "  _np_qint16 = np.dtype([(\"qint16\", np.int16, 1)])\n",
      "/home/kev/Desktop/pyvirtual2/lib/python3.6/site-packages/tensorflow/python/framework/dtypes.py:529: FutureWarning: Passing (type, 1) or '1type' as a synonym of type is deprecated; in a future version of numpy, it will be understood as (type, (1,)) / '(1,)type'.\n",
      "  _np_quint16 = np.dtype([(\"quint16\", np.uint16, 1)])\n",
      "/home/kev/Desktop/pyvirtual2/lib/python3.6/site-packages/tensorflow/python/framework/dtypes.py:530: FutureWarning: Passing (type, 1) or '1type' as a synonym of type is deprecated; in a future version of numpy, it will be understood as (type, (1,)) / '(1,)type'.\n",
      "  _np_qint32 = np.dtype([(\"qint32\", np.int32, 1)])\n",
      "/home/kev/Desktop/pyvirtual2/lib/python3.6/site-packages/tensorflow/python/framework/dtypes.py:535: FutureWarning: Passing (type, 1) or '1type' as a synonym of type is deprecated; in a future version of numpy, it will be understood as (type, (1,)) / '(1,)type'.\n",
      "  np_resource = np.dtype([(\"resource\", np.ubyte, 1)])\n"
     ]
    }
   ],
   "source": [
    "import keras\n",
    "from keras.models import Model\n",
    "from keras.layers import Input, Dense, Activation\n",
    "from keras import metrics\n",
    "from keras.utils import to_categorical"
   ]
  },
  {
   "cell_type": "code",
   "execution_count": 10,
   "metadata": {},
   "outputs": [
    {
     "data": {
      "text/html": [
       "<div>\n",
       "<style scoped>\n",
       "    .dataframe tbody tr th:only-of-type {\n",
       "        vertical-align: middle;\n",
       "    }\n",
       "\n",
       "    .dataframe tbody tr th {\n",
       "        vertical-align: top;\n",
       "    }\n",
       "\n",
       "    .dataframe thead th {\n",
       "        text-align: right;\n",
       "    }\n",
       "</style>\n",
       "<table border=\"1\" class=\"dataframe\">\n",
       "  <thead>\n",
       "    <tr style=\"text-align: right;\">\n",
       "      <th></th>\n",
       "      <th>user</th>\n",
       "      <th>questions</th>\n",
       "      <th>response</th>\n",
       "    </tr>\n",
       "  </thead>\n",
       "  <tbody>\n",
       "    <tr>\n",
       "      <td>0</td>\n",
       "      <td>92</td>\n",
       "      <td>0</td>\n",
       "      <td>1</td>\n",
       "    </tr>\n",
       "    <tr>\n",
       "      <td>1</td>\n",
       "      <td>86</td>\n",
       "      <td>2</td>\n",
       "      <td>1</td>\n",
       "    </tr>\n",
       "    <tr>\n",
       "      <td>2</td>\n",
       "      <td>57</td>\n",
       "      <td>1</td>\n",
       "      <td>1</td>\n",
       "    </tr>\n",
       "  </tbody>\n",
       "</table>\n",
       "</div>"
      ],
      "text/plain": [
       "   user  questions  response\n",
       "0    92          0         1\n",
       "1    86          2         1\n",
       "2    57          1         1"
      ]
     },
     "execution_count": 10,
     "metadata": {},
     "output_type": "execute_result"
    }
   ],
   "source": [
    "df_sim= pd.read_csv('simulated_data.csv')\n",
    "df_sim.head(3)"
   ]
  },
  {
   "cell_type": "code",
   "execution_count": 11,
   "metadata": {},
   "outputs": [
    {
     "name": "stdout",
     "output_type": "stream",
     "text": [
      "shape of simulated x_train_user: (285, 100) \n",
      "shape of simulated  x_train_questions: (285, 3) \n",
      "shape of simulated  y_train: (285,)\n"
     ]
    }
   ],
   "source": [
    "from sklearn.model_selection import train_test_split\n",
    "\n",
    "xtrain, xtest, ytrain, ytest = train_test_split(df_sim[df_cols[:-1]], df_sim[df_cols[-1]], test_size=0.05)\n",
    "\n",
    "x_train_user = to_categorical(xtrain['user'], num_classes=num_sim_users)#contains the one-hot encoded user data\n",
    "x_train_questions = pd.get_dummies(xtrain['questions']).values#contains the one-hot encoded questions\n",
    "\n",
    "y_train= ytrain.values\n",
    "print('shape of simulated x_train_user:', x_train_user.shape,'\\nshape of simulated  x_train_questions:', x_train_questions.shape,\n",
    "      '\\nshape of simulated  y_train:',y_train.shape)"
   ]
  },
  {
   "cell_type": "markdown",
   "metadata": {},
   "source": [
    "## 3 PL IRT model\n",
    "* t_i= Degree of latent trait of i-th student\n",
    "* b_j= difficulty_level of j-th question\n",
    "* a_j= discrimination parameter of j-th question\n",
    "* c_j= pseudo guessing parameter of j-th question\n",
    "* P(i,j) = Prob of i-th student, correctly scoring on j-th item.\n",
    "\n",
    "`P{i=1,j} = c_j+ (1- c_j)*Sigmoid[a_j*(t_i - b_j)]`"
   ]
  },
  {
   "cell_type": "code",
   "execution_count": 12,
   "metadata": {},
   "outputs": [],
   "source": [
    "from keras import backend as K\n",
    "from keras.layers import Lambda\n",
    "from keras import regularizers\n",
    "from keras import initializers\n",
    "from keras.layers import Activation"
   ]
  },
  {
   "cell_type": "code",
   "execution_count": 13,
   "metadata": {},
   "outputs": [
    {
     "name": "stdout",
     "output_type": "stream",
     "text": [
      "WARNING:tensorflow:From /home/kev/Desktop/pyvirtual2/lib/python3.6/site-packages/tensorflow/python/ops/resource_variable_ops.py:435: colocate_with (from tensorflow.python.framework.ops) is deprecated and will be removed in a future version.\n",
      "Instructions for updating:\n",
      "Colocations handled automatically by placer.\n"
     ]
    }
   ],
   "source": [
    "user_input_layer = Input(shape=(x_train_user.shape[1],), name= 'user_id')#top half of input\n",
    "quest_input_layer = Input(shape=(x_train_questions.shape[1],), name='questions/items')#bottom half of input\n",
    "\n",
    "#1. kernel init set to RandomNorm(0,1), kernel regularizer set to l2\n",
    "latent_trait = Dense(1, use_bias=False,\n",
    "        kernel_initializer= initializers.RandomNormal(mean=0, stddev=1.0, seed=None),\n",
    "        kernel_regularizer=regularizers.l2(0.01), name='latent_trait')(user_input_layer)\n",
    "\n",
    "#2. kernel init set to RandomNorm(0,1),\n",
    "difficulty_level = Dense(1, use_bias=False,\n",
    "        kernel_initializer= initializers.RandomNormal(mean=0, stddev=1.0, seed=None),\n",
    "        name='difficulty_level')(quest_input_layer)\n",
    "\n",
    "#3. kernel init set to RandomNorm(1,1),\n",
    "discrimination_param = Dense(1, use_bias=False,\n",
    "        kernel_initializer= initializers.RandomNormal(mean=1, stddev=1.0, seed=None),\n",
    "        name='disc_param')(quest_input_layer)\n",
    "\n",
    "#4. should add Sigmoid activation-- ?\n",
    "guess_param = Dense(1, use_bias=False, activation='sigmoid', name='guessing_param')(quest_input_layer)\n",
    "\n",
    "latent_difficulty_subtract = keras.layers.Subtract(name='latent_diff_sub')([latent_trait, difficulty_level])\n",
    "\n",
    "disc_param_interaction = keras.layers.Multiply(name='disc_param_inter.')([latent_difficulty_subtract, \n",
    "                                                    discrimination_param])\n",
    "\n",
    "#5. Sigmoid positioning corrected as per 3PL expression\n",
    "sigmoid_layer= Activation('sigmoid', name='Sigmoid_func')(disc_param_interaction)\n",
    "\n",
    "\n",
    "guess_param_interaction= Lambda(lambda x: K.constant(value=np.array([1])) - x, name='guess_param_inter.')(guess_param)\n",
    "\n",
    "\n",
    "guess_param_interaction= keras.layers.Multiply(name='disc/guess_param_inter.')([sigmoid_layer,\n",
    "                                                guess_param_interaction])\n",
    "\n",
    "guess_param_interaction= keras.layers.Add(name='guess_param_inter/add')([guess_param, guess_param_interaction])\n",
    "\n",
    "\n",
    "#6. changed activation to just linear\n",
    "prediction_output = Dense(1, trainable=False, use_bias=False,kernel_initializer=keras.initializers.Ones(), name='prediction_layer')(guess_param_interaction)\n",
    "\n",
    "\n",
    "model3_sim = Model(inputs=[user_input_layer, quest_input_layer], outputs= prediction_output)\n",
    "model3_sim.compile(loss= 'binary_crossentropy', optimizer='sgd', metrics= ['mae', 'accuracy'])"
   ]
  },
  {
   "cell_type": "code",
   "execution_count": 14,
   "metadata": {},
   "outputs": [
    {
     "name": "stdout",
     "output_type": "stream",
     "text": [
      "Model: \"model_1\"\n",
      "__________________________________________________________________________________________________\n",
      "Layer (type)                    Output Shape         Param #     Connected to                     \n",
      "==================================================================================================\n",
      "questions/items (InputLayer)    (None, 3)            0                                            \n",
      "__________________________________________________________________________________________________\n",
      "user_id (InputLayer)            (None, 100)          0                                            \n",
      "__________________________________________________________________________________________________\n",
      "latent_trait (Dense)            (None, 1)            100         user_id[0][0]                    \n",
      "__________________________________________________________________________________________________\n",
      "difficulty_level (Dense)        (None, 1)            3           questions/items[0][0]            \n",
      "__________________________________________________________________________________________________\n",
      "latent_diff_sub (Subtract)      (None, 1)            0           latent_trait[0][0]               \n",
      "                                                                 difficulty_level[0][0]           \n",
      "__________________________________________________________________________________________________\n",
      "disc_param (Dense)              (None, 1)            3           questions/items[0][0]            \n",
      "__________________________________________________________________________________________________\n",
      "guessing_param (Dense)          (None, 1)            3           questions/items[0][0]            \n",
      "__________________________________________________________________________________________________\n",
      "disc_param_inter. (Multiply)    (None, 1)            0           latent_diff_sub[0][0]            \n",
      "                                                                 disc_param[0][0]                 \n",
      "__________________________________________________________________________________________________\n",
      "Sigmoid_func (Activation)       (None, 1)            0           disc_param_inter.[0][0]          \n",
      "__________________________________________________________________________________________________\n",
      "guess_param_inter. (Lambda)     (None, 1)            0           guessing_param[0][0]             \n",
      "__________________________________________________________________________________________________\n",
      "disc/guess_param_inter. (Multip (None, 1)            0           Sigmoid_func[0][0]               \n",
      "                                                                 guess_param_inter.[0][0]         \n",
      "__________________________________________________________________________________________________\n",
      "guess_param_inter/add (Add)     (None, 1)            0           guessing_param[0][0]             \n",
      "                                                                 disc/guess_param_inter.[0][0]    \n",
      "__________________________________________________________________________________________________\n",
      "prediction_layer (Dense)        (None, 1)            1           guess_param_inter/add[0][0]      \n",
      "==================================================================================================\n",
      "Total params: 110\n",
      "Trainable params: 109\n",
      "Non-trainable params: 1\n",
      "__________________________________________________________________________________________________\n"
     ]
    }
   ],
   "source": [
    "model3_sim.summary()"
   ]
  },
  {
   "cell_type": "code",
   "execution_count": 15,
   "metadata": {},
   "outputs": [
    {
     "name": "stdout",
     "output_type": "stream",
     "text": [
      "WARNING:tensorflow:From /home/kev/Desktop/pyvirtual2/lib/python3.6/site-packages/tensorflow/python/ops/math_ops.py:3066: to_int32 (from tensorflow.python.ops.math_ops) is deprecated and will be removed in a future version.\n",
      "Instructions for updating:\n",
      "Use tf.cast instead.\n"
     ]
    }
   ],
   "source": [
    "history= model3_sim.fit(x=[x_train_user,x_train_questions], y=y_train, batch_size=16, epochs=128, verbose=0, validation_split=0.2)"
   ]
  },
  {
   "cell_type": "markdown",
   "metadata": {},
   "source": [
    "* Train Vs. Validation loss curves for simulated dataset"
   ]
  },
  {
   "cell_type": "code",
   "execution_count": 17,
   "metadata": {},
   "outputs": [
    {
     "data": {
      "image/png": "[encoded data removed]",
      "text/plain": [
       "<Figure size 432x288 with 1 Axes>"
      ]
     },
     "metadata": {
      "needs_background": "light"
     },
     "output_type": "display_data"
    }
   ],
   "source": [
    "import matplotlib.pyplot as plt\n",
    "plt.plot(history.history['loss'])\n",
    "plt.plot(history.history['val_loss'])\n",
    "plt.title('Model loss for \"3 PL model\" with sim_data')\n",
    "plt.xlabel('epoch')\n",
    "plt.ylabel('loss')\n",
    "\n",
    "plt.legend(['train', 'validation'], loc= 'upper right')\n",
    "plt.show()"
   ]
  },
  {
   "cell_type": "markdown",
   "metadata": {},
   "source": [
    "### Obtaining underlying trained 3pl parameters from keras model"
   ]
  },
  {
   "cell_type": "code",
   "execution_count": 18,
   "metadata": {},
   "outputs": [
    {
     "name": "stdout",
     "output_type": "stream",
     "text": [
      "layer no: 2 is named: latent_trait\n",
      "layer no: 3 is named: difficulty_level\n",
      "layer no: 5 is named: disc_param\n",
      "layer no: 6 is named: guessing_param\n"
     ]
    }
   ],
   "source": [
    "for idx in [2,3,5,6]:\n",
    "    print('layer no: {} is named: {}'.format(idx, model3_sim.layers[idx].name))"
   ]
  },
  {
   "cell_type": "code",
   "execution_count": 19,
   "metadata": {},
   "outputs": [],
   "source": [
    "latent_trait_parameters = model3_sim.layers[2].get_weights()[0]#latent trait for 500 users\n",
    "difficulty_level_parameters= model3_sim.layers[3].get_weights()[0]#difficulty params for 3 Quests/item.\n",
    "discrimination_parameters= model3_sim.layers[5].get_weights()[0]#dicrimination params for 3 Quests/item.\n",
    "pseudo_guess_parameters = model3_sim.layers[6].get_weights()[0]#pseudo_guess_params for 3 Quests/item."
   ]
  },
  {
   "cell_type": "code",
   "execution_count": 20,
   "metadata": {
    "scrolled": true
   },
   "outputs": [
    {
     "data": {
      "text/plain": [
       "array([[ 0.24221405],\n",
       "       [ 0.73399734],\n",
       "       [-0.49118078]], dtype=float32)"
      ]
     },
     "execution_count": 20,
     "metadata": {},
     "output_type": "execute_result"
    }
   ],
   "source": [
    "difficulty_level_parameters"
   ]
  },
  {
   "cell_type": "code",
   "execution_count": 21,
   "metadata": {},
   "outputs": [
    {
     "data": {
      "text/plain": [
       "array([[ 1.066449  ],\n",
       "       [ 1.7406464 ],\n",
       "       [-0.13321339]], dtype=float32)"
      ]
     },
     "execution_count": 21,
     "metadata": {},
     "output_type": "execute_result"
    }
   ],
   "source": [
    "discrimination_parameters"
   ]
  },
  {
   "cell_type": "code",
   "execution_count": 22,
   "metadata": {},
   "outputs": [
    {
     "data": {
      "text/plain": [
       "array([[0.4714199 ],\n",
       "       [0.32722604],\n",
       "       [0.25353825]], dtype=float32)"
      ]
     },
     "execution_count": 22,
     "metadata": {},
     "output_type": "execute_result"
    }
   ],
   "source": [
    "pseudo_guess_parameters = np.exp(pseudo_guess_parameters)/(1+ np.exp(pseudo_guess_parameters))\n",
    "pseudo_guess_parameters#New after sigmoid(weights)"
   ]
  },
  {
   "cell_type": "markdown",
   "metadata": {},
   "source": [
    "### Loading R's 3PL model paramters from simulated dataset for comparison\n"
   ]
  },
  {
   "cell_type": "code",
   "execution_count": 23,
   "metadata": {},
   "outputs": [
    {
     "data": {
      "text/html": [
       "<div>\n",
       "<style scoped>\n",
       "    .dataframe tbody tr th:only-of-type {\n",
       "        vertical-align: middle;\n",
       "    }\n",
       "\n",
       "    .dataframe tbody tr th {\n",
       "        vertical-align: top;\n",
       "    }\n",
       "\n",
       "    .dataframe thead th {\n",
       "        text-align: right;\n",
       "    }\n",
       "</style>\n",
       "<table border=\"1\" class=\"dataframe\">\n",
       "  <thead>\n",
       "    <tr style=\"text-align: right;\">\n",
       "      <th></th>\n",
       "      <th>Unnamed: 0</th>\n",
       "      <th>Gussng</th>\n",
       "      <th>Dffclt</th>\n",
       "      <th>Dscrmn</th>\n",
       "    </tr>\n",
       "  </thead>\n",
       "  <tbody>\n",
       "    <tr>\n",
       "      <td>0</td>\n",
       "      <td>V1</td>\n",
       "      <td>0.048993</td>\n",
       "      <td>-0.539199</td>\n",
       "      <td>23.963986</td>\n",
       "    </tr>\n",
       "    <tr>\n",
       "      <td>1</td>\n",
       "      <td>V2</td>\n",
       "      <td>0.000008</td>\n",
       "      <td>0.044664</td>\n",
       "      <td>21.340652</td>\n",
       "    </tr>\n",
       "    <tr>\n",
       "      <td>2</td>\n",
       "      <td>V3</td>\n",
       "      <td>0.000003</td>\n",
       "      <td>0.695396</td>\n",
       "      <td>18.530009</td>\n",
       "    </tr>\n",
       "  </tbody>\n",
       "</table>\n",
       "</div>"
      ],
      "text/plain": [
       "  Unnamed: 0    Gussng    Dffclt     Dscrmn\n",
       "0         V1  0.048993 -0.539199  23.963986\n",
       "1         V2  0.000008  0.044664  21.340652\n",
       "2         V3  0.000003  0.695396  18.530009"
      ]
     },
     "execution_count": 23,
     "metadata": {},
     "output_type": "execute_result"
    }
   ],
   "source": [
    "coeff = pd.read_csv('simulated_data_r_coeffs.csv')\n",
    "coeff.head(3)"
   ]
  },
  {
   "cell_type": "code",
   "execution_count": 24,
   "metadata": {},
   "outputs": [
    {
     "data": {
      "text/plain": [
       "['Unnamed: 0', 'Gussng', 'Dffclt', 'Dscrmn']"
      ]
     },
     "execution_count": 24,
     "metadata": {},
     "output_type": "execute_result"
    }
   ],
   "source": [
    "r_params_cols =list(coeff.columns)\n",
    "r_params_cols#columns from R's dataframe"
   ]
  },
  {
   "cell_type": "markdown",
   "metadata": {},
   "source": [
    "### Table representation of param values from keras Vs. R"
   ]
  },
  {
   "cell_type": "code",
   "execution_count": 25,
   "metadata": {},
   "outputs": [],
   "source": [
    "rel_items= list(range(1, df_sim['questions'].nunique()+1))"
   ]
  },
  {
   "cell_type": "code",
   "execution_count": 26,
   "metadata": {},
   "outputs": [
    {
     "data": {
      "text/html": [
       "<div>\n",
       "<style scoped>\n",
       "    .dataframe tbody tr th:only-of-type {\n",
       "        vertical-align: middle;\n",
       "    }\n",
       "\n",
       "    .dataframe tbody tr th {\n",
       "        vertical-align: top;\n",
       "    }\n",
       "\n",
       "    .dataframe thead th {\n",
       "        text-align: right;\n",
       "    }\n",
       "</style>\n",
       "<table border=\"1\" class=\"dataframe\">\n",
       "  <thead>\n",
       "    <tr style=\"text-align: right;\">\n",
       "      <th></th>\n",
       "      <th>Questions</th>\n",
       "      <th>Difficulty-keras</th>\n",
       "      <th>Difficulty-R</th>\n",
       "      <th>Discrimination-keras</th>\n",
       "      <th>Discrimination-R</th>\n",
       "      <th>Guess-keras</th>\n",
       "      <th>Guess-R</th>\n",
       "    </tr>\n",
       "  </thead>\n",
       "  <tbody>\n",
       "    <tr>\n",
       "      <td>0</td>\n",
       "      <td>1</td>\n",
       "      <td>0.242214</td>\n",
       "      <td>-0.539199</td>\n",
       "      <td>1.066449</td>\n",
       "      <td>23.963986</td>\n",
       "      <td>0.471420</td>\n",
       "      <td>-0.539199</td>\n",
       "    </tr>\n",
       "    <tr>\n",
       "      <td>1</td>\n",
       "      <td>2</td>\n",
       "      <td>0.733997</td>\n",
       "      <td>0.044664</td>\n",
       "      <td>1.740646</td>\n",
       "      <td>21.340652</td>\n",
       "      <td>0.327226</td>\n",
       "      <td>0.044664</td>\n",
       "    </tr>\n",
       "    <tr>\n",
       "      <td>2</td>\n",
       "      <td>3</td>\n",
       "      <td>-0.491181</td>\n",
       "      <td>0.695396</td>\n",
       "      <td>-0.133213</td>\n",
       "      <td>18.530009</td>\n",
       "      <td>0.253538</td>\n",
       "      <td>0.695396</td>\n",
       "    </tr>\n",
       "  </tbody>\n",
       "</table>\n",
       "</div>"
      ],
      "text/plain": [
       "   Questions  Difficulty-keras  Difficulty-R  Discrimination-keras  \\\n",
       "0          1          0.242214     -0.539199              1.066449   \n",
       "1          2          0.733997      0.044664              1.740646   \n",
       "2          3         -0.491181      0.695396             -0.133213   \n",
       "\n",
       "   Discrimination-R  Guess-keras   Guess-R  \n",
       "0         23.963986     0.471420 -0.539199  \n",
       "1         21.340652     0.327226  0.044664  \n",
       "2         18.530009     0.253538  0.695396  "
      ]
     },
     "execution_count": 26,
     "metadata": {},
     "output_type": "execute_result"
    }
   ],
   "source": [
    "df_table= pd.DataFrame({'Questions': rel_items, 'Difficulty-keras': difficulty_level_parameters.reshape(-1),\n",
    " 'Difficulty-R':coeff[r_params_cols[2]].values, 'Discrimination-keras':discrimination_parameters.reshape(-1),\n",
    " 'Discrimination-R':coeff[r_params_cols[-1]].values, 'Guess-keras':pseudo_guess_parameters.reshape(-1),\n",
    " 'Guess-R':coeff[r_params_cols[2]].values})\n",
    "df_table.head(5)"
   ]
  },
  {
   "cell_type": "code",
   "execution_count": 27,
   "metadata": {},
   "outputs": [
    {
     "data": {
      "text/plain": [
       "0   -0.539199\n",
       "1    0.044664\n",
       "2    0.695396\n",
       "Name: Dffclt, dtype: float64"
      ]
     },
     "execution_count": 27,
     "metadata": {},
     "output_type": "execute_result"
    }
   ],
   "source": [
    "normalized_diff_r=coeff[r_params_cols[2]]#/coeff[r_params_cols[2]].sum()\n",
    "normalized_diff_r#new difficulty vals from R"
   ]
  },
  {
   "cell_type": "markdown",
   "metadata": {},
   "source": [
    "## Scatterplots"
   ]
  },
  {
   "cell_type": "markdown",
   "metadata": {},
   "source": [
    "### 1. Difficulty vals from keras_3pl vs. R_3pl\n",
    "\n",
    "* R_tpm values are plotted across X\n",
    "* Keras values are plotted across Y"
   ]
  },
  {
   "cell_type": "code",
   "execution_count": 28,
   "metadata": {},
   "outputs": [
    {
     "data": {
      "image/png": "[encoded data removed]",
      "text/plain": [
       "<Figure size 432x288 with 1 Axes>"
      ]
     },
     "metadata": {
      "needs_background": "light"
     },
     "output_type": "display_data"
    }
   ],
   "source": [
    "fig = plt.figure()\n",
    "ax = fig.add_subplot(1, 1, 1)\n",
    "y,x = (difficulty_level_parameters.reshape(-1), normalized_diff_r.values)\n",
    "\n",
    "ax.scatter(x, y, alpha=0.8, c=\"red\", edgecolors='none', s=30, label=\"difficulty level R Vs. keras\")\n",
    "plt.title('difficulty params from R_3pl Vs. keras_3pl')\n",
    "plt.ylabel('keras_3pl: Difficulty')\n",
    "plt.xlabel('R_tpm: Difficulty')\n",
    "plt.legend(loc=1)\n",
    "\n",
    "plt.show()"
   ]
  },
  {
   "cell_type": "markdown",
   "metadata": {},
   "source": [
    "### 2. Discrimination vals from keras_3pl vs. R_3pl\n",
    "\n",
    "* R_tpm values are plotted across X\n",
    "* Keras values are plotted across Y"
   ]
  },
  {
   "cell_type": "code",
   "execution_count": 29,
   "metadata": {},
   "outputs": [
    {
     "data": {
      "image/png": "[encoded data removed]",
      "text/plain": [
       "<Figure size 432x288 with 1 Axes>"
      ]
     },
     "metadata": {
      "needs_background": "light"
     },
     "output_type": "display_data"
    }
   ],
   "source": [
    "fig = plt.figure()\n",
    "ax = fig.add_subplot(1, 1, 1)\n",
    "y,x = (discrimination_parameters, coeff[r_params_cols[-1]].values)\n",
    "\n",
    "ax.scatter(x, y, alpha=0.8, c=\"red\", edgecolors='none', s=30, label=\"discrimination R Vs. keras\")\n",
    "plt.title('discrimination parameters from R_3pl Vs. keras_3pl')\n",
    "plt.ylabel('keras_3pl: discrimination')\n",
    "plt.xlabel('R_tpm: discrimination')\n",
    "\n",
    "plt.legend(loc=1)\n",
    "plt.show()"
   ]
  },
  {
   "cell_type": "markdown",
   "metadata": {},
   "source": [
    "### 3. Guessing param values from keras_3pl vs. R_3pl\n",
    "\n",
    "* R_tpm values are plotted across X\n",
    "* Keras values are plotted across Y\n"
   ]
  },
  {
   "cell_type": "code",
   "execution_count": 30,
   "metadata": {},
   "outputs": [
    {
     "data": {
      "image/png": "[encoded data removed]",
      "text/plain": [
       "<Figure size 432x288 with 1 Axes>"
      ]
     },
     "metadata": {
      "needs_background": "light"
     },
     "output_type": "display_data"
    }
   ],
   "source": [
    "fig = plt.figure()\n",
    "ax = fig.add_subplot(1, 1, 1)\n",
    "y,x = (pseudo_guess_parameters, coeff[r_params_cols[1]].values)\n",
    "\n",
    "ax.scatter(x, y, alpha=0.8, c=\"red\", edgecolors='none', s=30, label=\"guessing R Vs. keras\")\n",
    "plt.title('guessing parameters from R_3pl Vs. keras_3pl')\n",
    "plt.ylabel('keras_3pl: guessing')\n",
    "plt.xlabel('R_tpm: guessing')\n",
    "\n",
    "plt.legend(loc=1)\n",
    "plt.show()"
   ]
  },
  {
   "cell_type": "markdown",
   "metadata": {},
   "source": [
    "## Item characteristic curves for all 3 items from simulated dataset with R tpm"
   ]
  },
  {
   "cell_type": "code",
   "execution_count": 31,
   "metadata": {},
   "outputs": [],
   "source": [
    "def logit_func(lat_values):#c:guess, a:descrimination, b:difficulty\n",
    "    prob = list()\n",
    "    prob.append(c+ (1-c)*(np.exp(a*(lat_values-b))/(1+np.exp(a*(lat_values-b)))))#Vectorised implementation\n",
    "    #for val in lat_values:\n",
    "    #    prob.append(c+ (1-c)*(np.exp(a*(val-b))/(1+np.exp(a*(val-b)))))\n",
    "    return prob"
   ]
  },
  {
   "cell_type": "code",
   "execution_count": 32,
   "metadata": {},
   "outputs": [],
   "source": [
    "x = np.linspace(-4,4, num=num_sim_users)#value count for x axis"
   ]
  },
  {
   "cell_type": "code",
   "execution_count": 33,
   "metadata": {},
   "outputs": [
    {
     "data": {
      "image/png": "[encoded data removed]",
      "text/plain": [
       "<Figure size 432x288 with 1 Axes>"
      ]
     },
     "metadata": {
      "needs_background": "light"
     },
     "output_type": "display_data"
    }
   ],
   "source": [
    "for i in range(coeff.shape[0]):\n",
    "    c= coeff[r_params_cols[1]].iloc[i]#values of item 6 from R's dataframe\n",
    "    a= coeff[r_params_cols[-1]].iloc[i]\n",
    "    b= coeff[r_params_cols[2]].iloc[i]\n",
    "    vals_r= logit_func(x)\n",
    "    plt.plot(x,vals_r[0], 'r')\n",
    "\n",
    "plt.title('ICC for each of 10 items from R_3pl')\n",
    "plt.xlabel('x: latent_trait_vals')\n",
    "plt.ylabel('y: P(i=1|x)')\n",
    "plt.show()"
   ]
  },
  {
   "cell_type": "markdown",
   "metadata": {},
   "source": [
    "## Item characteristic curves for all items from simulated dataset with keras 3PL"
   ]
  },
  {
   "cell_type": "code",
   "execution_count": 34,
   "metadata": {},
   "outputs": [
    {
     "data": {
      "image/png": "[encoded data removed]",
      "text/plain": [
       "<Figure size 432x288 with 1 Axes>"
      ]
     },
     "metadata": {
      "needs_background": "light"
     },
     "output_type": "display_data"
    }
   ],
   "source": [
    "for i in range(len(rel_items)):#10 items\n",
    "    c= pseudo_guess_parameters[i]#values for item 6 from keras 3pl params\n",
    "    a= discrimination_parameters[i]\n",
    "    b= difficulty_level_parameters[i]\n",
    "    vals_keras= logit_func(x)\n",
    "    plt.plot(x,vals_keras[0], 'b')\n",
    "\n",
    "plt.title('ICC for each of 10 items from keras_3pl')\n",
    "plt.xlabel('x: latent_trait_vals')\n",
    "plt.ylabel('y: P(i=1|x)')\n",
    "plt.show()#for mean=0 stdDev=1"
   ]
  },
  {
   "cell_type": "markdown",
   "metadata": {},
   "source": [
    "_____________________"
   ]
  }
 ],
 "metadata": {
  "kernelspec": {
   "display_name": "Python 3",
   "language": "python",
   "name": "python3"
  },
  "language_info": {
   "codemirror_mode": {
    "name": "ipython",
    "version": 3
   },
   "file_extension": ".py",
   "mimetype": "text/x-python",
   "name": "python",
   "nbconvert_exporter": "python",
   "pygments_lexer": "ipython3",
   "version": "3.6.8"
  }
 },
 "nbformat": 4,
 "nbformat_minor": 2
}
