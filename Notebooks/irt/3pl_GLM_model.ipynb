{
 "cells": [
  {
   "cell_type": "markdown",
   "metadata": {},
   "source": [
    "## 1. Simulating dataset"
   ]
  },
  {
   "cell_type": "markdown",
   "metadata": {},
   "source": [
    "**Dataset is generated and evaluated via two schemes:**\n",
    "1. A set of 100 users - 3 questions initially with defined values of difficulty, discrimination & guess to calculate 100 P(i,j) values & later extended by 10 bernouli trials for each user-item pair corresponding  to a prob. value of success(response).\n",
    "2. likewise, a set of 100 users-100 questions with defined values of difficulty, discrimination & guess to calculate 100 P(i,j) values. [No Bernoulli trails]"
   ]
  },
  {
   "cell_type": "markdown",
   "metadata": {},
   "source": [
    "* **In following:**\n",
    "\n",
    "    **a.) tpm functions: outputs 3PL likelihood values of responding to all 3 items by particular user.**\n",
    "    \n",
    "    **b.) sim_data: outputs list of tuples containing values in format (user, question/item, response).**"
   ]
  },
  {
   "cell_type": "code",
   "execution_count": 1,
   "metadata": {},
   "outputs": [],
   "source": [
    "def tpm(diff, latent, guess, disc):\n",
    "    #guess= np.random.normal(0, 1, size=len(diff))#for all n items\n",
    "    #disc=np.random.normal(0, 1, size=len(diff))#for all n items    \n",
    "    prob_per_user = list()\n",
    "    \n",
    "    for i, j, k in list(zip(guess, disc, diff)):\n",
    "        prob_per_user.append(i+ (1- i)*(np.exp(j*(latent-k))/(1+np.exp(j*(latent-k)))))\n",
    "        \n",
    "    return prob_per_user"
   ]
  },
  {
   "cell_type": "code",
   "execution_count": 2,
   "metadata": {},
   "outputs": [],
   "source": [
    "def sim_data(l_trait, num_items):\n",
    "    difficulty= np.linspace(-0.5, 0.5, num=num_items)#for all n items #np.random.normal--?\n",
    "    guess_vals= np.linspace(0, 1, num= num_items)#for all n items #np.random.normal--?\n",
    "    disc_vals=np.linspace(0, 1, num= num_items)#for all n items #np.random.normal--?\n",
    "    \n",
    "    items= list(range(num_items))#for all n items\n",
    "    data_li= list()\n",
    "    for idx, val in enumerate(l_trait):\n",
    "        data_li= data_li+ list(zip([idx]*num_items, items,\n",
    "                                   tpm(diff= difficulty, latent= val, guess=guess_vals, disc=disc_vals)))\n",
    "    \n",
    "    return data_li, difficulty, disc_vals, guess_vals "
   ]
  },
  {
   "cell_type": "markdown",
   "metadata": {},
   "source": [
    "### 1.1 Dataset scheme 1\n",
    "\n",
    "* **Obtaining 100 values corresponding to latent abilties of 100 users from a random normal distribution**"
   ]
  },
  {
   "cell_type": "code",
   "execution_count": 3,
   "metadata": {
    "scrolled": true
   },
   "outputs": [
    {
     "name": "stdout",
     "output_type": "stream",
     "text": [
      "# of sim user: 100 \n",
      "# of sim items: 3\n"
     ]
    }
   ],
   "source": [
    "import pandas as pd\n",
    "import numpy as np\n",
    "#from numpy.random import seed\n",
    "#seed(1)\n",
    "\n",
    "ltrait_new = np.linspace(-4,4, num=100)#np.random.normal(0, 1, size=100)\n",
    "num_sim_users = ltrait_new.shape[0]\n",
    "num_sim_items = 3\n",
    "print('# of sim user:',num_sim_users,'\\n# of sim items:',num_sim_items)"
   ]
  },
  {
   "cell_type": "markdown",
   "metadata": {},
   "source": [
    "* **Obatining probabilty values for 100 users corresponding to each of 3 questions.**"
   ]
  },
  {
   "cell_type": "code",
   "execution_count": 4,
   "metadata": {
    "scrolled": false
   },
   "outputs": [
    {
     "data": {
      "text/html": [
       "<div>\n",
       "<style scoped>\n",
       "    .dataframe tbody tr th:only-of-type {\n",
       "        vertical-align: middle;\n",
       "    }\n",
       "\n",
       "    .dataframe tbody tr th {\n",
       "        vertical-align: top;\n",
       "    }\n",
       "\n",
       "    .dataframe thead th {\n",
       "        text-align: right;\n",
       "    }\n",
       "</style>\n",
       "<table border=\"1\" class=\"dataframe\">\n",
       "  <thead>\n",
       "    <tr style=\"text-align: right;\">\n",
       "      <th></th>\n",
       "      <th>user</th>\n",
       "      <th>questions</th>\n",
       "      <th>response</th>\n",
       "    </tr>\n",
       "  </thead>\n",
       "  <tbody>\n",
       "    <tr>\n",
       "      <td>0</td>\n",
       "      <td>0</td>\n",
       "      <td>0</td>\n",
       "      <td>0.500000</td>\n",
       "    </tr>\n",
       "    <tr>\n",
       "      <td>1</td>\n",
       "      <td>0</td>\n",
       "      <td>1</td>\n",
       "      <td>0.559601</td>\n",
       "    </tr>\n",
       "    <tr>\n",
       "      <td>2</td>\n",
       "      <td>0</td>\n",
       "      <td>2</td>\n",
       "      <td>1.000000</td>\n",
       "    </tr>\n",
       "    <tr>\n",
       "      <td>3</td>\n",
       "      <td>1</td>\n",
       "      <td>0</td>\n",
       "      <td>0.500000</td>\n",
       "    </tr>\n",
       "    <tr>\n",
       "      <td>4</td>\n",
       "      <td>1</td>\n",
       "      <td>1</td>\n",
       "      <td>0.561755</td>\n",
       "    </tr>\n",
       "  </tbody>\n",
       "</table>\n",
       "</div>"
      ],
      "text/plain": [
       "   user  questions  response\n",
       "0     0          0  0.500000\n",
       "1     0          1  0.559601\n",
       "2     0          2  1.000000\n",
       "3     1          0  0.500000\n",
       "4     1          1  0.561755"
      ]
     },
     "execution_count": 4,
     "metadata": {},
     "output_type": "execute_result"
    }
   ],
   "source": [
    "df_cols = ['user','questions', 'response']#final dataframe cols\n",
    "#difficulty= [-0.5,0,0.5]\n",
    "\n",
    "data_list, t_diff, t_disc, t_guess = sim_data(ltrait_new, num_items= num_sim_items)#for 3 items\n",
    "df_sim = pd.DataFrame(data_list, columns=df_cols)\n",
    "#df_sim = df_sim.loc[np.random.randint(0,df_sim.shape[0]-1, size=df_sim.shape[0])]#shuffling data\n",
    "df_sim.head(5)"
   ]
  },
  {
   "cell_type": "markdown",
   "metadata": {},
   "source": [
    "### 1.2 Dataset scheme 2\n",
    "\n",
    "\n",
    "* **Obtaining 100 values corresponding to latent abilties of 100 users from a random normal distribution**"
   ]
  },
  {
   "cell_type": "code",
   "execution_count": 5,
   "metadata": {},
   "outputs": [
    {
     "name": "stdout",
     "output_type": "stream",
     "text": [
      "# of sim user: 100 \n",
      "# of sim items for scheme 2: 100\n"
     ]
    }
   ],
   "source": [
    "ltrait_new = np.random.normal(0, 1, size=100)\n",
    "num_sim_users = ltrait_new.shape[0]\n",
    "num_sim_items_s2 = 100\n",
    "print('# of sim user:',num_sim_users,'\\n# of sim items for scheme 2:',num_sim_items_s2)"
   ]
  },
  {
   "cell_type": "markdown",
   "metadata": {},
   "source": [
    "* **Obatining probabilty values for 100 users corresponding to each of 100 questions.**"
   ]
  },
  {
   "cell_type": "code",
   "execution_count": 6,
   "metadata": {},
   "outputs": [
    {
     "name": "stdout",
     "output_type": "stream",
     "text": [
      "shape of new dataframe from scheme 2: (10000, 3)\n"
     ]
    }
   ],
   "source": [
    "data_list_s2, t_diff_s2, t_disc_s2, t_guess_s2  = sim_data(ltrait_new, num_items= num_sim_items_s2)#for 3 items\n",
    "df_sim_s2 = pd.DataFrame(data_list_s2, columns=df_cols)\n",
    "#df_sim = df_sim.loc[np.random.randint(0,df_sim.shape[0]-1, size=df_sim.shape[0])]#shuffling data\n",
    "\n",
    "df_sim_s2['response']=df_sim_s2['response'].apply(lambda x: int(np.round(x)))\n",
    "\n",
    "print('shape of new dataframe from scheme 2:', df_sim_s2.shape)"
   ]
  },
  {
   "cell_type": "markdown",
   "metadata": {},
   "source": [
    "### **Saving the dataset as CSV for later use with keras:"
   ]
  },
  {
   "cell_type": "code",
   "execution_count": 7,
   "metadata": {},
   "outputs": [],
   "source": [
    "#df_sim.to_csv('simulated_data_c_probs.csv', index=False)\n",
    "##df_sim_s2.to_csv('simulated_data.csv', index=False)#scheme 2"
   ]
  },
  {
   "cell_type": "markdown",
   "metadata": {},
   "source": [
    "### ** Saving the dataset in format of R\n",
    "* Following dataset will be used to obtain coefficients from R tpm\n",
    "* table array represent users along rows & questions/items across columns in progression and contain a response value at particular index say (i,j)."
   ]
  },
  {
   "cell_type": "code",
   "execution_count": 8,
   "metadata": {},
   "outputs": [
    {
     "data": {
      "text/html": [
       "<div>\n",
       "<style scoped>\n",
       "    .dataframe tbody tr th:only-of-type {\n",
       "        vertical-align: middle;\n",
       "    }\n",
       "\n",
       "    .dataframe tbody tr th {\n",
       "        vertical-align: top;\n",
       "    }\n",
       "\n",
       "    .dataframe thead th {\n",
       "        text-align: right;\n",
       "    }\n",
       "</style>\n",
       "<table border=\"1\" class=\"dataframe\">\n",
       "  <thead>\n",
       "    <tr style=\"text-align: right;\">\n",
       "      <th></th>\n",
       "      <th>0</th>\n",
       "      <th>1</th>\n",
       "      <th>2</th>\n",
       "    </tr>\n",
       "  </thead>\n",
       "  <tbody>\n",
       "    <tr>\n",
       "      <td>0</td>\n",
       "      <td>0</td>\n",
       "      <td>1</td>\n",
       "      <td>1</td>\n",
       "    </tr>\n",
       "    <tr>\n",
       "      <td>1</td>\n",
       "      <td>0</td>\n",
       "      <td>1</td>\n",
       "      <td>1</td>\n",
       "    </tr>\n",
       "    <tr>\n",
       "      <td>2</td>\n",
       "      <td>0</td>\n",
       "      <td>1</td>\n",
       "      <td>1</td>\n",
       "    </tr>\n",
       "  </tbody>\n",
       "</table>\n",
       "</div>"
      ],
      "text/plain": [
       "   0  1  2\n",
       "0  0  1  1\n",
       "1  0  1  1\n",
       "2  0  1  1"
      ]
     },
     "execution_count": 8,
     "metadata": {},
     "output_type": "execute_result"
    }
   ],
   "source": [
    "table_arr= np.zeros((num_sim_users,num_sim_items), dtype=int)# num_sim_items for scheme 2\n",
    "\n",
    "for user, item, resp in data_list:\n",
    "    table_arr[user,item]= np.round(resp)\n",
    "\n",
    "df_Rtable = pd.DataFrame(table_arr)\n",
    "df_Rtable.head(3)"
   ]
  },
  {
   "cell_type": "code",
   "execution_count": 9,
   "metadata": {},
   "outputs": [
    {
     "data": {
      "text/html": [
       "<div>\n",
       "<style scoped>\n",
       "    .dataframe tbody tr th:only-of-type {\n",
       "        vertical-align: middle;\n",
       "    }\n",
       "\n",
       "    .dataframe tbody tr th {\n",
       "        vertical-align: top;\n",
       "    }\n",
       "\n",
       "    .dataframe thead th {\n",
       "        text-align: right;\n",
       "    }\n",
       "</style>\n",
       "<table border=\"1\" class=\"dataframe\">\n",
       "  <thead>\n",
       "    <tr style=\"text-align: right;\">\n",
       "      <th></th>\n",
       "      <th>0</th>\n",
       "      <th>1</th>\n",
       "      <th>2</th>\n",
       "      <th>3</th>\n",
       "      <th>4</th>\n",
       "      <th>5</th>\n",
       "      <th>6</th>\n",
       "      <th>7</th>\n",
       "      <th>8</th>\n",
       "      <th>9</th>\n",
       "      <th>...</th>\n",
       "      <th>90</th>\n",
       "      <th>91</th>\n",
       "      <th>92</th>\n",
       "      <th>93</th>\n",
       "      <th>94</th>\n",
       "      <th>95</th>\n",
       "      <th>96</th>\n",
       "      <th>97</th>\n",
       "      <th>98</th>\n",
       "      <th>99</th>\n",
       "    </tr>\n",
       "  </thead>\n",
       "  <tbody>\n",
       "    <tr>\n",
       "      <td>0</td>\n",
       "      <td>0</td>\n",
       "      <td>1</td>\n",
       "      <td>1</td>\n",
       "      <td>1</td>\n",
       "      <td>1</td>\n",
       "      <td>1</td>\n",
       "      <td>1</td>\n",
       "      <td>1</td>\n",
       "      <td>1</td>\n",
       "      <td>1</td>\n",
       "      <td>...</td>\n",
       "      <td>1</td>\n",
       "      <td>1</td>\n",
       "      <td>1</td>\n",
       "      <td>1</td>\n",
       "      <td>1</td>\n",
       "      <td>1</td>\n",
       "      <td>1</td>\n",
       "      <td>1</td>\n",
       "      <td>1</td>\n",
       "      <td>1</td>\n",
       "    </tr>\n",
       "    <tr>\n",
       "      <td>1</td>\n",
       "      <td>0</td>\n",
       "      <td>1</td>\n",
       "      <td>1</td>\n",
       "      <td>1</td>\n",
       "      <td>1</td>\n",
       "      <td>1</td>\n",
       "      <td>1</td>\n",
       "      <td>1</td>\n",
       "      <td>1</td>\n",
       "      <td>1</td>\n",
       "      <td>...</td>\n",
       "      <td>1</td>\n",
       "      <td>1</td>\n",
       "      <td>1</td>\n",
       "      <td>1</td>\n",
       "      <td>1</td>\n",
       "      <td>1</td>\n",
       "      <td>1</td>\n",
       "      <td>1</td>\n",
       "      <td>1</td>\n",
       "      <td>1</td>\n",
       "    </tr>\n",
       "    <tr>\n",
       "      <td>2</td>\n",
       "      <td>0</td>\n",
       "      <td>1</td>\n",
       "      <td>1</td>\n",
       "      <td>1</td>\n",
       "      <td>1</td>\n",
       "      <td>1</td>\n",
       "      <td>1</td>\n",
       "      <td>1</td>\n",
       "      <td>1</td>\n",
       "      <td>1</td>\n",
       "      <td>...</td>\n",
       "      <td>1</td>\n",
       "      <td>1</td>\n",
       "      <td>1</td>\n",
       "      <td>1</td>\n",
       "      <td>1</td>\n",
       "      <td>1</td>\n",
       "      <td>1</td>\n",
       "      <td>1</td>\n",
       "      <td>1</td>\n",
       "      <td>1</td>\n",
       "    </tr>\n",
       "  </tbody>\n",
       "</table>\n",
       "<p>3 rows × 100 columns</p>\n",
       "</div>"
      ],
      "text/plain": [
       "   0   1   2   3   4   5   6   7   8   9   ...  90  91  92  93  94  95  96  \\\n",
       "0   0   1   1   1   1   1   1   1   1   1  ...   1   1   1   1   1   1   1   \n",
       "1   0   1   1   1   1   1   1   1   1   1  ...   1   1   1   1   1   1   1   \n",
       "2   0   1   1   1   1   1   1   1   1   1  ...   1   1   1   1   1   1   1   \n",
       "\n",
       "   97  98  99  \n",
       "0   1   1   1  \n",
       "1   1   1   1  \n",
       "2   1   1   1  \n",
       "\n",
       "[3 rows x 100 columns]"
      ]
     },
     "execution_count": 9,
     "metadata": {},
     "output_type": "execute_result"
    }
   ],
   "source": [
    "#R table for scheme 2\n",
    "table_arr_s2= np.zeros((num_sim_users, num_sim_items_s2), dtype=int)\n",
    "\n",
    "for user, item, resp in data_list_s2:\n",
    "    table_arr_s2[user,item]= np.round(resp)\n",
    "\n",
    "df_Rtable_s2 = pd.DataFrame(table_arr_s2)\n",
    "df_Rtable_s2.head(3)"
   ]
  },
  {
   "cell_type": "code",
   "execution_count": 10,
   "metadata": {},
   "outputs": [],
   "source": [
    "#df_Rtable.to_csv('simulated_data.dat', sep=' ', index=False, header= None)#Saves a .dat file in pwd\n",
    "#df_Rtable_s2.to_csv('simulated_data.dat', sep=' ', index=False, header= None)#Saves a .dat file in pwd"
   ]
  },
  {
   "cell_type": "markdown",
   "metadata": {},
   "source": [
    "#### Building onto dataframe output from scheme 1, now following  function appends/extends new records to existing dataset using 'n' bernouli trials."
   ]
  },
  {
   "cell_type": "code",
   "execution_count": 11,
   "metadata": {},
   "outputs": [],
   "source": [
    "def add_data(array, trials_per_user):\n",
    "    array_li= array.tolist()#list of tuples\n",
    "    dock_list=list()#holds tuples generated from trials\n",
    "    for u, i, prob in array_li:\n",
    "        success_failure_arr = np.random.binomial(1, prob, trials_per_user)\n",
    "        \n",
    "        for resp in success_failure_arr:\n",
    "            dock_list.append([u,i, resp])\n",
    "        \n",
    "    array_li+=dock_list\n",
    "    return np.array(array_li)"
   ]
  },
  {
   "cell_type": "code",
   "execution_count": 12,
   "metadata": {},
   "outputs": [
    {
     "name": "stdout",
     "output_type": "stream",
     "text": [
      "Extended df size: (3300, 3)\n"
     ]
    }
   ],
   "source": [
    "c_probs= pd.read_csv('simulated_data_c_probs.csv')\n",
    "df_mat = add_data(c_probs.values, trials_per_user=10)\n",
    "df_sim = pd.DataFrame(df_mat, columns=df_cols)\n",
    "print('Extended df size:', df_sim.shape)"
   ]
  },
  {
   "cell_type": "code",
   "execution_count": 13,
   "metadata": {
    "scrolled": false
   },
   "outputs": [
    {
     "data": {
      "text/html": [
       "<div>\n",
       "<style scoped>\n",
       "    .dataframe tbody tr th:only-of-type {\n",
       "        vertical-align: middle;\n",
       "    }\n",
       "\n",
       "    .dataframe tbody tr th {\n",
       "        vertical-align: top;\n",
       "    }\n",
       "\n",
       "    .dataframe thead th {\n",
       "        text-align: right;\n",
       "    }\n",
       "</style>\n",
       "<table border=\"1\" class=\"dataframe\">\n",
       "  <thead>\n",
       "    <tr style=\"text-align: right;\">\n",
       "      <th></th>\n",
       "      <th>user</th>\n",
       "      <th>questions</th>\n",
       "      <th>response</th>\n",
       "    </tr>\n",
       "  </thead>\n",
       "  <tbody>\n",
       "    <tr>\n",
       "      <td>0</td>\n",
       "      <td>92.0</td>\n",
       "      <td>0.0</td>\n",
       "      <td>1</td>\n",
       "    </tr>\n",
       "    <tr>\n",
       "      <td>1</td>\n",
       "      <td>86.0</td>\n",
       "      <td>2.0</td>\n",
       "      <td>1</td>\n",
       "    </tr>\n",
       "    <tr>\n",
       "      <td>2</td>\n",
       "      <td>57.0</td>\n",
       "      <td>1.0</td>\n",
       "      <td>1</td>\n",
       "    </tr>\n",
       "  </tbody>\n",
       "</table>\n",
       "</div>"
      ],
      "text/plain": [
       "   user  questions  response\n",
       "0  92.0        0.0         1\n",
       "1  86.0        2.0         1\n",
       "2  57.0        1.0         1"
      ]
     },
     "execution_count": 13,
     "metadata": {},
     "output_type": "execute_result"
    }
   ],
   "source": [
    "df_sim['response']=df_sim['response'].apply(lambda x: int(np.round(x)))\n",
    "df_sim.head(3)"
   ]
  },
  {
   "cell_type": "markdown",
   "metadata": {},
   "source": [
    "## 2. Defining a GLM class for two parameterization schemes for 3PL keras models which are as:\n",
    "**Scheme 1.** `P{i=1,j} = c_j+ (1- c_j)*Sigmoid[a_j*(t_i - b_j)]`\n",
    "        * P(i,j) = Prob of i-th student, correctly scoring on j-th\n",
    "          item.\n",
    "        * t_i= Degree of latent trait of i-th student\n",
    "        * b_j= difficulty_level of j-th question\n",
    "        * a_j= discrimination parameter of j-th question\n",
    "        * c_j= pseudo guessing parameter of j-th question\n",
    "    \n",
    "**Scheme 2.** `P{i=1,j} = c_j+ (1- c_j)*Sigmoid[alpha_j + lamda_j*t_i]`\n",
    "        * P(i,j) = Prob of i-th student, correctly scoring on j-th\n",
    "          item.\n",
    "        * t_i= Degree of latent trait of i-th student\n",
    "        * b_j= difficulty_level of j-th question\n",
    "        * `lamda_j / a_j`= discrimination parameter of j-th question\n",
    "        * alpha_j= -lam_j*b_j.\n",
    "        * c_j = pseudo guessing parameter of j-th question\n",
    "\n",
    "        \n",
    "\n"
   ]
  },
  {
   "cell_type": "code",
   "execution_count": 14,
   "metadata": {},
   "outputs": [
    {
     "name": "stderr",
     "output_type": "stream",
     "text": [
      "Using TensorFlow backend.\n",
      "/home/kev/Desktop/pyvirtual2/lib/python3.6/site-packages/tensorflow/python/framework/dtypes.py:526: FutureWarning: Passing (type, 1) or '1type' as a synonym of type is deprecated; in a future version of numpy, it will be understood as (type, (1,)) / '(1,)type'.\n",
      "  _np_qint8 = np.dtype([(\"qint8\", np.int8, 1)])\n",
      "/home/kev/Desktop/pyvirtual2/lib/python3.6/site-packages/tensorflow/python/framework/dtypes.py:527: FutureWarning: Passing (type, 1) or '1type' as a synonym of type is deprecated; in a future version of numpy, it will be understood as (type, (1,)) / '(1,)type'.\n",
      "  _np_quint8 = np.dtype([(\"quint8\", np.uint8, 1)])\n",
      "/home/kev/Desktop/pyvirtual2/lib/python3.6/site-packages/tensorflow/python/framework/dtypes.py:528: FutureWarning: Passing (type, 1) or '1type' as a synonym of type is deprecated; in a future version of numpy, it will be understood as (type, (1,)) / '(1,)type'.\n",
      "  _np_qint16 = np.dtype([(\"qint16\", np.int16, 1)])\n",
      "/home/kev/Desktop/pyvirtual2/lib/python3.6/site-packages/tensorflow/python/framework/dtypes.py:529: FutureWarning: Passing (type, 1) or '1type' as a synonym of type is deprecated; in a future version of numpy, it will be understood as (type, (1,)) / '(1,)type'.\n",
      "  _np_quint16 = np.dtype([(\"quint16\", np.uint16, 1)])\n",
      "/home/kev/Desktop/pyvirtual2/lib/python3.6/site-packages/tensorflow/python/framework/dtypes.py:530: FutureWarning: Passing (type, 1) or '1type' as a synonym of type is deprecated; in a future version of numpy, it will be understood as (type, (1,)) / '(1,)type'.\n",
      "  _np_qint32 = np.dtype([(\"qint32\", np.int32, 1)])\n",
      "/home/kev/Desktop/pyvirtual2/lib/python3.6/site-packages/tensorflow/python/framework/dtypes.py:535: FutureWarning: Passing (type, 1) or '1type' as a synonym of type is deprecated; in a future version of numpy, it will be understood as (type, (1,)) / '(1,)type'.\n",
      "  np_resource = np.dtype([(\"resource\", np.ubyte, 1)])\n"
     ]
    }
   ],
   "source": [
    "import time\n",
    "import keras\n",
    "from keras.models import Model\n",
    "from keras.layers import Input, Dense, Activation\n",
    "from keras import metrics\n",
    "from keras.utils import to_categorical\n",
    "from keras import backend as K\n",
    "from keras.layers import Lambda\n",
    "from keras import regularizers\n",
    "from keras import initializers\n",
    "from keras.layers import Activation\n",
    "from keras import constraints\n",
    "import matplotlib.pyplot as plt"
   ]
  },
  {
   "cell_type": "code",
   "execution_count": 15,
   "metadata": {},
   "outputs": [],
   "source": [
    "class KerasTpm:\n",
    "    def __init__(self, param_scheme= 1):\n",
    "        self.p_scheme= param_scheme\n",
    "\n",
    "    #the two p_schemes can also be defined in a separate util module\n",
    "    def model_p_scheme1(self):\n",
    "        user_input_layer = Input(shape=(self.x_train_user.shape[1],), name= 'user_id')#top half of input\n",
    "        quest_input_layer = Input(shape=(self.x_train_questions.shape[1],), name='questions/items')#bottom half of input\n",
    "\n",
    "        #1. kernel init set to RandomNorm(0,1), kernel regularizer set to l2\n",
    "        #t_i\n",
    "        if not self.l_traits==None:\n",
    "            pass#provision to add latent traits to first layer\n",
    "            #latent_trait = Dense(1, use_bias=False,\n",
    "            #    kernel_initializer= initializers.RandomNormal(mean=0, stddev=1.0, seed=None),\n",
    "            #    kernel_regularizer=regularizers.l2(0.01), name='latent_trait')(user_input_layer)\n",
    "        else:\n",
    "            latent_trait = Dense(1, use_bias=False,\n",
    "                kernel_initializer= initializers.RandomNormal(mean=0, stddev=1.0, seed=None),\n",
    "                kernel_regularizer=regularizers.l2(0.01), name='latent_trait')(user_input_layer)\n",
    "\n",
    "        #2. kernel init set to RandomNorm(0,1),\n",
    "        difficulty_level = Dense(1, use_bias=False,\n",
    "            kernel_initializer= initializers.RandomNormal(mean=0, stddev=1.0, seed=None),\n",
    "            name='difficulty_level')(quest_input_layer)\n",
    "\n",
    "        #3. kernel init set to RandomNorm(1,1),\n",
    "        discrimination_param = Dense(1, use_bias=False,\n",
    "            kernel_initializer= initializers.RandomNormal(mean=0, stddev=1.0, seed=None),\n",
    "            activation= 'exponential',#kernel_constraint= constraints.NonNeg(),\n",
    "            name='disc_param')(quest_input_layer)\n",
    "\n",
    "        #4. should add Sigmoid activation-- ?\n",
    "        guess_param = Dense(1, use_bias=False,\n",
    "                    kernel_initializer= initializers.RandomUniform(minval=-3.5, maxval=-2.5, seed=None),\n",
    "                    activation='sigmoid', name='guessing_param')(quest_input_layer)\n",
    "\n",
    "        latent_difficulty_subtract = keras.layers.Subtract(name='latent_diff_sub')([latent_trait, difficulty_level])\n",
    "\n",
    "        disc_param_interaction = keras.layers.Multiply(name='disc_param_inter.')([latent_difficulty_subtract,\n",
    "                                                    discrimination_param])\n",
    "\n",
    "        #5. Sigmoid positioning corrected as per 3PL expression\n",
    "        sigmoid_layer= Activation('sigmoid', name='Sigmoid_func')(disc_param_interaction)\n",
    "\n",
    "\n",
    "        guess_param_interaction= Lambda(lambda x: K.constant(value=np.array([1])) - x, name='guess_param_inter.')(guess_param)\n",
    "\n",
    "\n",
    "        guess_param_interaction= keras.layers.Multiply(name='disc/guess_param_inter.')([sigmoid_layer,\n",
    "                                                guess_param_interaction])\n",
    "\n",
    "        guess_param_interaction= keras.layers.Add(name='guess_param_inter/add')([guess_param, guess_param_interaction])\n",
    "\n",
    "\n",
    "        #6. changed activation to just linear\n",
    "        prediction_output = Dense(1, trainable=False, use_bias=False,kernel_initializer=keras.initializers.Ones(), name='prediction_layer')(guess_param_interaction)\n",
    "\n",
    "\n",
    "        model_ = Model(inputs=[user_input_layer, quest_input_layer], outputs= prediction_output)\n",
    "        model_.compile(loss= 'binary_crossentropy', optimizer='sgd', metrics= ['mae', 'accuracy'])    \n",
    "        return model_    \n",
    "    \n",
    "    def model_p_scheme2(self):\n",
    "        user_input_layer = Input(shape=(self.x_train_user.shape[1],), name= 'user_id')#top half of input\n",
    "        quest_input_layer = Input(shape=(self.x_train_questions.shape[1],), name='questions/items')#bottom half of input\n",
    "\n",
    "        #1. kernel init set to RandomNorm(0,1), kernel regularizer set to l2\n",
    "        #t_i\n",
    "        if not self.l_traits==None:\n",
    "            pass#provision to add latent traits to first layer\n",
    "            #latent_trait = Dense(1, use_bias=False,\n",
    "            #    kernel_initializer= initializers.RandomNormal(mean=0, stddev=1.0, seed=None),\n",
    "            #    kernel_regularizer=regularizers.l2(0.01), name='latent_trait')(user_input_layer)\n",
    "        else:\n",
    "            latent_trait = Dense(1, use_bias=False,\n",
    "                kernel_initializer= initializers.RandomNormal(mean=0, stddev=1.0, seed=None),\n",
    "                kernel_regularizer=regularizers.l2(0.01), name='latent_trait')(user_input_layer)\n",
    "\n",
    "        #2. kernel init set to RandomNorm(0,1)\n",
    "        #b_j\n",
    "        difficulty_level = Dense(1, use_bias=False,\n",
    "            kernel_initializer= initializers.RandomNormal(mean=0, stddev=1.0, seed=None),\n",
    "            name='difficulty_level')(quest_input_layer)#b_j\n",
    "\n",
    "        #3. kernel init set to RandomNorm(1,1)\n",
    "        # Descrimination- also lamda_j\n",
    "        discrimination_param = Dense(1, use_bias=False,\n",
    "            kernel_initializer= initializers.RandomNormal(mean=0, stddev=1.0, seed=None),\n",
    "            activation= 'exponential',#kernel_constraint= constraints.NonNeg(),\n",
    "            name='disc_param')(quest_input_layer)\n",
    "\n",
    "        #lamda_j*t_i\n",
    "        disc_latent_interaction = keras.layers.Multiply(name='lambda_latent_inter.')([discrimination_param, latent_trait])\n",
    "\n",
    "        #alpha_j= lambda_j*b_j\n",
    "        disc_diff_interaction = keras.layers.Multiply(name='alpha_param.')([discrimination_param, difficulty_level])\n",
    "\n",
    "        #alpha_j + lamda_j*t_i]\n",
    "        alpha_lambda_add = keras.layers.Subtract(name='alpha_lambda_add')([disc_latent_interaction, disc_diff_interaction])# -alpha+lambda*latent_traits\n",
    "\n",
    "        #Sigmoid[alpha_j + lamda_j*t_i]\n",
    "        sigmoid_layer= Activation('sigmoid', name='Sigmoid_func')(alpha_lambda_add)\n",
    "\n",
    "        #c_j\n",
    "        guess_param = Dense(1, use_bias=False,\n",
    "            kernel_initializer= initializers.RandomUniform(minval=-3.5, maxval=-2.5, seed=None),\n",
    "            activation='sigmoid', name='guessing_param')(quest_input_layer)\n",
    "\n",
    "        #5. Sigmoid positioning corrected as per 3PL expression\n",
    "\n",
    "\n",
    "        #(1-c_j)\n",
    "        guess_param_interaction= Lambda(lambda x: K.constant(value=np.array([1])) - x, name='guess_param_inter.')(guess_param)\n",
    "\n",
    "        #(1-c_j)*sigmoid[]\n",
    "        guess_param_interaction= keras.layers.Multiply(name='disc/guess_param_inter.')([sigmoid_layer,\n",
    "                                                guess_param_interaction])\n",
    "        #c_j+ (1-c_j)*sigmoid[]\n",
    "        guess_param_interaction= keras.layers.Add(name='guess_param_inter/add')([guess_param, guess_param_interaction])\n",
    "\n",
    "\n",
    "        #6. changed activation to just linear\n",
    "        prediction_output = Dense(1, trainable=False, use_bias=False,kernel_initializer=keras.initializers.Ones(), name='prediction_layer')(guess_param_interaction)\n",
    "\n",
    "\n",
    "        model_ = Model(inputs=[user_input_layer, quest_input_layer], outputs= prediction_output)\n",
    "        model_.compile(loss= 'binary_crossentropy', optimizer='sgd', metrics= ['mae', 'accuracy'])\n",
    "        return model_\n",
    "    \n",
    "    def fit(self, x_user, x_questions, y_vals, **kwargs):\n",
    "        kwargs.setdefault('latent_traits',None)\n",
    "        kwargs.setdefault('batch_size',16)\n",
    "        kwargs.setdefault('epochs', 256)\n",
    "        kwargs.setdefault('validation_split',0.2)\n",
    "        \n",
    "        self.l_traits= kwargs['latent_traits']\n",
    "        \n",
    "        self.x_train_user= x_user\n",
    "        self.x_train_questions= x_questions\n",
    "        self.y_= y_vals\n",
    "        \n",
    "        if self.p_scheme==1:\n",
    "            model = self.model_p_scheme1()\n",
    "        else:\n",
    "            model = self.model_p_scheme2()\n",
    "        \n",
    "        print('\\nIntitializing fit for scheme {}. . .\\nBatch_size: {}; epochs: {};'.format(self.p_scheme, kwargs['batch_size'], kwargs['epochs']))\n",
    "        t1= time.time()\n",
    "        self.history= model.fit(x=[self.x_train_user,self.x_train_questions], y=self.y_, batch_size=kwargs['batch_size'], epochs=kwargs['epochs'], verbose=0, validation_split=kwargs['validation_split'])\n",
    "        exe_time = time.time()-t1\n",
    "        self.model = model\n",
    "        #Following lets user access each coeffs as and when required\n",
    "        self.difficulty = self.coefficients()['difficulty_level']\n",
    "        self.discrimination = self.coefficients()['disc_param']\n",
    "        self.guessing = self.coefficients()['guessing_param']\n",
    "        \n",
    "        print('\\nTraining on : {} samples for : {} epochs has completed in : {} seconds.'.format(self.x_train_user.shape[0],kwargs['epochs'], np.round(exe_time, decimals=3)))\n",
    "        print('\\nUse object.plot() to view train/validation loss curves;\\nUse `object.history` to obtain train/validation loss across all the epochs.\\nUse `object.coefficients()` to obtain model parameters--difficulty, discrimination & guessing')\n",
    "        return self\n",
    "    \n",
    "    def plot(self):\n",
    "        plt.plot(self.history.history['loss'])\n",
    "        plt.plot(self.history.history['val_loss'])\n",
    "        plt.title('Model loss for \"3 PL model\" scheme:{}'.format(self.p_scheme))\n",
    "        plt.xlabel('epoch')\n",
    "        plt.ylabel('loss')\n",
    "\n",
    "        plt.legend(['train', 'validation'], loc= 'upper right')\n",
    "        return plt.show()\n",
    "    def coefficients(self):\n",
    "        #returns all key coefficients as dictionary\n",
    "        #a dict comprehension over list of layer number containing key coeffs.\n",
    "        if self.p_scheme==1:\n",
    "            rel_layers_idx= [3,5,6]\n",
    "        else:\n",
    "            rel_layers_idx= [4,2,7]\n",
    "        \n",
    "        coef ={self.model.layers[idx].name:self.model.layers[idx].get_weights()[0] for idx in rel_layers_idx}\n",
    "        coef.update({'guessing_param':np.exp(coef['guessing_param'])/(1+ np.exp(coef['guessing_param']))})\n",
    "        coef.update({'disc_param':np.exp(coef['disc_param'])})\n",
    "        return coef\n",
    "    #def tabular_data(self, df_r_coefficients):\n",
    "    #    df_r_coefficients\n",
    "    #    df_table= pd.DataFrame({'Questions': rel_items, 'Difficulty-keras': difficulty_level_parameters.reshape(-1),\n",
    "    #    'Difficulty-R':coeff[r_params_cols[2]].values, 'Discrimination-keras':discrimination_parameters.reshape(-1),\n",
    "    #    'Discrimination-R':coeff[r_params_cols[-1]].values, 'Guess-keras':pseudo_guess_parameters.reshape(-1),\n",
    "     #   'Guess-R':coeff[r_params_cols[2]].values})\n",
    "     #   df_table.head(5)"
   ]
  },
  {
   "cell_type": "markdown",
   "metadata": {},
   "source": [
    "### 2.1. Now using one of the dataset schemes from above, train a keras_3PL model using glm class."
   ]
  },
  {
   "cell_type": "code",
   "execution_count": 16,
   "metadata": {},
   "outputs": [
    {
     "name": "stdout",
     "output_type": "stream",
     "text": [
      "shape of simulated x_train_user: (3135, 100) \n",
      "shape of simulated  x_train_questions: (3135, 3) \n",
      "shape of simulated  y_train: (3135,)\n"
     ]
    }
   ],
   "source": [
    "from sklearn.model_selection import train_test_split\n",
    "\n",
    "xtrain, xtest, ytrain, ytest = train_test_split(df_sim[df_cols[:-1]], df_sim[df_cols[-1]], test_size=0.05)\n",
    "\n",
    "x_train_user = to_categorical(xtrain['user'], num_classes=num_sim_users)#contains the one-hot encoded user data\n",
    "x_train_questions = pd.get_dummies(xtrain['questions']).values#contains the one-hot encoded questions\n",
    "\n",
    "y_train= ytrain.values\n",
    "print('shape of simulated x_train_user:', x_train_user.shape,'\\nshape of simulated  x_train_questions:', x_train_questions.shape,\n",
    "      '\\nshape of simulated  y_train:',y_train.shape)"
   ]
  },
  {
   "cell_type": "markdown",
   "metadata": {},
   "source": [
    "* **Instantiating kerasTpm class & performing a fit**\n",
    "    * For scheme 2"
   ]
  },
  {
   "cell_type": "code",
   "execution_count": 17,
   "metadata": {},
   "outputs": [
    {
     "name": "stdout",
     "output_type": "stream",
     "text": [
      "WARNING:tensorflow:From /home/kev/Desktop/pyvirtual2/lib/python3.6/site-packages/tensorflow/python/ops/resource_variable_ops.py:435: colocate_with (from tensorflow.python.framework.ops) is deprecated and will be removed in a future version.\n",
      "Instructions for updating:\n",
      "Colocations handled automatically by placer.\n",
      "\n",
      "Intitializing fit for scheme 2. . .\n",
      "Batch_size: 64; epochs: 512;\n",
      "WARNING:tensorflow:From /home/kev/Desktop/pyvirtual2/lib/python3.6/site-packages/tensorflow/python/ops/math_ops.py:3066: to_int32 (from tensorflow.python.ops.math_ops) is deprecated and will be removed in a future version.\n",
      "Instructions for updating:\n",
      "Use tf.cast instead.\n",
      "\n",
      "Training on : 3135 samples for : 512 epochs has completed in : 24.942 seconds.\n",
      "\n",
      "Use object.plot() to view train/validation loss curves;\n",
      "Use `object.history` to obtain train/validation loss across all the epochs.\n",
      "Use `object.coefficients()` to obtain model parameters--difficulty, discrimination & guessing\n"
     ]
    },
    {
     "data": {
      "text/plain": [
       "<__main__.KerasTpm at 0x7fb3c5099f28>"
      ]
     },
     "execution_count": 17,
     "metadata": {},
     "output_type": "execute_result"
    }
   ],
   "source": [
    "model= KerasTpm(param_scheme=2)\n",
    "model.fit(x_user=x_train_user,x_questions=x_train_questions,\n",
    "          y_vals=y_train, batch_size=64, epochs=512)"
   ]
  },
  {
   "cell_type": "markdown",
   "metadata": {},
   "source": [
    "* For scheme 1"
   ]
  },
  {
   "cell_type": "code",
   "execution_count": 18,
   "metadata": {},
   "outputs": [
    {
     "name": "stdout",
     "output_type": "stream",
     "text": [
      "\n",
      "Intitializing fit for scheme 1. . .\n",
      "Batch_size: 64; epochs: 512;\n",
      "\n",
      "Training on : 3135 samples for : 512 epochs has completed in : 25.338 seconds.\n",
      "\n",
      "Use object.plot() to view train/validation loss curves;\n",
      "Use `object.history` to obtain train/validation loss across all the epochs.\n",
      "Use `object.coefficients()` to obtain model parameters--difficulty, discrimination & guessing\n"
     ]
    },
    {
     "data": {
      "text/plain": [
       "<__main__.KerasTpm at 0x7fb3b8067fd0>"
      ]
     },
     "execution_count": 18,
     "metadata": {},
     "output_type": "execute_result"
    }
   ],
   "source": [
    "model_s1 = KerasTpm(param_scheme=1)\n",
    "model_s1.fit(x_user=x_train_user,x_questions=x_train_questions,\n",
    "          y_vals=y_train, batch_size=64, epochs=512)"
   ]
  },
  {
   "cell_type": "markdown",
   "metadata": {},
   "source": [
    "* **Train Vs. Validation loss curves for simulated dataset**"
   ]
  },
  {
   "cell_type": "code",
   "execution_count": 19,
   "metadata": {},
   "outputs": [
    {
     "data": {
      "image/png": "[encoded data removed]",
      "text/plain": [
       "<Figure size 432x288 with 1 Axes>"
      ]
     },
     "metadata": {
      "needs_background": "light"
     },
     "output_type": "display_data"
    }
   ],
   "source": [
    "model.plot()#model scheme 2"
   ]
  },
  {
   "cell_type": "code",
   "execution_count": 20,
   "metadata": {},
   "outputs": [
    {
     "data": {
      "image/png": "[encoded data removed]",
      "text/plain": [
       "<Figure size 432x288 with 1 Axes>"
      ]
     },
     "metadata": {
      "needs_background": "light"
     },
     "output_type": "display_data"
    }
   ],
   "source": [
    "model_s1.plot()#model scheme 1"
   ]
  },
  {
   "cell_type": "markdown",
   "metadata": {},
   "source": [
    "### 2.2. Obtaining underlying trained 3pl parameters from keras model"
   ]
  },
  {
   "cell_type": "markdown",
   "metadata": {},
   "source": [
    "#### Access model coefficients\n",
    "* vals of difficulty, disccrimination, guessing can be either obtained as a dict with `model.coefficient()`\n",
    "* Or as model attribute with respective call-- `model.difficulty`, `model.discrimination`."
   ]
  },
  {
   "cell_type": "code",
   "execution_count": 21,
   "metadata": {},
   "outputs": [
    {
     "data": {
      "text/plain": [
       "{'difficulty_level': array([[-0.33687466],\n",
       "        [ 0.10872683],\n",
       "        [ 1.091974  ]], dtype=float32), 'disc_param': array([[0.98975635],\n",
       "        [0.86150694],\n",
       "        [0.6069459 ]], dtype=float32), 'guessing_param': array([[0.0987363 ],\n",
       "        [0.04040414],\n",
       "        [0.03636248]], dtype=float32)}"
      ]
     },
     "execution_count": 21,
     "metadata": {},
     "output_type": "execute_result"
    }
   ],
   "source": [
    "model.coefficients()#as method--dict"
   ]
  },
  {
   "cell_type": "code",
   "execution_count": 22,
   "metadata": {},
   "outputs": [
    {
     "data": {
      "text/plain": [
       "array([[0.98975635],\n",
       "       [0.86150694],\n",
       "       [0.6069459 ]], dtype=float32)"
      ]
     },
     "execution_count": 22,
     "metadata": {},
     "output_type": "execute_result"
    }
   ],
   "source": [
    "model.discrimination#as attribute"
   ]
  },
  {
   "cell_type": "markdown",
   "metadata": {},
   "source": [
    "## 3. Loading R's 3PL model paramters from simulated dataset for comparison\n"
   ]
  },
  {
   "cell_type": "code",
   "execution_count": 23,
   "metadata": {},
   "outputs": [
    {
     "data": {
      "text/html": [
       "<div>\n",
       "<style scoped>\n",
       "    .dataframe tbody tr th:only-of-type {\n",
       "        vertical-align: middle;\n",
       "    }\n",
       "\n",
       "    .dataframe tbody tr th {\n",
       "        vertical-align: top;\n",
       "    }\n",
       "\n",
       "    .dataframe thead th {\n",
       "        text-align: right;\n",
       "    }\n",
       "</style>\n",
       "<table border=\"1\" class=\"dataframe\">\n",
       "  <thead>\n",
       "    <tr style=\"text-align: right;\">\n",
       "      <th></th>\n",
       "      <th>Unnamed: 0</th>\n",
       "      <th>Gussng</th>\n",
       "      <th>Dffclt</th>\n",
       "      <th>Dscrmn</th>\n",
       "    </tr>\n",
       "  </thead>\n",
       "  <tbody>\n",
       "    <tr>\n",
       "      <td>0</td>\n",
       "      <td>V1</td>\n",
       "      <td>0.048993</td>\n",
       "      <td>-0.539199</td>\n",
       "      <td>23.963986</td>\n",
       "    </tr>\n",
       "    <tr>\n",
       "      <td>1</td>\n",
       "      <td>V2</td>\n",
       "      <td>0.000008</td>\n",
       "      <td>0.044664</td>\n",
       "      <td>21.340652</td>\n",
       "    </tr>\n",
       "    <tr>\n",
       "      <td>2</td>\n",
       "      <td>V3</td>\n",
       "      <td>0.000003</td>\n",
       "      <td>0.695396</td>\n",
       "      <td>18.530009</td>\n",
       "    </tr>\n",
       "  </tbody>\n",
       "</table>\n",
       "</div>"
      ],
      "text/plain": [
       "  Unnamed: 0    Gussng    Dffclt     Dscrmn\n",
       "0         V1  0.048993 -0.539199  23.963986\n",
       "1         V2  0.000008  0.044664  21.340652\n",
       "2         V3  0.000003  0.695396  18.530009"
      ]
     },
     "execution_count": 23,
     "metadata": {},
     "output_type": "execute_result"
    }
   ],
   "source": [
    "coeff = pd.read_csv('simulated_data_r_coeffs.csv')\n",
    "coeff.head(3)"
   ]
  },
  {
   "cell_type": "code",
   "execution_count": 24,
   "metadata": {},
   "outputs": [
    {
     "data": {
      "text/plain": [
       "['Unnamed: 0', 'Gussng', 'Dffclt', 'Dscrmn']"
      ]
     },
     "execution_count": 24,
     "metadata": {},
     "output_type": "execute_result"
    }
   ],
   "source": [
    "r_params_cols =list(coeff.columns)\n",
    "r_params_cols#columns from R's dataframe"
   ]
  },
  {
   "cell_type": "markdown",
   "metadata": {},
   "source": [
    "### 3.1. Table representation of param values: true_vals - keras - R"
   ]
  },
  {
   "cell_type": "code",
   "execution_count": 25,
   "metadata": {},
   "outputs": [],
   "source": [
    "rel_items= list(range(1, df_sim['questions'].nunique()+1))"
   ]
  },
  {
   "cell_type": "code",
   "execution_count": 26,
   "metadata": {},
   "outputs": [
    {
     "data": {
      "text/html": [
       "<div>\n",
       "<style scoped>\n",
       "    .dataframe tbody tr th:only-of-type {\n",
       "        vertical-align: middle;\n",
       "    }\n",
       "\n",
       "    .dataframe tbody tr th {\n",
       "        vertical-align: top;\n",
       "    }\n",
       "\n",
       "    .dataframe thead th {\n",
       "        text-align: right;\n",
       "    }\n",
       "</style>\n",
       "<table border=\"1\" class=\"dataframe\">\n",
       "  <thead>\n",
       "    <tr style=\"text-align: right;\">\n",
       "      <th></th>\n",
       "      <th>Questions</th>\n",
       "      <th>Difficulty-True</th>\n",
       "      <th>Difficulty-keras</th>\n",
       "      <th>Difficulty-R</th>\n",
       "      <th>Discrimination-True</th>\n",
       "      <th>Discrimination-keras</th>\n",
       "      <th>Discrimination-R</th>\n",
       "      <th>Guess-True</th>\n",
       "      <th>Guess-keras</th>\n",
       "      <th>Guess-R</th>\n",
       "    </tr>\n",
       "  </thead>\n",
       "  <tbody>\n",
       "    <tr>\n",
       "      <td>0</td>\n",
       "      <td>1</td>\n",
       "      <td>-0.5</td>\n",
       "      <td>-0.336875</td>\n",
       "      <td>-0.539199</td>\n",
       "      <td>0.0</td>\n",
       "      <td>0.989756</td>\n",
       "      <td>23.963986</td>\n",
       "      <td>0.0</td>\n",
       "      <td>0.098736</td>\n",
       "      <td>-0.539199</td>\n",
       "    </tr>\n",
       "    <tr>\n",
       "      <td>1</td>\n",
       "      <td>2</td>\n",
       "      <td>0.0</td>\n",
       "      <td>0.108727</td>\n",
       "      <td>0.044664</td>\n",
       "      <td>0.5</td>\n",
       "      <td>0.861507</td>\n",
       "      <td>21.340652</td>\n",
       "      <td>0.5</td>\n",
       "      <td>0.040404</td>\n",
       "      <td>0.044664</td>\n",
       "    </tr>\n",
       "    <tr>\n",
       "      <td>2</td>\n",
       "      <td>3</td>\n",
       "      <td>0.5</td>\n",
       "      <td>1.091974</td>\n",
       "      <td>0.695396</td>\n",
       "      <td>1.0</td>\n",
       "      <td>0.606946</td>\n",
       "      <td>18.530009</td>\n",
       "      <td>1.0</td>\n",
       "      <td>0.036362</td>\n",
       "      <td>0.695396</td>\n",
       "    </tr>\n",
       "  </tbody>\n",
       "</table>\n",
       "</div>"
      ],
      "text/plain": [
       "   Questions  Difficulty-True  Difficulty-keras  Difficulty-R  \\\n",
       "0          1             -0.5         -0.336875     -0.539199   \n",
       "1          2              0.0          0.108727      0.044664   \n",
       "2          3              0.5          1.091974      0.695396   \n",
       "\n",
       "   Discrimination-True  Discrimination-keras  Discrimination-R  Guess-True  \\\n",
       "0                  0.0              0.989756         23.963986         0.0   \n",
       "1                  0.5              0.861507         21.340652         0.5   \n",
       "2                  1.0              0.606946         18.530009         1.0   \n",
       "\n",
       "   Guess-keras   Guess-R  \n",
       "0     0.098736 -0.539199  \n",
       "1     0.040404  0.044664  \n",
       "2     0.036362  0.695396  "
      ]
     },
     "execution_count": 26,
     "metadata": {},
     "output_type": "execute_result"
    }
   ],
   "source": [
    "df_table= pd.DataFrame({'Questions': rel_items, 'Difficulty-True': t_diff, 'Difficulty-keras': model.difficulty.reshape(-1),\n",
    " 'Difficulty-R':coeff[r_params_cols[2]].values, 'Discrimination-True':t_disc, 'Discrimination-keras':model.discrimination.reshape(-1),\n",
    " 'Discrimination-R':coeff[r_params_cols[-1]].values, 'Guess-True':t_guess, 'Guess-keras':model.guessing.reshape(-1),\n",
    " 'Guess-R':coeff[r_params_cols[2]].values})\n",
    "df_table.head(5)"
   ]
  },
  {
   "cell_type": "markdown",
   "metadata": {},
   "source": [
    "### 3.2. Rescaling comparison table data"
   ]
  },
  {
   "cell_type": "code",
   "execution_count": 27,
   "metadata": {},
   "outputs": [
    {
     "data": {
      "text/html": [
       "<div>\n",
       "<style scoped>\n",
       "    .dataframe tbody tr th:only-of-type {\n",
       "        vertical-align: middle;\n",
       "    }\n",
       "\n",
       "    .dataframe tbody tr th {\n",
       "        vertical-align: top;\n",
       "    }\n",
       "\n",
       "    .dataframe thead th {\n",
       "        text-align: right;\n",
       "    }\n",
       "</style>\n",
       "<table border=\"1\" class=\"dataframe\">\n",
       "  <thead>\n",
       "    <tr style=\"text-align: right;\">\n",
       "      <th></th>\n",
       "      <th>Questions</th>\n",
       "      <th>Difficulty-True</th>\n",
       "      <th>Difficulty-keras</th>\n",
       "      <th>Difficulty-R</th>\n",
       "      <th>Discrimination-True</th>\n",
       "      <th>Discrimination-keras</th>\n",
       "      <th>Discrimination-R</th>\n",
       "      <th>Guess-True</th>\n",
       "      <th>Guess-keras</th>\n",
       "      <th>Guess-R</th>\n",
       "    </tr>\n",
       "  </thead>\n",
       "  <tbody>\n",
       "    <tr>\n",
       "      <td>0</td>\n",
       "      <td>1</td>\n",
       "      <td>0.0</td>\n",
       "      <td>0.000000</td>\n",
       "      <td>0.000000</td>\n",
       "      <td>0.0</td>\n",
       "      <td>1.000000</td>\n",
       "      <td>1.000000</td>\n",
       "      <td>0.0</td>\n",
       "      <td>1.000000</td>\n",
       "      <td>0.000000</td>\n",
       "    </tr>\n",
       "    <tr>\n",
       "      <td>1</td>\n",
       "      <td>2</td>\n",
       "      <td>0.5</td>\n",
       "      <td>0.311861</td>\n",
       "      <td>0.472918</td>\n",
       "      <td>0.5</td>\n",
       "      <td>0.664979</td>\n",
       "      <td>0.517235</td>\n",
       "      <td>0.5</td>\n",
       "      <td>0.064797</td>\n",
       "      <td>0.472918</td>\n",
       "    </tr>\n",
       "    <tr>\n",
       "      <td>2</td>\n",
       "      <td>3</td>\n",
       "      <td>1.0</td>\n",
       "      <td>1.000000</td>\n",
       "      <td>1.000000</td>\n",
       "      <td>1.0</td>\n",
       "      <td>0.000000</td>\n",
       "      <td>0.000000</td>\n",
       "      <td>1.0</td>\n",
       "      <td>0.000000</td>\n",
       "      <td>1.000000</td>\n",
       "    </tr>\n",
       "  </tbody>\n",
       "</table>\n",
       "</div>"
      ],
      "text/plain": [
       "   Questions  Difficulty-True  Difficulty-keras  Difficulty-R  \\\n",
       "0          1              0.0          0.000000      0.000000   \n",
       "1          2              0.5          0.311861      0.472918   \n",
       "2          3              1.0          1.000000      1.000000   \n",
       "\n",
       "   Discrimination-True  Discrimination-keras  Discrimination-R  Guess-True  \\\n",
       "0                  0.0              1.000000          1.000000         0.0   \n",
       "1                  0.5              0.664979          0.517235         0.5   \n",
       "2                  1.0              0.000000          0.000000         1.0   \n",
       "\n",
       "   Guess-keras   Guess-R  \n",
       "0     1.000000  0.000000  \n",
       "1     0.064797  0.472918  \n",
       "2     0.000000  1.000000  "
      ]
     },
     "execution_count": 27,
     "metadata": {},
     "output_type": "execute_result"
    }
   ],
   "source": [
    "df_scaled = df_table.copy()\n",
    "for col in list(df_scaled.columns)[1:]:\n",
    "    df_scaled[col] = df_scaled[col].apply(lambda x: x - df_table[col].min())\n",
    "    df_scaled[col]=df_scaled[col]/df_scaled[col].max()\n",
    "df_scaled"
   ]
  },
  {
   "cell_type": "markdown",
   "metadata": {},
   "source": [
    "## 4. Scatterplots"
   ]
  },
  {
   "cell_type": "markdown",
   "metadata": {},
   "source": [
    "### 4.1. Difficulty vals from keras_3pl vs. R_3pl\n",
    "\n",
    "* R_tpm values are plotted across X\n",
    "* Keras values are plotted across Y"
   ]
  },
  {
   "cell_type": "code",
   "execution_count": 28,
   "metadata": {},
   "outputs": [
    {
     "data": {
      "text/plain": [
       "['Questions',\n",
       " 'Difficulty-True',\n",
       " 'Difficulty-keras',\n",
       " 'Difficulty-R',\n",
       " 'Discrimination-True',\n",
       " 'Discrimination-keras',\n",
       " 'Discrimination-R',\n",
       " 'Guess-True',\n",
       " 'Guess-keras',\n",
       " 'Guess-R']"
      ]
     },
     "execution_count": 28,
     "metadata": {},
     "output_type": "execute_result"
    }
   ],
   "source": [
    "comparison_cols= list(df_scaled.columns)\n",
    "comparison_cols"
   ]
  },
  {
   "cell_type": "code",
   "execution_count": 29,
   "metadata": {},
   "outputs": [
    {
     "data": {
      "image/png": "[encoded data removed]",
      "text/plain": [
       "<Figure size 432x288 with 1 Axes>"
      ]
     },
     "metadata": {
      "needs_background": "light"
     },
     "output_type": "display_data"
    }
   ],
   "source": [
    "fig = plt.figure()\n",
    "ax = fig.add_subplot(1, 1, 1)\n",
    "y,x = (df_scaled[comparison_cols[2]].values, df_scaled[comparison_cols[3]].values)\n",
    "\n",
    "x_min, x_max = ax.get_xlim()\n",
    "y_min, y_max = 0, 0 + 1*(x_max-x_min)\n",
    "ax.plot([x_min, x_max], [y_min, y_max])\n",
    "ax.set_xlim([x_min, x_max])\n",
    "\n",
    "ax.scatter(x, y, alpha=0.8, c=\"red\", edgecolors='none', s=30, label=\"difficulty level R Vs. keras\")\n",
    "#plt.plot([-0.6,0.6],[-0.1,0.3],'k-')\n",
    "plt.title('difficulty params from R_3pl Vs. keras_3pl')\n",
    "plt.ylabel('keras_3pl: Difficulty')\n",
    "plt.xlabel('R_tpm: Difficulty')\n",
    "plt.legend(loc=1)\n",
    "\n",
    "plt.show()"
   ]
  },
  {
   "cell_type": "markdown",
   "metadata": {},
   "source": [
    "### 4.2. Discrimination vals from keras_3pl vs. R_3pl\n",
    "\n",
    "* R_tpm values are plotted across X\n",
    "* Keras values are plotted across Y"
   ]
  },
  {
   "cell_type": "code",
   "execution_count": 30,
   "metadata": {},
   "outputs": [
    {
     "data": {
      "image/png": "[encoded data removed]",
      "text/plain": [
       "<Figure size 432x288 with 1 Axes>"
      ]
     },
     "metadata": {
      "needs_background": "light"
     },
     "output_type": "display_data"
    }
   ],
   "source": [
    "fig = plt.figure()\n",
    "ax = fig.add_subplot(1, 1, 1)\n",
    "y,x = (df_scaled[comparison_cols[5]].values, df_scaled[comparison_cols[6]].values)\n",
    "\n",
    "ax.scatter(x, y, alpha=0.8, c=\"red\", edgecolors='none', s=30, label=\"discrimination R Vs. keras\")\n",
    "x_min, x_max = ax.get_xlim()\n",
    "y_min, y_max = 0, 0 + 1*(x_max-x_min)\n",
    "ax.plot([x_min, x_max], [y_min, y_max])\n",
    "ax.set_xlim([x_min, x_max])\n",
    "\n",
    "plt.title('discrimination parameters from R_3pl Vs. keras_3pl')\n",
    "plt.ylabel('keras_3pl: discrimination')\n",
    "plt.xlabel('R_tpm: discrimination')\n",
    "\n",
    "plt.legend(loc=1)\n",
    "plt.show()"
   ]
  },
  {
   "cell_type": "markdown",
   "metadata": {},
   "source": [
    "### 4.3. Guessing param values from keras_3pl vs. R_3pl\n",
    "\n",
    "* R_tpm values are plotted across X\n",
    "* Keras values are plotted across Y\n"
   ]
  },
  {
   "cell_type": "code",
   "execution_count": 31,
   "metadata": {},
   "outputs": [
    {
     "data": {
      "image/png": "[encoded data removed]",
      "text/plain": [
       "<Figure size 432x288 with 1 Axes>"
      ]
     },
     "metadata": {
      "needs_background": "light"
     },
     "output_type": "display_data"
    }
   ],
   "source": [
    "fig = plt.figure()\n",
    "ax = fig.add_subplot(1, 1, 1)\n",
    "y,x = (df_scaled[comparison_cols[8]].values, df_scaled[comparison_cols[-1]].values)\n",
    "\n",
    "ax.scatter(x, y, alpha=0.8, c=\"red\", edgecolors='none', s=30, label=\"guessing R Vs. keras\")\n",
    "\n",
    "x_min, x_max = ax.get_xlim()\n",
    "y_min, y_max = 0, 0 + 1*(x_max-x_min)\n",
    "ax.plot([x_min, x_max], [y_min, y_max])\n",
    "ax.set_xlim([x_min, x_max])\n",
    "\n",
    "plt.title('guessing parameters from R_3pl Vs. keras_3pl')\n",
    "plt.ylabel('keras_3pl: guessing')\n",
    "plt.xlabel('R_tpm: guessing')\n",
    "\n",
    "plt.legend(loc=1)\n",
    "plt.show()"
   ]
  },
  {
   "cell_type": "markdown",
   "metadata": {},
   "source": [
    "## 5. IC Curves\n",
    "### 5.1. Item characteristic curves for all 3 items from simulated dataset with R tpm"
   ]
  },
  {
   "cell_type": "code",
   "execution_count": 32,
   "metadata": {},
   "outputs": [],
   "source": [
    "def logit_func(lat_values):#c:guess, a:descrimination, b:difficulty\n",
    "    prob = list()\n",
    "    prob.append(c+ (1-c)*(np.exp(a*(lat_values-b))/(1+np.exp(a*(lat_values-b)))))#Vectorised implementation\n",
    "    #for val in lat_values:\n",
    "    #    prob.append(c+ (1-c)*(np.exp(a*(val-b))/(1+np.exp(a*(val-b)))))\n",
    "    return prob"
   ]
  },
  {
   "cell_type": "code",
   "execution_count": 33,
   "metadata": {},
   "outputs": [],
   "source": [
    "x = np.linspace(-4,4, num=num_sim_users)#value count for x axis"
   ]
  },
  {
   "cell_type": "code",
   "execution_count": 34,
   "metadata": {},
   "outputs": [
    {
     "data": {
      "image/png": "[encoded data removed]",
      "text/plain": [
       "<Figure size 432x288 with 1 Axes>"
      ]
     },
     "metadata": {
      "needs_background": "light"
     },
     "output_type": "display_data"
    }
   ],
   "source": [
    "for i in range(coeff.shape[0]):\n",
    "    c= coeff[r_params_cols[1]].iloc[i]#values of item 6 from R's dataframe\n",
    "    a= coeff[r_params_cols[-1]].iloc[i]\n",
    "    b= coeff[r_params_cols[2]].iloc[i]\n",
    "    vals_r= logit_func(x)\n",
    "    plt.plot(x,vals_r[0], 'r')\n",
    "\n",
    "plt.title('ICC for each of 10 items from R_3pl')\n",
    "plt.xlabel('x: latent_trait_vals')\n",
    "plt.ylabel('y: P(i=1|x)')\n",
    "plt.show()"
   ]
  },
  {
   "cell_type": "markdown",
   "metadata": {},
   "source": [
    "### 5.2. Item characteristic curves for all items from simulated dataset with keras 3PL"
   ]
  },
  {
   "cell_type": "code",
   "execution_count": 35,
   "metadata": {},
   "outputs": [
    {
     "data": {
      "image/png": "[encoded data removed]",
      "text/plain": [
       "<Figure size 432x288 with 1 Axes>"
      ]
     },
     "metadata": {
      "needs_background": "light"
     },
     "output_type": "display_data"
    }
   ],
   "source": [
    "for i in range(len(rel_items)):#10 items\n",
    "    c= model.guessing[i]#values for item 6 from keras 3pl params\n",
    "    a= model.discrimination[i]\n",
    "    b= model.difficulty[i]\n",
    "    vals_keras= logit_func(x)\n",
    "    plt.plot(x,vals_keras[0], 'b')\n",
    "\n",
    "plt.title('ICC for each of 10 items from keras_3pl')\n",
    "plt.xlabel('x: latent_trait_vals')\n",
    "plt.ylabel('y: P(i=1|x)')\n",
    "plt.show()#for mean=0 stdDev=1"
   ]
  },
  {
   "cell_type": "markdown",
   "metadata": {},
   "source": [
    "_____________________"
   ]
  },
  {
   "cell_type": "markdown",
   "metadata": {},
   "source": [
    "### Evaluating performance with dataset scheme 2"
   ]
  },
  {
   "cell_type": "code",
   "execution_count": 36,
   "metadata": {},
   "outputs": [
    {
     "name": "stdout",
     "output_type": "stream",
     "text": [
      "shape of simulated x_train_user: (9500, 100) \n",
      "shape of simulated  x_train_questions: (9500, 100) \n",
      "shape of simulated  y_train: (9500,)\n"
     ]
    }
   ],
   "source": [
    "from sklearn.model_selection import train_test_split\n",
    "\n",
    "xtrain, xtest, ytrain, ytest = train_test_split(df_sim_s2[df_cols[:-1]], df_sim_s2[df_cols[-1]], test_size=0.05)\n",
    "\n",
    "x_train_user = to_categorical(xtrain['user'], num_classes=num_sim_users)#contains the one-hot encoded user data\n",
    "x_train_questions = pd.get_dummies(xtrain['questions']).values#contains the one-hot encoded questions\n",
    "\n",
    "y_train= ytrain.values\n",
    "print('shape of simulated x_train_user:', x_train_user.shape,'\\nshape of simulated  x_train_questions:', x_train_questions.shape,\n",
    "      '\\nshape of simulated  y_train:',y_train.shape)"
   ]
  },
  {
   "cell_type": "markdown",
   "metadata": {},
   "source": [
    "* Model scheme 2- Dataset scheme 2"
   ]
  },
  {
   "cell_type": "code",
   "execution_count": 37,
   "metadata": {},
   "outputs": [
    {
     "name": "stdout",
     "output_type": "stream",
     "text": [
      "\n",
      "Intitializing fit for scheme 2. . .\n",
      "Batch_size: 64; epochs: 512;\n",
      "\n",
      "Training on : 9500 samples for : 512 epochs has completed in : 61.395 seconds.\n",
      "\n",
      "Use object.plot() to view train/validation loss curves;\n",
      "Use `object.history` to obtain train/validation loss across all the epochs.\n",
      "Use `object.coefficients()` to obtain model parameters--difficulty, discrimination & guessing\n"
     ]
    },
    {
     "data": {
      "text/plain": [
       "<__main__.KerasTpm at 0x7fb394504be0>"
      ]
     },
     "execution_count": 37,
     "metadata": {},
     "output_type": "execute_result"
    }
   ],
   "source": [
    "model_dset2= KerasTpm(param_scheme=2)\n",
    "model_dset2.fit(x_user=x_train_user,x_questions=x_train_questions,\n",
    "          y_vals=y_train, batch_size=64, epochs=512)"
   ]
  },
  {
   "cell_type": "markdown",
   "metadata": {},
   "source": [
    "* Model scheme 1- Dataset scheme 2"
   ]
  },
  {
   "cell_type": "code",
   "execution_count": 38,
   "metadata": {},
   "outputs": [
    {
     "name": "stdout",
     "output_type": "stream",
     "text": [
      "\n",
      "Intitializing fit for scheme 1. . .\n",
      "Batch_size: 64; epochs: 512;\n",
      "\n",
      "Training on : 9500 samples for : 512 epochs has completed in : 42.915 seconds.\n",
      "\n",
      "Use object.plot() to view train/validation loss curves;\n",
      "Use `object.history` to obtain train/validation loss across all the epochs.\n",
      "Use `object.coefficients()` to obtain model parameters--difficulty, discrimination & guessing\n"
     ]
    },
    {
     "data": {
      "text/plain": [
       "<__main__.KerasTpm at 0x7fb35ca5f7b8>"
      ]
     },
     "execution_count": 38,
     "metadata": {},
     "output_type": "execute_result"
    }
   ],
   "source": [
    "model_dset2_s1= KerasTpm(param_scheme=1)#fitting model scheme 1\n",
    "model_dset2_s1.fit(x_user=x_train_user,x_questions=x_train_questions,\n",
    "          y_vals=y_train, batch_size=64, epochs=512)"
   ]
  },
  {
   "cell_type": "markdown",
   "metadata": {},
   "source": [
    "### IC curves for dataset scheme 2\n",
    "* Model scheme 2- Dataset scheme 2"
   ]
  },
  {
   "cell_type": "code",
   "execution_count": 39,
   "metadata": {},
   "outputs": [
    {
     "data": {
      "image/png": "[encoded data removed]",
      "text/plain": [
       "<Figure size 432x288 with 1 Axes>"
      ]
     },
     "metadata": {
      "needs_background": "light"
     },
     "output_type": "display_data"
    }
   ],
   "source": [
    "x = np.linspace(-4,4, num=num_sim_users)#value count for x axis\n",
    "\n",
    "for i in np.random.randint(0,num_sim_items_s2,15):#15/100 random items\n",
    "    c= model_dset2.guessing[i]#values for item 6 from keras 3pl params\n",
    "    a= model_dset2.discrimination[i]\n",
    "    b= model_dset2.difficulty[i]\n",
    "    vals_keras= logit_func(x)\n",
    "    plt.plot(x,vals_keras[0], 'b')\n",
    "\n",
    "plt.title('ICC for each of 100 items from keras_3pl with dataset scheme2')\n",
    "plt.xlabel('x: latent_trait_vals')\n",
    "plt.ylabel('y: P(i=1|x)')\n",
    "plt.show()#for mean=0 stdDev=1"
   ]
  },
  {
   "cell_type": "markdown",
   "metadata": {},
   "source": [
    "* Model scheme 1- Dataset scheme 2"
   ]
  },
  {
   "cell_type": "code",
   "execution_count": 40,
   "metadata": {},
   "outputs": [
    {
     "data": {
      "image/png": "[encoded data removed]",
      "text/plain": [
       "<Figure size 432x288 with 1 Axes>"
      ]
     },
     "metadata": {
      "needs_background": "light"
     },
     "output_type": "display_data"
    }
   ],
   "source": [
    "x = np.linspace(-4,4, num=num_sim_users)#value count for x axis\n",
    "\n",
    "for i in np.random.randint(0,num_sim_items_s2,15):#15/100 random items\n",
    "    c= model_dset2_s1.guessing[i]#values for item 6 from keras 3pl params\n",
    "    a= model_dset2_s1.discrimination[i]\n",
    "    b= model_dset2_s1.difficulty[i]\n",
    "    vals_keras= logit_func(x)\n",
    "    plt.plot(x,vals_keras[0], 'b')\n",
    "\n",
    "plt.title('ICC for each of 100 items from keras_3pl with dataset scheme2-model s1')\n",
    "plt.xlabel('x: latent_trait_vals')\n",
    "plt.ylabel('y: P(i=1|x)')\n",
    "plt.show()#for mean=0 stdDev=1"
   ]
  },
  {
   "cell_type": "markdown",
   "metadata": {},
   "source": [
    "________________________________"
   ]
  },
  {
   "cell_type": "markdown",
   "metadata": {},
   "source": [
    "________________________________"
   ]
  },
  {
   "cell_type": "markdown",
   "metadata": {},
   "source": [
    "* Trying above `kerasTpm` class on 500 users-100 question dataset from previous experiments"
   ]
  },
  {
   "cell_type": "markdown",
   "metadata": {},
   "source": [
    "* Defining & one hot encoding training data for 500 users/10 items dataset"
   ]
  },
  {
   "cell_type": "code",
   "execution_count": 105,
   "metadata": {},
   "outputs": [
    {
     "data": {
      "text/html": [
       "<div>\n",
       "<style scoped>\n",
       "    .dataframe tbody tr th:only-of-type {\n",
       "        vertical-align: middle;\n",
       "    }\n",
       "\n",
       "    .dataframe tbody tr th {\n",
       "        vertical-align: top;\n",
       "    }\n",
       "\n",
       "    .dataframe thead th {\n",
       "        text-align: right;\n",
       "    }\n",
       "</style>\n",
       "<table border=\"1\" class=\"dataframe\">\n",
       "  <thead>\n",
       "    <tr style=\"text-align: right;\">\n",
       "      <th></th>\n",
       "      <th>user</th>\n",
       "      <th>questions</th>\n",
       "      <th>response</th>\n",
       "    </tr>\n",
       "  </thead>\n",
       "  <tbody>\n",
       "    <tr>\n",
       "      <td>3047</td>\n",
       "      <td>47</td>\n",
       "      <td>Q7</td>\n",
       "      <td>0</td>\n",
       "    </tr>\n",
       "    <tr>\n",
       "      <td>1762</td>\n",
       "      <td>262</td>\n",
       "      <td>Q4</td>\n",
       "      <td>0</td>\n",
       "    </tr>\n",
       "    <tr>\n",
       "      <td>4688</td>\n",
       "      <td>188</td>\n",
       "      <td>Q10</td>\n",
       "      <td>0</td>\n",
       "    </tr>\n",
       "    <tr>\n",
       "      <td>4944</td>\n",
       "      <td>444</td>\n",
       "      <td>Q10</td>\n",
       "      <td>0</td>\n",
       "    </tr>\n",
       "  </tbody>\n",
       "</table>\n",
       "</div>"
      ],
      "text/plain": [
       "      user questions  response\n",
       "3047    47        Q7         0\n",
       "1762   262        Q4         0\n",
       "4688   188       Q10         0\n",
       "4944   444       Q10         0"
      ]
     },
     "execution_count": 105,
     "metadata": {},
     "output_type": "execute_result"
    }
   ],
   "source": [
    "import pandas as pd\n",
    "import numpy as np\n",
    "#from numpy.random import seed\n",
    "#seed(1)\n",
    "\n",
    "cols= ['Q{}'.format(idx) for idx in range(1,11)]\n",
    "data= pd.read_csv('ouirt.dat', sep= ' ', names= cols)\n",
    "num_users= data.shape[0]\n",
    "\n",
    "rel_items = cols[:]#all Questions 1-10\n",
    "df = data[rel_items]\n",
    "\n",
    "df_cols = ['user','questions', 'response']#final dataframe cols\n",
    "\n",
    "\n",
    "from collections import defaultdict\n",
    "di = defaultdict(dict)\n",
    "for idx in rel_items:\n",
    "    di[idx].update(zip(range(df.shape[0]), df[idx].values))#makes format {'Q1':{user:responses,1:0,2:0,. . .,}}\n",
    "    \n",
    "df_list= list()\n",
    "for ques, user_resp in list(zip(di.keys(), di.values())):\n",
    "    df_list.append({'user':list(user_resp.keys()), 'questions':[ques]*df.shape[0], 'response':list(user_resp.values())})\n",
    "\n",
    "\n",
    "df_new= pd.DataFrame()\n",
    "for i in range(len(df_list)):\n",
    "    df = pd.DataFrame(df_list[i])\n",
    "    df_new= pd.concat([df_new, df], ignore_index=True)\n",
    "\n",
    "df_new = df_new.loc[np.random.randint(0,df_new.shape[0]-1, size=df_new.shape[0])]#shuffling data\n",
    "df_new.head(4)"
   ]
  },
  {
   "cell_type": "code",
   "execution_count": 106,
   "metadata": {},
   "outputs": [
    {
     "name": "stdout",
     "output_type": "stream",
     "text": [
      "shape of x_train_user: (4750, 500) \n",
      "shape of x_train_questions: (4750, 10) \n",
      "shape of y_train: (4750,)\n"
     ]
    }
   ],
   "source": [
    "from sklearn.model_selection import train_test_split\n",
    "\n",
    "xtrain, xtest, ytrain, ytest = train_test_split(df_new[df_cols[:-1]], df_new[df_cols[-1]], test_size=0.05)\n",
    "\n",
    "x_train_user = to_categorical(xtrain['user'], num_classes=500)#contains the one-hot encoded user data\n",
    "x_train_questions = pd.get_dummies(xtrain['questions']).values#contains the one-hot encoded questions\n",
    "\n",
    "y_train= ytrain.values\n",
    "print('shape of x_train_user:', x_train_user.shape,'\\nshape of x_train_questions:', x_train_questions.shape,\n",
    "      '\\nshape of y_train:',y_train.shape)"
   ]
  },
  {
   "cell_type": "code",
   "execution_count": 107,
   "metadata": {},
   "outputs": [],
   "source": [
    "model_new = KerasTpm(param_scheme=2)"
   ]
  },
  {
   "cell_type": "code",
   "execution_count": 108,
   "metadata": {},
   "outputs": [
    {
     "name": "stdout",
     "output_type": "stream",
     "text": [
      "Training on : 4750 samples for : 256 epochs has completed in : 72.829 seconds\n",
      "\n",
      "Use object.plot() to view train/validation loss curves;\n",
      "Use `object.history` to obtain train/validation loss across all the epochs.\n"
     ]
    },
    {
     "data": {
      "text/plain": [
       "<__main__.KerasTpm at 0x7f522b05a518>"
      ]
     },
     "execution_count": 108,
     "metadata": {},
     "output_type": "execute_result"
    }
   ],
   "source": [
    "model_new.fit(x_user=x_train_user, x_questions=x_train_questions, y_vals=y_train)"
   ]
  },
  {
   "cell_type": "code",
   "execution_count": 110,
   "metadata": {},
   "outputs": [
    {
     "data": {
      "text/plain": [
       "{'difficulty_level': array([[ 1.7484826 ],\n",
       "        [ 1.3637425 ],\n",
       "        [-0.06572728],\n",
       "        [-2.0869205 ],\n",
       "        [ 0.42030376],\n",
       "        [ 0.8208786 ],\n",
       "        [ 0.7915219 ],\n",
       "        [ 0.17101066],\n",
       "        [-1.355569  ],\n",
       "        [ 0.6289362 ]], dtype=float32), 'disc_param': array([[ 1.0474744e+00],\n",
       "        [ 3.4495850e+00],\n",
       "        [ 4.6170666e-05],\n",
       "        [ 1.2458811e-03],\n",
       "        [ 2.5819585e+00],\n",
       "        [ 5.1926643e-01],\n",
       "        [ 1.0147814e+00],\n",
       "        [ 2.5894122e+00],\n",
       "        [-0.0000000e+00],\n",
       "        [ 1.2717327e+00]], dtype=float32), 'guessing_param': array([[-2.9671865],\n",
       "        [-2.7237215],\n",
       "        [-4.035815 ],\n",
       "        [-3.7261267],\n",
       "        [-3.2720625],\n",
       "        [-2.7150326],\n",
       "        [-3.0055723],\n",
       "        [-2.5045724],\n",
       "        [-3.695909 ],\n",
       "        [-2.998019 ]], dtype=float32)}"
      ]
     },
     "execution_count": 110,
     "metadata": {},
     "output_type": "execute_result"
    }
   ],
   "source": [
    "model_new.coefficients()"
   ]
  },
  {
   "cell_type": "code",
   "execution_count": 111,
   "metadata": {},
   "outputs": [
    {
     "data": {
      "image/png": "[encoded data removed]",
      "text/plain": [
       "<Figure size 432x288 with 1 Axes>"
      ]
     },
     "metadata": {
      "needs_background": "light"
     },
     "output_type": "display_data"
    }
   ],
   "source": [
    "model_new.plot()"
   ]
  }
 ],
 "metadata": {
  "kernelspec": {
   "display_name": "Python 3",
   "language": "python",
   "name": "python3"
  },
  "language_info": {
   "codemirror_mode": {
    "name": "ipython",
    "version": 3
   },
   "file_extension": ".py",
   "mimetype": "text/x-python",
   "name": "python",
   "nbconvert_exporter": "python",
   "pygments_lexer": "ipython3",
   "version": "3.6.8"
  }
 },
 "nbformat": 4,
 "nbformat_minor": 2
}
