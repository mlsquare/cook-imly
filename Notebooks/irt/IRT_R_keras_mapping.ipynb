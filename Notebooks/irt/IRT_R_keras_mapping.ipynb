{
 "cells": [
  {
   "cell_type": "markdown",
   "metadata": {},
   "source": [
    "### Building onto saved dataframe,  following  function appends/extends new records to existing dataset using 'n' bernouli trials."
   ]
  },
  {
   "cell_type": "code",
   "execution_count": 1,
   "metadata": {
    "scrolled": true
   },
   "outputs": [
    {
     "name": "stdout",
     "output_type": "stream",
     "text": [
      "# of sim user: 100 \n",
      "# of sim items: 3\n"
     ]
    }
   ],
   "source": [
    "import pandas as pd\n",
    "import numpy as np\n",
    "#from numpy.random import seed\n",
    "#seed(1)\n",
    "\n",
    "ltrait_new = np.linspace(-4,4, num=100)#np.random.normal(0, 1, size=100)\n",
    "num_sim_users = ltrait_new.shape[0]\n",
    "num_sim_items = 3\n",
    "print('# of sim user:',num_sim_users,'\\n# of sim items:',num_sim_items)"
   ]
  },
  {
   "cell_type": "code",
   "execution_count": 2,
   "metadata": {},
   "outputs": [],
   "source": [
    "def add_data(array, trials_per_user):\n",
    "    array_li= array.tolist()#list of tuples\n",
    "    dock_list=list()#holds tuples generated from trials\n",
    "    for u, i, prob in array_li:\n",
    "        success_failure_arr = np.random.binomial(1, prob, trials_per_user)\n",
    "        \n",
    "        for resp in success_failure_arr:\n",
    "            dock_list.append([u,i, resp])\n",
    "        \n",
    "    array_li+=dock_list\n",
    "    return np.array(array_li)"
   ]
  },
  {
   "cell_type": "code",
   "execution_count": 3,
   "metadata": {},
   "outputs": [
    {
     "name": "stdout",
     "output_type": "stream",
     "text": [
      "Extended df size: (3300, 3)\n"
     ]
    }
   ],
   "source": [
    "df_cols = ['user','questions', 'response']\n",
    "\n",
    "c_probs= pd.read_csv('simulated_data_c_probs.csv')\n",
    "df_mat = add_data(c_probs.values, trials_per_user=10)\n",
    "df_sim = pd.DataFrame(df_mat, columns=df_cols)\n",
    "print('Extended df size:', df_sim.shape)"
   ]
  },
  {
   "cell_type": "code",
   "execution_count": 4,
   "metadata": {
    "scrolled": false
   },
   "outputs": [
    {
     "data": {
      "text/html": [
       "<div>\n",
       "<style scoped>\n",
       "    .dataframe tbody tr th:only-of-type {\n",
       "        vertical-align: middle;\n",
       "    }\n",
       "\n",
       "    .dataframe tbody tr th {\n",
       "        vertical-align: top;\n",
       "    }\n",
       "\n",
       "    .dataframe thead th {\n",
       "        text-align: right;\n",
       "    }\n",
       "</style>\n",
       "<table border=\"1\" class=\"dataframe\">\n",
       "  <thead>\n",
       "    <tr style=\"text-align: right;\">\n",
       "      <th></th>\n",
       "      <th>user</th>\n",
       "      <th>questions</th>\n",
       "      <th>response</th>\n",
       "    </tr>\n",
       "  </thead>\n",
       "  <tbody>\n",
       "    <tr>\n",
       "      <td>0</td>\n",
       "      <td>92.0</td>\n",
       "      <td>0.0</td>\n",
       "      <td>1</td>\n",
       "    </tr>\n",
       "    <tr>\n",
       "      <td>1</td>\n",
       "      <td>86.0</td>\n",
       "      <td>2.0</td>\n",
       "      <td>1</td>\n",
       "    </tr>\n",
       "    <tr>\n",
       "      <td>2</td>\n",
       "      <td>57.0</td>\n",
       "      <td>1.0</td>\n",
       "      <td>1</td>\n",
       "    </tr>\n",
       "  </tbody>\n",
       "</table>\n",
       "</div>"
      ],
      "text/plain": [
       "   user  questions  response\n",
       "0  92.0        0.0         1\n",
       "1  86.0        2.0         1\n",
       "2  57.0        1.0         1"
      ]
     },
     "execution_count": 4,
     "metadata": {},
     "output_type": "execute_result"
    }
   ],
   "source": [
    "df_sim['response']=df_sim['response'].apply(lambda x: int(np.round(x)))\n",
    "df_sim.head(3)"
   ]
  },
  {
   "cell_type": "markdown",
   "metadata": {},
   "source": [
    "### Defining a GLM class for two parameterization schemes for 3PL keras models which are as:\n",
    "**Scheme 1.** `P{i=1,j} = c_j+ (1- c_j)*Sigmoid[a_j*(t_i - b_j)]`\n",
    "        * P(i,j) = Prob of i-th student, correctly scoring on j-th\n",
    "          item.\n",
    "        * t_i= Degree of latent trait of i-th student\n",
    "        * b_j= difficulty_level of j-th question\n",
    "        * a_j= discrimination parameter of j-th question\n",
    "        * c_j= pseudo guessing parameter of j-th question\n",
    "    \n",
    "**Scheme 2.** `P{i=1,j} = c_j+ (1- c_j)*Sigmoid[alpha_j + lamda_j*t_i]`\n",
    "        * P(i,j) = Prob of i-th student, correctly scoring on j-th\n",
    "          item.\n",
    "        * t_i= Degree of latent trait of i-th student\n",
    "        * b_j= difficulty_level of j-th question\n",
    "        * `lamda_j / a_j`= discrimination parameter of j-th question\n",
    "        * alpha_j= -lam_j*b_j.\n",
    "        * c_j = pseudo guessing parameter of j-th question\n",
    "\n",
    "        \n",
    "\n"
   ]
  },
  {
   "cell_type": "markdown",
   "metadata": {},
   "source": [
    "### Now using  dataset  from above, train a keras 1/2/3PL proxy models model using an mlsquare adapter."
   ]
  },
  {
   "cell_type": "code",
   "execution_count": 6,
   "metadata": {},
   "outputs": [
    {
     "name": "stdout",
     "output_type": "stream",
     "text": [
      "shape of simulated x_train_user: (3135, 100) \n",
      "shape of simulated  x_train_questions: (3135, 3) \n",
      "shape of simulated  y_train: (3135,)\n"
     ]
    }
   ],
   "source": [
    "from keras.utils import to_categorical\n",
    "from sklearn.model_selection import train_test_split\n",
    "\n",
    "xtrain, xtest, ytrain, ytest = train_test_split(df_sim[df_cols[:-1]], df_sim[df_cols[-1]], test_size=0.05)\n",
    "\n",
    "x_train_user = to_categorical(xtrain['user'], num_classes=num_sim_users)#contains the one-hot encoded user data\n",
    "x_train_questions = pd.get_dummies(xtrain['questions']).values#contains the one-hot encoded questions\n",
    "\n",
    "y_train= ytrain.values\n",
    "print('shape of simulated x_train_user:', x_train_user.shape,'\\nshape of simulated  x_train_questions:', x_train_questions.shape,\n",
    "      '\\nshape of simulated  y_train:',y_train.shape)"
   ]
  },
  {
   "cell_type": "markdown",
   "metadata": {},
   "source": [
    "#### View regsitered IRT proxy models & adapters from mlsquare registry"
   ]
  },
  {
   "cell_type": "code",
   "execution_count": 7,
   "metadata": {},
   "outputs": [
    {
     "name": "stderr",
     "output_type": "stream",
     "text": [
      "2020-01-03 22:00:41,676\tINFO node.py:423 -- Process STDOUT and STDERR is being redirected to /tmp/ray/session_2020-01-03_22-00-41_5919/logs.\n",
      "2020-01-03 22:00:41,815\tINFO services.py:363 -- Waiting for redis server at 127.0.0.1:41716 to respond...\n",
      "2020-01-03 22:00:41,948\tINFO services.py:363 -- Waiting for redis server at 127.0.0.1:64975 to respond...\n",
      "2020-01-03 22:00:41,956\tINFO services.py:760 -- Starting Redis shard with 20.0 GB max memory.\n",
      "2020-01-03 22:00:41,993\tINFO services.py:1384 -- Starting the Plasma object store with 1.0 GB memory using /dev/shm.\n"
     ]
    },
    {
     "data": {
      "text/plain": [
       "{('mlsquare',\n",
       "  'rasch'): {'default': [<mlsquare.architectures.sklearn.KerasIrt1PLModel at 0x7f0ae25e2400>,\n",
       "   mlsquare.adapters.sklearn.IrtKerasRegressor]},\n",
       " ('mlsquare',\n",
       "  'twoPl'): {'default': [<mlsquare.architectures.sklearn.KerasIrt2PLModel at 0x7f0afe035ba8>,\n",
       "   mlsquare.adapters.sklearn.IrtKerasRegressor]},\n",
       " ('mlsquare',\n",
       "  'tpm'): {'default': [<mlsquare.architectures.sklearn.KerasIrt3PLModel at 0x7f0afe035d68>,\n",
       "   mlsquare.adapters.sklearn.IrtKerasRegressor]},\n",
       " ('sklearn',\n",
       "  'TruncatedSVD'): {'default': [<mlsquare.architectures.sklearn.SVD at 0x7f0afdd7c208>,\n",
       "   mlsquare.adapters.sklearn.SklearnTfTransformer]},\n",
       " ('sklearn',\n",
       "  'LogisticRegression'): {'default': [<mlsquare.architectures.sklearn.LogisticRegression at 0x7f0afdd7c6a0>,\n",
       "   mlsquare.adapters.sklearn.SklearnKerasClassifier]},\n",
       " ('sklearn',\n",
       "  'LinearRegression'): {'default': [<mlsquare.architectures.sklearn.LinearRegression at 0x7f0afdd7c860>,\n",
       "   mlsquare.adapters.sklearn.SklearnKerasRegressor]},\n",
       " ('sklearn',\n",
       "  'Ridge'): {'default': [<mlsquare.architectures.sklearn.Ridge at 0x7f0afdd7ca20>,\n",
       "   mlsquare.adapters.sklearn.SklearnKerasRegressor]},\n",
       " ('sklearn',\n",
       "  'Lasso'): {'default': [<mlsquare.architectures.sklearn.Lasso at 0x7f0afdd7cbe0>,\n",
       "   mlsquare.adapters.sklearn.SklearnKerasRegressor]},\n",
       " ('sklearn',\n",
       "  'ElasticNet'): {'default': [<mlsquare.architectures.sklearn.ElasticNet at 0x7f0afdd7cda0>,\n",
       "   mlsquare.adapters.sklearn.SklearnKerasRegressor]},\n",
       " ('sklearn',\n",
       "  'LinearSVC'): {'default': [<mlsquare.architectures.sklearn.LinearSVC at 0x7f0afdd7cf60>,\n",
       "   mlsquare.adapters.sklearn.SklearnKerasClassifier]},\n",
       " ('sklearn',\n",
       "  'SVC'): {'default': [<mlsquare.architectures.sklearn.SVC at 0x7f0afdd862e8>,\n",
       "   mlsquare.adapters.sklearn.SklearnKerasClassifier]},\n",
       " ('sklearn',\n",
       "  'DecisionTreeClassifier'): {'default': [<mlsquare.architectures.sklearn.DecisionTreeClassifier at 0x7f0afdd86630>,\n",
       "   mlsquare.adapters.sklearn.SklearnKerasClassifier]}}"
      ]
     },
     "execution_count": 7,
     "metadata": {},
     "output_type": "execute_result"
    }
   ],
   "source": [
    "from mlsquare import registry\n",
    "reg= registry.data\n",
    "reg"
   ]
  },
  {
   "cell_type": "markdown",
   "metadata": {},
   "source": [
    "* Primal models' signature params are defined in reference to R's ltm package, along the lines of sklearn."
   ]
  },
  {
   "cell_type": "code",
   "execution_count": 8,
   "metadata": {},
   "outputs": [],
   "source": [
    "from mlsquare.embibe.irt import rasch"
   ]
  },
  {
   "cell_type": "code",
   "execution_count": 9,
   "metadata": {},
   "outputs": [
    {
     "data": {
      "text/plain": [
       "rasch(Hessian=True, IRT_param=True, constraint='NULL', control=[], data=None,\n",
       "      na_action='NULL', start_val='NULL')"
      ]
     },
     "execution_count": 9,
     "metadata": {},
     "output_type": "execute_result"
    }
   ],
   "source": [
    "primal= rasch()\n",
    "primal"
   ]
  },
  {
   "cell_type": "code",
   "execution_count": 10,
   "metadata": {},
   "outputs": [
    {
     "data": {
      "text/plain": [
       "mlsquare.embibe.irt.rasch"
      ]
     },
     "execution_count": 10,
     "metadata": {},
     "output_type": "execute_result"
    }
   ],
   "source": [
    "rasch"
   ]
  },
  {
   "cell_type": "code",
   "execution_count": 11,
   "metadata": {},
   "outputs": [
    {
     "data": {
      "text/plain": [
       "'rasch'"
      ]
     },
     "execution_count": 11,
     "metadata": {},
     "output_type": "execute_result"
    }
   ],
   "source": [
    "rasch().__class__.__name__#1PL model_name in registry"
   ]
  },
  {
   "cell_type": "code",
   "execution_count": 12,
   "metadata": {},
   "outputs": [
    {
     "data": {
      "text/plain": [
       "'mlsquare.embibe.irt'"
      ]
     },
     "execution_count": 12,
     "metadata": {},
     "output_type": "execute_result"
    }
   ],
   "source": [
    "rasch().__class__.__module__#1PL module_name in registry"
   ]
  },
  {
   "cell_type": "code",
   "execution_count": 13,
   "metadata": {},
   "outputs": [
    {
     "name": "stdout",
     "output_type": "stream",
     "text": [
      "mlsquare rasch\n"
     ]
    }
   ],
   "source": [
    "from mlsquare.utils.functions import _get_model_name, _get_module_name\n",
    "module_name = _get_module_name(primal)\n",
    "model_name = _get_model_name(primal)\n",
    "\n",
    "print(module_name, model_name)#consistent with registry"
   ]
  },
  {
   "cell_type": "markdown",
   "metadata": {},
   "source": [
    "## Doping Rasch(1PL) primal model class & performing a fit."
   ]
  },
  {
   "cell_type": "code",
   "execution_count": 14,
   "metadata": {},
   "outputs": [],
   "source": [
    "from mlsquare import dope"
   ]
  },
  {
   "cell_type": "code",
   "execution_count": 15,
   "metadata": {},
   "outputs": [
    {
     "data": {
      "text/plain": [
       "rasch(Hessian=True, IRT_param=True, constraint='NULL', control=[], data=None,\n",
       "      na_action='NULL', start_val='NULL')"
      ]
     },
     "execution_count": 15,
     "metadata": {},
     "output_type": "execute_result"
    }
   ],
   "source": [
    "from mlsquare.embibe.irt import rasch\n",
    "\n",
    "primal1= rasch()\n",
    "primal1"
   ]
  },
  {
   "cell_type": "code",
   "execution_count": 16,
   "metadata": {},
   "outputs": [
    {
     "name": "stderr",
     "output_type": "stream",
     "text": [
      "Transpiling your model to it's Deep Neural Network equivalent...\n"
     ]
    }
   ],
   "source": [
    "model1pl= dope(primal1)#proxy, adap = reg[('embibe','irt')]['3PL']"
   ]
  },
  {
   "cell_type": "code",
   "execution_count": 17,
   "metadata": {},
   "outputs": [
    {
     "name": "stdout",
     "output_type": "stream",
     "text": [
      "\n",
      "Intitializing fit for rasch model. . .\n",
      "Batch_size: 64; epochs: 512;\n",
      "WARNING:tensorflow:From /home/kev/Desktop/pyvirtual2/lib/python3.6/site-packages/tensorflow/python/ops/resource_variable_ops.py:435: colocate_with (from tensorflow.python.framework.ops) is deprecated and will be removed in a future version.\n",
      "Instructions for updating:\n",
      "Colocations handled automatically by placer.\n",
      "WARNING:tensorflow:From /home/kev/Desktop/pyvirtual2/lib/python3.6/site-packages/tensorflow/python/ops/math_ops.py:3066: to_int32 (from tensorflow.python.ops.math_ops) is deprecated and will be removed in a future version.\n",
      "Instructions for updating:\n",
      "Use tf.cast instead.\n",
      "\n",
      "Training on : 3135 samples for : 512 epochs has completed in : 13.696 seconds.\n",
      "\n",
      "Use object.plot() to view train/validation loss curves;\n",
      "Use `object.history` to obtain train/validation loss across all the epochs.\n",
      "Use `object.coefficients()` to obtain model parameters--difficulty, discrimination & guessing\n"
     ]
    },
    {
     "data": {
      "text/plain": [
       "<mlsquare.adapters.sklearn.IrtKerasRegressor at 0x7f0afdd94550>"
      ]
     },
     "execution_count": 17,
     "metadata": {},
     "output_type": "execute_result"
    }
   ],
   "source": [
    "#mod3PL = adap(proxy_model=proxy, primal_model='abc')#adapt object\n",
    "model1pl.fit(x_user=x_train_user,x_questions=x_train_questions,\n",
    "          y_vals=y_train, batch_size=64, epochs=512)"
   ]
  },
  {
   "cell_type": "code",
   "execution_count": 18,
   "metadata": {},
   "outputs": [
    {
     "name": "stdout",
     "output_type": "stream",
     "text": [
      "Model: \"model_1\"\n",
      "__________________________________________________________________________________________________\n",
      "Layer (type)                    Output Shape         Param #     Connected to                     \n",
      "==================================================================================================\n",
      "questions/items (InputLayer)    (None, 3)            0                                            \n",
      "__________________________________________________________________________________________________\n",
      "user_id (InputLayer)            (None, 100)          0                                            \n",
      "__________________________________________________________________________________________________\n",
      "disc_param (Dense)              (None, 1)            3           questions/items[0][0]            \n",
      "__________________________________________________________________________________________________\n",
      "latent_trait (Dense)            (None, 1)            100         user_id[0][0]                    \n",
      "__________________________________________________________________________________________________\n",
      "difficulty_level (Dense)        (None, 1)            3           questions/items[0][0]            \n",
      "__________________________________________________________________________________________________\n",
      "lambda_latent_inter. (Multiply) (None, 1)            0           disc_param[0][0]                 \n",
      "                                                                 latent_trait[0][0]               \n",
      "__________________________________________________________________________________________________\n",
      "alpha_param. (Multiply)         (None, 1)            0           disc_param[0][0]                 \n",
      "                                                                 difficulty_level[0][0]           \n",
      "__________________________________________________________________________________________________\n",
      "guessing_param (Dense)          (None, 1)            3           questions/items[0][0]            \n",
      "__________________________________________________________________________________________________\n",
      "alpha_lambda_add (Subtract)     (None, 1)            0           lambda_latent_inter.[0][0]       \n",
      "                                                                 alpha_param.[0][0]               \n",
      "__________________________________________________________________________________________________\n",
      "Sigmoid_func (Activation)       (None, 1)            0           alpha_lambda_add[0][0]           \n",
      "__________________________________________________________________________________________________\n",
      "guess_param_inter. (Lambda)     (None, 1)            0           guessing_param[0][0]             \n",
      "__________________________________________________________________________________________________\n",
      "disc/guess_param_inter. (Multip (None, 1)            0           Sigmoid_func[0][0]               \n",
      "                                                                 guess_param_inter.[0][0]         \n",
      "__________________________________________________________________________________________________\n",
      "guess_param_inter/add (Add)     (None, 1)            0           guessing_param[0][0]             \n",
      "                                                                 disc/guess_param_inter.[0][0]    \n",
      "__________________________________________________________________________________________________\n",
      "prediction_layer (Dense)        (None, 1)            1           guess_param_inter/add[0][0]      \n",
      "==================================================================================================\n",
      "Total params: 110\n",
      "Trainable params: 103\n",
      "Non-trainable params: 7\n",
      "__________________________________________________________________________________________________\n"
     ]
    }
   ],
   "source": [
    "model1pl.model.summary()"
   ]
  },
  {
   "cell_type": "markdown",
   "metadata": {},
   "source": [
    "#### Obtaining underlying trained Rasch(1pl) parameters from doped model"
   ]
  },
  {
   "cell_type": "code",
   "execution_count": 19,
   "metadata": {},
   "outputs": [
    {
     "data": {
      "text/plain": [
       "{'difficulty_level': array([[-0.47518262],\n",
       "        [-0.04935711],\n",
       "        [ 0.46365473]], dtype=float32), 'disc_param': array([[1.],\n",
       "        [1.],\n",
       "        [1.]], dtype=float32), 'guessing_param': array([[0.],\n",
       "        [0.],\n",
       "        [0.]], dtype=float32)}"
      ]
     },
     "execution_count": 19,
     "metadata": {},
     "output_type": "execute_result"
    }
   ],
   "source": [
    "model1pl.coefficients()"
   ]
  },
  {
   "cell_type": "markdown",
   "metadata": {},
   "source": [
    "* **Train Vs. Validation loss curves for simulated dataset**"
   ]
  },
  {
   "cell_type": "code",
   "execution_count": 20,
   "metadata": {},
   "outputs": [
    {
     "data": {
      "image/png": "[encoded data removed]",
      "text/plain": [
       "<Figure size 432x288 with 1 Axes>"
      ]
     },
     "metadata": {
      "needs_background": "light"
     },
     "output_type": "display_data"
    }
   ],
   "source": [
    "model1pl.plot()"
   ]
  },
  {
   "cell_type": "markdown",
   "metadata": {},
   "source": [
    "________________________"
   ]
  },
  {
   "cell_type": "markdown",
   "metadata": {},
   "source": [
    "## Doping twoPl(2PL) primal model class & performing a fit."
   ]
  },
  {
   "cell_type": "code",
   "execution_count": 21,
   "metadata": {},
   "outputs": [
    {
     "data": {
      "text/plain": [
       "twoPl(Hessian=True, IRT_param=True, constraint='NULL', control=[], data=None,\n",
       "      na_action='NULL', start_val='NULL')"
      ]
     },
     "execution_count": 21,
     "metadata": {},
     "output_type": "execute_result"
    }
   ],
   "source": [
    "from mlsquare.embibe.irt import twoPl\n",
    "\n",
    "primal2= twoPl()\n",
    "primal2"
   ]
  },
  {
   "cell_type": "code",
   "execution_count": 22,
   "metadata": {},
   "outputs": [
    {
     "name": "stderr",
     "output_type": "stream",
     "text": [
      "Transpiling your model to it's Deep Neural Network equivalent...\n"
     ]
    }
   ],
   "source": [
    "model2pl= dope(primal2)"
   ]
  },
  {
   "cell_type": "code",
   "execution_count": 23,
   "metadata": {},
   "outputs": [
    {
     "name": "stdout",
     "output_type": "stream",
     "text": [
      "\n",
      "Intitializing fit for twoPl model. . .\n",
      "Batch_size: 64; epochs: 512;\n",
      "\n",
      "Training on : 3135 samples for : 512 epochs has completed in : 14.559 seconds.\n",
      "\n",
      "Use object.plot() to view train/validation loss curves;\n",
      "Use `object.history` to obtain train/validation loss across all the epochs.\n",
      "Use `object.coefficients()` to obtain model parameters--difficulty, discrimination & guessing\n"
     ]
    },
    {
     "data": {
      "text/plain": [
       "<mlsquare.adapters.sklearn.IrtKerasRegressor at 0x7f0afc0f5710>"
      ]
     },
     "execution_count": 23,
     "metadata": {},
     "output_type": "execute_result"
    }
   ],
   "source": [
    "model2pl.fit(x_user=x_train_user,x_questions=x_train_questions,\n",
    "          y_vals=y_train, batch_size=64, epochs=512)"
   ]
  },
  {
   "cell_type": "code",
   "execution_count": 24,
   "metadata": {},
   "outputs": [
    {
     "name": "stdout",
     "output_type": "stream",
     "text": [
      "Model: \"model_2\"\n",
      "__________________________________________________________________________________________________\n",
      "Layer (type)                    Output Shape         Param #     Connected to                     \n",
      "==================================================================================================\n",
      "questions/items (InputLayer)    (None, 3)            0                                            \n",
      "__________________________________________________________________________________________________\n",
      "user_id (InputLayer)            (None, 100)          0                                            \n",
      "__________________________________________________________________________________________________\n",
      "disc_param (Dense)              (None, 1)            3           questions/items[0][0]            \n",
      "__________________________________________________________________________________________________\n",
      "latent_trait (Dense)            (None, 1)            100         user_id[0][0]                    \n",
      "__________________________________________________________________________________________________\n",
      "difficulty_level (Dense)        (None, 1)            3           questions/items[0][0]            \n",
      "__________________________________________________________________________________________________\n",
      "lambda_latent_inter. (Multiply) (None, 1)            0           disc_param[0][0]                 \n",
      "                                                                 latent_trait[0][0]               \n",
      "__________________________________________________________________________________________________\n",
      "alpha_param. (Multiply)         (None, 1)            0           disc_param[0][0]                 \n",
      "                                                                 difficulty_level[0][0]           \n",
      "__________________________________________________________________________________________________\n",
      "guessing_param (Dense)          (None, 1)            3           questions/items[0][0]            \n",
      "__________________________________________________________________________________________________\n",
      "alpha_lambda_add (Subtract)     (None, 1)            0           lambda_latent_inter.[0][0]       \n",
      "                                                                 alpha_param.[0][0]               \n",
      "__________________________________________________________________________________________________\n",
      "Sigmoid_func (Activation)       (None, 1)            0           alpha_lambda_add[0][0]           \n",
      "__________________________________________________________________________________________________\n",
      "guess_param_inter. (Lambda)     (None, 1)            0           guessing_param[0][0]             \n",
      "__________________________________________________________________________________________________\n",
      "disc/guess_param_inter. (Multip (None, 1)            0           Sigmoid_func[0][0]               \n",
      "                                                                 guess_param_inter.[0][0]         \n",
      "__________________________________________________________________________________________________\n",
      "guess_param_inter/add (Add)     (None, 1)            0           guessing_param[0][0]             \n",
      "                                                                 disc/guess_param_inter.[0][0]    \n",
      "__________________________________________________________________________________________________\n",
      "prediction_layer (Dense)        (None, 1)            1           guess_param_inter/add[0][0]      \n",
      "==================================================================================================\n",
      "Total params: 110\n",
      "Trainable params: 106\n",
      "Non-trainable params: 4\n",
      "__________________________________________________________________________________________________\n"
     ]
    }
   ],
   "source": [
    "model2pl.model.summary()"
   ]
  },
  {
   "cell_type": "markdown",
   "metadata": {},
   "source": [
    "* **Train Vs. Validation loss curves for simulated dataset**"
   ]
  },
  {
   "cell_type": "code",
   "execution_count": 25,
   "metadata": {},
   "outputs": [
    {
     "data": {
      "image/png": "[encoded data removed]",
      "text/plain": [
       "<Figure size 432x288 with 1 Axes>"
      ]
     },
     "metadata": {
      "needs_background": "light"
     },
     "output_type": "display_data"
    }
   ],
   "source": [
    "model2pl.plot()"
   ]
  },
  {
   "cell_type": "markdown",
   "metadata": {},
   "source": [
    "#### Obtaining underlying trained 2pl parameters from doped model"
   ]
  },
  {
   "cell_type": "code",
   "execution_count": 26,
   "metadata": {},
   "outputs": [
    {
     "data": {
      "text/plain": [
       "{'difficulty_level': array([[-0.79154426],\n",
       "        [-0.29586586],\n",
       "        [ 0.687628  ]], dtype=float32), 'disc_param': array([[0.6220134 ],\n",
       "        [0.24361153],\n",
       "        [0.7345888 ]], dtype=float32), 'guessing_param': array([[0.],\n",
       "        [0.],\n",
       "        [0.]], dtype=float32)}"
      ]
     },
     "execution_count": 26,
     "metadata": {},
     "output_type": "execute_result"
    }
   ],
   "source": [
    "model2pl.coefficients()"
   ]
  },
  {
   "cell_type": "markdown",
   "metadata": {},
   "source": [
    "_________________________"
   ]
  },
  {
   "cell_type": "markdown",
   "metadata": {},
   "source": [
    "## Doping tpm(3PL) primal model class & performing a fit"
   ]
  },
  {
   "cell_type": "code",
   "execution_count": 27,
   "metadata": {},
   "outputs": [
    {
     "data": {
      "text/plain": [
       "twoPl(Hessian=True, IRT_param=True, constraint='NULL', control=[], data=None,\n",
       "      na_action='NULL', start_val='NULL')"
      ]
     },
     "execution_count": 27,
     "metadata": {},
     "output_type": "execute_result"
    }
   ],
   "source": [
    "from mlsquare.embibe.irt import tpm\n",
    "\n",
    "primal3= twoPl()\n",
    "primal3"
   ]
  },
  {
   "cell_type": "code",
   "execution_count": 28,
   "metadata": {},
   "outputs": [
    {
     "name": "stderr",
     "output_type": "stream",
     "text": [
      "Transpiling your model to it's Deep Neural Network equivalent...\n"
     ]
    }
   ],
   "source": [
    "model3pl=dope(primal3)"
   ]
  },
  {
   "cell_type": "code",
   "execution_count": 29,
   "metadata": {},
   "outputs": [
    {
     "name": "stdout",
     "output_type": "stream",
     "text": [
      "\n",
      "Intitializing fit for twoPl model. . .\n",
      "Batch_size: 64; epochs: 512;\n",
      "\n",
      "Training on : 3135 samples for : 512 epochs has completed in : 14.356 seconds.\n",
      "\n",
      "Use object.plot() to view train/validation loss curves;\n",
      "Use `object.history` to obtain train/validation loss across all the epochs.\n",
      "Use `object.coefficients()` to obtain model parameters--difficulty, discrimination & guessing\n"
     ]
    },
    {
     "data": {
      "text/plain": [
       "<mlsquare.adapters.sklearn.IrtKerasRegressor at 0x7f0ab8749eb8>"
      ]
     },
     "execution_count": 29,
     "metadata": {},
     "output_type": "execute_result"
    }
   ],
   "source": [
    "model3pl.fit(x_user=x_train_user,x_questions=x_train_questions,\n",
    "          y_vals=y_train, batch_size=64, epochs=512)"
   ]
  },
  {
   "cell_type": "code",
   "execution_count": 30,
   "metadata": {},
   "outputs": [
    {
     "name": "stdout",
     "output_type": "stream",
     "text": [
      "Model: \"model_3\"\n",
      "__________________________________________________________________________________________________\n",
      "Layer (type)                    Output Shape         Param #     Connected to                     \n",
      "==================================================================================================\n",
      "questions/items (InputLayer)    (None, 3)            0                                            \n",
      "__________________________________________________________________________________________________\n",
      "user_id (InputLayer)            (None, 100)          0                                            \n",
      "__________________________________________________________________________________________________\n",
      "disc_param (Dense)              (None, 1)            3           questions/items[0][0]            \n",
      "__________________________________________________________________________________________________\n",
      "latent_trait (Dense)            (None, 1)            100         user_id[0][0]                    \n",
      "__________________________________________________________________________________________________\n",
      "difficulty_level (Dense)        (None, 1)            3           questions/items[0][0]            \n",
      "__________________________________________________________________________________________________\n",
      "lambda_latent_inter. (Multiply) (None, 1)            0           disc_param[0][0]                 \n",
      "                                                                 latent_trait[0][0]               \n",
      "__________________________________________________________________________________________________\n",
      "alpha_param. (Multiply)         (None, 1)            0           disc_param[0][0]                 \n",
      "                                                                 difficulty_level[0][0]           \n",
      "__________________________________________________________________________________________________\n",
      "guessing_param (Dense)          (None, 1)            3           questions/items[0][0]            \n",
      "__________________________________________________________________________________________________\n",
      "alpha_lambda_add (Subtract)     (None, 1)            0           lambda_latent_inter.[0][0]       \n",
      "                                                                 alpha_param.[0][0]               \n",
      "__________________________________________________________________________________________________\n",
      "Sigmoid_func (Activation)       (None, 1)            0           alpha_lambda_add[0][0]           \n",
      "__________________________________________________________________________________________________\n",
      "guess_param_inter. (Lambda)     (None, 1)            0           guessing_param[0][0]             \n",
      "__________________________________________________________________________________________________\n",
      "disc/guess_param_inter. (Multip (None, 1)            0           Sigmoid_func[0][0]               \n",
      "                                                                 guess_param_inter.[0][0]         \n",
      "__________________________________________________________________________________________________\n",
      "guess_param_inter/add (Add)     (None, 1)            0           guessing_param[0][0]             \n",
      "                                                                 disc/guess_param_inter.[0][0]    \n",
      "__________________________________________________________________________________________________\n",
      "prediction_layer (Dense)        (None, 1)            1           guess_param_inter/add[0][0]      \n",
      "==================================================================================================\n",
      "Total params: 110\n",
      "Trainable params: 106\n",
      "Non-trainable params: 4\n",
      "__________________________________________________________________________________________________\n"
     ]
    }
   ],
   "source": [
    "model3pl.model.summary()"
   ]
  },
  {
   "cell_type": "markdown",
   "metadata": {},
   "source": [
    "* **Train Vs. Validation loss curves for simulated dataset**"
   ]
  },
  {
   "cell_type": "code",
   "execution_count": 31,
   "metadata": {},
   "outputs": [
    {
     "data": {
      "image/png": "[encoded data removed]",
      "text/plain": [
       "<Figure size 432x288 with 1 Axes>"
      ]
     },
     "metadata": {
      "needs_background": "light"
     },
     "output_type": "display_data"
    }
   ],
   "source": [
    "model3pl.plot()"
   ]
  },
  {
   "cell_type": "markdown",
   "metadata": {},
   "source": [
    "#### Obtaining underlying trained tpm(3pl) parameters from doped model"
   ]
  },
  {
   "cell_type": "code",
   "execution_count": 32,
   "metadata": {},
   "outputs": [
    {
     "data": {
      "text/plain": [
       "{'difficulty_level': array([[-0.96660966],\n",
       "        [-0.16041917],\n",
       "        [ 1.0095985 ]], dtype=float32), 'disc_param': array([[0.47687665],\n",
       "        [0.48051202],\n",
       "        [0.34173825]], dtype=float32), 'guessing_param': array([[0.],\n",
       "        [0.],\n",
       "        [0.]], dtype=float32)}"
      ]
     },
     "execution_count": 32,
     "metadata": {},
     "output_type": "execute_result"
    }
   ],
   "source": [
    "model3pl.coefficients()"
   ]
  },
  {
   "cell_type": "markdown",
   "metadata": {},
   "source": [
    "__________________________"
   ]
  }
 ],
 "metadata": {
  "kernelspec": {
   "display_name": "Python 3",
   "language": "python",
   "name": "python3"
  },
  "language_info": {
   "codemirror_mode": {
    "name": "ipython",
    "version": 3
   },
   "file_extension": ".py",
   "mimetype": "text/x-python",
   "name": "python",
   "nbconvert_exporter": "python",
   "pygments_lexer": "ipython3",
   "version": "3.6.8"
  }
 },
 "nbformat": 4,
 "nbformat_minor": 2
}
