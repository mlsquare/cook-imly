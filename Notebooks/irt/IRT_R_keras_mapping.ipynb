{
 "cells": [
  {
   "cell_type": "code",
   "execution_count": 1,
   "metadata": {
    "scrolled": true
   },
   "outputs": [
    {
     "name": "stdout",
     "output_type": "stream",
     "text": [
      "# of sim user: 100 \n",
      "# of sim items: 3\n"
     ]
    }
   ],
   "source": [
    "import pandas as pd\n",
    "import numpy as np\n",
    "#from numpy.random import seed\n",
    "#seed(1)\n",
    "\n",
    "ltrait_new = np.linspace(-4,4, num=100)#np.random.normal(0, 1, size=100)\n",
    "num_sim_users = ltrait_new.shape[0]\n",
    "num_sim_items = 3\n",
    "print('# of sim user:',num_sim_users,'\\n# of sim items:',num_sim_items)"
   ]
  },
  {
   "cell_type": "markdown",
   "metadata": {},
   "source": [
    "#### Building onto saved dataframe,  following  function appends/extends new records to existing dataset using 'n' bernouli trials."
   ]
  },
  {
   "cell_type": "code",
   "execution_count": 2,
   "metadata": {},
   "outputs": [],
   "source": [
    "def add_data(array, trials_per_user):\n",
    "    array_li= array.tolist()#list of tuples\n",
    "    dock_list=list()#holds tuples generated from trials\n",
    "    for u, i, prob in array_li:\n",
    "        success_failure_arr = np.random.binomial(1, prob, trials_per_user)\n",
    "        \n",
    "        for resp in success_failure_arr:\n",
    "            dock_list.append([u,i, resp])\n",
    "        \n",
    "    array_li+=dock_list\n",
    "    return np.array(array_li)"
   ]
  },
  {
   "cell_type": "code",
   "execution_count": 3,
   "metadata": {},
   "outputs": [
    {
     "name": "stdout",
     "output_type": "stream",
     "text": [
      "Extended df size: (3300, 3)\n"
     ]
    }
   ],
   "source": [
    "df_cols = ['user','questions', 'response']\n",
    "\n",
    "c_probs= pd.read_csv('simulated_data_c_probs.csv')\n",
    "df_mat = add_data(c_probs.values, trials_per_user=10)\n",
    "df_sim = pd.DataFrame(df_mat, columns=df_cols)\n",
    "print('Extended df size:', df_sim.shape)"
   ]
  },
  {
   "cell_type": "code",
   "execution_count": 4,
   "metadata": {
    "scrolled": false
   },
   "outputs": [
    {
     "data": {
      "text/html": [
       "<div>\n",
       "<style scoped>\n",
       "    .dataframe tbody tr th:only-of-type {\n",
       "        vertical-align: middle;\n",
       "    }\n",
       "\n",
       "    .dataframe tbody tr th {\n",
       "        vertical-align: top;\n",
       "    }\n",
       "\n",
       "    .dataframe thead th {\n",
       "        text-align: right;\n",
       "    }\n",
       "</style>\n",
       "<table border=\"1\" class=\"dataframe\">\n",
       "  <thead>\n",
       "    <tr style=\"text-align: right;\">\n",
       "      <th></th>\n",
       "      <th>user</th>\n",
       "      <th>questions</th>\n",
       "      <th>response</th>\n",
       "    </tr>\n",
       "  </thead>\n",
       "  <tbody>\n",
       "    <tr>\n",
       "      <td>0</td>\n",
       "      <td>92.0</td>\n",
       "      <td>0.0</td>\n",
       "      <td>1</td>\n",
       "    </tr>\n",
       "    <tr>\n",
       "      <td>1</td>\n",
       "      <td>86.0</td>\n",
       "      <td>2.0</td>\n",
       "      <td>1</td>\n",
       "    </tr>\n",
       "    <tr>\n",
       "      <td>2</td>\n",
       "      <td>57.0</td>\n",
       "      <td>1.0</td>\n",
       "      <td>1</td>\n",
       "    </tr>\n",
       "  </tbody>\n",
       "</table>\n",
       "</div>"
      ],
      "text/plain": [
       "   user  questions  response\n",
       "0  92.0        0.0         1\n",
       "1  86.0        2.0         1\n",
       "2  57.0        1.0         1"
      ]
     },
     "execution_count": 4,
     "metadata": {},
     "output_type": "execute_result"
    }
   ],
   "source": [
    "df_sim['response']=df_sim['response'].apply(lambda x: int(np.round(x)))\n",
    "df_sim.head(3)"
   ]
  },
  {
   "cell_type": "markdown",
   "metadata": {},
   "source": [
    "### Defining a GLM class for two parameterization schemes for 3PL keras models which are as:\n",
    "**Scheme 1.** `P{i=1,j} = c_j+ (1- c_j)*Sigmoid[a_j*(t_i - b_j)]`\n",
    "        * P(i,j) = Prob of i-th student, correctly scoring on j-th\n",
    "          item.\n",
    "        * t_i= Degree of latent trait of i-th student\n",
    "        * b_j= difficulty_level of j-th question\n",
    "        * a_j= discrimination parameter of j-th question\n",
    "        * c_j= pseudo guessing parameter of j-th question\n",
    "    \n",
    "**Scheme 2.** `P{i=1,j} = c_j+ (1- c_j)*Sigmoid[alpha_j + lamda_j*t_i]`\n",
    "        * P(i,j) = Prob of i-th student, correctly scoring on j-th\n",
    "          item.\n",
    "        * t_i= Degree of latent trait of i-th student\n",
    "        * b_j= difficulty_level of j-th question\n",
    "        * `lamda_j / a_j`= discrimination parameter of j-th question\n",
    "        * alpha_j= -lam_j*b_j.\n",
    "        * c_j = pseudo guessing parameter of j-th question\n",
    "\n",
    "        \n",
    "\n"
   ]
  },
  {
   "cell_type": "markdown",
   "metadata": {},
   "source": [
    "### Now using  dataset  from above, train a keras 1/2/3PL proxy models model using an mlsquare adapter class."
   ]
  },
  {
   "cell_type": "code",
   "execution_count": 5,
   "metadata": {},
   "outputs": [
    {
     "name": "stderr",
     "output_type": "stream",
     "text": [
      "Using TensorFlow backend.\n",
      "/home/kev/Desktop/pyvirtual2/lib/python3.6/site-packages/tensorflow/python/framework/dtypes.py:526: FutureWarning: Passing (type, 1) or '1type' as a synonym of type is deprecated; in a future version of numpy, it will be understood as (type, (1,)) / '(1,)type'.\n",
      "  _np_qint8 = np.dtype([(\"qint8\", np.int8, 1)])\n",
      "/home/kev/Desktop/pyvirtual2/lib/python3.6/site-packages/tensorflow/python/framework/dtypes.py:527: FutureWarning: Passing (type, 1) or '1type' as a synonym of type is deprecated; in a future version of numpy, it will be understood as (type, (1,)) / '(1,)type'.\n",
      "  _np_quint8 = np.dtype([(\"quint8\", np.uint8, 1)])\n",
      "/home/kev/Desktop/pyvirtual2/lib/python3.6/site-packages/tensorflow/python/framework/dtypes.py:528: FutureWarning: Passing (type, 1) or '1type' as a synonym of type is deprecated; in a future version of numpy, it will be understood as (type, (1,)) / '(1,)type'.\n",
      "  _np_qint16 = np.dtype([(\"qint16\", np.int16, 1)])\n",
      "/home/kev/Desktop/pyvirtual2/lib/python3.6/site-packages/tensorflow/python/framework/dtypes.py:529: FutureWarning: Passing (type, 1) or '1type' as a synonym of type is deprecated; in a future version of numpy, it will be understood as (type, (1,)) / '(1,)type'.\n",
      "  _np_quint16 = np.dtype([(\"quint16\", np.uint16, 1)])\n",
      "/home/kev/Desktop/pyvirtual2/lib/python3.6/site-packages/tensorflow/python/framework/dtypes.py:530: FutureWarning: Passing (type, 1) or '1type' as a synonym of type is deprecated; in a future version of numpy, it will be understood as (type, (1,)) / '(1,)type'.\n",
      "  _np_qint32 = np.dtype([(\"qint32\", np.int32, 1)])\n",
      "/home/kev/Desktop/pyvirtual2/lib/python3.6/site-packages/tensorflow/python/framework/dtypes.py:535: FutureWarning: Passing (type, 1) or '1type' as a synonym of type is deprecated; in a future version of numpy, it will be understood as (type, (1,)) / '(1,)type'.\n",
      "  np_resource = np.dtype([(\"resource\", np.ubyte, 1)])\n"
     ]
    },
    {
     "name": "stdout",
     "output_type": "stream",
     "text": [
      "shape of simulated x_train_user: (3135, 100) \n",
      "shape of simulated  x_train_questions: (3135, 3) \n",
      "shape of simulated  y_train: (3135,)\n"
     ]
    }
   ],
   "source": [
    "from keras.utils import to_categorical\n",
    "from sklearn.model_selection import train_test_split\n",
    "\n",
    "xtrain, xtest, ytrain, ytest = train_test_split(df_sim[df_cols[:-1]], df_sim[df_cols[-1]], test_size=0.05)\n",
    "\n",
    "x_train_user = to_categorical(xtrain['user'], num_classes=num_sim_users)#contains the one-hot encoded user data\n",
    "x_train_questions = pd.get_dummies(xtrain['questions']).values#contains the one-hot encoded questions\n",
    "\n",
    "y_train= ytrain.values\n",
    "print('shape of simulated x_train_user:', x_train_user.shape,'\\nshape of simulated  x_train_questions:', x_train_questions.shape,\n",
    "      '\\nshape of simulated  y_train:',y_train.shape)"
   ]
  },
  {
   "cell_type": "markdown",
   "metadata": {},
   "source": [
    "#### Loading proxy IRT models & adapter from mlsquare registry"
   ]
  },
  {
   "cell_type": "code",
   "execution_count": 6,
   "metadata": {},
   "outputs": [
    {
     "name": "stderr",
     "output_type": "stream",
     "text": [
      "2020-01-02 20:52:37,584\tINFO node.py:423 -- Process STDOUT and STDERR is being redirected to /tmp/ray/session_2020-01-02_20-52-37_10485/logs.\n",
      "2020-01-02 20:52:37,695\tINFO services.py:363 -- Waiting for redis server at 127.0.0.1:52700 to respond...\n",
      "2020-01-02 20:52:37,834\tINFO services.py:363 -- Waiting for redis server at 127.0.0.1:57745 to respond...\n",
      "2020-01-02 20:52:37,842\tINFO services.py:760 -- Starting Redis shard with 20.0 GB max memory.\n",
      "2020-01-02 20:52:37,888\tINFO services.py:1384 -- Starting the Plasma object store with 1.0 GB memory using /dev/shm.\n"
     ]
    },
    {
     "data": {
      "text/plain": [
       "{('embibe',\n",
       "  'irt'): {'1PL': [<mlsquare.architectures.sklearn.KerasIrt1PLModel at 0x7f60e2413b00>,\n",
       "   mlsquare.adapters.sklearn.IrtKerasRegressor], '2PL': [<mlsquare.architectures.sklearn.KerasIrt2PLModel at 0x7f60fde72a20>,\n",
       "   mlsquare.adapters.sklearn.IrtKerasRegressor], '3PL': [<mlsquare.architectures.sklearn.KerasIrt3PLModel at 0x7f60fde72be0>,\n",
       "   mlsquare.adapters.sklearn.IrtKerasRegressor]},\n",
       " ('sklearn',\n",
       "  'TruncatedSVD'): {'default': [<mlsquare.architectures.sklearn.SVD at 0x7f60fde810f0>,\n",
       "   mlsquare.adapters.sklearn.SklearnTfTransformer]},\n",
       " ('sklearn',\n",
       "  'LogisticRegression'): {'default': [<mlsquare.architectures.sklearn.LogisticRegression at 0x7f60fde815c0>,\n",
       "   mlsquare.adapters.sklearn.SklearnKerasClassifier]},\n",
       " ('sklearn',\n",
       "  'LinearRegression'): {'default': [<mlsquare.architectures.sklearn.LinearRegression at 0x7f60fde81780>,\n",
       "   mlsquare.adapters.sklearn.SklearnKerasRegressor]},\n",
       " ('sklearn',\n",
       "  'Ridge'): {'default': [<mlsquare.architectures.sklearn.Ridge at 0x7f60fde81940>,\n",
       "   mlsquare.adapters.sklearn.SklearnKerasRegressor]},\n",
       " ('sklearn',\n",
       "  'Lasso'): {'default': [<mlsquare.architectures.sklearn.Lasso at 0x7f60fde81b00>,\n",
       "   mlsquare.adapters.sklearn.SklearnKerasRegressor]},\n",
       " ('sklearn',\n",
       "  'ElasticNet'): {'default': [<mlsquare.architectures.sklearn.ElasticNet at 0x7f60fde81cc0>,\n",
       "   mlsquare.adapters.sklearn.SklearnKerasRegressor]},\n",
       " ('sklearn',\n",
       "  'LinearSVC'): {'default': [<mlsquare.architectures.sklearn.LinearSVC at 0x7f60fde81e80>,\n",
       "   mlsquare.adapters.sklearn.SklearnKerasClassifier]},\n",
       " ('sklearn',\n",
       "  'SVC'): {'default': [<mlsquare.architectures.sklearn.SVC at 0x7f60fdbbe1d0>,\n",
       "   mlsquare.adapters.sklearn.SklearnKerasClassifier]},\n",
       " ('sklearn',\n",
       "  'DecisionTreeClassifier'): {'default': [<mlsquare.architectures.sklearn.DecisionTreeClassifier at 0x7f60fdbbe518>,\n",
       "   mlsquare.adapters.sklearn.SklearnKerasClassifier]}}"
      ]
     },
     "execution_count": 6,
     "metadata": {},
     "output_type": "execute_result"
    }
   ],
   "source": [
    "from mlsquare import registry\n",
    "reg= registry.data\n",
    "reg"
   ]
  },
  {
   "cell_type": "markdown",
   "metadata": {},
   "source": [
    "* **Instantiating 3PL proxy model class & performing a fit**\n",
    "    * For scheme 2"
   ]
  },
  {
   "cell_type": "code",
   "execution_count": 7,
   "metadata": {},
   "outputs": [
    {
     "data": {
      "text/plain": [
       "{'l1': 0,\n",
       " 'l2': 0.01,\n",
       " 'disc_stddev': 1.0,\n",
       " 'guess_minval': -3.5,\n",
       " 'guess_maxval': -2.5,\n",
       " 'train_guess': True,\n",
       " 'train_disc': True,\n",
       " 'guess_act': 'sigmoid',\n",
       " 'units': 1,\n",
       " 'activation': 'sigmoid',\n",
       " 'optimizer': 'sgd',\n",
       " 'loss': 'binary_crossentropy'}"
      ]
     },
     "execution_count": 7,
     "metadata": {},
     "output_type": "execute_result"
    }
   ],
   "source": [
    "proxy, adap = reg[('embibe','irt')]['3PL']\n",
    "proxy.get_params()"
   ]
  },
  {
   "cell_type": "code",
   "execution_count": 8,
   "metadata": {},
   "outputs": [
    {
     "name": "stdout",
     "output_type": "stream",
     "text": [
      "\n",
      "Intitializing fit for scheme 2. . .\n",
      "Batch_size: 64; epochs: 512;\n",
      "WARNING:tensorflow:From /home/kev/Desktop/pyvirtual2/lib/python3.6/site-packages/tensorflow/python/ops/resource_variable_ops.py:435: colocate_with (from tensorflow.python.framework.ops) is deprecated and will be removed in a future version.\n",
      "Instructions for updating:\n",
      "Colocations handled automatically by placer.\n",
      "WARNING:tensorflow:From /home/kev/Desktop/pyvirtual2/lib/python3.6/site-packages/tensorflow/python/ops/math_ops.py:3066: to_int32 (from tensorflow.python.ops.math_ops) is deprecated and will be removed in a future version.\n",
      "Instructions for updating:\n",
      "Use tf.cast instead.\n",
      "\n",
      "Training on : 3135 samples for : 512 epochs has completed in : 15.358 seconds.\n",
      "\n",
      "Use object.plot() to view train/validation loss curves;\n",
      "Use `object.history` to obtain train/validation loss across all the epochs.\n",
      "Use `object.coefficients()` to obtain model parameters--difficulty, discrimination & guessing\n"
     ]
    },
    {
     "data": {
      "text/plain": [
       "<mlsquare.adapters.sklearn.IrtKerasRegressor at 0x7f60fdbbe978>"
      ]
     },
     "execution_count": 8,
     "metadata": {},
     "output_type": "execute_result"
    }
   ],
   "source": [
    "mod3PL = adap(proxy_model=proxy, primal_model='abc')#adapt object\n",
    "mod3PL.fit(x_user=x_train_user,x_questions=x_train_questions,\n",
    "          y_vals=y_train, batch_size=64, epochs=512)"
   ]
  },
  {
   "cell_type": "code",
   "execution_count": 9,
   "metadata": {},
   "outputs": [
    {
     "name": "stdout",
     "output_type": "stream",
     "text": [
      "Model: \"model_1\"\n",
      "__________________________________________________________________________________________________\n",
      "Layer (type)                    Output Shape         Param #     Connected to                     \n",
      "==================================================================================================\n",
      "questions/items (InputLayer)    (None, 3)            0                                            \n",
      "__________________________________________________________________________________________________\n",
      "user_id (InputLayer)            (None, 100)          0                                            \n",
      "__________________________________________________________________________________________________\n",
      "disc_param (Dense)              (None, 1)            3           questions/items[0][0]            \n",
      "__________________________________________________________________________________________________\n",
      "latent_trait (Dense)            (None, 1)            100         user_id[0][0]                    \n",
      "__________________________________________________________________________________________________\n",
      "difficulty_level (Dense)        (None, 1)            3           questions/items[0][0]            \n",
      "__________________________________________________________________________________________________\n",
      "lambda_latent_inter. (Multiply) (None, 1)            0           disc_param[0][0]                 \n",
      "                                                                 latent_trait[0][0]               \n",
      "__________________________________________________________________________________________________\n",
      "alpha_param. (Multiply)         (None, 1)            0           disc_param[0][0]                 \n",
      "                                                                 difficulty_level[0][0]           \n",
      "__________________________________________________________________________________________________\n",
      "guessing_param (Dense)          (None, 1)            3           questions/items[0][0]            \n",
      "__________________________________________________________________________________________________\n",
      "alpha_lambda_add (Subtract)     (None, 1)            0           lambda_latent_inter.[0][0]       \n",
      "                                                                 alpha_param.[0][0]               \n",
      "__________________________________________________________________________________________________\n",
      "Sigmoid_func (Activation)       (None, 1)            0           alpha_lambda_add[0][0]           \n",
      "__________________________________________________________________________________________________\n",
      "guess_param_inter. (Lambda)     (None, 1)            0           guessing_param[0][0]             \n",
      "__________________________________________________________________________________________________\n",
      "disc/guess_param_inter. (Multip (None, 1)            0           Sigmoid_func[0][0]               \n",
      "                                                                 guess_param_inter.[0][0]         \n",
      "__________________________________________________________________________________________________\n",
      "guess_param_inter/add (Add)     (None, 1)            0           guessing_param[0][0]             \n",
      "                                                                 disc/guess_param_inter.[0][0]    \n",
      "__________________________________________________________________________________________________\n",
      "prediction_layer (Dense)        (None, 1)            1           guess_param_inter/add[0][0]      \n",
      "==================================================================================================\n",
      "Total params: 110\n",
      "Trainable params: 109\n",
      "Non-trainable params: 1\n",
      "__________________________________________________________________________________________________\n"
     ]
    }
   ],
   "source": [
    "mod3PL.model.summary()"
   ]
  },
  {
   "cell_type": "markdown",
   "metadata": {},
   "source": [
    "### Obtaining underlying trained 3pl parameters from doped model"
   ]
  },
  {
   "cell_type": "code",
   "execution_count": 10,
   "metadata": {},
   "outputs": [
    {
     "data": {
      "text/plain": [
       "{'difficulty_level': array([[-0.9464835 ],\n",
       "        [ 0.52767533],\n",
       "        [ 0.91133845]], dtype=float32), 'disc_param': array([[0.2831977 ],\n",
       "        [0.12850317],\n",
       "        [0.43942088]], dtype=float32), 'guessing_param': array([[0.0682517 ],\n",
       "        [0.03993272],\n",
       "        [0.03031703]], dtype=float32)}"
      ]
     },
     "execution_count": 10,
     "metadata": {},
     "output_type": "execute_result"
    }
   ],
   "source": [
    "mod3PL.coefficients()"
   ]
  },
  {
   "cell_type": "markdown",
   "metadata": {},
   "source": [
    "* **Train Vs. Validation loss curves for simulated dataset**"
   ]
  },
  {
   "cell_type": "code",
   "execution_count": 11,
   "metadata": {},
   "outputs": [
    {
     "data": {
      "image/png": "[encoded data removed]",
      "text/plain": [
       "<Figure size 432x288 with 1 Axes>"
      ]
     },
     "metadata": {
      "needs_background": "light"
     },
     "output_type": "display_data"
    }
   ],
   "source": [
    "mod3PL.plot()"
   ]
  },
  {
   "cell_type": "code",
   "execution_count": null,
   "metadata": {},
   "outputs": [],
   "source": []
  },
  {
   "cell_type": "markdown",
   "metadata": {},
   "source": [
    "* **Instantiating 1PL proxy model class & performing a fit**\n",
    "    * For scheme 2"
   ]
  },
  {
   "cell_type": "code",
   "execution_count": 12,
   "metadata": {},
   "outputs": [
    {
     "name": "stdout",
     "output_type": "stream",
     "text": [
      "proxy <mlsquare.architectures.sklearn.KerasIrt1PLModel object at 0x7f60e2413b00>\n"
     ]
    }
   ],
   "source": [
    "proxy1PL, adap = reg[('embibe','irt')]['1PL']\n",
    "print('proxy', proxy1PL)"
   ]
  },
  {
   "cell_type": "code",
   "execution_count": 13,
   "metadata": {},
   "outputs": [
    {
     "data": {
      "text/plain": [
       "{'l1': 0,\n",
       " 'l2': 0,\n",
       " 'disc_stddev': 0,\n",
       " 'guess_minval': 0,\n",
       " 'guess_maxval': 0,\n",
       " 'train_guess': False,\n",
       " 'train_disc': False,\n",
       " 'guess_act': 'linear',\n",
       " 'units': 1,\n",
       " 'activation': 'sigmoid',\n",
       " 'optimizer': 'sgd',\n",
       " 'loss': 'binary_crossentropy'}"
      ]
     },
     "execution_count": 13,
     "metadata": {},
     "output_type": "execute_result"
    }
   ],
   "source": [
    "proxy1PL.get_params()"
   ]
  },
  {
   "cell_type": "code",
   "execution_count": 14,
   "metadata": {},
   "outputs": [
    {
     "name": "stdout",
     "output_type": "stream",
     "text": [
      "\n",
      "Intitializing fit for scheme 2. . .\n",
      "Batch_size: 64; epochs: 512;\n",
      "\n",
      "Training on : 3135 samples for : 512 epochs has completed in : 14.169 seconds.\n",
      "\n",
      "Use object.plot() to view train/validation loss curves;\n",
      "Use `object.history` to obtain train/validation loss across all the epochs.\n",
      "Use `object.coefficients()` to obtain model parameters--difficulty, discrimination & guessing\n"
     ]
    },
    {
     "data": {
      "text/plain": [
       "<mlsquare.adapters.sklearn.IrtKerasRegressor at 0x7f60dc17f208>"
      ]
     },
     "execution_count": 14,
     "metadata": {},
     "output_type": "execute_result"
    }
   ],
   "source": [
    "mod1PL = adap(proxy_model=proxy1PL, primal_model='abc')#1PL adapt object\n",
    "mod1PL.fit(x_user=x_train_user,x_questions=x_train_questions,\n",
    "          y_vals=y_train, batch_size=64, epochs=512)"
   ]
  },
  {
   "cell_type": "code",
   "execution_count": 15,
   "metadata": {},
   "outputs": [
    {
     "name": "stdout",
     "output_type": "stream",
     "text": [
      "Model: \"model_2\"\n",
      "__________________________________________________________________________________________________\n",
      "Layer (type)                    Output Shape         Param #     Connected to                     \n",
      "==================================================================================================\n",
      "questions/items (InputLayer)    (None, 3)            0                                            \n",
      "__________________________________________________________________________________________________\n",
      "user_id (InputLayer)            (None, 100)          0                                            \n",
      "__________________________________________________________________________________________________\n",
      "disc_param (Dense)              (None, 1)            3           questions/items[0][0]            \n",
      "__________________________________________________________________________________________________\n",
      "latent_trait (Dense)            (None, 1)            100         user_id[0][0]                    \n",
      "__________________________________________________________________________________________________\n",
      "difficulty_level (Dense)        (None, 1)            3           questions/items[0][0]            \n",
      "__________________________________________________________________________________________________\n",
      "lambda_latent_inter. (Multiply) (None, 1)            0           disc_param[0][0]                 \n",
      "                                                                 latent_trait[0][0]               \n",
      "__________________________________________________________________________________________________\n",
      "alpha_param. (Multiply)         (None, 1)            0           disc_param[0][0]                 \n",
      "                                                                 difficulty_level[0][0]           \n",
      "__________________________________________________________________________________________________\n",
      "guessing_param (Dense)          (None, 1)            3           questions/items[0][0]            \n",
      "__________________________________________________________________________________________________\n",
      "alpha_lambda_add (Subtract)     (None, 1)            0           lambda_latent_inter.[0][0]       \n",
      "                                                                 alpha_param.[0][0]               \n",
      "__________________________________________________________________________________________________\n",
      "Sigmoid_func (Activation)       (None, 1)            0           alpha_lambda_add[0][0]           \n",
      "__________________________________________________________________________________________________\n",
      "guess_param_inter. (Lambda)     (None, 1)            0           guessing_param[0][0]             \n",
      "__________________________________________________________________________________________________\n",
      "disc/guess_param_inter. (Multip (None, 1)            0           Sigmoid_func[0][0]               \n",
      "                                                                 guess_param_inter.[0][0]         \n",
      "__________________________________________________________________________________________________\n",
      "guess_param_inter/add (Add)     (None, 1)            0           guessing_param[0][0]             \n",
      "                                                                 disc/guess_param_inter.[0][0]    \n",
      "__________________________________________________________________________________________________\n",
      "prediction_layer (Dense)        (None, 1)            1           guess_param_inter/add[0][0]      \n",
      "==================================================================================================\n",
      "Total params: 110\n",
      "Trainable params: 103\n",
      "Non-trainable params: 7\n",
      "__________________________________________________________________________________________________\n"
     ]
    }
   ],
   "source": [
    "mod1PL.model.summary()"
   ]
  },
  {
   "cell_type": "markdown",
   "metadata": {},
   "source": [
    "* **Train Vs. Validation loss curves for simulated dataset**"
   ]
  },
  {
   "cell_type": "code",
   "execution_count": 16,
   "metadata": {},
   "outputs": [
    {
     "data": {
      "image/png": "[encoded data removed]",
      "text/plain": [
       "<Figure size 432x288 with 1 Axes>"
      ]
     },
     "metadata": {
      "needs_background": "light"
     },
     "output_type": "display_data"
    }
   ],
   "source": [
    "mod1PL.plot()"
   ]
  },
  {
   "cell_type": "markdown",
   "metadata": {},
   "source": [
    "### Obtaining underlying trained 1pl parameters from doped model"
   ]
  },
  {
   "cell_type": "code",
   "execution_count": 17,
   "metadata": {},
   "outputs": [
    {
     "data": {
      "text/plain": [
       "{'difficulty_level': array([[-0.64462066],\n",
       "        [ 0.04319356],\n",
       "        [ 0.4156464 ]], dtype=float32), 'disc_param': array([[1.],\n",
       "        [1.],\n",
       "        [1.]], dtype=float32), 'guessing_param': array([[0.],\n",
       "        [0.],\n",
       "        [0.]], dtype=float32)}"
      ]
     },
     "execution_count": 17,
     "metadata": {},
     "output_type": "execute_result"
    }
   ],
   "source": [
    "mod1PL.coefficients()"
   ]
  },
  {
   "cell_type": "code",
   "execution_count": null,
   "metadata": {},
   "outputs": [],
   "source": []
  },
  {
   "cell_type": "markdown",
   "metadata": {},
   "source": [
    "* **Instantiating 2PL proxy model class & performing a fit**\n",
    "    * For scheme 2"
   ]
  },
  {
   "cell_type": "code",
   "execution_count": 20,
   "metadata": {},
   "outputs": [
    {
     "name": "stdout",
     "output_type": "stream",
     "text": [
      "proxy <mlsquare.architectures.sklearn.KerasIrt2PLModel object at 0x7f60fde72a20>\n"
     ]
    }
   ],
   "source": [
    "proxy2PL, adap = reg[('embibe','irt')]['2PL']\n",
    "print('proxy', proxy2PL)"
   ]
  },
  {
   "cell_type": "code",
   "execution_count": 21,
   "metadata": {},
   "outputs": [
    {
     "data": {
      "text/plain": [
       "{'l1': 0,\n",
       " 'l2': 0.01,\n",
       " 'disc_stddev': 1.0,\n",
       " 'guess_minval': 0,\n",
       " 'guess_maxval': 0,\n",
       " 'train_guess': False,\n",
       " 'train_disc': True,\n",
       " 'guess_act': 'linear',\n",
       " 'units': 1,\n",
       " 'activation': 'sigmoid',\n",
       " 'optimizer': 'sgd',\n",
       " 'loss': 'binary_crossentropy'}"
      ]
     },
     "execution_count": 21,
     "metadata": {},
     "output_type": "execute_result"
    }
   ],
   "source": [
    "proxy2PL.get_params()"
   ]
  },
  {
   "cell_type": "code",
   "execution_count": 22,
   "metadata": {},
   "outputs": [
    {
     "name": "stdout",
     "output_type": "stream",
     "text": [
      "\n",
      "Intitializing fit for scheme 2. . .\n",
      "Batch_size: 64; epochs: 512;\n",
      "\n",
      "Training on : 3135 samples for : 512 epochs has completed in : 14.505 seconds.\n",
      "\n",
      "Use object.plot() to view train/validation loss curves;\n",
      "Use `object.history` to obtain train/validation loss across all the epochs.\n",
      "Use `object.coefficients()` to obtain model parameters--difficulty, discrimination & guessing\n"
     ]
    },
    {
     "data": {
      "text/plain": [
       "<mlsquare.adapters.sklearn.IrtKerasRegressor at 0x7f609450ba20>"
      ]
     },
     "execution_count": 22,
     "metadata": {},
     "output_type": "execute_result"
    }
   ],
   "source": [
    "mod2PL = adap(proxy_model=proxy2PL, primal_model='abc')#2PL adapt object\n",
    "mod2PL.fit(x_user=x_train_user,x_questions=x_train_questions,\n",
    "          y_vals=y_train, batch_size=64, epochs=512)"
   ]
  },
  {
   "cell_type": "code",
   "execution_count": 23,
   "metadata": {},
   "outputs": [
    {
     "name": "stdout",
     "output_type": "stream",
     "text": [
      "Model: \"model_3\"\n",
      "__________________________________________________________________________________________________\n",
      "Layer (type)                    Output Shape         Param #     Connected to                     \n",
      "==================================================================================================\n",
      "questions/items (InputLayer)    (None, 3)            0                                            \n",
      "__________________________________________________________________________________________________\n",
      "user_id (InputLayer)            (None, 100)          0                                            \n",
      "__________________________________________________________________________________________________\n",
      "disc_param (Dense)              (None, 1)            3           questions/items[0][0]            \n",
      "__________________________________________________________________________________________________\n",
      "latent_trait (Dense)            (None, 1)            100         user_id[0][0]                    \n",
      "__________________________________________________________________________________________________\n",
      "difficulty_level (Dense)        (None, 1)            3           questions/items[0][0]            \n",
      "__________________________________________________________________________________________________\n",
      "lambda_latent_inter. (Multiply) (None, 1)            0           disc_param[0][0]                 \n",
      "                                                                 latent_trait[0][0]               \n",
      "__________________________________________________________________________________________________\n",
      "alpha_param. (Multiply)         (None, 1)            0           disc_param[0][0]                 \n",
      "                                                                 difficulty_level[0][0]           \n",
      "__________________________________________________________________________________________________\n",
      "guessing_param (Dense)          (None, 1)            3           questions/items[0][0]            \n",
      "__________________________________________________________________________________________________\n",
      "alpha_lambda_add (Subtract)     (None, 1)            0           lambda_latent_inter.[0][0]       \n",
      "                                                                 alpha_param.[0][0]               \n",
      "__________________________________________________________________________________________________\n",
      "Sigmoid_func (Activation)       (None, 1)            0           alpha_lambda_add[0][0]           \n",
      "__________________________________________________________________________________________________\n",
      "guess_param_inter. (Lambda)     (None, 1)            0           guessing_param[0][0]             \n",
      "__________________________________________________________________________________________________\n",
      "disc/guess_param_inter. (Multip (None, 1)            0           Sigmoid_func[0][0]               \n",
      "                                                                 guess_param_inter.[0][0]         \n",
      "__________________________________________________________________________________________________\n",
      "guess_param_inter/add (Add)     (None, 1)            0           guessing_param[0][0]             \n",
      "                                                                 disc/guess_param_inter.[0][0]    \n",
      "__________________________________________________________________________________________________\n",
      "prediction_layer (Dense)        (None, 1)            1           guess_param_inter/add[0][0]      \n",
      "==================================================================================================\n",
      "Total params: 110\n",
      "Trainable params: 106\n",
      "Non-trainable params: 4\n",
      "__________________________________________________________________________________________________\n"
     ]
    }
   ],
   "source": [
    "mod2PL.model.summary()"
   ]
  },
  {
   "cell_type": "markdown",
   "metadata": {},
   "source": [
    "* **Train Vs. Validation loss curves for simulated dataset**"
   ]
  },
  {
   "cell_type": "code",
   "execution_count": 24,
   "metadata": {},
   "outputs": [
    {
     "data": {
      "image/png": "[encoded data removed]",
      "text/plain": [
       "<Figure size 432x288 with 1 Axes>"
      ]
     },
     "metadata": {
      "needs_background": "light"
     },
     "output_type": "display_data"
    }
   ],
   "source": [
    "mod2PL.plot()"
   ]
  },
  {
   "cell_type": "markdown",
   "metadata": {},
   "source": [
    "### Obtaining underlying trained 2pl parameters from doped model"
   ]
  },
  {
   "cell_type": "code",
   "execution_count": 25,
   "metadata": {},
   "outputs": [
    {
     "data": {
      "text/plain": [
       "{'difficulty_level': array([[-0.4051965 ],\n",
       "        [ 0.05209438],\n",
       "        [ 0.4704628 ]], dtype=float32), 'disc_param': array([[0.9952554 ],\n",
       "        [1.4493258 ],\n",
       "        [0.20508881]], dtype=float32), 'guessing_param': array([[0.],\n",
       "        [0.],\n",
       "        [0.]], dtype=float32)}"
      ]
     },
     "execution_count": 25,
     "metadata": {},
     "output_type": "execute_result"
    }
   ],
   "source": [
    "mod2PL.coefficients()"
   ]
  },
  {
   "cell_type": "code",
   "execution_count": null,
   "metadata": {},
   "outputs": [],
   "source": []
  }
 ],
 "metadata": {
  "kernelspec": {
   "display_name": "Python 3",
   "language": "python",
   "name": "python3"
  },
  "language_info": {
   "codemirror_mode": {
    "name": "ipython",
    "version": 3
   },
   "file_extension": ".py",
   "mimetype": "text/x-python",
   "name": "python",
   "nbconvert_exporter": "python",
   "pygments_lexer": "ipython3",
   "version": "3.6.8"
  }
 },
 "nbformat": 4,
 "nbformat_minor": 2
}
