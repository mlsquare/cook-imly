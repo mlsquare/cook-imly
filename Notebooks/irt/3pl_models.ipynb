{
 "cells": [
  {
   "cell_type": "code",
   "execution_count": 1,
   "metadata": {
    "scrolled": true
   },
   "outputs": [
    {
     "data": {
      "text/html": [
       "<div>\n",
       "<style scoped>\n",
       "    .dataframe tbody tr th:only-of-type {\n",
       "        vertical-align: middle;\n",
       "    }\n",
       "\n",
       "    .dataframe tbody tr th {\n",
       "        vertical-align: top;\n",
       "    }\n",
       "\n",
       "    .dataframe thead th {\n",
       "        text-align: right;\n",
       "    }\n",
       "</style>\n",
       "<table border=\"1\" class=\"dataframe\">\n",
       "  <thead>\n",
       "    <tr style=\"text-align: right;\">\n",
       "      <th></th>\n",
       "      <th>Q1</th>\n",
       "      <th>Q2</th>\n",
       "      <th>Q3</th>\n",
       "      <th>Q4</th>\n",
       "      <th>Q5</th>\n",
       "      <th>Q6</th>\n",
       "      <th>Q7</th>\n",
       "      <th>Q8</th>\n",
       "      <th>Q9</th>\n",
       "      <th>Q10</th>\n",
       "    </tr>\n",
       "  </thead>\n",
       "  <tbody>\n",
       "    <tr>\n",
       "      <td>NaN</td>\n",
       "      <td>0</td>\n",
       "      <td>1</td>\n",
       "      <td>1</td>\n",
       "      <td>1</td>\n",
       "      <td>1</td>\n",
       "      <td>1</td>\n",
       "      <td>1</td>\n",
       "      <td>1</td>\n",
       "      <td>1</td>\n",
       "      <td>0</td>\n",
       "    </tr>\n",
       "    <tr>\n",
       "      <td>NaN</td>\n",
       "      <td>0</td>\n",
       "      <td>1</td>\n",
       "      <td>0</td>\n",
       "      <td>0</td>\n",
       "      <td>1</td>\n",
       "      <td>0</td>\n",
       "      <td>1</td>\n",
       "      <td>0</td>\n",
       "      <td>0</td>\n",
       "      <td>0</td>\n",
       "    </tr>\n",
       "  </tbody>\n",
       "</table>\n",
       "</div>"
      ],
      "text/plain": [
       "     Q1  Q2  Q3  Q4  Q5  Q6  Q7  Q8  Q9  Q10\n",
       "NaN   0   1   1   1   1   1   1   1   1    0\n",
       "NaN   0   1   0   0   1   0   1   0   0    0"
      ]
     },
     "execution_count": 1,
     "metadata": {},
     "output_type": "execute_result"
    }
   ],
   "source": [
    "import pandas as pd\n",
    "import numpy as np\n",
    "\n",
    "cols= ['Q{}'.format(idx) for idx in range(1,11)]\n",
    "data= pd.read_csv('IRT//ouirt.dat', sep= ' ', names= cols)\n",
    "data.head(2)"
   ]
  },
  {
   "cell_type": "code",
   "execution_count": 2,
   "metadata": {},
   "outputs": [
    {
     "data": {
      "text/html": [
       "<div>\n",
       "<style scoped>\n",
       "    .dataframe tbody tr th:only-of-type {\n",
       "        vertical-align: middle;\n",
       "    }\n",
       "\n",
       "    .dataframe tbody tr th {\n",
       "        vertical-align: top;\n",
       "    }\n",
       "\n",
       "    .dataframe thead th {\n",
       "        text-align: right;\n",
       "    }\n",
       "</style>\n",
       "<table border=\"1\" class=\"dataframe\">\n",
       "  <thead>\n",
       "    <tr style=\"text-align: right;\">\n",
       "      <th></th>\n",
       "      <th>Q1</th>\n",
       "      <th>Q2</th>\n",
       "      <th>Q3</th>\n",
       "      <th>Q4</th>\n",
       "      <th>Q5</th>\n",
       "      <th>Q6</th>\n",
       "      <th>Q7</th>\n",
       "      <th>Q8</th>\n",
       "      <th>Q9</th>\n",
       "      <th>Q10</th>\n",
       "    </tr>\n",
       "  </thead>\n",
       "  <tbody>\n",
       "    <tr>\n",
       "      <td>count</td>\n",
       "      <td>500.000000</td>\n",
       "      <td>500.000000</td>\n",
       "      <td>500.000000</td>\n",
       "      <td>500.000000</td>\n",
       "      <td>500.000000</td>\n",
       "      <td>500.000000</td>\n",
       "      <td>500.000000</td>\n",
       "      <td>500.000000</td>\n",
       "      <td>500.000000</td>\n",
       "      <td>500.000000</td>\n",
       "    </tr>\n",
       "    <tr>\n",
       "      <td>mean</td>\n",
       "      <td>0.150000</td>\n",
       "      <td>0.268000</td>\n",
       "      <td>0.318000</td>\n",
       "      <td>0.296000</td>\n",
       "      <td>0.438000</td>\n",
       "      <td>0.314000</td>\n",
       "      <td>0.412000</td>\n",
       "      <td>0.334000</td>\n",
       "      <td>0.318000</td>\n",
       "      <td>0.070000</td>\n",
       "    </tr>\n",
       "    <tr>\n",
       "      <td>std</td>\n",
       "      <td>0.357429</td>\n",
       "      <td>0.443361</td>\n",
       "      <td>0.466166</td>\n",
       "      <td>0.456948</td>\n",
       "      <td>0.496638</td>\n",
       "      <td>0.464581</td>\n",
       "      <td>0.492688</td>\n",
       "      <td>0.472112</td>\n",
       "      <td>0.466166</td>\n",
       "      <td>0.255403</td>\n",
       "    </tr>\n",
       "    <tr>\n",
       "      <td>min</td>\n",
       "      <td>0.000000</td>\n",
       "      <td>0.000000</td>\n",
       "      <td>0.000000</td>\n",
       "      <td>0.000000</td>\n",
       "      <td>0.000000</td>\n",
       "      <td>0.000000</td>\n",
       "      <td>0.000000</td>\n",
       "      <td>0.000000</td>\n",
       "      <td>0.000000</td>\n",
       "      <td>0.000000</td>\n",
       "    </tr>\n",
       "    <tr>\n",
       "      <td>25%</td>\n",
       "      <td>0.000000</td>\n",
       "      <td>0.000000</td>\n",
       "      <td>0.000000</td>\n",
       "      <td>0.000000</td>\n",
       "      <td>0.000000</td>\n",
       "      <td>0.000000</td>\n",
       "      <td>0.000000</td>\n",
       "      <td>0.000000</td>\n",
       "      <td>0.000000</td>\n",
       "      <td>0.000000</td>\n",
       "    </tr>\n",
       "    <tr>\n",
       "      <td>50%</td>\n",
       "      <td>0.000000</td>\n",
       "      <td>0.000000</td>\n",
       "      <td>0.000000</td>\n",
       "      <td>0.000000</td>\n",
       "      <td>0.000000</td>\n",
       "      <td>0.000000</td>\n",
       "      <td>0.000000</td>\n",
       "      <td>0.000000</td>\n",
       "      <td>0.000000</td>\n",
       "      <td>0.000000</td>\n",
       "    </tr>\n",
       "    <tr>\n",
       "      <td>75%</td>\n",
       "      <td>0.000000</td>\n",
       "      <td>1.000000</td>\n",
       "      <td>1.000000</td>\n",
       "      <td>1.000000</td>\n",
       "      <td>1.000000</td>\n",
       "      <td>1.000000</td>\n",
       "      <td>1.000000</td>\n",
       "      <td>1.000000</td>\n",
       "      <td>1.000000</td>\n",
       "      <td>0.000000</td>\n",
       "    </tr>\n",
       "    <tr>\n",
       "      <td>max</td>\n",
       "      <td>1.000000</td>\n",
       "      <td>1.000000</td>\n",
       "      <td>1.000000</td>\n",
       "      <td>1.000000</td>\n",
       "      <td>1.000000</td>\n",
       "      <td>1.000000</td>\n",
       "      <td>1.000000</td>\n",
       "      <td>1.000000</td>\n",
       "      <td>1.000000</td>\n",
       "      <td>1.000000</td>\n",
       "    </tr>\n",
       "  </tbody>\n",
       "</table>\n",
       "</div>"
      ],
      "text/plain": [
       "               Q1          Q2          Q3          Q4          Q5          Q6  \\\n",
       "count  500.000000  500.000000  500.000000  500.000000  500.000000  500.000000   \n",
       "mean     0.150000    0.268000    0.318000    0.296000    0.438000    0.314000   \n",
       "std      0.357429    0.443361    0.466166    0.456948    0.496638    0.464581   \n",
       "min      0.000000    0.000000    0.000000    0.000000    0.000000    0.000000   \n",
       "25%      0.000000    0.000000    0.000000    0.000000    0.000000    0.000000   \n",
       "50%      0.000000    0.000000    0.000000    0.000000    0.000000    0.000000   \n",
       "75%      0.000000    1.000000    1.000000    1.000000    1.000000    1.000000   \n",
       "max      1.000000    1.000000    1.000000    1.000000    1.000000    1.000000   \n",
       "\n",
       "               Q7          Q8          Q9         Q10  \n",
       "count  500.000000  500.000000  500.000000  500.000000  \n",
       "mean     0.412000    0.334000    0.318000    0.070000  \n",
       "std      0.492688    0.472112    0.466166    0.255403  \n",
       "min      0.000000    0.000000    0.000000    0.000000  \n",
       "25%      0.000000    0.000000    0.000000    0.000000  \n",
       "50%      0.000000    0.000000    0.000000    0.000000  \n",
       "75%      1.000000    1.000000    1.000000    0.000000  \n",
       "max      1.000000    1.000000    1.000000    1.000000  "
      ]
     },
     "execution_count": 2,
     "metadata": {},
     "output_type": "execute_result"
    }
   ],
   "source": [
    "data= pd.DataFrame(data.values, columns=cols)\n",
    "data.describe()"
   ]
  },
  {
   "cell_type": "markdown",
   "metadata": {},
   "source": [
    "*  Truncating Question items to 3"
   ]
  },
  {
   "cell_type": "code",
   "execution_count": 3,
   "metadata": {
    "scrolled": true
   },
   "outputs": [
    {
     "data": {
      "text/html": [
       "<div>\n",
       "<style scoped>\n",
       "    .dataframe tbody tr th:only-of-type {\n",
       "        vertical-align: middle;\n",
       "    }\n",
       "\n",
       "    .dataframe tbody tr th {\n",
       "        vertical-align: top;\n",
       "    }\n",
       "\n",
       "    .dataframe thead th {\n",
       "        text-align: right;\n",
       "    }\n",
       "</style>\n",
       "<table border=\"1\" class=\"dataframe\">\n",
       "  <thead>\n",
       "    <tr style=\"text-align: right;\">\n",
       "      <th></th>\n",
       "      <th>Q1</th>\n",
       "      <th>Q2</th>\n",
       "      <th>Q3</th>\n",
       "    </tr>\n",
       "  </thead>\n",
       "  <tbody>\n",
       "    <tr>\n",
       "      <td>0</td>\n",
       "      <td>0</td>\n",
       "      <td>1</td>\n",
       "      <td>1</td>\n",
       "    </tr>\n",
       "    <tr>\n",
       "      <td>1</td>\n",
       "      <td>0</td>\n",
       "      <td>1</td>\n",
       "      <td>0</td>\n",
       "    </tr>\n",
       "    <tr>\n",
       "      <td>2</td>\n",
       "      <td>0</td>\n",
       "      <td>0</td>\n",
       "      <td>0</td>\n",
       "    </tr>\n",
       "  </tbody>\n",
       "</table>\n",
       "</div>"
      ],
      "text/plain": [
       "   Q1  Q2  Q3\n",
       "0   0   1   1\n",
       "1   0   1   0\n",
       "2   0   0   0"
      ]
     },
     "execution_count": 3,
     "metadata": {},
     "output_type": "execute_result"
    }
   ],
   "source": [
    "rel_items = cols[:3]#Q1,Q2,Q3\n",
    "df = data[rel_items]\n",
    "df.head(3)"
   ]
  },
  {
   "cell_type": "code",
   "execution_count": 4,
   "metadata": {},
   "outputs": [],
   "source": [
    "df_cols = ['user','questions', 'response']#final dataframe cols"
   ]
  },
  {
   "cell_type": "code",
   "execution_count": 5,
   "metadata": {},
   "outputs": [],
   "source": [
    "#pd.DataFrame({'user': list(range(df.shape[0]*3)), \n",
    "# 'questions':['Q1']*500+ ['Q2']*500+ ['Q3']*500,'response':pd.concat([df[feat_cols[0]],\n",
    "# df[feat_cols[1]], df[feat_cols[2]]]).values})"
   ]
  },
  {
   "cell_type": "code",
   "execution_count": 6,
   "metadata": {},
   "outputs": [],
   "source": [
    "from collections import defaultdict\n",
    "di = defaultdict(dict)\n",
    "for idx in rel_items:\n",
    "    di[idx].update(zip(range(df.shape[0]), df[idx].values))#makes format {'Q1':{user:responses,1:0,2:0,. . .,}}"
   ]
  },
  {
   "cell_type": "markdown",
   "metadata": {},
   "source": [
    "* Following dataframe contains-- user id, questions id, corresponding response value"
   ]
  },
  {
   "cell_type": "code",
   "execution_count": 7,
   "metadata": {},
   "outputs": [
    {
     "data": {
      "text/html": [
       "<div>\n",
       "<style scoped>\n",
       "    .dataframe tbody tr th:only-of-type {\n",
       "        vertical-align: middle;\n",
       "    }\n",
       "\n",
       "    .dataframe tbody tr th {\n",
       "        vertical-align: top;\n",
       "    }\n",
       "\n",
       "    .dataframe thead th {\n",
       "        text-align: right;\n",
       "    }\n",
       "</style>\n",
       "<table border=\"1\" class=\"dataframe\">\n",
       "  <thead>\n",
       "    <tr style=\"text-align: right;\">\n",
       "      <th></th>\n",
       "      <th>user</th>\n",
       "      <th>questions</th>\n",
       "      <th>response</th>\n",
       "    </tr>\n",
       "  </thead>\n",
       "  <tbody>\n",
       "    <tr>\n",
       "      <td>1432</td>\n",
       "      <td>432</td>\n",
       "      <td>Q3</td>\n",
       "      <td>0</td>\n",
       "    </tr>\n",
       "    <tr>\n",
       "      <td>863</td>\n",
       "      <td>363</td>\n",
       "      <td>Q2</td>\n",
       "      <td>0</td>\n",
       "    </tr>\n",
       "    <tr>\n",
       "      <td>42</td>\n",
       "      <td>42</td>\n",
       "      <td>Q1</td>\n",
       "      <td>0</td>\n",
       "    </tr>\n",
       "    <tr>\n",
       "      <td>940</td>\n",
       "      <td>440</td>\n",
       "      <td>Q2</td>\n",
       "      <td>0</td>\n",
       "    </tr>\n",
       "    <tr>\n",
       "      <td>211</td>\n",
       "      <td>211</td>\n",
       "      <td>Q1</td>\n",
       "      <td>0</td>\n",
       "    </tr>\n",
       "    <tr>\n",
       "      <td>...</td>\n",
       "      <td>...</td>\n",
       "      <td>...</td>\n",
       "      <td>...</td>\n",
       "    </tr>\n",
       "    <tr>\n",
       "      <td>289</td>\n",
       "      <td>289</td>\n",
       "      <td>Q1</td>\n",
       "      <td>0</td>\n",
       "    </tr>\n",
       "    <tr>\n",
       "      <td>427</td>\n",
       "      <td>427</td>\n",
       "      <td>Q1</td>\n",
       "      <td>0</td>\n",
       "    </tr>\n",
       "    <tr>\n",
       "      <td>1127</td>\n",
       "      <td>127</td>\n",
       "      <td>Q3</td>\n",
       "      <td>1</td>\n",
       "    </tr>\n",
       "    <tr>\n",
       "      <td>95</td>\n",
       "      <td>95</td>\n",
       "      <td>Q1</td>\n",
       "      <td>1</td>\n",
       "    </tr>\n",
       "    <tr>\n",
       "      <td>493</td>\n",
       "      <td>493</td>\n",
       "      <td>Q1</td>\n",
       "      <td>0</td>\n",
       "    </tr>\n",
       "  </tbody>\n",
       "</table>\n",
       "<p>1500 rows × 3 columns</p>\n",
       "</div>"
      ],
      "text/plain": [
       "      user questions  response\n",
       "1432   432        Q3         0\n",
       "863    363        Q2         0\n",
       "42      42        Q1         0\n",
       "940    440        Q2         0\n",
       "211    211        Q1         0\n",
       "...    ...       ...       ...\n",
       "289    289        Q1         0\n",
       "427    427        Q1         0\n",
       "1127   127        Q3         1\n",
       "95      95        Q1         1\n",
       "493    493        Q1         0\n",
       "\n",
       "[1500 rows x 3 columns]"
      ]
     },
     "execution_count": 7,
     "metadata": {},
     "output_type": "execute_result"
    }
   ],
   "source": [
    "df_list= list()\n",
    "for ques, user_resp in list(zip(di.keys(), di.values())):\n",
    "    df_list.append({'user':list(user_resp.keys()), 'questions':[ques]*df.shape[0], 'response':list(user_resp.values())})\n",
    "\n",
    "df1=pd.DataFrame(df_list[0])\n",
    "df2=pd.DataFrame(df_list[1])\n",
    "df3=pd.DataFrame(df_list[2])\n",
    "df_new= pd.concat([df1,df2,df3], ignore_index=True)\n",
    "df_new = df_new.loc[np.random.randint(0,1499, size=1500)]#shuffling data\n",
    "df_new"
   ]
  },
  {
   "cell_type": "markdown",
   "metadata": {},
   "source": [
    "### Defining Keras equivalent model"
   ]
  },
  {
   "cell_type": "code",
   "execution_count": 8,
   "metadata": {},
   "outputs": [
    {
     "name": "stderr",
     "output_type": "stream",
     "text": [
      "Using TensorFlow backend.\n",
      "/home/kev/Desktop/pyvirtual2/lib/python3.6/site-packages/tensorflow/python/framework/dtypes.py:526: FutureWarning: Passing (type, 1) or '1type' as a synonym of type is deprecated; in a future version of numpy, it will be understood as (type, (1,)) / '(1,)type'.\n",
      "  _np_qint8 = np.dtype([(\"qint8\", np.int8, 1)])\n",
      "/home/kev/Desktop/pyvirtual2/lib/python3.6/site-packages/tensorflow/python/framework/dtypes.py:527: FutureWarning: Passing (type, 1) or '1type' as a synonym of type is deprecated; in a future version of numpy, it will be understood as (type, (1,)) / '(1,)type'.\n",
      "  _np_quint8 = np.dtype([(\"quint8\", np.uint8, 1)])\n",
      "/home/kev/Desktop/pyvirtual2/lib/python3.6/site-packages/tensorflow/python/framework/dtypes.py:528: FutureWarning: Passing (type, 1) or '1type' as a synonym of type is deprecated; in a future version of numpy, it will be understood as (type, (1,)) / '(1,)type'.\n",
      "  _np_qint16 = np.dtype([(\"qint16\", np.int16, 1)])\n",
      "/home/kev/Desktop/pyvirtual2/lib/python3.6/site-packages/tensorflow/python/framework/dtypes.py:529: FutureWarning: Passing (type, 1) or '1type' as a synonym of type is deprecated; in a future version of numpy, it will be understood as (type, (1,)) / '(1,)type'.\n",
      "  _np_quint16 = np.dtype([(\"quint16\", np.uint16, 1)])\n",
      "/home/kev/Desktop/pyvirtual2/lib/python3.6/site-packages/tensorflow/python/framework/dtypes.py:530: FutureWarning: Passing (type, 1) or '1type' as a synonym of type is deprecated; in a future version of numpy, it will be understood as (type, (1,)) / '(1,)type'.\n",
      "  _np_qint32 = np.dtype([(\"qint32\", np.int32, 1)])\n",
      "/home/kev/Desktop/pyvirtual2/lib/python3.6/site-packages/tensorflow/python/framework/dtypes.py:535: FutureWarning: Passing (type, 1) or '1type' as a synonym of type is deprecated; in a future version of numpy, it will be understood as (type, (1,)) / '(1,)type'.\n",
      "  np_resource = np.dtype([(\"resource\", np.ubyte, 1)])\n"
     ]
    }
   ],
   "source": [
    "import keras\n",
    "from keras.models import Model\n",
    "from keras.layers import Input, Dense, Activation\n",
    "from keras import metrics\n",
    "from keras.utils import to_categorical"
   ]
  },
  {
   "cell_type": "code",
   "execution_count": 9,
   "metadata": {},
   "outputs": [],
   "source": [
    "from sklearn.model_selection import train_test_split\n",
    "\n",
    "xtrain, xtest, ytrain, ytest = train_test_split(df_new[df_cols[:-1]], df_new[df_cols[-1]], test_size=0.05)"
   ]
  },
  {
   "cell_type": "code",
   "execution_count": 10,
   "metadata": {},
   "outputs": [
    {
     "name": "stdout",
     "output_type": "stream",
     "text": [
      "shape of x_train_user: (1425, 500) \n",
      "shape of x_train_questions: (1425, 3) \n",
      "shape of y_train: (1425,)\n"
     ]
    }
   ],
   "source": [
    "x_train_user = to_categorical(xtrain['user'])#contains the one-hot encoded user data\n",
    "x_train_questions = pd.get_dummies(xtrain['questions']).values#contains the one-hot encoded questions\n",
    "\n",
    "y_train= ytrain.values\n",
    "print('shape of x_train_user:', x_train_user.shape,'\\nshape of x_train_questions:', x_train_questions.shape,\n",
    "      '\\nshape of y_train:',y_train.shape)"
   ]
  },
  {
   "cell_type": "markdown",
   "metadata": {},
   "source": [
    "### 1 PL IRT model:\n",
    "* tj= Degree of latent trait\n",
    "* bj= difficulty_level\n",
    "\n",
    "`P(i=1,f(tj, bj)) = Simoid[(tj - bj)]`"
   ]
  },
  {
   "cell_type": "code",
   "execution_count": 11,
   "metadata": {},
   "outputs": [
    {
     "name": "stdout",
     "output_type": "stream",
     "text": [
      "WARNING:tensorflow:From /home/kev/Desktop/pyvirtual2/lib/python3.6/site-packages/tensorflow/python/ops/resource_variable_ops.py:435: colocate_with (from tensorflow.python.framework.ops) is deprecated and will be removed in a future version.\n",
      "Instructions for updating:\n",
      "Colocations handled automatically by placer.\n"
     ]
    }
   ],
   "source": [
    "user_input_layer = Input(shape=(x_train_user.shape[1],))#top half of input taking input feature 1\n",
    "quest_input_layer = Input(shape=(x_train_questions.shape[1],))#bottom half of input taking input feature 2\n",
    "\n",
    "latent_trait = Dense(1, use_bias=False)(user_input_layer)\n",
    "difficulty_level = Dense(1, use_bias=False)(quest_input_layer)\n",
    "\n",
    "latent_difficulty_subtract = keras.layers.Subtract()([latent_trait, difficulty_level])\n",
    "\n",
    "\n",
    "prediction_output = Dense(1, activation='sigmoid')(latent_difficulty_subtract)\n",
    "\n",
    "model1 = Model(inputs=[user_input_layer, quest_input_layer], outputs= prediction_output)\n",
    "\n",
    "model1.compile(loss= 'binary_crossentropy', optimizer='sgd', metrics= ['mae', 'accuracy'])"
   ]
  },
  {
   "cell_type": "code",
   "execution_count": 12,
   "metadata": {},
   "outputs": [
    {
     "name": "stdout",
     "output_type": "stream",
     "text": [
      "Model: \"model_1\"\n",
      "__________________________________________________________________________________________________\n",
      "Layer (type)                    Output Shape         Param #     Connected to                     \n",
      "==================================================================================================\n",
      "input_1 (InputLayer)            (None, 500)          0                                            \n",
      "__________________________________________________________________________________________________\n",
      "input_2 (InputLayer)            (None, 3)            0                                            \n",
      "__________________________________________________________________________________________________\n",
      "dense_1 (Dense)                 (None, 1)            500         input_1[0][0]                    \n",
      "__________________________________________________________________________________________________\n",
      "dense_2 (Dense)                 (None, 1)            3           input_2[0][0]                    \n",
      "__________________________________________________________________________________________________\n",
      "subtract_1 (Subtract)           (None, 1)            0           dense_1[0][0]                    \n",
      "                                                                 dense_2[0][0]                    \n",
      "__________________________________________________________________________________________________\n",
      "dense_3 (Dense)                 (None, 1)            2           subtract_1[0][0]                 \n",
      "==================================================================================================\n",
      "Total params: 505\n",
      "Trainable params: 505\n",
      "Non-trainable params: 0\n",
      "__________________________________________________________________________________________________\n"
     ]
    }
   ],
   "source": [
    "model1.summary()"
   ]
  },
  {
   "cell_type": "code",
   "execution_count": 13,
   "metadata": {},
   "outputs": [
    {
     "name": "stdout",
     "output_type": "stream",
     "text": [
      "WARNING:tensorflow:From /home/kev/Desktop/pyvirtual2/lib/python3.6/site-packages/tensorflow/python/ops/math_ops.py:3066: to_int32 (from tensorflow.python.ops.math_ops) is deprecated and will be removed in a future version.\n",
      "Instructions for updating:\n",
      "Use tf.cast instead.\n",
      "Train on 1140 samples, validate on 285 samples\n",
      "Epoch 1/8\n",
      "1140/1140 [==============================] - 0s 155us/step - loss: 0.7119 - mae: 0.5034 - accuracy: 0.3579 - val_loss: 0.6856 - val_mae: 0.4900 - val_accuracy: 0.4596\n",
      "Epoch 2/8\n",
      "1140/1140 [==============================] - 0s 50us/step - loss: 0.6850 - mae: 0.4899 - accuracy: 0.4596 - val_loss: 0.6633 - val_mae: 0.4780 - val_accuracy: 0.5614\n",
      "Epoch 3/8\n",
      "1140/1140 [==============================] - 0s 63us/step - loss: 0.6627 - mae: 0.4776 - accuracy: 0.5956 - val_loss: 0.6452 - val_mae: 0.4672 - val_accuracy: 0.7053\n",
      "Epoch 4/8\n",
      "1140/1140 [==============================] - 0s 68us/step - loss: 0.6444 - mae: 0.4666 - accuracy: 0.7632 - val_loss: 0.6303 - val_mae: 0.4576 - val_accuracy: 0.7614\n",
      "Epoch 5/8\n",
      "1140/1140 [==============================] - 0s 62us/step - loss: 0.6292 - mae: 0.4567 - accuracy: 0.7711 - val_loss: 0.6180 - val_mae: 0.4490 - val_accuracy: 0.7614\n",
      "Epoch 6/8\n",
      "1140/1140 [==============================] - 0s 64us/step - loss: 0.6166 - mae: 0.4478 - accuracy: 0.7711 - val_loss: 0.6077 - val_mae: 0.4412 - val_accuracy: 0.7614\n",
      "Epoch 7/8\n",
      "1140/1140 [==============================] - 0s 65us/step - loss: 0.6060 - mae: 0.4398 - accuracy: 0.7711 - val_loss: 0.5993 - val_mae: 0.4343 - val_accuracy: 0.7614\n",
      "Epoch 8/8\n",
      "1140/1140 [==============================] - 0s 51us/step - loss: 0.5972 - mae: 0.4327 - accuracy: 0.7711 - val_loss: 0.5922 - val_mae: 0.4281 - val_accuracy: 0.7614\n"
     ]
    }
   ],
   "source": [
    "history= model1.fit(x=[x_train_user,x_train_questions], y=y_train, epochs=8, verbose=1, validation_split=0.2)"
   ]
  },
  {
   "cell_type": "code",
   "execution_count": 16,
   "metadata": {},
   "outputs": [
    {
     "data": {
      "image/png": "[encoded data removed]",
      "text/plain": [
       "<Figure size 432x288 with 1 Axes>"
      ]
     },
     "metadata": {
      "needs_background": "light"
     },
     "output_type": "display_data"
    }
   ],
   "source": [
    "import matplotlib.pyplot as plt\n",
    "\n",
    "plt.plot(history.history['loss'])\n",
    "plt.plot(history.history['val_loss'])\n",
    "plt.title('Model loss for \"1 PL model\"')\n",
    "plt.xlabel('epoch')\n",
    "plt.ylabel('loss')\n",
    "\n",
    "plt.legend(['train', 'validation'], loc= 'upper right')\n",
    "plt.show()"
   ]
  },
  {
   "cell_type": "markdown",
   "metadata": {},
   "source": [
    "### 2 PL IRT model\n",
    "* tj= Degree of latent trait\n",
    "* bj= difficulty level\n",
    "* aj= discrimination parameter\n",
    "\n",
    "`P{i=1,f(tj, bj)} = Simoid[aj(tj - bj)]`"
   ]
  },
  {
   "cell_type": "code",
   "execution_count": 17,
   "metadata": {},
   "outputs": [],
   "source": [
    "user_input_layer = Input(shape=(x_train_user.shape[1],))#top half of input taking input feature 1\n",
    "quest_input_layer = Input(shape=(x_train_questions.shape[1],))#bottom half of input taking input feature 2\n",
    "\n",
    "latent_trait = Dense(1, use_bias=False)(user_input_layer)\n",
    "\n",
    "difficulty_level = Dense(1, use_bias=False)(quest_input_layer)\n",
    "discrimination_param = Dense(1, use_bias=False)(quest_input_layer)\n",
    "\n",
    "latent_difficulty_subtract = keras.layers.Subtract()([latent_trait, difficulty_level])\n",
    "\n",
    "disc_param_interaction = keras.layers.Multiply()([latent_difficulty_subtract, \n",
    "                                                    discrimination_param])\n",
    "\n",
    "\n",
    "prediction_output = Dense(1, activation='sigmoid')(disc_param_interaction)\n",
    "\n",
    "model2 = Model(inputs=[user_input_layer, quest_input_layer], outputs= prediction_output)\n",
    "\n",
    "model2.compile(loss= 'binary_crossentropy', optimizer='sgd', metrics= ['mae', 'accuracy'])"
   ]
  },
  {
   "cell_type": "code",
   "execution_count": 18,
   "metadata": {},
   "outputs": [
    {
     "name": "stdout",
     "output_type": "stream",
     "text": [
      "Model: \"model_2\"\n",
      "__________________________________________________________________________________________________\n",
      "Layer (type)                    Output Shape         Param #     Connected to                     \n",
      "==================================================================================================\n",
      "input_3 (InputLayer)            (None, 500)          0                                            \n",
      "__________________________________________________________________________________________________\n",
      "input_4 (InputLayer)            (None, 3)            0                                            \n",
      "__________________________________________________________________________________________________\n",
      "dense_4 (Dense)                 (None, 1)            500         input_3[0][0]                    \n",
      "__________________________________________________________________________________________________\n",
      "dense_5 (Dense)                 (None, 1)            3           input_4[0][0]                    \n",
      "__________________________________________________________________________________________________\n",
      "subtract_2 (Subtract)           (None, 1)            0           dense_4[0][0]                    \n",
      "                                                                 dense_5[0][0]                    \n",
      "__________________________________________________________________________________________________\n",
      "dense_6 (Dense)                 (None, 1)            3           input_4[0][0]                    \n",
      "__________________________________________________________________________________________________\n",
      "multiply_1 (Multiply)           (None, 1)            0           subtract_2[0][0]                 \n",
      "                                                                 dense_6[0][0]                    \n",
      "__________________________________________________________________________________________________\n",
      "dense_7 (Dense)                 (None, 1)            2           multiply_1[0][0]                 \n",
      "==================================================================================================\n",
      "Total params: 508\n",
      "Trainable params: 508\n",
      "Non-trainable params: 0\n",
      "__________________________________________________________________________________________________\n"
     ]
    }
   ],
   "source": [
    "model2.summary()"
   ]
  },
  {
   "cell_type": "code",
   "execution_count": 19,
   "metadata": {},
   "outputs": [
    {
     "name": "stdout",
     "output_type": "stream",
     "text": [
      "Train on 1140 samples, validate on 285 samples\n",
      "Epoch 1/8\n",
      "1140/1140 [==============================] - 0s 180us/step - loss: 0.6675 - mae: 0.4780 - accuracy: 0.5868 - val_loss: 0.6483 - val_mae: 0.4664 - val_accuracy: 0.6596\n",
      "Epoch 2/8\n",
      "1140/1140 [==============================] - 0s 40us/step - loss: 0.6505 - mae: 0.4672 - accuracy: 0.7526 - val_loss: 0.6342 - val_mae: 0.4569 - val_accuracy: 0.7614\n",
      "Epoch 3/8\n",
      "1140/1140 [==============================] - 0s 45us/step - loss: 0.6364 - mae: 0.4578 - accuracy: 0.7711 - val_loss: 0.6226 - val_mae: 0.4484 - val_accuracy: 0.7614\n",
      "Epoch 4/8\n",
      "1140/1140 [==============================] - 0s 63us/step - loss: 0.6245 - mae: 0.4494 - accuracy: 0.7711 - val_loss: 0.6128 - val_mae: 0.4407 - val_accuracy: 0.7614\n",
      "Epoch 5/8\n",
      "1140/1140 [==============================] - 0s 49us/step - loss: 0.6144 - mae: 0.4413 - accuracy: 0.7711 - val_loss: 0.6047 - val_mae: 0.4339 - val_accuracy: 0.7614\n",
      "Epoch 6/8\n",
      "1140/1140 [==============================] - 0s 48us/step - loss: 0.6060 - mae: 0.4345 - accuracy: 0.7711 - val_loss: 0.5978 - val_mae: 0.4278 - val_accuracy: 0.7614\n",
      "Epoch 7/8\n",
      "1140/1140 [==============================] - 0s 45us/step - loss: 0.5987 - mae: 0.4282 - accuracy: 0.7711 - val_loss: 0.5920 - val_mae: 0.4223 - val_accuracy: 0.7614\n",
      "Epoch 8/8\n",
      "1140/1140 [==============================] - 0s 44us/step - loss: 0.5926 - mae: 0.4226 - accuracy: 0.7711 - val_loss: 0.5870 - val_mae: 0.4173 - val_accuracy: 0.7614\n"
     ]
    }
   ],
   "source": [
    "history= model2.fit(x=[x_train_user,x_train_questions], y=y_train, epochs=8, verbose=1, validation_split=0.2)"
   ]
  },
  {
   "cell_type": "code",
   "execution_count": 20,
   "metadata": {
    "scrolled": true
   },
   "outputs": [
    {
     "data": {
      "image/png": "[encoded data removed]",
      "text/plain": [
       "<Figure size 432x288 with 1 Axes>"
      ]
     },
     "metadata": {
      "needs_background": "light"
     },
     "output_type": "display_data"
    }
   ],
   "source": [
    "plt.plot(history.history['loss'])\n",
    "plt.plot(history.history['val_loss'])\n",
    "plt.title('Model loss for \"2 PL model\"')\n",
    "plt.xlabel('epoch')\n",
    "plt.ylabel('loss')\n",
    "\n",
    "plt.legend(['train', 'validation'], loc= 'upper right')\n",
    "plt.show()"
   ]
  },
  {
   "cell_type": "markdown",
   "metadata": {},
   "source": [
    "### 3 PL IRT model\n",
    "* tj= Degree of latent trait\n",
    "* bj= difficulty level\n",
    "* aj= discrimination parameter\n",
    "* cj= pseudo guessing parameter\n",
    "\n",
    "`P{i=1,f(tj, bj)} = Simoid[cj+ aj(1-cj)(tj - bj)]`"
   ]
  },
  {
   "cell_type": "code",
   "execution_count": 21,
   "metadata": {},
   "outputs": [],
   "source": [
    "from keras import backend as K\n",
    "from keras.layers import Lambda"
   ]
  },
  {
   "cell_type": "code",
   "execution_count": 22,
   "metadata": {},
   "outputs": [],
   "source": [
    "#for the purpose of Lambda layer\n",
    "def ops_func(x, op='add'):\n",
    "    if op=='add':\n",
    "        return K.constant(value=np.array([x[0]])) + x[1]\n",
    "    if op=='subtract':\n",
    "        return K.constant(value=np.array([x[0]])) - x[1]\n",
    "    if op=='multiply':\n",
    "        return K.constant(value=np.array([x[0]]))* x[1]"
   ]
  },
  {
   "cell_type": "code",
   "execution_count": 23,
   "metadata": {},
   "outputs": [],
   "source": [
    "user_input_layer = Input(shape=(x_train_user.shape[1],))#top half of input\n",
    "quest_input_layer = Input(shape=(x_train_questions.shape[1],))#bottom half of input\n",
    "\n",
    "latent_trait = Dense(1, use_bias=False)(user_input_layer)\n",
    "\n",
    "difficulty_level = Dense(1, use_bias=False)(quest_input_layer)\n",
    "discrimination_param = Dense(1, use_bias=False)(quest_input_layer)\n",
    "guess_param = Dense(1, use_bias=False)(quest_input_layer)\n",
    "\n",
    "latent_difficulty_subtract = keras.layers.Subtract()([latent_trait, difficulty_level])\n",
    "\n",
    "disc_param_interaction = keras.layers.Multiply()([latent_difficulty_subtract, \n",
    "                                                    discrimination_param])\n",
    "\n",
    "guess_param_interaction= Lambda(lambda x: K.constant(value=np.array([-1]))*x)(guess_param)\n",
    "guess_param_interaction= Lambda(lambda x: K.constant(value=np.array([1]))+ x)(guess_param_interaction)#keras.layers.Add()([K.constant(value=np.array([1])), guess_param_interaction])\n",
    "guess_param_interaction= keras.layers.Multiply()([disc_param_interaction, \n",
    "                                                guess_param_interaction])\n",
    "\n",
    "guess_param_interaction= keras.layers.Add()([guess_param, guess_param_interaction])\n",
    "\n",
    "\n",
    "prediction_output = Dense(1, activation='sigmoid')(guess_param_interaction)\n",
    "\n",
    "model3 = Model(inputs=[user_input_layer, quest_input_layer], outputs= prediction_output)\n",
    "model3.compile(loss= 'binary_crossentropy', optimizer='sgd', metrics= ['mae', 'accuracy'])"
   ]
  },
  {
   "cell_type": "code",
   "execution_count": 24,
   "metadata": {},
   "outputs": [
    {
     "name": "stdout",
     "output_type": "stream",
     "text": [
      "Model: \"model_3\"\n",
      "__________________________________________________________________________________________________\n",
      "Layer (type)                    Output Shape         Param #     Connected to                     \n",
      "==================================================================================================\n",
      "input_6 (InputLayer)            (None, 3)            0                                            \n",
      "__________________________________________________________________________________________________\n",
      "input_5 (InputLayer)            (None, 500)          0                                            \n",
      "__________________________________________________________________________________________________\n",
      "dense_11 (Dense)                (None, 1)            3           input_6[0][0]                    \n",
      "__________________________________________________________________________________________________\n",
      "dense_8 (Dense)                 (None, 1)            500         input_5[0][0]                    \n",
      "__________________________________________________________________________________________________\n",
      "dense_9 (Dense)                 (None, 1)            3           input_6[0][0]                    \n",
      "__________________________________________________________________________________________________\n",
      "subtract_3 (Subtract)           (None, 1)            0           dense_8[0][0]                    \n",
      "                                                                 dense_9[0][0]                    \n",
      "__________________________________________________________________________________________________\n",
      "dense_10 (Dense)                (None, 1)            3           input_6[0][0]                    \n",
      "__________________________________________________________________________________________________\n",
      "lambda_1 (Lambda)               (None, 1)            0           dense_11[0][0]                   \n",
      "__________________________________________________________________________________________________\n",
      "multiply_2 (Multiply)           (None, 1)            0           subtract_3[0][0]                 \n",
      "                                                                 dense_10[0][0]                   \n",
      "__________________________________________________________________________________________________\n",
      "lambda_2 (Lambda)               (None, 1)            0           lambda_1[0][0]                   \n",
      "__________________________________________________________________________________________________\n",
      "multiply_3 (Multiply)           (None, 1)            0           multiply_2[0][0]                 \n",
      "                                                                 lambda_2[0][0]                   \n",
      "__________________________________________________________________________________________________\n",
      "add_1 (Add)                     (None, 1)            0           dense_11[0][0]                   \n",
      "                                                                 multiply_3[0][0]                 \n",
      "__________________________________________________________________________________________________\n",
      "dense_12 (Dense)                (None, 1)            2           add_1[0][0]                      \n",
      "==================================================================================================\n",
      "Total params: 511\n",
      "Trainable params: 511\n",
      "Non-trainable params: 0\n",
      "__________________________________________________________________________________________________\n"
     ]
    }
   ],
   "source": [
    "model3.summary()"
   ]
  },
  {
   "cell_type": "code",
   "execution_count": 25,
   "metadata": {},
   "outputs": [
    {
     "name": "stdout",
     "output_type": "stream",
     "text": [
      "Train on 1140 samples, validate on 285 samples\n",
      "Epoch 1/8\n",
      "1140/1140 [==============================] - 0s 239us/step - loss: 0.6864 - mae: 0.4959 - accuracy: 0.5447 - val_loss: 0.6709 - val_mae: 0.4879 - val_accuracy: 0.6035\n",
      "Epoch 2/8\n",
      "1140/1140 [==============================] - 0s 46us/step - loss: 0.6624 - mae: 0.4832 - accuracy: 0.7623 - val_loss: 0.6510 - val_mae: 0.4767 - val_accuracy: 0.7614\n",
      "Epoch 3/8\n",
      "1140/1140 [==============================] - 0s 44us/step - loss: 0.6427 - mae: 0.4718 - accuracy: 0.7711 - val_loss: 0.6345 - val_mae: 0.4666 - val_accuracy: 0.7614\n",
      "Epoch 4/8\n",
      "1140/1140 [==============================] - 0s 54us/step - loss: 0.6261 - mae: 0.4614 - accuracy: 0.7711 - val_loss: 0.6207 - val_mae: 0.4574 - val_accuracy: 0.7614\n",
      "Epoch 5/8\n",
      "1140/1140 [==============================] - 0s 49us/step - loss: 0.6123 - mae: 0.4521 - accuracy: 0.7711 - val_loss: 0.6093 - val_mae: 0.4490 - val_accuracy: 0.7614\n",
      "Epoch 6/8\n",
      "1140/1140 [==============================] - 0s 52us/step - loss: 0.6008 - mae: 0.4434 - accuracy: 0.7711 - val_loss: 0.5999 - val_mae: 0.4416 - val_accuracy: 0.7614\n",
      "Epoch 7/8\n",
      "1140/1140 [==============================] - 0s 54us/step - loss: 0.5911 - mae: 0.4358 - accuracy: 0.7711 - val_loss: 0.5921 - val_mae: 0.4348 - val_accuracy: 0.7614\n",
      "Epoch 8/8\n",
      "1140/1140 [==============================] - 0s 56us/step - loss: 0.5831 - mae: 0.4289 - accuracy: 0.7711 - val_loss: 0.5854 - val_mae: 0.4287 - val_accuracy: 0.7614\n"
     ]
    }
   ],
   "source": [
    "history= model3.fit(x=[x_train_user,x_train_questions], y=y_train, epochs=8, verbose=1, validation_split=0.2)"
   ]
  },
  {
   "cell_type": "code",
   "execution_count": 26,
   "metadata": {},
   "outputs": [
    {
     "data": {
      "image/png": "[encoded data removed]",
      "text/plain": [
       "<Figure size 432x288 with 1 Axes>"
      ]
     },
     "metadata": {
      "needs_background": "light"
     },
     "output_type": "display_data"
    }
   ],
   "source": [
    "plt.plot(history.history['loss'])\n",
    "plt.plot(history.history['val_loss'])\n",
    "plt.title('Model loss for \"3 PL model\"')\n",
    "plt.xlabel('epoch')\n",
    "plt.ylabel('loss')\n",
    "\n",
    "plt.legend(['train', 'validation'], loc= 'upper right')\n",
    "plt.show()"
   ]
  }
 ],
 "metadata": {
  "kernelspec": {
   "display_name": "Python 3",
   "language": "python",
   "name": "python3"
  },
  "language_info": {
   "codemirror_mode": {
    "name": "ipython",
    "version": 3
   },
   "file_extension": ".py",
   "mimetype": "text/x-python",
   "name": "python",
   "nbconvert_exporter": "python",
   "pygments_lexer": "ipython3",
   "version": "3.6.8"
  }
 },
 "nbformat": 4,
 "nbformat_minor": 2
}
