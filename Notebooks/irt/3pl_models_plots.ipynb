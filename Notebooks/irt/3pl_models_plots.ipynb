{
 "cells": [
  {
   "cell_type": "code",
   "execution_count": 1,
   "metadata": {
    "scrolled": true
   },
   "outputs": [
    {
     "data": {
      "text/html": [
       "<div>\n",
       "<style scoped>\n",
       "    .dataframe tbody tr th:only-of-type {\n",
       "        vertical-align: middle;\n",
       "    }\n",
       "\n",
       "    .dataframe tbody tr th {\n",
       "        vertical-align: top;\n",
       "    }\n",
       "\n",
       "    .dataframe thead th {\n",
       "        text-align: right;\n",
       "    }\n",
       "</style>\n",
       "<table border=\"1\" class=\"dataframe\">\n",
       "  <thead>\n",
       "    <tr style=\"text-align: right;\">\n",
       "      <th></th>\n",
       "      <th>Q1</th>\n",
       "      <th>Q2</th>\n",
       "      <th>Q3</th>\n",
       "      <th>Q4</th>\n",
       "      <th>Q5</th>\n",
       "      <th>Q6</th>\n",
       "      <th>Q7</th>\n",
       "      <th>Q8</th>\n",
       "      <th>Q9</th>\n",
       "      <th>Q10</th>\n",
       "    </tr>\n",
       "  </thead>\n",
       "  <tbody>\n",
       "    <tr>\n",
       "      <td>NaN</td>\n",
       "      <td>0</td>\n",
       "      <td>1</td>\n",
       "      <td>1</td>\n",
       "      <td>1</td>\n",
       "      <td>1</td>\n",
       "      <td>1</td>\n",
       "      <td>1</td>\n",
       "      <td>1</td>\n",
       "      <td>1</td>\n",
       "      <td>0</td>\n",
       "    </tr>\n",
       "    <tr>\n",
       "      <td>NaN</td>\n",
       "      <td>0</td>\n",
       "      <td>1</td>\n",
       "      <td>0</td>\n",
       "      <td>0</td>\n",
       "      <td>1</td>\n",
       "      <td>0</td>\n",
       "      <td>1</td>\n",
       "      <td>0</td>\n",
       "      <td>0</td>\n",
       "      <td>0</td>\n",
       "    </tr>\n",
       "  </tbody>\n",
       "</table>\n",
       "</div>"
      ],
      "text/plain": [
       "     Q1  Q2  Q3  Q4  Q5  Q6  Q7  Q8  Q9  Q10\n",
       "NaN   0   1   1   1   1   1   1   1   1    0\n",
       "NaN   0   1   0   0   1   0   1   0   0    0"
      ]
     },
     "execution_count": 1,
     "metadata": {},
     "output_type": "execute_result"
    }
   ],
   "source": [
    "import pandas as pd\n",
    "import numpy as np\n",
    "\n",
    "cols= ['Q{}'.format(idx) for idx in range(1,11)]\n",
    "data= pd.read_csv('ouirt.dat', sep= ' ', names= cols)\n",
    "data.head(2)"
   ]
  },
  {
   "cell_type": "code",
   "execution_count": 2,
   "metadata": {},
   "outputs": [
    {
     "data": {
      "text/html": [
       "<div>\n",
       "<style scoped>\n",
       "    .dataframe tbody tr th:only-of-type {\n",
       "        vertical-align: middle;\n",
       "    }\n",
       "\n",
       "    .dataframe tbody tr th {\n",
       "        vertical-align: top;\n",
       "    }\n",
       "\n",
       "    .dataframe thead th {\n",
       "        text-align: right;\n",
       "    }\n",
       "</style>\n",
       "<table border=\"1\" class=\"dataframe\">\n",
       "  <thead>\n",
       "    <tr style=\"text-align: right;\">\n",
       "      <th></th>\n",
       "      <th>Q1</th>\n",
       "      <th>Q2</th>\n",
       "      <th>Q3</th>\n",
       "      <th>Q4</th>\n",
       "      <th>Q5</th>\n",
       "      <th>Q6</th>\n",
       "      <th>Q7</th>\n",
       "      <th>Q8</th>\n",
       "      <th>Q9</th>\n",
       "      <th>Q10</th>\n",
       "    </tr>\n",
       "  </thead>\n",
       "  <tbody>\n",
       "    <tr>\n",
       "      <td>count</td>\n",
       "      <td>500.000000</td>\n",
       "      <td>500.000000</td>\n",
       "      <td>500.000000</td>\n",
       "      <td>500.000000</td>\n",
       "      <td>500.000000</td>\n",
       "      <td>500.000000</td>\n",
       "      <td>500.000000</td>\n",
       "      <td>500.000000</td>\n",
       "      <td>500.000000</td>\n",
       "      <td>500.000000</td>\n",
       "    </tr>\n",
       "    <tr>\n",
       "      <td>mean</td>\n",
       "      <td>0.150000</td>\n",
       "      <td>0.268000</td>\n",
       "      <td>0.318000</td>\n",
       "      <td>0.296000</td>\n",
       "      <td>0.438000</td>\n",
       "      <td>0.314000</td>\n",
       "      <td>0.412000</td>\n",
       "      <td>0.334000</td>\n",
       "      <td>0.318000</td>\n",
       "      <td>0.070000</td>\n",
       "    </tr>\n",
       "    <tr>\n",
       "      <td>std</td>\n",
       "      <td>0.357429</td>\n",
       "      <td>0.443361</td>\n",
       "      <td>0.466166</td>\n",
       "      <td>0.456948</td>\n",
       "      <td>0.496638</td>\n",
       "      <td>0.464581</td>\n",
       "      <td>0.492688</td>\n",
       "      <td>0.472112</td>\n",
       "      <td>0.466166</td>\n",
       "      <td>0.255403</td>\n",
       "    </tr>\n",
       "    <tr>\n",
       "      <td>min</td>\n",
       "      <td>0.000000</td>\n",
       "      <td>0.000000</td>\n",
       "      <td>0.000000</td>\n",
       "      <td>0.000000</td>\n",
       "      <td>0.000000</td>\n",
       "      <td>0.000000</td>\n",
       "      <td>0.000000</td>\n",
       "      <td>0.000000</td>\n",
       "      <td>0.000000</td>\n",
       "      <td>0.000000</td>\n",
       "    </tr>\n",
       "    <tr>\n",
       "      <td>25%</td>\n",
       "      <td>0.000000</td>\n",
       "      <td>0.000000</td>\n",
       "      <td>0.000000</td>\n",
       "      <td>0.000000</td>\n",
       "      <td>0.000000</td>\n",
       "      <td>0.000000</td>\n",
       "      <td>0.000000</td>\n",
       "      <td>0.000000</td>\n",
       "      <td>0.000000</td>\n",
       "      <td>0.000000</td>\n",
       "    </tr>\n",
       "    <tr>\n",
       "      <td>50%</td>\n",
       "      <td>0.000000</td>\n",
       "      <td>0.000000</td>\n",
       "      <td>0.000000</td>\n",
       "      <td>0.000000</td>\n",
       "      <td>0.000000</td>\n",
       "      <td>0.000000</td>\n",
       "      <td>0.000000</td>\n",
       "      <td>0.000000</td>\n",
       "      <td>0.000000</td>\n",
       "      <td>0.000000</td>\n",
       "    </tr>\n",
       "    <tr>\n",
       "      <td>75%</td>\n",
       "      <td>0.000000</td>\n",
       "      <td>1.000000</td>\n",
       "      <td>1.000000</td>\n",
       "      <td>1.000000</td>\n",
       "      <td>1.000000</td>\n",
       "      <td>1.000000</td>\n",
       "      <td>1.000000</td>\n",
       "      <td>1.000000</td>\n",
       "      <td>1.000000</td>\n",
       "      <td>0.000000</td>\n",
       "    </tr>\n",
       "    <tr>\n",
       "      <td>max</td>\n",
       "      <td>1.000000</td>\n",
       "      <td>1.000000</td>\n",
       "      <td>1.000000</td>\n",
       "      <td>1.000000</td>\n",
       "      <td>1.000000</td>\n",
       "      <td>1.000000</td>\n",
       "      <td>1.000000</td>\n",
       "      <td>1.000000</td>\n",
       "      <td>1.000000</td>\n",
       "      <td>1.000000</td>\n",
       "    </tr>\n",
       "  </tbody>\n",
       "</table>\n",
       "</div>"
      ],
      "text/plain": [
       "               Q1          Q2          Q3          Q4          Q5          Q6  \\\n",
       "count  500.000000  500.000000  500.000000  500.000000  500.000000  500.000000   \n",
       "mean     0.150000    0.268000    0.318000    0.296000    0.438000    0.314000   \n",
       "std      0.357429    0.443361    0.466166    0.456948    0.496638    0.464581   \n",
       "min      0.000000    0.000000    0.000000    0.000000    0.000000    0.000000   \n",
       "25%      0.000000    0.000000    0.000000    0.000000    0.000000    0.000000   \n",
       "50%      0.000000    0.000000    0.000000    0.000000    0.000000    0.000000   \n",
       "75%      0.000000    1.000000    1.000000    1.000000    1.000000    1.000000   \n",
       "max      1.000000    1.000000    1.000000    1.000000    1.000000    1.000000   \n",
       "\n",
       "               Q7          Q8          Q9         Q10  \n",
       "count  500.000000  500.000000  500.000000  500.000000  \n",
       "mean     0.412000    0.334000    0.318000    0.070000  \n",
       "std      0.492688    0.472112    0.466166    0.255403  \n",
       "min      0.000000    0.000000    0.000000    0.000000  \n",
       "25%      0.000000    0.000000    0.000000    0.000000  \n",
       "50%      0.000000    0.000000    0.000000    0.000000  \n",
       "75%      1.000000    1.000000    1.000000    0.000000  \n",
       "max      1.000000    1.000000    1.000000    1.000000  "
      ]
     },
     "execution_count": 2,
     "metadata": {},
     "output_type": "execute_result"
    }
   ],
   "source": [
    "data= pd.DataFrame(data.values, columns=cols)\n",
    "data.describe()"
   ]
  },
  {
   "cell_type": "markdown",
   "metadata": {},
   "source": [
    "*  Truncating Question items to 3"
   ]
  },
  {
   "cell_type": "code",
   "execution_count": 3,
   "metadata": {
    "scrolled": true
   },
   "outputs": [
    {
     "data": {
      "text/html": [
       "<div>\n",
       "<style scoped>\n",
       "    .dataframe tbody tr th:only-of-type {\n",
       "        vertical-align: middle;\n",
       "    }\n",
       "\n",
       "    .dataframe tbody tr th {\n",
       "        vertical-align: top;\n",
       "    }\n",
       "\n",
       "    .dataframe thead th {\n",
       "        text-align: right;\n",
       "    }\n",
       "</style>\n",
       "<table border=\"1\" class=\"dataframe\">\n",
       "  <thead>\n",
       "    <tr style=\"text-align: right;\">\n",
       "      <th></th>\n",
       "      <th>Q1</th>\n",
       "      <th>Q2</th>\n",
       "      <th>Q3</th>\n",
       "      <th>Q4</th>\n",
       "      <th>Q5</th>\n",
       "      <th>Q6</th>\n",
       "      <th>Q7</th>\n",
       "      <th>Q8</th>\n",
       "      <th>Q9</th>\n",
       "      <th>Q10</th>\n",
       "    </tr>\n",
       "  </thead>\n",
       "  <tbody>\n",
       "    <tr>\n",
       "      <td>0</td>\n",
       "      <td>0</td>\n",
       "      <td>1</td>\n",
       "      <td>1</td>\n",
       "      <td>1</td>\n",
       "      <td>1</td>\n",
       "      <td>1</td>\n",
       "      <td>1</td>\n",
       "      <td>1</td>\n",
       "      <td>1</td>\n",
       "      <td>0</td>\n",
       "    </tr>\n",
       "    <tr>\n",
       "      <td>1</td>\n",
       "      <td>0</td>\n",
       "      <td>1</td>\n",
       "      <td>0</td>\n",
       "      <td>0</td>\n",
       "      <td>1</td>\n",
       "      <td>0</td>\n",
       "      <td>1</td>\n",
       "      <td>0</td>\n",
       "      <td>0</td>\n",
       "      <td>0</td>\n",
       "    </tr>\n",
       "    <tr>\n",
       "      <td>2</td>\n",
       "      <td>0</td>\n",
       "      <td>0</td>\n",
       "      <td>0</td>\n",
       "      <td>0</td>\n",
       "      <td>1</td>\n",
       "      <td>1</td>\n",
       "      <td>1</td>\n",
       "      <td>0</td>\n",
       "      <td>1</td>\n",
       "      <td>0</td>\n",
       "    </tr>\n",
       "  </tbody>\n",
       "</table>\n",
       "</div>"
      ],
      "text/plain": [
       "   Q1  Q2  Q3  Q4  Q5  Q6  Q7  Q8  Q9  Q10\n",
       "0   0   1   1   1   1   1   1   1   1    0\n",
       "1   0   1   0   0   1   0   1   0   0    0\n",
       "2   0   0   0   0   1   1   1   0   1    0"
      ]
     },
     "execution_count": 3,
     "metadata": {},
     "output_type": "execute_result"
    }
   ],
   "source": [
    "rel_items = cols[:]#Q1,Q2,Q3\n",
    "df = data[rel_items]\n",
    "df.head(3)"
   ]
  },
  {
   "cell_type": "code",
   "execution_count": 4,
   "metadata": {},
   "outputs": [],
   "source": [
    "df_cols = ['user','questions', 'response']#final dataframe cols"
   ]
  },
  {
   "cell_type": "code",
   "execution_count": 5,
   "metadata": {},
   "outputs": [],
   "source": [
    "from collections import defaultdict\n",
    "di = defaultdict(dict)\n",
    "for idx in rel_items:\n",
    "    di[idx].update(zip(range(df.shape[0]), df[idx].values))#makes format {'Q1':{user:responses,1:0,2:0,. . .,}}"
   ]
  },
  {
   "cell_type": "markdown",
   "metadata": {},
   "source": [
    "* Following dataframe contains-- user id, questions id, corresponding response value"
   ]
  },
  {
   "cell_type": "code",
   "execution_count": 6,
   "metadata": {},
   "outputs": [
    {
     "data": {
      "text/html": [
       "<div>\n",
       "<style scoped>\n",
       "    .dataframe tbody tr th:only-of-type {\n",
       "        vertical-align: middle;\n",
       "    }\n",
       "\n",
       "    .dataframe tbody tr th {\n",
       "        vertical-align: top;\n",
       "    }\n",
       "\n",
       "    .dataframe thead th {\n",
       "        text-align: right;\n",
       "    }\n",
       "</style>\n",
       "<table border=\"1\" class=\"dataframe\">\n",
       "  <thead>\n",
       "    <tr style=\"text-align: right;\">\n",
       "      <th></th>\n",
       "      <th>user</th>\n",
       "      <th>questions</th>\n",
       "      <th>response</th>\n",
       "    </tr>\n",
       "  </thead>\n",
       "  <tbody>\n",
       "    <tr>\n",
       "      <td>4141</td>\n",
       "      <td>141</td>\n",
       "      <td>Q9</td>\n",
       "      <td>1</td>\n",
       "    </tr>\n",
       "    <tr>\n",
       "      <td>4145</td>\n",
       "      <td>145</td>\n",
       "      <td>Q9</td>\n",
       "      <td>0</td>\n",
       "    </tr>\n",
       "    <tr>\n",
       "      <td>3923</td>\n",
       "      <td>423</td>\n",
       "      <td>Q8</td>\n",
       "      <td>0</td>\n",
       "    </tr>\n",
       "    <tr>\n",
       "      <td>3404</td>\n",
       "      <td>404</td>\n",
       "      <td>Q7</td>\n",
       "      <td>1</td>\n",
       "    </tr>\n",
       "    <tr>\n",
       "      <td>4442</td>\n",
       "      <td>442</td>\n",
       "      <td>Q9</td>\n",
       "      <td>0</td>\n",
       "    </tr>\n",
       "    <tr>\n",
       "      <td>...</td>\n",
       "      <td>...</td>\n",
       "      <td>...</td>\n",
       "      <td>...</td>\n",
       "    </tr>\n",
       "    <tr>\n",
       "      <td>3330</td>\n",
       "      <td>330</td>\n",
       "      <td>Q7</td>\n",
       "      <td>0</td>\n",
       "    </tr>\n",
       "    <tr>\n",
       "      <td>777</td>\n",
       "      <td>277</td>\n",
       "      <td>Q2</td>\n",
       "      <td>1</td>\n",
       "    </tr>\n",
       "    <tr>\n",
       "      <td>2162</td>\n",
       "      <td>162</td>\n",
       "      <td>Q5</td>\n",
       "      <td>0</td>\n",
       "    </tr>\n",
       "    <tr>\n",
       "      <td>1972</td>\n",
       "      <td>472</td>\n",
       "      <td>Q4</td>\n",
       "      <td>0</td>\n",
       "    </tr>\n",
       "    <tr>\n",
       "      <td>1414</td>\n",
       "      <td>414</td>\n",
       "      <td>Q3</td>\n",
       "      <td>0</td>\n",
       "    </tr>\n",
       "  </tbody>\n",
       "</table>\n",
       "<p>5000 rows × 3 columns</p>\n",
       "</div>"
      ],
      "text/plain": [
       "      user questions  response\n",
       "4141   141        Q9         1\n",
       "4145   145        Q9         0\n",
       "3923   423        Q8         0\n",
       "3404   404        Q7         1\n",
       "4442   442        Q9         0\n",
       "...    ...       ...       ...\n",
       "3330   330        Q7         0\n",
       "777    277        Q2         1\n",
       "2162   162        Q5         0\n",
       "1972   472        Q4         0\n",
       "1414   414        Q3         0\n",
       "\n",
       "[5000 rows x 3 columns]"
      ]
     },
     "execution_count": 6,
     "metadata": {},
     "output_type": "execute_result"
    }
   ],
   "source": [
    "df_list= list()\n",
    "for ques, user_resp in list(zip(di.keys(), di.values())):\n",
    "    df_list.append({'user':list(user_resp.keys()), 'questions':[ques]*df.shape[0], 'response':list(user_resp.values())})\n",
    "\n",
    "\n",
    "df_new= pd.DataFrame()\n",
    "for i in range(len(df_list)):\n",
    "    df = pd.DataFrame(df_list[i])\n",
    "    df_new= pd.concat([df_new, df], ignore_index=True)\n",
    "\n",
    "df_new = df_new.loc[np.random.randint(0,df_new.shape[0]-1, size=df_new.shape[0])]#shuffling data\n",
    "df_new"
   ]
  },
  {
   "cell_type": "markdown",
   "metadata": {},
   "source": [
    "### Defining Keras equivalent model"
   ]
  },
  {
   "cell_type": "code",
   "execution_count": 7,
   "metadata": {},
   "outputs": [
    {
     "name": "stderr",
     "output_type": "stream",
     "text": [
      "Using TensorFlow backend.\n",
      "/home/kev/Desktop/pyvirtual2/lib/python3.6/site-packages/tensorflow/python/framework/dtypes.py:526: FutureWarning: Passing (type, 1) or '1type' as a synonym of type is deprecated; in a future version of numpy, it will be understood as (type, (1,)) / '(1,)type'.\n",
      "  _np_qint8 = np.dtype([(\"qint8\", np.int8, 1)])\n",
      "/home/kev/Desktop/pyvirtual2/lib/python3.6/site-packages/tensorflow/python/framework/dtypes.py:527: FutureWarning: Passing (type, 1) or '1type' as a synonym of type is deprecated; in a future version of numpy, it will be understood as (type, (1,)) / '(1,)type'.\n",
      "  _np_quint8 = np.dtype([(\"quint8\", np.uint8, 1)])\n",
      "/home/kev/Desktop/pyvirtual2/lib/python3.6/site-packages/tensorflow/python/framework/dtypes.py:528: FutureWarning: Passing (type, 1) or '1type' as a synonym of type is deprecated; in a future version of numpy, it will be understood as (type, (1,)) / '(1,)type'.\n",
      "  _np_qint16 = np.dtype([(\"qint16\", np.int16, 1)])\n",
      "/home/kev/Desktop/pyvirtual2/lib/python3.6/site-packages/tensorflow/python/framework/dtypes.py:529: FutureWarning: Passing (type, 1) or '1type' as a synonym of type is deprecated; in a future version of numpy, it will be understood as (type, (1,)) / '(1,)type'.\n",
      "  _np_quint16 = np.dtype([(\"quint16\", np.uint16, 1)])\n",
      "/home/kev/Desktop/pyvirtual2/lib/python3.6/site-packages/tensorflow/python/framework/dtypes.py:530: FutureWarning: Passing (type, 1) or '1type' as a synonym of type is deprecated; in a future version of numpy, it will be understood as (type, (1,)) / '(1,)type'.\n",
      "  _np_qint32 = np.dtype([(\"qint32\", np.int32, 1)])\n",
      "/home/kev/Desktop/pyvirtual2/lib/python3.6/site-packages/tensorflow/python/framework/dtypes.py:535: FutureWarning: Passing (type, 1) or '1type' as a synonym of type is deprecated; in a future version of numpy, it will be understood as (type, (1,)) / '(1,)type'.\n",
      "  np_resource = np.dtype([(\"resource\", np.ubyte, 1)])\n"
     ]
    }
   ],
   "source": [
    "import keras\n",
    "from keras.models import Model\n",
    "from keras.layers import Input, Dense, Activation\n",
    "from keras import metrics\n",
    "from keras.utils import to_categorical"
   ]
  },
  {
   "cell_type": "code",
   "execution_count": 8,
   "metadata": {},
   "outputs": [],
   "source": [
    "from sklearn.model_selection import train_test_split\n",
    "\n",
    "xtrain, xtest, ytrain, ytest = train_test_split(df_new[df_cols[:-1]], df_new[df_cols[-1]], test_size=0.05)"
   ]
  },
  {
   "cell_type": "code",
   "execution_count": 9,
   "metadata": {},
   "outputs": [
    {
     "name": "stdout",
     "output_type": "stream",
     "text": [
      "shape of x_train_user: (4750, 500) \n",
      "shape of x_train_questions: (4750, 10) \n",
      "shape of y_train: (4750,)\n"
     ]
    }
   ],
   "source": [
    "x_train_user = to_categorical(xtrain['user'], num_classes=500)#contains the one-hot encoded user data\n",
    "x_train_questions = pd.get_dummies(xtrain['questions']).values#contains the one-hot encoded questions\n",
    "\n",
    "y_train= ytrain.values\n",
    "print('shape of x_train_user:', x_train_user.shape,'\\nshape of x_train_questions:', x_train_questions.shape,\n",
    "      '\\nshape of y_train:',y_train.shape)"
   ]
  },
  {
   "cell_type": "markdown",
   "metadata": {},
   "source": [
    "### 3 PL IRT model\n",
    "* t_i= Degree of latent trait of i-th student\n",
    "* b_j= difficulty_level of j-th question\n",
    "* a_j= discrimination parameter of j-th question\n",
    "* c_j= pseudo guessing parameter of j-th question\n",
    "* P(i,j) = Prob of i-th student, correctly scoring on j-th item.\n",
    "\n",
    "`P{i=1,j} = Sigmoid[c_j+ a_j(1-c_j)(t_i - b_j)]`"
   ]
  },
  {
   "cell_type": "code",
   "execution_count": 10,
   "metadata": {},
   "outputs": [],
   "source": [
    "from keras import backend as K\n",
    "from keras.layers import Lambda"
   ]
  },
  {
   "cell_type": "code",
   "execution_count": 11,
   "metadata": {},
   "outputs": [],
   "source": [
    "#for the purpose of Lambda layer\n",
    "def ops_func(x, op='add'):\n",
    "    if op=='add':\n",
    "        return K.constant(value=np.array([x[0]])) + x[1]\n",
    "    if op=='subtract':\n",
    "        return K.constant(value=np.array([x[0]])) - x[1]\n",
    "    if op=='multiply':\n",
    "        return K.constant(value=np.array([x[0]]))* x[1]"
   ]
  },
  {
   "cell_type": "code",
   "execution_count": 12,
   "metadata": {},
   "outputs": [
    {
     "name": "stdout",
     "output_type": "stream",
     "text": [
      "WARNING:tensorflow:From /home/kev/Desktop/pyvirtual2/lib/python3.6/site-packages/tensorflow/python/ops/resource_variable_ops.py:435: colocate_with (from tensorflow.python.framework.ops) is deprecated and will be removed in a future version.\n",
      "Instructions for updating:\n",
      "Colocations handled automatically by placer.\n"
     ]
    }
   ],
   "source": [
    "user_input_layer = Input(shape=(x_train_user.shape[1],), name= 'user_id')#top half of input\n",
    "quest_input_layer = Input(shape=(x_train_questions.shape[1],), name='questions/items')#bottom half of input\n",
    "\n",
    "latent_trait = Dense(1, use_bias=False, name='latent_trait')(user_input_layer)\n",
    "\n",
    "difficulty_level = Dense(1, use_bias=False, name='difficulty_level')(quest_input_layer)\n",
    "discrimination_param = Dense(1, use_bias=False, name='disc_param')(quest_input_layer)\n",
    "guess_param = Dense(1, use_bias=False, name='guessing_param')(quest_input_layer)\n",
    "\n",
    "latent_difficulty_subtract = keras.layers.Subtract(name='latent_diff_sub')([latent_trait, difficulty_level])\n",
    "\n",
    "disc_param_interaction = keras.layers.Multiply(name='disc_param_inter.')([latent_difficulty_subtract, \n",
    "                                                    discrimination_param])\n",
    "\n",
    "#guess_param_interaction= Lambda(lambda x: K.constant(value=np.array([-1]))*x)(guess_param)\n",
    "guess_param_interaction= Lambda(lambda x: K.constant(value=np.array([1])) - x, name='guess_param_inter.')(guess_param)\n",
    "guess_param_interaction= keras.layers.Multiply(name='disc/guess_param_inter.')([disc_param_interaction, \n",
    "                                                guess_param_interaction])\n",
    "\n",
    "guess_param_interaction= keras.layers.Add(name='guess_param_inter/add')([guess_param, guess_param_interaction])\n",
    "\n",
    "\n",
    "#prediction_output = Dense(1, activation='sigmoid')(guess_param_interaction)\n",
    "# last layer is dummy. it is not trainable, weight =1, bias = 0\n",
    "prediction_output = Dense(1, activation='sigmoid',trainable=False,use_bias=False,kernel_initializer=keras.initializers.Ones(), name='prediction_layer')(guess_param_interaction)\n",
    "\n",
    "\n",
    "model3 = Model(inputs=[user_input_layer, quest_input_layer], outputs= prediction_output)\n",
    "model3.compile(loss= 'binary_crossentropy', optimizer='sgd', metrics= ['mae', 'accuracy'])"
   ]
  },
  {
   "cell_type": "code",
   "execution_count": 13,
   "metadata": {},
   "outputs": [
    {
     "name": "stdout",
     "output_type": "stream",
     "text": [
      "Model: \"model_1\"\n",
      "__________________________________________________________________________________________________\n",
      "Layer (type)                    Output Shape         Param #     Connected to                     \n",
      "==================================================================================================\n",
      "questions/items (InputLayer)    (None, 10)           0                                            \n",
      "__________________________________________________________________________________________________\n",
      "user_id (InputLayer)            (None, 500)          0                                            \n",
      "__________________________________________________________________________________________________\n",
      "latent_trait (Dense)            (None, 1)            500         user_id[0][0]                    \n",
      "__________________________________________________________________________________________________\n",
      "difficulty_level (Dense)        (None, 1)            10          questions/items[0][0]            \n",
      "__________________________________________________________________________________________________\n",
      "guessing_param (Dense)          (None, 1)            10          questions/items[0][0]            \n",
      "__________________________________________________________________________________________________\n",
      "latent_diff_sub (Subtract)      (None, 1)            0           latent_trait[0][0]               \n",
      "                                                                 difficulty_level[0][0]           \n",
      "__________________________________________________________________________________________________\n",
      "disc_param (Dense)              (None, 1)            10          questions/items[0][0]            \n",
      "__________________________________________________________________________________________________\n",
      "disc_param_inter. (Multiply)    (None, 1)            0           latent_diff_sub[0][0]            \n",
      "                                                                 disc_param[0][0]                 \n",
      "__________________________________________________________________________________________________\n",
      "guess_param_inter. (Lambda)     (None, 1)            0           guessing_param[0][0]             \n",
      "__________________________________________________________________________________________________\n",
      "disc/guess_param_inter. (Multip (None, 1)            0           disc_param_inter.[0][0]          \n",
      "                                                                 guess_param_inter.[0][0]         \n",
      "__________________________________________________________________________________________________\n",
      "guess_param_inter/add (Add)     (None, 1)            0           guessing_param[0][0]             \n",
      "                                                                 disc/guess_param_inter.[0][0]    \n",
      "__________________________________________________________________________________________________\n",
      "prediction_layer (Dense)        (None, 1)            1           guess_param_inter/add[0][0]      \n",
      "==================================================================================================\n",
      "Total params: 531\n",
      "Trainable params: 530\n",
      "Non-trainable params: 1\n",
      "__________________________________________________________________________________________________\n"
     ]
    }
   ],
   "source": [
    "model3.summary()"
   ]
  },
  {
   "cell_type": "code",
   "execution_count": 14,
   "metadata": {},
   "outputs": [
    {
     "name": "stdout",
     "output_type": "stream",
     "text": [
      "WARNING:tensorflow:From /home/kev/Desktop/pyvirtual2/lib/python3.6/site-packages/tensorflow/python/ops/math_ops.py:3066: to_int32 (from tensorflow.python.ops.math_ops) is deprecated and will be removed in a future version.\n",
      "Instructions for updating:\n",
      "Use tf.cast instead.\n",
      "Train on 3800 samples, validate on 950 samples\n",
      "Epoch 1/8\n",
      "3800/3800 [==============================] - 0s 50us/step - loss: 0.7265 - mae: 0.5074 - accuracy: 0.4637 - val_loss: 0.7182 - val_mae: 0.5036 - val_accuracy: 0.5221\n",
      "Epoch 2/8\n",
      "3800/3800 [==============================] - 0s 26us/step - loss: 0.7173 - mae: 0.5036 - accuracy: 0.5197 - val_loss: 0.7092 - val_mae: 0.4998 - val_accuracy: 0.5221\n",
      "Epoch 3/8\n",
      "3800/3800 [==============================] - 0s 28us/step - loss: 0.7086 - mae: 0.4998 - accuracy: 0.5197 - val_loss: 0.7006 - val_mae: 0.4960 - val_accuracy: 0.5221\n",
      "Epoch 4/8\n",
      "3800/3800 [==============================] - 0s 31us/step - loss: 0.7003 - mae: 0.4960 - accuracy: 0.5197 - val_loss: 0.6923 - val_mae: 0.4922 - val_accuracy: 0.5221\n",
      "Epoch 5/8\n",
      "3800/3800 [==============================] - 0s 40us/step - loss: 0.6923 - mae: 0.4923 - accuracy: 0.5208 - val_loss: 0.6844 - val_mae: 0.4885 - val_accuracy: 0.5326\n",
      "Epoch 6/8\n",
      "3800/3800 [==============================] - 0s 41us/step - loss: 0.6847 - mae: 0.4886 - accuracy: 0.5587 - val_loss: 0.6769 - val_mae: 0.4849 - val_accuracy: 0.5832\n",
      "Epoch 7/8\n",
      "3800/3800 [==============================] - 0s 39us/step - loss: 0.6774 - mae: 0.4850 - accuracy: 0.5845 - val_loss: 0.6698 - val_mae: 0.4813 - val_accuracy: 0.5863\n",
      "Epoch 8/8\n",
      "3800/3800 [==============================] - 0s 35us/step - loss: 0.6705 - mae: 0.4814 - accuracy: 0.5845 - val_loss: 0.6630 - val_mae: 0.4777 - val_accuracy: 0.5863\n"
     ]
    }
   ],
   "source": [
    "history= model3.fit(x=[x_train_user,x_train_questions], y=y_train, epochs=8, verbose=1, validation_split=0.2)"
   ]
  },
  {
   "cell_type": "code",
   "execution_count": 16,
   "metadata": {},
   "outputs": [
    {
     "data": {
      "image/png": "[encoded data removed]",
      "text/plain": [
       "<Figure size 432x288 with 1 Axes>"
      ]
     },
     "metadata": {
      "needs_background": "light"
     },
     "output_type": "display_data"
    }
   ],
   "source": [
    "import matplotlib.pyplot as plt\n",
    "plt.plot(history.history['loss'])\n",
    "plt.plot(history.history['val_loss'])\n",
    "plt.title('Model loss for \"3 PL model\"')\n",
    "plt.xlabel('epoch')\n",
    "plt.ylabel('loss')\n",
    "\n",
    "plt.legend(['train', 'validation'], loc= 'upper right')\n",
    "plt.show()"
   ]
  },
  {
   "cell_type": "markdown",
   "metadata": {},
   "source": [
    "### Obtaining underlying trained 3pl parameters from model"
   ]
  },
  {
   "cell_type": "code",
   "execution_count": 17,
   "metadata": {},
   "outputs": [],
   "source": [
    "latent_trait_parameters = model3.layers[2].get_weights()#latent trait for 500 users\n",
    "difficulty_level_parameters= model3.layers[3].get_weights()[0]#difficulty params for 3 Quests/item.\n",
    "discrimination_parameters= model3.layers[4].get_weights()[0]#dicrimination params for 3 Quests/item.\n",
    "pseudo_guess_parameters = model3.layers[6].get_weights()[0]#pseudo_guess_params for 3 Quests/item."
   ]
  },
  {
   "cell_type": "code",
   "execution_count": 18,
   "metadata": {},
   "outputs": [
    {
     "data": {
      "text/plain": [
       "array([[ 0.40252188],\n",
       "       [-0.3863785 ],\n",
       "       [ 0.50944155],\n",
       "       [-0.29451063],\n",
       "       [ 0.130864  ],\n",
       "       [-0.0146646 ],\n",
       "       [ 0.43243325],\n",
       "       [ 0.08206061],\n",
       "       [-0.06347042],\n",
       "       [ 0.1287377 ]], dtype=float32)"
      ]
     },
     "execution_count": 18,
     "metadata": {},
     "output_type": "execute_result"
    }
   ],
   "source": [
    "difficulty_level_parameters"
   ]
  },
  {
   "cell_type": "code",
   "execution_count": 19,
   "metadata": {},
   "outputs": [
    {
     "data": {
      "text/plain": [
       "array([[ 0.0244621 ],\n",
       "       [-0.42492777],\n",
       "       [ 0.07752427],\n",
       "       [-0.47625628],\n",
       "       [ 0.18504125],\n",
       "       [ 0.22708277],\n",
       "       [-0.363722  ],\n",
       "       [ 0.21336976],\n",
       "       [-0.52397627],\n",
       "       [-0.257572  ]], dtype=float32)"
      ]
     },
     "execution_count": 19,
     "metadata": {},
     "output_type": "execute_result"
    }
   ],
   "source": [
    "discrimination_parameters"
   ]
  },
  {
   "cell_type": "code",
   "execution_count": 20,
   "metadata": {
    "scrolled": true
   },
   "outputs": [
    {
     "data": {
      "text/plain": [
       "array([[ 0.45767155],\n",
       "       [ 0.01324375],\n",
       "       [-0.45432934],\n",
       "       [-0.21411058],\n",
       "       [ 0.4727487 ],\n",
       "       [ 0.22745305],\n",
       "       [ 0.20919394],\n",
       "       [ 0.07623579],\n",
       "       [ 0.69034517],\n",
       "       [-0.01439673]], dtype=float32)"
      ]
     },
     "execution_count": 20,
     "metadata": {},
     "output_type": "execute_result"
    }
   ],
   "source": [
    "pseudo_guess_parameters"
   ]
  },
  {
   "cell_type": "markdown",
   "metadata": {},
   "source": [
    "*  histogram for latent traits"
   ]
  },
  {
   "cell_type": "code",
   "execution_count": 21,
   "metadata": {},
   "outputs": [
    {
     "data": {
      "image/png": "[encoded data removed]",
      "text/plain": [
       "<Figure size 432x288 with 1 Axes>"
      ]
     },
     "metadata": {
      "needs_background": "light"
     },
     "output_type": "display_data"
    }
   ],
   "source": [
    "n, bins, patches = plt.hist(x=latent_trait_parameters[0], bins='auto', color='#0504aa',\n",
    "                            alpha=0.7, rwidth=0.85)"
   ]
  },
  {
   "cell_type": "markdown",
   "metadata": {},
   "source": [
    "* Conditional probablities obtained from R's 3PL"
   ]
  },
  {
   "cell_type": "code",
   "execution_count": 22,
   "metadata": {
    "scrolled": false
   },
   "outputs": [
    {
     "data": {
      "text/html": [
       "<div>\n",
       "<style scoped>\n",
       "    .dataframe tbody tr th:only-of-type {\n",
       "        vertical-align: middle;\n",
       "    }\n",
       "\n",
       "    .dataframe tbody tr th {\n",
       "        vertical-align: top;\n",
       "    }\n",
       "\n",
       "    .dataframe thead th {\n",
       "        text-align: right;\n",
       "    }\n",
       "</style>\n",
       "<table border=\"1\" class=\"dataframe\">\n",
       "  <thead>\n",
       "    <tr style=\"text-align: right;\">\n",
       "      <th></th>\n",
       "      <th>Unnamed: 0</th>\n",
       "      <th>V1</th>\n",
       "      <th>V2</th>\n",
       "      <th>V3</th>\n",
       "      <th>V4</th>\n",
       "      <th>V5</th>\n",
       "      <th>V6</th>\n",
       "      <th>V7</th>\n",
       "      <th>V8</th>\n",
       "      <th>V9</th>\n",
       "      <th>V10</th>\n",
       "    </tr>\n",
       "  </thead>\n",
       "  <tbody>\n",
       "    <tr>\n",
       "      <td>0</td>\n",
       "      <td>1</td>\n",
       "      <td>0.0251</td>\n",
       "      <td>0.1178</td>\n",
       "      <td>0.1055</td>\n",
       "      <td>0.0879</td>\n",
       "      <td>0.1630</td>\n",
       "      <td>0.0750</td>\n",
       "      <td>0.2211</td>\n",
       "      <td>0.0797</td>\n",
       "      <td>0.0475</td>\n",
       "      <td>0.0023</td>\n",
       "    </tr>\n",
       "    <tr>\n",
       "      <td>1</td>\n",
       "      <td>2</td>\n",
       "      <td>0.0621</td>\n",
       "      <td>0.1486</td>\n",
       "      <td>0.2092</td>\n",
       "      <td>0.1243</td>\n",
       "      <td>0.3248</td>\n",
       "      <td>0.1790</td>\n",
       "      <td>0.3385</td>\n",
       "      <td>0.1937</td>\n",
       "      <td>0.1466</td>\n",
       "      <td>0.0094</td>\n",
       "    </tr>\n",
       "    <tr>\n",
       "      <td>2</td>\n",
       "      <td>3</td>\n",
       "      <td>0.0544</td>\n",
       "      <td>0.1412</td>\n",
       "      <td>0.1900</td>\n",
       "      <td>0.1147</td>\n",
       "      <td>0.2961</td>\n",
       "      <td>0.1584</td>\n",
       "      <td>0.3192</td>\n",
       "      <td>0.1711</td>\n",
       "      <td>0.1249</td>\n",
       "      <td>0.0076</td>\n",
       "    </tr>\n",
       "    <tr>\n",
       "      <td>3</td>\n",
       "      <td>4</td>\n",
       "      <td>0.1003</td>\n",
       "      <td>0.1904</td>\n",
       "      <td>0.2922</td>\n",
       "      <td>0.1856</td>\n",
       "      <td>0.4419</td>\n",
       "      <td>0.2733</td>\n",
       "      <td>0.4146</td>\n",
       "      <td>0.2965</td>\n",
       "      <td>0.2551</td>\n",
       "      <td>0.0203</td>\n",
       "    </tr>\n",
       "    <tr>\n",
       "      <td>4</td>\n",
       "      <td>5</td>\n",
       "      <td>0.0409</td>\n",
       "      <td>0.1295</td>\n",
       "      <td>0.1537</td>\n",
       "      <td>0.1003</td>\n",
       "      <td>0.2401</td>\n",
       "      <td>0.1210</td>\n",
       "      <td>0.2801</td>\n",
       "      <td>0.1300</td>\n",
       "      <td>0.0878</td>\n",
       "      <td>0.0049</td>\n",
       "    </tr>\n",
       "    <tr>\n",
       "      <td>5</td>\n",
       "      <td>6</td>\n",
       "      <td>0.0836</td>\n",
       "      <td>0.1710</td>\n",
       "      <td>0.2579</td>\n",
       "      <td>0.1562</td>\n",
       "      <td>0.3951</td>\n",
       "      <td>0.2335</td>\n",
       "      <td>0.3845</td>\n",
       "      <td>0.2533</td>\n",
       "      <td>0.2078</td>\n",
       "      <td>0.0151</td>\n",
       "    </tr>\n",
       "    <tr>\n",
       "      <td>6</td>\n",
       "      <td>7</td>\n",
       "      <td>0.0749</td>\n",
       "      <td>0.1616</td>\n",
       "      <td>0.2390</td>\n",
       "      <td>0.1425</td>\n",
       "      <td>0.3683</td>\n",
       "      <td>0.2120</td>\n",
       "      <td>0.3671</td>\n",
       "      <td>0.2299</td>\n",
       "      <td>0.1831</td>\n",
       "      <td>0.0127</td>\n",
       "    </tr>\n",
       "    <tr>\n",
       "      <td>7</td>\n",
       "      <td>8</td>\n",
       "      <td>0.0534</td>\n",
       "      <td>0.1403</td>\n",
       "      <td>0.1874</td>\n",
       "      <td>0.1135</td>\n",
       "      <td>0.2921</td>\n",
       "      <td>0.1556</td>\n",
       "      <td>0.3165</td>\n",
       "      <td>0.1681</td>\n",
       "      <td>0.1220</td>\n",
       "      <td>0.0074</td>\n",
       "    </tr>\n",
       "    <tr>\n",
       "      <td>8</td>\n",
       "      <td>9</td>\n",
       "      <td>0.0991</td>\n",
       "      <td>0.1889</td>\n",
       "      <td>0.2898</td>\n",
       "      <td>0.1833</td>\n",
       "      <td>0.4387</td>\n",
       "      <td>0.2704</td>\n",
       "      <td>0.4125</td>\n",
       "      <td>0.2934</td>\n",
       "      <td>0.2517</td>\n",
       "      <td>0.0199</td>\n",
       "    </tr>\n",
       "    <tr>\n",
       "      <td>9</td>\n",
       "      <td>10</td>\n",
       "      <td>0.0899</td>\n",
       "      <td>0.1782</td>\n",
       "      <td>0.2713</td>\n",
       "      <td>0.1669</td>\n",
       "      <td>0.4136</td>\n",
       "      <td>0.2488</td>\n",
       "      <td>0.3964</td>\n",
       "      <td>0.2700</td>\n",
       "      <td>0.2258</td>\n",
       "      <td>0.0170</td>\n",
       "    </tr>\n",
       "  </tbody>\n",
       "</table>\n",
       "</div>"
      ],
      "text/plain": [
       "   Unnamed: 0      V1      V2      V3      V4      V5      V6      V7      V8  \\\n",
       "0           1  0.0251  0.1178  0.1055  0.0879  0.1630  0.0750  0.2211  0.0797   \n",
       "1           2  0.0621  0.1486  0.2092  0.1243  0.3248  0.1790  0.3385  0.1937   \n",
       "2           3  0.0544  0.1412  0.1900  0.1147  0.2961  0.1584  0.3192  0.1711   \n",
       "3           4  0.1003  0.1904  0.2922  0.1856  0.4419  0.2733  0.4146  0.2965   \n",
       "4           5  0.0409  0.1295  0.1537  0.1003  0.2401  0.1210  0.2801  0.1300   \n",
       "5           6  0.0836  0.1710  0.2579  0.1562  0.3951  0.2335  0.3845  0.2533   \n",
       "6           7  0.0749  0.1616  0.2390  0.1425  0.3683  0.2120  0.3671  0.2299   \n",
       "7           8  0.0534  0.1403  0.1874  0.1135  0.2921  0.1556  0.3165  0.1681   \n",
       "8           9  0.0991  0.1889  0.2898  0.1833  0.4387  0.2704  0.4125  0.2934   \n",
       "9          10  0.0899  0.1782  0.2713  0.1669  0.4136  0.2488  0.3964  0.2700   \n",
       "\n",
       "       V9     V10  \n",
       "0  0.0475  0.0023  \n",
       "1  0.1466  0.0094  \n",
       "2  0.1249  0.0076  \n",
       "3  0.2551  0.0203  \n",
       "4  0.0878  0.0049  \n",
       "5  0.2078  0.0151  \n",
       "6  0.1831  0.0127  \n",
       "7  0.1220  0.0074  \n",
       "8  0.2517  0.0199  \n",
       "9  0.2258  0.0170  "
      ]
     },
     "execution_count": 22,
     "metadata": {},
     "output_type": "execute_result"
    }
   ],
   "source": [
    "con_prob_r= pd.read_csv('cond_vals.csv')\n",
    "con_prob_r.head(10)"
   ]
  },
  {
   "cell_type": "markdown",
   "metadata": {},
   "source": [
    "### Importing Key paramters obtained from R's 3PL model"
   ]
  },
  {
   "cell_type": "code",
   "execution_count": 23,
   "metadata": {},
   "outputs": [
    {
     "data": {
      "text/html": [
       "<div>\n",
       "<style scoped>\n",
       "    .dataframe tbody tr th:only-of-type {\n",
       "        vertical-align: middle;\n",
       "    }\n",
       "\n",
       "    .dataframe tbody tr th {\n",
       "        vertical-align: top;\n",
       "    }\n",
       "\n",
       "    .dataframe thead th {\n",
       "        text-align: right;\n",
       "    }\n",
       "</style>\n",
       "<table border=\"1\" class=\"dataframe\">\n",
       "  <thead>\n",
       "    <tr style=\"text-align: right;\">\n",
       "      <th></th>\n",
       "      <th>Unnamed: 0</th>\n",
       "      <th>Gussng</th>\n",
       "      <th>Dffclt</th>\n",
       "      <th>Dscrmn</th>\n",
       "    </tr>\n",
       "  </thead>\n",
       "  <tbody>\n",
       "    <tr>\n",
       "      <td>0</td>\n",
       "      <td>V1</td>\n",
       "      <td>0.000025</td>\n",
       "      <td>1.636048</td>\n",
       "      <td>1.414799</td>\n",
       "    </tr>\n",
       "    <tr>\n",
       "      <td>1</td>\n",
       "      <td>V2</td>\n",
       "      <td>0.106400</td>\n",
       "      <td>1.214459</td>\n",
       "      <td>2.006961</td>\n",
       "    </tr>\n",
       "    <tr>\n",
       "      <td>2</td>\n",
       "      <td>V3</td>\n",
       "      <td>0.000048</td>\n",
       "      <td>0.817690</td>\n",
       "      <td>1.208465</td>\n",
       "    </tr>\n",
       "    <tr>\n",
       "      <td>3</td>\n",
       "      <td>V4</td>\n",
       "      <td>0.079261</td>\n",
       "      <td>0.890029</td>\n",
       "      <td>2.529919</td>\n",
       "    </tr>\n",
       "    <tr>\n",
       "      <td>4</td>\n",
       "      <td>V5</td>\n",
       "      <td>0.000037</td>\n",
       "      <td>0.257974</td>\n",
       "      <td>1.352935</td>\n",
       "    </tr>\n",
       "    <tr>\n",
       "      <td>5</td>\n",
       "      <td>V6</td>\n",
       "      <td>0.000057</td>\n",
       "      <td>0.746576</td>\n",
       "      <td>1.479909</td>\n",
       "    </tr>\n",
       "    <tr>\n",
       "      <td>6</td>\n",
       "      <td>V7</td>\n",
       "      <td>0.000164</td>\n",
       "      <td>0.477205</td>\n",
       "      <td>0.881995</td>\n",
       "    </tr>\n",
       "    <tr>\n",
       "      <td>7</td>\n",
       "      <td>V8</td>\n",
       "      <td>0.000003</td>\n",
       "      <td>0.651561</td>\n",
       "      <td>1.526094</td>\n",
       "    </tr>\n",
       "    <tr>\n",
       "      <td>8</td>\n",
       "      <td>V9</td>\n",
       "      <td>0.001652</td>\n",
       "      <td>0.656884</td>\n",
       "      <td>1.886512</td>\n",
       "    </tr>\n",
       "    <tr>\n",
       "      <td>9</td>\n",
       "      <td>V10</td>\n",
       "      <td>0.000002</td>\n",
       "      <td>1.919147</td>\n",
       "      <td>2.114968</td>\n",
       "    </tr>\n",
       "  </tbody>\n",
       "</table>\n",
       "</div>"
      ],
      "text/plain": [
       "  Unnamed: 0    Gussng    Dffclt    Dscrmn\n",
       "0         V1  0.000025  1.636048  1.414799\n",
       "1         V2  0.106400  1.214459  2.006961\n",
       "2         V3  0.000048  0.817690  1.208465\n",
       "3         V4  0.079261  0.890029  2.529919\n",
       "4         V5  0.000037  0.257974  1.352935\n",
       "5         V6  0.000057  0.746576  1.479909\n",
       "6         V7  0.000164  0.477205  0.881995\n",
       "7         V8  0.000003  0.651561  1.526094\n",
       "8         V9  0.001652  0.656884  1.886512\n",
       "9        V10  0.000002  1.919147  2.114968"
      ]
     },
     "execution_count": 23,
     "metadata": {},
     "output_type": "execute_result"
    }
   ],
   "source": [
    "coeff = pd.read_csv('coeffs.csv')\n",
    "coeff"
   ]
  },
  {
   "cell_type": "code",
   "execution_count": 24,
   "metadata": {
    "scrolled": true
   },
   "outputs": [
    {
     "data": {
      "text/plain": [
       "['Unnamed: 0', 'Gussng', 'Dffclt', 'Dscrmn']"
      ]
     },
     "execution_count": 24,
     "metadata": {},
     "output_type": "execute_result"
    }
   ],
   "source": [
    "r_params_cols= list(coeff.columns)\n",
    "r_params_cols#columns from R's dataframe"
   ]
  },
  {
   "cell_type": "markdown",
   "metadata": {},
   "source": [
    "* Normalising Difficulty, Descrimination values from R's dataframe"
   ]
  },
  {
   "cell_type": "code",
   "execution_count": 25,
   "metadata": {},
   "outputs": [
    {
     "data": {
      "text/plain": [
       "0    1.636048\n",
       "1    1.214459\n",
       "2    0.817690\n",
       "3    0.890029\n",
       "4    0.257974\n",
       "5    0.746576\n",
       "6    0.477205\n",
       "7    0.651561\n",
       "8    0.656884\n",
       "9    1.919147\n",
       "Name: Dffclt, dtype: float64"
      ]
     },
     "execution_count": 25,
     "metadata": {},
     "output_type": "execute_result"
    }
   ],
   "source": [
    "normalized_diff_r=coeff[r_params_cols[2]]#/coeff[r_params_cols[2]].sum()\n",
    "normalized_diff_r#new difficulty vals from R"
   ]
  },
  {
   "cell_type": "code",
   "execution_count": 26,
   "metadata": {},
   "outputs": [
    {
     "data": {
      "text/plain": [
       "0    0.086255\n",
       "1    0.122357\n",
       "2    0.073675\n",
       "3    0.154239\n",
       "4    0.082483\n",
       "5    0.090224\n",
       "6    0.053772\n",
       "7    0.093040\n",
       "8    0.115013\n",
       "9    0.128941\n",
       "Name: Dscrmn, dtype: float64"
      ]
     },
     "execution_count": 26,
     "metadata": {},
     "output_type": "execute_result"
    }
   ],
   "source": [
    "normalized_desc_r=coeff[r_params_cols[-1]]/coeff[r_params_cols[-1]].sum()\n",
    "normalized_desc_r#new descrimination vals from R"
   ]
  },
  {
   "cell_type": "markdown",
   "metadata": {},
   "source": [
    "### Scatterplots: difficulty vals from keras_3pl vs. R_3pl"
   ]
  },
  {
   "cell_type": "code",
   "execution_count": 27,
   "metadata": {},
   "outputs": [],
   "source": [
    "d1 = (np.array(range(1, len(rel_items)+1)), difficulty_level_parameters)\n",
    "\n",
    "d2 = (np.array(range(1, len(rel_items)+1)), normalized_diff_r.values)\n",
    "\n",
    "data_diff= (d1,d2)"
   ]
  },
  {
   "cell_type": "code",
   "execution_count": 28,
   "metadata": {},
   "outputs": [
    {
     "data": {
      "text/plain": [
       "(array([ 1,  2,  3,  4,  5,  6,  7,  8,  9, 10]), array([[ 0.40252188],\n",
       "        [-0.3863785 ],\n",
       "        [ 0.50944155],\n",
       "        [-0.29451063],\n",
       "        [ 0.130864  ],\n",
       "        [-0.0146646 ],\n",
       "        [ 0.43243325],\n",
       "        [ 0.08206061],\n",
       "        [-0.06347042],\n",
       "        [ 0.1287377 ]], dtype=float32))"
      ]
     },
     "execution_count": 28,
     "metadata": {},
     "output_type": "execute_result"
    }
   ],
   "source": [
    "d1"
   ]
  },
  {
   "cell_type": "markdown",
   "metadata": {},
   "source": [
    "* Solo"
   ]
  },
  {
   "cell_type": "code",
   "execution_count": 29,
   "metadata": {},
   "outputs": [
    {
     "data": {
      "image/png": "[encoded data removed]",
      "text/plain": [
       "<Figure size 432x288 with 1 Axes>"
      ]
     },
     "metadata": {
      "needs_background": "light"
     },
     "output_type": "display_data"
    }
   ],
   "source": [
    "colors = (\"red\", \"blue\")\n",
    "groups = (\"difficulty_level_keras\", \"difficulty_level_R\")\n",
    "\n",
    "fig = plt.figure()\n",
    "ax = fig.add_subplot(1, 1, 1)\n",
    "x,y =d1 \n",
    "ax.scatter(x, y, alpha=0.8, c=colors[0], edgecolors='none', s=30, label=groups[0])\n",
    "plt.title('difficulty_level_parameters learned from keras_3pl')\n",
    "plt.xlabel('x: num_items')\n",
    "plt.ylabel('y: values')\n",
    "plt.legend(loc=1)\n",
    "plt.show()"
   ]
  },
  {
   "cell_type": "markdown",
   "metadata": {},
   "source": [
    "* Combined"
   ]
  },
  {
   "cell_type": "code",
   "execution_count": 30,
   "metadata": {},
   "outputs": [
    {
     "data": {
      "image/png": "[encoded data removed]",
      "text/plain": [
       "<Figure size 432x288 with 1 Axes>"
      ]
     },
     "metadata": {
      "needs_background": "light"
     },
     "output_type": "display_data"
    }
   ],
   "source": [
    "fig = plt.figure()\n",
    "ax = fig.add_subplot(1, 1, 1)\n",
    "\n",
    "for data, color, group in zip(data_diff, colors, groups):\n",
    "    x,y = data\n",
    "    ax.scatter(x, y, alpha=0.8, c=color, edgecolors='none', s=30, label=group)\n",
    "\n",
    "plt.title('Similarity b/w difficulty params from keras_3pl Vs.R_3pl')\n",
    "plt.xlabel('x: num_items')\n",
    "plt.ylabel('y: values')\n",
    "plt.legend(loc=2)\n",
    "plt.show()"
   ]
  },
  {
   "cell_type": "markdown",
   "metadata": {},
   "source": [
    "### Scatterplot: discrimination vals from keras_3pl vs. R_3pl"
   ]
  },
  {
   "cell_type": "code",
   "execution_count": 31,
   "metadata": {},
   "outputs": [],
   "source": [
    "d1 = (np.array(range(1, len(rel_items)+1)), discrimination_parameters)\n",
    "\n",
    "d2 = (np.array(range(1, len(rel_items)+1)), normalized_desc_r.values)\n",
    "\n",
    "data_desc= (d1,d2)"
   ]
  },
  {
   "cell_type": "markdown",
   "metadata": {},
   "source": [
    "* Solo"
   ]
  },
  {
   "cell_type": "code",
   "execution_count": 32,
   "metadata": {},
   "outputs": [
    {
     "data": {
      "image/png": "[encoded data removed]",
      "text/plain": [
       "<Figure size 432x288 with 1 Axes>"
      ]
     },
     "metadata": {
      "needs_background": "light"
     },
     "output_type": "display_data"
    }
   ],
   "source": [
    "colors = (\"red\", \"blue\")\n",
    "groups = (\"discrimination_param_keras\", \"discrimination_param_R\")\n",
    "\n",
    "fig = plt.figure()\n",
    "ax = fig.add_subplot(1, 1, 1)\n",
    "x,y =d1\n",
    "ax.scatter(x, y, alpha=0.8, c=colors[0], edgecolors='none', s=30, label=groups[0])\n",
    "plt.title('discrimination_parameters learned from keras_3pl')\n",
    "plt.xlabel('x: num_items')\n",
    "plt.ylabel('y: values')\n",
    "plt.legend(loc=1)\n",
    "plt.show()"
   ]
  },
  {
   "cell_type": "markdown",
   "metadata": {},
   "source": [
    "* Combined"
   ]
  },
  {
   "cell_type": "code",
   "execution_count": 33,
   "metadata": {},
   "outputs": [
    {
     "data": {
      "image/png": "[encoded data removed]",
      "text/plain": [
       "<Figure size 432x288 with 1 Axes>"
      ]
     },
     "metadata": {
      "needs_background": "light"
     },
     "output_type": "display_data"
    }
   ],
   "source": [
    "fig = plt.figure()\n",
    "ax = fig.add_subplot(1, 1, 1)\n",
    "\n",
    "for data, color, group in zip(data_desc, colors, groups):\n",
    "    x,y = data\n",
    "    ax.scatter(x, y, alpha=0.8, c=color, edgecolors='none', s=30, label=group)\n",
    "\n",
    "plt.title('Similarity b/w desc params from keras_3pl Vs.R_3pl')\n",
    "plt.xlabel('x: num_items')\n",
    "plt.ylabel('y: values')\n",
    "plt.legend(loc=2)\n",
    "plt.show()"
   ]
  },
  {
   "cell_type": "markdown",
   "metadata": {},
   "source": [
    "### Scatterplot: guessing_param values from keras_3pl vs. R_3pl"
   ]
  },
  {
   "cell_type": "code",
   "execution_count": 34,
   "metadata": {},
   "outputs": [
    {
     "data": {
      "text/plain": [
       "0    0.000025\n",
       "1    0.106400\n",
       "2    0.000048\n",
       "3    0.079261\n",
       "4    0.000037\n",
       "5    0.000057\n",
       "6    0.000164\n",
       "7    0.000003\n",
       "8    0.001652\n",
       "9    0.000002\n",
       "Name: Gussng, dtype: float64"
      ]
     },
     "execution_count": 34,
     "metadata": {},
     "output_type": "execute_result"
    }
   ],
   "source": [
    "d1 = (np.array(range(1, len(rel_items)+1)), pseudo_guess_parameters)\n",
    "\n",
    "d2 = (np.array(range(1, len(rel_items)+1)), coeff[r_params_cols[1]].values)\n",
    "\n",
    "data_guess= (d1,d2)\n",
    "\n",
    "coeff[r_params_cols[1]]#guessing params from R"
   ]
  },
  {
   "cell_type": "markdown",
   "metadata": {},
   "source": [
    "* Solo"
   ]
  },
  {
   "cell_type": "code",
   "execution_count": 35,
   "metadata": {},
   "outputs": [
    {
     "data": {
      "image/png": "[encoded data removed]",
      "text/plain": [
       "<Figure size 432x288 with 1 Axes>"
      ]
     },
     "metadata": {
      "needs_background": "light"
     },
     "output_type": "display_data"
    }
   ],
   "source": [
    "colors = (\"red\", \"blue\")\n",
    "groups = (\"guessing_param_keras\", \"guessing_param_R\")\n",
    "\n",
    "fig = plt.figure()\n",
    "ax = fig.add_subplot(1, 1, 1)\n",
    "x,y =d1\n",
    "ax.scatter(x, y, alpha=0.8, c=colors[0], edgecolors='none', s=30, label=groups[0])\n",
    "plt.title('guessing_parameters learned from keras_3pl')\n",
    "plt.xlabel('x: num_items')\n",
    "plt.ylabel('y: values')\n",
    "plt.legend(loc=1)\n",
    "plt.show()"
   ]
  },
  {
   "cell_type": "markdown",
   "metadata": {},
   "source": [
    "* Combined"
   ]
  },
  {
   "cell_type": "code",
   "execution_count": 36,
   "metadata": {},
   "outputs": [
    {
     "data": {
      "image/png": "[encoded data removed]",
      "text/plain": [
       "<Figure size 432x288 with 1 Axes>"
      ]
     },
     "metadata": {
      "needs_background": "light"
     },
     "output_type": "display_data"
    }
   ],
   "source": [
    "fig = plt.figure()\n",
    "ax = fig.add_subplot(1, 1, 1)\n",
    "\n",
    "for data, color, group in zip(data_guess, colors, groups):\n",
    "    x,y = data\n",
    "    ax.scatter(x, y, alpha=0.8, c=color, edgecolors='none', s=30, label=group)\n",
    "\n",
    "plt.title('Similarity b/w guessing params from keras_3pl Vs.R_pl')\n",
    "plt.xlabel('x: num_items')\n",
    "plt.ylabel('y: values')\n",
    "plt.legend(loc=2)\n",
    "plt.show()"
   ]
  },
  {
   "cell_type": "markdown",
   "metadata": {},
   "source": [
    "### Item Characteristic curves from keras_3pl vs. R_3pl"
   ]
  },
  {
   "cell_type": "code",
   "execution_count": 37,
   "metadata": {},
   "outputs": [
    {
     "data": {
      "text/html": [
       "<div>\n",
       "<style scoped>\n",
       "    .dataframe tbody tr th:only-of-type {\n",
       "        vertical-align: middle;\n",
       "    }\n",
       "\n",
       "    .dataframe tbody tr th {\n",
       "        vertical-align: top;\n",
       "    }\n",
       "\n",
       "    .dataframe thead th {\n",
       "        text-align: right;\n",
       "    }\n",
       "</style>\n",
       "<table border=\"1\" class=\"dataframe\">\n",
       "  <thead>\n",
       "    <tr style=\"text-align: right;\">\n",
       "      <th></th>\n",
       "      <th>Unnamed: 0</th>\n",
       "      <th>Gussng</th>\n",
       "      <th>Dffclt</th>\n",
       "      <th>Dscrmn</th>\n",
       "    </tr>\n",
       "  </thead>\n",
       "  <tbody>\n",
       "    <tr>\n",
       "      <td>0</td>\n",
       "      <td>V1</td>\n",
       "      <td>0.000025</td>\n",
       "      <td>1.636048</td>\n",
       "      <td>1.414799</td>\n",
       "    </tr>\n",
       "    <tr>\n",
       "      <td>1</td>\n",
       "      <td>V2</td>\n",
       "      <td>0.106400</td>\n",
       "      <td>1.214459</td>\n",
       "      <td>2.006961</td>\n",
       "    </tr>\n",
       "    <tr>\n",
       "      <td>2</td>\n",
       "      <td>V3</td>\n",
       "      <td>0.000048</td>\n",
       "      <td>0.817690</td>\n",
       "      <td>1.208465</td>\n",
       "    </tr>\n",
       "    <tr>\n",
       "      <td>3</td>\n",
       "      <td>V4</td>\n",
       "      <td>0.079261</td>\n",
       "      <td>0.890029</td>\n",
       "      <td>2.529919</td>\n",
       "    </tr>\n",
       "    <tr>\n",
       "      <td>4</td>\n",
       "      <td>V5</td>\n",
       "      <td>0.000037</td>\n",
       "      <td>0.257974</td>\n",
       "      <td>1.352935</td>\n",
       "    </tr>\n",
       "    <tr>\n",
       "      <td>5</td>\n",
       "      <td>V6</td>\n",
       "      <td>0.000057</td>\n",
       "      <td>0.746576</td>\n",
       "      <td>1.479909</td>\n",
       "    </tr>\n",
       "    <tr>\n",
       "      <td>6</td>\n",
       "      <td>V7</td>\n",
       "      <td>0.000164</td>\n",
       "      <td>0.477205</td>\n",
       "      <td>0.881995</td>\n",
       "    </tr>\n",
       "    <tr>\n",
       "      <td>7</td>\n",
       "      <td>V8</td>\n",
       "      <td>0.000003</td>\n",
       "      <td>0.651561</td>\n",
       "      <td>1.526094</td>\n",
       "    </tr>\n",
       "    <tr>\n",
       "      <td>8</td>\n",
       "      <td>V9</td>\n",
       "      <td>0.001652</td>\n",
       "      <td>0.656884</td>\n",
       "      <td>1.886512</td>\n",
       "    </tr>\n",
       "    <tr>\n",
       "      <td>9</td>\n",
       "      <td>V10</td>\n",
       "      <td>0.000002</td>\n",
       "      <td>1.919147</td>\n",
       "      <td>2.114968</td>\n",
       "    </tr>\n",
       "  </tbody>\n",
       "</table>\n",
       "</div>"
      ],
      "text/plain": [
       "  Unnamed: 0    Gussng    Dffclt    Dscrmn\n",
       "0         V1  0.000025  1.636048  1.414799\n",
       "1         V2  0.106400  1.214459  2.006961\n",
       "2         V3  0.000048  0.817690  1.208465\n",
       "3         V4  0.079261  0.890029  2.529919\n",
       "4         V5  0.000037  0.257974  1.352935\n",
       "5         V6  0.000057  0.746576  1.479909\n",
       "6         V7  0.000164  0.477205  0.881995\n",
       "7         V8  0.000003  0.651561  1.526094\n",
       "8         V9  0.001652  0.656884  1.886512\n",
       "9        V10  0.000002  1.919147  2.114968"
      ]
     },
     "execution_count": 37,
     "metadata": {},
     "output_type": "execute_result"
    }
   ],
   "source": [
    "coeff"
   ]
  },
  {
   "cell_type": "code",
   "execution_count": 38,
   "metadata": {},
   "outputs": [
    {
     "data": {
      "text/plain": [
       "['Unnamed: 0', 'Gussng', 'Dffclt', 'Dscrmn']"
      ]
     },
     "execution_count": 38,
     "metadata": {},
     "output_type": "execute_result"
    }
   ],
   "source": [
    "r_params_cols"
   ]
  },
  {
   "cell_type": "markdown",
   "metadata": {},
   "source": [
    "* Item characterstic plotting function for 3PL"
   ]
  },
  {
   "cell_type": "code",
   "execution_count": 39,
   "metadata": {},
   "outputs": [],
   "source": [
    "x = np.linspace(-4,4, num=500)\n",
    "def logit_func(x):#c:guess, a:descrimination, b:difficulty\n",
    "    val = list()\n",
    "    val.append(c+ (1-c)*(np.exp(a*(x-b))/(1+np.exp(a*(x-b)))))\n",
    "    return val"
   ]
  },
  {
   "cell_type": "markdown",
   "metadata": {},
   "source": [
    "### Individual plots for each item(1-10) across keras method vs. R tpm\n",
    "* calculating plots for R's item 1 & keras's item 1"
   ]
  },
  {
   "cell_type": "code",
   "execution_count": 40,
   "metadata": {},
   "outputs": [
    {
     "data": {
      "text/plain": [
       "'V1'"
      ]
     },
     "execution_count": 40,
     "metadata": {},
     "output_type": "execute_result"
    }
   ],
   "source": [
    "coeff[r_params_cols[0]].iloc[0]"
   ]
  },
  {
   "cell_type": "code",
   "execution_count": 41,
   "metadata": {},
   "outputs": [],
   "source": [
    "#values of item 1 from R's dataframe\n",
    "c= coeff[r_params_cols[1]].iloc[0]#c:guess\n",
    "a= coeff[r_params_cols[-1]].iloc[0]#a:descrimination\n",
    "b= coeff[r_params_cols[2]].iloc[0]#b:difficulty\n",
    "vals_r= logit_func(x)#logits for R's dataframe\n",
    "###\n",
    "c= pseudo_guess_parameters[0]#values for item 1 from keras 3pl params\n",
    "a= discrimination_parameters[0]\n",
    "b= difficulty_level_parameters[0]\n",
    "vals_keras= logit_func(x)#logits for R's dataframe"
   ]
  },
  {
   "cell_type": "code",
   "execution_count": 42,
   "metadata": {},
   "outputs": [
    {
     "data": {
      "image/png": "[encoded data removed]",
      "text/plain": [
       "<Figure size 432x288 with 1 Axes>"
      ]
     },
     "metadata": {
      "needs_background": "light"
     },
     "output_type": "display_data"
    }
   ],
   "source": [
    "plt.plot(x,vals_r[0], 'r', label='R_3pl')\n",
    "plt.plot(x,vals_keras[0], 'b', label='keras_3pl')\n",
    "\n",
    "plt.title('ICC for item1 from keras_3pl Vs.R_3pl')\n",
    "plt.xlabel('x: latent_trait_vals')\n",
    "plt.ylabel('y: P(i=1|x)')\n",
    "plt.legend(loc=2)\n",
    "plt.show()"
   ]
  },
  {
   "cell_type": "markdown",
   "metadata": {},
   "source": [
    "* calculating plots for R's item 2 & keras's item 2"
   ]
  },
  {
   "cell_type": "code",
   "execution_count": 43,
   "metadata": {},
   "outputs": [
    {
     "data": {
      "text/plain": [
       "'V2'"
      ]
     },
     "execution_count": 43,
     "metadata": {},
     "output_type": "execute_result"
    }
   ],
   "source": [
    "coeff[r_params_cols[0]].iloc[1]"
   ]
  },
  {
   "cell_type": "code",
   "execution_count": 44,
   "metadata": {},
   "outputs": [],
   "source": [
    "c= coeff[r_params_cols[1]].iloc[1]#values of item 2 from R's dataframe\n",
    "a= coeff[r_params_cols[-1]].iloc[1]\n",
    "b= coeff[r_params_cols[2]].iloc[1]\n",
    "vals_r= logit_func(x)#logits for R's dataframe\n",
    "###\n",
    "c= pseudo_guess_parameters[1]#values for item 2 from keras 3pl params\n",
    "a= discrimination_parameters[1]\n",
    "b= difficulty_level_parameters[1]\n",
    "vals_keras= logit_func(x)#logits for R's dataframe"
   ]
  },
  {
   "cell_type": "code",
   "execution_count": 45,
   "metadata": {},
   "outputs": [
    {
     "data": {
      "image/png": "[encoded data removed]",
      "text/plain": [
       "<Figure size 432x288 with 1 Axes>"
      ]
     },
     "metadata": {
      "needs_background": "light"
     },
     "output_type": "display_data"
    }
   ],
   "source": [
    "plt.plot(x,vals_r[0], 'r', label='R_3pl')\n",
    "plt.plot(x,vals_keras[0], 'b', label='keras_3pl')\n",
    "\n",
    "plt.title('ICC for item 2 from keras_3pl Vs.R_3pl')\n",
    "plt.xlabel('x: latent_trait_vals')\n",
    "plt.ylabel('y: P(i=1|x)')\n",
    "plt.legend(loc=2)\n",
    "plt.show()"
   ]
  },
  {
   "cell_type": "markdown",
   "metadata": {},
   "source": [
    "* calculating plots for R's item 3 & keras's item 3"
   ]
  },
  {
   "cell_type": "code",
   "execution_count": 46,
   "metadata": {},
   "outputs": [
    {
     "data": {
      "text/plain": [
       "'V3'"
      ]
     },
     "execution_count": 46,
     "metadata": {},
     "output_type": "execute_result"
    }
   ],
   "source": [
    "coeff[r_params_cols[0]].iloc[2]"
   ]
  },
  {
   "cell_type": "code",
   "execution_count": 47,
   "metadata": {},
   "outputs": [],
   "source": [
    "c= coeff[r_params_cols[1]].iloc[2]#values of item 3 from R's dataframe\n",
    "a= coeff[r_params_cols[-1]].iloc[2]\n",
    "b= coeff[r_params_cols[2]].iloc[2]\n",
    "vals_r= logit_func(x)#logits for R's dataframe\n",
    "####\n",
    "c= pseudo_guess_parameters[2]#values for item 3 from keras 3pl params\n",
    "a= discrimination_parameters[2]\n",
    "b= difficulty_level_parameters[2]\n",
    "vals_keras= logit_func(x)#logits for R's dataframe"
   ]
  },
  {
   "cell_type": "code",
   "execution_count": 48,
   "metadata": {},
   "outputs": [
    {
     "data": {
      "image/png": "[encoded data removed]",
      "text/plain": [
       "<Figure size 432x288 with 1 Axes>"
      ]
     },
     "metadata": {
      "needs_background": "light"
     },
     "output_type": "display_data"
    }
   ],
   "source": [
    "plt.plot(x,vals_r[0], 'r', label='R_3pl')\n",
    "plt.plot(x,vals_keras[0], 'b', label='keras_3pl')\n",
    "\n",
    "plt.title('ICC for item 3 from keras_3pl Vs.R_3pl')\n",
    "plt.xlabel('x: latent_trait_vals')\n",
    "plt.ylabel('y: P(i=1|x)')\n",
    "plt.legend(loc=2)\n",
    "plt.show()"
   ]
  },
  {
   "cell_type": "markdown",
   "metadata": {},
   "source": [
    "* calculating plots for R's item 3 & keras's item 4"
   ]
  },
  {
   "cell_type": "code",
   "execution_count": 49,
   "metadata": {},
   "outputs": [
    {
     "data": {
      "text/plain": [
       "'V4'"
      ]
     },
     "execution_count": 49,
     "metadata": {},
     "output_type": "execute_result"
    }
   ],
   "source": [
    "coeff[r_params_cols[0]].iloc[3]"
   ]
  },
  {
   "cell_type": "code",
   "execution_count": 50,
   "metadata": {},
   "outputs": [],
   "source": [
    "c= coeff[r_params_cols[1]].iloc[3]#values of item 4 from R's dataframe\n",
    "a= coeff[r_params_cols[-1]].iloc[3]\n",
    "b= coeff[r_params_cols[2]].iloc[3]\n",
    "vals_r= logit_func(x)#logits for R's dataframe\n",
    "###\n",
    "c= pseudo_guess_parameters[3]#values for item 4 from keras 3pl params\n",
    "a= discrimination_parameters[3]\n",
    "b= difficulty_level_parameters[3]\n",
    "vals_keras= logit_func(x)#logits for R's dataframe"
   ]
  },
  {
   "cell_type": "code",
   "execution_count": 51,
   "metadata": {},
   "outputs": [
    {
     "data": {
      "image/png": "[encoded data removed]",
      "text/plain": [
       "<Figure size 432x288 with 1 Axes>"
      ]
     },
     "metadata": {
      "needs_background": "light"
     },
     "output_type": "display_data"
    }
   ],
   "source": [
    "plt.plot(x,vals_r[0], 'r', label='R_3pl')\n",
    "plt.plot(x,vals_keras[0], 'b', label='keras_3pl')\n",
    "\n",
    "plt.title('ICC for item 4 from keras_3pl Vs.R_3pl')\n",
    "plt.xlabel('x: latent_trait_vals')\n",
    "plt.ylabel('y: P(i=1|x)')\n",
    "plt.legend(loc=2)\n",
    "plt.show()"
   ]
  },
  {
   "cell_type": "markdown",
   "metadata": {},
   "source": [
    "* calculating plots for R's item 3 & keras's item 5"
   ]
  },
  {
   "cell_type": "code",
   "execution_count": 52,
   "metadata": {},
   "outputs": [
    {
     "data": {
      "text/plain": [
       "'V5'"
      ]
     },
     "execution_count": 52,
     "metadata": {},
     "output_type": "execute_result"
    }
   ],
   "source": [
    "coeff[r_params_cols[0]].iloc[4]"
   ]
  },
  {
   "cell_type": "code",
   "execution_count": 53,
   "metadata": {},
   "outputs": [],
   "source": [
    "c= coeff[r_params_cols[1]].iloc[4]#values of item 5 from R's dataframe\n",
    "a= coeff[r_params_cols[-1]].iloc[4]\n",
    "b= coeff[r_params_cols[2]].iloc[4]\n",
    "vals_r= logit_func(x)#logits for R's dataframe\n",
    "###\n",
    "c= pseudo_guess_parameters[4]#values for item 5 from keras 3pl params\n",
    "a= discrimination_parameters[4]\n",
    "b= difficulty_level_parameters[4]\n",
    "vals_keras= logit_func(x)#logits for R's dataframe"
   ]
  },
  {
   "cell_type": "code",
   "execution_count": 54,
   "metadata": {},
   "outputs": [
    {
     "data": {
      "image/png": "[encoded data removed]",
      "text/plain": [
       "<Figure size 432x288 with 1 Axes>"
      ]
     },
     "metadata": {
      "needs_background": "light"
     },
     "output_type": "display_data"
    }
   ],
   "source": [
    "plt.plot(x,vals_r[0], 'r', label='R_3pl')\n",
    "plt.plot(x,vals_keras[0], 'b', label='keras_3pl')\n",
    "\n",
    "plt.title('ICC for item 5 from keras_3pl Vs.R_3pl')\n",
    "plt.xlabel('x: latent_trait_vals')\n",
    "plt.ylabel('y: P(i=1|x)')\n",
    "plt.legend(loc=2)\n",
    "plt.show()"
   ]
  },
  {
   "cell_type": "markdown",
   "metadata": {},
   "source": [
    "* calculating plots for R's item 3 & keras's item 6"
   ]
  },
  {
   "cell_type": "code",
   "execution_count": 55,
   "metadata": {},
   "outputs": [
    {
     "data": {
      "text/plain": [
       "'V6'"
      ]
     },
     "execution_count": 55,
     "metadata": {},
     "output_type": "execute_result"
    }
   ],
   "source": [
    "coeff[r_params_cols[0]].iloc[5]"
   ]
  },
  {
   "cell_type": "code",
   "execution_count": 56,
   "metadata": {},
   "outputs": [],
   "source": [
    "c= coeff[r_params_cols[1]].iloc[5]#values of item 6 from R's dataframe\n",
    "a= coeff[r_params_cols[-1]].iloc[5]\n",
    "b= coeff[r_params_cols[2]].iloc[5]\n",
    "vals_r= logit_func(x)#logits for R's dataframe\n",
    "###\n",
    "c= pseudo_guess_parameters[5]#values for item 6 from keras 3pl params\n",
    "a= discrimination_parameters[5]\n",
    "b= difficulty_level_parameters[5]\n",
    "vals_keras= logit_func(x)#logits for R's dataframe"
   ]
  },
  {
   "cell_type": "code",
   "execution_count": 57,
   "metadata": {},
   "outputs": [
    {
     "data": {
      "image/png": "[encoded data removed]",
      "text/plain": [
       "<Figure size 432x288 with 1 Axes>"
      ]
     },
     "metadata": {
      "needs_background": "light"
     },
     "output_type": "display_data"
    }
   ],
   "source": [
    "plt.plot(x,vals_r[0], 'r', label='R_3pl')\n",
    "plt.plot(x,vals_keras[0], 'b', label='keras_3pl')\n",
    "\n",
    "plt.title('ICC for item 6 from keras_3pl Vs.R_3pl')\n",
    "plt.xlabel('x: latent_trait_vals')\n",
    "plt.ylabel('y: P(i=1|x)')\n",
    "plt.legend(loc=2)\n",
    "plt.show()"
   ]
  },
  {
   "cell_type": "markdown",
   "metadata": {},
   "source": [
    "* calculating plots for R's item 3 & keras's item 7"
   ]
  },
  {
   "cell_type": "code",
   "execution_count": 58,
   "metadata": {},
   "outputs": [
    {
     "data": {
      "text/plain": [
       "'V7'"
      ]
     },
     "execution_count": 58,
     "metadata": {},
     "output_type": "execute_result"
    }
   ],
   "source": [
    "coeff[r_params_cols[0]].iloc[6]"
   ]
  },
  {
   "cell_type": "code",
   "execution_count": 59,
   "metadata": {},
   "outputs": [],
   "source": [
    "c= coeff[r_params_cols[1]].iloc[6]#values of item 6 from R's dataframe\n",
    "a= coeff[r_params_cols[-1]].iloc[6]\n",
    "b= coeff[r_params_cols[2]].iloc[6]\n",
    "vals_r= logit_func(x)#logits for R's dataframe\n",
    "###\n",
    "c= pseudo_guess_parameters[6]#values for item 6 from keras 3pl params\n",
    "a= discrimination_parameters[6]\n",
    "b= difficulty_level_parameters[6]\n",
    "vals_keras= logit_func(x)#logits for R's dataframe"
   ]
  },
  {
   "cell_type": "code",
   "execution_count": 60,
   "metadata": {},
   "outputs": [
    {
     "data": {
      "image/png": "[encoded data removed]",
      "text/plain": [
       "<Figure size 432x288 with 1 Axes>"
      ]
     },
     "metadata": {
      "needs_background": "light"
     },
     "output_type": "display_data"
    }
   ],
   "source": [
    "plt.plot(x,vals_r[0], 'r', label='R_3pl')\n",
    "plt.plot(x,vals_keras[0], 'b', label='keras_3pl')\n",
    "\n",
    "plt.title('ICC for item 7 from keras_3pl Vs.R_3pl')\n",
    "plt.xlabel('x: latent_trait_vals')\n",
    "plt.ylabel('y: P(i=1|x)')\n",
    "plt.legend(loc=2)\n",
    "plt.show()"
   ]
  },
  {
   "cell_type": "markdown",
   "metadata": {},
   "source": [
    "* calculating plots for R's item 3 & keras's item 8"
   ]
  },
  {
   "cell_type": "code",
   "execution_count": 61,
   "metadata": {},
   "outputs": [
    {
     "data": {
      "text/plain": [
       "'V8'"
      ]
     },
     "execution_count": 61,
     "metadata": {},
     "output_type": "execute_result"
    }
   ],
   "source": [
    "coeff[r_params_cols[0]].iloc[7]"
   ]
  },
  {
   "cell_type": "code",
   "execution_count": 62,
   "metadata": {},
   "outputs": [],
   "source": [
    "c= coeff[r_params_cols[1]].iloc[7]#values of item 6 from R's dataframe\n",
    "a= coeff[r_params_cols[-1]].iloc[7]\n",
    "b= coeff[r_params_cols[2]].iloc[7]\n",
    "vals_r= logit_func(x)#logits for R's dataframe\n",
    "###\n",
    "c= pseudo_guess_parameters[7]#values for item 6 from keras 3pl params\n",
    "a= discrimination_parameters[7]\n",
    "b= difficulty_level_parameters[7]\n",
    "vals_keras= logit_func(x)#logits for R's dataframe"
   ]
  },
  {
   "cell_type": "code",
   "execution_count": 63,
   "metadata": {},
   "outputs": [
    {
     "data": {
      "image/png": "[encoded data removed]",
      "text/plain": [
       "<Figure size 432x288 with 1 Axes>"
      ]
     },
     "metadata": {
      "needs_background": "light"
     },
     "output_type": "display_data"
    }
   ],
   "source": [
    "plt.plot(x,vals_r[0], 'r', label='R_3pl')\n",
    "plt.plot(x,vals_keras[0], 'b', label='keras_3pl')\n",
    "\n",
    "plt.title('ICC for item 8 from keras_3pl Vs.R_3pl')\n",
    "plt.xlabel('x: latent_trait_vals')\n",
    "plt.ylabel('y: P(i=1|x)')\n",
    "plt.legend(loc=2)\n",
    "plt.show()"
   ]
  },
  {
   "cell_type": "markdown",
   "metadata": {},
   "source": [
    "* calculating plots for R's item 3 & keras's item 9"
   ]
  },
  {
   "cell_type": "code",
   "execution_count": 64,
   "metadata": {},
   "outputs": [
    {
     "data": {
      "text/plain": [
       "'V9'"
      ]
     },
     "execution_count": 64,
     "metadata": {},
     "output_type": "execute_result"
    }
   ],
   "source": [
    "coeff[r_params_cols[0]].iloc[8]"
   ]
  },
  {
   "cell_type": "code",
   "execution_count": 65,
   "metadata": {},
   "outputs": [],
   "source": [
    "c= coeff[r_params_cols[1]].iloc[8]#values of item 6 from R's dataframe\n",
    "a= coeff[r_params_cols[-1]].iloc[8]\n",
    "b= coeff[r_params_cols[2]].iloc[8]\n",
    "vals_r= logit_func(x)#logits for R's dataframe\n",
    "###\n",
    "c= pseudo_guess_parameters[8]#values for item 6 from keras 3pl params\n",
    "a= discrimination_parameters[8]\n",
    "b= difficulty_level_parameters[8]\n",
    "vals_keras= logit_func(x)#logits for R's dataframe"
   ]
  },
  {
   "cell_type": "code",
   "execution_count": 66,
   "metadata": {},
   "outputs": [
    {
     "data": {
      "image/png": "[encoded data removed]",
      "text/plain": [
       "<Figure size 432x288 with 1 Axes>"
      ]
     },
     "metadata": {
      "needs_background": "light"
     },
     "output_type": "display_data"
    }
   ],
   "source": [
    "plt.plot(x,vals_r[0], 'r', label='R_3pl')\n",
    "plt.plot(x,vals_keras[0], 'b', label='keras_3pl')\n",
    "\n",
    "plt.title('ICC for item 9 from keras_3pl Vs.R_3pl')\n",
    "plt.xlabel('x: latent_trait_vals')\n",
    "plt.ylabel('y: P(i=1|x)')\n",
    "plt.legend(loc=2)\n",
    "plt.show()"
   ]
  },
  {
   "cell_type": "markdown",
   "metadata": {},
   "source": [
    "* calculating plots for R's item 3 & keras's item 10"
   ]
  },
  {
   "cell_type": "code",
   "execution_count": 67,
   "metadata": {},
   "outputs": [
    {
     "data": {
      "text/plain": [
       "'V10'"
      ]
     },
     "execution_count": 67,
     "metadata": {},
     "output_type": "execute_result"
    }
   ],
   "source": [
    "coeff[r_params_cols[0]].iloc[9]"
   ]
  },
  {
   "cell_type": "code",
   "execution_count": 68,
   "metadata": {},
   "outputs": [],
   "source": [
    "c= coeff[r_params_cols[1]].iloc[9]#values of item 6 from R's dataframe\n",
    "a= coeff[r_params_cols[-1]].iloc[9]\n",
    "b= coeff[r_params_cols[2]].iloc[9]\n",
    "vals_r= logit_func(x)#logits for R's dataframe\n",
    "###\n",
    "c= pseudo_guess_parameters[9]#values for item 6 from keras 3pl params\n",
    "a= discrimination_parameters[9]\n",
    "b= difficulty_level_parameters[9]\n",
    "vals_keras= logit_func(x)#logits for R's dataframe"
   ]
  },
  {
   "cell_type": "code",
   "execution_count": 69,
   "metadata": {},
   "outputs": [
    {
     "data": {
      "image/png": "[encoded data removed]",
      "text/plain": [
       "<Figure size 432x288 with 1 Axes>"
      ]
     },
     "metadata": {
      "needs_background": "light"
     },
     "output_type": "display_data"
    }
   ],
   "source": [
    "plt.plot(x,vals_r[0], 'r', label='R_3pl')\n",
    "plt.plot(x,vals_keras[0], 'b', label='keras_3pl')\n",
    "\n",
    "plt.title('ICC for item 10 from keras_3pl Vs.R_3pl')\n",
    "plt.xlabel('x: latent_trait_vals')\n",
    "plt.ylabel('y: P(i=1|x)')\n",
    "plt.legend(loc=2)\n",
    "plt.show()"
   ]
  },
  {
   "cell_type": "markdown",
   "metadata": {},
   "source": [
    "### Item characteristic curves for all items from R tpm"
   ]
  },
  {
   "cell_type": "code",
   "execution_count": 70,
   "metadata": {},
   "outputs": [
    {
     "data": {
      "image/png": "[encoded data removed]",
      "text/plain": [
       "<Figure size 432x288 with 1 Axes>"
      ]
     },
     "metadata": {
      "needs_background": "light"
     },
     "output_type": "display_data"
    }
   ],
   "source": [
    "for i in range(coeff.shape[0]):\n",
    "    c= coeff[r_params_cols[1]].iloc[i]#values of item 6 from R's dataframe\n",
    "    a= coeff[r_params_cols[-1]].iloc[i]\n",
    "    b= coeff[r_params_cols[2]].iloc[i]\n",
    "    vals_r= logit_func(x)\n",
    "    plt.plot(x,vals_r[0], 'r')\n",
    "\n",
    "plt.title('ICC for each of 10 items from R_3pl')\n",
    "plt.xlabel('x: latent_trait_vals')\n",
    "plt.ylabel('y: P(i=1|x)')\n",
    "plt.show()"
   ]
  },
  {
   "cell_type": "markdown",
   "metadata": {},
   "source": [
    "### Item characteristic curves for all items from keras 3PL"
   ]
  },
  {
   "cell_type": "code",
   "execution_count": 71,
   "metadata": {},
   "outputs": [
    {
     "data": {
      "image/png": "[encoded data removed]",
      "text/plain": [
       "<Figure size 432x288 with 1 Axes>"
      ]
     },
     "metadata": {
      "needs_background": "light"
     },
     "output_type": "display_data"
    }
   ],
   "source": [
    "for i in range(len(rel_items)):#10 items\n",
    "    c= pseudo_guess_parameters[i]#values for item 6 from keras 3pl params\n",
    "    a= discrimination_parameters[i]\n",
    "    b= difficulty_level_parameters[i]\n",
    "    vals_keras= logit_func(x)\n",
    "    plt.plot(x,vals_keras[0], 'b')\n",
    "\n",
    "plt.title('ICC for each of 10 items from keras_3pl')\n",
    "plt.xlabel('x: latent_trait_vals')\n",
    "plt.ylabel('y: P(i=1|x)')\n",
    "plt.show()"
   ]
  },
  {
   "cell_type": "code",
   "execution_count": null,
   "metadata": {},
   "outputs": [],
   "source": []
  }
 ],
 "metadata": {
  "kernelspec": {
   "display_name": "Python 3",
   "language": "python",
   "name": "python3"
  },
  "language_info": {
   "codemirror_mode": {
    "name": "ipython",
    "version": 3
   },
   "file_extension": ".py",
   "mimetype": "text/x-python",
   "name": "python",
   "nbconvert_exporter": "python",
   "pygments_lexer": "ipython3",
   "version": "3.6.8"
  }
 },
 "nbformat": 4,
 "nbformat_minor": 2
}
