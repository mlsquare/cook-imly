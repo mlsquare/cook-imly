{
 "cells": [
  {
   "cell_type": "code",
   "execution_count": 1,
   "metadata": {
    "scrolled": true
   },
   "outputs": [
    {
     "data": {
      "text/html": [
       "<div>\n",
       "<style scoped>\n",
       "    .dataframe tbody tr th:only-of-type {\n",
       "        vertical-align: middle;\n",
       "    }\n",
       "\n",
       "    .dataframe tbody tr th {\n",
       "        vertical-align: top;\n",
       "    }\n",
       "\n",
       "    .dataframe thead th {\n",
       "        text-align: right;\n",
       "    }\n",
       "</style>\n",
       "<table border=\"1\" class=\"dataframe\">\n",
       "  <thead>\n",
       "    <tr style=\"text-align: right;\">\n",
       "      <th></th>\n",
       "      <th>Q1</th>\n",
       "      <th>Q2</th>\n",
       "      <th>Q3</th>\n",
       "      <th>Q4</th>\n",
       "      <th>Q5</th>\n",
       "      <th>Q6</th>\n",
       "      <th>Q7</th>\n",
       "      <th>Q8</th>\n",
       "      <th>Q9</th>\n",
       "      <th>Q10</th>\n",
       "    </tr>\n",
       "  </thead>\n",
       "  <tbody>\n",
       "    <tr>\n",
       "      <td>NaN</td>\n",
       "      <td>0</td>\n",
       "      <td>1</td>\n",
       "      <td>1</td>\n",
       "      <td>1</td>\n",
       "      <td>1</td>\n",
       "      <td>1</td>\n",
       "      <td>1</td>\n",
       "      <td>1</td>\n",
       "      <td>1</td>\n",
       "      <td>0</td>\n",
       "    </tr>\n",
       "    <tr>\n",
       "      <td>NaN</td>\n",
       "      <td>0</td>\n",
       "      <td>1</td>\n",
       "      <td>0</td>\n",
       "      <td>0</td>\n",
       "      <td>1</td>\n",
       "      <td>0</td>\n",
       "      <td>1</td>\n",
       "      <td>0</td>\n",
       "      <td>0</td>\n",
       "      <td>0</td>\n",
       "    </tr>\n",
       "  </tbody>\n",
       "</table>\n",
       "</div>"
      ],
      "text/plain": [
       "     Q1  Q2  Q3  Q4  Q5  Q6  Q7  Q8  Q9  Q10\n",
       "NaN   0   1   1   1   1   1   1   1   1    0\n",
       "NaN   0   1   0   0   1   0   1   0   0    0"
      ]
     },
     "execution_count": 1,
     "metadata": {},
     "output_type": "execute_result"
    }
   ],
   "source": [
    "import pandas as pd\n",
    "import numpy as np\n",
    "#from numpy.random import seed\n",
    "#seed(1)\n",
    "\n",
    "cols= ['Q{}'.format(idx) for idx in range(1,11)]\n",
    "data= pd.read_csv('ouirt.dat', sep= ' ', names= cols)\n",
    "num_users= data.shape[0]\n",
    "\n",
    "data.head(2)"
   ]
  },
  {
   "cell_type": "code",
   "execution_count": 2,
   "metadata": {},
   "outputs": [
    {
     "data": {
      "text/html": [
       "<div>\n",
       "<style scoped>\n",
       "    .dataframe tbody tr th:only-of-type {\n",
       "        vertical-align: middle;\n",
       "    }\n",
       "\n",
       "    .dataframe tbody tr th {\n",
       "        vertical-align: top;\n",
       "    }\n",
       "\n",
       "    .dataframe thead th {\n",
       "        text-align: right;\n",
       "    }\n",
       "</style>\n",
       "<table border=\"1\" class=\"dataframe\">\n",
       "  <thead>\n",
       "    <tr style=\"text-align: right;\">\n",
       "      <th></th>\n",
       "      <th>Q1</th>\n",
       "      <th>Q2</th>\n",
       "      <th>Q3</th>\n",
       "      <th>Q4</th>\n",
       "      <th>Q5</th>\n",
       "      <th>Q6</th>\n",
       "      <th>Q7</th>\n",
       "      <th>Q8</th>\n",
       "      <th>Q9</th>\n",
       "      <th>Q10</th>\n",
       "    </tr>\n",
       "  </thead>\n",
       "  <tbody>\n",
       "    <tr>\n",
       "      <td>count</td>\n",
       "      <td>500.000000</td>\n",
       "      <td>500.000000</td>\n",
       "      <td>500.000000</td>\n",
       "      <td>500.000000</td>\n",
       "      <td>500.000000</td>\n",
       "      <td>500.000000</td>\n",
       "      <td>500.000000</td>\n",
       "      <td>500.000000</td>\n",
       "      <td>500.000000</td>\n",
       "      <td>500.000000</td>\n",
       "    </tr>\n",
       "    <tr>\n",
       "      <td>mean</td>\n",
       "      <td>0.150000</td>\n",
       "      <td>0.268000</td>\n",
       "      <td>0.318000</td>\n",
       "      <td>0.296000</td>\n",
       "      <td>0.438000</td>\n",
       "      <td>0.314000</td>\n",
       "      <td>0.412000</td>\n",
       "      <td>0.334000</td>\n",
       "      <td>0.318000</td>\n",
       "      <td>0.070000</td>\n",
       "    </tr>\n",
       "    <tr>\n",
       "      <td>std</td>\n",
       "      <td>0.357429</td>\n",
       "      <td>0.443361</td>\n",
       "      <td>0.466166</td>\n",
       "      <td>0.456948</td>\n",
       "      <td>0.496638</td>\n",
       "      <td>0.464581</td>\n",
       "      <td>0.492688</td>\n",
       "      <td>0.472112</td>\n",
       "      <td>0.466166</td>\n",
       "      <td>0.255403</td>\n",
       "    </tr>\n",
       "    <tr>\n",
       "      <td>min</td>\n",
       "      <td>0.000000</td>\n",
       "      <td>0.000000</td>\n",
       "      <td>0.000000</td>\n",
       "      <td>0.000000</td>\n",
       "      <td>0.000000</td>\n",
       "      <td>0.000000</td>\n",
       "      <td>0.000000</td>\n",
       "      <td>0.000000</td>\n",
       "      <td>0.000000</td>\n",
       "      <td>0.000000</td>\n",
       "    </tr>\n",
       "    <tr>\n",
       "      <td>25%</td>\n",
       "      <td>0.000000</td>\n",
       "      <td>0.000000</td>\n",
       "      <td>0.000000</td>\n",
       "      <td>0.000000</td>\n",
       "      <td>0.000000</td>\n",
       "      <td>0.000000</td>\n",
       "      <td>0.000000</td>\n",
       "      <td>0.000000</td>\n",
       "      <td>0.000000</td>\n",
       "      <td>0.000000</td>\n",
       "    </tr>\n",
       "    <tr>\n",
       "      <td>50%</td>\n",
       "      <td>0.000000</td>\n",
       "      <td>0.000000</td>\n",
       "      <td>0.000000</td>\n",
       "      <td>0.000000</td>\n",
       "      <td>0.000000</td>\n",
       "      <td>0.000000</td>\n",
       "      <td>0.000000</td>\n",
       "      <td>0.000000</td>\n",
       "      <td>0.000000</td>\n",
       "      <td>0.000000</td>\n",
       "    </tr>\n",
       "    <tr>\n",
       "      <td>75%</td>\n",
       "      <td>0.000000</td>\n",
       "      <td>1.000000</td>\n",
       "      <td>1.000000</td>\n",
       "      <td>1.000000</td>\n",
       "      <td>1.000000</td>\n",
       "      <td>1.000000</td>\n",
       "      <td>1.000000</td>\n",
       "      <td>1.000000</td>\n",
       "      <td>1.000000</td>\n",
       "      <td>0.000000</td>\n",
       "    </tr>\n",
       "    <tr>\n",
       "      <td>max</td>\n",
       "      <td>1.000000</td>\n",
       "      <td>1.000000</td>\n",
       "      <td>1.000000</td>\n",
       "      <td>1.000000</td>\n",
       "      <td>1.000000</td>\n",
       "      <td>1.000000</td>\n",
       "      <td>1.000000</td>\n",
       "      <td>1.000000</td>\n",
       "      <td>1.000000</td>\n",
       "      <td>1.000000</td>\n",
       "    </tr>\n",
       "  </tbody>\n",
       "</table>\n",
       "</div>"
      ],
      "text/plain": [
       "               Q1          Q2          Q3          Q4          Q5          Q6  \\\n",
       "count  500.000000  500.000000  500.000000  500.000000  500.000000  500.000000   \n",
       "mean     0.150000    0.268000    0.318000    0.296000    0.438000    0.314000   \n",
       "std      0.357429    0.443361    0.466166    0.456948    0.496638    0.464581   \n",
       "min      0.000000    0.000000    0.000000    0.000000    0.000000    0.000000   \n",
       "25%      0.000000    0.000000    0.000000    0.000000    0.000000    0.000000   \n",
       "50%      0.000000    0.000000    0.000000    0.000000    0.000000    0.000000   \n",
       "75%      0.000000    1.000000    1.000000    1.000000    1.000000    1.000000   \n",
       "max      1.000000    1.000000    1.000000    1.000000    1.000000    1.000000   \n",
       "\n",
       "               Q7          Q8          Q9         Q10  \n",
       "count  500.000000  500.000000  500.000000  500.000000  \n",
       "mean     0.412000    0.334000    0.318000    0.070000  \n",
       "std      0.492688    0.472112    0.466166    0.255403  \n",
       "min      0.000000    0.000000    0.000000    0.000000  \n",
       "25%      0.000000    0.000000    0.000000    0.000000  \n",
       "50%      0.000000    0.000000    0.000000    0.000000  \n",
       "75%      1.000000    1.000000    1.000000    0.000000  \n",
       "max      1.000000    1.000000    1.000000    1.000000  "
      ]
     },
     "execution_count": 2,
     "metadata": {},
     "output_type": "execute_result"
    }
   ],
   "source": [
    "data= pd.DataFrame(data.values, columns=cols)\n",
    "data.describe()"
   ]
  },
  {
   "cell_type": "markdown",
   "metadata": {},
   "source": [
    "* Truncate number of questions in dataframe"
   ]
  },
  {
   "cell_type": "code",
   "execution_count": 3,
   "metadata": {
    "scrolled": true
   },
   "outputs": [],
   "source": [
    "rel_items = cols[:]#all Questions 1-10\n",
    "df = data[rel_items]"
   ]
  },
  {
   "cell_type": "code",
   "execution_count": 4,
   "metadata": {},
   "outputs": [],
   "source": [
    "df_cols = ['user','questions', 'response']#final dataframe cols\n",
    "\n",
    "from collections import defaultdict\n",
    "di = defaultdict(dict)\n",
    "for idx in rel_items:\n",
    "    di[idx].update(zip(range(df.shape[0]), df[idx].values))#makes format {'Q1':{user:responses,1:0,2:0,. . .,}}"
   ]
  },
  {
   "cell_type": "markdown",
   "metadata": {},
   "source": [
    "* Following dataframe contains-- user id, questions id, corresponding response value"
   ]
  },
  {
   "cell_type": "code",
   "execution_count": 5,
   "metadata": {},
   "outputs": [
    {
     "data": {
      "text/html": [
       "<div>\n",
       "<style scoped>\n",
       "    .dataframe tbody tr th:only-of-type {\n",
       "        vertical-align: middle;\n",
       "    }\n",
       "\n",
       "    .dataframe tbody tr th {\n",
       "        vertical-align: top;\n",
       "    }\n",
       "\n",
       "    .dataframe thead th {\n",
       "        text-align: right;\n",
       "    }\n",
       "</style>\n",
       "<table border=\"1\" class=\"dataframe\">\n",
       "  <thead>\n",
       "    <tr style=\"text-align: right;\">\n",
       "      <th></th>\n",
       "      <th>user</th>\n",
       "      <th>questions</th>\n",
       "      <th>response</th>\n",
       "    </tr>\n",
       "  </thead>\n",
       "  <tbody>\n",
       "    <tr>\n",
       "      <td>4429</td>\n",
       "      <td>429</td>\n",
       "      <td>Q9</td>\n",
       "      <td>0</td>\n",
       "    </tr>\n",
       "    <tr>\n",
       "      <td>2948</td>\n",
       "      <td>448</td>\n",
       "      <td>Q6</td>\n",
       "      <td>0</td>\n",
       "    </tr>\n",
       "    <tr>\n",
       "      <td>4172</td>\n",
       "      <td>172</td>\n",
       "      <td>Q9</td>\n",
       "      <td>1</td>\n",
       "    </tr>\n",
       "    <tr>\n",
       "      <td>2858</td>\n",
       "      <td>358</td>\n",
       "      <td>Q6</td>\n",
       "      <td>0</td>\n",
       "    </tr>\n",
       "  </tbody>\n",
       "</table>\n",
       "</div>"
      ],
      "text/plain": [
       "      user questions  response\n",
       "4429   429        Q9         0\n",
       "2948   448        Q6         0\n",
       "4172   172        Q9         1\n",
       "2858   358        Q6         0"
      ]
     },
     "execution_count": 5,
     "metadata": {},
     "output_type": "execute_result"
    }
   ],
   "source": [
    "df_list= list()\n",
    "for ques, user_resp in list(zip(di.keys(), di.values())):\n",
    "    df_list.append({'user':list(user_resp.keys()), 'questions':[ques]*df.shape[0], 'response':list(user_resp.values())})\n",
    "\n",
    "\n",
    "df_new= pd.DataFrame()\n",
    "for i in range(len(df_list)):\n",
    "    df = pd.DataFrame(df_list[i])\n",
    "    df_new= pd.concat([df_new, df], ignore_index=True)\n",
    "\n",
    "df_new = df_new.loc[np.random.randint(0,df_new.shape[0]-1, size=df_new.shape[0])]#shuffling data\n",
    "df_new.head(4)"
   ]
  },
  {
   "cell_type": "markdown",
   "metadata": {},
   "source": [
    "## Defining Keras equivalent model"
   ]
  },
  {
   "cell_type": "code",
   "execution_count": 6,
   "metadata": {},
   "outputs": [
    {
     "name": "stderr",
     "output_type": "stream",
     "text": [
      "Using TensorFlow backend.\n",
      "/home/kev/Desktop/pyvirtual2/lib/python3.6/site-packages/tensorflow/python/framework/dtypes.py:526: FutureWarning: Passing (type, 1) or '1type' as a synonym of type is deprecated; in a future version of numpy, it will be understood as (type, (1,)) / '(1,)type'.\n",
      "  _np_qint8 = np.dtype([(\"qint8\", np.int8, 1)])\n",
      "/home/kev/Desktop/pyvirtual2/lib/python3.6/site-packages/tensorflow/python/framework/dtypes.py:527: FutureWarning: Passing (type, 1) or '1type' as a synonym of type is deprecated; in a future version of numpy, it will be understood as (type, (1,)) / '(1,)type'.\n",
      "  _np_quint8 = np.dtype([(\"quint8\", np.uint8, 1)])\n",
      "/home/kev/Desktop/pyvirtual2/lib/python3.6/site-packages/tensorflow/python/framework/dtypes.py:528: FutureWarning: Passing (type, 1) or '1type' as a synonym of type is deprecated; in a future version of numpy, it will be understood as (type, (1,)) / '(1,)type'.\n",
      "  _np_qint16 = np.dtype([(\"qint16\", np.int16, 1)])\n",
      "/home/kev/Desktop/pyvirtual2/lib/python3.6/site-packages/tensorflow/python/framework/dtypes.py:529: FutureWarning: Passing (type, 1) or '1type' as a synonym of type is deprecated; in a future version of numpy, it will be understood as (type, (1,)) / '(1,)type'.\n",
      "  _np_quint16 = np.dtype([(\"quint16\", np.uint16, 1)])\n",
      "/home/kev/Desktop/pyvirtual2/lib/python3.6/site-packages/tensorflow/python/framework/dtypes.py:530: FutureWarning: Passing (type, 1) or '1type' as a synonym of type is deprecated; in a future version of numpy, it will be understood as (type, (1,)) / '(1,)type'.\n",
      "  _np_qint32 = np.dtype([(\"qint32\", np.int32, 1)])\n",
      "/home/kev/Desktop/pyvirtual2/lib/python3.6/site-packages/tensorflow/python/framework/dtypes.py:535: FutureWarning: Passing (type, 1) or '1type' as a synonym of type is deprecated; in a future version of numpy, it will be understood as (type, (1,)) / '(1,)type'.\n",
      "  np_resource = np.dtype([(\"resource\", np.ubyte, 1)])\n"
     ]
    }
   ],
   "source": [
    "import keras\n",
    "from keras.models import Model\n",
    "from keras.layers import Input, Dense, Activation\n",
    "from keras import metrics\n",
    "from keras.utils import to_categorical"
   ]
  },
  {
   "cell_type": "code",
   "execution_count": 7,
   "metadata": {},
   "outputs": [],
   "source": [
    "from sklearn.model_selection import train_test_split\n",
    "\n",
    "xtrain, xtest, ytrain, ytest = train_test_split(df_new[df_cols[:-1]], df_new[df_cols[-1]], test_size=0.05)"
   ]
  },
  {
   "cell_type": "code",
   "execution_count": 8,
   "metadata": {},
   "outputs": [
    {
     "name": "stdout",
     "output_type": "stream",
     "text": [
      "shape of x_train_user: (4750, 500) \n",
      "shape of x_train_questions: (4750, 10) \n",
      "shape of y_train: (4750,)\n"
     ]
    }
   ],
   "source": [
    "x_train_user = to_categorical(xtrain['user'], num_classes=500)#contains the one-hot encoded user data\n",
    "x_train_questions = pd.get_dummies(xtrain['questions']).values#contains the one-hot encoded questions\n",
    "\n",
    "y_train= ytrain.values\n",
    "print('shape of x_train_user:', x_train_user.shape,'\\nshape of x_train_questions:', x_train_questions.shape,\n",
    "      '\\nshape of y_train:',y_train.shape)"
   ]
  },
  {
   "cell_type": "markdown",
   "metadata": {},
   "source": [
    "## 3 PL IRT model\n",
    "* t_i= Degree of latent trait of i-th student\n",
    "* b_j= difficulty_level of j-th question\n",
    "* a_j= discrimination parameter of j-th question\n",
    "* c_j= pseudo guessing parameter of j-th question\n",
    "* P(i,j) = Prob of i-th student, correctly scoring on j-th item.\n",
    "\n",
    "`P{i=1,j} = c_j+ (1- c_j)*Sigmoid[a_j*(t_i - b_j)]`"
   ]
  },
  {
   "cell_type": "code",
   "execution_count": 9,
   "metadata": {},
   "outputs": [],
   "source": [
    "from keras import backend as K\n",
    "from keras.layers import Lambda\n",
    "from keras import regularizers\n",
    "from keras import initializers\n",
    "from keras.layers import Activation"
   ]
  },
  {
   "cell_type": "code",
   "execution_count": 10,
   "metadata": {},
   "outputs": [
    {
     "name": "stdout",
     "output_type": "stream",
     "text": [
      "WARNING:tensorflow:From /home/kev/Desktop/pyvirtual2/lib/python3.6/site-packages/tensorflow/python/ops/resource_variable_ops.py:435: colocate_with (from tensorflow.python.framework.ops) is deprecated and will be removed in a future version.\n",
      "Instructions for updating:\n",
      "Colocations handled automatically by placer.\n"
     ]
    }
   ],
   "source": [
    "user_input_layer = Input(shape=(x_train_user.shape[1],), name= 'user_id')#top half of input\n",
    "quest_input_layer = Input(shape=(x_train_questions.shape[1],), name='questions/items')#bottom half of input\n",
    "\n",
    "#1. kernel init set to RandomNorm(0,1), kernel regularizer set to l2\n",
    "latent_trait = Dense(1, use_bias=False,\n",
    "        kernel_initializer= initializers.RandomNormal(mean=1, stddev=0.5, seed=None),\n",
    "        kernel_regularizer=regularizers.l2(0.01), name='latent_trait')(user_input_layer)\n",
    "\n",
    "#2. kernel init set to RandomNorm(0,1),\n",
    "difficulty_level = Dense(1, use_bias=False,\n",
    "        kernel_initializer= initializers.RandomNormal(mean=0, stddev=1.0, seed=None),\n",
    "        name='difficulty_level')(quest_input_layer)\n",
    "\n",
    "#3. kernel init set to RandomNorm(1,1),\n",
    "discrimination_param = Dense(1, use_bias=False,\n",
    "        kernel_initializer= initializers.RandomNormal(mean=1, stddev=1.0, seed=None),\n",
    "        name='disc_param')(quest_input_layer)\n",
    "\n",
    "#4. added Sigmoid activation\n",
    "guess_param = Dense(1, use_bias=False, activation='sigmoid', name='guessing_param')(quest_input_layer)\n",
    "\n",
    "latent_difficulty_subtract = keras.layers.Subtract(name='latent_diff_sub')([latent_trait, difficulty_level])\n",
    "\n",
    "disc_param_interaction = keras.layers.Multiply(name='disc_param_inter.')([latent_difficulty_subtract, \n",
    "                                                    discrimination_param])\n",
    "\n",
    "#5. Sigmoid positioning corrected as per 3PL expression\n",
    "sigmoid_layer= Activation('sigmoid', name='Sigmoid_func')(disc_param_interaction)\n",
    "\n",
    "\n",
    "guess_param_interaction= Lambda(lambda x: K.constant(value=np.array([1])) - x, name='guess_param_inter.')(guess_param)\n",
    "\n",
    "\n",
    "guess_param_interaction= keras.layers.Multiply(name='disc/guess_param_inter.')([sigmoid_layer,\n",
    "                                                guess_param_interaction])\n",
    "\n",
    "guess_param_interaction= keras.layers.Add(name='guess_param_inter/add')([guess_param, guess_param_interaction])\n",
    "\n",
    "\n",
    "#6. changed activation to just linear\n",
    "prediction_output = Dense(1, trainable=False, use_bias=False,kernel_initializer=keras.initializers.Ones(), name='prediction_layer')(guess_param_interaction)\n",
    "\n",
    "\n",
    "model3 = Model(inputs=[user_input_layer, quest_input_layer], outputs= prediction_output)\n",
    "model3.compile(loss= 'binary_crossentropy', optimizer='sgd', metrics= ['mae', 'accuracy'])"
   ]
  },
  {
   "cell_type": "code",
   "execution_count": 11,
   "metadata": {},
   "outputs": [
    {
     "name": "stdout",
     "output_type": "stream",
     "text": [
      "Model: \"model_1\"\n",
      "__________________________________________________________________________________________________\n",
      "Layer (type)                    Output Shape         Param #     Connected to                     \n",
      "==================================================================================================\n",
      "questions/items (InputLayer)    (None, 10)           0                                            \n",
      "__________________________________________________________________________________________________\n",
      "user_id (InputLayer)            (None, 500)          0                                            \n",
      "__________________________________________________________________________________________________\n",
      "latent_trait (Dense)            (None, 1)            500         user_id[0][0]                    \n",
      "__________________________________________________________________________________________________\n",
      "difficulty_level (Dense)        (None, 1)            10          questions/items[0][0]            \n",
      "__________________________________________________________________________________________________\n",
      "latent_diff_sub (Subtract)      (None, 1)            0           latent_trait[0][0]               \n",
      "                                                                 difficulty_level[0][0]           \n",
      "__________________________________________________________________________________________________\n",
      "disc_param (Dense)              (None, 1)            10          questions/items[0][0]            \n",
      "__________________________________________________________________________________________________\n",
      "guessing_param (Dense)          (None, 1)            10          questions/items[0][0]            \n",
      "__________________________________________________________________________________________________\n",
      "disc_param_inter. (Multiply)    (None, 1)            0           latent_diff_sub[0][0]            \n",
      "                                                                 disc_param[0][0]                 \n",
      "__________________________________________________________________________________________________\n",
      "Sigmoid_func (Activation)       (None, 1)            0           disc_param_inter.[0][0]          \n",
      "__________________________________________________________________________________________________\n",
      "guess_param_inter. (Lambda)     (None, 1)            0           guessing_param[0][0]             \n",
      "__________________________________________________________________________________________________\n",
      "disc/guess_param_inter. (Multip (None, 1)            0           Sigmoid_func[0][0]               \n",
      "                                                                 guess_param_inter.[0][0]         \n",
      "__________________________________________________________________________________________________\n",
      "guess_param_inter/add (Add)     (None, 1)            0           guessing_param[0][0]             \n",
      "                                                                 disc/guess_param_inter.[0][0]    \n",
      "__________________________________________________________________________________________________\n",
      "prediction_layer (Dense)        (None, 1)            1           guess_param_inter/add[0][0]      \n",
      "==================================================================================================\n",
      "Total params: 531\n",
      "Trainable params: 530\n",
      "Non-trainable params: 1\n",
      "__________________________________________________________________________________________________\n"
     ]
    }
   ],
   "source": [
    "model3.summary()"
   ]
  },
  {
   "cell_type": "code",
   "execution_count": 12,
   "metadata": {},
   "outputs": [
    {
     "name": "stdout",
     "output_type": "stream",
     "text": [
      "WARNING:tensorflow:From /home/kev/Desktop/pyvirtual2/lib/python3.6/site-packages/tensorflow/python/ops/math_ops.py:3066: to_int32 (from tensorflow.python.ops.math_ops) is deprecated and will be removed in a future version.\n",
      "Instructions for updating:\n",
      "Use tf.cast instead.\n",
      "Train on 3800 samples, validate on 950 samples\n",
      "Epoch 1/8\n",
      "3800/3800 [==============================] - 0s 48us/step - loss: 7.8335 - mae: 0.6253 - accuracy: 0.2982 - val_loss: 7.6143 - val_mae: 0.6221 - val_accuracy: 0.2958\n",
      "Epoch 2/8\n",
      "3800/3800 [==============================] - 0s 24us/step - loss: 7.4284 - mae: 0.6178 - accuracy: 0.2987 - val_loss: 7.2291 - val_mae: 0.6145 - val_accuracy: 0.2947\n",
      "Epoch 3/8\n",
      "3800/3800 [==============================] - 0s 23us/step - loss: 7.0564 - mae: 0.6105 - accuracy: 0.2989 - val_loss: 6.8738 - val_mae: 0.6072 - val_accuracy: 0.2958\n",
      "Epoch 4/8\n",
      "3800/3800 [==============================] - 0s 24us/step - loss: 6.7126 - mae: 0.6032 - accuracy: 0.3000 - val_loss: 6.5446 - val_mae: 0.6001 - val_accuracy: 0.2968\n",
      "Epoch 5/8\n",
      "3800/3800 [==============================] - 0s 23us/step - loss: 6.3934 - mae: 0.5963 - accuracy: 0.3000 - val_loss: 6.2380 - val_mae: 0.5933 - val_accuracy: 0.2968\n",
      "Epoch 6/8\n",
      "3800/3800 [==============================] - 0s 24us/step - loss: 6.0957 - mae: 0.5896 - accuracy: 0.3000 - val_loss: 5.9514 - val_mae: 0.5869 - val_accuracy: 0.2958\n",
      "Epoch 7/8\n",
      "3800/3800 [==============================] - 0s 26us/step - loss: 5.8171 - mae: 0.5834 - accuracy: 0.3018 - val_loss: 5.6825 - val_mae: 0.5808 - val_accuracy: 0.2968\n",
      "Epoch 8/8\n",
      "3800/3800 [==============================] - 0s 26us/step - loss: 5.5554 - mae: 0.5775 - accuracy: 0.3029 - val_loss: 5.4295 - val_mae: 0.5750 - val_accuracy: 0.2979\n"
     ]
    }
   ],
   "source": [
    "history= model3.fit(x=[x_train_user,x_train_questions], y=y_train, epochs=8, verbose=1, validation_split=0.2)"
   ]
  },
  {
   "cell_type": "markdown",
   "metadata": {},
   "source": [
    "* Train Vs. Validation loss curves"
   ]
  },
  {
   "cell_type": "code",
   "execution_count": 14,
   "metadata": {},
   "outputs": [
    {
     "data": {
      "image/png": "[encoded data removed]",
      "text/plain": [
       "<Figure size 432x288 with 1 Axes>"
      ]
     },
     "metadata": {
      "needs_background": "light"
     },
     "output_type": "display_data"
    }
   ],
   "source": [
    "import matplotlib.pyplot as plt\n",
    "plt.plot(history.history['loss'])\n",
    "plt.plot(history.history['val_loss'])\n",
    "plt.title('Model loss for \"3 PL model\"')\n",
    "plt.xlabel('epoch')\n",
    "plt.ylabel('loss')\n",
    "\n",
    "plt.legend(['train', 'validation'], loc= 'upper right')\n",
    "plt.show()"
   ]
  },
  {
   "cell_type": "markdown",
   "metadata": {},
   "source": [
    "### Obtaining underlying trained 3pl parameters from keras model"
   ]
  },
  {
   "cell_type": "code",
   "execution_count": 15,
   "metadata": {},
   "outputs": [
    {
     "name": "stdout",
     "output_type": "stream",
     "text": [
      "layer no: 2 is named: latent_trait\n",
      "layer no: 3 is named: difficulty_level\n",
      "layer no: 5 is named: disc_param\n",
      "layer no: 6 is named: guessing_param\n"
     ]
    }
   ],
   "source": [
    "for idx in [2,3,5,6]:\n",
    "    print('layer no: {} is named: {}'.format(idx, model3.layers[idx].name))"
   ]
  },
  {
   "cell_type": "code",
   "execution_count": 16,
   "metadata": {},
   "outputs": [],
   "source": [
    "latent_trait_parameters = model3.layers[2].get_weights()[0]#latent trait for 500 users\n",
    "difficulty_level_parameters= model3.layers[3].get_weights()[0]#difficulty params for 3 Quests/item.\n",
    "discrimination_parameters= model3.layers[5].get_weights()[0]#dicrimination params for 3 Quests/item.\n",
    "pseudo_guess_parameters = model3.layers[6].get_weights()[0]#pseudo_guess_params for 3 Quests/item."
   ]
  },
  {
   "cell_type": "code",
   "execution_count": 17,
   "metadata": {},
   "outputs": [
    {
     "data": {
      "text/plain": [
       "array([[ 1.3686088 ],\n",
       "       [ 0.8131264 ],\n",
       "       [ 0.19115607],\n",
       "       [ 1.2853312 ],\n",
       "       [-1.3606592 ],\n",
       "       [ 1.4281342 ],\n",
       "       [ 0.7347629 ],\n",
       "       [ 1.0079952 ],\n",
       "       [ 0.77454853],\n",
       "       [ 0.03781628]], dtype=float32)"
      ]
     },
     "execution_count": 17,
     "metadata": {},
     "output_type": "execute_result"
    }
   ],
   "source": [
    "difficulty_level_parameters"
   ]
  },
  {
   "cell_type": "code",
   "execution_count": 18,
   "metadata": {},
   "outputs": [
    {
     "data": {
      "text/plain": [
       "array([[ 0.83213633],\n",
       "       [ 1.0419834 ],\n",
       "       [ 0.09421235],\n",
       "       [ 1.6124957 ],\n",
       "       [-0.16175753],\n",
       "       [ 0.8345809 ],\n",
       "       [ 1.9702649 ],\n",
       "       [ 1.9361265 ],\n",
       "       [ 0.08724365],\n",
       "       [ 0.7033399 ]], dtype=float32)"
      ]
     },
     "execution_count": 18,
     "metadata": {},
     "output_type": "execute_result"
    }
   ],
   "source": [
    "discrimination_parameters"
   ]
  },
  {
   "cell_type": "code",
   "execution_count": 19,
   "metadata": {
    "scrolled": true
   },
   "outputs": [
    {
     "data": {
      "text/plain": [
       "array([[-0.44032007],\n",
       "       [-0.3536119 ],\n",
       "       [ 0.05402391],\n",
       "       [ 0.08344492],\n",
       "       [-0.867724  ],\n",
       "       [-0.74547565],\n",
       "       [-0.5801957 ],\n",
       "       [-0.46452302],\n",
       "       [-0.554316  ],\n",
       "       [-0.15812075]], dtype=float32)"
      ]
     },
     "execution_count": 19,
     "metadata": {},
     "output_type": "execute_result"
    }
   ],
   "source": [
    "pseudo_guess_parameters#Old vals with kernel init glorot uniform"
   ]
  },
  {
   "cell_type": "markdown",
   "metadata": {},
   "source": [
    "### Histogram of latent traits/abilities from keras_3PL"
   ]
  },
  {
   "cell_type": "code",
   "execution_count": 20,
   "metadata": {},
   "outputs": [
    {
     "data": {
      "image/png": "[encoded data removed]",
      "text/plain": [
       "<Figure size 432x288 with 1 Axes>"
      ]
     },
     "metadata": {
      "needs_background": "light"
     },
     "output_type": "display_data"
    }
   ],
   "source": [
    "n, bins, patches = plt.hist(x=latent_trait_parameters, bins='auto', color='#0504aa',\n",
    "                            alpha=0.7, rwidth=0.85)"
   ]
  },
  {
   "cell_type": "markdown",
   "metadata": {},
   "source": [
    "### Importing R's 3PL model paramters for comparison"
   ]
  },
  {
   "cell_type": "code",
   "execution_count": 21,
   "metadata": {},
   "outputs": [
    {
     "data": {
      "text/html": [
       "<div>\n",
       "<style scoped>\n",
       "    .dataframe tbody tr th:only-of-type {\n",
       "        vertical-align: middle;\n",
       "    }\n",
       "\n",
       "    .dataframe tbody tr th {\n",
       "        vertical-align: top;\n",
       "    }\n",
       "\n",
       "    .dataframe thead th {\n",
       "        text-align: right;\n",
       "    }\n",
       "</style>\n",
       "<table border=\"1\" class=\"dataframe\">\n",
       "  <thead>\n",
       "    <tr style=\"text-align: right;\">\n",
       "      <th></th>\n",
       "      <th>Unnamed: 0</th>\n",
       "      <th>Gussng</th>\n",
       "      <th>Dffclt</th>\n",
       "      <th>Dscrmn</th>\n",
       "    </tr>\n",
       "  </thead>\n",
       "  <tbody>\n",
       "    <tr>\n",
       "      <td>0</td>\n",
       "      <td>V1</td>\n",
       "      <td>0.000025</td>\n",
       "      <td>1.636048</td>\n",
       "      <td>1.414799</td>\n",
       "    </tr>\n",
       "    <tr>\n",
       "      <td>1</td>\n",
       "      <td>V2</td>\n",
       "      <td>0.106400</td>\n",
       "      <td>1.214459</td>\n",
       "      <td>2.006961</td>\n",
       "    </tr>\n",
       "    <tr>\n",
       "      <td>2</td>\n",
       "      <td>V3</td>\n",
       "      <td>0.000048</td>\n",
       "      <td>0.817690</td>\n",
       "      <td>1.208465</td>\n",
       "    </tr>\n",
       "  </tbody>\n",
       "</table>\n",
       "</div>"
      ],
      "text/plain": [
       "  Unnamed: 0    Gussng    Dffclt    Dscrmn\n",
       "0         V1  0.000025  1.636048  1.414799\n",
       "1         V2  0.106400  1.214459  2.006961\n",
       "2         V3  0.000048  0.817690  1.208465"
      ]
     },
     "execution_count": 21,
     "metadata": {},
     "output_type": "execute_result"
    }
   ],
   "source": [
    "coeff = pd.read_csv('coeffs.csv')\n",
    "coeff.head(3)"
   ]
  },
  {
   "cell_type": "code",
   "execution_count": 22,
   "metadata": {
    "scrolled": true
   },
   "outputs": [
    {
     "data": {
      "text/plain": [
       "['Unnamed: 0', 'Gussng', 'Dffclt', 'Dscrmn']"
      ]
     },
     "execution_count": 22,
     "metadata": {},
     "output_type": "execute_result"
    }
   ],
   "source": [
    "r_params_cols= list(coeff.columns)\n",
    "r_params_cols#columns from R's dataframe"
   ]
  },
  {
   "cell_type": "markdown",
   "metadata": {},
   "source": [
    "* Normalising Difficulty, Descrimination values from R's dataframe"
   ]
  },
  {
   "cell_type": "code",
   "execution_count": 23,
   "metadata": {},
   "outputs": [
    {
     "data": {
      "text/plain": [
       "0    1.636048\n",
       "1    1.214459\n",
       "2    0.817690\n",
       "3    0.890029\n",
       "4    0.257974\n",
       "5    0.746576\n",
       "6    0.477205\n",
       "7    0.651561\n",
       "8    0.656884\n",
       "9    1.919147\n",
       "Name: Dffclt, dtype: float64"
      ]
     },
     "execution_count": 23,
     "metadata": {},
     "output_type": "execute_result"
    }
   ],
   "source": [
    "normalized_diff_r=coeff[r_params_cols[2]]#/coeff[r_params_cols[2]].sum()\n",
    "normalized_diff_r#new difficulty vals from R"
   ]
  },
  {
   "cell_type": "markdown",
   "metadata": {},
   "source": [
    "## Scatterplots"
   ]
  },
  {
   "cell_type": "markdown",
   "metadata": {},
   "source": [
    "### 1. Difficulty vals from keras_3pl vs. R_3pl\n",
    "* Keras values are plotted across X\n",
    "* R_tpm values are plotted across Y"
   ]
  },
  {
   "cell_type": "code",
   "execution_count": 24,
   "metadata": {},
   "outputs": [
    {
     "data": {
      "image/png": "[encoded data removed]",
      "text/plain": [
       "<Figure size 432x288 with 1 Axes>"
      ]
     },
     "metadata": {
      "needs_background": "light"
     },
     "output_type": "display_data"
    }
   ],
   "source": [
    "fig = plt.figure()\n",
    "ax = fig.add_subplot(1, 1, 1)\n",
    "y,x = (difficulty_level_parameters.reshape(-1), normalized_diff_r.values)\n",
    "\n",
    "ax.scatter(x, y, alpha=0.8, c=\"red\", edgecolors='none', s=30, label=\"difficulty level R Vs. keras\")\n",
    "plt.title('difficulty params from R_3pl Vs. keras_3pl')\n",
    "plt.ylabel('keras_3pl: Difficulty')\n",
    "plt.xlabel('R_tpm: Difficulty')\n",
    "plt.legend(loc=1)\n",
    "\n",
    "plt.show()"
   ]
  },
  {
   "cell_type": "markdown",
   "metadata": {},
   "source": [
    "### 2. Discrimination vals from keras_3pl vs. R_3pl\n",
    "* Keras values are plotted across X\n",
    "* R_tpm values are plotted across Y"
   ]
  },
  {
   "cell_type": "code",
   "execution_count": 25,
   "metadata": {},
   "outputs": [
    {
     "data": {
      "image/png": "[encoded data removed]",
      "text/plain": [
       "<Figure size 432x288 with 1 Axes>"
      ]
     },
     "metadata": {
      "needs_background": "light"
     },
     "output_type": "display_data"
    }
   ],
   "source": [
    "fig = plt.figure()\n",
    "ax = fig.add_subplot(1, 1, 1)\n",
    "y,x = (discrimination_parameters, coeff[r_params_cols[-1]].values)\n",
    "\n",
    "ax.scatter(x, y, alpha=0.8, c=\"red\", edgecolors='none', s=30, label=\"discrimination R Vs. keras\")\n",
    "plt.title('discrimination parameters from R_3pl Vs. keras_3pl')\n",
    "plt.ylabel('keras_3pl: discrimination')\n",
    "plt.xlabel('R_tpm: discrimination')\n",
    "\n",
    "plt.legend(loc=1)\n",
    "plt.show()"
   ]
  },
  {
   "cell_type": "markdown",
   "metadata": {},
   "source": [
    "### 3. Guessing param values from keras_3pl vs. R_3pl\n",
    "* Keras values are plotted across X\n",
    "* R_tpm values are plotted across Y"
   ]
  },
  {
   "cell_type": "code",
   "execution_count": 26,
   "metadata": {},
   "outputs": [
    {
     "data": {
      "image/png": "[encoded data removed]",
      "text/plain": [
       "<Figure size 432x288 with 1 Axes>"
      ]
     },
     "metadata": {
      "needs_background": "light"
     },
     "output_type": "display_data"
    }
   ],
   "source": [
    "fig = plt.figure()\n",
    "ax = fig.add_subplot(1, 1, 1)\n",
    "y,x = (pseudo_guess_parameters, coeff[r_params_cols[1]].values)\n",
    "\n",
    "ax.scatter(x, y, alpha=0.8, c=\"red\", edgecolors='none', s=30, label=\"guessing R Vs. keras\")\n",
    "plt.title('guessing parameters from R_3pl Vs. keras_3pl')\n",
    "plt.ylabel('keras_3pl: guessing')\n",
    "plt.xlabel('R_tpm: guessing')\n",
    "\n",
    "plt.legend(loc=1)\n",
    "plt.show()"
   ]
  },
  {
   "cell_type": "markdown",
   "metadata": {},
   "source": [
    "## Item Characteristic curves from keras_3pl vs. R_3pl\n",
    "* Comparing `P(i,j)` value curves per item for all users using params from keras vs. params from R_tpm"
   ]
  },
  {
   "cell_type": "code",
   "execution_count": 27,
   "metadata": {},
   "outputs": [
    {
     "data": {
      "text/html": [
       "<div>\n",
       "<style scoped>\n",
       "    .dataframe tbody tr th:only-of-type {\n",
       "        vertical-align: middle;\n",
       "    }\n",
       "\n",
       "    .dataframe tbody tr th {\n",
       "        vertical-align: top;\n",
       "    }\n",
       "\n",
       "    .dataframe thead th {\n",
       "        text-align: right;\n",
       "    }\n",
       "</style>\n",
       "<table border=\"1\" class=\"dataframe\">\n",
       "  <thead>\n",
       "    <tr style=\"text-align: right;\">\n",
       "      <th></th>\n",
       "      <th>Unnamed: 0</th>\n",
       "      <th>Gussng</th>\n",
       "      <th>Dffclt</th>\n",
       "      <th>Dscrmn</th>\n",
       "    </tr>\n",
       "  </thead>\n",
       "  <tbody>\n",
       "    <tr>\n",
       "      <td>0</td>\n",
       "      <td>V1</td>\n",
       "      <td>0.000025</td>\n",
       "      <td>1.636048</td>\n",
       "      <td>1.414799</td>\n",
       "    </tr>\n",
       "    <tr>\n",
       "      <td>1</td>\n",
       "      <td>V2</td>\n",
       "      <td>0.106400</td>\n",
       "      <td>1.214459</td>\n",
       "      <td>2.006961</td>\n",
       "    </tr>\n",
       "    <tr>\n",
       "      <td>2</td>\n",
       "      <td>V3</td>\n",
       "      <td>0.000048</td>\n",
       "      <td>0.817690</td>\n",
       "      <td>1.208465</td>\n",
       "    </tr>\n",
       "  </tbody>\n",
       "</table>\n",
       "</div>"
      ],
      "text/plain": [
       "  Unnamed: 0    Gussng    Dffclt    Dscrmn\n",
       "0         V1  0.000025  1.636048  1.414799\n",
       "1         V2  0.106400  1.214459  2.006961\n",
       "2         V3  0.000048  0.817690  1.208465"
      ]
     },
     "execution_count": 27,
     "metadata": {},
     "output_type": "execute_result"
    }
   ],
   "source": [
    "coeff.head(3)"
   ]
  },
  {
   "cell_type": "code",
   "execution_count": 28,
   "metadata": {},
   "outputs": [
    {
     "data": {
      "text/plain": [
       "['Unnamed: 0', 'Gussng', 'Dffclt', 'Dscrmn']"
      ]
     },
     "execution_count": 28,
     "metadata": {},
     "output_type": "execute_result"
    }
   ],
   "source": [
    "r_params_cols"
   ]
  },
  {
   "cell_type": "markdown",
   "metadata": {},
   "source": [
    "* **Item characterstic plotting function for 3PL**"
   ]
  },
  {
   "cell_type": "code",
   "execution_count": 29,
   "metadata": {},
   "outputs": [],
   "source": [
    "def logit_func(lat_values):#c:guess, a:descrimination, b:difficulty\n",
    "    prob = list()\n",
    "    prob.append(c+ (1-c)*(np.exp(a*(lat_values-b))/(1+np.exp(a*(lat_values-b)))))#Vectorised implementation\n",
    "    #for val in lat_values:\n",
    "    #    prob.append(c+ (1-c)*(np.exp(a*(val-b))/(1+np.exp(a*(val-b)))))\n",
    "    return prob"
   ]
  },
  {
   "cell_type": "code",
   "execution_count": 30,
   "metadata": {},
   "outputs": [],
   "source": [
    "x = np.linspace(-4,4, num=num_users)#value count for x axis"
   ]
  },
  {
   "cell_type": "markdown",
   "metadata": {},
   "source": [
    "### Individual plots for each item(1-10) across keras method vs. R tpm"
   ]
  },
  {
   "cell_type": "markdown",
   "metadata": {},
   "source": [
    "#####  1. Calculating plots for R's item 1 & keras's item 1"
   ]
  },
  {
   "cell_type": "code",
   "execution_count": 31,
   "metadata": {},
   "outputs": [
    {
     "data": {
      "text/plain": [
       "'V1'"
      ]
     },
     "execution_count": 31,
     "metadata": {},
     "output_type": "execute_result"
    }
   ],
   "source": [
    "coeff[r_params_cols[0]].iloc[0]"
   ]
  },
  {
   "cell_type": "code",
   "execution_count": 32,
   "metadata": {},
   "outputs": [],
   "source": [
    "#values of item 1 from R's dataframe\n",
    "c= coeff[r_params_cols[1]].iloc[0]#c:guess\n",
    "a= coeff[r_params_cols[-1]].iloc[0]#a:descrimination\n",
    "b= coeff[r_params_cols[2]].iloc[0]#b:difficulty\n",
    "vals_r= logit_func(x)#logits for R's dataframe\n",
    "###\n",
    "c= pseudo_guess_parameters[0]#values for item 1 from keras 3pl params\n",
    "a= discrimination_parameters[0]\n",
    "b= difficulty_level_parameters[0]\n",
    "vals_keras= logit_func(x)#logits for R's dataframe"
   ]
  },
  {
   "cell_type": "code",
   "execution_count": 33,
   "metadata": {},
   "outputs": [
    {
     "data": {
      "image/png": "[encoded data removed]",
      "text/plain": [
       "<Figure size 432x288 with 1 Axes>"
      ]
     },
     "metadata": {
      "needs_background": "light"
     },
     "output_type": "display_data"
    }
   ],
   "source": [
    "plt.plot(x,vals_r[0], 'r', label='R_3pl')\n",
    "plt.plot(x,vals_keras[0], 'b', label='keras_3pl')\n",
    "\n",
    "plt.title('ICC for item1 from keras_3pl Vs.R_3pl')\n",
    "plt.xlabel('x: latent_trait_vals')\n",
    "plt.ylabel('y: P(i=1|x)')\n",
    "plt.legend(loc=2)\n",
    "plt.show()"
   ]
  },
  {
   "cell_type": "markdown",
   "metadata": {},
   "source": [
    "#### 2. Calculating plots for R's item 2 & keras's item 2"
   ]
  },
  {
   "cell_type": "code",
   "execution_count": 34,
   "metadata": {},
   "outputs": [
    {
     "data": {
      "text/plain": [
       "'V2'"
      ]
     },
     "execution_count": 34,
     "metadata": {},
     "output_type": "execute_result"
    }
   ],
   "source": [
    "coeff[r_params_cols[0]].iloc[1]"
   ]
  },
  {
   "cell_type": "code",
   "execution_count": 35,
   "metadata": {},
   "outputs": [],
   "source": [
    "c= coeff[r_params_cols[1]].iloc[1]#values of item 2 from R's dataframe\n",
    "a= coeff[r_params_cols[-1]].iloc[1]\n",
    "b= coeff[r_params_cols[2]].iloc[1]\n",
    "vals_r= logit_func(x)#logits for R's dataframe\n",
    "###\n",
    "c= pseudo_guess_parameters[1]#values for item 2 from keras 3pl params\n",
    "a= discrimination_parameters[1]\n",
    "b= difficulty_level_parameters[1]\n",
    "vals_keras= logit_func(x)#logits for R's dataframe"
   ]
  },
  {
   "cell_type": "code",
   "execution_count": 36,
   "metadata": {},
   "outputs": [
    {
     "data": {
      "image/png": "[encoded data removed]",
      "text/plain": [
       "<Figure size 432x288 with 1 Axes>"
      ]
     },
     "metadata": {
      "needs_background": "light"
     },
     "output_type": "display_data"
    }
   ],
   "source": [
    "plt.plot(x,vals_r[0], 'r', label='R_3pl')\n",
    "plt.plot(x,vals_keras[0], 'b', label='keras_3pl')\n",
    "\n",
    "plt.title('ICC for item 2 from keras_3pl Vs.R_3pl')\n",
    "plt.xlabel('x: latent_trait_vals')\n",
    "plt.ylabel('y: P(i=1|x)')\n",
    "plt.legend(loc=2)\n",
    "plt.show()"
   ]
  },
  {
   "cell_type": "markdown",
   "metadata": {},
   "source": [
    "#### 3. Calculating plots for R's item 3 & keras's item 3"
   ]
  },
  {
   "cell_type": "code",
   "execution_count": 37,
   "metadata": {},
   "outputs": [
    {
     "data": {
      "text/plain": [
       "'V3'"
      ]
     },
     "execution_count": 37,
     "metadata": {},
     "output_type": "execute_result"
    }
   ],
   "source": [
    "coeff[r_params_cols[0]].iloc[2]"
   ]
  },
  {
   "cell_type": "code",
   "execution_count": 38,
   "metadata": {},
   "outputs": [],
   "source": [
    "c= coeff[r_params_cols[1]].iloc[2]#values of item 3 from R's dataframe\n",
    "a= coeff[r_params_cols[-1]].iloc[2]\n",
    "b= coeff[r_params_cols[2]].iloc[2]\n",
    "vals_r= logit_func(x)#logits for R's dataframe\n",
    "####\n",
    "c= pseudo_guess_parameters[2]#values for item 3 from keras 3pl params\n",
    "a= discrimination_parameters[2]\n",
    "b= difficulty_level_parameters[2]\n",
    "vals_keras= logit_func(x)#logits for R's dataframe"
   ]
  },
  {
   "cell_type": "code",
   "execution_count": 39,
   "metadata": {},
   "outputs": [
    {
     "data": {
      "image/png": "[encoded data removed]",
      "text/plain": [
       "<Figure size 432x288 with 1 Axes>"
      ]
     },
     "metadata": {
      "needs_background": "light"
     },
     "output_type": "display_data"
    }
   ],
   "source": [
    "plt.plot(x,vals_r[0], 'r', label='R_3pl')\n",
    "plt.plot(x,vals_keras[0], 'b', label='keras_3pl')\n",
    "\n",
    "plt.title('ICC for item 3 from keras_3pl Vs.R_3pl')\n",
    "plt.xlabel('x: latent_trait_vals')\n",
    "plt.ylabel('y: P(i=1|x)')\n",
    "plt.legend(loc=2)\n",
    "plt.show()"
   ]
  },
  {
   "cell_type": "markdown",
   "metadata": {},
   "source": [
    "#### 4. Calculating plots for R's item 3 & keras's item 4"
   ]
  },
  {
   "cell_type": "code",
   "execution_count": 40,
   "metadata": {},
   "outputs": [
    {
     "data": {
      "text/plain": [
       "'V4'"
      ]
     },
     "execution_count": 40,
     "metadata": {},
     "output_type": "execute_result"
    }
   ],
   "source": [
    "coeff[r_params_cols[0]].iloc[3]"
   ]
  },
  {
   "cell_type": "code",
   "execution_count": 41,
   "metadata": {},
   "outputs": [],
   "source": [
    "c= coeff[r_params_cols[1]].iloc[3]#values of item 4 from R's dataframe\n",
    "a= coeff[r_params_cols[-1]].iloc[3]\n",
    "b= coeff[r_params_cols[2]].iloc[3]\n",
    "vals_r= logit_func(x)#logits for R's dataframe\n",
    "###\n",
    "c= pseudo_guess_parameters[3]#values for item 4 from keras 3pl params\n",
    "a= discrimination_parameters[3]\n",
    "b= difficulty_level_parameters[3]\n",
    "vals_keras= logit_func(x)#logits for R's dataframe"
   ]
  },
  {
   "cell_type": "code",
   "execution_count": 42,
   "metadata": {},
   "outputs": [
    {
     "data": {
      "image/png": "[encoded data removed]",
      "text/plain": [
       "<Figure size 432x288 with 1 Axes>"
      ]
     },
     "metadata": {
      "needs_background": "light"
     },
     "output_type": "display_data"
    }
   ],
   "source": [
    "plt.plot(x,vals_r[0], 'r', label='R_3pl')\n",
    "plt.plot(x,vals_keras[0], 'b', label='keras_3pl')\n",
    "\n",
    "plt.title('ICC for item 4 from keras_3pl Vs.R_3pl')\n",
    "plt.xlabel('x: latent_trait_vals')\n",
    "plt.ylabel('y: P(i=1|x)')\n",
    "plt.legend(loc=2)\n",
    "plt.show()"
   ]
  },
  {
   "cell_type": "markdown",
   "metadata": {},
   "source": [
    "#### 5. Calculating plots for R's item 3 & keras's item 5"
   ]
  },
  {
   "cell_type": "code",
   "execution_count": 43,
   "metadata": {},
   "outputs": [
    {
     "data": {
      "text/plain": [
       "'V5'"
      ]
     },
     "execution_count": 43,
     "metadata": {},
     "output_type": "execute_result"
    }
   ],
   "source": [
    "coeff[r_params_cols[0]].iloc[4]"
   ]
  },
  {
   "cell_type": "code",
   "execution_count": 44,
   "metadata": {},
   "outputs": [],
   "source": [
    "c= coeff[r_params_cols[1]].iloc[4]#values of item 5 from R's dataframe\n",
    "a= coeff[r_params_cols[-1]].iloc[4]\n",
    "b= coeff[r_params_cols[2]].iloc[4]\n",
    "vals_r= logit_func(x)#logits for R's dataframe\n",
    "###\n",
    "c= pseudo_guess_parameters[4]#values for item 5 from keras 3pl params\n",
    "a= discrimination_parameters[4]\n",
    "b= difficulty_level_parameters[4]\n",
    "vals_keras= logit_func(x)#logits for R's dataframe"
   ]
  },
  {
   "cell_type": "code",
   "execution_count": 45,
   "metadata": {},
   "outputs": [
    {
     "data": {
      "image/png": "[encoded data removed]",
      "text/plain": [
       "<Figure size 432x288 with 1 Axes>"
      ]
     },
     "metadata": {
      "needs_background": "light"
     },
     "output_type": "display_data"
    }
   ],
   "source": [
    "plt.plot(x,vals_r[0], 'r', label='R_3pl')\n",
    "plt.plot(x,vals_keras[0], 'b', label='keras_3pl')\n",
    "\n",
    "plt.title('ICC for item 5 from keras_3pl Vs.R_3pl')\n",
    "plt.xlabel('x: latent_trait_vals')\n",
    "plt.ylabel('y: P(i=1|x)')\n",
    "plt.legend(loc=2)\n",
    "plt.show()"
   ]
  },
  {
   "cell_type": "markdown",
   "metadata": {},
   "source": [
    "#### 6. Calculating plots for R's item 3 & keras's item 6"
   ]
  },
  {
   "cell_type": "code",
   "execution_count": 46,
   "metadata": {},
   "outputs": [
    {
     "data": {
      "text/plain": [
       "'V6'"
      ]
     },
     "execution_count": 46,
     "metadata": {},
     "output_type": "execute_result"
    }
   ],
   "source": [
    "coeff[r_params_cols[0]].iloc[5]"
   ]
  },
  {
   "cell_type": "code",
   "execution_count": 47,
   "metadata": {},
   "outputs": [],
   "source": [
    "c= coeff[r_params_cols[1]].iloc[5]#values of item 6 from R's dataframe\n",
    "a= coeff[r_params_cols[-1]].iloc[5]\n",
    "b= coeff[r_params_cols[2]].iloc[5]\n",
    "vals_r= logit_func(x)#logits for R's dataframe\n",
    "###\n",
    "c= pseudo_guess_parameters[5]#values for item 6 from keras 3pl params\n",
    "a= discrimination_parameters[5]\n",
    "b= difficulty_level_parameters[5]\n",
    "vals_keras= logit_func(x)#logits for R's dataframe"
   ]
  },
  {
   "cell_type": "code",
   "execution_count": 48,
   "metadata": {},
   "outputs": [
    {
     "data": {
      "image/png": "[encoded data removed]",
      "text/plain": [
       "<Figure size 432x288 with 1 Axes>"
      ]
     },
     "metadata": {
      "needs_background": "light"
     },
     "output_type": "display_data"
    }
   ],
   "source": [
    "plt.plot(x,vals_r[0], 'r', label='R_3pl')\n",
    "plt.plot(x,vals_keras[0], 'b', label='keras_3pl')\n",
    "\n",
    "plt.title('ICC for item 6 from keras_3pl Vs.R_3pl')\n",
    "plt.xlabel('x: latent_trait_vals')\n",
    "plt.ylabel('y: P(i=1|x)')\n",
    "plt.legend(loc=2)\n",
    "plt.show()"
   ]
  },
  {
   "cell_type": "markdown",
   "metadata": {},
   "source": [
    "#### 7. Calculating plots for R's item 3 & keras's item 7"
   ]
  },
  {
   "cell_type": "code",
   "execution_count": 49,
   "metadata": {},
   "outputs": [
    {
     "data": {
      "text/plain": [
       "'V7'"
      ]
     },
     "execution_count": 49,
     "metadata": {},
     "output_type": "execute_result"
    }
   ],
   "source": [
    "coeff[r_params_cols[0]].iloc[6]"
   ]
  },
  {
   "cell_type": "code",
   "execution_count": 50,
   "metadata": {},
   "outputs": [],
   "source": [
    "c= coeff[r_params_cols[1]].iloc[6]#values of item 6 from R's dataframe\n",
    "a= coeff[r_params_cols[-1]].iloc[6]\n",
    "b= coeff[r_params_cols[2]].iloc[6]\n",
    "vals_r= logit_func(x)#logits for R's dataframe\n",
    "###\n",
    "c= pseudo_guess_parameters[6]#values for item 6 from keras 3pl params\n",
    "a= discrimination_parameters[6]\n",
    "b= difficulty_level_parameters[6]\n",
    "vals_keras= logit_func(x)#logits for R's dataframe"
   ]
  },
  {
   "cell_type": "code",
   "execution_count": 51,
   "metadata": {},
   "outputs": [
    {
     "data": {
      "image/png": "[encoded data removed]",
      "text/plain": [
       "<Figure size 432x288 with 1 Axes>"
      ]
     },
     "metadata": {
      "needs_background": "light"
     },
     "output_type": "display_data"
    }
   ],
   "source": [
    "plt.plot(x,vals_r[0], 'r', label='R_3pl')\n",
    "plt.plot(x,vals_keras[0], 'b', label='keras_3pl')\n",
    "\n",
    "plt.title('ICC for item 7 from keras_3pl Vs.R_3pl')\n",
    "plt.xlabel('x: latent_trait_vals')\n",
    "plt.ylabel('y: P(i=1|x)')\n",
    "plt.legend(loc=2)\n",
    "plt.show()"
   ]
  },
  {
   "cell_type": "markdown",
   "metadata": {},
   "source": [
    "#### 8. Calculating plots for R's item 3 & keras's item 8"
   ]
  },
  {
   "cell_type": "code",
   "execution_count": 52,
   "metadata": {},
   "outputs": [
    {
     "data": {
      "text/plain": [
       "'V8'"
      ]
     },
     "execution_count": 52,
     "metadata": {},
     "output_type": "execute_result"
    }
   ],
   "source": [
    "coeff[r_params_cols[0]].iloc[7]"
   ]
  },
  {
   "cell_type": "code",
   "execution_count": 53,
   "metadata": {},
   "outputs": [],
   "source": [
    "c= coeff[r_params_cols[1]].iloc[7]#values of item 6 from R's dataframe\n",
    "a= coeff[r_params_cols[-1]].iloc[7]\n",
    "b= coeff[r_params_cols[2]].iloc[7]\n",
    "vals_r= logit_func(x)#logits for R's dataframe\n",
    "###\n",
    "c= pseudo_guess_parameters[7]#values for item 6 from keras 3pl params\n",
    "a= discrimination_parameters[7]\n",
    "b= difficulty_level_parameters[7]\n",
    "vals_keras= logit_func(x)#logits for R's dataframe"
   ]
  },
  {
   "cell_type": "code",
   "execution_count": 54,
   "metadata": {},
   "outputs": [
    {
     "data": {
      "image/png": "[encoded data removed]",
      "text/plain": [
       "<Figure size 432x288 with 1 Axes>"
      ]
     },
     "metadata": {
      "needs_background": "light"
     },
     "output_type": "display_data"
    }
   ],
   "source": [
    "plt.plot(x,vals_r[0], 'r', label='R_3pl')\n",
    "plt.plot(x,vals_keras[0], 'b', label='keras_3pl')\n",
    "\n",
    "plt.title('ICC for item 8 from keras_3pl Vs.R_3pl')\n",
    "plt.xlabel('x: latent_trait_vals')\n",
    "plt.ylabel('y: P(i=1|x)')\n",
    "plt.legend(loc=2)\n",
    "plt.show()"
   ]
  },
  {
   "cell_type": "markdown",
   "metadata": {},
   "source": [
    "#### 9. calculating plots for R's item 3 & keras's item 9"
   ]
  },
  {
   "cell_type": "code",
   "execution_count": 55,
   "metadata": {},
   "outputs": [
    {
     "data": {
      "text/plain": [
       "'V9'"
      ]
     },
     "execution_count": 55,
     "metadata": {},
     "output_type": "execute_result"
    }
   ],
   "source": [
    "coeff[r_params_cols[0]].iloc[8]"
   ]
  },
  {
   "cell_type": "code",
   "execution_count": 56,
   "metadata": {},
   "outputs": [],
   "source": [
    "c= coeff[r_params_cols[1]].iloc[8]#values of item 6 from R's dataframe\n",
    "a= coeff[r_params_cols[-1]].iloc[8]\n",
    "b= coeff[r_params_cols[2]].iloc[8]\n",
    "vals_r= logit_func(x)#logits for R's dataframe\n",
    "###\n",
    "c= pseudo_guess_parameters[8]#values for item 6 from keras 3pl params\n",
    "a= discrimination_parameters[8]\n",
    "b= difficulty_level_parameters[8]\n",
    "vals_keras= logit_func(x)#logits for R's dataframe"
   ]
  },
  {
   "cell_type": "code",
   "execution_count": 57,
   "metadata": {},
   "outputs": [
    {
     "data": {
      "image/png": "[encoded data removed]",
      "text/plain": [
       "<Figure size 432x288 with 1 Axes>"
      ]
     },
     "metadata": {
      "needs_background": "light"
     },
     "output_type": "display_data"
    }
   ],
   "source": [
    "plt.plot(x,vals_r[0], 'r', label='R_3pl')\n",
    "plt.plot(x,vals_keras[0], 'b', label='keras_3pl')\n",
    "\n",
    "plt.title('ICC for item 9 from keras_3pl Vs.R_3pl')\n",
    "plt.xlabel('x: latent_trait_vals')\n",
    "plt.ylabel('y: P(i=1|x)')\n",
    "plt.legend(loc=2)\n",
    "plt.show()"
   ]
  },
  {
   "cell_type": "markdown",
   "metadata": {},
   "source": [
    "#### 10. Calculating plots for R's item 3 & keras's item 10"
   ]
  },
  {
   "cell_type": "code",
   "execution_count": 58,
   "metadata": {},
   "outputs": [
    {
     "data": {
      "text/plain": [
       "'V10'"
      ]
     },
     "execution_count": 58,
     "metadata": {},
     "output_type": "execute_result"
    }
   ],
   "source": [
    "coeff[r_params_cols[0]].iloc[9]"
   ]
  },
  {
   "cell_type": "code",
   "execution_count": 59,
   "metadata": {},
   "outputs": [],
   "source": [
    "c= coeff[r_params_cols[1]].iloc[9]#values of item 6 from R's dataframe\n",
    "a= coeff[r_params_cols[-1]].iloc[9]\n",
    "b= coeff[r_params_cols[2]].iloc[9]\n",
    "vals_r= logit_func(x)#logits for R's dataframe\n",
    "###\n",
    "c= pseudo_guess_parameters[9]#values for item 6 from keras 3pl params\n",
    "a= discrimination_parameters[9]\n",
    "b= difficulty_level_parameters[9]\n",
    "vals_keras= logit_func(x)#logits for R's dataframe"
   ]
  },
  {
   "cell_type": "code",
   "execution_count": 60,
   "metadata": {},
   "outputs": [
    {
     "data": {
      "image/png": "[encoded data removed]",
      "text/plain": [
       "<Figure size 432x288 with 1 Axes>"
      ]
     },
     "metadata": {
      "needs_background": "light"
     },
     "output_type": "display_data"
    }
   ],
   "source": [
    "plt.plot(x,vals_r[0], 'r', label='R_3pl')\n",
    "plt.plot(x,vals_keras[0], 'b', label='keras_3pl')\n",
    "\n",
    "plt.title('ICC for item 10 from keras_3pl Vs.R_3pl')\n",
    "plt.xlabel('x: latent_trait_vals')\n",
    "plt.ylabel('y: P(i=1|x)')\n",
    "plt.legend(loc=2)\n",
    "plt.show()"
   ]
  },
  {
   "cell_type": "markdown",
   "metadata": {},
   "source": [
    "## Item characteristic curves for all items from R tpm"
   ]
  },
  {
   "cell_type": "code",
   "execution_count": 61,
   "metadata": {},
   "outputs": [
    {
     "data": {
      "image/png": "[encoded data removed]",
      "text/plain": [
       "<Figure size 432x288 with 1 Axes>"
      ]
     },
     "metadata": {
      "needs_background": "light"
     },
     "output_type": "display_data"
    }
   ],
   "source": [
    "for i in range(coeff.shape[0]):\n",
    "    c= coeff[r_params_cols[1]].iloc[i]#values of item 6 from R's dataframe\n",
    "    a= coeff[r_params_cols[-1]].iloc[i]\n",
    "    b= coeff[r_params_cols[2]].iloc[i]\n",
    "    vals_r= logit_func(x)\n",
    "    plt.plot(x,vals_r[0], 'r')\n",
    "\n",
    "plt.title('ICC for each of 10 items from R_3pl')\n",
    "plt.xlabel('x: latent_trait_vals')\n",
    "plt.ylabel('y: P(i=1|x)')\n",
    "plt.show()"
   ]
  },
  {
   "cell_type": "markdown",
   "metadata": {},
   "source": [
    "## Item characteristic curves for all items from keras 3PL"
   ]
  },
  {
   "cell_type": "code",
   "execution_count": 62,
   "metadata": {},
   "outputs": [
    {
     "data": {
      "image/png": "[encoded data removed]",
      "text/plain": [
       "<Figure size 432x288 with 1 Axes>"
      ]
     },
     "metadata": {
      "needs_background": "light"
     },
     "output_type": "display_data"
    }
   ],
   "source": [
    "for i in range(len(rel_items)):#10 items\n",
    "    c= pseudo_guess_parameters[i]#values for item 6 from keras 3pl params\n",
    "    a= discrimination_parameters[i]\n",
    "    b= difficulty_level_parameters[i]\n",
    "    vals_keras= logit_func(x)\n",
    "    plt.plot(x,vals_keras[0], 'b')\n",
    "\n",
    "plt.title('ICC for each of 10 items from keras_3pl')\n",
    "plt.xlabel('x: latent_trait_vals')\n",
    "plt.ylabel('y: P(i=1|x)')\n",
    "plt.show()#for mean=1.0, stdDev=0.5"
   ]
  },
  {
   "cell_type": "markdown",
   "metadata": {},
   "source": [
    "-------------"
   ]
  }
 ],
 "metadata": {
  "kernelspec": {
   "display_name": "Python 3",
   "language": "python",
   "name": "python3"
  },
  "language_info": {
   "codemirror_mode": {
    "name": "ipython",
    "version": 3
   },
   "file_extension": ".py",
   "mimetype": "text/x-python",
   "name": "python",
   "nbconvert_exporter": "python",
   "pygments_lexer": "ipython3",
   "version": "3.6.8"
  }
 },
 "nbformat": 4,
 "nbformat_minor": 2
}
