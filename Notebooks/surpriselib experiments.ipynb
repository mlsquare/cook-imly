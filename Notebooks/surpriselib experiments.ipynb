{
 "cells": [
  {
   "cell_type": "markdown",
   "metadata": {},
   "source": [
    "##### Supriselib algos benchmark example\n",
    "* Following outputs 5 folds validation results on ml-1m dataset with each of the inbuilt algos provided by surpriselib package.\n",
    "* [SVD, SVDpp, NMF, SlopeOne, KNNBasic, KNNWithMeans, KNNBaseline, CoClustering, BaselineOnly, NormalPredictor] are some which come included in package"
   ]
  },
  {
   "cell_type": "code",
   "execution_count": 1,
   "metadata": {},
   "outputs": [],
   "source": [
    "import time\n",
    "import datetime\n",
    "import random\n",
    "\n",
    "import numpy as np\n",
    "import six\n",
    "from tabulate import tabulate\n",
    "\n",
    "from surprise import Dataset\n",
    "from surprise.model_selection import cross_validate\n",
    "from surprise.model_selection import KFold\n",
    "from surprise import NormalPredictor\n",
    "from surprise import BaselineOnly\n",
    "from surprise import KNNBasic\n",
    "from surprise import KNNWithMeans\n",
    "from surprise import KNNBaseline\n",
    "from surprise import SVD\n",
    "from surprise import SVDpp\n",
    "from surprise import NMF\n",
    "from surprise import SlopeOne\n",
    "from surprise import CoClustering\n"
   ]
  },
  {
   "cell_type": "code",
   "execution_count": 5,
   "metadata": {},
   "outputs": [],
   "source": [
    "stable = 'http://surprise.readthedocs.io/en/stable/'\n",
    "LINK = {'SVD': '[{}]({})'.format('SVD',\n",
    "                                 stable +\n",
    "                                 'matrix_factorization.html#surprise.prediction_algorithms.matrix_factorization.SVD'),\n",
    "        'SVDpp': '[{}]({})'.format('SVD++',\n",
    "                                   stable +\n",
    "                                   'matrix_factorization.html#surprise.prediction_algorithms.matrix_factorization.SVDpp'),\n",
    "        'NMF': '[{}]({})'.format('NMF',\n",
    "                                 stable +\n",
    "                                 'matrix_factorization.html#surprise.prediction_algorithms.matrix_factorization.NMF'),\n",
    "        'SlopeOne': '[{}]({})'.format('Slope One',\n",
    "                                      stable +\n",
    "                                      'slope_one.html#surprise.prediction_algorithms.slope_one.SlopeOne'),\n",
    "        'KNNBasic': '[{}]({})'.format('k-NN',\n",
    "                                      stable +\n",
    "                                      'knn_inspired.html#surprise.prediction_algorithms.knns.KNNBasic'),\n",
    "        'KNNWithMeans': '[{}]({})'.format('Centered k-NN',\n",
    "                                          stable +\n",
    "                                          'knn_inspired.html#surprise.prediction_algorithms.knns.KNNWithMeans'),\n",
    "        'KNNBaseline': '[{}]({})'.format('k-NN Baseline',\n",
    "                                         stable +\n",
    "                                         'knn_inspired.html#surprise.prediction_algorithms.knns.KNNBaseline'),\n",
    "        'CoClustering': '[{}]({})'.format('Co-Clustering',\n",
    "                                          stable +\n",
    "                                          'co_clustering.html#surprise.prediction_algorithms.co_clustering.CoClustering'),\n",
    "        'BaselineOnly': '[{}]({})'.format('Baseline',\n",
    "                                          stable +\n",
    "                                          'basic_algorithms.html#surprise.prediction_algorithms.baseline_only.BaselineOnly'),\n",
    "        'NormalPredictor': '[{}]({})'.format('Random',\n",
    "                                             stable +\n",
    "                                             'basic_algorithms.html#surprise.prediction_algorithms.random_pred.NormalPredictor'),\n",
    "        'ml-100k': '[{}]({})'.format('Movielens 100k',\n",
    "                                     'http://grouplens.org/datasets/movielens/100k'),\n",
    "        'ml-1m': '[{}]({})'.format('Movielens 1M',\n",
    "                                   'http://grouplens.org/datasets/movielens/1m'),\n",
    "        }"
   ]
  },
  {
   "cell_type": "code",
   "execution_count": 6,
   "metadata": {
    "scrolled": false
   },
   "outputs": [
    {
     "data": {
      "text/plain": [
       "{'SVD': '[SVD](http://surprise.readthedocs.io/en/stable/matrix_factorization.html#surprise.prediction_algorithms.matrix_factorization.SVD)',\n",
       " 'SVDpp': '[SVD++](http://surprise.readthedocs.io/en/stable/matrix_factorization.html#surprise.prediction_algorithms.matrix_factorization.SVDpp)',\n",
       " 'NMF': '[NMF](http://surprise.readthedocs.io/en/stable/matrix_factorization.html#surprise.prediction_algorithms.matrix_factorization.NMF)',\n",
       " 'SlopeOne': '[Slope One](http://surprise.readthedocs.io/en/stable/slope_one.html#surprise.prediction_algorithms.slope_one.SlopeOne)',\n",
       " 'KNNBasic': '[k-NN](http://surprise.readthedocs.io/en/stable/knn_inspired.html#surprise.prediction_algorithms.knns.KNNBasic)',\n",
       " 'KNNWithMeans': '[Centered k-NN](http://surprise.readthedocs.io/en/stable/knn_inspired.html#surprise.prediction_algorithms.knns.KNNWithMeans)',\n",
       " 'KNNBaseline': '[k-NN Baseline](http://surprise.readthedocs.io/en/stable/knn_inspired.html#surprise.prediction_algorithms.knns.KNNBaseline)',\n",
       " 'CoClustering': '[Co-Clustering](http://surprise.readthedocs.io/en/stable/co_clustering.html#surprise.prediction_algorithms.co_clustering.CoClustering)',\n",
       " 'BaselineOnly': '[Baseline](http://surprise.readthedocs.io/en/stable/basic_algorithms.html#surprise.prediction_algorithms.baseline_only.BaselineOnly)',\n",
       " 'NormalPredictor': '[Random](http://surprise.readthedocs.io/en/stable/basic_algorithms.html#surprise.prediction_algorithms.random_pred.NormalPredictor)',\n",
       " 'ml-100k': '[Movielens 100k](http://grouplens.org/datasets/movielens/100k)',\n",
       " 'ml-1m': '[Movielens 1M](http://grouplens.org/datasets/movielens/1m)'}"
      ]
     },
     "execution_count": 6,
     "metadata": {},
     "output_type": "execute_result"
    }
   ],
   "source": [
    "LINK"
   ]
  },
  {
   "cell_type": "code",
   "execution_count": 7,
   "metadata": {},
   "outputs": [
    {
     "name": "stdout",
     "output_type": "stream",
     "text": [
      "Dataset ml-1m could not be found. Do you want to download it? [Y/n] y\n",
      "Trying to download dataset from http://files.grouplens.org/datasets/movielens/ml-1m.zip...\n",
      "Done! Dataset ml-1m has been saved to C:\\Users\\might/.surprise_data/ml-1m\n"
     ]
    }
   ],
   "source": [
    "np.random.seed(0)\n",
    "random.seed(0)\n",
    "\n",
    "dataset = 'ml-1m'\n",
    "data = Dataset.load_builtin(dataset)\n",
    "kf = KFold(random_state=0)  # folds will be the same for all algorithms."
   ]
  },
  {
   "cell_type": "code",
   "execution_count": null,
   "metadata": {},
   "outputs": [],
   "source": [
    "classes = (SVD, SVDpp, NMF, SlopeOne, KNNBasic, KNNWithMeans, KNNBaseline,\n",
    "           CoClustering, BaselineOnly, NormalPredictor)\n",
    "table = []\n",
    "for klass in classes:\n",
    "    start = time.time()\n",
    "    out = cross_validate(klass(), data, ['rmse', 'mae'], kf)\n",
    "    cv_time = str(datetime.timedelta(seconds=int(time.time() - start)))\n",
    "    link = LINK[klass.__name__]\n",
    "    mean_rmse = '{:.3f}'.format(np.mean(out['test_rmse']))\n",
    "    mean_mae = '{:.3f}'.format(np.mean(out['test_mae']))\n",
    "\n",
    "    new_line = [link, mean_rmse, mean_mae, cv_time]\n",
    "    print(tabulate([new_line], tablefmt=\"pipe\"))  # print current algo perf\n",
    "    table.append(new_line)\n",
    "\n",
    "header = [LINK[dataset],\n",
    "          'RMSE',\n",
    "          'MAE',\n",
    "          'Time'\n",
    "          ]\n",
    "print(tabulate(table, header, tablefmt=\"pipe\"))"
   ]
  },
  {
   "cell_type": "markdown",
   "metadata": {},
   "source": [
    "* #### Manully splitting & evaluating ml-100k dataset in train & validation set"
   ]
  },
  {
   "cell_type": "code",
   "execution_count": 38,
   "metadata": {},
   "outputs": [],
   "source": [
    "#SVD\n",
    "from surprise import SVD\n",
    "from surprise import Dataset\n",
    "from surprise.model_selection import cross_validate\n",
    "\n",
    "from surprise.model_selection import train_test_split"
   ]
  },
  {
   "cell_type": "code",
   "execution_count": 14,
   "metadata": {},
   "outputs": [],
   "source": [
    "algo = SVD()\n",
    "data= Dataset.load_builtin('ml-100k')\n",
    "\n",
    "trainset, testset = train_test_split(data, test_size=.25)"
   ]
  },
  {
   "cell_type": "code",
   "execution_count": 22,
   "metadata": {},
   "outputs": [
    {
     "name": "stdout",
     "output_type": "stream",
     "text": [
      "3.5105831623077393\n"
     ]
    }
   ],
   "source": [
    "import time\n",
    "tick = time.time()\n",
    "algo.fit(trainset)\n",
    "print(time.time()-tick)"
   ]
  },
  {
   "cell_type": "code",
   "execution_count": 30,
   "metadata": {},
   "outputs": [
    {
     "data": {
      "text/plain": [
       "25000"
      ]
     },
     "execution_count": 30,
     "metadata": {},
     "output_type": "execute_result"
    }
   ],
   "source": [
    "pred = algo.test(testset)\n",
    "len(testset)"
   ]
  },
  {
   "cell_type": "code",
   "execution_count": 31,
   "metadata": {},
   "outputs": [
    {
     "data": {
      "text/plain": [
       "[('782', '1615', 3.0),\n",
       " ('376', '154', 4.0),\n",
       " ('892', '31', 4.0),\n",
       " ('442', '482', 3.0),\n",
       " ('94', '223', 5.0)]"
      ]
     },
     "execution_count": 31,
     "metadata": {},
     "output_type": "execute_result"
    }
   ],
   "source": [
    "testset[1500:1505]"
   ]
  },
  {
   "cell_type": "code",
   "execution_count": 41,
   "metadata": {},
   "outputs": [],
   "source": [
    "a,b,c,d,e = pred[0]"
   ]
  },
  {
   "cell_type": "code",
   "execution_count": 55,
   "metadata": {},
   "outputs": [
    {
     "name": "stdout",
     "output_type": "stream",
     "text": [
      "94\n",
      "544\n",
      "3.0\n",
      "3.656863038461044\n"
     ]
    },
    {
     "data": {
      "text/plain": [
       "[None, None, None, None]"
      ]
     },
     "execution_count": 55,
     "metadata": {},
     "output_type": "execute_result"
    }
   ],
   "source": [
    "[print(eval(i)) for i in list('abcd')]"
   ]
  },
  {
   "cell_type": "code",
   "execution_count": 32,
   "metadata": {},
   "outputs": [
    {
     "data": {
      "text/plain": [
       "[Prediction(uid='782', iid='1615', r_ui=3.0, est=2.8040956371694645, details={'was_impossible': False}),\n",
       " Prediction(uid='376', iid='154', r_ui=4.0, est=3.9792781983007997, details={'was_impossible': False}),\n",
       " Prediction(uid='892', iid='31', r_ui=4.0, est=3.8741317430704663, details={'was_impossible': False}),\n",
       " Prediction(uid='442', iid='482', r_ui=3.0, est=4.036310960447297, details={'was_impossible': False}),\n",
       " Prediction(uid='94', iid='223', r_ui=5.0, est=4.64151396134745, details={'was_impossible': False})]"
      ]
     },
     "execution_count": 32,
     "metadata": {},
     "output_type": "execute_result"
    }
   ],
   "source": [
    "pred[1500:1505]#prediction output format"
   ]
  },
  {
   "cell_type": "code",
   "execution_count": 60,
   "metadata": {},
   "outputs": [
    {
     "name": "stdout",
     "output_type": "stream",
     "text": [
      "RMSE: 0.9404\n"
     ]
    },
    {
     "data": {
      "text/plain": [
       "0.9403683813991757"
      ]
     },
     "execution_count": 60,
     "metadata": {},
     "output_type": "execute_result"
    }
   ],
   "source": [
    "from surprise import accuracy\n",
    "accuracy.rmse(pred)"
   ]
  },
  {
   "cell_type": "code",
   "execution_count": 4,
   "metadata": {},
   "outputs": [
    {
     "name": "stdout",
     "output_type": "stream",
     "text": [
      "Evaluating RMSE, MAE of algorithm SVD on 5 split(s).\n",
      "\n",
      "                  Fold 1  Fold 2  Fold 3  Fold 4  Fold 5  Mean    Std     \n",
      "RMSE (testset)    0.9333  0.9369  0.9416  0.9319  0.9376  0.9362  0.0034  \n",
      "MAE (testset)     0.7376  0.7377  0.7447  0.7323  0.7410  0.7387  0.0041  \n",
      "Fit time          3.81    3.84    3.78    3.75    3.95    3.83    0.07    \n",
      "Test time         0.22    0.13    0.11    0.15    0.13    0.15    0.04    \n",
      "20.4947509765625\n"
     ]
    }
   ],
   "source": [
    "import time\n",
    "\n",
    "\n",
    "tick = time.time()\n",
    "cross_validate(algo, data, measures=['RMSE', 'MAE'], cv=5, verbose=True)#5 folds CV with SVD\n",
    "print(time.time()-tick)"
   ]
  },
  {
   "cell_type": "code",
   "execution_count": 2,
   "metadata": {},
   "outputs": [],
   "source": [
    "#########"
   ]
  },
  {
   "cell_type": "code",
   "execution_count": 11,
   "metadata": {},
   "outputs": [],
   "source": [
    "### Parsing reader module\n",
    "import os\n",
    "from collections import namedtuple\n",
    "\n",
    "BuiltinDataset = namedtuple('BuiltinDataset',['url', 'path', 'rating_scale', 'reader_params'])"
   ]
  },
  {
   "cell_type": "code",
   "execution_count": 19,
   "metadata": {},
   "outputs": [],
   "source": [
    "### from .builtin_datasets import BUILTIN_DATASETS\n",
    "def get_dataset_dir():\n",
    "    '''Return folder where downloaded datasets and other data are stored.\n",
    "    Default folder is ~/.surprise_data/, but it can also be set by the\n",
    "    environment variable ``SURPRISE_DATA_FOLDER``.\n",
    "    '''\n",
    "\n",
    "    folder = os.environ.get('SURPRISE_DATA_FOLDER', os.path.expanduser('~') +\n",
    "                            '/.surprise_data/')\n",
    "    if not os.path.exists(folder):\n",
    "        os.makedirs(folder)\n",
    "\n",
    "    return folder\n",
    "\n",
    "\n",
    "BUILTIN_DATASETS = {\n",
    "    'ml-100k':\n",
    "        BuiltinDataset(\n",
    "            url='http://files.grouplens.org/datasets/movielens/ml-100k.zip',\n",
    "            path=os.path.join(get_dataset_dir(), 'ml-100k/ml-100k/u.data'),\n",
    "            rating_scale=(1, 5),\n",
    "            reader_params=dict(line_format='user item rating timestamp',\n",
    "                               sep='\\t')\n",
    "        ),\n",
    "    'ml-1m':\n",
    "        BuiltinDataset(\n",
    "            url='http://files.grouplens.org/datasets/movielens/ml-1m.zip',\n",
    "            path=os.path.join(get_dataset_dir(), 'ml-1m/ml-1m/ratings.dat'),\n",
    "            rating_scale=(1, 5),\n",
    "            reader_params=dict(line_format='user item rating timestamp',\n",
    "                               sep='::')\n",
    "        )}"
   ]
  },
  {
   "cell_type": "code",
   "execution_count": 22,
   "metadata": {},
   "outputs": [],
   "source": [
    "dset= BUILTIN_DATASETS['ml-100k']"
   ]
  },
  {
   "cell_type": "code",
   "execution_count": 36,
   "metadata": {},
   "outputs": [
    {
     "data": {
      "text/plain": [
       "BuiltinDataset(url='http://files.grouplens.org/datasets/movielens/ml-100k.zip', path='C:\\\\Users\\\\might/.surprise_data/ml-100k/ml-100k/u.data', rating_scale=(1, 5), reader_params={'line_format': 'user item rating timestamp', 'sep': '\\t'})"
      ]
     },
     "execution_count": 36,
     "metadata": {},
     "output_type": "execute_result"
    }
   ],
   "source": [
    "dset"
   ]
  },
  {
   "cell_type": "markdown",
   "metadata": {},
   "source": [
    "* #### Importing inbuilt datasets: ml-100k as custom files"
   ]
  },
  {
   "cell_type": "code",
   "execution_count": 1,
   "metadata": {},
   "outputs": [],
   "source": [
    "from surprise import Reader\n",
    "from surprise import SVD\n",
    "from surprise import Dataset\n",
    "from surprise.model_selection import train_test_split\n",
    "from surprise.model_selection import cross_validate\n",
    "import os"
   ]
  },
  {
   "cell_type": "code",
   "execution_count": 4,
   "metadata": {},
   "outputs": [],
   "source": [
    "file_path = os.path.expanduser('~/.surprise_data/ml-100k/ml-100k/u.data')\n",
    "rdr = Reader(line_format='user item rating', sep ='\\t', rating_scale=(1,5))#line_format='')"
   ]
  },
  {
   "cell_type": "code",
   "execution_count": 2,
   "metadata": {},
   "outputs": [],
   "source": [
    "rdr = Reader(line_format='user item rating', sep ='\\t', rating_scale=(1,5))#line_format='')"
   ]
  },
  {
   "cell_type": "code",
   "execution_count": 17,
   "metadata": {},
   "outputs": [],
   "source": [
    "data =Dataset.load_from_file(file_path, rdr)\n",
    "trainset,testset= train_test_split(data, test_size=0.2)"
   ]
  },
  {
   "cell_type": "code",
   "execution_count": 24,
   "metadata": {
    "scrolled": true
   },
   "outputs": [
    {
     "data": {
      "text/plain": [
       "<surprise.prediction_algorithms.matrix_factorization.SVD at 0x17061c50908>"
      ]
     },
     "execution_count": 24,
     "metadata": {},
     "output_type": "execute_result"
    }
   ],
   "source": [
    "algo =SVD()\n",
    "algo.fit(trainset)"
   ]
  },
  {
   "cell_type": "code",
   "execution_count": 27,
   "metadata": {
    "scrolled": true
   },
   "outputs": [
    {
     "name": "stdout",
     "output_type": "stream",
     "text": [
      "RMSE: 0.9360\n"
     ]
    },
    {
     "data": {
      "text/plain": [
       "0.9360411069215001"
      ]
     },
     "execution_count": 27,
     "metadata": {},
     "output_type": "execute_result"
    }
   ],
   "source": [
    "from surprise import accuracy\n",
    "\n",
    "pred= algo.test(testset)\n",
    "accuracy.rmse(pred)"
   ]
  },
  {
   "cell_type": "markdown",
   "metadata": {},
   "source": [
    "* ###### Cross validating results on ml-100k with SVD, KNN & Baseline"
   ]
  },
  {
   "cell_type": "code",
   "execution_count": 35,
   "metadata": {},
   "outputs": [
    {
     "name": "stdout",
     "output_type": "stream",
     "text": [
      "Evaluating RMSE, MAE of algorithm SVD on 5 split(s).\n",
      "\n",
      "                  Fold 1  Fold 2  Fold 3  Fold 4  Fold 5  Mean    Std     \n",
      "RMSE (testset)    0.9415  0.9267  0.9353  0.9373  0.9347  0.9351  0.0048  \n",
      "MAE (testset)     0.7413  0.7319  0.7336  0.7391  0.7380  0.7368  0.0035  \n",
      "Fit time          3.81    3.85    3.80    3.70    3.75    3.78    0.05    \n",
      "Test time         0.11    0.17    0.11    0.11    0.10    0.12    0.02    \n"
     ]
    },
    {
     "data": {
      "text/plain": [
       "{'test_rmse': array([0.94146352, 0.9266794 , 0.93533813, 0.93731226, 0.93474275]),\n",
       " 'test_mae': array([0.74134185, 0.73192685, 0.73357895, 0.7391303 , 0.73803207]),\n",
       " 'fit_time': (3.812755823135376,\n",
       "  3.847705125808716,\n",
       "  3.800828218460083,\n",
       "  3.7040839195251465,\n",
       "  3.751995086669922),\n",
       " 'test_time': (0.1077427864074707,\n",
       "  0.16854619979858398,\n",
       "  0.1076807975769043,\n",
       "  0.1076819896697998,\n",
       "  0.10372114181518555)}"
      ]
     },
     "execution_count": 35,
     "metadata": {},
     "output_type": "execute_result"
    }
   ],
   "source": [
    "algo =SVD()\n",
    "cross_validate(algo, data, measures=['rmse','mae'], verbose=True)"
   ]
  },
  {
   "cell_type": "code",
   "execution_count": 31,
   "metadata": {},
   "outputs": [
    {
     "name": "stdout",
     "output_type": "stream",
     "text": [
      "Estimating biases using als...\n",
      "Estimating biases using als...\n",
      "Estimating biases using als...\n",
      "Estimating biases using als...\n",
      "Estimating biases using als...\n",
      "Evaluating RMSE, MAE of algorithm BaselineOnly on 5 split(s).\n",
      "\n",
      "                  Fold 1  Fold 2  Fold 3  Fold 4  Fold 5  Mean    Std     \n",
      "RMSE (testset)    0.9461  0.9376  0.9461  0.9515  0.9365  0.9436  0.0057  \n",
      "MAE (testset)     0.7512  0.7440  0.7491  0.7549  0.7410  0.7481  0.0050  \n",
      "Fit time          0.13    0.14    0.15    0.15    0.15    0.15    0.01    \n",
      "Test time         0.07    0.07    0.13    0.07    0.08    0.09    0.02    \n"
     ]
    },
    {
     "data": {
      "text/plain": [
       "{'test_rmse': array([0.94611425, 0.93764737, 0.94611765, 0.95154629, 0.93645949]),\n",
       " 'test_mae': array([0.7512452 , 0.74402131, 0.7490589 , 0.75492983, 0.74103763]),\n",
       " 'fit_time': (0.129669189453125,\n",
       "  0.14261937141418457,\n",
       "  0.15358757972717285,\n",
       "  0.15261530876159668,\n",
       "  0.1466541290283203),\n",
       " 'test_time': (0.07179951667785645,\n",
       "  0.0747981071472168,\n",
       "  0.129608154296875,\n",
       "  0.07380938529968262,\n",
       "  0.07580113410949707)}"
      ]
     },
     "execution_count": 31,
     "metadata": {},
     "output_type": "execute_result"
    }
   ],
   "source": [
    "from surprise import BaselineOnly\n",
    "cross_validate(BaselineOnly(), data, verbose=True)"
   ]
  },
  {
   "cell_type": "code",
   "execution_count": 36,
   "metadata": {},
   "outputs": [
    {
     "name": "stdout",
     "output_type": "stream",
     "text": [
      "Computing the msd similarity matrix...\n",
      "Done computing similarity matrix.\n",
      "Computing the msd similarity matrix...\n",
      "Done computing similarity matrix.\n",
      "Computing the msd similarity matrix...\n",
      "Done computing similarity matrix.\n",
      "Computing the msd similarity matrix...\n",
      "Done computing similarity matrix.\n",
      "Computing the msd similarity matrix...\n",
      "Done computing similarity matrix.\n",
      "Evaluating RMSE, MAE of algorithm KNNBasic on 5 split(s).\n",
      "\n",
      "                  Fold 1  Fold 2  Fold 3  Fold 4  Fold 5  Mean    Std     \n",
      "RMSE (testset)    0.9721  0.9782  0.9780  0.9789  0.9843  0.9783  0.0039  \n",
      "MAE (testset)     0.7669  0.7742  0.7705  0.7725  0.7790  0.7726  0.0040  \n",
      "Fit time          0.47    0.41    0.42    0.41    0.51    0.45    0.04    \n",
      "Test time         2.63    2.65    2.64    2.48    2.70    2.62    0.07    \n"
     ]
    },
    {
     "data": {
      "text/plain": [
       "{'test_rmse': array([0.97213513, 0.9782337 , 0.97800681, 0.97893964, 0.98431272]),\n",
       " 'test_mae': array([0.76689422, 0.77424671, 0.77052573, 0.77248953, 0.7790203 ]),\n",
       " 'fit_time': (0.4747741222381592,\n",
       "  0.4148576259613037,\n",
       "  0.42087316513061523,\n",
       "  0.40686678886413574,\n",
       "  0.5145902633666992),\n",
       " 'test_time': (2.6319382190704346,\n",
       "  2.6509103775024414,\n",
       "  2.635981321334839,\n",
       "  2.482391119003296,\n",
       "  2.699810028076172)}"
      ]
     },
     "execution_count": 36,
     "metadata": {},
     "output_type": "execute_result"
    }
   ],
   "source": [
    "from surprise import KNNBasic\n",
    "algo = KNNBasic()\n",
    "cross_validate(algo, data, verbose=True)"
   ]
  },
  {
   "cell_type": "markdown",
   "metadata": {},
   "source": [
    "* ##### With jester dataset"
   ]
  },
  {
   "cell_type": "code",
   "execution_count": 6,
   "metadata": {},
   "outputs": [],
   "source": [
    "data_j = Dataset.load_builtin('jester')#loading jester dataset"
   ]
  },
  {
   "cell_type": "code",
   "execution_count": 7,
   "metadata": {},
   "outputs": [],
   "source": [
    "jtrain, jtes= train_test_split(data_j, test_size=0.3)"
   ]
  },
  {
   "cell_type": "code",
   "execution_count": 45,
   "metadata": {},
   "outputs": [
    {
     "data": {
      "text/plain": [
       "[('35517', '96', 13.469),\n",
       " ('62147', '145', 18.25),\n",
       " ('47657', '122', 15.125),\n",
       " ('46926', '92', 17.75),\n",
       " ('39564', '96', 5.281),\n",
       " ('42263', '64', 10.938),\n",
       " ('37125', '68', 14.844),\n",
       " ('40446', '119', 19.561999999999998),\n",
       " ('32408', '59', 12.031),\n",
       " ('36269', '70', 13.469)]"
      ]
     },
     "execution_count": 45,
     "metadata": {},
     "output_type": "execute_result"
    }
   ],
   "source": [
    "jtes[:10]#contains the s [User ID] [Item ID] [Rating]"
   ]
  },
  {
   "cell_type": "code",
   "execution_count": 8,
   "metadata": {},
   "outputs": [
    {
     "name": "stdout",
     "output_type": "stream",
     "text": [
      "Evaluating RMSE, MAE of algorithm SVD on 5 split(s).\n",
      "\n",
      "                  Fold 1  Fold 2  Fold 3  Fold 4  Fold 5  Mean    Std     \n",
      "RMSE (testset)    4.5002  4.5010  4.5044  4.5022  4.5072  4.5030  0.0025  \n",
      "MAE (testset)     3.3685  3.3747  3.3752  3.3749  3.3799  3.3746  0.0036  \n",
      "Fit time          65.35   65.76   65.70   66.48   66.91   66.04   0.57    \n",
      "Test time         3.64    3.80    3.23    3.64    3.47    3.56    0.19    \n"
     ]
    },
    {
     "data": {
      "text/plain": [
       "{'test_rmse': array([4.50022424, 4.5009501 , 4.50444094, 4.50224849, 4.50720804]),\n",
       " 'test_mae': array([3.36848129, 3.37474824, 3.37515326, 3.37485802, 3.37985276]),\n",
       " 'fit_time': (65.34619045257568,\n",
       "  65.75805640220642,\n",
       "  65.70223569869995,\n",
       "  66.48274183273315,\n",
       "  66.9066846370697),\n",
       " 'test_time': (3.6365621089935303,\n",
       "  3.799867630004883,\n",
       "  3.233344554901123,\n",
       "  3.6382975578308105,\n",
       "  3.4737374782562256)}"
      ]
     },
     "execution_count": 8,
     "metadata": {},
     "output_type": "execute_result"
    }
   ],
   "source": [
    "algo1 = SVD()\n",
    "cross_validate(algo1, data_j, measures=['rmse','mae'], verbose=True)"
   ]
  },
  {
   "cell_type": "code",
   "execution_count": 9,
   "metadata": {},
   "outputs": [],
   "source": [
    "from surprise import KNNBasic\n",
    "algo2 = KNNBasic()"
   ]
  },
  {
   "cell_type": "code",
   "execution_count": null,
   "metadata": {},
   "outputs": [],
   "source": [
    "cross_validate(algo2, data_j, measures= ['rmse','mae'], verbose=True)"
   ]
  }
 ],
 "metadata": {
  "kernelspec": {
   "display_name": "Python 3",
   "language": "python",
   "name": "python3"
  },
  "language_info": {
   "codemirror_mode": {
    "name": "ipython",
    "version": 3
   },
   "file_extension": ".py",
   "mimetype": "text/x-python",
   "name": "python",
   "nbconvert_exporter": "python",
   "pygments_lexer": "ipython3",
   "version": "3.6.8"
  }
 },
 "nbformat": 4,
 "nbformat_minor": 2
}
