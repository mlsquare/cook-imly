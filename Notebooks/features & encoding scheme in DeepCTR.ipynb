{
 "cells": [
  {
   "cell_type": "markdown",
   "metadata": {},
   "source": [
    "**Understanding data processing across one model API(Here DeepFM for example) pipeline** using varied datasets.\n",
    "* Movielens dataset"
   ]
  },
  {
   "cell_type": "code",
   "execution_count": 69,
   "metadata": {},
   "outputs": [],
   "source": [
    "import pandas as pd\n",
    "from sklearn.metrics import mean_squared_error\n",
    "from sklearn.model_selection import train_test_split\n",
    "from sklearn.preprocessing import LabelEncoder"
   ]
  },
  {
   "cell_type": "code",
   "execution_count": 72,
   "metadata": {},
   "outputs": [],
   "source": [
    "from deepctr.models import DeepFM\n",
    "from deepctr.inputs import SparseFeat,get_fixlen_feature_names"
   ]
  },
  {
   "cell_type": "code",
   "execution_count": 240,
   "metadata": {
    "scrolled": false
   },
   "outputs": [
    {
     "data": {
      "text/html": [
       "<div>\n",
       "<style scoped>\n",
       "    .dataframe tbody tr th:only-of-type {\n",
       "        vertical-align: middle;\n",
       "    }\n",
       "\n",
       "    .dataframe tbody tr th {\n",
       "        vertical-align: top;\n",
       "    }\n",
       "\n",
       "    .dataframe thead th {\n",
       "        text-align: right;\n",
       "    }\n",
       "</style>\n",
       "<table border=\"1\" class=\"dataframe\">\n",
       "  <thead>\n",
       "    <tr style=\"text-align: right;\">\n",
       "      <th></th>\n",
       "      <th>user_id</th>\n",
       "      <th>movie_id</th>\n",
       "      <th>rating</th>\n",
       "      <th>timestamp</th>\n",
       "      <th>title</th>\n",
       "      <th>genres</th>\n",
       "      <th>gender</th>\n",
       "      <th>age</th>\n",
       "      <th>occupation</th>\n",
       "      <th>zip</th>\n",
       "    </tr>\n",
       "  </thead>\n",
       "  <tbody>\n",
       "    <tr>\n",
       "      <th>0</th>\n",
       "      <td>3299</td>\n",
       "      <td>235</td>\n",
       "      <td>4</td>\n",
       "      <td>968035345</td>\n",
       "      <td>Ed Wood (1994)</td>\n",
       "      <td>Comedy|Drama</td>\n",
       "      <td>F</td>\n",
       "      <td>25</td>\n",
       "      <td>4</td>\n",
       "      <td>19119</td>\n",
       "    </tr>\n",
       "    <tr>\n",
       "      <th>1</th>\n",
       "      <td>3630</td>\n",
       "      <td>3256</td>\n",
       "      <td>3</td>\n",
       "      <td>966536874</td>\n",
       "      <td>Patriot Games (1992)</td>\n",
       "      <td>Action|Thriller</td>\n",
       "      <td>M</td>\n",
       "      <td>18</td>\n",
       "      <td>4</td>\n",
       "      <td>77005</td>\n",
       "    </tr>\n",
       "    <tr>\n",
       "      <th>2</th>\n",
       "      <td>517</td>\n",
       "      <td>105</td>\n",
       "      <td>4</td>\n",
       "      <td>976203603</td>\n",
       "      <td>Bridges of Madison County, The (1995)</td>\n",
       "      <td>Drama|Romance</td>\n",
       "      <td>F</td>\n",
       "      <td>25</td>\n",
       "      <td>14</td>\n",
       "      <td>55408</td>\n",
       "    </tr>\n",
       "    <tr>\n",
       "      <th>3</th>\n",
       "      <td>785</td>\n",
       "      <td>2115</td>\n",
       "      <td>3</td>\n",
       "      <td>975430389</td>\n",
       "      <td>Indiana Jones and the Temple of Doom (1984)</td>\n",
       "      <td>Action|Adventure</td>\n",
       "      <td>M</td>\n",
       "      <td>18</td>\n",
       "      <td>19</td>\n",
       "      <td>29307</td>\n",
       "    </tr>\n",
       "    <tr>\n",
       "      <th>4</th>\n",
       "      <td>5848</td>\n",
       "      <td>909</td>\n",
       "      <td>5</td>\n",
       "      <td>957782527</td>\n",
       "      <td>Apartment, The (1960)</td>\n",
       "      <td>Comedy|Drama</td>\n",
       "      <td>M</td>\n",
       "      <td>50</td>\n",
       "      <td>20</td>\n",
       "      <td>20009</td>\n",
       "    </tr>\n",
       "    <tr>\n",
       "      <th>5</th>\n",
       "      <td>2996</td>\n",
       "      <td>2799</td>\n",
       "      <td>1</td>\n",
       "      <td>972769867</td>\n",
       "      <td>Problem Child 2 (1991)</td>\n",
       "      <td>Comedy</td>\n",
       "      <td>M</td>\n",
       "      <td>18</td>\n",
       "      <td>0</td>\n",
       "      <td>63011</td>\n",
       "    </tr>\n",
       "    <tr>\n",
       "      <th>6</th>\n",
       "      <td>3087</td>\n",
       "      <td>837</td>\n",
       "      <td>5</td>\n",
       "      <td>969738869</td>\n",
       "      <td>Matilda (1996)</td>\n",
       "      <td>Children's|Comedy</td>\n",
       "      <td>F</td>\n",
       "      <td>1</td>\n",
       "      <td>1</td>\n",
       "      <td>90802</td>\n",
       "    </tr>\n",
       "  </tbody>\n",
       "</table>\n",
       "</div>"
      ],
      "text/plain": [
       "   user_id  movie_id  rating  timestamp  \\\n",
       "0     3299       235       4  968035345   \n",
       "1     3630      3256       3  966536874   \n",
       "2      517       105       4  976203603   \n",
       "3      785      2115       3  975430389   \n",
       "4     5848       909       5  957782527   \n",
       "5     2996      2799       1  972769867   \n",
       "6     3087       837       5  969738869   \n",
       "\n",
       "                                         title             genres gender  age  \\\n",
       "0                               Ed Wood (1994)       Comedy|Drama      F   25   \n",
       "1                         Patriot Games (1992)    Action|Thriller      M   18   \n",
       "2        Bridges of Madison County, The (1995)      Drama|Romance      F   25   \n",
       "3  Indiana Jones and the Temple of Doom (1984)   Action|Adventure      M   18   \n",
       "4                        Apartment, The (1960)       Comedy|Drama      M   50   \n",
       "5                       Problem Child 2 (1991)             Comedy      M   18   \n",
       "6                               Matilda (1996)  Children's|Comedy      F    1   \n",
       "\n",
       "   occupation    zip  \n",
       "0           4  19119  \n",
       "1           4  77005  \n",
       "2          14  55408  \n",
       "3          19  29307  \n",
       "4          20  20009  \n",
       "5           0  63011  \n",
       "6           1  90802  "
      ]
     },
     "execution_count": 240,
     "metadata": {},
     "output_type": "execute_result"
    }
   ],
   "source": [
    "dataframe = pd.read_csv(\"./movielens_sample.txt\")\n",
    "dataframe.head(7)"
   ]
  },
  {
   "cell_type": "code",
   "execution_count": 76,
   "metadata": {},
   "outputs": [],
   "source": [
    "sparse_features = [\"movie_id\", \"user_id\",\"gender\", \"age\", \"occupation\", \"zip\"]\n",
    "y = ['rating']"
   ]
  },
  {
   "cell_type": "code",
   "execution_count": 82,
   "metadata": {},
   "outputs": [
    {
     "data": {
      "text/html": [
       "<div>\n",
       "<style scoped>\n",
       "    .dataframe tbody tr th:only-of-type {\n",
       "        vertical-align: middle;\n",
       "    }\n",
       "\n",
       "    .dataframe tbody tr th {\n",
       "        vertical-align: top;\n",
       "    }\n",
       "\n",
       "    .dataframe thead th {\n",
       "        text-align: right;\n",
       "    }\n",
       "</style>\n",
       "<table border=\"1\" class=\"dataframe\">\n",
       "  <thead>\n",
       "    <tr style=\"text-align: right;\">\n",
       "      <th></th>\n",
       "      <th>movie_id</th>\n",
       "      <th>user_id</th>\n",
       "      <th>gender</th>\n",
       "      <th>age</th>\n",
       "      <th>occupation</th>\n",
       "      <th>zip</th>\n",
       "    </tr>\n",
       "  </thead>\n",
       "  <tbody>\n",
       "    <tr>\n",
       "      <th>0</th>\n",
       "      <td>235</td>\n",
       "      <td>3299</td>\n",
       "      <td>F</td>\n",
       "      <td>25</td>\n",
       "      <td>4</td>\n",
       "      <td>19119</td>\n",
       "    </tr>\n",
       "    <tr>\n",
       "      <th>1</th>\n",
       "      <td>3256</td>\n",
       "      <td>3630</td>\n",
       "      <td>M</td>\n",
       "      <td>18</td>\n",
       "      <td>4</td>\n",
       "      <td>77005</td>\n",
       "    </tr>\n",
       "    <tr>\n",
       "      <th>2</th>\n",
       "      <td>105</td>\n",
       "      <td>517</td>\n",
       "      <td>F</td>\n",
       "      <td>25</td>\n",
       "      <td>14</td>\n",
       "      <td>55408</td>\n",
       "    </tr>\n",
       "    <tr>\n",
       "      <th>3</th>\n",
       "      <td>2115</td>\n",
       "      <td>785</td>\n",
       "      <td>M</td>\n",
       "      <td>18</td>\n",
       "      <td>19</td>\n",
       "      <td>29307</td>\n",
       "    </tr>\n",
       "    <tr>\n",
       "      <th>4</th>\n",
       "      <td>909</td>\n",
       "      <td>5848</td>\n",
       "      <td>M</td>\n",
       "      <td>50</td>\n",
       "      <td>20</td>\n",
       "      <td>20009</td>\n",
       "    </tr>\n",
       "  </tbody>\n",
       "</table>\n",
       "</div>"
      ],
      "text/plain": [
       "   movie_id  user_id gender  age  occupation    zip\n",
       "0       235     3299      F   25           4  19119\n",
       "1      3256     3630      M   18           4  77005\n",
       "2       105      517      F   25          14  55408\n",
       "3      2115      785      M   18          19  29307\n",
       "4       909     5848      M   50          20  20009"
      ]
     },
     "execution_count": 82,
     "metadata": {},
     "output_type": "execute_result"
    }
   ],
   "source": [
    "dataframe[sparse_features].head(5)#before ordinal encoding of sparse features"
   ]
  },
  {
   "cell_type": "code",
   "execution_count": 84,
   "metadata": {},
   "outputs": [
    {
     "data": {
      "text/html": [
       "<div>\n",
       "<style scoped>\n",
       "    .dataframe tbody tr th:only-of-type {\n",
       "        vertical-align: middle;\n",
       "    }\n",
       "\n",
       "    .dataframe tbody tr th {\n",
       "        vertical-align: top;\n",
       "    }\n",
       "\n",
       "    .dataframe thead th {\n",
       "        text-align: right;\n",
       "    }\n",
       "</style>\n",
       "<table border=\"1\" class=\"dataframe\">\n",
       "  <thead>\n",
       "    <tr style=\"text-align: right;\">\n",
       "      <th></th>\n",
       "      <th>movie_id</th>\n",
       "      <th>user_id</th>\n",
       "      <th>gender</th>\n",
       "      <th>age</th>\n",
       "      <th>occupation</th>\n",
       "      <th>zip</th>\n",
       "    </tr>\n",
       "  </thead>\n",
       "  <tbody>\n",
       "    <tr>\n",
       "      <th>0</th>\n",
       "      <td>12</td>\n",
       "      <td>107</td>\n",
       "      <td>0</td>\n",
       "      <td>2</td>\n",
       "      <td>4</td>\n",
       "      <td>35</td>\n",
       "    </tr>\n",
       "    <tr>\n",
       "      <th>1</th>\n",
       "      <td>169</td>\n",
       "      <td>123</td>\n",
       "      <td>1</td>\n",
       "      <td>1</td>\n",
       "      <td>4</td>\n",
       "      <td>118</td>\n",
       "    </tr>\n",
       "    <tr>\n",
       "      <th>2</th>\n",
       "      <td>6</td>\n",
       "      <td>12</td>\n",
       "      <td>0</td>\n",
       "      <td>2</td>\n",
       "      <td>13</td>\n",
       "      <td>99</td>\n",
       "    </tr>\n",
       "    <tr>\n",
       "      <th>3</th>\n",
       "      <td>112</td>\n",
       "      <td>21</td>\n",
       "      <td>1</td>\n",
       "      <td>1</td>\n",
       "      <td>18</td>\n",
       "      <td>55</td>\n",
       "    </tr>\n",
       "    <tr>\n",
       "      <th>4</th>\n",
       "      <td>45</td>\n",
       "      <td>187</td>\n",
       "      <td>1</td>\n",
       "      <td>5</td>\n",
       "      <td>19</td>\n",
       "      <td>41</td>\n",
       "    </tr>\n",
       "  </tbody>\n",
       "</table>\n",
       "</div>"
      ],
      "text/plain": [
       "   movie_id  user_id  gender  age  occupation  zip\n",
       "0        12      107       0    2           4   35\n",
       "1       169      123       1    1           4  118\n",
       "2         6       12       0    2          13   99\n",
       "3       112       21       1    1          18   55\n",
       "4        45      187       1    5          19   41"
      ]
     },
     "execution_count": 84,
     "metadata": {},
     "output_type": "execute_result"
    }
   ],
   "source": [
    "for feat in sparse_features:#performs an ordinal encoding\n",
    "    lbe = LabelEncoder()\n",
    "    dataframe[feat]= lbe.fit_transform(dataframe[feat])\n",
    "dataframe[sparse_features].head(5)#After ordinal encoding of sparse features"
   ]
  },
  {
   "cell_type": "code",
   "execution_count": 86,
   "metadata": {},
   "outputs": [
    {
     "data": {
      "text/plain": [
       "[SparseFeat(name='movie_id', dimension=187, use_hash=False, dtype='int32', embedding_name='movie_id', embedding=True),\n",
       " SparseFeat(name='user_id', dimension=193, use_hash=False, dtype='int32', embedding_name='user_id', embedding=True),\n",
       " SparseFeat(name='gender', dimension=2, use_hash=False, dtype='int32', embedding_name='gender', embedding=True),\n",
       " SparseFeat(name='age', dimension=7, use_hash=False, dtype='int32', embedding_name='age', embedding=True),\n",
       " SparseFeat(name='occupation', dimension=20, use_hash=False, dtype='int32', embedding_name='occupation', embedding=True),\n",
       " SparseFeat(name='zip', dimension=188, use_hash=False, dtype='int32', embedding_name='zip', embedding=True)]"
      ]
     },
     "execution_count": 86,
     "metadata": {},
     "output_type": "execute_result"
    }
   ],
   "source": [
    "#This intakes the unique numb of features in each field & returns a named tuple\n",
    "#containing params for every sparse field\n",
    "fixlen_feature_columns = [SparseFeat(feat, dataframe[feat].nunique())\n",
    "                          for feat in sparse_features]\n",
    "\n",
    "fixlen_feature_columns"
   ]
  },
  {
   "cell_type": "code",
   "execution_count": 96,
   "metadata": {},
   "outputs": [],
   "source": [
    "??SparseFeat"
   ]
  },
  {
   "cell_type": "code",
   "execution_count": 94,
   "metadata": {},
   "outputs": [
    {
     "name": "stderr",
     "output_type": "stream",
     "text": [
      "c:\\users\\might\\appdata\\local\\programs\\python\\python36\\lib\\site-packages\\ipykernel_launcher.py:2: DeprecationWarning: inspect.getargspec() is deprecated, use inspect.signature() or inspect.getfullargspec()\n",
      "  \n"
     ]
    },
    {
     "data": {
      "text/plain": [
       "ArgSpec(args=['cls', 'name', 'dimension', 'use_hash', 'dtype', 'embedding_name', 'embedding'], varargs=None, keywords=None, defaults=(False, 'int32', None, True))"
      ]
     },
     "execution_count": 94,
     "metadata": {},
     "output_type": "execute_result"
    }
   ],
   "source": [
    "import inspect\n",
    "inspect.getargspec(SparseFeat)"
   ]
  },
  {
   "cell_type": "markdown",
   "metadata": {},
   "source": [
    "* Following is analogous to class `SpareseFeat`;\n",
    "  But Assigned diff. names to class & namedtuple just for test."
   ]
  },
  {
   "cell_type": "code",
   "execution_count": 150,
   "metadata": {},
   "outputs": [
    {
     "data": {
      "text/plain": [
       "SpFt(name='movie_id', dimension=187, use_hash=False, dtype='int32', embedding_name='movie_id', embedding=True)"
      ]
     },
     "execution_count": 150,
     "metadata": {},
     "output_type": "execute_result"
    }
   ],
   "source": [
    "from collections import namedtuple\n",
    "\n",
    "\n",
    "class SpFt(namedtuple('SparFt', ['name', 'dimension', 'use_hash', 'dtype','embedding_name','embedding'])):\n",
    "    __slots__ = ()\n",
    "\n",
    "    def __new__(cls, name, dimension, use_hash=False, dtype=\"int32\", embedding_name=None,embedding=True):\n",
    "        if embedding and embedding_name is None:\n",
    "            embedding_name = name\n",
    "        return super(SpFt, cls).__new__(cls, name, dimension, use_hash, dtype, embedding_name,embedding)\n",
    "\n",
    "SpFt(sparse_features[0],dataframe[sparse_features[0]].nunique()) "
   ]
  },
  {
   "cell_type": "code",
   "execution_count": null,
   "metadata": {},
   "outputs": [],
   "source": []
  },
  {
   "cell_type": "code",
   "execution_count": 152,
   "metadata": {},
   "outputs": [
    {
     "name": "stdout",
     "output_type": "stream",
     "text": [
      "['movie_id', 'user_id', 'gender', 'age', 'occupation', 'zip']\n"
     ]
    }
   ],
   "source": [
    "linear_feature_columns = fixlen_feature_columns\n",
    "dnn_feature_columns = fixlen_feature_columns\n",
    "\n",
    "#basically same feature column is added twice under different column names(linear & dnn)\n",
    "\n",
    "fixlen_feature_names = get_fixlen_feature_names(linear_feature_columns + dnn_feature_columns)\n",
    "print(fixlen_feature_names)"
   ]
  },
  {
   "cell_type": "code",
   "execution_count": 151,
   "metadata": {},
   "outputs": [],
   "source": [
    "??get_fixlen_feature_names"
   ]
  },
  {
   "cell_type": "markdown",
   "metadata": {},
   "source": [
    "* `get_fixlen_feature_names(fixlen_feature_columns)` internally calls `build_input_features(feature_cols)` and Creates an\n",
    "`Input()` layer shaped (None,1) for each `sparse_features` but just returns the name of those layers which is equivalent to:\n",
    "\n",
    "`[fixlen_feature_columns[idx].name for idx in len(fixlen_feature_columns)]`\n"
   ]
  },
  {
   "cell_type": "markdown",
   "metadata": {},
   "source": [
    "* Now `fixlen_feature_columns` is passed to `DeepFM(fixlen_feature_columns)` to create `model` for training: Piecewise executing DeepFM() code\n"
   ]
  },
  {
   "cell_type": "code",
   "execution_count": 155,
   "metadata": {},
   "outputs": [],
   "source": [
    "??DeepFM\n",
    "#DeepFM(linear_feature_columns, dnn_feature_columns, embedding_size=8, use_fm=True,\n",
    "#dnn_hidden_units=(128, 128), l2_reg_linear=0.00001, l2_reg_embedding=0.00001,\n",
    "#l2_reg_dnn=0, init_std=0.0001, seed=1024, dnn_dropout=0, dnn_activation='relu',\n",
    "#dnn_use_bn=False, task='binary'):"
   ]
  },
  {
   "cell_type": "markdown",
   "metadata": {},
   "source": [
    "* **`DeepFM(. . .)` line 1 & 2**"
   ]
  },
  {
   "cell_type": "code",
   "execution_count": 158,
   "metadata": {},
   "outputs": [],
   "source": [
    "from deepctr.inputs import *"
   ]
  },
  {
   "cell_type": "code",
   "execution_count": 165,
   "metadata": {},
   "outputs": [
    {
     "data": {
      "text/plain": [
       "OrderedDict([('movie_id',\n",
       "              <tf.Tensor 'movie_id_7:0' shape=(None, 1) dtype=int32>),\n",
       "             ('user_id',\n",
       "              <tf.Tensor 'user_id_7:0' shape=(None, 1) dtype=int32>),\n",
       "             ('gender', <tf.Tensor 'gender_7:0' shape=(None, 1) dtype=int32>),\n",
       "             ('age', <tf.Tensor 'age_7:0' shape=(None, 1) dtype=int32>),\n",
       "             ('occupation',\n",
       "              <tf.Tensor 'occupation_7:0' shape=(None, 1) dtype=int32>),\n",
       "             ('zip', <tf.Tensor 'zip_7:0' shape=(None, 1) dtype=int32>)])"
      ]
     },
     "execution_count": 165,
     "metadata": {},
     "output_type": "execute_result"
    }
   ],
   "source": [
    "features = build_input_features(linear_feature_columns + dnn_feature_columns)\n",
    "features"
   ]
  },
  {
   "cell_type": "code",
   "execution_count": 166,
   "metadata": {},
   "outputs": [
    {
     "data": {
      "text/plain": [
       "[<tf.Tensor 'movie_id_7:0' shape=(None, 1) dtype=int32>,\n",
       " <tf.Tensor 'user_id_7:0' shape=(None, 1) dtype=int32>,\n",
       " <tf.Tensor 'gender_7:0' shape=(None, 1) dtype=int32>,\n",
       " <tf.Tensor 'age_7:0' shape=(None, 1) dtype=int32>,\n",
       " <tf.Tensor 'occupation_7:0' shape=(None, 1) dtype=int32>,\n",
       " <tf.Tensor 'zip_7:0' shape=(None, 1) dtype=int32>]"
      ]
     },
     "execution_count": 166,
     "metadata": {},
     "output_type": "execute_result"
    }
   ],
   "source": [
    "list(features.values())"
   ]
  },
  {
   "cell_type": "markdown",
   "metadata": {},
   "source": [
    "* **`DeepFM(. . .)` line 3**\n",
    "\n",
    "`deepctr.inputs.input_from_feature_columns(. . .)`\n",
    "takes input :\n",
    "* `features`: OrderDict containing `Input layers` from  `build_input_features(. . .)` line 1.\n",
    "* `fixlen_features_Columns` namedtuple of each SparseFeat object.\n",
    "* embedding_size= 8\n",
    "* l2_reg_embedding=0.00001\n",
    "* init_std=0.0001"
   ]
  },
  {
   "cell_type": "code",
   "execution_count": 167,
   "metadata": {},
   "outputs": [],
   "source": [
    "??input_from_feature_columns"
   ]
  },
  {
   "cell_type": "code",
   "execution_count": 171,
   "metadata": {},
   "outputs": [
    {
     "data": {
      "text/plain": [
       "[<tf.Tensor 'sparse_emb_movie_id/Identity:0' shape=(None, 1, 8) dtype=float32>,\n",
       " <tf.Tensor 'sparse_emb_user_id/Identity:0' shape=(None, 1, 8) dtype=float32>,\n",
       " <tf.Tensor 'sparse_emb_gender/Identity:0' shape=(None, 1, 8) dtype=float32>,\n",
       " <tf.Tensor 'sparse_emb_age/Identity:0' shape=(None, 1, 8) dtype=float32>,\n",
       " <tf.Tensor 'sparse_emb_occupation/Identity:0' shape=(None, 1, 8) dtype=float32>,\n",
       " <tf.Tensor 'sparse_emb_zip/Identity:0' shape=(None, 1, 8) dtype=float32>]"
      ]
     },
     "execution_count": 171,
     "metadata": {},
     "output_type": "execute_result"
    }
   ],
   "source": [
    "sparse_embedding_list, dense_value_list = input_from_feature_columns(features, dnn_feature_columns,\n",
    "            8,0.00001, 0.0001, 1024)\n",
    "sparse_embedding_list"
   ]
  },
  {
   "cell_type": "markdown",
   "metadata": {},
   "source": [
    "* input_from_feature_columns(. . .)  >  `create_embedding_matrix( )`\n",
    "\n",
    "\n",
    "* **Note:** Output from `create_embedding_matrix( )` is same as `create_embedding_dict( )` i.e., can be directly called inside `input_from_feature_columns( )`"
   ]
  },
  {
   "cell_type": "code",
   "execution_count": 186,
   "metadata": {},
   "outputs": [
    {
     "data": {
      "text/plain": [
       "{'movie_id': <tensorflow.python.keras.layers.embeddings.Embedding at 0x1fed01a8a58>,\n",
       " 'user_id': <tensorflow.python.keras.layers.embeddings.Embedding at 0x1fed01a87f0>,\n",
       " 'gender': <tensorflow.python.keras.layers.embeddings.Embedding at 0x1fed01a85f8>,\n",
       " 'age': <tensorflow.python.keras.layers.embeddings.Embedding at 0x1fed01a8390>,\n",
       " 'occupation': <tensorflow.python.keras.layers.embeddings.Embedding at 0x1fed01a8080>,\n",
       " 'zip': <tensorflow.python.keras.layers.embeddings.Embedding at 0x1fed019f860>}"
      ]
     },
     "execution_count": 186,
     "metadata": {},
     "output_type": "execute_result"
    }
   ],
   "source": [
    "#create_embedding_matrix( ) is called inside input_from_feature_columns( )\n",
    "#create_embedding_matrix(feature_columns,l2_reg,init_std,seed,embedding_size, prefix=prefix,seq_mask_zero=seq_mask_zero)\n",
    "\n",
    "\n",
    "create_embedding_matrix(dnn_feature_columns, 0.00001,0.0001,1024,8, prefix='',seq_mask_zero=True)"
   ]
  },
  {
   "cell_type": "markdown",
   "metadata": {},
   "source": [
    "* input_from_feature_columns(. . .) > create_embedding_matrix(. . .) > `create_embedding_dict(. . .)`\n",
    "\n",
    ".\n",
    "* Requires input: `sparse_feature_columns`, `embedding_size`\n",
    "\n",
    "\n",
    ".\n",
    "* **Note**:  `Sparse_Feature_columns` is computed by filtering `SparseFeat` objects from `VarLensFeat` Objects, since here for `movielens_Sample`, Only `Sparse_features` were used; Therefore **`sparse_feature_columns`= `fixlen_feature_columns`**\n",
    "and can be used interchangeably\n"
   ]
  },
  {
   "cell_type": "code",
   "execution_count": 188,
   "metadata": {},
   "outputs": [
    {
     "data": {
      "text/plain": [
       "[SparseFeat(name='movie_id', dimension=187, use_hash=False, dtype='int32', embedding_name='movie_id', embedding=True),\n",
       " SparseFeat(name='user_id', dimension=193, use_hash=False, dtype='int32', embedding_name='user_id', embedding=True),\n",
       " SparseFeat(name='gender', dimension=2, use_hash=False, dtype='int32', embedding_name='gender', embedding=True),\n",
       " SparseFeat(name='age', dimension=7, use_hash=False, dtype='int32', embedding_name='age', embedding=True),\n",
       " SparseFeat(name='occupation', dimension=20, use_hash=False, dtype='int32', embedding_name='occupation', embedding=True),\n",
       " SparseFeat(name='zip', dimension=188, use_hash=False, dtype='int32', embedding_name='zip', embedding=True)]"
      ]
     },
     "execution_count": 188,
     "metadata": {},
     "output_type": "execute_result"
    }
   ],
   "source": [
    "sparse_feature_columns = list(filter(lambda x:isinstance(x,SparseFeat),fixlen_feature_columns)) if fixlen_feature_columns else []\n",
    "#same as fixlen_feature_columns"
   ]
  },
  {
   "cell_type": "code",
   "execution_count": 192,
   "metadata": {
    "scrolled": true
   },
   "outputs": [
    {
     "data": {
      "text/plain": [
       "{'movie_id': <tensorflow.python.keras.layers.embeddings.Embedding at 0x1fed0195940>,\n",
       " 'user_id': <tensorflow.python.keras.layers.embeddings.Embedding at 0x1fed0195d30>,\n",
       " 'gender': <tensorflow.python.keras.layers.embeddings.Embedding at 0x1fecf4cf0f0>,\n",
       " 'age': <tensorflow.python.keras.layers.embeddings.Embedding at 0x1fecff5f278>,\n",
       " 'occupation': <tensorflow.python.keras.layers.embeddings.Embedding at 0x1fed0185b70>,\n",
       " 'zip': <tensorflow.python.keras.layers.embeddings.Embedding at 0x1fecfed5048>}"
      ]
     },
     "execution_count": 192,
     "metadata": {},
     "output_type": "execute_result"
    }
   ],
   "source": [
    "from tensorflow.python.keras.initializers import RandomNormal\n",
    "from tensorflow.python.keras.layers import  Embedding\n",
    "from tensorflow.python.keras.regularizers import l2\n",
    "\n",
    "sparse_embedding = {feat.embedding_name: Embedding(feat.dimension, 8,\n",
    "                                                 embeddings_initializer=RandomNormal(\n",
    "                                                     mean=0.0, stddev=0.0001, seed=1024),\n",
    "                                                 embeddings_regularizer=l2(\n",
    "                                                     0.00001),\n",
    "                                                 name='sparse_' + '_emb_'  + feat.name) for feat in\n",
    "                            fixlen_feature_columns}\n",
    "\n",
    "sparse_embedding"
   ]
  },
  {
   "cell_type": "code",
   "execution_count": 382,
   "metadata": {},
   "outputs": [],
   "source": [
    "??Embedding"
   ]
  },
  {
   "cell_type": "markdown",
   "metadata": {},
   "source": [
    "* input_from_feature_columns(. . .) > `embedding_lookup(. . .)`\n",
    ".\n",
    "\n",
    "\n",
    "* Takes input:\n",
    "* `embedding_dict`: `sparse_embedding` (i.e., output of `create_embedding_matrix()` )\n",
    "* `features`: OrderedDict from `build_input_features (. . .)`\n",
    "* `sparse_feature_columns` : `fixlen_feature_columns`"
   ]
  },
  {
   "cell_type": "code",
   "execution_count": 212,
   "metadata": {},
   "outputs": [],
   "source": [
    "??embedding_lookup"
   ]
  },
  {
   "cell_type": "code",
   "execution_count": 194,
   "metadata": {},
   "outputs": [
    {
     "data": {
      "text/plain": [
       "[<tf.Tensor 'sparse__emb_movie_id_1/Identity:0' shape=(None, 1, 8) dtype=float32>,\n",
       " <tf.Tensor 'sparse__emb_user_id_1/Identity:0' shape=(None, 1, 8) dtype=float32>,\n",
       " <tf.Tensor 'sparse__emb_gender_1/Identity:0' shape=(None, 1, 8) dtype=float32>,\n",
       " <tf.Tensor 'sparse__emb_age_1/Identity:0' shape=(None, 1, 8) dtype=float32>,\n",
       " <tf.Tensor 'sparse__emb_occupation_1/Identity:0' shape=(None, 1, 8) dtype=float32>,\n",
       " <tf.Tensor 'sparse__emb_zip_1/Identity:0' shape=(None, 1, 8) dtype=float32>]"
      ]
     },
     "execution_count": 194,
     "metadata": {},
     "output_type": "execute_result"
    }
   ],
   "source": [
    "sparse_embedding_list = embedding_lookup(sparse_embedding, features, fixlen_feature_columns)\n",
    "sparse_embedding_list"
   ]
  },
  {
   "cell_type": "markdown",
   "metadata": {},
   "source": [
    "* `lookup_idx` in `embedding_lookup()` pertains to `Input_layers` in `OrderedDict` obtained from `build_input_features(. . .)` in line 1"
   ]
  },
  {
   "cell_type": "code",
   "execution_count": 219,
   "metadata": {},
   "outputs": [
    {
     "data": {
      "text/plain": [
       "OrderedDict([('movie_id',\n",
       "              <tf.Tensor 'movie_id_7:0' shape=(None, 1) dtype=int32>),\n",
       "             ('user_id',\n",
       "              <tf.Tensor 'user_id_7:0' shape=(None, 1) dtype=int32>),\n",
       "             ('gender', <tf.Tensor 'gender_7:0' shape=(None, 1) dtype=int32>),\n",
       "             ('age', <tf.Tensor 'age_7:0' shape=(None, 1) dtype=int32>),\n",
       "             ('occupation',\n",
       "              <tf.Tensor 'occupation_7:0' shape=(None, 1) dtype=int32>),\n",
       "             ('zip', <tf.Tensor 'zip_7:0' shape=(None, 1) dtype=int32>)])"
      ]
     },
     "execution_count": 219,
     "metadata": {},
     "output_type": "execute_result"
    }
   ],
   "source": [
    "features#First Input layers"
   ]
  },
  {
   "cell_type": "code",
   "execution_count": 220,
   "metadata": {},
   "outputs": [
    {
     "data": {
      "text/plain": [
       "<tf.Tensor 'movie_id_7:0' shape=(None, 1) dtype=int32>"
      ]
     },
     "execution_count": 220,
     "metadata": {},
     "output_type": "execute_result"
    }
   ],
   "source": [
    "lookup_idx = features[fixlen_feature_columns[0].name]\n",
    "#Same as\n",
    "#feature_name  = fc.name\n",
    "#lookup_idx = sparse_input_dict[feature_name]\n",
    "\n",
    "lookup_idx"
   ]
  },
  {
   "cell_type": "markdown",
   "metadata": {},
   "source": [
    "* `lookup_idx` serves to lookup in `sparse_embedding` dictionary obtained from `create_embedding_dict(. . .)`"
   ]
  },
  {
   "cell_type": "code",
   "execution_count": 221,
   "metadata": {},
   "outputs": [
    {
     "data": {
      "text/plain": [
       "<tf.Tensor 'sparse__emb_movie_id_3/Identity:0' shape=(None, 1, 8) dtype=float32>"
      ]
     },
     "execution_count": 221,
     "metadata": {},
     "output_type": "execute_result"
    }
   ],
   "source": [
    "sparse_embedding[fixlen_feature_columns[0].embedding_name](lookup_idx)\n",
    "\n",
    "#same as\n",
    "#embedding_name = fc.embedding_name\n",
    "#sparse_embedding_dict[embedding_name](lookup_idx)"
   ]
  },
  {
   "cell_type": "code",
   "execution_count": 222,
   "metadata": {},
   "outputs": [
    {
     "name": "stdout",
     "output_type": "stream",
     "text": [
      "Model: \"model\"\n",
      "__________________________________________________________________________________________________\n",
      "Layer (type)                    Output Shape         Param #     Connected to                     \n",
      "==================================================================================================\n",
      "movie_id (InputLayer)           [(None, 1)]          0                                            \n",
      "__________________________________________________________________________________________________\n",
      "user_id (InputLayer)            [(None, 1)]          0                                            \n",
      "__________________________________________________________________________________________________\n",
      "gender (InputLayer)             [(None, 1)]          0                                            \n",
      "__________________________________________________________________________________________________\n",
      "age (InputLayer)                [(None, 1)]          0                                            \n",
      "__________________________________________________________________________________________________\n",
      "occupation (InputLayer)         [(None, 1)]          0                                            \n",
      "__________________________________________________________________________________________________\n",
      "zip (InputLayer)                [(None, 1)]          0                                            \n",
      "__________________________________________________________________________________________________\n",
      "sparse_emb_movie_id (Embedding) (None, 1, 8)         1496        movie_id[0][0]                   \n",
      "__________________________________________________________________________________________________\n",
      "sparse_emb_user_id (Embedding)  (None, 1, 8)         1544        user_id[0][0]                    \n",
      "__________________________________________________________________________________________________\n",
      "sparse_emb_gender (Embedding)   (None, 1, 8)         16          gender[0][0]                     \n",
      "__________________________________________________________________________________________________\n",
      "sparse_emb_age (Embedding)      (None, 1, 8)         56          age[0][0]                        \n",
      "__________________________________________________________________________________________________\n",
      "sparse_emb_occupation (Embeddin (None, 1, 8)         160         occupation[0][0]                 \n",
      "__________________________________________________________________________________________________\n",
      "sparse_emb_zip (Embedding)      (None, 1, 8)         1504        zip[0][0]                        \n",
      "__________________________________________________________________________________________________\n",
      "concatenate_2 (Concatenate)     (None, 1, 48)        0           sparse_emb_movie_id[0][0]        \n",
      "                                                                 sparse_emb_user_id[0][0]         \n",
      "                                                                 sparse_emb_gender[0][0]          \n",
      "                                                                 sparse_emb_age[0][0]             \n",
      "                                                                 sparse_emb_occupation[0][0]      \n",
      "                                                                 sparse_emb_zip[0][0]             \n",
      "__________________________________________________________________________________________________\n",
      "linear0sparse_emb_movie_id (Emb (None, 1, 1)         187         movie_id[0][0]                   \n",
      "__________________________________________________________________________________________________\n",
      "linear0sparse_emb_user_id (Embe (None, 1, 1)         193         user_id[0][0]                    \n",
      "__________________________________________________________________________________________________\n",
      "linear0sparse_emb_gender (Embed (None, 1, 1)         2           gender[0][0]                     \n",
      "__________________________________________________________________________________________________\n",
      "linear0sparse_emb_age (Embeddin (None, 1, 1)         7           age[0][0]                        \n",
      "__________________________________________________________________________________________________\n",
      "linear0sparse_emb_occupation (E (None, 1, 1)         20          occupation[0][0]                 \n",
      "__________________________________________________________________________________________________\n",
      "linear0sparse_emb_zip (Embeddin (None, 1, 1)         188         zip[0][0]                        \n",
      "__________________________________________________________________________________________________\n",
      "flatten (Flatten)               (None, 48)           0           concatenate_2[0][0]              \n",
      "__________________________________________________________________________________________________\n",
      "concatenate (Concatenate)       (None, 1, 6)         0           linear0sparse_emb_movie_id[0][0] \n",
      "                                                                 linear0sparse_emb_user_id[0][0]  \n",
      "                                                                 linear0sparse_emb_gender[0][0]   \n",
      "                                                                 linear0sparse_emb_age[0][0]      \n",
      "                                                                 linear0sparse_emb_occupation[0][0\n",
      "                                                                 linear0sparse_emb_zip[0][0]      \n",
      "__________________________________________________________________________________________________\n",
      "concatenate_1 (Concatenate)     (None, 6, 8)         0           sparse_emb_movie_id[0][0]        \n",
      "                                                                 sparse_emb_user_id[0][0]         \n",
      "                                                                 sparse_emb_gender[0][0]          \n",
      "                                                                 sparse_emb_age[0][0]             \n",
      "                                                                 sparse_emb_occupation[0][0]      \n",
      "                                                                 sparse_emb_zip[0][0]             \n",
      "__________________________________________________________________________________________________\n",
      "dnn (DNN)                       (None, 128)          22784       flatten[0][0]                    \n",
      "__________________________________________________________________________________________________\n",
      "linear (Linear)                 (None, 1, 1)         1           concatenate[0][0]                \n",
      "__________________________________________________________________________________________________\n",
      "fm (FM)                         (None, 1)            0           concatenate_1[0][0]              \n",
      "__________________________________________________________________________________________________\n",
      "dense (Dense)                   (None, 1)            128         dnn[0][0]                        \n",
      "__________________________________________________________________________________________________\n",
      "add (Add)                       (None, 1, 1)         0           linear[0][0]                     \n",
      "                                                                 fm[0][0]                         \n",
      "                                                                 dense[0][0]                      \n",
      "__________________________________________________________________________________________________\n",
      "prediction_layer (PredictionLay (None, 1)            1           add[0][0]                        \n",
      "==================================================================================================\n",
      "Total params: 28,287\n",
      "Trainable params: 28,287\n",
      "Non-trainable params: 0\n",
      "__________________________________________________________________________________________________\n"
     ]
    }
   ],
   "source": [
    "model = DeepFM(linear_feature_columns, dnn_feature_columns,task='regression')\n",
    "model.summary()"
   ]
  },
  {
   "cell_type": "code",
   "execution_count": 223,
   "metadata": {},
   "outputs": [],
   "source": [
    "train, test = train_test_split(dataframe, test_size=0.2)\n",
    "train_model_input = [train[name].values for name in fixlen_feature_names]\n",
    "test_model_input = [test[name].values for name in fixlen_feature_names]"
   ]
  },
  {
   "cell_type": "code",
   "execution_count": 229,
   "metadata": {},
   "outputs": [
    {
     "data": {
      "text/plain": [
       "6"
      ]
     },
     "execution_count": 229,
     "metadata": {},
     "output_type": "execute_result"
    }
   ],
   "source": [
    "len(train_model_input)"
   ]
  },
  {
   "cell_type": "code",
   "execution_count": 259,
   "metadata": {},
   "outputs": [],
   "source": [
    "model.compile(\"adam\", \"mse\", metrics=['mse'], )"
   ]
  },
  {
   "cell_type": "code",
   "execution_count": 268,
   "metadata": {},
   "outputs": [
    {
     "name": "stderr",
     "output_type": "stream",
     "text": [
      "c:\\users\\might\\appdata\\local\\programs\\python\\python36\\lib\\site-packages\\tensorflow_core\\python\\framework\\indexed_slices.py:424: UserWarning: Converting sparse IndexedSlices to a dense Tensor of unknown shape. This may consume a large amount of memory.\n",
      "  \"Converting sparse IndexedSlices to a dense Tensor of unknown shape. \"\n",
      "c:\\users\\might\\appdata\\local\\programs\\python\\python36\\lib\\site-packages\\tensorflow_core\\python\\framework\\indexed_slices.py:424: UserWarning: Converting sparse IndexedSlices to a dense Tensor of unknown shape. This may consume a large amount of memory.\n",
      "  \"Converting sparse IndexedSlices to a dense Tensor of unknown shape. \"\n"
     ]
    },
    {
     "data": {
      "text/plain": [
       "<tensorflow.python.keras.callbacks.History at 0x1fed0477588>"
      ]
     },
     "execution_count": 268,
     "metadata": {},
     "output_type": "execute_result"
    }
   ],
   "source": [
    "model.fit(train_model_input, train[y].values,\n",
    "                        batch_size=256, epochs=10, verbose=0, validation_split=0.2, )"
   ]
  },
  {
   "cell_type": "code",
   "execution_count": 270,
   "metadata": {},
   "outputs": [
    {
     "data": {
      "text/plain": [
       "array([[0.25272667],\n",
       "       [0.21650271],\n",
       "       [0.21586153],\n",
       "       [0.21676101]], dtype=float32)"
      ]
     },
     "execution_count": 270,
     "metadata": {},
     "output_type": "execute_result"
    }
   ],
   "source": [
    "pred_ans = model.predict(test_model_input, batch_size=256)\n",
    "pred_ans[:4]"
   ]
  },
  {
   "cell_type": "code",
   "execution_count": 265,
   "metadata": {},
   "outputs": [
    {
     "data": {
      "text/html": [
       "<div>\n",
       "<style scoped>\n",
       "    .dataframe tbody tr th:only-of-type {\n",
       "        vertical-align: middle;\n",
       "    }\n",
       "\n",
       "    .dataframe tbody tr th {\n",
       "        vertical-align: top;\n",
       "    }\n",
       "\n",
       "    .dataframe thead th {\n",
       "        text-align: right;\n",
       "    }\n",
       "</style>\n",
       "<table border=\"1\" class=\"dataframe\">\n",
       "  <thead>\n",
       "    <tr style=\"text-align: right;\">\n",
       "      <th></th>\n",
       "      <th>user_id</th>\n",
       "      <th>movie_id</th>\n",
       "      <th>rating</th>\n",
       "      <th>timestamp</th>\n",
       "      <th>title</th>\n",
       "      <th>genres</th>\n",
       "      <th>gender</th>\n",
       "      <th>age</th>\n",
       "      <th>occupation</th>\n",
       "      <th>zip</th>\n",
       "    </tr>\n",
       "  </thead>\n",
       "  <tbody>\n",
       "    <tr>\n",
       "      <th>19</th>\n",
       "      <td>99</td>\n",
       "      <td>183</td>\n",
       "      <td>3</td>\n",
       "      <td>972413564</td>\n",
       "      <td>F/X (1986)</td>\n",
       "      <td>Action|Crime|Thriller</td>\n",
       "      <td>1</td>\n",
       "      <td>1</td>\n",
       "      <td>0</td>\n",
       "      <td>108</td>\n",
       "    </tr>\n",
       "    <tr>\n",
       "      <th>24</th>\n",
       "      <td>103</td>\n",
       "      <td>127</td>\n",
       "      <td>3</td>\n",
       "      <td>969324381</td>\n",
       "      <td>Cocoon (1985)</td>\n",
       "      <td>Comedy|Sci-Fi</td>\n",
       "      <td>1</td>\n",
       "      <td>2</td>\n",
       "      <td>2</td>\n",
       "      <td>135</td>\n",
       "    </tr>\n",
       "    <tr>\n",
       "      <th>112</th>\n",
       "      <td>155</td>\n",
       "      <td>62</td>\n",
       "      <td>4</td>\n",
       "      <td>996034747</td>\n",
       "      <td>Apocalypse Now (1979)</td>\n",
       "      <td>Drama|War</td>\n",
       "      <td>1</td>\n",
       "      <td>6</td>\n",
       "      <td>1</td>\n",
       "      <td>71</td>\n",
       "    </tr>\n",
       "    <tr>\n",
       "      <th>152</th>\n",
       "      <td>178</td>\n",
       "      <td>170</td>\n",
       "      <td>2</td>\n",
       "      <td>959833154</td>\n",
       "      <td>Mission to Mars (2000)</td>\n",
       "      <td>Sci-Fi</td>\n",
       "      <td>0</td>\n",
       "      <td>2</td>\n",
       "      <td>6</td>\n",
       "      <td>8</td>\n",
       "    </tr>\n",
       "  </tbody>\n",
       "</table>\n",
       "</div>"
      ],
      "text/plain": [
       "     user_id  movie_id  rating  timestamp                   title  \\\n",
       "19        99       183       3  972413564              F/X (1986)   \n",
       "24       103       127       3  969324381           Cocoon (1985)   \n",
       "112      155        62       4  996034747   Apocalypse Now (1979)   \n",
       "152      178       170       2  959833154  Mission to Mars (2000)   \n",
       "\n",
       "                    genres  gender  age  occupation  zip  \n",
       "19   Action|Crime|Thriller       1    1           0  108  \n",
       "24           Comedy|Sci-Fi       1    2           2  135  \n",
       "112              Drama|War       1    6           1   71  \n",
       "152                 Sci-Fi       0    2           6    8  "
      ]
     },
     "execution_count": 265,
     "metadata": {},
     "output_type": "execute_result"
    }
   ],
   "source": [
    "test.head(4)"
   ]
  },
  {
   "cell_type": "code",
   "execution_count": 275,
   "metadata": {
    "scrolled": true
   },
   "outputs": [
    {
     "name": "stdout",
     "output_type": "stream",
     "text": [
      "Model: \"model\"\n",
      "__________________________________________________________________________________________________\n",
      "Layer (type)                    Output Shape         Param #     Connected to                     \n",
      "==================================================================================================\n",
      "movie_id (InputLayer)           [(None, 1)]          0                                            \n",
      "__________________________________________________________________________________________________\n",
      "user_id (InputLayer)            [(None, 1)]          0                                            \n",
      "__________________________________________________________________________________________________\n",
      "gender (InputLayer)             [(None, 1)]          0                                            \n",
      "__________________________________________________________________________________________________\n",
      "age (InputLayer)                [(None, 1)]          0                                            \n",
      "__________________________________________________________________________________________________\n",
      "occupation (InputLayer)         [(None, 1)]          0                                            \n",
      "__________________________________________________________________________________________________\n",
      "zip (InputLayer)                [(None, 1)]          0                                            \n",
      "__________________________________________________________________________________________________\n",
      "sparse_emb_movie_id (Embedding) (None, 1, 8)         1496        movie_id[0][0]                   \n",
      "__________________________________________________________________________________________________\n",
      "sparse_emb_user_id (Embedding)  (None, 1, 8)         1544        user_id[0][0]                    \n",
      "__________________________________________________________________________________________________\n",
      "sparse_emb_gender (Embedding)   (None, 1, 8)         16          gender[0][0]                     \n",
      "__________________________________________________________________________________________________\n",
      "sparse_emb_age (Embedding)      (None, 1, 8)         56          age[0][0]                        \n",
      "__________________________________________________________________________________________________\n",
      "sparse_emb_occupation (Embeddin (None, 1, 8)         160         occupation[0][0]                 \n",
      "__________________________________________________________________________________________________\n",
      "sparse_emb_zip (Embedding)      (None, 1, 8)         1504        zip[0][0]                        \n",
      "__________________________________________________________________________________________________\n",
      "concatenate_2 (Concatenate)     (None, 1, 48)        0           sparse_emb_movie_id[0][0]        \n",
      "                                                                 sparse_emb_user_id[0][0]         \n",
      "                                                                 sparse_emb_gender[0][0]          \n",
      "                                                                 sparse_emb_age[0][0]             \n",
      "                                                                 sparse_emb_occupation[0][0]      \n",
      "                                                                 sparse_emb_zip[0][0]             \n",
      "__________________________________________________________________________________________________\n",
      "linear0sparse_emb_movie_id (Emb (None, 1, 1)         187         movie_id[0][0]                   \n",
      "__________________________________________________________________________________________________\n",
      "linear0sparse_emb_user_id (Embe (None, 1, 1)         193         user_id[0][0]                    \n",
      "__________________________________________________________________________________________________\n",
      "linear0sparse_emb_gender (Embed (None, 1, 1)         2           gender[0][0]                     \n",
      "__________________________________________________________________________________________________\n",
      "linear0sparse_emb_age (Embeddin (None, 1, 1)         7           age[0][0]                        \n",
      "__________________________________________________________________________________________________\n",
      "linear0sparse_emb_occupation (E (None, 1, 1)         20          occupation[0][0]                 \n",
      "__________________________________________________________________________________________________\n",
      "linear0sparse_emb_zip (Embeddin (None, 1, 1)         188         zip[0][0]                        \n",
      "__________________________________________________________________________________________________\n",
      "flatten (Flatten)               (None, 48)           0           concatenate_2[0][0]              \n",
      "__________________________________________________________________________________________________\n",
      "concatenate (Concatenate)       (None, 1, 6)         0           linear0sparse_emb_movie_id[0][0] \n",
      "                                                                 linear0sparse_emb_user_id[0][0]  \n",
      "                                                                 linear0sparse_emb_gender[0][0]   \n",
      "                                                                 linear0sparse_emb_age[0][0]      \n",
      "                                                                 linear0sparse_emb_occupation[0][0\n",
      "                                                                 linear0sparse_emb_zip[0][0]      \n",
      "__________________________________________________________________________________________________\n",
      "concatenate_1 (Concatenate)     (None, 6, 8)         0           sparse_emb_movie_id[0][0]        \n",
      "                                                                 sparse_emb_user_id[0][0]         \n",
      "                                                                 sparse_emb_gender[0][0]          \n",
      "                                                                 sparse_emb_age[0][0]             \n",
      "                                                                 sparse_emb_occupation[0][0]      \n",
      "                                                                 sparse_emb_zip[0][0]             \n",
      "__________________________________________________________________________________________________\n",
      "dnn (DNN)                       (None, 128)          22784       flatten[0][0]                    \n",
      "__________________________________________________________________________________________________\n",
      "linear (Linear)                 (None, 1, 1)         1           concatenate[0][0]                \n",
      "__________________________________________________________________________________________________\n",
      "fm (FM)                         (None, 1)            0           concatenate_1[0][0]              \n",
      "__________________________________________________________________________________________________\n",
      "dense (Dense)                   (None, 1)            128         dnn[0][0]                        \n",
      "__________________________________________________________________________________________________\n",
      "add (Add)                       (None, 1, 1)         0           linear[0][0]                     \n",
      "                                                                 fm[0][0]                         \n",
      "                                                                 dense[0][0]                      \n",
      "__________________________________________________________________________________________________\n",
      "prediction_layer (PredictionLay (None, 1)            1           add[0][0]                        \n",
      "==================================================================================================\n",
      "Total params: 28,287\n",
      "Trainable params: 28,287\n",
      "Non-trainable params: 0\n",
      "__________________________________________________________________________________________________\n"
     ]
    }
   ],
   "source": [
    "model.summary()"
   ]
  },
  {
   "cell_type": "code",
   "execution_count": 432,
   "metadata": {},
   "outputs": [
    {
     "data": {
      "text/plain": [
       "array([183, 127,  62, 170,  74, 150,  22,  61, 104,  84, 177, 113, 173,\n",
       "       179, 143, 135,  16,  34,   5,  54,  48, 101,  19,  97, 139, 167,\n",
       "       155,  28,   9,  56,  91, 138, 111,  89, 147, 126,  44,  24, 182,\n",
       "        39], dtype=int64)"
      ]
     },
     "execution_count": 432,
     "metadata": {},
     "output_type": "execute_result"
    }
   ],
   "source": [
    "test_model_input[0]"
   ]
  },
  {
   "cell_type": "markdown",
   "metadata": {},
   "source": [
    "* **Following results in embedded output after a test value passes from `movie_id (InputLayer)` to `sparse_emb_movie_id (Embedding)`**"
   ]
  },
  {
   "cell_type": "code",
   "execution_count": 316,
   "metadata": {},
   "outputs": [
    {
     "name": "stdout",
     "output_type": "stream",
     "text": [
      "Input layer name: movie_id \n",
      "Intercepted layer name: sparse_emb_movie_id \n",
      "Embedded Input value: 183 \n",
      "Sparse_emb_movie_id weights matrix shape: (187, 8) \n",
      "Embedding output shape: (8,)\n"
     ]
    }
   ],
   "source": [
    "from tensorflow.keras import backend as K\n",
    "sparse_movie_layer= K.function([model.layers[0].input], [model.layers[6].output])\n",
    "sparse_movie_output = sparse_movie_layer([test_model_input[0][0]])\n",
    "\n",
    "print('Input layer name:', model.layers[0].name,'\\nIntercepted layer name:', model.layers[6].name, '\\nEmbedded Input value:',test_model_input[0][0],\n",
    "      '\\nSparse_emb_movie_id weights matrix shape:',model.layers[6].get_weights()[0].shape, '\\nEmbedding output shape:',sparse_movie_output[0].shape)"
   ]
  },
  {
   "cell_type": "code",
   "execution_count": 338,
   "metadata": {
    "scrolled": true
   },
   "outputs": [
    {
     "name": "stdout",
     "output_type": "stream",
     "text": [
      "Intermediate output at Sparse_emb_movie_id layer with input value: 183\n",
      "\n",
      "is as:\n",
      "[ 4.89938393e-05  1.42261624e-05 -1.21795136e-04 -5.80309752e-05\n",
      "  1.34360107e-06  7.94252230e-07 -6.24333770e-05  4.32524612e-05]\n"
     ]
    }
   ],
   "source": [
    "#movie_id : 183, is embedding as follows at sparse_emb_movie_id layer(layer 6)\n",
    "print('Intermediate output at Sparse_emb_movie_id layer with input value: {}\\n\\nis as:\\n{}'.format(test_model_input[0][0],\n",
    "                                                                                             sparse_movie_output[0]))"
   ]
  },
  {
   "cell_type": "markdown",
   "metadata": {},
   "source": [
    "* **Inferring equivalence with above `sparse_movie_output` embeddings by a vector product between the same test value(but one-hot encoded) and weight matrix that follows between `movie_id (InputLayer)` & `sparse_emb_movie_id (Embedding)`**:"
   ]
  },
  {
   "cell_type": "code",
   "execution_count": 329,
   "metadata": {},
   "outputs": [
    {
     "name": "stdout",
     "output_type": "stream",
     "text": [
      "Weights shape for sparse_emb_movie_id layer: (187, 8)\n"
     ]
    }
   ],
   "source": [
    "input_to_sparse_emb_movie_wt = model.layers[6].get_weights()[0]\n",
    "print('Weights shape for sparse_emb_movie_id layer:', input_to_sparse_emb_movie_wt.shape)"
   ]
  },
  {
   "cell_type": "code",
   "execution_count": 433,
   "metadata": {},
   "outputs": [
    {
     "name": "stdout",
     "output_type": "stream",
     "text": [
      "Embedded Input value: 183 has a shape of: (187,)\n"
     ]
    }
   ],
   "source": [
    "from tensorflow.keras.utils import to_categorical\n",
    "\n",
    "test_onehot_rep = to_categorical(test_model_input[0][0], num_classes=dataframe['movie_id'].nunique())\n",
    "print('Embedded Input value: {} has a shape of: {}'.format(test_model_input[0][0], test_onehot_rep.shape))"
   ]
  },
  {
   "cell_type": "code",
   "execution_count": 339,
   "metadata": {},
   "outputs": [
    {
     "name": "stdout",
     "output_type": "stream",
     "text": [
      "Vector product output with Sparse_emb_movie_id layer weights and one-hot encoded input value:183\n",
      "\n",
      "is as:\n",
      "[ 4.89938393e-05  1.42261624e-05 -1.21795136e-04 -5.80309752e-05\n",
      "  1.34360107e-06  7.94252230e-07 -6.24333770e-05  4.32524612e-05]\n"
     ]
    }
   ],
   "source": [
    "print('Vector product output with Sparse_emb_movie_id layer weights and one-hot encoded input value:{}\\n\\nis as:\\n{}'.format(test_model_input[0][0],\n",
    "                                            np.dot(test_onehot_rep,input_to_sparse_emb_movie_wt)))"
   ]
  },
  {
   "cell_type": "markdown",
   "metadata": {},
   "source": [
    "* **`DeepFM()` line 4**\n",
    "\n",
    "`deepctr.inputs.get_linear_logit(. . .)`\n",
    "takes input :\n",
    "* `features`: OrderDict containing `Input layers` from  `build_input_features(. . .)` line 1.\n",
    "* `linear_feature_columns`:`fixlen_features_Columns` namedtuple of each SparseFeat object.\n",
    "* l2_reg_linear=0.00001\n",
    "* init_std=0.0001"
   ]
  },
  {
   "cell_type": "code",
   "execution_count": 392,
   "metadata": {},
   "outputs": [
    {
     "data": {
      "text/plain": [
       "<tf.Tensor 'linear_1/Identity:0' shape=(None, 1, 1) dtype=float32>"
      ]
     },
     "execution_count": 392,
     "metadata": {},
     "output_type": "execute_result"
    }
   ],
   "source": [
    "linear_logit = get_linear_logit(features, linear_feature_columns, l2_reg=0.00001, init_std=0.0001,\n",
    "                 seed=1024, prefix='linear')\n",
    "linear_logit"
   ]
  },
  {
   "cell_type": "markdown",
   "metadata": {},
   "source": [
    "* line 1 in `get_linear_logit(. . .)` function, produces Embeddings with size 1\n",
    ".\n",
    "Intakes:\n",
    "* `features`: OrderDict containing `Input layers` from  `build_input_features(. . .)` line 1.\n",
    "* `linear_feature_columns`:`fixlen_features_Columns` namedtuple of each SparseFeat object.\n",
    "\n",
    "Outputs list of Embeddings Shaped `(None,1,1)` like `sparse_embedding_list` of shape `(None,1,8)` in line 3 `DeepFM`"
   ]
  },
  {
   "cell_type": "code",
   "execution_count": 402,
   "metadata": {},
   "outputs": [
    {
     "data": {
      "text/plain": [
       "[[<tf.Tensor 'linear0sparse_emb_movie_id_2/Identity:0' shape=(None, 1, 1) dtype=float32>,\n",
       "  <tf.Tensor 'linear0sparse_emb_user_id_2/Identity:0' shape=(None, 1, 1) dtype=float32>,\n",
       "  <tf.Tensor 'linear0sparse_emb_gender_2/Identity:0' shape=(None, 1, 1) dtype=float32>,\n",
       "  <tf.Tensor 'linear0sparse_emb_age_2/Identity:0' shape=(None, 1, 1) dtype=float32>,\n",
       "  <tf.Tensor 'linear0sparse_emb_occupation_2/Identity:0' shape=(None, 1, 1) dtype=float32>,\n",
       "  <tf.Tensor 'linear0sparse_emb_zip_2/Identity:0' shape=(None, 1, 1) dtype=float32>]]"
      ]
     },
     "execution_count": 402,
     "metadata": {},
     "output_type": "execute_result"
    }
   ],
   "source": [
    "units=1\n",
    "linear_emb_list = [input_from_feature_columns(features,linear_feature_columns,1,0.00001,0.0001,1024,prefix='linear'+str(i))[0] for i in range(units)]\n",
    "linear_emb_list"
   ]
  },
  {
   "cell_type": "code",
   "execution_count": 414,
   "metadata": {},
   "outputs": [
    {
     "data": {
      "text/plain": [
       "[]"
      ]
     },
     "execution_count": 414,
     "metadata": {},
     "output_type": "execute_result"
    }
   ],
   "source": [
    "_, dense_input_list = input_from_feature_columns(features, linear_feature_columns, 1,0.00001,0.0001,1024,prefix='linear')\n",
    "dense_input_list#No Dense Features"
   ]
  },
  {
   "cell_type": "code",
   "execution_count": 417,
   "metadata": {},
   "outputs": [
    {
     "name": "stdout",
     "output_type": "stream",
     "text": [
      "Model: \"model\"\n",
      "__________________________________________________________________________________________________\n",
      "Layer (type)                    Output Shape         Param #     Connected to                     \n",
      "==================================================================================================\n",
      "movie_id (InputLayer)           [(None, 1)]          0                                            \n",
      "__________________________________________________________________________________________________\n",
      "user_id (InputLayer)            [(None, 1)]          0                                            \n",
      "__________________________________________________________________________________________________\n",
      "gender (InputLayer)             [(None, 1)]          0                                            \n",
      "__________________________________________________________________________________________________\n",
      "age (InputLayer)                [(None, 1)]          0                                            \n",
      "__________________________________________________________________________________________________\n",
      "occupation (InputLayer)         [(None, 1)]          0                                            \n",
      "__________________________________________________________________________________________________\n",
      "zip (InputLayer)                [(None, 1)]          0                                            \n",
      "__________________________________________________________________________________________________\n",
      "sparse_emb_movie_id (Embedding) (None, 1, 8)         1496        movie_id[0][0]                   \n",
      "__________________________________________________________________________________________________\n",
      "sparse_emb_user_id (Embedding)  (None, 1, 8)         1544        user_id[0][0]                    \n",
      "__________________________________________________________________________________________________\n",
      "sparse_emb_gender (Embedding)   (None, 1, 8)         16          gender[0][0]                     \n",
      "__________________________________________________________________________________________________\n",
      "sparse_emb_age (Embedding)      (None, 1, 8)         56          age[0][0]                        \n",
      "__________________________________________________________________________________________________\n",
      "sparse_emb_occupation (Embeddin (None, 1, 8)         160         occupation[0][0]                 \n",
      "__________________________________________________________________________________________________\n",
      "sparse_emb_zip (Embedding)      (None, 1, 8)         1504        zip[0][0]                        \n",
      "__________________________________________________________________________________________________\n",
      "concatenate_2 (Concatenate)     (None, 1, 48)        0           sparse_emb_movie_id[0][0]        \n",
      "                                                                 sparse_emb_user_id[0][0]         \n",
      "                                                                 sparse_emb_gender[0][0]          \n",
      "                                                                 sparse_emb_age[0][0]             \n",
      "                                                                 sparse_emb_occupation[0][0]      \n",
      "                                                                 sparse_emb_zip[0][0]             \n",
      "__________________________________________________________________________________________________\n",
      "linear0sparse_emb_movie_id (Emb (None, 1, 1)         187         movie_id[0][0]                   \n",
      "__________________________________________________________________________________________________\n",
      "linear0sparse_emb_user_id (Embe (None, 1, 1)         193         user_id[0][0]                    \n",
      "__________________________________________________________________________________________________\n",
      "linear0sparse_emb_gender (Embed (None, 1, 1)         2           gender[0][0]                     \n",
      "__________________________________________________________________________________________________\n",
      "linear0sparse_emb_age (Embeddin (None, 1, 1)         7           age[0][0]                        \n",
      "__________________________________________________________________________________________________\n",
      "linear0sparse_emb_occupation (E (None, 1, 1)         20          occupation[0][0]                 \n",
      "__________________________________________________________________________________________________\n",
      "linear0sparse_emb_zip (Embeddin (None, 1, 1)         188         zip[0][0]                        \n",
      "__________________________________________________________________________________________________\n",
      "flatten (Flatten)               (None, 48)           0           concatenate_2[0][0]              \n",
      "__________________________________________________________________________________________________\n",
      "concatenate (Concatenate)       (None, 1, 6)         0           linear0sparse_emb_movie_id[0][0] \n",
      "                                                                 linear0sparse_emb_user_id[0][0]  \n",
      "                                                                 linear0sparse_emb_gender[0][0]   \n",
      "                                                                 linear0sparse_emb_age[0][0]      \n",
      "                                                                 linear0sparse_emb_occupation[0][0\n",
      "                                                                 linear0sparse_emb_zip[0][0]      \n",
      "__________________________________________________________________________________________________\n",
      "concatenate_1 (Concatenate)     (None, 6, 8)         0           sparse_emb_movie_id[0][0]        \n",
      "                                                                 sparse_emb_user_id[0][0]         \n",
      "                                                                 sparse_emb_gender[0][0]          \n",
      "                                                                 sparse_emb_age[0][0]             \n",
      "                                                                 sparse_emb_occupation[0][0]      \n",
      "                                                                 sparse_emb_zip[0][0]             \n",
      "__________________________________________________________________________________________________\n",
      "dnn (DNN)                       (None, 128)          22784       flatten[0][0]                    \n",
      "__________________________________________________________________________________________________\n",
      "linear (Linear)                 (None, 1, 1)         1           concatenate[0][0]                \n",
      "__________________________________________________________________________________________________\n",
      "fm (FM)                         (None, 1)            0           concatenate_1[0][0]              \n",
      "__________________________________________________________________________________________________\n",
      "dense (Dense)                   (None, 1)            128         dnn[0][0]                        \n",
      "__________________________________________________________________________________________________\n",
      "add (Add)                       (None, 1, 1)         0           linear[0][0]                     \n",
      "                                                                 fm[0][0]                         \n",
      "                                                                 dense[0][0]                      \n",
      "__________________________________________________________________________________________________\n",
      "prediction_layer (PredictionLay (None, 1)            1           add[0][0]                        \n",
      "==================================================================================================\n",
      "Total params: 28,287\n",
      "Trainable params: 28,287\n",
      "Non-trainable params: 0\n",
      "__________________________________________________________________________________________________\n"
     ]
    }
   ],
   "source": [
    "model.summary()"
   ]
  },
  {
   "cell_type": "code",
   "execution_count": 416,
   "metadata": {},
   "outputs": [
    {
     "data": {
      "text/plain": [
       "<tf.Tensor 'concatenate_4/Identity:0' shape=(None, 1, 6) dtype=float32>"
      ]
     },
     "execution_count": 416,
     "metadata": {},
     "output_type": "execute_result"
    }
   ],
   "source": [
    "from deepctr.layers.utils import concat_fun,Linear\n",
    "concat_fun(linear_emb_list[0])#correspondes to concatenate[0][0] connected to linear (Linear) layer  "
   ]
  }
 ],
 "metadata": {
  "kernelspec": {
   "display_name": "Python 3",
   "language": "python",
   "name": "python3"
  },
  "language_info": {
   "codemirror_mode": {
    "name": "ipython",
    "version": 3
   },
   "file_extension": ".py",
   "mimetype": "text/x-python",
   "name": "python",
   "nbconvert_exporter": "python",
   "pygments_lexer": "ipython3",
   "version": "3.6.7"
  }
 },
 "nbformat": 4,
 "nbformat_minor": 2
}
