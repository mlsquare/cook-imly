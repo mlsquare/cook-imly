{
 "cells": [
  {
   "cell_type": "code",
   "execution_count": 1,
   "metadata": {},
   "outputs": [],
   "source": [
    "from __future__ import absolute_import, division, print_function, unicode_literals\n",
    "\n",
    "import tensorflow as tf"
   ]
  },
  {
   "cell_type": "code",
   "execution_count": 2,
   "metadata": {},
   "outputs": [],
   "source": [
    "tf.enable_eager_execution()"
   ]
  },
  {
   "cell_type": "code",
   "execution_count": 3,
   "metadata": {},
   "outputs": [
    {
     "data": {
      "text/plain": [
       "True"
      ]
     },
     "execution_count": 3,
     "metadata": {},
     "output_type": "execute_result"
    }
   ],
   "source": [
    "tf.executing_eagerly()"
   ]
  },
  {
   "cell_type": "code",
   "execution_count": 26,
   "metadata": {},
   "outputs": [],
   "source": [
    "from sklearn.model_selection import train_test_split\n",
    "import pandas as pd\n",
    "import numpy as np\n",
    "from sklearn.datasets import load_iris\n",
    "\n",
    "iris = load_iris()\n",
    "_x = pd.DataFrame(iris.data[:, :], columns = iris.feature_names[:])\n",
    "_y = pd.DataFrame(iris.target, columns =[\"Species\"])\n",
    "## Convert to binary\n",
    "_y = _y[_y.Species != 2]\n",
    "_x = _x[_y.Species != 2]\n",
    "\n",
    "x_train, x_test, y_train, y_test = train_test_split(_x, _y, random_state=0)"
   ]
  },
  {
   "cell_type": "code",
   "execution_count": 27,
   "metadata": {},
   "outputs": [
    {
     "data": {
      "text/plain": [
       "(75, 1)"
      ]
     },
     "execution_count": 27,
     "metadata": {},
     "output_type": "execute_result"
    }
   ],
   "source": [
    "y_train.shape"
   ]
  },
  {
   "cell_type": "code",
   "execution_count": 13,
   "metadata": {},
   "outputs": [],
   "source": [
    "# sw_t = tf.constant([[1.0, 2.0], [3.0, 4.0]])\n",
    "# sw_t = tf.constant([[1.0, 1.0], [2.0, 1.0], [2.0, 1.0]])\n",
    "sw_t = tf.constant([1.0, 1.0, 2.0, 1.0, 2.0, 1.0])"
   ]
  },
  {
   "cell_type": "code",
   "execution_count": 14,
   "metadata": {},
   "outputs": [
    {
     "data": {
      "text/plain": [
       "<tf.Tensor: id=9, shape=(6,), dtype=float32, numpy=array([1., 1., 2., 1., 2., 1.], dtype=float32)>"
      ]
     },
     "execution_count": 14,
     "metadata": {},
     "output_type": "execute_result"
    }
   ],
   "source": [
    "sw_t"
   ]
  },
  {
   "cell_type": "code",
   "execution_count": null,
   "metadata": {},
   "outputs": [],
   "source": [
    "tf.matrix_inverse(sw_t)"
   ]
  },
  {
   "cell_type": "code",
   "execution_count": 6,
   "metadata": {},
   "outputs": [
    {
     "data": {
      "text/plain": [
       "<tf.Tensor: id=3, shape=(2,), dtype=float32, numpy=array([1., 2.], dtype=float32)>"
      ]
     },
     "execution_count": 6,
     "metadata": {},
     "output_type": "execute_result"
    }
   ],
   "source": [
    "tf.transpose(sw_t)"
   ]
  },
  {
   "cell_type": "code",
   "execution_count": 4,
   "metadata": {},
   "outputs": [],
   "source": [
    "y_true = tf.constant([[1.0], [1.0], [1.0], [0.0], [0.0], [1.0], [0.0]])"
   ]
  },
  {
   "cell_type": "code",
   "execution_count": 9,
   "metadata": {},
   "outputs": [
    {
     "name": "stdout",
     "output_type": "stream",
     "text": [
      "(7, 1)\n"
     ]
    }
   ],
   "source": [
    "print(y_true.get_shape())"
   ]
  },
  {
   "cell_type": "code",
   "execution_count": 38,
   "metadata": {},
   "outputs": [],
   "source": [
    "y_pred = tf.constant([[0.0], [1.0], [1.0], [1.0], [1.0], [0.0], [0.0]])"
   ]
  },
  {
   "cell_type": "code",
   "execution_count": 10,
   "metadata": {},
   "outputs": [],
   "source": [
    "locations = tf.where (tf.equal (y_true, 1))"
   ]
  },
  {
   "cell_type": "code",
   "execution_count": 35,
   "metadata": {},
   "outputs": [
    {
     "data": {
      "text/plain": [
       "<tf.Tensor: id=606, shape=(2, 1), dtype=int64, numpy=\n",
       "array([[1],\n",
       "       [3]])>"
      ]
     },
     "execution_count": 35,
     "metadata": {},
     "output_type": "execute_result"
    }
   ],
   "source": [
    "tf.where([False, True, False, True])\n",
    "\n",
    "# locations"
   ]
  },
  {
   "cell_type": "code",
   "execution_count": 22,
   "metadata": {},
   "outputs": [
    {
     "data": {
      "text/plain": [
       "<tf.Tensor: id=51, shape=(7, 1), dtype=bool, numpy=\n",
       "array([[ True],\n",
       "       [ True],\n",
       "       [ True],\n",
       "       [False],\n",
       "       [False],\n",
       "       [ True],\n",
       "       [False]])>"
      ]
     },
     "execution_count": 22,
     "metadata": {},
     "output_type": "execute_result"
    }
   ],
   "source": [
    "tf.equal (y_true, 1)"
   ]
  },
  {
   "cell_type": "code",
   "execution_count": 15,
   "metadata": {},
   "outputs": [],
   "source": [
    "indices = locations[:, 0]"
   ]
  },
  {
   "cell_type": "code",
   "execution_count": 30,
   "metadata": {},
   "outputs": [],
   "source": [
    "y, idx = tf.unique (indices)"
   ]
  },
  {
   "cell_type": "code",
   "execution_count": 31,
   "metadata": {},
   "outputs": [
    {
     "data": {
      "text/plain": [
       "<tf.Tensor: id=215, shape=(4,), dtype=int64, numpy=array([0, 1, 2, 5])>"
      ]
     },
     "execution_count": 31,
     "metadata": {},
     "output_type": "execute_result"
    }
   ],
   "source": [
    "y"
   ]
  },
  {
   "cell_type": "code",
   "execution_count": 18,
   "metadata": {},
   "outputs": [
    {
     "data": {
      "text/plain": [
       "<tf.Tensor: id=18, shape=(4,), dtype=int32, numpy=array([0, 1, 2, 3], dtype=int32)>"
      ]
     },
     "execution_count": 18,
     "metadata": {},
     "output_type": "execute_result"
    }
   ],
   "source": [
    "idx"
   ]
  },
  {
   "cell_type": "code",
   "execution_count": 47,
   "metadata": {},
   "outputs": [
    {
     "name": "stdout",
     "output_type": "stream",
     "text": [
      "x_mean -- tf.Tensor([[[0.]]], shape=(1, 1, 1), dtype=float32)\n",
      "m -- tf.Tensor(1.0, shape=(), dtype=float32)\n",
      "mat_mul -- tf.Tensor([[0.]], shape=(1, 1), dtype=float32) \n",
      "\n",
      "x_mean -- tf.Tensor([[[0.]]], shape=(1, 1, 1), dtype=float32)\n",
      "m -- tf.Tensor(1.0, shape=(), dtype=float32)\n",
      "mat_mul -- tf.Tensor([[0.]], shape=(1, 1), dtype=float32) \n",
      "\n",
      "x_mean -- tf.Tensor([[[0.]]], shape=(1, 1, 1), dtype=float32)\n",
      "m -- tf.Tensor(1.0, shape=(), dtype=float32)\n",
      "mat_mul -- tf.Tensor([[0.]], shape=(1, 1), dtype=float32) \n",
      "\n",
      "x_mean -- tf.Tensor([[[0.]]], shape=(1, 1, 1), dtype=float32)\n",
      "m -- tf.Tensor(1.0, shape=(), dtype=float32)\n",
      "mat_mul -- tf.Tensor([[0.]], shape=(1, 1), dtype=float32) \n",
      "\n"
     ]
    }
   ],
   "source": [
    "def fn(unique, indexes, preds):\n",
    "    u_indexes = tf.where (tf.equal (unique, indexes))\n",
    "    # print(tf.equal (unique, indexes))\n",
    "    u_indexes = tf.reshape (u_indexes, (1, -1))\n",
    "\n",
    "    X = tf.gather (preds, u_indexes)\n",
    "    \n",
    "    X_mean = X - tf.reduce_mean (X, axis=1)\n",
    "    print('x_mean --', X_mean)\n",
    "    m = tf.cast (tf.shape (X_mean)[1], tf.float32)\n",
    "    print('m --', m)\n",
    "    print('mat_mul --', tf.matmul (tf.transpose (X_mean[0]), X_mean[0]), '\\n')\n",
    "    # X_mean = tf.squeeze(X_mean)\n",
    "    # print(tf.shape (X_mean))\n",
    "    return (1 / (10 - 1)) * tf.matmul (tf.transpose (X_mean[0]), X_mean[0])\n",
    "\n",
    "covs_t = tf.map_fn (lambda x: fn (x, indices, y_pred), y, dtype=tf.float32)[0]"
   ]
  },
  {
   "cell_type": "code",
   "execution_count": 58,
   "metadata": {},
   "outputs": [
    {
     "data": {
      "text/plain": [
       "<tf.Tensor: id=2862, shape=(), dtype=int32, numpy=7>"
      ]
     },
     "execution_count": 58,
     "metadata": {},
     "output_type": "execute_result"
    }
   ],
   "source": [
    "tf.shape(y_pred)[0]"
   ]
  },
  {
   "cell_type": "code",
   "execution_count": 48,
   "metadata": {},
   "outputs": [
    {
     "data": {
      "text/plain": [
       "<tf.Tensor: id=2795, shape=(1, 1), dtype=float32, numpy=array([[0.]], dtype=float32)>"
      ]
     },
     "execution_count": 48,
     "metadata": {},
     "output_type": "execute_result"
    }
   ],
   "source": [
    "covs_t"
   ]
  },
  {
   "cell_type": "code",
   "execution_count": 49,
   "metadata": {},
   "outputs": [],
   "source": [
    "Sw_t = tf.reduce_mean (covs_t, axis=0)"
   ]
  },
  {
   "cell_type": "code",
   "execution_count": 50,
   "metadata": {},
   "outputs": [
    {
     "data": {
      "text/plain": [
       "<tf.Tensor: id=2798, shape=(1,), dtype=float32, numpy=array([0.], dtype=float32)>"
      ]
     },
     "execution_count": 50,
     "metadata": {},
     "output_type": "execute_result"
    }
   ],
   "source": [
    "Sw_t"
   ]
  },
  {
   "cell_type": "code",
   "execution_count": 51,
   "metadata": {},
   "outputs": [
    {
     "name": "stdout",
     "output_type": "stream",
     "text": [
      "Xt_bar --  tf.Tensor(\n",
      "[[-0.5714286]\n",
      " [ 0.4285714]\n",
      " [ 0.4285714]\n",
      " [ 0.4285714]\n",
      " [ 0.4285714]\n",
      " [-0.5714286]\n",
      " [-0.5714286]], shape=(7, 1), dtype=float32)\n"
     ]
    }
   ],
   "source": [
    "Xt_bar = y_pred - tf.reduce_mean (y_pred, axis=0)\n",
    "print('Xt_bar -- ', Xt_bar)\n",
    "# m = T.cast(Xt_bar.shape[0], 'float32')\n",
    "m = tf.cast (tf.shape (Xt_bar)[1], tf.float32)\n",
    "# St_t = (1 / (m - 1)) * tf.matmul (tf.transpose (Xt_bar), Xt_bar)\n",
    "St_t = (1 / (10 - 1)) * tf.matmul (tf.transpose (Xt_bar), Xt_bar)"
   ]
  },
  {
   "cell_type": "code",
   "execution_count": 53,
   "metadata": {},
   "outputs": [
    {
     "name": "stdout",
     "output_type": "stream",
     "text": [
      "Sb_t --  tf.Tensor([[0.19047621]], shape=(1, 1), dtype=float32)\n"
     ]
    }
   ],
   "source": [
    "Sb_t = St_t - Sw_t\n",
    "\n",
    "print('Sb_t -- ', Sb_t)\n",
    "\n",
    "# cope for numerical instability (regularize)\n",
    "dim = tf.shape (y)[0]\n",
    "Sw_t += tf.eye (dim) * 0.1 # "
   ]
  },
  {
   "cell_type": "code",
   "execution_count": 54,
   "metadata": {},
   "outputs": [
    {
     "data": {
      "text/plain": [
       "<tf.Tensor: id=2847, shape=(4, 4), dtype=float32, numpy=\n",
       "array([[0.1, 0. , 0. , 0. ],\n",
       "       [0. , 0.1, 0. , 0. ],\n",
       "       [0. , 0. , 0.1, 0. ],\n",
       "       [0. , 0. , 0. , 0.1]], dtype=float32)>"
      ]
     },
     "execution_count": 54,
     "metadata": {},
     "output_type": "execute_result"
    }
   ],
   "source": [
    "Sw_t"
   ]
  },
  {
   "cell_type": "code",
   "execution_count": 62,
   "metadata": {},
   "outputs": [
    {
     "ename": "TypeError",
     "evalue": "unhashable type: 'list'",
     "output_type": "error",
     "traceback": [
      "\u001b[0;31m---------------------------------------------------------------------------\u001b[0m",
      "\u001b[0;31mTypeError\u001b[0m                                 Traceback (most recent call last)",
      "\u001b[0;32m<ipython-input-62-5c5d515330ad>\u001b[0m in \u001b[0;36m<module>\u001b[0;34m\u001b[0m\n\u001b[1;32m      6\u001b[0m \u001b[0;31m# compute eigenvalues\u001b[0m\u001b[0;34m\u001b[0m\u001b[0;34m\u001b[0m\u001b[0;34m\u001b[0m\u001b[0m\n\u001b[1;32m      7\u001b[0m \u001b[0;31m# evals_t = X = tf.matrix_solve(Sb_t, St_t) #Sb_t, St_t # B^{-1} A x = \\lambda x\u001b[0m\u001b[0;34m\u001b[0m\u001b[0;34m\u001b[0m\u001b[0;34m\u001b[0m\u001b[0m\n\u001b[0;32m----> 8\u001b[0;31m \u001b[0mth_eigenvals\u001b[0m \u001b[0;34m=\u001b[0m \u001b[0mtf\u001b[0m\u001b[0;34m.\u001b[0m\u001b[0mcontrib\u001b[0m\u001b[0;34m.\u001b[0m\u001b[0mdistributions\u001b[0m\u001b[0;34m.\u001b[0m\u001b[0mpercentile\u001b[0m \u001b[0;34m(\u001b[0m\u001b[0mevals_t\u001b[0m\u001b[0;34m,\u001b[0m \u001b[0mth\u001b[0m\u001b[0;34m)\u001b[0m\u001b[0;34m\u001b[0m\u001b[0;34m\u001b[0m\u001b[0m\n\u001b[0m\u001b[1;32m      9\u001b[0m \u001b[0mevals_t_mask\u001b[0m \u001b[0;34m=\u001b[0m \u001b[0mevals_t\u001b[0m \u001b[0;34m>\u001b[0m \u001b[0mth_eigenvals\u001b[0m\u001b[0;34m\u001b[0m\u001b[0;34m\u001b[0m\u001b[0m\n\u001b[1;32m     10\u001b[0m \u001b[0mevals_t\u001b[0m \u001b[0;34m=\u001b[0m \u001b[0mtf\u001b[0m\u001b[0;34m.\u001b[0m\u001b[0mboolean_mask\u001b[0m \u001b[0;34m(\u001b[0m\u001b[0mevals_t\u001b[0m\u001b[0;34m,\u001b[0m \u001b[0mevals_t_mask\u001b[0m\u001b[0;34m)\u001b[0m\u001b[0;34m\u001b[0m\u001b[0;34m\u001b[0m\u001b[0m\n",
      "\u001b[0;32m~/anaconda3/envs/test_imly/lib/python3.6/site-packages/tensorflow/contrib/distributions/python/ops/sample_stats.py\u001b[0m in \u001b[0;36mpercentile\u001b[0;34m(x, q, axis, interpolation, keep_dims, validate_args, name)\u001b[0m\n\u001b[1;32m    301\u001b[0m                        (allowed_interpolations, interpolation))\n\u001b[1;32m    302\u001b[0m \u001b[0;34m\u001b[0m\u001b[0m\n\u001b[0;32m--> 303\u001b[0;31m   \u001b[0;32mwith\u001b[0m \u001b[0mops\u001b[0m\u001b[0;34m.\u001b[0m\u001b[0mname_scope\u001b[0m\u001b[0;34m(\u001b[0m\u001b[0mname\u001b[0m\u001b[0;34m,\u001b[0m \u001b[0;34m[\u001b[0m\u001b[0mx\u001b[0m\u001b[0;34m,\u001b[0m \u001b[0mq\u001b[0m\u001b[0;34m]\u001b[0m\u001b[0;34m)\u001b[0m\u001b[0;34m:\u001b[0m\u001b[0;34m\u001b[0m\u001b[0;34m\u001b[0m\u001b[0m\n\u001b[0m\u001b[1;32m    304\u001b[0m     \u001b[0mx\u001b[0m \u001b[0;34m=\u001b[0m \u001b[0mops\u001b[0m\u001b[0;34m.\u001b[0m\u001b[0mconvert_to_tensor\u001b[0m\u001b[0;34m(\u001b[0m\u001b[0mx\u001b[0m\u001b[0;34m,\u001b[0m \u001b[0mname\u001b[0m\u001b[0;34m=\u001b[0m\u001b[0;34m\"x\"\u001b[0m\u001b[0;34m)\u001b[0m\u001b[0;34m\u001b[0m\u001b[0;34m\u001b[0m\u001b[0m\n\u001b[1;32m    305\u001b[0m     \u001b[0;31m# Double is needed here and below, else we get the wrong index if the array\u001b[0m\u001b[0;34m\u001b[0m\u001b[0;34m\u001b[0m\u001b[0;34m\u001b[0m\u001b[0m\n",
      "\u001b[0;32m~/anaconda3/envs/test_imly/lib/python3.6/site-packages/tensorflow/python/framework/ops.py\u001b[0m in \u001b[0;36m__enter__\u001b[0;34m(self)\u001b[0m\n\u001b[1;32m   6056\u001b[0m       \u001b[0;32melse\u001b[0m\u001b[0;34m:\u001b[0m\u001b[0;34m\u001b[0m\u001b[0;34m\u001b[0m\u001b[0m\n\u001b[1;32m   6057\u001b[0m         \u001b[0mcache_key\u001b[0m \u001b[0;34m=\u001b[0m \u001b[0mself\u001b[0m\u001b[0;34m.\u001b[0m\u001b[0m_name\u001b[0m\u001b[0;34m,\u001b[0m \u001b[0mself\u001b[0m\u001b[0;34m.\u001b[0m\u001b[0m_old_name\u001b[0m\u001b[0;34m,\u001b[0m \u001b[0mself\u001b[0m\u001b[0;34m.\u001b[0m\u001b[0m_default_name\u001b[0m\u001b[0;34m\u001b[0m\u001b[0;34m\u001b[0m\u001b[0m\n\u001b[0;32m-> 6058\u001b[0;31m         \u001b[0;32mif\u001b[0m \u001b[0mcache_key\u001b[0m \u001b[0;32min\u001b[0m \u001b[0mname_scope_cache\u001b[0m\u001b[0;34m:\u001b[0m\u001b[0;34m\u001b[0m\u001b[0;34m\u001b[0m\u001b[0m\n\u001b[0m\u001b[1;32m   6059\u001b[0m           \u001b[0mself\u001b[0m\u001b[0;34m.\u001b[0m\u001b[0m_ctx\u001b[0m\u001b[0;34m.\u001b[0m\u001b[0mscope_name\u001b[0m \u001b[0;34m=\u001b[0m \u001b[0mname_scope_cache\u001b[0m\u001b[0;34m[\u001b[0m\u001b[0mcache_key\u001b[0m\u001b[0;34m]\u001b[0m\u001b[0;34m\u001b[0m\u001b[0;34m\u001b[0m\u001b[0m\n\u001b[1;32m   6060\u001b[0m           \u001b[0;32mreturn\u001b[0m \u001b[0mself\u001b[0m\u001b[0;34m.\u001b[0m\u001b[0m_ctx\u001b[0m\u001b[0;34m.\u001b[0m\u001b[0mscope_name\u001b[0m\u001b[0;34m\u001b[0m\u001b[0;34m\u001b[0m\u001b[0m\n",
      "\u001b[0;31mTypeError\u001b[0m: unhashable type: 'list'"
     ]
    }
   ],
   "source": [
    "th=33\n",
    "\n",
    "evals_t = np.abs (tf.linalg.eigvalsh (tf.matrix_inverse (St_t) * Sw_t))\n",
    "# evals_t = np.abs (tf.linalg.eigvalsh (St_t * Sw_t))\n",
    "\n",
    "# compute eigenvalues\n",
    "# evals_t = X = tf.matrix_solve(Sb_t, St_t) #Sb_t, St_t # B^{-1} A x = \\lambda x\n",
    "th_eigenvals = tf.contrib.distributions.percentile (evals_t, th)\n",
    "evals_t_mask = evals_t > th_eigenvals\n",
    "evals_t = tf.boolean_mask (evals_t, evals_t_mask)\n",
    "cost = tf.reduce_mean (evals_t)"
   ]
  },
  {
   "cell_type": "code",
   "execution_count": null,
   "metadata": {},
   "outputs": [],
   "source": []
  },
  {
   "cell_type": "markdown",
   "metadata": {},
   "source": [
    "---"
   ]
  },
  {
   "cell_type": "code",
   "execution_count": 9,
   "metadata": {},
   "outputs": [],
   "source": [
    "test_var = tf.constant([[4.0]])"
   ]
  },
  {
   "cell_type": "code",
   "execution_count": 11,
   "metadata": {},
   "outputs": [
    {
     "data": {
      "text/plain": [
       "<tf.Tensor: id=6, shape=(1, 1), dtype=float32, numpy=array([[0.25]], dtype=float32)>"
      ]
     },
     "execution_count": 11,
     "metadata": {},
     "output_type": "execute_result"
    }
   ],
   "source": [
    "tf.matrix_inverse (test_var)"
   ]
  },
  {
   "cell_type": "code",
   "execution_count": 10,
   "metadata": {},
   "outputs": [
    {
     "data": {
      "text/plain": [
       "<tf.Tensor: id=4, shape=(1, 1), dtype=float32, numpy=array([[4.]], dtype=float32)>"
      ]
     },
     "execution_count": 10,
     "metadata": {},
     "output_type": "execute_result"
    }
   ],
   "source": [
    "test_var"
   ]
  }
 ],
 "metadata": {
  "kernelspec": {
   "display_name": "Python 3",
   "language": "python",
   "name": "python3"
  },
  "language_info": {
   "codemirror_mode": {
    "name": "ipython",
    "version": 3
   },
   "file_extension": ".py",
   "mimetype": "text/x-python",
   "name": "python",
   "nbconvert_exporter": "python",
   "pygments_lexer": "ipython3",
   "version": "3.6.8"
  },
  "toc": {
   "base_numbering": 1,
   "nav_menu": {},
   "number_sections": true,
   "sideBar": true,
   "skip_h1_title": false,
   "title_cell": "Table of Contents",
   "title_sidebar": "Contents",
   "toc_cell": false,
   "toc_position": {},
   "toc_section_display": true,
   "toc_window_display": false
  }
 },
 "nbformat": 4,
 "nbformat_minor": 2
}
