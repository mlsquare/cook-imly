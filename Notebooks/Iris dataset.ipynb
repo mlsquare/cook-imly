{
 "cells": [
  {
   "cell_type": "markdown",
   "metadata": {},
   "source": [
    "# Steps involved in creating a neural network #\n",
    "\n",
    "1) Define the model\n",
    "2) Compile the model\n",
    "3) Fit the model\n"
   ]
  },
  {
   "cell_type": "code",
   "execution_count": 1,
   "metadata": {},
   "outputs": [],
   "source": [
    "# Load dataset info #\n",
    "import automation_script\n",
    "import pandas as pd\n",
    "import numpy as np\n",
    "from os import path\n",
    "\n",
    "dataset_name = \"UCI Iris\"\n",
    "dataset_info = automation_script.get_url(dataset_name)"
   ]
  },
  {
   "cell_type": "code",
   "execution_count": 11,
   "metadata": {},
   "outputs": [
    {
     "data": {
      "text/plain": [
       "pandas.core.series.Series"
      ]
     },
     "execution_count": 11,
     "metadata": {},
     "output_type": "execute_result"
    }
   ],
   "source": [
    "# Import iris dataset #\n",
    "url = \"../data/iris.csv\" if path.exists(\"../data/iris.csv\") else dataset_info['url']\n",
    "data = pd.read_csv(url , delimiter=\",\", header=None, index_col=False)\n",
    "class_name,index = np.unique(data.iloc[:,-1],return_inverse=True)\n",
    "data.iloc[:,-1] = index\n",
    "data = data.loc[data[4] != 2]\n",
    "X = data.iloc[:,:-1]\n",
    "Y = data.iloc[:,-1]\n",
    "type(Y)"
   ]
  },
  {
   "cell_type": "markdown",
   "metadata": {},
   "source": [
    "#### Keras Model ####"
   ]
  },
  {
   "cell_type": "code",
   "execution_count": 7,
   "metadata": {
    "scrolled": false
   },
   "outputs": [
    {
     "name": "stdout",
     "output_type": "stream",
     "text": [
      "60/60 [==============================] - 0s 2ms/step\n",
      "\n",
      "acc: 93.33%\n"
     ]
    }
   ],
   "source": [
    "config = {\n",
    "    'epoch': 200,\n",
    "    'batch_size': 10,\n",
    "    'verbose': 0,\n",
    "    'model_info': {\n",
    "        'loss':'binary_crossentropy',\n",
    "        'optimizer':'adam',\n",
    "        'metrics':['accuracy']\n",
    "    }\n",
    "}\n",
    "\n",
    "keras_score,keras_params = automation_script.get_keras_params(X,Y,dataset_info,config)"
   ]
  },
  {
   "cell_type": "markdown",
   "metadata": {},
   "source": [
    "**K fold cross validation**"
   ]
  },
  {
   "cell_type": "code",
   "execution_count": 4,
   "metadata": {
    "scrolled": true
   },
   "outputs": [
    {
     "name": "stdout",
     "output_type": "stream",
     "text": [
      "acc: 100.00%\n",
      "acc: 100.00%\n",
      "acc: 50.00%\n",
      "acc: 90.00%\n",
      "acc: 100.00%\n",
      "acc: 90.00%\n",
      "acc: 100.00%\n",
      "acc: 50.00%\n",
      "acc: 100.00%\n",
      "acc: 100.00%\n",
      "88.00% (+/- 19.39%)\n",
      "\n",
      "   -------------   \n",
      "\n"
     ]
    },
    {
     "data": {
      "text/plain": [
       "<Figure size 640x480 with 1 Axes>"
      ]
     },
     "metadata": {},
     "output_type": "display_data"
    },
    {
     "name": "stdout",
     "output_type": "stream",
     "text": [
      "[[31  1]\n",
      " [ 0 28]]\n",
      "\n",
      "   -------------   \n",
      "\n",
      "             precision    recall  f1-score   support\n",
      "\n",
      "    Class 1       1.00      0.97      0.98        32\n",
      "    Class 2       0.97      1.00      0.98        28\n",
      "\n",
      "avg / total       0.98      0.98      0.98        60\n",
      "\n"
     ]
    }
   ],
   "source": [
    "\n",
    "config = {\n",
    "    'epoch': 100,\n",
    "    'batch_size': 10,\n",
    "    'splits':10,\n",
    "    'model_info': {\n",
    "        'loss':'binary_crossentropy',\n",
    "        'optimizer':'adam',\n",
    "        'metrics':['accuracy']\n",
    "    }\n",
    "}\n",
    "\n",
    "kfold_acc = automation_script.get_kfold(X,Y,config)\n"
   ]
  },
  {
   "cell_type": "markdown",
   "metadata": {},
   "source": [
    "#### Scikit learn model ####"
   ]
  },
  {
   "cell_type": "code",
   "execution_count": 5,
   "metadata": {
    "scrolled": true
   },
   "outputs": [
    {
     "name": "stdout",
     "output_type": "stream",
     "text": [
      "1.0\n"
     ]
    }
   ],
   "source": [
    "scikit_score, scikit_params = automation_script.get_scikit_params(X,Y)"
   ]
  },
  {
   "cell_type": "markdown",
   "metadata": {},
   "source": [
    "#### Write to Master sheet ####"
   ]
  },
  {
   "cell_type": "code",
   "execution_count": 6,
   "metadata": {},
   "outputs": [],
   "source": [
    "dataset_info['scikit_params'] = scikit_params\n",
    "dataset_info['keras_params'] = keras_params\n",
    "dataseet_info['type'] = 'Binary'\n",
    "accuracy_values = {\n",
    "    'keras': keras_score,\n",
    "    'scikit': scikit_score,\n",
    "    'kfold': kfold_acc\n",
    "}\n",
    "\n",
    "automation_script.write_to_mastersheet(dataset_info,X,Y,accuracy_values)"
   ]
  },
  {
   "cell_type": "markdown",
   "metadata": {},
   "source": [
    "# Qs/Doubts #\n",
    "1. Core methods to analyse\n",
    "    + Sequential\n",
    "    + add\n",
    "    + compile\n",
    "    + fit\n",
    "    + evaluate\n",
    "2. What exactly is sequential for?\n",
    "3. Classification report\n",
    "    + precision\n",
    "    + recall\n",
    "    + f1 score\n",
    "    + support\n",
    "4. Sensitivity vs specificity\n"
   ]
  },
  {
   "cell_type": "code",
   "execution_count": null,
   "metadata": {},
   "outputs": [],
   "source": []
  }
 ],
 "metadata": {
  "kernelspec": {
   "display_name": "Python 3",
   "language": "python",
   "name": "python3"
  },
  "language_info": {
   "codemirror_mode": {
    "name": "ipython",
    "version": 3
   },
   "file_extension": ".py",
   "mimetype": "text/x-python",
   "name": "python",
   "nbconvert_exporter": "python",
   "pygments_lexer": "ipython3",
   "version": "3.7.0"
  }
 },
 "nbformat": 4,
 "nbformat_minor": 2
}
