{
 "cells": [
  {
   "cell_type": "code",
   "execution_count": 1,
   "metadata": {},
   "outputs": [],
   "source": [
    "from sklearn.datasets import load_iris\n",
    "from sklearn.model_selection import cross_val_score\n",
    "from sklearn.tree import DecisionTreeClassifier\n",
    "\n",
    "from sklearn.model_selection import train_test_split\n",
    "import numpy as np\n",
    "import pandas as pd"
   ]
  },
  {
   "cell_type": "code",
   "execution_count": 2,
   "metadata": {},
   "outputs": [
    {
     "data": {
      "text/plain": [
       "DecisionTreeClassifier(class_weight=None, criterion='gini', max_depth=None,\n",
       "            max_features=None, max_leaf_nodes=None,\n",
       "            min_impurity_decrease=0.0, min_impurity_split=None,\n",
       "            min_samples_leaf=1, min_samples_split=2,\n",
       "            min_weight_fraction_leaf=0.0, presort=False, random_state=0,\n",
       "            splitter='best')"
      ]
     },
     "execution_count": 2,
     "metadata": {},
     "output_type": "execute_result"
    }
   ],
   "source": [
    "iris = load_iris()\n",
    "X = iris['data']\n",
    "y = iris['target']\n",
    "clf = DecisionTreeClassifier(random_state=0)\n",
    "clf.fit(X, y)"
   ]
  },
  {
   "cell_type": "code",
   "execution_count": 3,
   "metadata": {},
   "outputs": [],
   "source": [
    "left_nodes = clf.tree_.children_left[clf.tree_.children_left>0]\n",
    "right_nodes = clf.tree_.children_right[clf.tree_.children_right>0]\n",
    "node_indicator = clf.decision_path(X)\n",
    "path_list = []\n",
    "for i, j in enumerate(X):\n",
    "    path_list.append(node_indicator.indices[node_indicator.indptr[i]:node_indicator.indptr[i+1]])\n",
    "\n",
    "## Convert path to strings\n",
    "path_column = np.array([])\n",
    "for i, j in enumerate(X):\n",
    "    path_as_string = []\n",
    "    for node in path_list[i]:\n",
    "        if node == 0:\n",
    "            path_as_string.append('S')\n",
    "        elif node in left_nodes:\n",
    "            path_as_string.append('L')\n",
    "        elif node in right_nodes:\n",
    "            path_as_string.append('R')\n",
    "            \n",
    "    path_as_string.append('E')\n",
    "    path_as_string = ' '.join(path_as_string)\n",
    "    path_column = np.append(path_column, path_as_string)"
   ]
  },
  {
   "cell_type": "code",
   "execution_count": 4,
   "metadata": {},
   "outputs": [],
   "source": [
    "chars = ['S', 'L', 'R', 'E']\n",
    "char_indices = dict((c, i) for i, c in enumerate(chars))\n",
    "indices_char = dict((i, c) for i, c in enumerate(chars))\n",
    "\n",
    "Xnew = np.hstack((X, path_column.reshape(-1,1)))\n",
    "path_sequence = Xnew[:,4]\n",
    "data = pd.DataFrame(Xnew)\n",
    "data[5]=y\n",
    "df = data.sample(frac=1).reset_index(drop=True)\n",
    "\n",
    "# prepare dataset for training\n",
    "get_path_lengths = lambda t: len(t.split())\n",
    "paths_lengths = np.array([get_path_lengths(xi) for xi in path_sequence])"
   ]
  },
  {
   "cell_type": "code",
   "execution_count": 5,
   "metadata": {},
   "outputs": [
    {
     "name": "stdout",
     "output_type": "stream",
     "text": [
      "Vectorization...\n"
     ]
    }
   ],
   "source": [
    "vocab_size = 4\n",
    "label_size = 3\n",
    "feature_size = 4\n",
    "# cut the text in semi-redundant sequences of maxlen characters\n",
    "maxlen = np.max(paths_lengths)\n",
    "sentences = []\n",
    "next_chars = []\n",
    "features = []\n",
    "labels = []\n",
    "\n",
    "for i in range(0, len(df)):\n",
    "    # get the feature\n",
    "    curr_feat = np.array([df.iloc[i,0:4]])\n",
    "    curr_path = df.iloc[i,4].split()\n",
    "    curr_path_len = len(curr_path)\n",
    "    curr_label = y[i]\n",
    "    for j in range(1,curr_path_len):\n",
    "        features.append(curr_feat)\n",
    "        labels.append(curr_label)\n",
    "        sentences.append(curr_path[0:j])\n",
    "        next_chars.append(curr_path[j])\n",
    "print('Vectorization...')\n",
    "\n",
    "x_sent = np.zeros((len(sentences), maxlen, vocab_size), dtype=np.bool)\n",
    "x_feat = np.zeros((len(sentences), feature_size), dtype=np.float)\n",
    "y_chars = np.zeros((len(sentences), vocab_size), dtype=np.bool)\n",
    "y_feat = np.zeros((len(sentences), label_size), dtype=np.float)\n",
    "#from keras.utils import to_categorical\n",
    "#y_feat_tmp = to_categorical(df[5])"
   ]
  },
  {
   "cell_type": "code",
   "execution_count": 6,
   "metadata": {},
   "outputs": [],
   "source": [
    "for i, sentence in enumerate(sentences):\n",
    "    for t, char in enumerate(sentence):\n",
    "        x_sent[i, t, char_indices[char]] = 1\n",
    "    y_chars[i, char_indices[next_chars[i]]] = 1\n",
    "    x_feat[i,:] = features[i]\n",
    "    y_feat[i,labels[i]]=1"
   ]
  },
  {
   "cell_type": "code",
   "execution_count": 7,
   "metadata": {},
   "outputs": [
    {
     "name": "stdout",
     "output_type": "stream",
     "text": [
      "[False False False  True] [1. 0. 0.] [[ True False False False]\n",
      " [False  True False False]\n",
      " [False False False False]\n",
      " [False False False False]\n",
      " [False False False False]\n",
      " [False False False False]\n",
      " [False False False False]] [5.2 3.5 1.5 0.2]\n",
      "(560, 4) (560, 3) (560, 7, 4) (560, 4)\n"
     ]
    }
   ],
   "source": [
    "index = 10\n",
    "print(y_chars[index],y_feat[index],x_sent[index],x_feat[index])\n",
    "print(y_chars.shape,y_feat.shape,x_sent.shape,x_feat.shape)"
   ]
  },
  {
   "cell_type": "code",
   "execution_count": 8,
   "metadata": {},
   "outputs": [
    {
     "name": "stderr",
     "output_type": "stream",
     "text": [
      "Using TensorFlow backend.\n",
      "/Users/soma/venvs/daggit/lib/python3.6/site-packages/tensorflow/python/framework/dtypes.py:526: FutureWarning: Passing (type, 1) or '1type' as a synonym of type is deprecated; in a future version of numpy, it will be understood as (type, (1,)) / '(1,)type'.\n",
      "  _np_qint8 = np.dtype([(\"qint8\", np.int8, 1)])\n",
      "/Users/soma/venvs/daggit/lib/python3.6/site-packages/tensorflow/python/framework/dtypes.py:527: FutureWarning: Passing (type, 1) or '1type' as a synonym of type is deprecated; in a future version of numpy, it will be understood as (type, (1,)) / '(1,)type'.\n",
      "  _np_quint8 = np.dtype([(\"quint8\", np.uint8, 1)])\n",
      "/Users/soma/venvs/daggit/lib/python3.6/site-packages/tensorflow/python/framework/dtypes.py:528: FutureWarning: Passing (type, 1) or '1type' as a synonym of type is deprecated; in a future version of numpy, it will be understood as (type, (1,)) / '(1,)type'.\n",
      "  _np_qint16 = np.dtype([(\"qint16\", np.int16, 1)])\n",
      "/Users/soma/venvs/daggit/lib/python3.6/site-packages/tensorflow/python/framework/dtypes.py:529: FutureWarning: Passing (type, 1) or '1type' as a synonym of type is deprecated; in a future version of numpy, it will be understood as (type, (1,)) / '(1,)type'.\n",
      "  _np_quint16 = np.dtype([(\"quint16\", np.uint16, 1)])\n",
      "/Users/soma/venvs/daggit/lib/python3.6/site-packages/tensorflow/python/framework/dtypes.py:530: FutureWarning: Passing (type, 1) or '1type' as a synonym of type is deprecated; in a future version of numpy, it will be understood as (type, (1,)) / '(1,)type'.\n",
      "  _np_qint32 = np.dtype([(\"qint32\", np.int32, 1)])\n",
      "/Users/soma/venvs/daggit/lib/python3.6/site-packages/tensorflow/python/framework/dtypes.py:535: FutureWarning: Passing (type, 1) or '1type' as a synonym of type is deprecated; in a future version of numpy, it will be understood as (type, (1,)) / '(1,)type'.\n",
      "  np_resource = np.dtype([(\"resource\", np.ubyte, 1)])\n"
     ]
    },
    {
     "name": "stdout",
     "output_type": "stream",
     "text": [
      "WARNING:tensorflow:From /Users/soma/venvs/daggit/lib/python3.6/site-packages/tensorflow/python/framework/op_def_library.py:263: colocate_with (from tensorflow.python.framework.ops) is deprecated and will be removed in a future version.\n",
      "Instructions for updating:\n",
      "Colocations handled automatically by placer.\n",
      "__________________________________________________________________________________________________\n",
      "Layer (type)                    Output Shape         Param #     Connected to                     \n",
      "==================================================================================================\n",
      "ip_x (InputLayer)               (None, 4)            0                                            \n",
      "__________________________________________________________________________________________________\n",
      "ip_sent (InputLayer)            (None, 7, 4)         0                                            \n",
      "__________________________________________________________________________________________________\n",
      "hidden_x (Dense)                (None, 5)            25          ip_x[0][0]                       \n",
      "__________________________________________________________________________________________________\n",
      "lstm_sent (LSTM)                (None, 5)            200         ip_sent[0][0]                    \n",
      "__________________________________________________________________________________________________\n",
      "cat (Concatenate)               (None, 10)           0           hidden_x[0][0]                   \n",
      "                                                                 lstm_sent[0][0]                  \n",
      "__________________________________________________________________________________________________\n",
      "op_x (Dense)                    (None, 3)            18          hidden_x[0][0]                   \n",
      "__________________________________________________________________________________________________\n",
      "op_sent (Dense)                 (None, 4)            44          cat[0][0]                        \n",
      "==================================================================================================\n",
      "Total params: 287\n",
      "Trainable params: 287\n",
      "Non-trainable params: 0\n",
      "__________________________________________________________________________________________________\n"
     ]
    }
   ],
   "source": [
    "from keras.models import Model\n",
    "from keras.layers import Input, LSTM, Dense, Concatenate, concatenate, Flatten\n",
    "\n",
    "h1_size = 5\n",
    "latent_dim = 5\n",
    "\n",
    "input_x_features = Input(shape=(feature_size,),name='ip_x')\n",
    "hidden_state_x = Dense(h1_size, activation='relu',name='hidden_x')(input_x_features)\n",
    "output_labels = Dense(3, activation='softmax',name='op_x')(hidden_state_x)\n",
    "\n",
    "input_sent_features = Input(shape=(maxlen,vocab_size),name='ip_sent')\n",
    "decoder = LSTM(latent_dim,return_state=False,return_sequences=False,name='lstm_sent')\n",
    "decoder_outputs = decoder(input_sent_features)\n",
    "\n",
    "merge_layer = concatenate([hidden_state_x,decoder_outputs],name='cat')\n",
    "output_chars = Dense(vocab_size, activation='softmax',name='op_sent')(merge_layer)\n",
    "model = Model([input_x_features,input_sent_features], [output_labels,output_chars])\n",
    "model.summary()"
   ]
  },
  {
   "cell_type": "code",
   "execution_count": 9,
   "metadata": {},
   "outputs": [],
   "source": [
    "def paths_joint_model(initialize=True, rnn_cell= 'gru'):\n",
    "    from keras.models import Model\n",
    "    from keras.layers import Input, LSTM, Dense, Concatenate, concatenate, Flatten, GRU\n",
    "    h1_size = 5\n",
    "    latent_dim = 5\n",
    "    \n",
    "    input_x_features = Input(shape=(feature_size,),name='ip_x')\n",
    "    hidden_state_x = Dense(h1_size, activation='relu',name='hidden_x')(input_x_features)\n",
    "    output_labels = Dense(3, activation='softmax',name='op_x')(hidden_state_x)\n",
    "    \n",
    "    input_sent_features = Input(shape=(maxlen,vocab_size),name='ip_sent')\n",
    "    if rnn_cell == 'gru':\n",
    "        RNN = GRU\n",
    "    else:\n",
    "        RNN = LSTM\n",
    "            \n",
    "    decoder = RNN(latent_dim,return_state=False,return_sequences=False,name='lstm_sent')\n",
    "    if initialize:\n",
    "        decoder_outputs = decoder(input_sent_features,initial_state=hidden_state_x)\n",
    "    else:\n",
    "        decoder_outputs = decoder(input_sent_features)\n",
    "    \n",
    "    merge_layer = concatenate([hidden_state_x,decoder_outputs],name='cat')\n",
    "    output_chars = Dense(vocab_size, activation='softmax',name='op_sent')(merge_layer)\n",
    "    model = Model([input_x_features,input_sent_features], [output_labels,output_chars])\n",
    "    return model"
   ]
  },
  {
   "cell_type": "code",
   "execution_count": 10,
   "metadata": {},
   "outputs": [
    {
     "name": "stdout",
     "output_type": "stream",
     "text": [
      "WARNING:tensorflow:From /Users/soma/venvs/daggit/lib/python3.6/site-packages/tensorflow/python/ops/math_ops.py:3066: to_int32 (from tensorflow.python.ops.math_ops) is deprecated and will be removed in a future version.\n",
      "Instructions for updating:\n",
      "Use tf.cast instead.\n",
      "Epoch 1/2\n",
      "560/560 [==============================] - 3s 5ms/step - loss: 3.1956 - op_x_loss: 1.1688 - op_sent_loss: 2.0268 - op_x_acc: 0.3571 - op_sent_acc: 0.2679\n",
      "Epoch 2/2\n",
      "560/560 [==============================] - 0s 891us/step - loss: 2.7549 - op_x_loss: 1.1025 - op_sent_loss: 1.6524 - op_x_acc: 0.3875 - op_sent_acc: 0.2679\n"
     ]
    },
    {
     "data": {
      "text/plain": [
       "<keras.callbacks.History at 0x1264bd5c0>"
      ]
     },
     "execution_count": 10,
     "metadata": {},
     "output_type": "execute_result"
    }
   ],
   "source": [
    "model = paths_joint_model()\n",
    "model.compile(optimizer='adam', loss={'op_x':'categorical_crossentropy','op_sent':'categorical_crossentropy'},metrics=['accuracy'])\n",
    "model.fit([x_feat,x_sent],[y_feat,y_chars],batch_size =20, epochs = 2,verbose=1)"
   ]
  },
  {
   "cell_type": "code",
   "execution_count": 11,
   "metadata": {},
   "outputs": [],
   "source": [
    "def sample(x):\n",
    "    n = x.shape[0]\n",
    "    x_f = x.reshape(1,feature_size)\n",
    "    token = 'S'\n",
    "    cont = True\n",
    "    text = [token]\n",
    "    x_sent = np.zeros((1,maxlen,vocab_size),dtype=np.bool)\n",
    "    x_sent[0,0,char_indices[token]] = 1\n",
    "    label = []\n",
    "    index = 1\n",
    "    while cont & (index <maxlen):\n",
    "        pred = model.predict([x_f.reshape(1,feature_size),x_sent])\n",
    "        char_index = np.argmax(pred[1])\n",
    "        label.append(np.argmax(pred[0])) \n",
    "        x_sent[0,index,char_index] = 1\n",
    "        next_char = indices_char[char_index]\n",
    "        text.append(next_char)\n",
    "        index += 1    \n",
    "        if next_char == 'E':\n",
    "            cont = False\n",
    "    return [text,label]"
   ]
  },
  {
   "cell_type": "code",
   "execution_count": 12,
   "metadata": {},
   "outputs": [
    {
     "name": "stdout",
     "output_type": "stream",
     "text": [
      "actual vs predicted:  S R L L L E  vs  S E labels:  1 0\n",
      "actual vs predicted:  S R L L L E  vs  S E labels:  1 0\n",
      "actual vs predicted:  S R L L L E  vs  S E labels:  1 0\n",
      "actual vs predicted:  S R L L L E  vs  S E labels:  1 0\n",
      "actual vs predicted:  S R L L L E  vs  S E labels:  1 1\n",
      "actual vs predicted:  S R R R E  vs  S E labels:  2 1\n",
      "actual vs predicted:  S R L R L E  vs  S E labels:  2 0\n",
      "actual vs predicted:  S R R R E  vs  S E labels:  2 0\n",
      "actual vs predicted:  S R L L L E  vs  S E labels:  1 0\n",
      "actual vs predicted:  S L E  vs  S E labels:  0 1\n"
     ]
    },
    {
     "data": {
      "text/plain": [
       "0.1"
      ]
     },
     "execution_count": 12,
     "metadata": {},
     "output_type": "execute_result"
    }
   ],
   "source": [
    "count = []\n",
    "for i in range(10,20):\n",
    "    curr_feat = np.array([df.iloc[i,0:4]])\n",
    "    path,label= sample(curr_feat)\n",
    "    print('actual vs predicted: ', df.iloc[i,4] ,' vs ', ' '.join(path), 'labels: ', df.iloc[i,5],label[0])\n",
    "    count.append(df.iloc[i,5]==label[0])\n",
    "np.mean(count)"
   ]
  },
  {
   "cell_type": "code",
   "execution_count": 14,
   "metadata": {},
   "outputs": [],
   "source": [
    "def paths_model(initialize=True, rnn_cell= 'gru',latent_dim = 5):\n",
    "    from keras.models import Model\n",
    "    from keras.layers import Input, LSTM, Dense, Concatenate, concatenate, Flatten, GRU\n",
    "    latent_dim = latent_dim\n",
    "    \n",
    "    hidden_state_x = Input(shape=(latent_dim,),name='hidden_x')\n",
    "    input_sent_features = Input(shape=(maxlen,vocab_size),name='ip_sent')\n",
    "    if rnn_cell == 'gru':\n",
    "        RNN = GRU\n",
    "    else:\n",
    "        RNN = LSTM\n",
    "            \n",
    "    decoder = RNN(latent_dim,return_state=False,return_sequences=False,name='gru_sent')\n",
    "    if initialize:\n",
    "        decoder_outputs = decoder(input_sent_features,initial_state=hidden_state_x)\n",
    "    else:\n",
    "        decoder_outputs = decoder(input_sent_features)\n",
    "    \n",
    "    merge_layer = concatenate([hidden_state_x,decoder_outputs],name='cat')\n",
    "    output_chars = Dense(vocab_size, activation='softmax',name='op_sent')(merge_layer)\n",
    "    model = Model([hidden_state_x,input_sent_features], output_chars)\n",
    "    return model\n",
    "\n",
    "def label_model(feature_size = 4, latent_dim = 5):\n",
    "    from keras.models import Model\n",
    "    from keras.layers import Input, LSTM, Dense, Concatenate, concatenate, Flatten, GRU\n",
    "    feature_size = feature_size\n",
    "    h1_size = latent_dim\n",
    "    input_x_features = Input(shape=(feature_size,),name='ip_x')\n",
    "    hidden_state_x1 = Dense(20, activation='relu',name='hidden_x1')(input_x_features)\n",
    "    hidden_state_x = Dense(h1_size, activation='relu',name='hidden_x')(hidden_state_x1)\n",
    "    output_labels = Dense(3, activation='softmax',name='op_x')(hidden_state_x)    \n",
    "    model = Model(input_x_features,output_labels)\n",
    "    return model\n",
    "\n",
    "from keras import backend as K\n",
    "\n",
    "def get_hidden_x(x,model=model,layer_num=2):\n",
    "    def get_hidden_x_inner(model,layer_num=layer_num):\n",
    "        return K.function([model.layers[0].input], [model.layers[layer_num].output])\n",
    "    return get_hidden_x_inner(model,layer_num=layer_num)([x])[0]"
   ]
  },
  {
   "cell_type": "code",
   "execution_count": 15,
   "metadata": {},
   "outputs": [
    {
     "name": "stdout",
     "output_type": "stream",
     "text": [
      "__________________________________________________________________________________________________\n",
      "Layer (type)                    Output Shape         Param #     Connected to                     \n",
      "==================================================================================================\n",
      "hidden_x (InputLayer)           (None, 5)            0                                            \n",
      "__________________________________________________________________________________________________\n",
      "ip_sent (InputLayer)            (None, 7, 4)         0                                            \n",
      "__________________________________________________________________________________________________\n",
      "gru_sent (GRU)                  (None, 5)            150         ip_sent[0][0]                    \n",
      "                                                                 hidden_x[0][0]                   \n",
      "__________________________________________________________________________________________________\n",
      "cat (Concatenate)               (None, 10)           0           hidden_x[0][0]                   \n",
      "                                                                 gru_sent[0][0]                   \n",
      "__________________________________________________________________________________________________\n",
      "op_sent (Dense)                 (None, 4)            44          cat[0][0]                        \n",
      "==================================================================================================\n",
      "Total params: 194\n",
      "Trainable params: 194\n",
      "Non-trainable params: 0\n",
      "__________________________________________________________________________________________________\n",
      "_________________________________________________________________\n",
      "Layer (type)                 Output Shape              Param #   \n",
      "=================================================================\n",
      "ip_x (InputLayer)            (None, 4)                 0         \n",
      "_________________________________________________________________\n",
      "hidden_x1 (Dense)            (None, 20)                100       \n",
      "_________________________________________________________________\n",
      "hidden_x (Dense)             (None, 5)                 105       \n",
      "_________________________________________________________________\n",
      "op_x (Dense)                 (None, 3)                 18        \n",
      "=================================================================\n",
      "Total params: 223\n",
      "Trainable params: 223\n",
      "Non-trainable params: 0\n",
      "_________________________________________________________________\n"
     ]
    }
   ],
   "source": [
    "path_m = paths_model()\n",
    "path_m.summary()\n",
    "label_m = label_model()\n",
    "label_m.summary()"
   ]
  },
  {
   "cell_type": "code",
   "execution_count": 16,
   "metadata": {},
   "outputs": [
    {
     "name": "stdout",
     "output_type": "stream",
     "text": [
      "Epoch 1/2\n",
      "560/560 [==============================] - 1s 1ms/step - loss: 1.1362 - acc: 0.3196\n",
      "Epoch 2/2\n",
      "560/560 [==============================] - 0s 123us/step - loss: 1.1107 - acc: 0.3089\n"
     ]
    },
    {
     "data": {
      "text/plain": [
       "<keras.callbacks.History at 0x1119ee2e8>"
      ]
     },
     "execution_count": 16,
     "metadata": {},
     "output_type": "execute_result"
    }
   ],
   "source": [
    "label_m.compile(optimizer='adam', loss='categorical_crossentropy',metrics=['accuracy'])\n",
    "label_m.fit(x_feat,y_feat,batch_size =20, epochs = 2,verbose=1)\n",
    "\n",
    "x_latent = get_hidden_x(x_feat,model=label_m)\n",
    "\n",
    "path_m.compile(optimizer='adam', loss='categorical_crossentropy',metrics=['accuracy'])\n",
    "path_m.fit([x_latent,x_sent],y_chars,batch_size =20, epochs = 2,verbose=0)"
   ]
  },
  {
   "cell_type": "code",
   "execution_count": 17,
   "metadata": {},
   "outputs": [
    {
     "name": "stdout",
     "output_type": "stream",
     "text": [
      "actual vs predicted:  S R R L L E  vs  S E labels:  2 2\n",
      "actual vs predicted:  S R R R E  vs  S E labels:  2 2\n",
      "actual vs predicted:  S L E  vs  S L L L L L L labels:  0 0\n",
      "actual vs predicted:  S L E  vs  S L L L L L E labels:  0 0\n",
      "actual vs predicted:  S R R R E  vs  S E labels:  2 2\n",
      "actual vs predicted:  S R R R E  vs  S E labels:  2 2\n",
      "actual vs predicted:  S R L L L E  vs  S E labels:  1 2\n",
      "actual vs predicted:  S R L R R L E  vs  S E labels:  1 2\n",
      "actual vs predicted:  S L E  vs  S L L L L L L labels:  0 0\n",
      "actual vs predicted:  S R L L L E  vs  S E labels:  1 2\n"
     ]
    },
    {
     "data": {
      "text/plain": [
       "0.7"
      ]
     },
     "execution_count": 17,
     "metadata": {},
     "output_type": "execute_result"
    }
   ],
   "source": [
    "def sample_paths(x,path_model=path_m,label_model=label_m,latent_dim=latent_dim,feature_size=feature_size):\n",
    "    n = x.shape[0]\n",
    "    x_f = x.reshape(1,feature_size)\n",
    "    token = 'S'\n",
    "    cont = True\n",
    "    text = [token]\n",
    "    x_sent = np.zeros((1,maxlen,vocab_size),dtype=np.bool)\n",
    "    x_latent = get_hidden_x(x_f,model=label_model)\n",
    "    x_latent = x_latent.reshape(1,latent_dim)\n",
    "    x_sent[0,0,char_indices[token]] = 1\n",
    "    pred = label_model.predict(x_f)\n",
    "    label = [np.argmax(pred[0])]\n",
    "    index = 1\n",
    "    while cont & (index <maxlen):\n",
    "        pred = path_model.predict([x_latent,x_sent])\n",
    "        char_index = np.argmax(pred[0])\n",
    "        x_sent[0,index,char_index] = 1\n",
    "        next_char = indices_char[char_index]\n",
    "        text.append(next_char)\n",
    "        index += 1    \n",
    "        if next_char == 'E':\n",
    "            cont = False\n",
    "    return [text,label]\n",
    "\n",
    "count = []\n",
    "for i in range(10):\n",
    "    curr_feat = np.array([df.iloc[i,0:4]])\n",
    "    path,label= sample_paths(curr_feat)\n",
    "    print('actual vs predicted: ', df.iloc[i,4] ,' vs ', ' '.join(path), 'labels: ', df.iloc[i,5],label[0])\n",
    "    count.append(df.iloc[i,5]==label[0])\n",
    "np.mean(count)"
   ]
  }
 ],
 "metadata": {
  "kernelspec": {
   "display_name": "Python 3",
   "language": "python",
   "name": "python3"
  },
  "language_info": {
   "codemirror_mode": {
    "name": "ipython",
    "version": 3
   },
   "file_extension": ".py",
   "mimetype": "text/x-python",
   "name": "python",
   "nbconvert_exporter": "python",
   "pygments_lexer": "ipython3",
   "version": "3.6.5"
  },
  "toc": {
   "base_numbering": 1,
   "nav_menu": {},
   "number_sections": true,
   "sideBar": true,
   "skip_h1_title": false,
   "title_cell": "Table of Contents",
   "title_sidebar": "Contents",
   "toc_cell": false,
   "toc_position": {},
   "toc_section_display": true,
   "toc_window_display": true
  }
 },
 "nbformat": 4,
 "nbformat_minor": 2
}
