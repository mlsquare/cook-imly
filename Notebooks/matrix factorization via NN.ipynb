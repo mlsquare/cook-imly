{
 "cells": [
  {
   "cell_type": "markdown",
   "metadata": {},
   "source": [
    "## Matrix factorization via NN, contrasting MAE with surpriselib's baseline algos SVD, SVD++"
   ]
  },
  {
   "cell_type": "code",
   "execution_count": 1,
   "metadata": {},
   "outputs": [],
   "source": [
    "import os\n",
    "import numpy as np\n",
    "import pandas as pd\n",
    "\n",
    "\n",
    "data_path = os.path.expanduser('C:\\\\Users\\\\might\\\\Desktop\\\\jupyter notebooks\\\\u.data')"
   ]
  },
  {
   "cell_type": "markdown",
   "metadata": {},
   "source": [
    "* #### original df containing all 100k data points"
   ]
  },
  {
   "cell_type": "code",
   "execution_count": 2,
   "metadata": {
    "scrolled": false
   },
   "outputs": [
    {
     "data": {
      "text/html": [
       "<div>\n",
       "<style scoped>\n",
       "    .dataframe tbody tr th:only-of-type {\n",
       "        vertical-align: middle;\n",
       "    }\n",
       "\n",
       "    .dataframe tbody tr th {\n",
       "        vertical-align: top;\n",
       "    }\n",
       "\n",
       "    .dataframe thead th {\n",
       "        text-align: right;\n",
       "    }\n",
       "</style>\n",
       "<table border=\"1\" class=\"dataframe\">\n",
       "  <thead>\n",
       "    <tr style=\"text-align: right;\">\n",
       "      <th></th>\n",
       "      <th>0</th>\n",
       "      <th>1</th>\n",
       "      <th>2</th>\n",
       "      <th>3</th>\n",
       "    </tr>\n",
       "  </thead>\n",
       "  <tbody>\n",
       "    <tr>\n",
       "      <th>0</th>\n",
       "      <td>196</td>\n",
       "      <td>242</td>\n",
       "      <td>0</td>\n",
       "      <td>881250949</td>\n",
       "    </tr>\n",
       "    <tr>\n",
       "      <th>1</th>\n",
       "      <td>186</td>\n",
       "      <td>302</td>\n",
       "      <td>0</td>\n",
       "      <td>891717742</td>\n",
       "    </tr>\n",
       "    <tr>\n",
       "      <th>2</th>\n",
       "      <td>22</td>\n",
       "      <td>377</td>\n",
       "      <td>0</td>\n",
       "      <td>878887116</td>\n",
       "    </tr>\n",
       "    <tr>\n",
       "      <th>3</th>\n",
       "      <td>244</td>\n",
       "      <td>51</td>\n",
       "      <td>0</td>\n",
       "      <td>880606923</td>\n",
       "    </tr>\n",
       "    <tr>\n",
       "      <th>4</th>\n",
       "      <td>166</td>\n",
       "      <td>346</td>\n",
       "      <td>0</td>\n",
       "      <td>886397596</td>\n",
       "    </tr>\n",
       "  </tbody>\n",
       "</table>\n",
       "</div>"
      ],
      "text/plain": [
       "     0    1  2          3\n",
       "0  196  242  0  881250949\n",
       "1  186  302  0  891717742\n",
       "2   22  377  0  878887116\n",
       "3  244   51  0  880606923\n",
       "4  166  346  0  886397596"
      ]
     },
     "execution_count": 2,
     "metadata": {},
     "output_type": "execute_result"
    }
   ],
   "source": [
    "df = pd.read_csv(data_path, sep='\\t', header=None)\n",
    "df[2]= df[2].apply(lambda x: int(x>3))#since in df, no. vals holding 1 ratings:6110, 2 ratings:11370, 3 ratings:27145, 4 ratings:34174, 5 ratings: 21201 \n",
    "df.head(5)#Therefore all ratings(55375) of 4,5 squished to 1 & all ratings(44625) of 1,2,3 are squished to 0"
   ]
  },
  {
   "cell_type": "code",
   "execution_count": 3,
   "metadata": {},
   "outputs": [
    {
     "name": "stdout",
     "output_type": "stream",
     "text": [
      "shape of dataset: (100000, 4)\n"
     ]
    }
   ],
   "source": [
    "shuffled_df = df.loc[np.random.randint(0, 100000, size=df.shape[0])]\n",
    "\n",
    "#sm_train_df = shuffled_df[:80000]#small dataframe, trimming data points to random 2000 datapoints\n",
    "#test_df= shuffled_df[-20000:]\n",
    "\n",
    "#print('new trimmed dataset:', sm_train_df.shape, '\\nnew test dataset:', test_df.shape)\n",
    "print('shape of dataset:', shuffled_df.shape)"
   ]
  },
  {
   "cell_type": "markdown",
   "metadata": {},
   "source": []
  },
  {
   "cell_type": "markdown",
   "metadata": {},
   "source": [
    "* ### Training & testing results with SVD from surpriselib\n",
    "    * Using same dataframes for all three\n",
    "    * n_factors= 100, epochs= 64"
   ]
  },
  {
   "cell_type": "code",
   "execution_count": 4,
   "metadata": {
    "scrolled": true
   },
   "outputs": [],
   "source": [
    "from surprise import SVD\n",
    "from surprise import Dataset\n",
    "from surprise import Reader\n",
    "\n",
    "from surprise.model_selection import train_test_split\n",
    "\n",
    "rdr = Reader(rating_scale=(0,1))\n",
    "#train_data = Dataset.load_from_df(sm_train_df[[0,1,2]], reader= rdr)\n",
    "data = Dataset.load_from_df(shuffled_df[[0,1,2]], reader= rdr)\n",
    "\n",
    "#trainset = train_data.build_full_trainset()#contains 80k data points\n",
    "\n",
    "trainset, testset = train_test_split(data, test_size=0.2)\n",
    "#both trainset & testset have their ratings value swapped from 1 in place of 0; and 2 in place of 1\n",
    "\n",
    "#test_data= Dataset.load_from_df(test_df[[0,1,2]], reader= rdr)\n",
    "#testset = test_data.build_full_trainset().build_testset()#testset for surprise.SVD"
   ]
  },
  {
   "cell_type": "code",
   "execution_count": 5,
   "metadata": {},
   "outputs": [
    {
     "name": "stdout",
     "output_type": "stream",
     "text": [
      "training time: 11.896177053451538\n"
     ]
    }
   ],
   "source": [
    "from surprise import accuracy\n",
    "import time\n",
    "\n",
    "t1= time.time()\n",
    "\n",
    "algo_svd = SVD(n_factors=100, n_epochs=64)\n",
    "\n",
    "algo_svd.fit(trainset)\n",
    "\n",
    "print('training time:', time.time()-t1)"
   ]
  },
  {
   "cell_type": "code",
   "execution_count": 6,
   "metadata": {},
   "outputs": [
    {
     "name": "stdout",
     "output_type": "stream",
     "text": [
      "RMSE: 0.3503\n",
      "MAE:  0.2747\n",
      "\n",
      "Test results on 80k training data & 20k test data -- rmse: 0.3502859975580892, mae: 0.274662635822328\n"
     ]
    }
   ],
   "source": [
    "pred = algo_svd.test(testset)\n",
    "\n",
    "print('\\nTest results on 80k training data & 20k test data -- rmse: {}, mae: {}'.format(accuracy.rmse(pred), accuracy.mae(pred)))"
   ]
  },
  {
   "cell_type": "markdown",
   "metadata": {},
   "source": [
    "* #### ROC Curve"
   ]
  },
  {
   "cell_type": "code",
   "execution_count": 7,
   "metadata": {},
   "outputs": [
    {
     "data": {
      "text/html": [
       "<div>\n",
       "<style scoped>\n",
       "    .dataframe tbody tr th:only-of-type {\n",
       "        vertical-align: middle;\n",
       "    }\n",
       "\n",
       "    .dataframe tbody tr th {\n",
       "        vertical-align: top;\n",
       "    }\n",
       "\n",
       "    .dataframe thead th {\n",
       "        text-align: right;\n",
       "    }\n",
       "</style>\n",
       "<table border=\"1\" class=\"dataframe\">\n",
       "  <thead>\n",
       "    <tr style=\"text-align: right;\">\n",
       "      <th></th>\n",
       "      <th>uid</th>\n",
       "      <th>iid</th>\n",
       "      <th>r_ui</th>\n",
       "      <th>est</th>\n",
       "      <th>details</th>\n",
       "    </tr>\n",
       "  </thead>\n",
       "  <tbody>\n",
       "    <tr>\n",
       "      <th>0</th>\n",
       "      <td>786</td>\n",
       "      <td>66</td>\n",
       "      <td>1.0</td>\n",
       "      <td>0.650279</td>\n",
       "      <td>{'was_impossible': False}</td>\n",
       "    </tr>\n",
       "    <tr>\n",
       "      <th>1</th>\n",
       "      <td>537</td>\n",
       "      <td>44</td>\n",
       "      <td>0.0</td>\n",
       "      <td>0.239054</td>\n",
       "      <td>{'was_impossible': False}</td>\n",
       "    </tr>\n",
       "    <tr>\n",
       "      <th>2</th>\n",
       "      <td>660</td>\n",
       "      <td>208</td>\n",
       "      <td>1.0</td>\n",
       "      <td>0.619494</td>\n",
       "      <td>{'was_impossible': False}</td>\n",
       "    </tr>\n",
       "    <tr>\n",
       "      <th>3</th>\n",
       "      <td>181</td>\n",
       "      <td>619</td>\n",
       "      <td>0.0</td>\n",
       "      <td>0.186057</td>\n",
       "      <td>{'was_impossible': False}</td>\n",
       "    </tr>\n",
       "    <tr>\n",
       "      <th>4</th>\n",
       "      <td>486</td>\n",
       "      <td>257</td>\n",
       "      <td>0.0</td>\n",
       "      <td>0.551675</td>\n",
       "      <td>{'was_impossible': False}</td>\n",
       "    </tr>\n",
       "    <tr>\n",
       "      <th>5</th>\n",
       "      <td>916</td>\n",
       "      <td>427</td>\n",
       "      <td>1.0</td>\n",
       "      <td>0.891885</td>\n",
       "      <td>{'was_impossible': False}</td>\n",
       "    </tr>\n",
       "    <tr>\n",
       "      <th>6</th>\n",
       "      <td>916</td>\n",
       "      <td>748</td>\n",
       "      <td>0.0</td>\n",
       "      <td>0.172283</td>\n",
       "      <td>{'was_impossible': False}</td>\n",
       "    </tr>\n",
       "  </tbody>\n",
       "</table>\n",
       "</div>"
      ],
      "text/plain": [
       "   uid  iid  r_ui       est                    details\n",
       "0  786   66   1.0  0.650279  {'was_impossible': False}\n",
       "1  537   44   0.0  0.239054  {'was_impossible': False}\n",
       "2  660  208   1.0  0.619494  {'was_impossible': False}\n",
       "3  181  619   0.0  0.186057  {'was_impossible': False}\n",
       "4  486  257   0.0  0.551675  {'was_impossible': False}\n",
       "5  916  427   1.0  0.891885  {'was_impossible': False}\n",
       "6  916  748   0.0  0.172283  {'was_impossible': False}"
      ]
     },
     "execution_count": 7,
     "metadata": {},
     "output_type": "execute_result"
    }
   ],
   "source": [
    "pred_arr= pd.DataFrame(pred)\n",
    "pred_arr.head(7)"
   ]
  },
  {
   "cell_type": "code",
   "execution_count": 8,
   "metadata": {},
   "outputs": [],
   "source": [
    "y_true = np.array(pred_arr['r_ui'])\n",
    "y_scores = np.array(pred_arr['est'])"
   ]
  },
  {
   "cell_type": "code",
   "execution_count": 9,
   "metadata": {},
   "outputs": [],
   "source": [
    "import matplotlib.pyplot as plt\n",
    "from sklearn.metrics import roc_curve, auc\n",
    "\n",
    "\n",
    "fpr, tpr, thresholds = roc_curve(y_true, y_scores, pos_label=1)\n",
    "roc_auc= auc(fpr, tpr)"
   ]
  },
  {
   "cell_type": "code",
   "execution_count": 10,
   "metadata": {},
   "outputs": [
    {
     "data": {
      "image/png": "[encoded data removed]",
      "text/plain": [
       "<Figure size 432x288 with 1 Axes>"
      ]
     },
     "metadata": {
      "needs_background": "light"
     },
     "output_type": "display_data"
    }
   ],
   "source": [
    "plt.figure()\n",
    "lw = 2\n",
    "plt.plot(fpr, tpr, color='darkorange',\n",
    "         lw=lw, label='ROC curve (area = %0.2f)' % roc_auc)\n",
    "plt.plot([0, 1], [0, 1], color='navy', lw=lw, linestyle='--')\n",
    "plt.xlim([0.0, 1.0])\n",
    "plt.ylim([0.0, 1.05])\n",
    "plt.xlabel('False Positive Rate')\n",
    "plt.ylabel('True Positive Rate')\n",
    "plt.title('Receiver operating characteristic example')\n",
    "plt.legend(loc=\"lower right\")\n",
    "plt.show()"
   ]
  },
  {
   "cell_type": "markdown",
   "metadata": {},
   "source": [
    "* #### Precision-Recall Curve"
   ]
  },
  {
   "cell_type": "code",
   "execution_count": 11,
   "metadata": {},
   "outputs": [],
   "source": [
    "from sklearn.metrics import precision_recall_curve\n",
    "\n",
    "precision, recall, thresholds = precision_recall_curve(y_true, y_scores, pos_label=1)\n"
   ]
  },
  {
   "cell_type": "code",
   "execution_count": 12,
   "metadata": {},
   "outputs": [
    {
     "name": "stdout",
     "output_type": "stream",
     "text": [
      "Average precision-recall score: 0.91\n"
     ]
    }
   ],
   "source": [
    "from inspect import signature\n",
    "\n",
    "from sklearn.metrics import average_precision_score\n",
    "\n",
    "avg_precision = average_precision_score(y_true, y_scores)\n",
    "\n",
    "print('Average precision-recall score: {0:0.2f}'.format(avg_precision))"
   ]
  },
  {
   "cell_type": "code",
   "execution_count": 13,
   "metadata": {},
   "outputs": [
    {
     "data": {
      "text/plain": [
       "Text(0.5, 1.0, 'User-Movie-rating Precision-Recall curve: AP=0.91')"
      ]
     },
     "execution_count": 13,
     "metadata": {},
     "output_type": "execute_result"
    },
    {
     "data": {
      "image/png": "[encoded data removed]",
      "text/plain": [
       "<Figure size 432x288 with 1 Axes>"
      ]
     },
     "metadata": {
      "needs_background": "light"
     },
     "output_type": "display_data"
    }
   ],
   "source": [
    "step_kwargs = ({'step': 'post'}\n",
    "               if 'step' in signature(plt.fill_between).parameters\n",
    "               else {})\n",
    "\n",
    "plt.step(recall, precision, color='b', alpha=0.2, where='post')\n",
    "plt.fill_between(recall, precision, alpha=0.2, color='b', **step_kwargs)\n",
    "\n",
    "plt.xlabel('Recall')\n",
    "plt.ylabel('Precision')\n",
    "plt.ylim([0.0, 1.05])\n",
    "plt.xlim([0.0, 1.0])\n",
    "\n",
    "plt.title('User-Movie-rating Precision-Recall curve: AP={0:0.2f}'.format(avg_precision))"
   ]
  },
  {
   "cell_type": "code",
   "execution_count": null,
   "metadata": {},
   "outputs": [],
   "source": []
  },
  {
   "cell_type": "markdown",
   "metadata": {},
   "source": [
    "* #### Creating confusion matrix"
   ]
  },
  {
   "cell_type": "code",
   "execution_count": 14,
   "metadata": {
    "scrolled": true
   },
   "outputs": [
    {
     "data": {
      "text/html": [
       "<div>\n",
       "<style scoped>\n",
       "    .dataframe tbody tr th:only-of-type {\n",
       "        vertical-align: middle;\n",
       "    }\n",
       "\n",
       "    .dataframe tbody tr th {\n",
       "        vertical-align: top;\n",
       "    }\n",
       "\n",
       "    .dataframe thead th {\n",
       "        text-align: right;\n",
       "    }\n",
       "</style>\n",
       "<table border=\"1\" class=\"dataframe\">\n",
       "  <thead>\n",
       "    <tr style=\"text-align: right;\">\n",
       "      <th></th>\n",
       "      <th>uid</th>\n",
       "      <th>iid</th>\n",
       "      <th>r_ui</th>\n",
       "      <th>est</th>\n",
       "      <th>details</th>\n",
       "    </tr>\n",
       "  </thead>\n",
       "  <tbody>\n",
       "    <tr>\n",
       "      <th>0</th>\n",
       "      <td>786</td>\n",
       "      <td>66</td>\n",
       "      <td>1.0</td>\n",
       "      <td>1.0</td>\n",
       "      <td>{'was_impossible': False}</td>\n",
       "    </tr>\n",
       "    <tr>\n",
       "      <th>1</th>\n",
       "      <td>537</td>\n",
       "      <td>44</td>\n",
       "      <td>0.0</td>\n",
       "      <td>0.0</td>\n",
       "      <td>{'was_impossible': False}</td>\n",
       "    </tr>\n",
       "    <tr>\n",
       "      <th>2</th>\n",
       "      <td>660</td>\n",
       "      <td>208</td>\n",
       "      <td>1.0</td>\n",
       "      <td>1.0</td>\n",
       "      <td>{'was_impossible': False}</td>\n",
       "    </tr>\n",
       "    <tr>\n",
       "      <th>3</th>\n",
       "      <td>181</td>\n",
       "      <td>619</td>\n",
       "      <td>0.0</td>\n",
       "      <td>0.0</td>\n",
       "      <td>{'was_impossible': False}</td>\n",
       "    </tr>\n",
       "    <tr>\n",
       "      <th>4</th>\n",
       "      <td>486</td>\n",
       "      <td>257</td>\n",
       "      <td>0.0</td>\n",
       "      <td>1.0</td>\n",
       "      <td>{'was_impossible': False}</td>\n",
       "    </tr>\n",
       "    <tr>\n",
       "      <th>5</th>\n",
       "      <td>916</td>\n",
       "      <td>427</td>\n",
       "      <td>1.0</td>\n",
       "      <td>1.0</td>\n",
       "      <td>{'was_impossible': False}</td>\n",
       "    </tr>\n",
       "    <tr>\n",
       "      <th>6</th>\n",
       "      <td>916</td>\n",
       "      <td>748</td>\n",
       "      <td>0.0</td>\n",
       "      <td>0.0</td>\n",
       "      <td>{'was_impossible': False}</td>\n",
       "    </tr>\n",
       "  </tbody>\n",
       "</table>\n",
       "</div>"
      ],
      "text/plain": [
       "   uid  iid  r_ui  est                    details\n",
       "0  786   66   1.0  1.0  {'was_impossible': False}\n",
       "1  537   44   0.0  0.0  {'was_impossible': False}\n",
       "2  660  208   1.0  1.0  {'was_impossible': False}\n",
       "3  181  619   0.0  0.0  {'was_impossible': False}\n",
       "4  486  257   0.0  1.0  {'was_impossible': False}\n",
       "5  916  427   1.0  1.0  {'was_impossible': False}\n",
       "6  916  748   0.0  0.0  {'was_impossible': False}"
      ]
     },
     "execution_count": 14,
     "metadata": {},
     "output_type": "execute_result"
    }
   ],
   "source": [
    "pred_arr['est']= pred_arr['est'].apply(lambda x:float(round(x)))\n",
    "pred_arr.head(7)"
   ]
  },
  {
   "cell_type": "code",
   "execution_count": 15,
   "metadata": {
    "scrolled": true
   },
   "outputs": [
    {
     "data": {
      "text/plain": [
       "9691"
      ]
     },
     "execution_count": 15,
     "metadata": {},
     "output_type": "execute_result"
    }
   ],
   "source": [
    "pred_arr= np.asarray(pred_arr)\n",
    "np.intersect1d(np.where(pred_arr[:, 2]==1), np.where(pred_arr[:, 3]==1)).shape[0]"
   ]
  },
  {
   "cell_type": "code",
   "execution_count": 16,
   "metadata": {},
   "outputs": [
    {
     "data": {
      "text/plain": [
       "7211"
      ]
     },
     "execution_count": 16,
     "metadata": {},
     "output_type": "execute_result"
    }
   ],
   "source": [
    "np.intersect1d(np.where(pred_arr[:, 2]==0), np.where(pred_arr[:, 3]==0)).shape[0]"
   ]
  },
  {
   "cell_type": "code",
   "execution_count": 17,
   "metadata": {},
   "outputs": [
    {
     "data": {
      "text/plain": [
       "1330"
      ]
     },
     "execution_count": 17,
     "metadata": {},
     "output_type": "execute_result"
    }
   ],
   "source": [
    "np.intersect1d(np.where(pred_arr[:, 2]==1), np.where(pred_arr[:, 3]==0)).shape[0]"
   ]
  },
  {
   "cell_type": "code",
   "execution_count": 18,
   "metadata": {},
   "outputs": [
    {
     "data": {
      "text/plain": [
       "1768"
      ]
     },
     "execution_count": 18,
     "metadata": {},
     "output_type": "execute_result"
    }
   ],
   "source": [
    "np.intersect1d(np.where(pred_arr[:, 2]==0), np.where(pred_arr[:, 3]==1)).shape[0]"
   ]
  },
  {
   "cell_type": "code",
   "execution_count": null,
   "metadata": {},
   "outputs": [],
   "source": []
  },
  {
   "cell_type": "code",
   "execution_count": 19,
   "metadata": {},
   "outputs": [],
   "source": [
    "def confusion_matrix(pred):\n",
    "    pred_arr= pd.DataFrame(pred)\n",
    "    pred_arr['est']= pred_arr['est'].apply(lambda x:float(round(x)))#changing prediction values to just 0s & 1s\n",
    "    pred_arr= np.asarray(pred_arr)[:,:4]#contains first 4 cols of pred array, removing timestamp\n",
    "    \n",
    "    conf_df = pd.DataFrame(index=['True rating 1', 'True rating 0'], columns=['Estimated rating 1', 'Estimated rating 0'])\n",
    "    \n",
    "    conf_df['Estimated rating 1']['True rating 1']= np.intersect1d(np.where(pred_arr[:, 2]==1), np.where(pred_arr[:, 3]==1)).shape[0]#True Positives, 9526\n",
    "    conf_df['Estimated rating 0']['True rating 0']= np.intersect1d(np.where(pred_arr[:, 2]==0), np.where(pred_arr[:, 3]==0)).shape[0]#True Negatives, 6822\n",
    "    conf_df['Estimated rating 0']['True rating 1']= np.intersect1d(np.where(pred_arr[:, 2]==1), np.where(pred_arr[:, 3]==0)).shape[0]#False Negatives, 1470\n",
    "    conf_df['Estimated rating 1']['True rating 0']= np.intersect1d(np.where(pred_arr[:, 2]==0), np.where(pred_arr[:, 3]==1)).shape[0]#False Positives, 2182\n",
    "    \n",
    "    return np.asarray(conf_df), conf_df"
   ]
  },
  {
   "cell_type": "code",
   "execution_count": 20,
   "metadata": {},
   "outputs": [
    {
     "data": {
      "text/html": [
       "<div>\n",
       "<style scoped>\n",
       "    .dataframe tbody tr th:only-of-type {\n",
       "        vertical-align: middle;\n",
       "    }\n",
       "\n",
       "    .dataframe tbody tr th {\n",
       "        vertical-align: top;\n",
       "    }\n",
       "\n",
       "    .dataframe thead th {\n",
       "        text-align: right;\n",
       "    }\n",
       "</style>\n",
       "<table border=\"1\" class=\"dataframe\">\n",
       "  <thead>\n",
       "    <tr style=\"text-align: right;\">\n",
       "      <th></th>\n",
       "      <th>Estimated rating 1</th>\n",
       "      <th>Estimated rating 0</th>\n",
       "    </tr>\n",
       "  </thead>\n",
       "  <tbody>\n",
       "    <tr>\n",
       "      <th>True rating 1</th>\n",
       "      <td>9691</td>\n",
       "      <td>1330</td>\n",
       "    </tr>\n",
       "    <tr>\n",
       "      <th>True rating 0</th>\n",
       "      <td>1768</td>\n",
       "      <td>7211</td>\n",
       "    </tr>\n",
       "  </tbody>\n",
       "</table>\n",
       "</div>"
      ],
      "text/plain": [
       "              Estimated rating 1 Estimated rating 0\n",
       "True rating 1               9691               1330\n",
       "True rating 0               1768               7211"
      ]
     },
     "execution_count": 20,
     "metadata": {},
     "output_type": "execute_result"
    }
   ],
   "source": [
    "confusion_mat, confusion_df = confusion_matrix(pred)\n",
    "confusion_df"
   ]
  },
  {
   "cell_type": "code",
   "execution_count": 21,
   "metadata": {
    "scrolled": true
   },
   "outputs": [
    {
     "name": "stdout",
     "output_type": "stream",
     "text": [
      "[[9691 1330]\n",
      " [1768 7211]]\n"
     ]
    }
   ],
   "source": [
    "print(confusion_mat)"
   ]
  },
  {
   "cell_type": "code",
   "execution_count": null,
   "metadata": {},
   "outputs": [],
   "source": []
  },
  {
   "cell_type": "markdown",
   "metadata": {},
   "source": [
    "* ### Training & testing results with SVD++ from surpirselib\n",
    "    * Using same dataframes for both\n",
    "    * n_factors= 100, epochs= 40"
   ]
  },
  {
   "cell_type": "code",
   "execution_count": 46,
   "metadata": {},
   "outputs": [
    {
     "name": "stdout",
     "output_type": "stream",
     "text": [
      "training time: 775.9093706607819\n"
     ]
    }
   ],
   "source": [
    "from surprise import SVDpp\n",
    "\n",
    "t1= time.time()\n",
    "\n",
    "algo_svdpp = SVDpp(n_factors=100, n_epochs=40)\n",
    "\n",
    "algo_svdpp.fit(trainset)\n",
    "\n",
    "print('training time:', time.time()-t1)\n"
   ]
  },
  {
   "cell_type": "code",
   "execution_count": 47,
   "metadata": {},
   "outputs": [
    {
     "name": "stdout",
     "output_type": "stream",
     "text": [
      "RMSE: 0.3543\n",
      "MAE:  0.2791\n",
      "\n",
      "Test results on 80k training data & 20k test data -- rmse:0.35433296400534825, mae:0.2791093764734291\n"
     ]
    }
   ],
   "source": [
    "pred = algo_svdpp.test(testset)\n",
    "\n",
    "print('\\nTest results on 80k training data & 20k test data -- rmse:{}, mae:{}'.format(accuracy.rmse(pred), accuracy.mae(pred)))"
   ]
  },
  {
   "cell_type": "code",
   "execution_count": null,
   "metadata": {},
   "outputs": [],
   "source": []
  },
  {
   "cell_type": "markdown",
   "metadata": {},
   "source": [
    "* ### Training & testing results with matrix factorization implemented with NN\n",
    "    * Using same dataframes as above\n",
    "    * Latent vector (k) size : 100, epochs =64"
   ]
  },
  {
   "cell_type": "code",
   "execution_count": 22,
   "metadata": {},
   "outputs": [
    {
     "name": "stdout",
     "output_type": "stream",
     "text": [
      "shape of dataset: (100000, 4)\n"
     ]
    }
   ],
   "source": [
    "#print('new trimmed dataset:', sm_train_df.shape, '\\nnew test dataset:', test_df.shape)\n",
    "\n",
    "print('shape of dataset:', shuffled_df.shape)"
   ]
  },
  {
   "cell_type": "code",
   "execution_count": 23,
   "metadata": {
    "scrolled": true
   },
   "outputs": [
    {
     "data": {
      "text/html": [
       "<div>\n",
       "<style scoped>\n",
       "    .dataframe tbody tr th:only-of-type {\n",
       "        vertical-align: middle;\n",
       "    }\n",
       "\n",
       "    .dataframe tbody tr th {\n",
       "        vertical-align: top;\n",
       "    }\n",
       "\n",
       "    .dataframe thead th {\n",
       "        text-align: right;\n",
       "    }\n",
       "</style>\n",
       "<table border=\"1\" class=\"dataframe\">\n",
       "  <thead>\n",
       "    <tr style=\"text-align: right;\">\n",
       "      <th></th>\n",
       "      <th>0</th>\n",
       "      <th>1</th>\n",
       "      <th>2</th>\n",
       "      <th>3</th>\n",
       "    </tr>\n",
       "  </thead>\n",
       "  <tbody>\n",
       "    <tr>\n",
       "      <th>63197</th>\n",
       "      <td>664</td>\n",
       "      <td>302</td>\n",
       "      <td>1</td>\n",
       "      <td>876523093</td>\n",
       "    </tr>\n",
       "    <tr>\n",
       "      <th>60431</th>\n",
       "      <td>815</td>\n",
       "      <td>132</td>\n",
       "      <td>1</td>\n",
       "      <td>878695278</td>\n",
       "    </tr>\n",
       "    <tr>\n",
       "      <th>81084</th>\n",
       "      <td>922</td>\n",
       "      <td>153</td>\n",
       "      <td>1</td>\n",
       "      <td>891451037</td>\n",
       "    </tr>\n",
       "    <tr>\n",
       "      <th>93333</th>\n",
       "      <td>857</td>\n",
       "      <td>328</td>\n",
       "      <td>0</td>\n",
       "      <td>883432301</td>\n",
       "    </tr>\n",
       "    <tr>\n",
       "      <th>16148</th>\n",
       "      <td>375</td>\n",
       "      <td>566</td>\n",
       "      <td>1</td>\n",
       "      <td>886621985</td>\n",
       "    </tr>\n",
       "  </tbody>\n",
       "</table>\n",
       "</div>"
      ],
      "text/plain": [
       "         0    1  2          3\n",
       "63197  664  302  1  876523093\n",
       "60431  815  132  1  878695278\n",
       "81084  922  153  1  891451037\n",
       "93333  857  328  0  883432301\n",
       "16148  375  566  1  886621985"
      ]
     },
     "execution_count": 23,
     "metadata": {},
     "output_type": "execute_result"
    }
   ],
   "source": [
    "shuffled_df.head(5)"
   ]
  },
  {
   "cell_type": "code",
   "execution_count": 24,
   "metadata": {},
   "outputs": [
    {
     "name": "stdout",
     "output_type": "stream",
     "text": [
      "max value of user id: 943 \n",
      "max value of movie id: 1682 \n",
      "Therefore concatenated shape of input layer: (2625,)\n"
     ]
    }
   ],
   "source": [
    "print('max value of user id:', max(shuffled_df[0]),'\\nmax value of movie id:', max(shuffled_df[1]),'\\nTherefore concatenated shape of input layer:',(max(shuffled_df[0])+max(shuffled_df[1]),))"
   ]
  },
  {
   "cell_type": "code",
   "execution_count": 25,
   "metadata": {
    "scrolled": true
   },
   "outputs": [
    {
     "name": "stderr",
     "output_type": "stream",
     "text": [
      "Using TensorFlow backend.\n"
     ]
    }
   ],
   "source": [
    "import keras\n",
    "from keras.models import Model\n",
    "from keras.layers import Input, Dense\n",
    "from keras import metrics\n",
    "from keras.utils import to_categorical"
   ]
  },
  {
   "cell_type": "code",
   "execution_count": 26,
   "metadata": {
    "scrolled": true
   },
   "outputs": [
    {
     "name": "stdout",
     "output_type": "stream",
     "text": [
      "shape of x_train_user_in: (100000, 944) \n",
      "shape of x_train_movie_in: (100000, 1683) \n",
      "shape of x_train_user_in: (100000,)\n"
     ]
    }
   ],
   "source": [
    "x_train_user_in = to_categorical(shuffled_df[0])#contains the one-hot encoded user_id data, shaped (batch_size, max(sm_df[0]))\n",
    "x_train_movie_in = to_categorical(shuffled_df[1])#contains the one-hot encoded movie_id data, shaped (batch_size, max(sm_df[1]))\n",
    "\n",
    "y_ratings= shuffled_df[2]\n",
    "print('shape of x_train_user_in:', x_train_user_in.shape,'\\nshape of x_train_movie_in:', x_train_movie_in.shape,\n",
    "      '\\nshape of x_train_user_in:',y_ratings.shape)"
   ]
  },
  {
   "cell_type": "code",
   "execution_count": 27,
   "metadata": {},
   "outputs": [],
   "source": [
    "user_in_layer = Input(shape=(max(shuffled_df[0])+1,))#top half of input layer,+1 to accomodate on-hot encoded vectors\n",
    "movie_in_layer = Input(shape=(max(shuffled_df[1])+1,))#bottom half of input layer\n",
    "\n",
    "#total input moves as concatenated user_id & movie_id one-hot encoded forms\n",
    "\n",
    "hid_layer_u = Dense(100)(user_in_layer)#latent dimension k=100 for user_id #_Embedding(100, )\n",
    "hid_layer_m= Dense(100)(movie_in_layer)#latent dimension k=100 for movie_id\n",
    "\n",
    "merge_layer = keras.layers.dot([hid_layer_u, hid_layer_m], axes=1)\n",
    "\n",
    "\n",
    "\n",
    "predictions = Dense(1, activation='sigmoid')(merge_layer)\n",
    "\n",
    "model = Model(inputs=[user_in_layer, movie_in_layer], outputs= predictions)\n",
    "\n",
    "model.compile(loss= 'binary_crossentropy', optimizer='sgd', metrics= ['mae', 'accuracy'])"
   ]
  },
  {
   "cell_type": "code",
   "execution_count": 28,
   "metadata": {},
   "outputs": [
    {
     "name": "stdout",
     "output_type": "stream",
     "text": [
      "__________________________________________________________________________________________________\n",
      "Layer (type)                    Output Shape         Param #     Connected to                     \n",
      "==================================================================================================\n",
      "input_1 (InputLayer)            (None, 944)          0                                            \n",
      "__________________________________________________________________________________________________\n",
      "input_2 (InputLayer)            (None, 1683)         0                                            \n",
      "__________________________________________________________________________________________________\n",
      "dense_1 (Dense)                 (None, 100)          94500       input_1[0][0]                    \n",
      "__________________________________________________________________________________________________\n",
      "dense_2 (Dense)                 (None, 100)          168400      input_2[0][0]                    \n",
      "__________________________________________________________________________________________________\n",
      "dot_1 (Dot)                     (None, 1)            0           dense_1[0][0]                    \n",
      "                                                                 dense_2[0][0]                    \n",
      "__________________________________________________________________________________________________\n",
      "dense_3 (Dense)                 (None, 1)            2           dot_1[0][0]                      \n",
      "==================================================================================================\n",
      "Total params: 262,902\n",
      "Trainable params: 262,902\n",
      "Non-trainable params: 0\n",
      "__________________________________________________________________________________________________\n"
     ]
    }
   ],
   "source": [
    "model.summary()"
   ]
  },
  {
   "cell_type": "code",
   "execution_count": 29,
   "metadata": {},
   "outputs": [],
   "source": [
    "from keras.callbacks import ModelCheckpoint\n",
    "\n",
    "checkpoints = ModelCheckpoint('./NN_m_factorization_weights.{epoch:02}-{val_loss:.2f}.hdf5', monitor='val_loss', verbose = 1, save_best_only=True, save_weights_only=False, mode='auto', period=2)"
   ]
  },
  {
   "cell_type": "code",
   "execution_count": 30,
   "metadata": {
    "scrolled": true
   },
   "outputs": [
    {
     "name": "stdout",
     "output_type": "stream",
     "text": [
      "Train on 80000 samples, validate on 20000 samples\n",
      "Epoch 1/64\n",
      "80000/80000 [==============================] - 6s 70us/step - loss: 0.6880 - mean_absolute_error: 0.4953 - acc: 0.5514 - val_loss: 0.6869 - val_mean_absolute_error: 0.4945 - val_acc: 0.5538\n",
      "Epoch 2/64\n",
      "80000/80000 [==============================] - 5s 65us/step - loss: 0.6870 - mean_absolute_error: 0.4942 - acc: 0.5521 - val_loss: 0.6863 - val_mean_absolute_error: 0.4939 - val_acc: 0.5538\n",
      "\n",
      "Epoch 00002: val_loss improved from inf to 0.68626, saving model to ./NN_m_factorization_weights.02-0.69.hdf5\n",
      "Epoch 3/64\n",
      "80000/80000 [==============================] - 5s 67us/step - loss: 0.6862 - mean_absolute_error: 0.4939 - acc: 0.5521 - val_loss: 0.6855 - val_mean_absolute_error: 0.4932 - val_acc: 0.5538\n",
      "Epoch 4/64\n",
      "80000/80000 [==============================] - 5s 68us/step - loss: 0.6852 - mean_absolute_error: 0.4932 - acc: 0.5521 - val_loss: 0.6842 - val_mean_absolute_error: 0.4926 - val_acc: 0.5538\n",
      "\n",
      "Epoch 00004: val_loss improved from 0.68626 to 0.68423, saving model to ./NN_m_factorization_weights.04-0.68.hdf5\n",
      "Epoch 5/64\n",
      "80000/80000 [==============================] - 5s 67us/step - loss: 0.6835 - mean_absolute_error: 0.4924 - acc: 0.5521 - val_loss: 0.6821 - val_mean_absolute_error: 0.4915 - val_acc: 0.5538\n",
      "Epoch 6/64\n",
      "80000/80000 [==============================] - 5s 63us/step - loss: 0.6805 - mean_absolute_error: 0.4908 - acc: 0.5549 - val_loss: 0.6784 - val_mean_absolute_error: 0.4886 - val_acc: 0.5583\n",
      "\n",
      "Epoch 00006: val_loss improved from 0.68423 to 0.67837, saving model to ./NN_m_factorization_weights.06-0.68.hdf5\n",
      "Epoch 7/64\n",
      "80000/80000 [==============================] - 5s 68us/step - loss: 0.6747 - mean_absolute_error: 0.4875 - acc: 0.5696 - val_loss: 0.6708 - val_mean_absolute_error: 0.4859 - val_acc: 0.5877\n",
      "Epoch 8/64\n",
      "80000/80000 [==============================] - 6s 71us/step - loss: 0.6635 - mean_absolute_error: 0.4809 - acc: 0.6009 - val_loss: 0.6560 - val_mean_absolute_error: 0.4759 - val_acc: 0.6192\n",
      "\n",
      "Epoch 00008: val_loss improved from 0.67837 to 0.65597, saving model to ./NN_m_factorization_weights.08-0.66.hdf5\n",
      "Epoch 9/64\n",
      "80000/80000 [==============================] - 5s 65us/step - loss: 0.6435 - mean_absolute_error: 0.4673 - acc: 0.6425 - val_loss: 0.6330 - val_mean_absolute_error: 0.4566 - val_acc: 0.6433\n",
      "Epoch 10/64\n",
      "80000/80000 [==============================] - 5s 60us/step - loss: 0.6166 - mean_absolute_error: 0.4455 - acc: 0.6711 - val_loss: 0.6064 - val_mean_absolute_error: 0.4357 - val_acc: 0.6778\n",
      "\n",
      "Epoch 00010: val_loss improved from 0.65597 to 0.60644, saving model to ./NN_m_factorization_weights.10-0.61.hdf5\n",
      "Epoch 11/64\n",
      "80000/80000 [==============================] - 5s 61us/step - loss: 0.5920 - mean_absolute_error: 0.4219 - acc: 0.6906 - val_loss: 0.5869 - val_mean_absolute_error: 0.4145 - val_acc: 0.6915\n",
      "Epoch 12/64\n",
      "80000/80000 [==============================] - 5s 59us/step - loss: 0.5747 - mean_absolute_error: 0.4029 - acc: 0.7033 - val_loss: 0.5741 - val_mean_absolute_error: 0.3985 - val_acc: 0.7025\n",
      "\n",
      "Epoch 00012: val_loss improved from 0.60644 to 0.57409, saving model to ./NN_m_factorization_weights.12-0.57.hdf5\n",
      "Epoch 13/64\n",
      "80000/80000 [==============================] - 5s 60us/step - loss: 0.5629 - mean_absolute_error: 0.3899 - acc: 0.7111 - val_loss: 0.5656 - val_mean_absolute_error: 0.3892 - val_acc: 0.7093\n",
      "Epoch 14/64\n",
      "80000/80000 [==============================] - 5s 59us/step - loss: 0.5546 - mean_absolute_error: 0.3815 - acc: 0.7166 - val_loss: 0.5607 - val_mean_absolute_error: 0.3814 - val_acc: 0.7138\n",
      "\n",
      "Epoch 00014: val_loss improved from 0.57409 to 0.56068, saving model to ./NN_m_factorization_weights.14-0.56.hdf5\n",
      "Epoch 15/64\n",
      "80000/80000 [==============================] - 5s 59us/step - loss: 0.5489 - mean_absolute_error: 0.3753 - acc: 0.7203 - val_loss: 0.5621 - val_mean_absolute_error: 0.3829 - val_acc: 0.7097\n",
      "Epoch 16/64\n",
      "80000/80000 [==============================] - 5s 67us/step - loss: 0.5441 - mean_absolute_error: 0.3706 - acc: 0.7249 - val_loss: 0.5541 - val_mean_absolute_error: 0.3730 - val_acc: 0.7197\n",
      "\n",
      "Epoch 00016: val_loss improved from 0.56068 to 0.55414, saving model to ./NN_m_factorization_weights.16-0.55.hdf5\n",
      "Epoch 17/64\n",
      "80000/80000 [==============================] - 6s 69us/step - loss: 0.5407 - mean_absolute_error: 0.3674 - acc: 0.7282 - val_loss: 0.5523 - val_mean_absolute_error: 0.3699 - val_acc: 0.7218\n",
      "Epoch 18/64\n",
      "80000/80000 [==============================] - 5s 67us/step - loss: 0.5376 - mean_absolute_error: 0.3646 - acc: 0.7309 - val_loss: 0.5585 - val_mean_absolute_error: 0.3755 - val_acc: 0.7117\n",
      "\n",
      "Epoch 00018: val_loss did not improve from 0.55414\n",
      "Epoch 19/64\n",
      "80000/80000 [==============================] - 5s 68us/step - loss: 0.5353 - mean_absolute_error: 0.3620 - acc: 0.7314 - val_loss: 0.5491 - val_mean_absolute_error: 0.3693 - val_acc: 0.7215\n",
      "Epoch 20/64\n",
      "80000/80000 [==============================] - 5s 67us/step - loss: 0.5335 - mean_absolute_error: 0.3601 - acc: 0.7342 - val_loss: 0.5469 - val_mean_absolute_error: 0.3663 - val_acc: 0.7242\n",
      "\n",
      "Epoch 00020: val_loss improved from 0.55414 to 0.54695, saving model to ./NN_m_factorization_weights.20-0.55.hdf5\n",
      "Epoch 21/64\n",
      "80000/80000 [==============================] - 5s 67us/step - loss: 0.5318 - mean_absolute_error: 0.3587 - acc: 0.7349 - val_loss: 0.5458 - val_mean_absolute_error: 0.3641 - val_acc: 0.7236\n",
      "Epoch 22/64\n",
      "80000/80000 [==============================] - 5s 58us/step - loss: 0.5305 - mean_absolute_error: 0.3572 - acc: 0.7359 - val_loss: 0.5449 - val_mean_absolute_error: 0.3648 - val_acc: 0.7235\n",
      "\n",
      "Epoch 00022: val_loss improved from 0.54695 to 0.54491, saving model to ./NN_m_factorization_weights.22-0.54.hdf5\n",
      "Epoch 23/64\n",
      "80000/80000 [==============================] - 5s 58us/step - loss: 0.5292 - mean_absolute_error: 0.3563 - acc: 0.7365 - val_loss: 0.5449 - val_mean_absolute_error: 0.3623 - val_acc: 0.7245\n",
      "Epoch 24/64\n",
      "80000/80000 [==============================] - 5s 64us/step - loss: 0.5278 - mean_absolute_error: 0.3555 - acc: 0.7374 - val_loss: 0.5523 - val_mean_absolute_error: 0.3590 - val_acc: 0.7224\n",
      "\n",
      "Epoch 00024: val_loss did not improve from 0.54491\n",
      "Epoch 25/64\n",
      "80000/80000 [==============================] - 5s 68us/step - loss: 0.5269 - mean_absolute_error: 0.3543 - acc: 0.7379 - val_loss: 0.5455 - val_mean_absolute_error: 0.3596 - val_acc: 0.7264\n",
      "Epoch 26/64\n",
      "80000/80000 [==============================] - 5s 60us/step - loss: 0.5258 - mean_absolute_error: 0.3536 - acc: 0.7395 - val_loss: 0.5452 - val_mean_absolute_error: 0.3590 - val_acc: 0.7277\n",
      "\n",
      "Epoch 00026: val_loss did not improve from 0.54491\n",
      "Epoch 27/64\n",
      "80000/80000 [==============================] - 5s 65us/step - loss: 0.5250 - mean_absolute_error: 0.3528 - acc: 0.7409 - val_loss: 0.5424 - val_mean_absolute_error: 0.3602 - val_acc: 0.7278\n",
      "Epoch 28/64\n",
      "80000/80000 [==============================] - 6s 74us/step - loss: 0.5239 - mean_absolute_error: 0.3522 - acc: 0.7412 - val_loss: 0.5421 - val_mean_absolute_error: 0.3599 - val_acc: 0.7270\n",
      "\n",
      "Epoch 00028: val_loss improved from 0.54491 to 0.54210, saving model to ./NN_m_factorization_weights.28-0.54.hdf5\n",
      "Epoch 29/64\n",
      "80000/80000 [==============================] - 6s 69us/step - loss: 0.5229 - mean_absolute_error: 0.3518 - acc: 0.7413 - val_loss: 0.5453 - val_mean_absolute_error: 0.3573 - val_acc: 0.7260\n",
      "Epoch 30/64\n",
      "80000/80000 [==============================] - 6s 77us/step - loss: 0.5220 - mean_absolute_error: 0.3509 - acc: 0.7424 - val_loss: 0.5502 - val_mean_absolute_error: 0.3660 - val_acc: 0.7191\n",
      "\n",
      "Epoch 00030: val_loss did not improve from 0.54210\n",
      "Epoch 31/64\n",
      "80000/80000 [==============================] - 6s 74us/step - loss: 0.5207 - mean_absolute_error: 0.3503 - acc: 0.7425 - val_loss: 0.5413 - val_mean_absolute_error: 0.3574 - val_acc: 0.7285\n",
      "Epoch 32/64\n",
      "80000/80000 [==============================] - 6s 70us/step - loss: 0.5203 - mean_absolute_error: 0.3497 - acc: 0.7425 - val_loss: 0.5404 - val_mean_absolute_error: 0.3590 - val_acc: 0.7278\n",
      "\n",
      "Epoch 00032: val_loss improved from 0.54210 to 0.54036, saving model to ./NN_m_factorization_weights.32-0.54.hdf5\n",
      "Epoch 33/64\n"
     ]
    },
    {
     "name": "stdout",
     "output_type": "stream",
     "text": [
      "80000/80000 [==============================] - 5s 66us/step - loss: 0.5194 - mean_absolute_error: 0.3493 - acc: 0.7441 - val_loss: 0.5400 - val_mean_absolute_error: 0.3593 - val_acc: 0.7288\n",
      "Epoch 34/64\n",
      "80000/80000 [==============================] - 6s 70us/step - loss: 0.5181 - mean_absolute_error: 0.3487 - acc: 0.7442 - val_loss: 0.5400 - val_mean_absolute_error: 0.3566 - val_acc: 0.7308\n",
      "\n",
      "Epoch 00034: val_loss improved from 0.54036 to 0.53997, saving model to ./NN_m_factorization_weights.34-0.54.hdf5\n",
      "Epoch 35/64\n",
      "80000/80000 [==============================] - 5s 66us/step - loss: 0.5168 - mean_absolute_error: 0.3478 - acc: 0.7455 - val_loss: 0.5390 - val_mean_absolute_error: 0.3580 - val_acc: 0.7292\n",
      "Epoch 36/64\n",
      "80000/80000 [==============================] - 6s 79us/step - loss: 0.5164 - mean_absolute_error: 0.3476 - acc: 0.7458 - val_loss: 0.5394 - val_mean_absolute_error: 0.3593 - val_acc: 0.7292\n",
      "\n",
      "Epoch 00036: val_loss improved from 0.53997 to 0.53935, saving model to ./NN_m_factorization_weights.36-0.54.hdf5\n",
      "Epoch 37/64\n",
      "80000/80000 [==============================] - 6s 72us/step - loss: 0.5147 - mean_absolute_error: 0.3472 - acc: 0.7471 - val_loss: 0.5382 - val_mean_absolute_error: 0.3570 - val_acc: 0.7300\n",
      "Epoch 38/64\n",
      "80000/80000 [==============================] - 5s 66us/step - loss: 0.5141 - mean_absolute_error: 0.3461 - acc: 0.7468 - val_loss: 0.5448 - val_mean_absolute_error: 0.3538 - val_acc: 0.7294\n",
      "\n",
      "Epoch 00038: val_loss did not improve from 0.53935\n",
      "Epoch 39/64\n",
      "80000/80000 [==============================] - 5s 66us/step - loss: 0.5128 - mean_absolute_error: 0.3458 - acc: 0.7469 - val_loss: 0.5529 - val_mean_absolute_error: 0.3532 - val_acc: 0.7219\n",
      "Epoch 40/64\n",
      "80000/80000 [==============================] - 5s 63us/step - loss: 0.5116 - mean_absolute_error: 0.3457 - acc: 0.7501 - val_loss: 0.5461 - val_mean_absolute_error: 0.3523 - val_acc: 0.7281\n",
      "\n",
      "Epoch 00040: val_loss did not improve from 0.53935\n",
      "Epoch 41/64\n",
      "80000/80000 [==============================] - 5s 67us/step - loss: 0.5100 - mean_absolute_error: 0.3444 - acc: 0.7509 - val_loss: 0.5361 - val_mean_absolute_error: 0.3549 - val_acc: 0.7302\n",
      "Epoch 42/64\n",
      "80000/80000 [==============================] - 5s 66us/step - loss: 0.5089 - mean_absolute_error: 0.3437 - acc: 0.7505 - val_loss: 0.5358 - val_mean_absolute_error: 0.3565 - val_acc: 0.7325\n",
      "\n",
      "Epoch 00042: val_loss improved from 0.53935 to 0.53575, saving model to ./NN_m_factorization_weights.42-0.54.hdf5\n",
      "Epoch 43/64\n",
      "80000/80000 [==============================] - 5s 65us/step - loss: 0.5079 - mean_absolute_error: 0.3434 - acc: 0.7504 - val_loss: 0.5345 - val_mean_absolute_error: 0.3547 - val_acc: 0.7326\n",
      "Epoch 44/64\n",
      "80000/80000 [==============================] - 5s 67us/step - loss: 0.5063 - mean_absolute_error: 0.3428 - acc: 0.7531 - val_loss: 0.5350 - val_mean_absolute_error: 0.3567 - val_acc: 0.7326\n",
      "\n",
      "Epoch 00044: val_loss improved from 0.53575 to 0.53505, saving model to ./NN_m_factorization_weights.44-0.54.hdf5\n",
      "Epoch 45/64\n",
      "80000/80000 [==============================] - 5s 67us/step - loss: 0.5044 - mean_absolute_error: 0.3416 - acc: 0.7546 - val_loss: 0.5349 - val_mean_absolute_error: 0.3527 - val_acc: 0.7333\n",
      "Epoch 46/64\n",
      "80000/80000 [==============================] - 5s 65us/step - loss: 0.5032 - mean_absolute_error: 0.3415 - acc: 0.7550 - val_loss: 0.5325 - val_mean_absolute_error: 0.3538 - val_acc: 0.7338\n",
      "\n",
      "Epoch 00046: val_loss improved from 0.53505 to 0.53249, saving model to ./NN_m_factorization_weights.46-0.53.hdf5\n",
      "Epoch 47/64\n",
      "80000/80000 [==============================] - 5s 65us/step - loss: 0.5013 - mean_absolute_error: 0.3405 - acc: 0.7569 - val_loss: 0.5326 - val_mean_absolute_error: 0.3547 - val_acc: 0.7347\n",
      "Epoch 48/64\n",
      "80000/80000 [==============================] - 5s 66us/step - loss: 0.4995 - mean_absolute_error: 0.3393 - acc: 0.7573 - val_loss: 0.5311 - val_mean_absolute_error: 0.3526 - val_acc: 0.7363\n",
      "\n",
      "Epoch 00048: val_loss improved from 0.53249 to 0.53109, saving model to ./NN_m_factorization_weights.48-0.53.hdf5\n",
      "Epoch 49/64\n",
      "80000/80000 [==============================] - 6s 71us/step - loss: 0.4977 - mean_absolute_error: 0.3390 - acc: 0.7591 - val_loss: 0.5364 - val_mean_absolute_error: 0.3496 - val_acc: 0.7349\n",
      "Epoch 50/64\n",
      "80000/80000 [==============================] - 5s 67us/step - loss: 0.4953 - mean_absolute_error: 0.3376 - acc: 0.7614 - val_loss: 0.5290 - val_mean_absolute_error: 0.3518 - val_acc: 0.7370\n",
      "\n",
      "Epoch 00050: val_loss improved from 0.53109 to 0.52900, saving model to ./NN_m_factorization_weights.50-0.53.hdf5\n",
      "Epoch 51/64\n",
      "80000/80000 [==============================] - 6s 70us/step - loss: 0.4933 - mean_absolute_error: 0.3369 - acc: 0.7620 - val_loss: 0.5284 - val_mean_absolute_error: 0.3503 - val_acc: 0.7372\n",
      "Epoch 52/64\n",
      "80000/80000 [==============================] - 5s 64us/step - loss: 0.4910 - mean_absolute_error: 0.3358 - acc: 0.7638 - val_loss: 0.5380 - val_mean_absolute_error: 0.3475 - val_acc: 0.7337\n",
      "\n",
      "Epoch 00052: val_loss did not improve from 0.52900\n",
      "Epoch 53/64\n",
      "80000/80000 [==============================] - 5s 65us/step - loss: 0.4884 - mean_absolute_error: 0.3343 - acc: 0.7662 - val_loss: 0.5262 - val_mean_absolute_error: 0.3492 - val_acc: 0.7405\n",
      "Epoch 54/64\n",
      "80000/80000 [==============================] - 5s 68us/step - loss: 0.4859 - mean_absolute_error: 0.3335 - acc: 0.7668 - val_loss: 0.5241 - val_mean_absolute_error: 0.3497 - val_acc: 0.7428\n",
      "\n",
      "Epoch 00054: val_loss improved from 0.52900 to 0.52410, saving model to ./NN_m_factorization_weights.54-0.52.hdf5\n",
      "Epoch 55/64\n",
      "80000/80000 [==============================] - 5s 66us/step - loss: 0.4829 - mean_absolute_error: 0.3319 - acc: 0.7706 - val_loss: 0.5230 - val_mean_absolute_error: 0.3497 - val_acc: 0.7422\n",
      "Epoch 56/64\n",
      "80000/80000 [==============================] - 5s 65us/step - loss: 0.4798 - mean_absolute_error: 0.3307 - acc: 0.7731 - val_loss: 0.5248 - val_mean_absolute_error: 0.3520 - val_acc: 0.7409\n",
      "\n",
      "Epoch 00056: val_loss did not improve from 0.52410\n",
      "Epoch 57/64\n",
      "80000/80000 [==============================] - 5s 65us/step - loss: 0.4767 - mean_absolute_error: 0.3293 - acc: 0.7743 - val_loss: 0.5234 - val_mean_absolute_error: 0.3454 - val_acc: 0.7425\n",
      "Epoch 58/64\n",
      "80000/80000 [==============================] - 6s 76us/step - loss: 0.4733 - mean_absolute_error: 0.3279 - acc: 0.7784 - val_loss: 0.5200 - val_mean_absolute_error: 0.3487 - val_acc: 0.7438\n",
      "\n",
      "Epoch 00058: val_loss improved from 0.52410 to 0.51996, saving model to ./NN_m_factorization_weights.58-0.52.hdf5\n",
      "Epoch 59/64\n",
      "80000/80000 [==============================] - 6s 70us/step - loss: 0.4695 - mean_absolute_error: 0.3257 - acc: 0.7815 - val_loss: 0.5168 - val_mean_absolute_error: 0.3467 - val_acc: 0.7460\n",
      "Epoch 60/64\n",
      "80000/80000 [==============================] - 6s 71us/step - loss: 0.4654 - mean_absolute_error: 0.3241 - acc: 0.7843 - val_loss: 0.5151 - val_mean_absolute_error: 0.3444 - val_acc: 0.7486\n",
      "\n",
      "Epoch 00060: val_loss improved from 0.51996 to 0.51506, saving model to ./NN_m_factorization_weights.60-0.52.hdf5\n",
      "Epoch 61/64\n",
      "80000/80000 [==============================] - 6s 71us/step - loss: 0.4609 - mean_absolute_error: 0.3216 - acc: 0.7881 - val_loss: 0.5141 - val_mean_absolute_error: 0.3426 - val_acc: 0.7485\n",
      "Epoch 62/64\n",
      "80000/80000 [==============================] - 6s 70us/step - loss: 0.4565 - mean_absolute_error: 0.3198 - acc: 0.7907 - val_loss: 0.5137 - val_mean_absolute_error: 0.3413 - val_acc: 0.7483\n",
      "\n",
      "Epoch 00062: val_loss improved from 0.51506 to 0.51366, saving model to ./NN_m_factorization_weights.62-0.51.hdf5\n",
      "Epoch 63/64\n",
      "80000/80000 [==============================] - 6s 72us/step - loss: 0.4515 - mean_absolute_error: 0.3175 - acc: 0.7960 - val_loss: 0.5150 - val_mean_absolute_error: 0.3470 - val_acc: 0.7485\n",
      "Epoch 64/64\n",
      "80000/80000 [==============================] - 6s 77us/step - loss: 0.4464 - mean_absolute_error: 0.3144 - acc: 0.7998 - val_loss: 0.5086 - val_mean_absolute_error: 0.3391 - val_acc: 0.7533\n",
      "\n",
      "Epoch 00064: val_loss improved from 0.51366 to 0.50858, saving model to ./NN_m_factorization_weights.64-0.51.hdf5\n"
     ]
    }
   ],
   "source": [
    "history = model.fit([x_train_user_in, x_train_movie_in], y_ratings, verbose=1, epochs=64, batch_size=32, validation_split=0.2, callbacks=[checkpoints])"
   ]
  },
  {
   "cell_type": "code",
   "execution_count": 31,
   "metadata": {
    "scrolled": true
   },
   "outputs": [
    {
     "data": {
      "text/plain": [
       "dict_keys(['val_loss', 'val_mean_absolute_error', 'val_acc', 'loss', 'mean_absolute_error', 'acc'])"
      ]
     },
     "execution_count": 31,
     "metadata": {},
     "output_type": "execute_result"
    }
   ],
   "source": [
    "history.history.keys()"
   ]
  },
  {
   "cell_type": "markdown",
   "metadata": {},
   "source": [
    "* #### Training and Valdiation plots"
   ]
  },
  {
   "cell_type": "code",
   "execution_count": 32,
   "metadata": {
    "scrolled": true
   },
   "outputs": [
    {
     "data": {
      "text/plain": [
       "<matplotlib.legend.Legend at 0x161f0773f98>"
      ]
     },
     "execution_count": 32,
     "metadata": {},
     "output_type": "execute_result"
    },
    {
     "data": {
      "image/png": "[encoded data removed]",
      "text/plain": [
       "<Figure size 432x288 with 1 Axes>"
      ]
     },
     "metadata": {
      "needs_background": "light"
     },
     "output_type": "display_data"
    }
   ],
   "source": [
    "plt.plot(history.history['loss'])\n",
    "plt.plot(history.history['val_loss'])\n",
    "plt.title('model loss')\n",
    "plt.xlabel('epoch')\n",
    "plt.ylabel('loss')\n",
    "\n",
    "plt.legend(['train', 'validation'], loc= 'upper right')"
   ]
  },
  {
   "cell_type": "code",
   "execution_count": 33,
   "metadata": {},
   "outputs": [
    {
     "data": {
      "text/plain": [
       "<matplotlib.legend.Legend at 0x161f067bfd0>"
      ]
     },
     "execution_count": 33,
     "metadata": {},
     "output_type": "execute_result"
    },
    {
     "data": {
      "image/png": "[encoded data removed]",
      "text/plain": [
       "<Figure size 432x288 with 1 Axes>"
      ]
     },
     "metadata": {
      "needs_background": "light"
     },
     "output_type": "display_data"
    }
   ],
   "source": [
    "plt.plot(history.history['acc'])\n",
    "plt.plot(history.history['val_acc'])\n",
    "plt.title('model accuracy')\n",
    "plt.xlabel('epoch')\n",
    "plt.ylabel('accuracy')\n",
    "\n",
    "plt.legend(['train', 'validation'], loc= 'upper right')"
   ]
  },
  {
   "cell_type": "code",
   "execution_count": null,
   "metadata": {},
   "outputs": [],
   "source": []
  },
  {
   "cell_type": "markdown",
   "metadata": {},
   "source": [
    "### Testing with individual cases"
   ]
  },
  {
   "cell_type": "code",
   "execution_count": 36,
   "metadata": {},
   "outputs": [
    {
     "name": "stdout",
     "output_type": "stream",
     "text": [
      "(655, 11, 1.0)\n"
     ]
    }
   ],
   "source": [
    "testcase = testset[np.random.randint(len(testset))]\n",
    "print(testcase)"
   ]
  },
  {
   "cell_type": "markdown",
   "metadata": {},
   "source": [
    "• **With SVD**"
   ]
  },
  {
   "cell_type": "code",
   "execution_count": 37,
   "metadata": {},
   "outputs": [
    {
     "name": "stdout",
     "output_type": "stream",
     "text": [
      "user: 655        item: 11         r_ui = 0.00   est = 0.37   {'was_impossible': False}\n",
      "\n",
      "Predictions with SVD :\n",
      " user: 655        item: 11         r_ui = 0.00   est = 0.37   {'was_impossible': False}\n"
     ]
    }
   ],
   "source": [
    "# int(testcase[2]>1) ;  because testset contains labels 0 in original df as 1 & 1 as 2\n",
    "print('\\nPredictions with SVD :\\n', algo_svd.predict(testcase[0], testcase[1], int(testcase[2]>1), verbose=True))"
   ]
  },
  {
   "cell_type": "markdown",
   "metadata": {},
   "source": [
    "• **With SVD++** (Haven't retrained it for epochs=64)"
   ]
  },
  {
   "cell_type": "code",
   "execution_count": 54,
   "metadata": {
    "scrolled": true
   },
   "outputs": [
    {
     "name": "stdout",
     "output_type": "stream",
     "text": [
      "user: 716        item: 480        r_ui = 2.00   est = 0.97   {'was_impossible': False}\n",
      "\n",
      "Predictions with SVD++:\n",
      " user: 716        item: 480        r_ui = 2.00   est = 0.97   {'was_impossible': False}\n"
     ]
    }
   ],
   "source": [
    "print('\\nPredictions with SVD++:\\n', algo_svdpp.predict(testcase[0], testcase[1], testcase[2], verbose=True))"
   ]
  },
  {
   "cell_type": "markdown",
   "metadata": {},
   "source": [
    "• **With NN factorization**"
   ]
  },
  {
   "cell_type": "code",
   "execution_count": 38,
   "metadata": {},
   "outputs": [
    {
     "name": "stdout",
     "output_type": "stream",
     "text": [
      "NN input layers shape requirement:\n",
      "\n"
     ]
    },
    {
     "data": {
      "text/plain": [
       "[<tf.Tensor 'input_1:0' shape=(?, 944) dtype=float32>,\n",
       " <tf.Tensor 'input_2:0' shape=(?, 1683) dtype=float32>]"
      ]
     },
     "execution_count": 38,
     "metadata": {},
     "output_type": "execute_result"
    }
   ],
   "source": [
    "print('NN input layers shape requirement:\\n')\n",
    "model.input"
   ]
  },
  {
   "cell_type": "code",
   "execution_count": 39,
   "metadata": {
    "scrolled": true
   },
   "outputs": [
    {
     "name": "stdout",
     "output_type": "stream",
     "text": [
      "1/1 [==============================] - 0s 11ms/step\n",
      "\n",
      "Predictions with NN matrix factorization:\n",
      " [[0.32776472]]\n"
     ]
    }
   ],
   "source": [
    "u_id = to_categorical(testcase[0], num_classes=int(model.input[0].shape[1]))\n",
    "u_id= u_id.reshape((1,u_id.shape[0]))\n",
    "\n",
    "item_id = to_categorical(testcase[1], num_classes=int(model.input[1].shape[1]))\n",
    "item_id= item_id.reshape((1,item_id.shape[0]))\n",
    "\n",
    "print('\\nPredictions with NN matrix factorization:\\n', model.predict(x= [u_id, item_id], verbose=True))"
   ]
  },
  {
   "cell_type": "code",
   "execution_count": null,
   "metadata": {},
   "outputs": [],
   "source": []
  },
  {
   "cell_type": "markdown",
   "metadata": {},
   "source": [
    "### Latent vector visualizations\n",
    "* #### Latent vectors from NN factorization"
   ]
  },
  {
   "cell_type": "code",
   "execution_count": 40,
   "metadata": {
    "scrolled": false
   },
   "outputs": [
    {
     "name": "stdout",
     "output_type": "stream",
     "text": [
      "[[786.  66.   2.]\n",
      " [537.  44.   1.]\n",
      " [660. 208.   2.]\n",
      " [181. 619.   1.]\n",
      " [486. 257.   1.]]\n"
     ]
    }
   ],
   "source": [
    "#taking 100 datapoints from surprise testset to project similarity metric b/w latent vectors from NN_fact Vs. SVD\n",
    "testset_arr= np.asarray(testset[:150])\n",
    "print(testset_arr[:5])"
   ]
  },
  {
   "cell_type": "code",
   "execution_count": 41,
   "metadata": {},
   "outputs": [
    {
     "name": "stdout",
     "output_type": "stream",
     "text": [
      "shape of tset_user_nn: (150, 944)\n",
      "shape of tset_mov_nn: (150, 1683)\n"
     ]
    }
   ],
   "source": [
    "from keras.utils import to_categorical\n",
    "#converting inputs to sparse rep\n",
    "tset_user_nn = to_categorical(testset_arr[:,0], num_classes=int(model.input[0].shape[1]))\n",
    "tset_mov_nn = to_categorical(testset_arr[:,1], num_classes=int(model.input[1].shape[1]))\n",
    "print('shape of tset_user_nn: {}\\nshape of tset_mov_nn: {}'.format(tset_user_nn.shape, tset_mov_nn.shape))"
   ]
  },
  {
   "cell_type": "markdown",
   "metadata": {},
   "source": [
    "* Following are the **latent weight vectors for layer 'dense_1' and 'dense_2'**"
   ]
  },
  {
   "cell_type": "code",
   "execution_count": 42,
   "metadata": {},
   "outputs": [
    {
     "name": "stdout",
     "output_type": "stream",
     "text": [
      "shape of dense_1 layer weight vector: (944, 100)\n",
      "shape of dense_2 layer weight vectors: (1683, 100)\n"
     ]
    }
   ],
   "source": [
    "user_wt_vec = model.layers[2].get_weights()\n",
    "mov_wt_vec = model.layers[3].get_weights()\n",
    "\n",
    "print('shape of dense_1 layer weight vector: {}\\nshape of dense_2 layer weight vectors: {}'.format(user_wt_vec[0].shape, mov_wt_vec[0].shape))"
   ]
  },
  {
   "cell_type": "markdown",
   "metadata": {},
   "source": [
    "* Following are the **forward computed latent vectors** for 100 (ui, mi) pairs testcases-- which is a result of dot between **[test_user], [user_wt_vec]** and **[test_mov] & [mov_wt_vec]** from above two cells"
   ]
  },
  {
   "cell_type": "code",
   "execution_count": 43,
   "metadata": {},
   "outputs": [],
   "source": [
    "from keras import backend as K\n",
    "\n",
    "output_dense1 = K.function([model.layers[0].input], [model.layers[2].output])\n",
    "output_dense2 = K.function([model.layers[1].input], [model.layers[3].output])"
   ]
  },
  {
   "cell_type": "code",
   "execution_count": 44,
   "metadata": {
    "scrolled": true
   },
   "outputs": [
    {
     "name": "stdout",
     "output_type": "stream",
     "text": [
      "shape of latent output vectors from NN: (150, 100)\n"
     ]
    }
   ],
   "source": [
    "latent_vec_user_nn = output_dense1([tset_user_nn])\n",
    "latent_vec_mov_nn = output_dense2([tset_mov_nn])\n",
    "\n",
    "print('shape of latent output vectors from NN:', latent_vec_user_nn[0].shape)"
   ]
  },
  {
   "cell_type": "code",
   "execution_count": null,
   "metadata": {},
   "outputs": [],
   "source": []
  },
  {
   "cell_type": "markdown",
   "metadata": {},
   "source": [
    "* ### Latent vectors from SVD"
   ]
  },
  {
   "cell_type": "markdown",
   "metadata": {},
   "source": [
    "* pu = SVD's learned User vectors\n",
    "* qi = SVD's learned Item vectors"
   ]
  },
  {
   "cell_type": "code",
   "execution_count": 45,
   "metadata": {},
   "outputs": [
    {
     "name": "stdout",
     "output_type": "stream",
     "text": [
      "shape of internal user_factors vectors in svd: (943, 100)\n",
      "shape of internal item_factors vectors in svd: (1599, 100)\n"
     ]
    }
   ],
   "source": [
    "user_vec_svd = algo_svd.pu #pu: user factors\n",
    "item_vec_svd = algo_svd.qi# qi movie factors\n",
    "\n",
    "print('shape of internal user_factors vectors in svd: {}\\nshape of internal item_factors vectors in svd: {}'.format(user_vec_svd.shape, item_vec_svd.shape))"
   ]
  },
  {
   "cell_type": "code",
   "execution_count": 47,
   "metadata": {},
   "outputs": [
    {
     "name": "stdout",
     "output_type": "stream",
     "text": [
      "shape of tset_user_svd: (150, 943)\n",
      "shape of tset_mov_svd: (150, 1599)\n"
     ]
    }
   ],
   "source": [
    "tset_user_svd= to_categorical(testset_arr[:,0], num_classes=int(user_vec_svd.shape[0]))#testset_arr[:,0]\n",
    "tset_mov_svd= to_categorical(testset_arr[:,1], num_classes=int(item_vec_svd.shape[0]))\n",
    "\n",
    "print('shape of tset_user_svd: {}\\nshape of tset_mov_svd: {}'.format(tset_user_svd.shape, tset_mov_svd.shape))"
   ]
  },
  {
   "cell_type": "code",
   "execution_count": 48,
   "metadata": {},
   "outputs": [
    {
     "name": "stdout",
     "output_type": "stream",
     "text": [
      "shape of latent output vectors from SVD: (150, 100)\n"
     ]
    }
   ],
   "source": [
    "latent_vec_user_svd = np.dot(tset_user_svd, user_vec_svd)\n",
    "latent_vec_mov_svd = np.dot(tset_mov_svd, item_vec_svd)\n",
    "\n",
    "print('shape of latent output vectors from SVD:', latent_vec_user_svd.shape)"
   ]
  },
  {
   "cell_type": "markdown",
   "metadata": {},
   "source": [
    "* ### Obtaining Cosine similarity between:\n",
    "\n",
    "    1. latent user vectors from NN & SVD, i.e **[latent_vec_user_nn] & [latent_vec_user_svd]**\n",
    "    2. latent user vectors from NN & SVD, i.e **[latent_vec_mov_nn] & [latent_vec_mov_svd]**"
   ]
  },
  {
   "cell_type": "code",
   "execution_count": 49,
   "metadata": {
    "scrolled": true
   },
   "outputs": [
    {
     "name": "stdout",
     "output_type": "stream",
     "text": [
      "affirming the shapes: \n",
      "\n",
      "shape of latent_vec_user_nn: (150, 100) VS. Shape of latent_vec_user_svd: (150, 100) \n",
      "\n",
      "shape of latent_vec_mov_nn: (150, 100) VS. Shape of latent_vec_mov_svd: (150, 100) \n"
     ]
    }
   ],
   "source": [
    "print('affirming the shapes: \\n\\nshape of latent_vec_user_nn: {} VS. Shape of latent_vec_user_svd: {} \\n\\nshape of latent_vec_mov_nn: {} VS. Shape of latent_vec_mov_svd: {} '.format(\n",
    "    latent_vec_user_nn[0].shape, latent_vec_user_svd.shape, latent_vec_mov_nn[0].shape, latent_vec_mov_svd.shape ))"
   ]
  },
  {
   "cell_type": "code",
   "execution_count": 50,
   "metadata": {},
   "outputs": [
    {
     "name": "stdout",
     "output_type": "stream",
     "text": [
      "number of testset datapoints evaulated for similarity:  150\n"
     ]
    }
   ],
   "source": [
    "print('number of testset datapoints evaulated for similarity: ', testset_arr.shape[0])#test array vector used for latent rep."
   ]
  },
  {
   "cell_type": "code",
   "execution_count": 51,
   "metadata": {
    "scrolled": true
   },
   "outputs": [
    {
     "name": "stdout",
     "output_type": "stream",
     "text": [
      "Shape of sim_user_vec : (150,) \n",
      "Shape of sim_mov_vec: (150,)\n"
     ]
    }
   ],
   "source": [
    "from sklearn.metrics.pairwise import cosine_similarity\n",
    "\n",
    "sim_user_vec= list()\n",
    "sim_mov_vec= list()\n",
    "num_testcases= testset_arr.shape[0]#i.e.,150 datapoints\n",
    "#Following contains the vector of similarity value of representation from NN & SVD for 150 users, i.e.,\n",
    "# sim_user_vec[0]= [user_1 latent representation from NN Vs. user_1 latent representation from SVD]\n",
    "# sim_user_vec[1]= [user_2 latent representation from NN Vs. user_2 latent representation from SVD]\n",
    "\n",
    "\n",
    "for i in range(num_testcases):#for 150 testset cases\n",
    "    sim_user_vec.append(cosine_similarity(latent_vec_user_nn[0][i].reshape(1,-1), latent_vec_user_svd[i].reshape(1,-1)))\n",
    "    sim_mov_vec.append(cosine_similarity(latent_vec_mov_nn[0][i].reshape(1,-1), latent_vec_mov_svd[i].reshape(1,-1)))\n",
    "\n",
    "sim_user_vec= np.array(sim_user_vec).reshape(num_testcases)#converting to numpy array & reshaping to (150,)\n",
    "sim_mov_vec= np.array(sim_mov_vec).reshape(num_testcases)#converting to numpy array & reshaping to (150,)\n",
    "print('Shape of sim_user_vec : {} \\nShape of sim_mov_vec: {}'.format(sim_user_vec.shape, sim_mov_vec.shape))"
   ]
  },
  {
   "cell_type": "markdown",
   "metadata": {},
   "source": [
    "* ### Scatter-plot Visualizations"
   ]
  },
  {
   "cell_type": "code",
   "execution_count": 52,
   "metadata": {},
   "outputs": [],
   "source": [
    "import matplotlib.pyplot as plt\n",
    "\n",
    "d1 = (np.array(range(1, num_testcases+1)), sim_user_vec)#holds (user_id, corresponding_latent_user_vec_representation)\n",
    "d2 = (np.array(range(1, num_testcases+1)), sim_mov_vec)#holds (movie_id, corresponding_latent_movie_vec_representation)\n",
    "data = (d1, d2)\n",
    "colors = (\"red\", \"blue\")\n",
    "groups = (\"user_vec_similarity\", \"mov_vec_similarity\")"
   ]
  },
  {
   "cell_type": "markdown",
   "metadata": {},
   "source": [
    "* Solo User vector similarity plot"
   ]
  },
  {
   "cell_type": "code",
   "execution_count": 53,
   "metadata": {},
   "outputs": [
    {
     "data": {
      "image/png": "[encoded data removed]",
      "text/plain": [
       "<Figure size 432x288 with 1 Axes>"
      ]
     },
     "metadata": {
      "needs_background": "light"
     },
     "output_type": "display_data"
    }
   ],
   "source": [
    "fig = plt.figure()\n",
    "ax = fig.add_subplot(1, 1, 1)\n",
    "x,y =d1 #plotting only user_similary_vector\n",
    "ax.scatter(x, y, alpha=0.8, c=colors[0], edgecolors='none', s=30, label=groups[0])\n",
    "plt.title('Similarity b/w user latent vector represented in NN_fact Vs. SVD')\n",
    "plt.xlabel('x: user_ids')\n",
    "plt.ylabel('y: similarity metrics')\n",
    "plt.legend(loc=2)\n",
    "plt.show()"
   ]
  },
  {
   "cell_type": "markdown",
   "metadata": {},
   "source": [
    "* Solo movie vector similarity plot"
   ]
  },
  {
   "cell_type": "code",
   "execution_count": 54,
   "metadata": {},
   "outputs": [
    {
     "data": {
      "image/png": "[encoded data removed]",
      "text/plain": [
       "<Figure size 432x288 with 1 Axes>"
      ]
     },
     "metadata": {
      "needs_background": "light"
     },
     "output_type": "display_data"
    }
   ],
   "source": [
    "fig = plt.figure()\n",
    "ax = fig.add_subplot(1, 1, 1)\n",
    "x,y =d2 #plotting only movie_similary_vector\n",
    "ax.scatter(x, y, alpha=0.8, c=colors[1], edgecolors='none', s=30, label=groups[1])\n",
    "plt.title('Similarity b/w Movie latent vector represented in NN_fact Vs. SVD')\n",
    "plt.xlabel('x: user_ids')\n",
    "plt.ylabel('y: similarity metrics')\n",
    "plt.legend(loc=2)\n",
    "plt.show()"
   ]
  },
  {
   "cell_type": "markdown",
   "metadata": {},
   "source": [
    "* Combined User and Movie vector similarity plot"
   ]
  },
  {
   "cell_type": "code",
   "execution_count": 55,
   "metadata": {},
   "outputs": [
    {
     "data": {
      "image/png": "[encoded data removed]",
      "text/plain": [
       "<Figure size 432x288 with 1 Axes>"
      ]
     },
     "metadata": {
      "needs_background": "light"
     },
     "output_type": "display_data"
    }
   ],
   "source": [
    "data = (d1, d2)\n",
    "colors = (\"red\", \"blue\")\n",
    "groups = (\"user_vec_similarity\", \"mov_vec_similarity\")\n",
    "\n",
    "fig = plt.figure()\n",
    "ax = fig.add_subplot(1, 1, 1)#, axisbg=\"1.0\")\n",
    "\n",
    "for data, color, group in zip(data, colors, groups):\n",
    "    x,y = data\n",
    "    ax.scatter(x, y, alpha=0.8, c=color, edgecolors='none', s=30, label=group)\n",
    "\n",
    "plt.title('Similarity b/w Users & Movies latent vector represented in NN_fact Vs. SVD')\n",
    "plt.xlabel('x: user_ids')\n",
    "plt.ylabel('y: similarity metrics')\n",
    "plt.legend(loc=2)\n",
    "plt.show()"
   ]
  },
  {
   "cell_type": "markdown",
   "metadata": {},
   "source": [
    "* #### Therefore with 80k training datapoints & 20k validation datapoints after 64 epochs:\n",
    "    * MAE value with surprise SVD implementation: 0.2747\n",
    "    * MAE value with surprise SVD++ implementation: 0.3563\n",
    "    * MAE value after 40 epochs with matrix factorization with NN implementation: 0.3144\n",
    "    \n",
    "\n"
   ]
  },
  {
   "cell_type": "markdown",
   "metadata": {},
   "source": [
    "___________________"
   ]
  }
 ],
 "metadata": {
  "kernelspec": {
   "display_name": "Python 3",
   "language": "python",
   "name": "python3"
  },
  "language_info": {
   "codemirror_mode": {
    "name": "ipython",
    "version": 3
   },
   "file_extension": ".py",
   "mimetype": "text/x-python",
   "name": "python",
   "nbconvert_exporter": "python",
   "pygments_lexer": "ipython3",
   "version": "3.6.7"
  }
 },
 "nbformat": 4,
 "nbformat_minor": 2
}
