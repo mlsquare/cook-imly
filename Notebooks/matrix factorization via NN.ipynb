{
 "cells": [
  {
   "cell_type": "markdown",
   "metadata": {},
   "source": [
    "### Matrix factorization via NN, contrasting MAE with surpriselib's baseline algos SVD, SVD++"
   ]
  },
  {
   "cell_type": "code",
   "execution_count": 1,
   "metadata": {},
   "outputs": [],
   "source": [
    "import os\n",
    "import numpy as np\n",
    "import pandas as pd\n",
    "\n",
    "\n",
    "data_path = os.path.expanduser('C:\\\\Users\\\\might\\\\Desktop\\\\jupyter notebooks\\\\u.data')"
   ]
  },
  {
   "cell_type": "markdown",
   "metadata": {},
   "source": [
    "* #### original df containing all 100k data points"
   ]
  },
  {
   "cell_type": "code",
   "execution_count": 2,
   "metadata": {
    "scrolled": false
   },
   "outputs": [
    {
     "data": {
      "text/html": [
       "<div>\n",
       "<style scoped>\n",
       "    .dataframe tbody tr th:only-of-type {\n",
       "        vertical-align: middle;\n",
       "    }\n",
       "\n",
       "    .dataframe tbody tr th {\n",
       "        vertical-align: top;\n",
       "    }\n",
       "\n",
       "    .dataframe thead th {\n",
       "        text-align: right;\n",
       "    }\n",
       "</style>\n",
       "<table border=\"1\" class=\"dataframe\">\n",
       "  <thead>\n",
       "    <tr style=\"text-align: right;\">\n",
       "      <th></th>\n",
       "      <th>0</th>\n",
       "      <th>1</th>\n",
       "      <th>2</th>\n",
       "      <th>3</th>\n",
       "    </tr>\n",
       "  </thead>\n",
       "  <tbody>\n",
       "    <tr>\n",
       "      <th>0</th>\n",
       "      <td>196</td>\n",
       "      <td>242</td>\n",
       "      <td>0</td>\n",
       "      <td>881250949</td>\n",
       "    </tr>\n",
       "    <tr>\n",
       "      <th>1</th>\n",
       "      <td>186</td>\n",
       "      <td>302</td>\n",
       "      <td>0</td>\n",
       "      <td>891717742</td>\n",
       "    </tr>\n",
       "    <tr>\n",
       "      <th>2</th>\n",
       "      <td>22</td>\n",
       "      <td>377</td>\n",
       "      <td>0</td>\n",
       "      <td>878887116</td>\n",
       "    </tr>\n",
       "    <tr>\n",
       "      <th>3</th>\n",
       "      <td>244</td>\n",
       "      <td>51</td>\n",
       "      <td>0</td>\n",
       "      <td>880606923</td>\n",
       "    </tr>\n",
       "    <tr>\n",
       "      <th>4</th>\n",
       "      <td>166</td>\n",
       "      <td>346</td>\n",
       "      <td>0</td>\n",
       "      <td>886397596</td>\n",
       "    </tr>\n",
       "  </tbody>\n",
       "</table>\n",
       "</div>"
      ],
      "text/plain": [
       "     0    1  2          3\n",
       "0  196  242  0  881250949\n",
       "1  186  302  0  891717742\n",
       "2   22  377  0  878887116\n",
       "3  244   51  0  880606923\n",
       "4  166  346  0  886397596"
      ]
     },
     "execution_count": 2,
     "metadata": {},
     "output_type": "execute_result"
    }
   ],
   "source": [
    "df = pd.read_csv(data_path, sep='\\t', header=None)\n",
    "df[2]= df[2].apply(lambda x: int(x>3))#since in df, no. vals holding 1 ratings:6110, 2 ratings:11370, 3 ratings:27145, 4 ratings:34174, 5 ratings: 21201 \n",
    "df.head(5)#Therefore all ratings(55375) of 4,5 squished to 1 & all ratings(44625) of 1,2,3 are squished to 0"
   ]
  },
  {
   "cell_type": "code",
   "execution_count": 3,
   "metadata": {},
   "outputs": [
    {
     "name": "stdout",
     "output_type": "stream",
     "text": [
      "shape of dataset: (100000, 4)\n"
     ]
    }
   ],
   "source": [
    "shuffled_df = df.loc[np.random.randint(0, 100000, size=df.shape[0])]\n",
    "\n",
    "#sm_train_df = shuffled_df[:80000]#small dataframe, trimming data points to random 2000 datapoints\n",
    "#test_df= shuffled_df[-20000:]\n",
    "\n",
    "#print('new trimmed dataset:', sm_train_df.shape, '\\nnew test dataset:', test_df.shape)\n",
    "print('shape of dataset:', shuffled_df.shape)"
   ]
  },
  {
   "cell_type": "markdown",
   "metadata": {},
   "source": []
  },
  {
   "cell_type": "markdown",
   "metadata": {},
   "source": [
    "* ### Training & testing results with SVD from surpriselib\n",
    "    * Using same dataframes for all three\n",
    "    * n_factors= 100, epochs= 64"
   ]
  },
  {
   "cell_type": "code",
   "execution_count": 4,
   "metadata": {
    "scrolled": true
   },
   "outputs": [],
   "source": [
    "from surprise import SVD\n",
    "from surprise import Dataset\n",
    "from surprise import Reader\n",
    "\n",
    "from surprise.model_selection import train_test_split\n",
    "\n",
    "rdr = Reader(rating_scale=(0,1))\n",
    "#train_data = Dataset.load_from_df(sm_train_df[[0,1,2]], reader= rdr)\n",
    "data = Dataset.load_from_df(shuffled_df[[0,1,2]], reader= rdr)\n",
    "\n",
    "#trainset = train_data.build_full_trainset()#contains 80k data points\n",
    "\n",
    "trainset, testset = train_test_split(data, test_size=0.2)\n",
    "#both trainset & testset have their ratings value swapped from 1 in place of 0; and 2 in place of 1\n",
    "\n",
    "#test_data= Dataset.load_from_df(test_df[[0,1,2]], reader= rdr)\n",
    "#testset = test_data.build_full_trainset().build_testset()#testset for surprise.SVD"
   ]
  },
  {
   "cell_type": "code",
   "execution_count": 5,
   "metadata": {},
   "outputs": [
    {
     "name": "stdout",
     "output_type": "stream",
     "text": [
      "training time: 11.659840106964111\n"
     ]
    }
   ],
   "source": [
    "from surprise import accuracy\n",
    "import time\n",
    "\n",
    "t1= time.time()\n",
    "\n",
    "algo_svd = SVD(n_factors=100, n_epochs=64)\n",
    "\n",
    "algo_svd.fit(trainset)\n",
    "\n",
    "print('training time:', time.time()-t1)"
   ]
  },
  {
   "cell_type": "code",
   "execution_count": 6,
   "metadata": {},
   "outputs": [
    {
     "name": "stdout",
     "output_type": "stream",
     "text": [
      "RMSE: 0.3499\n",
      "MAE:  0.2746\n",
      "\n",
      "Test results on 80k training data & 20k test data -- rmse: 0.3499370411018288, mae: 0.27458158216217327\n"
     ]
    }
   ],
   "source": [
    "pred = algo_svd.test(testset)\n",
    "\n",
    "print('\\nTest results on 80k training data & 20k test data -- rmse: {}, mae: {}'.format(accuracy.rmse(pred), accuracy.mae(pred)))"
   ]
  },
  {
   "cell_type": "markdown",
   "metadata": {},
   "source": []
  },
  {
   "cell_type": "markdown",
   "metadata": {},
   "source": [
    "* #### ROC Curve"
   ]
  },
  {
   "cell_type": "code",
   "execution_count": 7,
   "metadata": {},
   "outputs": [
    {
     "data": {
      "text/html": [
       "<div>\n",
       "<style scoped>\n",
       "    .dataframe tbody tr th:only-of-type {\n",
       "        vertical-align: middle;\n",
       "    }\n",
       "\n",
       "    .dataframe tbody tr th {\n",
       "        vertical-align: top;\n",
       "    }\n",
       "\n",
       "    .dataframe thead th {\n",
       "        text-align: right;\n",
       "    }\n",
       "</style>\n",
       "<table border=\"1\" class=\"dataframe\">\n",
       "  <thead>\n",
       "    <tr style=\"text-align: right;\">\n",
       "      <th></th>\n",
       "      <th>uid</th>\n",
       "      <th>iid</th>\n",
       "      <th>r_ui</th>\n",
       "      <th>est</th>\n",
       "      <th>details</th>\n",
       "    </tr>\n",
       "  </thead>\n",
       "  <tbody>\n",
       "    <tr>\n",
       "      <th>0</th>\n",
       "      <td>861</td>\n",
       "      <td>242</td>\n",
       "      <td>1.0</td>\n",
       "      <td>0.742607</td>\n",
       "      <td>{'was_impossible': False}</td>\n",
       "    </tr>\n",
       "    <tr>\n",
       "      <th>1</th>\n",
       "      <td>427</td>\n",
       "      <td>341</td>\n",
       "      <td>1.0</td>\n",
       "      <td>0.913864</td>\n",
       "      <td>{'was_impossible': False}</td>\n",
       "    </tr>\n",
       "    <tr>\n",
       "      <th>2</th>\n",
       "      <td>417</td>\n",
       "      <td>90</td>\n",
       "      <td>0.0</td>\n",
       "      <td>0.218887</td>\n",
       "      <td>{'was_impossible': False}</td>\n",
       "    </tr>\n",
       "    <tr>\n",
       "      <th>3</th>\n",
       "      <td>786</td>\n",
       "      <td>50</td>\n",
       "      <td>1.0</td>\n",
       "      <td>1.000000</td>\n",
       "      <td>{'was_impossible': False}</td>\n",
       "    </tr>\n",
       "    <tr>\n",
       "      <th>4</th>\n",
       "      <td>346</td>\n",
       "      <td>455</td>\n",
       "      <td>0.0</td>\n",
       "      <td>0.205712</td>\n",
       "      <td>{'was_impossible': False}</td>\n",
       "    </tr>\n",
       "    <tr>\n",
       "      <th>5</th>\n",
       "      <td>487</td>\n",
       "      <td>94</td>\n",
       "      <td>0.0</td>\n",
       "      <td>0.358730</td>\n",
       "      <td>{'was_impossible': False}</td>\n",
       "    </tr>\n",
       "    <tr>\n",
       "      <th>6</th>\n",
       "      <td>277</td>\n",
       "      <td>100</td>\n",
       "      <td>1.0</td>\n",
       "      <td>0.812796</td>\n",
       "      <td>{'was_impossible': False}</td>\n",
       "    </tr>\n",
       "  </tbody>\n",
       "</table>\n",
       "</div>"
      ],
      "text/plain": [
       "   uid  iid  r_ui       est                    details\n",
       "0  861  242   1.0  0.742607  {'was_impossible': False}\n",
       "1  427  341   1.0  0.913864  {'was_impossible': False}\n",
       "2  417   90   0.0  0.218887  {'was_impossible': False}\n",
       "3  786   50   1.0  1.000000  {'was_impossible': False}\n",
       "4  346  455   0.0  0.205712  {'was_impossible': False}\n",
       "5  487   94   0.0  0.358730  {'was_impossible': False}\n",
       "6  277  100   1.0  0.812796  {'was_impossible': False}"
      ]
     },
     "execution_count": 7,
     "metadata": {},
     "output_type": "execute_result"
    }
   ],
   "source": [
    "pred_arr= pd.DataFrame(pred)\n",
    "pred_arr.head(7)"
   ]
  },
  {
   "cell_type": "code",
   "execution_count": 8,
   "metadata": {},
   "outputs": [],
   "source": [
    "y_true = np.array(pred_arr['r_ui'])\n",
    "y_scores = np.array(pred_arr['est'])"
   ]
  },
  {
   "cell_type": "code",
   "execution_count": 11,
   "metadata": {},
   "outputs": [],
   "source": [
    "import matplotlib.pyplot as plt\n",
    "from sklearn.metrics import roc_curve, auc\n",
    "\n",
    "\n",
    "fpr, tpr, thresholds = roc_curve(y_true, y_scores, pos_label=1)\n",
    "roc_auc= auc(fpr, tpr)"
   ]
  },
  {
   "cell_type": "code",
   "execution_count": 12,
   "metadata": {},
   "outputs": [
    {
     "data": {
      "image/png": "[encoded data removed]",
      "text/plain": [
       "<Figure size 432x288 with 1 Axes>"
      ]
     },
     "metadata": {
      "needs_background": "light"
     },
     "output_type": "display_data"
    }
   ],
   "source": [
    "plt.figure()\n",
    "lw = 2\n",
    "plt.plot(fpr, tpr, color='darkorange',\n",
    "         lw=lw, label='ROC curve (area = %0.2f)' % roc_auc)\n",
    "plt.plot([0, 1], [0, 1], color='navy', lw=lw, linestyle='--')\n",
    "plt.xlim([0.0, 1.0])\n",
    "plt.ylim([0.0, 1.05])\n",
    "plt.xlabel('False Positive Rate')\n",
    "plt.ylabel('True Positive Rate')\n",
    "plt.title('Receiver operating characteristic example')\n",
    "plt.legend(loc=\"lower right\")\n",
    "plt.show()"
   ]
  },
  {
   "cell_type": "markdown",
   "metadata": {},
   "source": [
    "* #### Precision-Recall Curve"
   ]
  },
  {
   "cell_type": "code",
   "execution_count": 13,
   "metadata": {},
   "outputs": [],
   "source": [
    "from sklearn.metrics import precision_recall_curve\n",
    "\n",
    "precision, recall, thresholds = precision_recall_curve(y_true, y_scores, pos_label=1)\n"
   ]
  },
  {
   "cell_type": "code",
   "execution_count": 14,
   "metadata": {},
   "outputs": [
    {
     "name": "stdout",
     "output_type": "stream",
     "text": [
      "Average precision-recall score: 0.91\n"
     ]
    }
   ],
   "source": [
    "from inspect import signature\n",
    "\n",
    "from sklearn.metrics import average_precision_score\n",
    "\n",
    "avg_precision = average_precision_score(y_true, y_scores)\n",
    "\n",
    "print('Average precision-recall score: {0:0.2f}'.format(avg_precision))"
   ]
  },
  {
   "cell_type": "code",
   "execution_count": 15,
   "metadata": {},
   "outputs": [
    {
     "data": {
      "text/plain": [
       "Text(0.5, 1.0, 'User-Movie-rating Precision-Recall curve: AP=0.91')"
      ]
     },
     "execution_count": 15,
     "metadata": {},
     "output_type": "execute_result"
    },
    {
     "data": {
      "image/png": "[encoded data removed]",
      "text/plain": [
       "<Figure size 432x288 with 1 Axes>"
      ]
     },
     "metadata": {
      "needs_background": "light"
     },
     "output_type": "display_data"
    }
   ],
   "source": [
    "step_kwargs = ({'step': 'post'}\n",
    "               if 'step' in signature(plt.fill_between).parameters\n",
    "               else {})\n",
    "\n",
    "plt.step(recall, precision, color='b', alpha=0.2, where='post')\n",
    "plt.fill_between(recall, precision, alpha=0.2, color='b', **step_kwargs)\n",
    "\n",
    "plt.xlabel('Recall')\n",
    "plt.ylabel('Precision')\n",
    "plt.ylim([0.0, 1.05])\n",
    "plt.xlim([0.0, 1.0])\n",
    "\n",
    "plt.title('User-Movie-rating Precision-Recall curve: AP={0:0.2f}'.format(avg_precision))"
   ]
  },
  {
   "cell_type": "code",
   "execution_count": null,
   "metadata": {},
   "outputs": [],
   "source": []
  },
  {
   "cell_type": "markdown",
   "metadata": {},
   "source": [
    "* #### Creating confusion matrix"
   ]
  },
  {
   "cell_type": "code",
   "execution_count": 16,
   "metadata": {
    "scrolled": true
   },
   "outputs": [
    {
     "data": {
      "text/html": [
       "<div>\n",
       "<style scoped>\n",
       "    .dataframe tbody tr th:only-of-type {\n",
       "        vertical-align: middle;\n",
       "    }\n",
       "\n",
       "    .dataframe tbody tr th {\n",
       "        vertical-align: top;\n",
       "    }\n",
       "\n",
       "    .dataframe thead th {\n",
       "        text-align: right;\n",
       "    }\n",
       "</style>\n",
       "<table border=\"1\" class=\"dataframe\">\n",
       "  <thead>\n",
       "    <tr style=\"text-align: right;\">\n",
       "      <th></th>\n",
       "      <th>uid</th>\n",
       "      <th>iid</th>\n",
       "      <th>r_ui</th>\n",
       "      <th>est</th>\n",
       "      <th>details</th>\n",
       "    </tr>\n",
       "  </thead>\n",
       "  <tbody>\n",
       "    <tr>\n",
       "      <th>0</th>\n",
       "      <td>861</td>\n",
       "      <td>242</td>\n",
       "      <td>1.0</td>\n",
       "      <td>1.0</td>\n",
       "      <td>{'was_impossible': False}</td>\n",
       "    </tr>\n",
       "    <tr>\n",
       "      <th>1</th>\n",
       "      <td>427</td>\n",
       "      <td>341</td>\n",
       "      <td>1.0</td>\n",
       "      <td>1.0</td>\n",
       "      <td>{'was_impossible': False}</td>\n",
       "    </tr>\n",
       "    <tr>\n",
       "      <th>2</th>\n",
       "      <td>417</td>\n",
       "      <td>90</td>\n",
       "      <td>0.0</td>\n",
       "      <td>0.0</td>\n",
       "      <td>{'was_impossible': False}</td>\n",
       "    </tr>\n",
       "    <tr>\n",
       "      <th>3</th>\n",
       "      <td>786</td>\n",
       "      <td>50</td>\n",
       "      <td>1.0</td>\n",
       "      <td>1.0</td>\n",
       "      <td>{'was_impossible': False}</td>\n",
       "    </tr>\n",
       "    <tr>\n",
       "      <th>4</th>\n",
       "      <td>346</td>\n",
       "      <td>455</td>\n",
       "      <td>0.0</td>\n",
       "      <td>0.0</td>\n",
       "      <td>{'was_impossible': False}</td>\n",
       "    </tr>\n",
       "    <tr>\n",
       "      <th>5</th>\n",
       "      <td>487</td>\n",
       "      <td>94</td>\n",
       "      <td>0.0</td>\n",
       "      <td>0.0</td>\n",
       "      <td>{'was_impossible': False}</td>\n",
       "    </tr>\n",
       "    <tr>\n",
       "      <th>6</th>\n",
       "      <td>277</td>\n",
       "      <td>100</td>\n",
       "      <td>1.0</td>\n",
       "      <td>1.0</td>\n",
       "      <td>{'was_impossible': False}</td>\n",
       "    </tr>\n",
       "  </tbody>\n",
       "</table>\n",
       "</div>"
      ],
      "text/plain": [
       "   uid  iid  r_ui  est                    details\n",
       "0  861  242   1.0  1.0  {'was_impossible': False}\n",
       "1  427  341   1.0  1.0  {'was_impossible': False}\n",
       "2  417   90   0.0  0.0  {'was_impossible': False}\n",
       "3  786   50   1.0  1.0  {'was_impossible': False}\n",
       "4  346  455   0.0  0.0  {'was_impossible': False}\n",
       "5  487   94   0.0  0.0  {'was_impossible': False}\n",
       "6  277  100   1.0  1.0  {'was_impossible': False}"
      ]
     },
     "execution_count": 16,
     "metadata": {},
     "output_type": "execute_result"
    }
   ],
   "source": [
    "pred_arr['est']= pred_arr['est'].apply(lambda x:float(round(x)))\n",
    "pred_arr.head(7)"
   ]
  },
  {
   "cell_type": "code",
   "execution_count": 18,
   "metadata": {
    "scrolled": true
   },
   "outputs": [
    {
     "data": {
      "text/plain": [
       "9780"
      ]
     },
     "execution_count": 18,
     "metadata": {},
     "output_type": "execute_result"
    }
   ],
   "source": [
    "pred_arr= np.asarray(pred_arr)\n",
    "np.intersect1d(np.where(pred_arr[:, 2]==1), np.where(pred_arr[:, 3]==1)).shape[0]"
   ]
  },
  {
   "cell_type": "code",
   "execution_count": 19,
   "metadata": {},
   "outputs": [
    {
     "data": {
      "text/plain": [
       "7132"
      ]
     },
     "execution_count": 19,
     "metadata": {},
     "output_type": "execute_result"
    }
   ],
   "source": [
    "np.intersect1d(np.where(pred_arr[:, 2]==0), np.where(pred_arr[:, 3]==0)).shape[0]"
   ]
  },
  {
   "cell_type": "code",
   "execution_count": 20,
   "metadata": {},
   "outputs": [
    {
     "data": {
      "text/plain": [
       "1364"
      ]
     },
     "execution_count": 20,
     "metadata": {},
     "output_type": "execute_result"
    }
   ],
   "source": [
    "np.intersect1d(np.where(pred_arr[:, 2]==1), np.where(pred_arr[:, 3]==0)).shape[0]"
   ]
  },
  {
   "cell_type": "code",
   "execution_count": 21,
   "metadata": {},
   "outputs": [
    {
     "data": {
      "text/plain": [
       "1724"
      ]
     },
     "execution_count": 21,
     "metadata": {},
     "output_type": "execute_result"
    }
   ],
   "source": [
    "np.intersect1d(np.where(pred_arr[:, 2]==0), np.where(pred_arr[:, 3]==1)).shape[0]"
   ]
  },
  {
   "cell_type": "code",
   "execution_count": null,
   "metadata": {},
   "outputs": [],
   "source": []
  },
  {
   "cell_type": "code",
   "execution_count": 22,
   "metadata": {},
   "outputs": [],
   "source": [
    "def confusion_matrix(pred):\n",
    "    pred_arr= pd.DataFrame(pred)\n",
    "    pred_arr['est']= pred_arr['est'].apply(lambda x:float(round(x)))#changing prediction values to just 0s & 1s\n",
    "    pred_arr= np.asarray(pred_arr)[:,:4]#contains first 4 cols of pred array, removing timestamp\n",
    "    \n",
    "    conf_df = pd.DataFrame(index=['True rating 1', 'True rating 0'], columns=['Estimated rating 1', 'Estimated rating 0'])\n",
    "    \n",
    "    conf_df['Estimated rating 1']['True rating 1']= np.intersect1d(np.where(pred_arr[:, 2]==1), np.where(pred_arr[:, 3]==1)).shape[0]#True Positives, 9526\n",
    "    conf_df['Estimated rating 0']['True rating 0']= np.intersect1d(np.where(pred_arr[:, 2]==0), np.where(pred_arr[:, 3]==0)).shape[0]#True Negatives, 6822\n",
    "    conf_df['Estimated rating 0']['True rating 1']= np.intersect1d(np.where(pred_arr[:, 2]==1), np.where(pred_arr[:, 3]==0)).shape[0]#False Negatives, 1470\n",
    "    conf_df['Estimated rating 1']['True rating 0']= np.intersect1d(np.where(pred_arr[:, 2]==0), np.where(pred_arr[:, 3]==1)).shape[0]#False Positives, 2182\n",
    "    \n",
    "    return np.asarray(conf_df), conf_df"
   ]
  },
  {
   "cell_type": "code",
   "execution_count": 24,
   "metadata": {},
   "outputs": [
    {
     "data": {
      "text/html": [
       "<div>\n",
       "<style scoped>\n",
       "    .dataframe tbody tr th:only-of-type {\n",
       "        vertical-align: middle;\n",
       "    }\n",
       "\n",
       "    .dataframe tbody tr th {\n",
       "        vertical-align: top;\n",
       "    }\n",
       "\n",
       "    .dataframe thead th {\n",
       "        text-align: right;\n",
       "    }\n",
       "</style>\n",
       "<table border=\"1\" class=\"dataframe\">\n",
       "  <thead>\n",
       "    <tr style=\"text-align: right;\">\n",
       "      <th></th>\n",
       "      <th>Estimated rating 1</th>\n",
       "      <th>Estimated rating 0</th>\n",
       "    </tr>\n",
       "  </thead>\n",
       "  <tbody>\n",
       "    <tr>\n",
       "      <th>True rating 1</th>\n",
       "      <td>9780</td>\n",
       "      <td>1364</td>\n",
       "    </tr>\n",
       "    <tr>\n",
       "      <th>True rating 0</th>\n",
       "      <td>1724</td>\n",
       "      <td>7132</td>\n",
       "    </tr>\n",
       "  </tbody>\n",
       "</table>\n",
       "</div>"
      ],
      "text/plain": [
       "              Estimated rating 1 Estimated rating 0\n",
       "True rating 1               9780               1364\n",
       "True rating 0               1724               7132"
      ]
     },
     "execution_count": 24,
     "metadata": {},
     "output_type": "execute_result"
    }
   ],
   "source": [
    "confusion_mat, confusion_df = confusion_matrix(pred)\n",
    "confusion_df"
   ]
  },
  {
   "cell_type": "code",
   "execution_count": 25,
   "metadata": {
    "scrolled": true
   },
   "outputs": [
    {
     "name": "stdout",
     "output_type": "stream",
     "text": [
      "[[9780 1364]\n",
      " [1724 7132]]\n"
     ]
    }
   ],
   "source": [
    "print(confusion_mat)"
   ]
  },
  {
   "cell_type": "code",
   "execution_count": null,
   "metadata": {},
   "outputs": [],
   "source": []
  },
  {
   "cell_type": "markdown",
   "metadata": {},
   "source": []
  },
  {
   "cell_type": "markdown",
   "metadata": {},
   "source": [
    "* ### Training & testing results with SVD++ from surpirselib\n",
    "    * Using same dataframes for both\n",
    "    * n_factors= 100, epochs= 40"
   ]
  },
  {
   "cell_type": "code",
   "execution_count": 46,
   "metadata": {},
   "outputs": [
    {
     "name": "stdout",
     "output_type": "stream",
     "text": [
      "training time: 775.9093706607819\n"
     ]
    }
   ],
   "source": [
    "from surprise import SVDpp\n",
    "\n",
    "t1= time.time()\n",
    "\n",
    "algo_svdpp = SVDpp(n_factors=100, n_epochs=40)\n",
    "\n",
    "algo_svdpp.fit(trainset)\n",
    "\n",
    "print('training time:', time.time()-t1)\n"
   ]
  },
  {
   "cell_type": "code",
   "execution_count": 47,
   "metadata": {},
   "outputs": [
    {
     "name": "stdout",
     "output_type": "stream",
     "text": [
      "RMSE: 0.3543\n",
      "MAE:  0.2791\n",
      "\n",
      "Test results on 80k training data & 20k test data -- rmse:0.35433296400534825, mae:0.2791093764734291\n"
     ]
    }
   ],
   "source": [
    "pred = algo_svdpp.test(testset)\n",
    "\n",
    "print('\\nTest results on 80k training data & 20k test data -- rmse:{}, mae:{}'.format(accuracy.rmse(pred), accuracy.mae(pred)))"
   ]
  },
  {
   "cell_type": "code",
   "execution_count": null,
   "metadata": {},
   "outputs": [],
   "source": []
  },
  {
   "cell_type": "markdown",
   "metadata": {},
   "source": [
    "* ### Training & testing results with matrix factorization implemented with NN\n",
    "    * Using same dataframes as above\n",
    "    * Latent vector (k) size : 100, epochs =64"
   ]
  },
  {
   "cell_type": "code",
   "execution_count": 26,
   "metadata": {},
   "outputs": [
    {
     "name": "stdout",
     "output_type": "stream",
     "text": [
      "shape of dataset: (100000, 4)\n"
     ]
    }
   ],
   "source": [
    "#print('new trimmed dataset:', sm_train_df.shape, '\\nnew test dataset:', test_df.shape)\n",
    "\n",
    "print('shape of dataset:', shuffled_df.shape)"
   ]
  },
  {
   "cell_type": "code",
   "execution_count": 27,
   "metadata": {
    "scrolled": true
   },
   "outputs": [
    {
     "data": {
      "text/html": [
       "<div>\n",
       "<style scoped>\n",
       "    .dataframe tbody tr th:only-of-type {\n",
       "        vertical-align: middle;\n",
       "    }\n",
       "\n",
       "    .dataframe tbody tr th {\n",
       "        vertical-align: top;\n",
       "    }\n",
       "\n",
       "    .dataframe thead th {\n",
       "        text-align: right;\n",
       "    }\n",
       "</style>\n",
       "<table border=\"1\" class=\"dataframe\">\n",
       "  <thead>\n",
       "    <tr style=\"text-align: right;\">\n",
       "      <th></th>\n",
       "      <th>0</th>\n",
       "      <th>1</th>\n",
       "      <th>2</th>\n",
       "      <th>3</th>\n",
       "    </tr>\n",
       "  </thead>\n",
       "  <tbody>\n",
       "    <tr>\n",
       "      <th>54580</th>\n",
       "      <td>806</td>\n",
       "      <td>407</td>\n",
       "      <td>0</td>\n",
       "      <td>882386125</td>\n",
       "    </tr>\n",
       "    <tr>\n",
       "      <th>53189</th>\n",
       "      <td>614</td>\n",
       "      <td>147</td>\n",
       "      <td>1</td>\n",
       "      <td>879464332</td>\n",
       "    </tr>\n",
       "    <tr>\n",
       "      <th>46398</th>\n",
       "      <td>524</td>\n",
       "      <td>513</td>\n",
       "      <td>1</td>\n",
       "      <td>884634938</td>\n",
       "    </tr>\n",
       "    <tr>\n",
       "      <th>49861</th>\n",
       "      <td>153</td>\n",
       "      <td>172</td>\n",
       "      <td>0</td>\n",
       "      <td>881371140</td>\n",
       "    </tr>\n",
       "    <tr>\n",
       "      <th>82835</th>\n",
       "      <td>684</td>\n",
       "      <td>381</td>\n",
       "      <td>0</td>\n",
       "      <td>878762033</td>\n",
       "    </tr>\n",
       "  </tbody>\n",
       "</table>\n",
       "</div>"
      ],
      "text/plain": [
       "         0    1  2          3\n",
       "54580  806  407  0  882386125\n",
       "53189  614  147  1  879464332\n",
       "46398  524  513  1  884634938\n",
       "49861  153  172  0  881371140\n",
       "82835  684  381  0  878762033"
      ]
     },
     "execution_count": 27,
     "metadata": {},
     "output_type": "execute_result"
    }
   ],
   "source": [
    "shuffled_df.head(5)"
   ]
  },
  {
   "cell_type": "code",
   "execution_count": 28,
   "metadata": {},
   "outputs": [
    {
     "name": "stdout",
     "output_type": "stream",
     "text": [
      "max value of user id: 943 \n",
      "max value of movie id: 1682 \n",
      "Therefore concatenated shape of input layer: (2625,)\n"
     ]
    }
   ],
   "source": [
    "print('max value of user id:', max(shuffled_df[0]),'\\nmax value of movie id:', max(shuffled_df[1]),'\\nTherefore concatenated shape of input layer:',(max(shuffled_df[0])+max(shuffled_df[1]),))"
   ]
  },
  {
   "cell_type": "code",
   "execution_count": 29,
   "metadata": {
    "scrolled": true
   },
   "outputs": [
    {
     "name": "stderr",
     "output_type": "stream",
     "text": [
      "Using TensorFlow backend.\n"
     ]
    }
   ],
   "source": [
    "import keras\n",
    "from keras.models import Model\n",
    "from keras.layers import Input, Dense\n",
    "from keras import metrics\n",
    "from keras.utils import to_categorical"
   ]
  },
  {
   "cell_type": "code",
   "execution_count": 30,
   "metadata": {},
   "outputs": [
    {
     "name": "stdout",
     "output_type": "stream",
     "text": [
      "shape of x_train_user_in: (100000, 944) \n",
      "shape of x_train_movie_in: (100000, 1683) \n",
      "shape of x_train_user_in: (100000,)\n"
     ]
    }
   ],
   "source": [
    "x_train_user_in = to_categorical(shuffled_df[0])#contains the one-hot encoded user_id data, shaped (batch_size, max(sm_df[0]))\n",
    "x_train_movie_in = to_categorical(shuffled_df[1])#contains the one-hot encoded movie_id data, shaped (batch_size, max(sm_df[1]))\n",
    "\n",
    "y_ratings= shuffled_df[2]\n",
    "print('shape of x_train_user_in:', x_train_user_in.shape,'\\nshape of x_train_movie_in:', x_train_movie_in.shape,\n",
    "      '\\nshape of x_train_user_in:',y_ratings.shape)"
   ]
  },
  {
   "cell_type": "code",
   "execution_count": 31,
   "metadata": {},
   "outputs": [],
   "source": [
    "user_in_layer = Input(shape=(max(shuffled_df[0])+1,))#top half of input layer,+1 to accomodate on-hot encoded vectors\n",
    "movie_in_layer = Input(shape=(max(shuffled_df[1])+1,))#bottom half of input layer\n",
    "\n",
    "#total input moves as concatenated user_id & movie_id one-hot encoded forms\n",
    "\n",
    "hid_layer_u = Dense(100)(user_in_layer)#latent dimension k=100 for user_id #_Embedding(100, )\n",
    "hid_layer_m= Dense(100)(movie_in_layer)#latent dimension k=100 for movie_id\n",
    "\n",
    "merge_layer = keras.layers.dot([hid_layer_u, hid_layer_m], axes=1)\n",
    "\n",
    "\n",
    "\n",
    "predictions = Dense(1, activation='sigmoid')(merge_layer)\n",
    "\n",
    "model = Model(inputs=[user_in_layer, movie_in_layer], outputs= predictions)\n",
    "\n",
    "model.compile(loss= 'binary_crossentropy', optimizer='sgd', metrics= ['mae', 'accuracy'])"
   ]
  },
  {
   "cell_type": "code",
   "execution_count": 32,
   "metadata": {},
   "outputs": [
    {
     "name": "stdout",
     "output_type": "stream",
     "text": [
      "__________________________________________________________________________________________________\n",
      "Layer (type)                    Output Shape         Param #     Connected to                     \n",
      "==================================================================================================\n",
      "input_1 (InputLayer)            (None, 944)          0                                            \n",
      "__________________________________________________________________________________________________\n",
      "input_2 (InputLayer)            (None, 1683)         0                                            \n",
      "__________________________________________________________________________________________________\n",
      "dense_1 (Dense)                 (None, 100)          94500       input_1[0][0]                    \n",
      "__________________________________________________________________________________________________\n",
      "dense_2 (Dense)                 (None, 100)          168400      input_2[0][0]                    \n",
      "__________________________________________________________________________________________________\n",
      "dot_1 (Dot)                     (None, 1)            0           dense_1[0][0]                    \n",
      "                                                                 dense_2[0][0]                    \n",
      "__________________________________________________________________________________________________\n",
      "dense_3 (Dense)                 (None, 1)            2           dot_1[0][0]                      \n",
      "==================================================================================================\n",
      "Total params: 262,902\n",
      "Trainable params: 262,902\n",
      "Non-trainable params: 0\n",
      "__________________________________________________________________________________________________\n"
     ]
    }
   ],
   "source": [
    "model.summary()"
   ]
  },
  {
   "cell_type": "code",
   "execution_count": 33,
   "metadata": {},
   "outputs": [],
   "source": [
    "from keras.callbacks import ModelCheckpoint\n",
    "\n",
    "checkpoints = ModelCheckpoint('./NN_m_factorization_weights.{epoch:02}-{val_loss:.2f}.hdf5', monitor='val_loss', verbose = 1, save_best_only=True, save_weights_only=False, mode='auto', period=2)"
   ]
  },
  {
   "cell_type": "code",
   "execution_count": 71,
   "metadata": {},
   "outputs": [],
   "source": [
    "??keras.callbacks.ModelCheckpoint"
   ]
  },
  {
   "cell_type": "code",
   "execution_count": 34,
   "metadata": {
    "scrolled": true
   },
   "outputs": [
    {
     "name": "stdout",
     "output_type": "stream",
     "text": [
      "Train on 80000 samples, validate on 20000 samples\n",
      "Epoch 1/64\n",
      "80000/80000 [==============================] - 5s 67us/step - loss: 0.6878 - mean_absolute_error: 0.4953 - acc: 0.5524 - val_loss: 0.6863 - val_mean_absolute_error: 0.4934 - val_acc: 0.5572\n",
      "Epoch 2/64\n",
      "80000/80000 [==============================] - 5s 66us/step - loss: 0.6869 - mean_absolute_error: 0.4940 - acc: 0.5528 - val_loss: 0.6859 - val_mean_absolute_error: 0.4939 - val_acc: 0.5572\n",
      "\n",
      "Epoch 00002: val_loss improved from inf to 0.68592, saving model to ./NN_m_factorization_weights.02-0.69.hdf5\n",
      "Epoch 3/64\n",
      "80000/80000 [==============================] - 5s 64us/step - loss: 0.6863 - mean_absolute_error: 0.4938 - acc: 0.5528 - val_loss: 0.6852 - val_mean_absolute_error: 0.4935 - val_acc: 0.5572\n",
      "Epoch 4/64\n",
      "80000/80000 [==============================] - 5s 63us/step - loss: 0.6854 - mean_absolute_error: 0.4933 - acc: 0.5528 - val_loss: 0.6841 - val_mean_absolute_error: 0.4927 - val_acc: 0.5572\n",
      "\n",
      "Epoch 00004: val_loss improved from 0.68592 to 0.68413, saving model to ./NN_m_factorization_weights.04-0.68.hdf5\n",
      "Epoch 5/64\n",
      "80000/80000 [==============================] - 5s 65us/step - loss: 0.6839 - mean_absolute_error: 0.4925 - acc: 0.5528 - val_loss: 0.6823 - val_mean_absolute_error: 0.4915 - val_acc: 0.5572\n",
      "Epoch 6/64\n",
      "80000/80000 [==============================] - 5s 66us/step - loss: 0.6813 - mean_absolute_error: 0.4911 - acc: 0.5572 - val_loss: 0.6792 - val_mean_absolute_error: 0.4903 - val_acc: 0.5698\n",
      "\n",
      "Epoch 00006: val_loss improved from 0.68413 to 0.67922, saving model to ./NN_m_factorization_weights.06-0.68.hdf5\n",
      "Epoch 7/64\n",
      "80000/80000 [==============================] - 5s 66us/step - loss: 0.6765 - mean_absolute_error: 0.4884 - acc: 0.5687 - val_loss: 0.6733 - val_mean_absolute_error: 0.4874 - val_acc: 0.5854\n",
      "Epoch 8/64\n",
      "80000/80000 [==============================] - 5s 66us/step - loss: 0.6673 - mean_absolute_error: 0.4830 - acc: 0.5899 - val_loss: 0.6614 - val_mean_absolute_error: 0.4783 - val_acc: 0.5982\n",
      "\n",
      "Epoch 00008: val_loss improved from 0.67922 to 0.66137, saving model to ./NN_m_factorization_weights.08-0.66.hdf5\n",
      "Epoch 9/64\n",
      "80000/80000 [==============================] - 5s 66us/step - loss: 0.6510 - mean_absolute_error: 0.4721 - acc: 0.6257 - val_loss: 0.6424 - val_mean_absolute_error: 0.4660 - val_acc: 0.6390\n",
      "Epoch 10/64\n",
      "80000/80000 [==============================] - 5s 64us/step - loss: 0.6277 - mean_absolute_error: 0.4542 - acc: 0.6583 - val_loss: 0.6190 - val_mean_absolute_error: 0.4464 - val_acc: 0.6677\n",
      "\n",
      "Epoch 00010: val_loss improved from 0.66137 to 0.61899, saving model to ./NN_m_factorization_weights.10-0.62.hdf5\n",
      "Epoch 11/64\n",
      "80000/80000 [==============================] - 6s 69us/step - loss: 0.6029 - mean_absolute_error: 0.4319 - acc: 0.6816 - val_loss: 0.5980 - val_mean_absolute_error: 0.4240 - val_acc: 0.6808\n",
      "Epoch 12/64\n",
      "80000/80000 [==============================] - 5s 68us/step - loss: 0.5830 - mean_absolute_error: 0.4114 - acc: 0.6978 - val_loss: 0.5861 - val_mean_absolute_error: 0.4109 - val_acc: 0.6921\n",
      "\n",
      "Epoch 00012: val_loss improved from 0.61899 to 0.58614, saving model to ./NN_m_factorization_weights.12-0.59.hdf5\n",
      "Epoch 13/64\n",
      "80000/80000 [==============================] - 6s 72us/step - loss: 0.5692 - mean_absolute_error: 0.3970 - acc: 0.7062 - val_loss: 0.5753 - val_mean_absolute_error: 0.3972 - val_acc: 0.6972\n",
      "Epoch 14/64\n",
      "80000/80000 [==============================] - 6s 73us/step - loss: 0.5597 - mean_absolute_error: 0.3863 - acc: 0.7133 - val_loss: 0.5762 - val_mean_absolute_error: 0.3945 - val_acc: 0.6964\n",
      "\n",
      "Epoch 00014: val_loss improved from 0.58614 to 0.57623, saving model to ./NN_m_factorization_weights.14-0.58.hdf5\n",
      "Epoch 15/64\n",
      "80000/80000 [==============================] - 5s 68us/step - loss: 0.5532 - mean_absolute_error: 0.3797 - acc: 0.7181 - val_loss: 0.5661 - val_mean_absolute_error: 0.3819 - val_acc: 0.7046\n",
      "Epoch 16/64\n",
      "80000/80000 [==============================] - 5s 61us/step - loss: 0.5479 - mean_absolute_error: 0.3743 - acc: 0.7229 - val_loss: 0.5646 - val_mean_absolute_error: 0.3774 - val_acc: 0.7057\n",
      "\n",
      "Epoch 00016: val_loss improved from 0.57623 to 0.56462, saving model to ./NN_m_factorization_weights.16-0.56.hdf5\n",
      "Epoch 17/64\n",
      "80000/80000 [==============================] - 5s 61us/step - loss: 0.5438 - mean_absolute_error: 0.3702 - acc: 0.7248 - val_loss: 0.5692 - val_mean_absolute_error: 0.3838 - val_acc: 0.7032\n",
      "Epoch 18/64\n",
      "80000/80000 [==============================] - 5s 61us/step - loss: 0.5407 - mean_absolute_error: 0.3671 - acc: 0.7286 - val_loss: 0.5746 - val_mean_absolute_error: 0.3847 - val_acc: 0.6976\n",
      "\n",
      "Epoch 00018: val_loss did not improve from 0.56462\n",
      "Epoch 19/64\n",
      "80000/80000 [==============================] - 5s 61us/step - loss: 0.5385 - mean_absolute_error: 0.3652 - acc: 0.7301 - val_loss: 0.5588 - val_mean_absolute_error: 0.3759 - val_acc: 0.7117\n",
      "Epoch 20/64\n",
      "80000/80000 [==============================] - 5s 61us/step - loss: 0.5361 - mean_absolute_error: 0.3628 - acc: 0.7319 - val_loss: 0.5579 - val_mean_absolute_error: 0.3692 - val_acc: 0.7108\n",
      "\n",
      "Epoch 00020: val_loss improved from 0.56462 to 0.55788, saving model to ./NN_m_factorization_weights.20-0.56.hdf5\n",
      "Epoch 21/64\n",
      "80000/80000 [==============================] - 5s 61us/step - loss: 0.5345 - mean_absolute_error: 0.3614 - acc: 0.7323 - val_loss: 0.5593 - val_mean_absolute_error: 0.3745 - val_acc: 0.7117\n",
      "Epoch 22/64\n",
      "80000/80000 [==============================] - 5s 61us/step - loss: 0.5330 - mean_absolute_error: 0.3598 - acc: 0.7344 - val_loss: 0.5602 - val_mean_absolute_error: 0.3663 - val_acc: 0.7114\n",
      "\n",
      "Epoch 00022: val_loss did not improve from 0.55788\n",
      "Epoch 23/64\n",
      "80000/80000 [==============================] - 5s 68us/step - loss: 0.5317 - mean_absolute_error: 0.3587 - acc: 0.7349 - val_loss: 0.5537 - val_mean_absolute_error: 0.3678 - val_acc: 0.7137\n",
      "Epoch 24/64\n",
      "80000/80000 [==============================] - 5s 62us/step - loss: 0.5304 - mean_absolute_error: 0.3578 - acc: 0.7350 - val_loss: 0.5627 - val_mean_absolute_error: 0.3746 - val_acc: 0.7084\n",
      "\n",
      "Epoch 00024: val_loss did not improve from 0.55788\n",
      "Epoch 25/64\n",
      "80000/80000 [==============================] - 5s 63us/step - loss: 0.5295 - mean_absolute_error: 0.3567 - acc: 0.7363 - val_loss: 0.5528 - val_mean_absolute_error: 0.3662 - val_acc: 0.7146\n",
      "Epoch 26/64\n",
      "80000/80000 [==============================] - 5s 61us/step - loss: 0.5285 - mean_absolute_error: 0.3562 - acc: 0.7365 - val_loss: 0.5560 - val_mean_absolute_error: 0.3640 - val_acc: 0.7127\n",
      "\n",
      "Epoch 00026: val_loss improved from 0.55788 to 0.55599, saving model to ./NN_m_factorization_weights.26-0.56.hdf5\n",
      "Epoch 27/64\n",
      "80000/80000 [==============================] - 5s 61us/step - loss: 0.5273 - mean_absolute_error: 0.3553 - acc: 0.7373 - val_loss: 0.5551 - val_mean_absolute_error: 0.3698 - val_acc: 0.7151\n",
      "Epoch 28/64\n",
      "80000/80000 [==============================] - 5s 64us/step - loss: 0.5262 - mean_absolute_error: 0.3544 - acc: 0.7382 - val_loss: 0.5513 - val_mean_absolute_error: 0.3664 - val_acc: 0.7171\n",
      "\n",
      "Epoch 00028: val_loss improved from 0.55599 to 0.55131, saving model to ./NN_m_factorization_weights.28-0.55.hdf5\n",
      "Epoch 29/64\n",
      "80000/80000 [==============================] - 5s 67us/step - loss: 0.5253 - mean_absolute_error: 0.3537 - acc: 0.7392 - val_loss: 0.5525 - val_mean_absolute_error: 0.3635 - val_acc: 0.7146\n",
      "Epoch 30/64\n",
      "80000/80000 [==============================] - 5s 65us/step - loss: 0.5240 - mean_absolute_error: 0.3530 - acc: 0.7409 - val_loss: 0.5507 - val_mean_absolute_error: 0.3660 - val_acc: 0.7183\n",
      "\n",
      "Epoch 00030: val_loss improved from 0.55131 to 0.55069, saving model to ./NN_m_factorization_weights.30-0.55.hdf5\n",
      "Epoch 31/64\n",
      "80000/80000 [==============================] - 5s 66us/step - loss: 0.5237 - mean_absolute_error: 0.3525 - acc: 0.7397 - val_loss: 0.5501 - val_mean_absolute_error: 0.3638 - val_acc: 0.7187\n",
      "Epoch 32/64\n",
      "80000/80000 [==============================] - 5s 64us/step - loss: 0.5228 - mean_absolute_error: 0.3525 - acc: 0.7412 - val_loss: 0.5507 - val_mean_absolute_error: 0.3664 - val_acc: 0.7195\n",
      "\n",
      "Epoch 00032: val_loss did not improve from 0.55069\n",
      "Epoch 33/64\n"
     ]
    },
    {
     "name": "stdout",
     "output_type": "stream",
     "text": [
      "80000/80000 [==============================] - 5s 62us/step - loss: 0.5215 - mean_absolute_error: 0.3516 - acc: 0.7417 - val_loss: 0.5500 - val_mean_absolute_error: 0.3624 - val_acc: 0.7167\n",
      "Epoch 34/64\n",
      "80000/80000 [==============================] - 5s 62us/step - loss: 0.5204 - mean_absolute_error: 0.3506 - acc: 0.7420 - val_loss: 0.5485 - val_mean_absolute_error: 0.3637 - val_acc: 0.7191\n",
      "\n",
      "Epoch 00034: val_loss improved from 0.55069 to 0.54848, saving model to ./NN_m_factorization_weights.34-0.55.hdf5\n",
      "Epoch 35/64\n",
      "80000/80000 [==============================] - 5s 63us/step - loss: 0.5192 - mean_absolute_error: 0.3502 - acc: 0.7432 - val_loss: 0.5514 - val_mean_absolute_error: 0.3668 - val_acc: 0.7183\n",
      "Epoch 36/64\n",
      "80000/80000 [==============================] - 5s 63us/step - loss: 0.5183 - mean_absolute_error: 0.3499 - acc: 0.7431 - val_loss: 0.5482 - val_mean_absolute_error: 0.3622 - val_acc: 0.7193\n",
      "\n",
      "Epoch 00036: val_loss improved from 0.54848 to 0.54824, saving model to ./NN_m_factorization_weights.36-0.55.hdf5\n",
      "Epoch 37/64\n",
      "80000/80000 [==============================] - 5s 64us/step - loss: 0.5173 - mean_absolute_error: 0.3494 - acc: 0.7445 - val_loss: 0.5491 - val_mean_absolute_error: 0.3608 - val_acc: 0.7189\n",
      "Epoch 38/64\n",
      "80000/80000 [==============================] - 5s 64us/step - loss: 0.5162 - mean_absolute_error: 0.3486 - acc: 0.7447 - val_loss: 0.5511 - val_mean_absolute_error: 0.3593 - val_acc: 0.7174\n",
      "\n",
      "Epoch 00038: val_loss did not improve from 0.54824\n",
      "Epoch 39/64\n",
      "80000/80000 [==============================] - 5s 63us/step - loss: 0.5151 - mean_absolute_error: 0.3478 - acc: 0.7445 - val_loss: 0.5537 - val_mean_absolute_error: 0.3676 - val_acc: 0.7161\n",
      "Epoch 40/64\n",
      "80000/80000 [==============================] - 5s 66us/step - loss: 0.5138 - mean_absolute_error: 0.3474 - acc: 0.7466 - val_loss: 0.5462 - val_mean_absolute_error: 0.3609 - val_acc: 0.7203\n",
      "\n",
      "Epoch 00040: val_loss improved from 0.54824 to 0.54620, saving model to ./NN_m_factorization_weights.40-0.55.hdf5\n",
      "Epoch 41/64\n",
      "80000/80000 [==============================] - 5s 64us/step - loss: 0.5125 - mean_absolute_error: 0.3471 - acc: 0.7488 - val_loss: 0.5492 - val_mean_absolute_error: 0.3586 - val_acc: 0.7177\n",
      "Epoch 42/64\n",
      "80000/80000 [==============================] - 5s 63us/step - loss: 0.5110 - mean_absolute_error: 0.3460 - acc: 0.7497 - val_loss: 0.5539 - val_mean_absolute_error: 0.3674 - val_acc: 0.7171\n",
      "\n",
      "Epoch 00042: val_loss did not improve from 0.54620\n",
      "Epoch 43/64\n",
      "80000/80000 [==============================] - 5s 65us/step - loss: 0.5093 - mean_absolute_error: 0.3451 - acc: 0.7500 - val_loss: 0.5574 - val_mean_absolute_error: 0.3691 - val_acc: 0.7148\n",
      "Epoch 44/64\n",
      "80000/80000 [==============================] - 6s 71us/step - loss: 0.5083 - mean_absolute_error: 0.3447 - acc: 0.7509 - val_loss: 0.5438 - val_mean_absolute_error: 0.3611 - val_acc: 0.7256\n",
      "\n",
      "Epoch 00044: val_loss improved from 0.54620 to 0.54378, saving model to ./NN_m_factorization_weights.44-0.54.hdf5\n",
      "Epoch 45/64\n",
      "80000/80000 [==============================] - 6s 73us/step - loss: 0.5063 - mean_absolute_error: 0.3439 - acc: 0.7514 - val_loss: 0.5566 - val_mean_absolute_error: 0.3686 - val_acc: 0.7162\n",
      "Epoch 46/64\n",
      "80000/80000 [==============================] - 6s 71us/step - loss: 0.5046 - mean_absolute_error: 0.3430 - acc: 0.7545 - val_loss: 0.5420 - val_mean_absolute_error: 0.3600 - val_acc: 0.7255\n",
      "\n",
      "Epoch 00046: val_loss improved from 0.54378 to 0.54200, saving model to ./NN_m_factorization_weights.46-0.54.hdf5\n",
      "Epoch 47/64\n",
      "80000/80000 [==============================] - 6s 72us/step - loss: 0.5032 - mean_absolute_error: 0.3426 - acc: 0.7540 - val_loss: 0.5429 - val_mean_absolute_error: 0.3570 - val_acc: 0.7235\n",
      "Epoch 48/64\n",
      "80000/80000 [==============================] - 6s 75us/step - loss: 0.5009 - mean_absolute_error: 0.3412 - acc: 0.7564 - val_loss: 0.5405 - val_mean_absolute_error: 0.3589 - val_acc: 0.7277\n",
      "\n",
      "Epoch 00048: val_loss improved from 0.54200 to 0.54051, saving model to ./NN_m_factorization_weights.48-0.54.hdf5\n",
      "Epoch 49/64\n",
      "80000/80000 [==============================] - 5s 67us/step - loss: 0.4991 - mean_absolute_error: 0.3408 - acc: 0.7575 - val_loss: 0.5426 - val_mean_absolute_error: 0.3613 - val_acc: 0.7268\n",
      "Epoch 50/64\n",
      "80000/80000 [==============================] - 5s 62us/step - loss: 0.4969 - mean_absolute_error: 0.3394 - acc: 0.7587 - val_loss: 0.5400 - val_mean_absolute_error: 0.3600 - val_acc: 0.7286\n",
      "\n",
      "Epoch 00050: val_loss improved from 0.54051 to 0.53997, saving model to ./NN_m_factorization_weights.50-0.54.hdf5\n",
      "Epoch 51/64\n",
      "80000/80000 [==============================] - 6s 69us/step - loss: 0.4946 - mean_absolute_error: 0.3387 - acc: 0.7618 - val_loss: 0.5377 - val_mean_absolute_error: 0.3573 - val_acc: 0.7288\n",
      "Epoch 52/64\n",
      "80000/80000 [==============================] - 6s 74us/step - loss: 0.4921 - mean_absolute_error: 0.3374 - acc: 0.7626 - val_loss: 0.5378 - val_mean_absolute_error: 0.3543 - val_acc: 0.7274\n",
      "\n",
      "Epoch 00052: val_loss improved from 0.53997 to 0.53781, saving model to ./NN_m_factorization_weights.52-0.54.hdf5\n",
      "Epoch 53/64\n",
      "80000/80000 [==============================] - 5s 62us/step - loss: 0.4894 - mean_absolute_error: 0.3358 - acc: 0.7645 - val_loss: 0.5358 - val_mean_absolute_error: 0.3545 - val_acc: 0.7296\n",
      "Epoch 54/64\n",
      "80000/80000 [==============================] - 5s 58us/step - loss: 0.4869 - mean_absolute_error: 0.3351 - acc: 0.7652 - val_loss: 0.5358 - val_mean_absolute_error: 0.3536 - val_acc: 0.7292\n",
      "\n",
      "Epoch 00054: val_loss improved from 0.53781 to 0.53579, saving model to ./NN_m_factorization_weights.54-0.54.hdf5\n",
      "Epoch 55/64\n",
      "80000/80000 [==============================] - 5s 59us/step - loss: 0.4837 - mean_absolute_error: 0.3337 - acc: 0.7703 - val_loss: 0.5367 - val_mean_absolute_error: 0.3591 - val_acc: 0.7311\n",
      "Epoch 56/64\n",
      "80000/80000 [==============================] - 5s 61us/step - loss: 0.4808 - mean_absolute_error: 0.3323 - acc: 0.7717 - val_loss: 0.5311 - val_mean_absolute_error: 0.3528 - val_acc: 0.7328\n",
      "\n",
      "Epoch 00056: val_loss improved from 0.53579 to 0.53111, saving model to ./NN_m_factorization_weights.56-0.53.hdf5\n",
      "Epoch 57/64\n",
      "80000/80000 [==============================] - 5s 62us/step - loss: 0.4768 - mean_absolute_error: 0.3304 - acc: 0.7734 - val_loss: 0.5368 - val_mean_absolute_error: 0.3499 - val_acc: 0.7296\n",
      "Epoch 58/64\n",
      "80000/80000 [==============================] - 5s 60us/step - loss: 0.4732 - mean_absolute_error: 0.3289 - acc: 0.7781 - val_loss: 0.5291 - val_mean_absolute_error: 0.3540 - val_acc: 0.7366\n",
      "\n",
      "Epoch 00058: val_loss improved from 0.53111 to 0.52912, saving model to ./NN_m_factorization_weights.58-0.53.hdf5\n",
      "Epoch 59/64\n",
      "80000/80000 [==============================] - 5s 58us/step - loss: 0.4693 - mean_absolute_error: 0.3266 - acc: 0.7804 - val_loss: 0.5271 - val_mean_absolute_error: 0.3536 - val_acc: 0.7387\n",
      "Epoch 60/64\n",
      "80000/80000 [==============================] - 5s 59us/step - loss: 0.4652 - mean_absolute_error: 0.3248 - acc: 0.7827 - val_loss: 0.5301 - val_mean_absolute_error: 0.3471 - val_acc: 0.7345\n",
      "\n",
      "Epoch 00060: val_loss did not improve from 0.52912\n",
      "Epoch 61/64\n",
      "80000/80000 [==============================] - 5s 63us/step - loss: 0.4607 - mean_absolute_error: 0.3228 - acc: 0.7882 - val_loss: 0.5210 - val_mean_absolute_error: 0.3492 - val_acc: 0.7425\n",
      "Epoch 62/64\n",
      "80000/80000 [==============================] - 5s 58us/step - loss: 0.4557 - mean_absolute_error: 0.3201 - acc: 0.7916 - val_loss: 0.5187 - val_mean_absolute_error: 0.3478 - val_acc: 0.7428\n",
      "\n",
      "Epoch 00062: val_loss improved from 0.52912 to 0.51872, saving model to ./NN_m_factorization_weights.62-0.52.hdf5\n",
      "Epoch 63/64\n",
      "80000/80000 [==============================] - 5s 63us/step - loss: 0.4506 - mean_absolute_error: 0.3181 - acc: 0.7956 - val_loss: 0.5222 - val_mean_absolute_error: 0.3434 - val_acc: 0.7397\n",
      "Epoch 64/64\n",
      "80000/80000 [==============================] - 5s 65us/step - loss: 0.4452 - mean_absolute_error: 0.3149 - acc: 0.8008 - val_loss: 0.5171 - val_mean_absolute_error: 0.3486 - val_acc: 0.7466\n",
      "\n",
      "Epoch 00064: val_loss improved from 0.51872 to 0.51712, saving model to ./NN_m_factorization_weights.64-0.52.hdf5\n"
     ]
    }
   ],
   "source": [
    "history = model.fit([x_train_user_in, x_train_movie_in], y_ratings, verbose=1, epochs=64, batch_size=32, validation_split=0.2, callbacks=[checkpoints])"
   ]
  },
  {
   "cell_type": "code",
   "execution_count": 35,
   "metadata": {
    "scrolled": true
   },
   "outputs": [
    {
     "data": {
      "text/plain": [
       "dict_keys(['val_loss', 'val_mean_absolute_error', 'val_acc', 'loss', 'mean_absolute_error', 'acc'])"
      ]
     },
     "execution_count": 35,
     "metadata": {},
     "output_type": "execute_result"
    }
   ],
   "source": [
    "history.history.keys()"
   ]
  },
  {
   "cell_type": "markdown",
   "metadata": {},
   "source": [
    "* #### Training and Valdiation plots"
   ]
  },
  {
   "cell_type": "code",
   "execution_count": 36,
   "metadata": {
    "scrolled": true
   },
   "outputs": [
    {
     "data": {
      "text/plain": [
       "<matplotlib.legend.Legend at 0x1a60ad37940>"
      ]
     },
     "execution_count": 36,
     "metadata": {},
     "output_type": "execute_result"
    },
    {
     "data": {
      "image/png": "[encoded data removed]",
      "text/plain": [
       "<Figure size 432x288 with 1 Axes>"
      ]
     },
     "metadata": {
      "needs_background": "light"
     },
     "output_type": "display_data"
    }
   ],
   "source": [
    "plt.plot(history.history['loss'])\n",
    "plt.plot(history.history['val_loss'])\n",
    "plt.title('model loss')\n",
    "plt.xlabel('epoch')\n",
    "plt.ylabel('loss')\n",
    "\n",
    "plt.legend(['train', 'validation'], loc= 'upper right')"
   ]
  },
  {
   "cell_type": "code",
   "execution_count": 37,
   "metadata": {},
   "outputs": [
    {
     "data": {
      "text/plain": [
       "<matplotlib.legend.Legend at 0x1a60ac82908>"
      ]
     },
     "execution_count": 37,
     "metadata": {},
     "output_type": "execute_result"
    },
    {
     "data": {
      "image/png": "[encoded data removed]",
      "text/plain": [
       "<Figure size 432x288 with 1 Axes>"
      ]
     },
     "metadata": {
      "needs_background": "light"
     },
     "output_type": "display_data"
    }
   ],
   "source": [
    "plt.plot(history.history['acc'])\n",
    "plt.plot(history.history['val_acc'])\n",
    "plt.title('model accuracy')\n",
    "plt.xlabel('epoch')\n",
    "plt.ylabel('accuracy')\n",
    "\n",
    "plt.legend(['train', 'validation'], loc= 'upper right')"
   ]
  },
  {
   "cell_type": "code",
   "execution_count": null,
   "metadata": {},
   "outputs": [],
   "source": []
  },
  {
   "cell_type": "markdown",
   "metadata": {},
   "source": [
    "* ### Testing with individual cases"
   ]
  },
  {
   "cell_type": "code",
   "execution_count": 38,
   "metadata": {},
   "outputs": [
    {
     "name": "stdout",
     "output_type": "stream",
     "text": [
      "(268, 240, 1.0)\n"
     ]
    }
   ],
   "source": [
    "testcase = testset[np.random.randint(len(testset))]\n",
    "print(testcase)"
   ]
  },
  {
   "cell_type": "markdown",
   "metadata": {},
   "source": [
    "• **With SVD**"
   ]
  },
  {
   "cell_type": "code",
   "execution_count": 39,
   "metadata": {},
   "outputs": [
    {
     "name": "stdout",
     "output_type": "stream",
     "text": [
      "user: 268        item: 240        r_ui = 0.00   est = 0.17   {'was_impossible': False}\n",
      "\n",
      "Predictions with SVD :\n",
      " user: 268        item: 240        r_ui = 0.00   est = 0.17   {'was_impossible': False}\n"
     ]
    }
   ],
   "source": [
    "# int(testcase[2]>1) ;  because testset contains labels 0 in original df as 1 & 1 as 2\n",
    "print('\\nPredictions with SVD :\\n', algo_svd.predict(testcase[0], testcase[1], int(testcase[2]>1), verbose=True))"
   ]
  },
  {
   "cell_type": "markdown",
   "metadata": {},
   "source": [
    "• **With SVD++** (Haven't retrained it for epochs=64)"
   ]
  },
  {
   "cell_type": "code",
   "execution_count": 54,
   "metadata": {
    "scrolled": true
   },
   "outputs": [
    {
     "name": "stdout",
     "output_type": "stream",
     "text": [
      "user: 716        item: 480        r_ui = 2.00   est = 0.97   {'was_impossible': False}\n",
      "\n",
      "Predictions with SVD++:\n",
      " user: 716        item: 480        r_ui = 2.00   est = 0.97   {'was_impossible': False}\n"
     ]
    }
   ],
   "source": [
    "print('\\nPredictions with SVD++:\\n', algo_svdpp.predict(testcase[0], testcase[1], testcase[2], verbose=True))"
   ]
  },
  {
   "cell_type": "markdown",
   "metadata": {},
   "source": [
    "• **With NN factorization**"
   ]
  },
  {
   "cell_type": "code",
   "execution_count": 40,
   "metadata": {},
   "outputs": [
    {
     "name": "stdout",
     "output_type": "stream",
     "text": [
      "NN input layers shape requirement:\n",
      "\n"
     ]
    },
    {
     "data": {
      "text/plain": [
       "[<tf.Tensor 'input_1:0' shape=(?, 944) dtype=float32>,\n",
       " <tf.Tensor 'input_2:0' shape=(?, 1683) dtype=float32>]"
      ]
     },
     "execution_count": 40,
     "metadata": {},
     "output_type": "execute_result"
    }
   ],
   "source": [
    "print('NN input layers shape requirement:\\n')\n",
    "model.input"
   ]
  },
  {
   "cell_type": "code",
   "execution_count": 41,
   "metadata": {
    "scrolled": true
   },
   "outputs": [
    {
     "name": "stdout",
     "output_type": "stream",
     "text": [
      "1/1 [==============================] - 0s 9ms/step\n",
      "\n",
      "Predictions with NN matrix factorization:\n",
      " [[0.05117484]]\n"
     ]
    }
   ],
   "source": [
    "u_id = to_categorical(testcase[0], num_classes=int(model.input[0].shape[1]))\n",
    "u_id= u_id.reshape((1,u_id.shape[0]))\n",
    "\n",
    "item_id = to_categorical(testcase[1], num_classes=int(model.input[1].shape[1]))\n",
    "item_id= item_id.reshape((1,item_id.shape[0]))\n",
    "\n",
    "print('\\nPredictions with NN matrix factorization:\\n', model.predict(x= [u_id, item_id], verbose=True))"
   ]
  },
  {
   "cell_type": "code",
   "execution_count": null,
   "metadata": {},
   "outputs": [],
   "source": []
  },
  {
   "cell_type": "code",
   "execution_count": 97,
   "metadata": {},
   "outputs": [
    {
     "name": "stdout",
     "output_type": "stream",
     "text": [
      "shape of x_train_user_in: (80000, 944) \n",
      "shape of x_train_movie_in: (80000, 1683) \n",
      "shape of x_train_user_in: (80000,)\n",
      "\n",
      "\n",
      "shape of x_val_user_in: (20000, 944) \n",
      "shape of x_val_movie_in: (20000, 1670) \n",
      "shape of x_val_user_in: (20000,)\n"
     ]
    }
   ],
   "source": [
    "#from sklearn.model_selection import train_test_split\n",
    "\n",
    "#array_data = np.asarray(shuffled_df)#changed df to numpy array\n",
    "\n",
    "#new= np.append(to_categorical(array_data[:,0]), to_categorical(array_data[:,1]), axis=1) \n",
    "#data = array_data[:,:3]\n",
    "#labels = array_data[:,2]\n",
    "\n",
    "#x_train, x_valid, y_train, y_valid = train_test_split(data, labels, test_size=0.2, shuffle= True)\n",
    "\n",
    "#x_train_user_in = to_categorical(x_train[:,0])#contains the one-hot encoded user_id data, shaped (batch_size, max(sm_df[0]))\n",
    "#x_train_movie_in = to_categorical(x_train[:,1])#contains the one-hot encoded movie_id data, shaped (batch_size, max(sm_df[1]))\n",
    "\n",
    "#y_train_ratings= y_train\n",
    "#print('shape of x_train_user_in:', x_train_user_in.shape,'\\nshape of x_train_movie_in:', x_train_movie_in.shape,\n",
    "#      '\\nshape of x_train_user_in:',y_train_ratings.shape)\n",
    "\n",
    "# Split the data\n",
    "#x_val_user_in = to_categorical(x_valid[:,0])#contains the one-hot encoded user_id data, shaped (batch_size, max(sm_df[0]))\n",
    "#x_val_movie_in = to_categorical(x_valid[:,1])#contains the one-hot encoded movie_id data, shaped (batch_size, max(sm_df[1]))\n",
    "\n",
    "#y_val_ratings= y_valid\n",
    "#print('\\n\\nshape of x_val_user_in:', x_val_user_in.shape,'\\nshape of x_val_movie_in:', x_val_movie_in.shape,\n",
    "#      '\\nshape of x_val_user_in:',y_val_ratings.shape)"
   ]
  },
  {
   "cell_type": "code",
   "execution_count": 79,
   "metadata": {},
   "outputs": [
    {
     "name": "stdout",
     "output_type": "stream",
     "text": [
      "Train on 100000 samples, validate on 100000 samples\n",
      "Epoch 1/4\n",
      "100000/100000 [==============================] - 8s 76us/step - loss: 0.6592 - mean_absolute_error: 0.4777 - acc: 0.6103 - val_loss: 0.6460 - val_mean_absolute_error: 0.4685 - val_acc: 0.6330\n",
      "Epoch 2/4\n",
      "100000/100000 [==============================] - 8s 76us/step - loss: 0.6304 - mean_absolute_error: 0.4565 - acc: 0.6538 - val_loss: 0.6119 - val_mean_absolute_error: 0.4425 - val_acc: 0.6764\n",
      "Epoch 3/4\n",
      "100000/100000 [==============================] - 8s 77us/step - loss: 0.5984 - mean_absolute_error: 0.4277 - acc: 0.6836 - val_loss: 0.5827 - val_mean_absolute_error: 0.4148 - val_acc: 0.6997\n",
      "Epoch 4/4\n",
      "100000/100000 [==============================] - 8s 77us/step - loss: 0.5761 - mean_absolute_error: 0.4040 - acc: 0.7006 - val_loss: 0.5664 - val_mean_absolute_error: 0.3969 - val_acc: 0.7102\n"
     ]
    },
    {
     "data": {
      "text/plain": [
       "<keras.callbacks.History at 0x19fee9c1630>"
      ]
     },
     "execution_count": 79,
     "metadata": {},
     "output_type": "execute_result"
    }
   ],
   "source": [
    "#model.fit([x_train_user_in, x_train_movie_in], y_ratings, verbose=1, epochs=4, batch_size=32, validation_data=([x_train_user_in,x_train_movie_in],y_ratings))#validation_split=0.2)"
   ]
  },
  {
   "cell_type": "markdown",
   "metadata": {},
   "source": []
  },
  {
   "cell_type": "markdown",
   "metadata": {},
   "source": [
    "* #### Therefore with 80k training datapoints & 20k validation datapoints after 64 epochs:\n",
    "    * MAE value with surprise SVD implementation: 0.2746\n",
    "    * MAE value with surprise SVD++ implementation: 0.3563\n",
    "    * MAE value after 40 epochs with matrix factorization with NN implementation: 0.3149\n",
    "    \n",
    "\n"
   ]
  }
 ],
 "metadata": {
  "kernelspec": {
   "display_name": "Python 3",
   "language": "python",
   "name": "python3"
  },
  "language_info": {
   "codemirror_mode": {
    "name": "ipython",
    "version": 3
   },
   "file_extension": ".py",
   "mimetype": "text/x-python",
   "name": "python",
   "nbconvert_exporter": "python",
   "pygments_lexer": "ipython3",
   "version": "3.6.7"
  }
 },
 "nbformat": 4,
 "nbformat_minor": 2
}
