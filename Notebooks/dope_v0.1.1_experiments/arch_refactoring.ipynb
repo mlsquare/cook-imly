{
 "cells": [
  {
   "cell_type": "code",
   "execution_count": 1,
   "metadata": {},
   "outputs": [],
   "source": [
    "from mlsquare import imly\n"
   ]
  },
  {
   "cell_type": "code",
   "execution_count": 2,
   "metadata": {},
   "outputs": [
    {
     "data": {
      "text/plain": [
       "<module 'mlsquare.imly' from '/home/shakkeel/Desktop/mlsquare-core/mlsquare/src/mlsquare/imly/__init__.py'>"
      ]
     },
     "execution_count": 2,
     "metadata": {},
     "output_type": "execute_result"
    }
   ],
   "source": [
    "imly"
   ]
  },
  {
   "cell_type": "code",
   "execution_count": 3,
   "metadata": {},
   "outputs": [
    {
     "name": "stdout",
     "output_type": "stream",
     "text": [
      "Transpiling your model to it's Deep Neural Network equivalent\n"
     ]
    },
    {
     "name": "stderr",
     "output_type": "stream",
     "text": [
      "Using TensorFlow backend.\n",
      "/home/shakkeel/anaconda3/envs/test_imly/lib/python3.6/importlib/_bootstrap.py:219: RuntimeWarning: numpy.ufunc size changed, may indicate binary incompatibility. Expected 216, got 192\n",
      "  return f(*args, **kwds)\n",
      "/home/shakkeel/anaconda3/envs/test_imly/lib/python3.6/importlib/_bootstrap.py:219: RuntimeWarning: numpy.ufunc size changed, may indicate binary incompatibility. Expected 192 from C header, got 216 from PyObject\n",
      "  return f(*args, **kwds)\n",
      "/home/shakkeel/anaconda3/envs/test_imly/lib/python3.6/importlib/_bootstrap.py:219: RuntimeWarning: numpy.ufunc size changed, may indicate binary incompatibility. Expected 216, got 192\n",
      "  return f(*args, **kwds)\n",
      "/home/shakkeel/anaconda3/envs/test_imly/lib/python3.6/importlib/_bootstrap.py:219: RuntimeWarning: numpy.ufunc size changed, may indicate binary incompatibility. Expected 216, got 192\n",
      "  return f(*args, **kwds)\n",
      "2019-06-17 14:58:44,308\tINFO node.py:423 -- Process STDOUT and STDERR is being redirected to /tmp/ray/session_2019-06-17_14-58-44_15307/logs.\n",
      "2019-06-17 14:58:44,453\tINFO services.py:363 -- Waiting for redis server at 127.0.0.1:64084 to respond...\n",
      "2019-06-17 14:58:44,588\tINFO services.py:363 -- Waiting for redis server at 127.0.0.1:61301 to respond...\n",
      "2019-06-17 14:58:44,590\tINFO services.py:760 -- Starting Redis shard with 20.0 GB max memory.\n",
      "2019-06-17 14:58:44,623\tINFO services.py:1384 -- Starting the Plasma object store with 1.0 GB memory using /dev/shm.\n"
     ]
    }
   ],
   "source": [
    "from sklearn.linear_model import LinearRegression\n",
    "from mlsquare.imly import dope\n",
    "\n",
    "model = LinearRegression()\n",
    "\n",
    "m = dope(model)\n"
   ]
  },
  {
   "cell_type": "code",
   "execution_count": 4,
   "metadata": {},
   "outputs": [
    {
     "data": {
      "text/plain": [
       "<mlsquare.imly.wrappers.sklearn.SklearnKerasRegressor at 0x7f045b1fdfd0>"
      ]
     },
     "execution_count": 4,
     "metadata": {},
     "output_type": "execute_result"
    }
   ],
   "source": [
    "m"
   ]
  },
  {
   "cell_type": "markdown",
   "metadata": {},
   "source": [
    "## LasLabs python plugin tutorial"
   ]
  },
  {
   "cell_type": "markdown",
   "metadata": {},
   "source": [
    "### Mount point"
   ]
  },
  {
   "cell_type": "code",
   "execution_count": 44,
   "metadata": {},
   "outputs": [],
   "source": [
    "import os\n",
    "import imp\n",
    "\n",
    "class PlugPyMount(type):\n",
    "    ''' This class acts as a mount point for our plugins    '''\n",
    "\n",
    "    # Default path to search for plugins - change with register_plugin_dir\n",
    "    # plugin_path = os.path.join(__file__, 'plugins')\n",
    "    plugin_path = os.path.join(os.path.abspath(''), 'plugins')\n",
    "\n",
    "    def __init__(self, name, bases, attrs):\n",
    "        ''' Initializing mount, or registering a plugin?    '''\n",
    "        if not hasattr(self, 'plugins'):\n",
    "            self.plugins = PlugPyStruct(PlugPyMount)\n",
    "        else:\n",
    "            self.register_plugin(self)\n",
    "    \n",
    "    def register_plugin(self, plugin):\n",
    "        ''' Registration logic + append to plugins struct '''\n",
    "        plugin = plugin() #< Init the plugin\n",
    "        self.plugins[plugin.__class__.__name__] = plugin\n",
    "    \n",
    "    @staticmethod\n",
    "    def register_plugin_dir(plugin_path):\n",
    "        ''' This function sets the plugin path to be searched   '''\n",
    "        if os.path.isdir(plugin_path):\n",
    "            PlugPyMount.plugin_path = plugin_path\n",
    "        else:\n",
    "            raise EnvironmentError('%s is not a directory' % plugin_path)\n",
    "        \n",
    "    @staticmethod\n",
    "    def find_plugins():\n",
    "        ''' Traverse registered plugin directory and import non-loaded modules  '''\n",
    "        plugin_path = PlugPyMount.plugin_path\n",
    "        if not os.path.isdir(plugin_path):\n",
    "            raise EnvironmentError('%s is not a directory' % plugin_path)\n",
    "        \n",
    "        for file_ in os.listdir(plugin_path):\n",
    "            if file_.endswith('.py') and file_ != '__init__.py':\n",
    "                module = file_[:-3] #< Strip extension\n",
    "                mod_obj = globals().get(module)\n",
    "                if mod_obj is None:\n",
    "                    f, filename, desc = imp.find_module(\n",
    "                        module, [plugin_path])\n",
    "                    globals()[module] = mod_obj = imp.load_module(\n",
    "                        module, f, filename, desc)"
   ]
  },
  {
   "cell_type": "markdown",
   "metadata": {},
   "source": [
    "### Declare mount"
   ]
  },
  {
   "cell_type": "code",
   "execution_count": 57,
   "metadata": {},
   "outputs": [],
   "source": [
    "class PlugPy(metaclass = PlugPyMount):\n",
    "    ''' Default PlugPy implementation, metaclasses PlugPyMount  '''\n",
    "#     __metaclass__ = PlugPyMount"
   ]
  },
  {
   "cell_type": "markdown",
   "metadata": {},
   "source": [
    "### Finding a mount"
   ]
  },
  {
   "cell_type": "code",
   "execution_count": 46,
   "metadata": {},
   "outputs": [],
   "source": [
    "class PlugPyStruct(dict):\n",
    "    '''\n",
    "        Subclass dict, re-implement __getitem__ to scan for plugins\n",
    "        if a requested key is missing\n",
    "    '''\n",
    "    def __init__(self, cls, *args, **kwargs):\n",
    "        '''\n",
    "            Init, set mount to PlugPyMount master instance\n",
    "            @param  PlugPyMount cls\n",
    "        '''\n",
    "        self.mount = cls\n",
    "        super(PlugPyStruct, self).__init__(*args,**kwargs)\n",
    "\n",
    "    def __getitem__(self, key, retry=True, default=False):\n",
    "        ''' Re-implement __getitem__ to scan for plugins if key missing  '''\n",
    "        try:\n",
    "            return super(PlugPyStruct, self).__getitem__(key)\n",
    "        except KeyError:\n",
    "            if default != False:\n",
    "                return default\n",
    "            elif retry:\n",
    "                self.mount.find_plugins()\n",
    "                return self.__getitem__(key, False)\n",
    "            else:\n",
    "                raise KeyError(\n",
    "                    'Plugin \"%s\" not found in plugin_dir \"%s\"' % (\n",
    "                        key, self.mount.plugin_path\n",
    "                    )\n",
    "                )"
   ]
  },
  {
   "cell_type": "markdown",
   "metadata": {},
   "source": [
    "### ???"
   ]
  },
  {
   "cell_type": "code",
   "execution_count": null,
   "metadata": {},
   "outputs": [],
   "source": [
    "    def set_iter_refresh(self, refresh=True):\n",
    "        '''\n",
    "            Toggle flag to search for new plugins before iteration\n",
    "            @param  bool    refresh     Whether to refresh before iteration\n",
    "        '''\n",
    "        self.iter_refresh = refresh\n",
    "\n",
    "    def __iter__(self):\n",
    "        ''' Reimplement __iter__ to allow for optional plugin refresh   '''\n",
    "        if self.iter_refresh:   self.mount.find_plugins()\n",
    "        return super(PlugPyStruct, self).__iter__()\n",
    "    \n",
    "    def values(self):\n",
    "        ''' Reimplement values to allow for optional plugin refresh   '''\n",
    "        if self.iter_refresh:   self.mount.find_plugins()\n",
    "        return super(PlugPyStruct, self).values()\n",
    "    \n",
    "    def keys(self):\n",
    "        ''' Reimplement keys to allow for optional plugin refresh   '''\n",
    "        if self.iter_refresh:   self.mount.find_plugins()\n",
    "        return super(PlugPyStruct, self).keys()\n",
    "    \n",
    "    def items(self):\n",
    "        ''' Reimplement items to allow for optional plugin refresh   '''\n",
    "        if self.iter_refresh:   self.mount.find_plugins()\n",
    "        return super(PlugPyStruct, self).items()\n",
    "    \n",
    "    def itervalues(self):\n",
    "        ''' Reimplement itervalues to allow for optional plugin refresh   '''\n",
    "        if self.iter_refresh:   self.mount.find_plugins()\n",
    "        return super(PlugPyStruct, self).itervalues()\n",
    "    \n",
    "    def iterkeys(self):\n",
    "        ''' Reimplement iterkeys to allow for optional plugin refresh   '''\n",
    "        if self.iter_refresh:   self.mount.find_plugins()\n",
    "        return super(PlugPyStruct, self).iterkeys()\n",
    "    \n",
    "    def iteritems(self):\n",
    "        ''' Reimplement iteritems to allow for optional plugin refresh   '''\n",
    "        if self.iter_refresh:   self.mount.find_plugins()\n",
    "        return super(PlugPyStruct, self).iteritems()"
   ]
  },
  {
   "cell_type": "markdown",
   "metadata": {},
   "source": [
    "### Making a plugin"
   ]
  },
  {
   "cell_type": "code",
   "execution_count": 48,
   "metadata": {},
   "outputs": [],
   "source": [
    "class TestPlugin(PlugPy):\n",
    "\n",
    "    initialized = False\n",
    "\n",
    "    def __init__(self):\n",
    "        print('Initializing TestPlugin')\n",
    "        self.initialized = True\n",
    "\n",
    "    def run(self):\n",
    "        print('Running TestPlugin')\n",
    "        return True"
   ]
  },
  {
   "cell_type": "markdown",
   "metadata": {},
   "source": [
    "### Using the plugin"
   ]
  },
  {
   "cell_type": "code",
   "execution_count": 85,
   "metadata": {},
   "outputs": [
    {
     "name": "stdout",
     "output_type": "stream",
     "text": [
      "Initializing TestPlugin\n",
      "Running TestPlugin\n"
     ]
    },
    {
     "data": {
      "text/plain": [
       "True"
      ]
     },
     "execution_count": 85,
     "metadata": {},
     "output_type": "execute_result"
    }
   ],
   "source": [
    "PlugPy.register_plugin(TestPlugin) # How will \"path_to_plugin_work\"\n",
    "PlugPy.plugins['TestPlugin'].run()"
   ]
  },
  {
   "cell_type": "code",
   "execution_count": 65,
   "metadata": {},
   "outputs": [
    {
     "data": {
      "text/plain": [
       "<module 'builtins' (built-in)>"
      ]
     },
     "execution_count": 65,
     "metadata": {},
     "output_type": "execute_result"
    }
   ],
   "source": [
    "import inspect\n",
    "inspect.getmodule(TestPlugin.__class__)"
   ]
  },
  {
   "cell_type": "code",
   "execution_count": 71,
   "metadata": {},
   "outputs": [
    {
     "ename": "OSError",
     "evalue": "/home/shakkeel/Desktop/mlsquare-playground/cook-imly/Notebooks/plugins is not a directory",
     "output_type": "error",
     "traceback": [
      "\u001b[0;31m---------------------------------------------------------------------------\u001b[0m",
      "\u001b[0;31mOSError\u001b[0m                                   Traceback (most recent call last)",
      "\u001b[0;32m<ipython-input-71-8e3f0f6fe39b>\u001b[0m in \u001b[0;36m<module>\u001b[0;34m\u001b[0m\n\u001b[0;32m----> 1\u001b[0;31m \u001b[0mPlugPy\u001b[0m\u001b[0;34m.\u001b[0m\u001b[0mfind_plugins\u001b[0m\u001b[0;34m(\u001b[0m\u001b[0;34m)\u001b[0m\u001b[0;34m\u001b[0m\u001b[0;34m\u001b[0m\u001b[0m\n\u001b[0m",
      "\u001b[0;32m<ipython-input-44-53f9d9975dc3>\u001b[0m in \u001b[0;36mfind_plugins\u001b[0;34m()\u001b[0m\n\u001b[1;32m     34\u001b[0m         \u001b[0mplugin_path\u001b[0m \u001b[0;34m=\u001b[0m \u001b[0mPlugPyMount\u001b[0m\u001b[0;34m.\u001b[0m\u001b[0mplugin_path\u001b[0m\u001b[0;34m\u001b[0m\u001b[0;34m\u001b[0m\u001b[0m\n\u001b[1;32m     35\u001b[0m         \u001b[0;32mif\u001b[0m \u001b[0;32mnot\u001b[0m \u001b[0mos\u001b[0m\u001b[0;34m.\u001b[0m\u001b[0mpath\u001b[0m\u001b[0;34m.\u001b[0m\u001b[0misdir\u001b[0m\u001b[0;34m(\u001b[0m\u001b[0mplugin_path\u001b[0m\u001b[0;34m)\u001b[0m\u001b[0;34m:\u001b[0m\u001b[0;34m\u001b[0m\u001b[0;34m\u001b[0m\u001b[0m\n\u001b[0;32m---> 36\u001b[0;31m             \u001b[0;32mraise\u001b[0m \u001b[0mEnvironmentError\u001b[0m\u001b[0;34m(\u001b[0m\u001b[0;34m'%s is not a directory'\u001b[0m \u001b[0;34m%\u001b[0m \u001b[0mplugin_path\u001b[0m\u001b[0;34m)\u001b[0m\u001b[0;34m\u001b[0m\u001b[0;34m\u001b[0m\u001b[0m\n\u001b[0m\u001b[1;32m     37\u001b[0m \u001b[0;34m\u001b[0m\u001b[0m\n\u001b[1;32m     38\u001b[0m         \u001b[0;32mfor\u001b[0m \u001b[0mfile_\u001b[0m \u001b[0;32min\u001b[0m \u001b[0mos\u001b[0m\u001b[0;34m.\u001b[0m\u001b[0mlistdir\u001b[0m\u001b[0;34m(\u001b[0m\u001b[0mplugin_path\u001b[0m\u001b[0;34m)\u001b[0m\u001b[0;34m:\u001b[0m\u001b[0;34m\u001b[0m\u001b[0;34m\u001b[0m\u001b[0m\n",
      "\u001b[0;31mOSError\u001b[0m: /home/shakkeel/Desktop/mlsquare-playground/cook-imly/Notebooks/plugins is not a directory"
     ]
    }
   ],
   "source": [
    "PlugPy.find_plugins()"
   ]
  },
  {
   "cell_type": "code",
   "execution_count": 52,
   "metadata": {},
   "outputs": [
    {
     "data": {
      "text/plain": [
       "'/home/shakkeel/Desktop/mlsquare-playground/cook-imly/Notebooks'"
      ]
     },
     "execution_count": 52,
     "metadata": {},
     "output_type": "execute_result"
    }
   ],
   "source": [
    "os.path.abspath('')"
   ]
  },
  {
   "cell_type": "code",
   "execution_count": 1,
   "metadata": {},
   "outputs": [
    {
     "name": "stdout",
     "output_type": "stream",
     "text": [
      "---\n"
     ]
    }
   ],
   "source": [
    "import os, imp\n",
    "\n",
    "# plugin_path = '/home/shakkeel/Desktop/plugin_tests/selfregistering_approach/advanced_plugin/plugins'\n",
    "plugin_path = '/home/shakkeel/Desktop/plugin_tests'\n",
    "\n",
    "for file_ in os.listdir(plugin_path):\n",
    "    if file_.endswith('.py') and file_ != '__init__.py':\n",
    "        module = file_[:-3] #< Strip extension\n",
    "        mod_obj = globals().get(module)\n",
    "        if mod_obj is None:\n",
    "            print('---')\n",
    "            f, filename, desc = imp.find_module(module, [plugin_path])\n",
    "            globals()[module] = mod_obj = imp.load_module(module, f, filename, desc)"
   ]
  },
  {
   "cell_type": "code",
   "execution_count": 5,
   "metadata": {},
   "outputs": [
    {
     "data": {
      "text/plain": [
       "<module 'nevergrad_trials' from '/home/shakkeel/Desktop/plugin_tests/nevergrad_trials.py'>"
      ]
     },
     "execution_count": 5,
     "metadata": {},
     "output_type": "execute_result"
    }
   ],
   "source": [
    "mod_obj"
   ]
  },
  {
   "cell_type": "markdown",
   "metadata": {},
   "source": [
    "## Nevergrad trials"
   ]
  },
  {
   "cell_type": "code",
   "execution_count": 1,
   "metadata": {},
   "outputs": [],
   "source": [
    "import nevergrad as ng"
   ]
  },
  {
   "cell_type": "code",
   "execution_count": 2,
   "metadata": {},
   "outputs": [
    {
     "data": {
      "text/plain": [
       "<module 'nevergrad' from '/home/shakkeel/Desktop/github_repos/nevergrad/nevergrad/__init__.py'>"
      ]
     },
     "execution_count": 2,
     "metadata": {},
     "output_type": "execute_result"
    }
   ],
   "source": [
    "ng"
   ]
  },
  {
   "cell_type": "code",
   "execution_count": 2,
   "metadata": {},
   "outputs": [
    {
     "name": "stdout",
     "output_type": "stream",
     "text": [
      "Candidate(args=(array([0.49429745, 0.50480782]),), kwargs={})\n"
     ]
    }
   ],
   "source": [
    "import nevergrad as ng\n",
    "\n",
    "def square(x, y=12):\n",
    "    return sum((x - .5)**2) + abs(y)\n",
    "\n",
    "optimizer = ng.optimizers.OnePlusOne(instrumentation=2, budget=100)\n",
    "# alternatively, you could use ng.optimizers.registry[\"OnePlusOne\"]\n",
    "# (registry is a dict containing all optimizer classes)\n",
    "recommendation = optimizer.minimize(square)\n",
    "print(recommendation)"
   ]
  },
  {
   "cell_type": "code",
   "execution_count": 5,
   "metadata": {},
   "outputs": [
    {
     "data": {
      "text/plain": [
       "Instance of OnePlusOne(instrumentation=A(2), budget=100, num_workers=1)"
      ]
     },
     "execution_count": 5,
     "metadata": {},
     "output_type": "execute_result"
    }
   ],
   "source": [
    "ng.optimizers.registry[\"OnePlusOne\"](instrumentation=2, budget=100)"
   ]
  },
  {
   "cell_type": "code",
   "execution_count": 10,
   "metadata": {},
   "outputs": [
    {
     "data": {
      "text/plain": [
       "'MyOptimizer'"
      ]
     },
     "execution_count": 10,
     "metadata": {},
     "output_type": "execute_result"
    }
   ],
   "source": [
    "ng.optimizers.registry.register('MyOptimizer')"
   ]
  },
  {
   "cell_type": "code",
   "execution_count": 7,
   "metadata": {},
   "outputs": [],
   "source": [
    "ng.optimizers.registry.unregister('OnePlusOne')"
   ]
  },
  {
   "cell_type": "code",
   "execution_count": 13,
   "metadata": {},
   "outputs": [
    {
     "ename": "ValueError",
     "evalue": "\"MyOptimizer\" is not registered.",
     "output_type": "error",
     "traceback": [
      "\u001b[0;31m---------------------------------------------------------------------------\u001b[0m",
      "\u001b[0;31mValueError\u001b[0m                                Traceback (most recent call last)",
      "\u001b[0;32m<ipython-input-13-28310c0f82e6>\u001b[0m in \u001b[0;36m<module>\u001b[0;34m\u001b[0m\n\u001b[0;32m----> 1\u001b[0;31m \u001b[0mng\u001b[0m\u001b[0;34m.\u001b[0m\u001b[0moptimizers\u001b[0m\u001b[0;34m.\u001b[0m\u001b[0mregistry\u001b[0m\u001b[0;34m.\u001b[0m\u001b[0mget_info\u001b[0m\u001b[0;34m(\u001b[0m\u001b[0;34m'MyOptimizer'\u001b[0m\u001b[0;34m)\u001b[0m\u001b[0;34m\u001b[0m\u001b[0;34m\u001b[0m\u001b[0m\n\u001b[0m",
      "\u001b[0;32m~/Desktop/github_repos/nevergrad/nevergrad/common/decorators.py\u001b[0m in \u001b[0;36mget_info\u001b[0;34m(self, name)\u001b[0m\n\u001b[1;32m     55\u001b[0m     \u001b[0;32mdef\u001b[0m \u001b[0mget_info\u001b[0m\u001b[0;34m(\u001b[0m\u001b[0mself\u001b[0m\u001b[0;34m,\u001b[0m \u001b[0mname\u001b[0m\u001b[0;34m:\u001b[0m \u001b[0mstr\u001b[0m\u001b[0;34m)\u001b[0m \u001b[0;34m->\u001b[0m \u001b[0mDict\u001b[0m\u001b[0;34m[\u001b[0m\u001b[0mAny\u001b[0m\u001b[0;34m,\u001b[0m \u001b[0mAny\u001b[0m\u001b[0;34m]\u001b[0m\u001b[0;34m:\u001b[0m\u001b[0;34m\u001b[0m\u001b[0;34m\u001b[0m\u001b[0m\n\u001b[1;32m     56\u001b[0m         \u001b[0;32mif\u001b[0m \u001b[0mname\u001b[0m \u001b[0;32mnot\u001b[0m \u001b[0;32min\u001b[0m \u001b[0mself\u001b[0m\u001b[0;34m:\u001b[0m\u001b[0;34m\u001b[0m\u001b[0;34m\u001b[0m\u001b[0m\n\u001b[0;32m---> 57\u001b[0;31m             \u001b[0;32mraise\u001b[0m \u001b[0mValueError\u001b[0m\u001b[0;34m(\u001b[0m\u001b[0;34mf'\"{name}\" is not registered.'\u001b[0m\u001b[0;34m)\u001b[0m\u001b[0;34m\u001b[0m\u001b[0;34m\u001b[0m\u001b[0m\n\u001b[0m\u001b[1;32m     58\u001b[0m         \u001b[0;32mreturn\u001b[0m \u001b[0mself\u001b[0m\u001b[0;34m.\u001b[0m\u001b[0m_information\u001b[0m\u001b[0;34m.\u001b[0m\u001b[0msetdefault\u001b[0m\u001b[0;34m(\u001b[0m\u001b[0mname\u001b[0m\u001b[0;34m,\u001b[0m \u001b[0;34m{\u001b[0m\u001b[0;34m}\u001b[0m\u001b[0;34m)\u001b[0m\u001b[0;34m\u001b[0m\u001b[0;34m\u001b[0m\u001b[0m\n\u001b[1;32m     59\u001b[0m \u001b[0;34m\u001b[0m\u001b[0m\n",
      "\u001b[0;31mValueError\u001b[0m: \"MyOptimizer\" is not registered."
     ]
    }
   ],
   "source": [
    "ng.optimizers.registry.get_info('MyOptimizer')"
   ]
  },
  {
   "cell_type": "markdown",
   "metadata": {},
   "source": [
    "TO TRY  \n",
    "1) Place debuggers and observe OnePlusOne behaviour  \n",
    "2) Try contributing a dummy optimizer  \n",
    "3) Use registry and get a feel of it  "
   ]
  },
  {
   "cell_type": "markdown",
   "metadata": {},
   "source": [
    "---"
   ]
  },
  {
   "cell_type": "markdown",
   "metadata": {},
   "source": [
    "## Notes/Qs"
   ]
  },
  {
   "cell_type": "markdown",
   "metadata": {},
   "source": [
    "1) Responsibilities of PlugPyMount  \n",
    "2) What is PlugPy for?"
   ]
  },
  {
   "cell_type": "markdown",
   "metadata": {},
   "source": [
    "---"
   ]
  },
  {
   "cell_type": "markdown",
   "metadata": {},
   "source": [
    "## Tests"
   ]
  },
  {
   "cell_type": "markdown",
   "metadata": {},
   "source": [
    "#### Metaclasses in python"
   ]
  },
  {
   "cell_type": "code",
   "execution_count": 93,
   "metadata": {},
   "outputs": [],
   "source": [
    "class Meta(type):\n",
    "    def __new__(cls, name, bases, dct):\n",
    "        x = super().__new__(cls, name, bases, dct)\n",
    "        x.attr = 100\n",
    "        return x\n",
    "    def __init__(cls, name, bases, dct):\n",
    "        print('From Meta')"
   ]
  },
  {
   "cell_type": "code",
   "execution_count": 94,
   "metadata": {},
   "outputs": [
    {
     "name": "stdout",
     "output_type": "stream",
     "text": [
      "From Meta\n"
     ]
    }
   ],
   "source": [
    "class Bar(metaclass=Meta):\n",
    "    pass\n",
    "\n",
    "# Foo.attr"
   ]
  },
  {
   "cell_type": "code",
   "execution_count": 95,
   "metadata": {},
   "outputs": [
    {
     "name": "stdout",
     "output_type": "stream",
     "text": [
      "From Meta\n"
     ]
    }
   ],
   "source": [
    "class test_bar(Bar):\n",
    "    pass"
   ]
  },
  {
   "cell_type": "code",
   "execution_count": 81,
   "metadata": {},
   "outputs": [
    {
     "ename": "TypeError",
     "evalue": "dict expected at most 1 arguments, got 3",
     "output_type": "error",
     "traceback": [
      "\u001b[0;31m---------------------------------------------------------------------------\u001b[0m",
      "\u001b[0;31mTypeError\u001b[0m                                 Traceback (most recent call last)",
      "\u001b[0;32m<ipython-input-81-b67df32b4e5f>\u001b[0m in \u001b[0;36m<module>\u001b[0;34m\u001b[0m\n\u001b[0;32m----> 1\u001b[0;31m \u001b[0;32mclass\u001b[0m \u001b[0mStruct\u001b[0m\u001b[0;34m(\u001b[0m\u001b[0mmetaclass\u001b[0m\u001b[0;34m=\u001b[0m\u001b[0mdict\u001b[0m\u001b[0;34m)\u001b[0m\u001b[0;34m:\u001b[0m\u001b[0;34m\u001b[0m\u001b[0;34m\u001b[0m\u001b[0m\n\u001b[0m\u001b[1;32m      2\u001b[0m     \u001b[0;32mpass\u001b[0m\u001b[0;34m\u001b[0m\u001b[0;34m\u001b[0m\u001b[0m\n",
      "\u001b[0;31mTypeError\u001b[0m: dict expected at most 1 arguments, got 3"
     ]
    }
   ],
   "source": [
    "class Struct(dict):\n",
    "    pass"
   ]
  },
  {
   "cell_type": "code",
   "execution_count": 79,
   "metadata": {},
   "outputs": [
    {
     "ename": "TypeError",
     "evalue": "'type' object is not subscriptable",
     "output_type": "error",
     "traceback": [
      "\u001b[0;31m---------------------------------------------------------------------------\u001b[0m",
      "\u001b[0;31mTypeError\u001b[0m                                 Traceback (most recent call last)",
      "\u001b[0;32m<ipython-input-79-4f4b34bb63f1>\u001b[0m in \u001b[0;36m<module>\u001b[0;34m\u001b[0m\n\u001b[0;32m----> 1\u001b[0;31m \u001b[0mStruct\u001b[0m\u001b[0;34m[\u001b[0m\u001b[0;34m'iterate'\u001b[0m\u001b[0;34m]\u001b[0m\u001b[0;34m\u001b[0m\u001b[0;34m\u001b[0m\u001b[0m\n\u001b[0m",
      "\u001b[0;31mTypeError\u001b[0m: 'type' object is not subscriptable"
     ]
    }
   ],
   "source": [
    "Struct['iterate']"
   ]
  },
  {
   "cell_type": "code",
   "execution_count": 40,
   "metadata": {},
   "outputs": [
    {
     "ename": "AttributeError",
     "evalue": "type object 'Meta' has no attribute '__file__'",
     "output_type": "error",
     "traceback": [
      "\u001b[0;31m---------------------------------------------------------------------------\u001b[0m",
      "\u001b[0;31mAttributeError\u001b[0m                            Traceback (most recent call last)",
      "\u001b[0;32m<ipython-input-40-e133e2a43a8c>\u001b[0m in \u001b[0;36m<module>\u001b[0;34m\u001b[0m\n\u001b[0;32m----> 1\u001b[0;31m \u001b[0mMeta\u001b[0m\u001b[0;34m.\u001b[0m\u001b[0m__file__\u001b[0m\u001b[0;34m\u001b[0m\u001b[0;34m\u001b[0m\u001b[0m\n\u001b[0m",
      "\u001b[0;31mAttributeError\u001b[0m: type object 'Meta' has no attribute '__file__'"
     ]
    }
   ],
   "source": [
    "Meta.__file__"
   ]
  },
  {
   "cell_type": "code",
   "execution_count": 26,
   "metadata": {},
   "outputs": [],
   "source": [
    "class Plugin(object):\n",
    "    class __metaclass__(type):\n",
    "        def __init__(cls, name, bases, dict):\n",
    "            type.__init__(name, bases, dict)\n",
    "            registry.append((name, cls))"
   ]
  },
  {
   "cell_type": "code",
   "execution_count": 27,
   "metadata": {},
   "outputs": [
    {
     "data": {
      "text/plain": [
       "__main__.Plugin"
      ]
     },
     "execution_count": 27,
     "metadata": {},
     "output_type": "execute_result"
    }
   ],
   "source": [
    "Plugin"
   ]
  },
  {
   "cell_type": "code",
   "execution_count": 34,
   "metadata": {},
   "outputs": [],
   "source": [
    "test=dict({'a':1})"
   ]
  },
  {
   "cell_type": "code",
   "execution_count": 37,
   "metadata": {},
   "outputs": [
    {
     "data": {
      "text/plain": [
       "1"
      ]
     },
     "execution_count": 37,
     "metadata": {},
     "output_type": "execute_result"
    }
   ],
   "source": [
    "test.__getitem__('a')"
   ]
  },
  {
   "cell_type": "code",
   "execution_count": 38,
   "metadata": {},
   "outputs": [
    {
     "ename": "NameError",
     "evalue": "name '__file__' is not defined",
     "output_type": "error",
     "traceback": [
      "\u001b[0;31m---------------------------------------------------------------------------\u001b[0m",
      "\u001b[0;31mNameError\u001b[0m                                 Traceback (most recent call last)",
      "\u001b[0;32m<ipython-input-38-358d5687b810>\u001b[0m in \u001b[0;36m<module>\u001b[0;34m\u001b[0m\n\u001b[0;32m----> 1\u001b[0;31m \u001b[0m__file__\u001b[0m\u001b[0;34m\u001b[0m\u001b[0;34m\u001b[0m\u001b[0m\n\u001b[0m",
      "\u001b[0;31mNameError\u001b[0m: name '__file__' is not defined"
     ]
    }
   ],
   "source": [
    "__file__"
   ]
  },
  {
   "cell_type": "code",
   "execution_count": 42,
   "metadata": {},
   "outputs": [
    {
     "ename": "NameError",
     "evalue": "name '__file__' is not defined",
     "output_type": "error",
     "traceback": [
      "\u001b[0;31m---------------------------------------------------------------------------\u001b[0m",
      "\u001b[0;31mNameError\u001b[0m                                 Traceback (most recent call last)",
      "\u001b[0;32m<ipython-input-42-343851de49fb>\u001b[0m in \u001b[0;36m<module>\u001b[0;34m\u001b[0m\n\u001b[1;32m      1\u001b[0m \u001b[0;32mimport\u001b[0m \u001b[0mos\u001b[0m\u001b[0;34m\u001b[0m\u001b[0;34m\u001b[0m\u001b[0m\n\u001b[0;32m----> 2\u001b[0;31m \u001b[0mprint\u001b[0m\u001b[0;34m(\u001b[0m\u001b[0m__file__\u001b[0m\u001b[0;34m)\u001b[0m\u001b[0;34m\u001b[0m\u001b[0;34m\u001b[0m\u001b[0m\n\u001b[0m\u001b[1;32m      3\u001b[0m \u001b[0;31m# print os.path.join(os.path.dirname(__file__), '..')\u001b[0m\u001b[0;34m\u001b[0m\u001b[0;34m\u001b[0m\u001b[0;34m\u001b[0m\u001b[0m\n\u001b[1;32m      4\u001b[0m \u001b[0;31m# print os.path.dirname(os.path.realpath(__file__))\u001b[0m\u001b[0;34m\u001b[0m\u001b[0;34m\u001b[0m\u001b[0;34m\u001b[0m\u001b[0m\n\u001b[1;32m      5\u001b[0m \u001b[0;31m# print os.path.abspath(os.path.dirname(__file__))\u001b[0m\u001b[0;34m\u001b[0m\u001b[0;34m\u001b[0m\u001b[0;34m\u001b[0m\u001b[0m\n",
      "\u001b[0;31mNameError\u001b[0m: name '__file__' is not defined"
     ]
    }
   ],
   "source": [
    "import os\n",
    "print(__file__)\n",
    "# print os.path.join(os.path.dirname(__file__), '..')\n",
    "# print os.path.dirname(os.path.realpath(__file__))\n",
    "# print os.path.abspath(os.path.dirname(__file__))"
   ]
  },
  {
   "cell_type": "code",
   "execution_count": 43,
   "metadata": {},
   "outputs": [
    {
     "data": {
      "text/plain": [
       "'/home/shakkeel/Desktop/mlsquare-playground/cook-imly/Notebooks'"
      ]
     },
     "execution_count": 43,
     "metadata": {},
     "output_type": "execute_result"
    }
   ],
   "source": [
    "os.path.abspath('')"
   ]
  },
  {
   "cell_type": "code",
   "execution_count": null,
   "metadata": {},
   "outputs": [],
   "source": []
  }
 ],
 "metadata": {
  "kernelspec": {
   "display_name": "Python 3",
   "language": "python",
   "name": "python3"
  },
  "language_info": {
   "codemirror_mode": {
    "name": "ipython",
    "version": 3
   },
   "file_extension": ".py",
   "mimetype": "text/x-python",
   "name": "python",
   "nbconvert_exporter": "python",
   "pygments_lexer": "ipython3",
   "version": "3.6.8"
  },
  "toc": {
   "base_numbering": 1,
   "nav_menu": {},
   "number_sections": true,
   "sideBar": true,
   "skip_h1_title": false,
   "title_cell": "Table of Contents",
   "title_sidebar": "Contents",
   "toc_cell": false,
   "toc_position": {
    "height": "calc(100% - 180px)",
    "left": "10px",
    "top": "150px",
    "width": "284.117px"
   },
   "toc_section_display": true,
   "toc_window_display": true
  }
 },
 "nbformat": 4,
 "nbformat_minor": 2
}
