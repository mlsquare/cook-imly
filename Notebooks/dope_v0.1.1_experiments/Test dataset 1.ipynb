{
 "cells": [
  {
   "cell_type": "markdown",
   "metadata": {},
   "source": [
    "# Notes #\n",
    "1. Data preparation\n",
    "    + \n",
    "\n",
    "\n",
    "**Rough notes**  \n",
    "1. "
   ]
  },
  {
   "cell_type": "markdown",
   "metadata": {},
   "source": [
    "---"
   ]
  },
  {
   "cell_type": "markdown",
   "metadata": {},
   "source": [
    "**Data preparation**"
   ]
  },
  {
   "cell_type": "code",
   "execution_count": 19,
   "metadata": {},
   "outputs": [],
   "source": [
    "# Data preparation #\n",
    "\n",
    "# Load CSV using Pandas\n",
    "import pandas as pd\n",
    "import numpy as np\n",
    "\n",
    "data = pd.read_csv(\"../data/test1_dataset.csv\", delimiter=\",\", header=None, index_col=False)\n",
    "\n",
    "X = data.iloc[1:,1:4001]\n",
    "Y = data.iloc[1:,-1]\n",
    "\n",
    "# print(\"Class distribution\")    \n",
    "# print(\"Class 1 \", Y[1].value_counts()[0] / Y.shape[0] * 100)\n",
    "# print(\"Class 2 \", Y[1].value_counts()[1] / Y.shape[0] * 100)\n",
    "\n",
    "# # Normalize the X values #\n",
    "# from sklearn.preprocessing import StandardScaler\n",
    "# sc = StandardScaler()\n",
    "# X = sc.fit_transform(X)\n"
   ]
  },
  {
   "cell_type": "code",
   "execution_count": 20,
   "metadata": {},
   "outputs": [
    {
     "data": {
      "text/html": [
       "<div>\n",
       "<style scoped>\n",
       "    .dataframe tbody tr th:only-of-type {\n",
       "        vertical-align: middle;\n",
       "    }\n",
       "\n",
       "    .dataframe tbody tr th {\n",
       "        vertical-align: top;\n",
       "    }\n",
       "\n",
       "    .dataframe thead th {\n",
       "        text-align: right;\n",
       "    }\n",
       "</style>\n",
       "<table border=\"1\" class=\"dataframe\">\n",
       "  <thead>\n",
       "    <tr style=\"text-align: right;\">\n",
       "      <th></th>\n",
       "      <th>1</th>\n",
       "      <th>2</th>\n",
       "      <th>3</th>\n",
       "      <th>4</th>\n",
       "      <th>5</th>\n",
       "      <th>6</th>\n",
       "      <th>7</th>\n",
       "      <th>8</th>\n",
       "      <th>9</th>\n",
       "      <th>10</th>\n",
       "      <th>...</th>\n",
       "      <th>3991</th>\n",
       "      <th>3992</th>\n",
       "      <th>3993</th>\n",
       "      <th>3994</th>\n",
       "      <th>3995</th>\n",
       "      <th>3996</th>\n",
       "      <th>3997</th>\n",
       "      <th>3998</th>\n",
       "      <th>3999</th>\n",
       "      <th>4000</th>\n",
       "    </tr>\n",
       "  </thead>\n",
       "  <tbody>\n",
       "    <tr>\n",
       "      <th>1</th>\n",
       "      <td>1.704799</td>\n",
       "      <td>-0.745489</td>\n",
       "      <td>0.052248</td>\n",
       "      <td>1.748210</td>\n",
       "      <td>-0.796583</td>\n",
       "      <td>-0.348523</td>\n",
       "      <td>-1.205813</td>\n",
       "      <td>-1.275925</td>\n",
       "      <td>-0.041451</td>\n",
       "      <td>-2.060825</td>\n",
       "      <td>...</td>\n",
       "      <td>-0.102683</td>\n",
       "      <td>0.141567</td>\n",
       "      <td>-0.508027</td>\n",
       "      <td>-0.268470</td>\n",
       "      <td>-0.683595</td>\n",
       "      <td>-1.148360</td>\n",
       "      <td>-0.768934</td>\n",
       "      <td>0.410325</td>\n",
       "      <td>1.180934</td>\n",
       "      <td>-0.342190</td>\n",
       "    </tr>\n",
       "    <tr>\n",
       "      <th>2</th>\n",
       "      <td>0.797852</td>\n",
       "      <td>0.911313</td>\n",
       "      <td>-0.261807</td>\n",
       "      <td>0.231184</td>\n",
       "      <td>-0.427165</td>\n",
       "      <td>-0.512496</td>\n",
       "      <td>2.087391</td>\n",
       "      <td>-0.893582</td>\n",
       "      <td>-0.538660</td>\n",
       "      <td>1.263629</td>\n",
       "      <td>...</td>\n",
       "      <td>0.611766</td>\n",
       "      <td>1.014224</td>\n",
       "      <td>1.008310</td>\n",
       "      <td>-0.969186</td>\n",
       "      <td>-0.789943</td>\n",
       "      <td>-0.381024</td>\n",
       "      <td>-0.025922</td>\n",
       "      <td>0.238282</td>\n",
       "      <td>-0.154614</td>\n",
       "      <td>-1.751410</td>\n",
       "    </tr>\n",
       "    <tr>\n",
       "      <th>3</th>\n",
       "      <td>0.545433</td>\n",
       "      <td>0.512226</td>\n",
       "      <td>-1.445186</td>\n",
       "      <td>-1.502195</td>\n",
       "      <td>-0.957869</td>\n",
       "      <td>-1.382279</td>\n",
       "      <td>-0.227001</td>\n",
       "      <td>-0.481144</td>\n",
       "      <td>-0.240505</td>\n",
       "      <td>0.878549</td>\n",
       "      <td>...</td>\n",
       "      <td>-1.133595</td>\n",
       "      <td>-0.007860</td>\n",
       "      <td>-0.087068</td>\n",
       "      <td>-1.712189</td>\n",
       "      <td>0.879362</td>\n",
       "      <td>1.082480</td>\n",
       "      <td>0.471231</td>\n",
       "      <td>1.180879</td>\n",
       "      <td>-0.143177</td>\n",
       "      <td>0.827599</td>\n",
       "    </tr>\n",
       "    <tr>\n",
       "      <th>4</th>\n",
       "      <td>0.148874</td>\n",
       "      <td>-0.319653</td>\n",
       "      <td>0.353593</td>\n",
       "      <td>0.300798</td>\n",
       "      <td>-1.196353</td>\n",
       "      <td>0.521240</td>\n",
       "      <td>-0.939005</td>\n",
       "      <td>0.619990</td>\n",
       "      <td>0.603118</td>\n",
       "      <td>1.113003</td>\n",
       "      <td>...</td>\n",
       "      <td>0.738490</td>\n",
       "      <td>1.549680</td>\n",
       "      <td>0.698603</td>\n",
       "      <td>-0.082834</td>\n",
       "      <td>-0.626794</td>\n",
       "      <td>-0.637757</td>\n",
       "      <td>-1.265041</td>\n",
       "      <td>0.340837</td>\n",
       "      <td>-0.760557</td>\n",
       "      <td>0.370310</td>\n",
       "    </tr>\n",
       "    <tr>\n",
       "      <th>5</th>\n",
       "      <td>0.971046</td>\n",
       "      <td>0.746979</td>\n",
       "      <td>-0.892656</td>\n",
       "      <td>-0.005310</td>\n",
       "      <td>0.382211</td>\n",
       "      <td>-0.655132</td>\n",
       "      <td>-1.001910</td>\n",
       "      <td>-0.279604</td>\n",
       "      <td>0.542036</td>\n",
       "      <td>-0.206648</td>\n",
       "      <td>...</td>\n",
       "      <td>0.275740</td>\n",
       "      <td>0.305455</td>\n",
       "      <td>-0.527183</td>\n",
       "      <td>-0.472227</td>\n",
       "      <td>-0.251049</td>\n",
       "      <td>1.276179</td>\n",
       "      <td>0.679010</td>\n",
       "      <td>0.266851</td>\n",
       "      <td>1.207925</td>\n",
       "      <td>0.302580</td>\n",
       "    </tr>\n",
       "  </tbody>\n",
       "</table>\n",
       "<p>5 rows × 4000 columns</p>\n",
       "</div>"
      ],
      "text/plain": [
       "       1         2         3         4         5         6         7     \\\n",
       "1  1.704799 -0.745489  0.052248  1.748210 -0.796583 -0.348523 -1.205813   \n",
       "2  0.797852  0.911313 -0.261807  0.231184 -0.427165 -0.512496  2.087391   \n",
       "3  0.545433  0.512226 -1.445186 -1.502195 -0.957869 -1.382279 -0.227001   \n",
       "4  0.148874 -0.319653  0.353593  0.300798 -1.196353  0.521240 -0.939005   \n",
       "5  0.971046  0.746979 -0.892656 -0.005310  0.382211 -0.655132 -1.001910   \n",
       "\n",
       "       8         9         10      ...         3991      3992      3993  \\\n",
       "1 -1.275925 -0.041451 -2.060825    ...    -0.102683  0.141567 -0.508027   \n",
       "2 -0.893582 -0.538660  1.263629    ...     0.611766  1.014224  1.008310   \n",
       "3 -0.481144 -0.240505  0.878549    ...    -1.133595 -0.007860 -0.087068   \n",
       "4  0.619990  0.603118  1.113003    ...     0.738490  1.549680  0.698603   \n",
       "5 -0.279604  0.542036 -0.206648    ...     0.275740  0.305455 -0.527183   \n",
       "\n",
       "       3994      3995      3996      3997      3998      3999      4000  \n",
       "1 -0.268470 -0.683595 -1.148360 -0.768934  0.410325  1.180934 -0.342190  \n",
       "2 -0.969186 -0.789943 -0.381024 -0.025922  0.238282 -0.154614 -1.751410  \n",
       "3 -1.712189  0.879362  1.082480  0.471231  1.180879 -0.143177  0.827599  \n",
       "4 -0.082834 -0.626794 -0.637757 -1.265041  0.340837 -0.760557  0.370310  \n",
       "5 -0.472227 -0.251049  1.276179  0.679010  0.266851  1.207925  0.302580  \n",
       "\n",
       "[5 rows x 4000 columns]"
      ]
     },
     "execution_count": 20,
     "metadata": {},
     "output_type": "execute_result"
    }
   ],
   "source": [
    "X.head()"
   ]
  },
  {
   "cell_type": "code",
   "execution_count": 15,
   "metadata": {},
   "outputs": [
    {
     "data": {
      "text/plain": [
       "pandas.core.series.Series"
      ]
     },
     "execution_count": 15,
     "metadata": {},
     "output_type": "execute_result"
    }
   ],
   "source": []
  },
  {
   "cell_type": "code",
   "execution_count": 8,
   "metadata": {},
   "outputs": [
    {
     "data": {
      "text/html": [
       "<div>\n",
       "<style scoped>\n",
       "    .dataframe tbody tr th:only-of-type {\n",
       "        vertical-align: middle;\n",
       "    }\n",
       "\n",
       "    .dataframe tbody tr th {\n",
       "        vertical-align: top;\n",
       "    }\n",
       "\n",
       "    .dataframe thead th {\n",
       "        text-align: right;\n",
       "    }\n",
       "</style>\n",
       "<table border=\"1\" class=\"dataframe\">\n",
       "  <thead>\n",
       "    <tr style=\"text-align: right;\">\n",
       "      <th></th>\n",
       "      <th>0</th>\n",
       "      <th>1</th>\n",
       "      <th>2</th>\n",
       "      <th>3</th>\n",
       "      <th>4</th>\n",
       "      <th>5</th>\n",
       "      <th>6</th>\n",
       "      <th>7</th>\n",
       "      <th>8</th>\n",
       "      <th>9</th>\n",
       "      <th>...</th>\n",
       "      <th>3992</th>\n",
       "      <th>3993</th>\n",
       "      <th>3994</th>\n",
       "      <th>3995</th>\n",
       "      <th>3996</th>\n",
       "      <th>3997</th>\n",
       "      <th>3998</th>\n",
       "      <th>3999</th>\n",
       "      <th>4000</th>\n",
       "      <th>4001</th>\n",
       "    </tr>\n",
       "  </thead>\n",
       "  <tbody>\n",
       "    <tr>\n",
       "      <th>0</th>\n",
       "      <td>NaN</td>\n",
       "      <td>1.000000</td>\n",
       "      <td>2.000000</td>\n",
       "      <td>3.000000</td>\n",
       "      <td>4.000000</td>\n",
       "      <td>5.000000</td>\n",
       "      <td>6.000000</td>\n",
       "      <td>7.000000</td>\n",
       "      <td>8.000000</td>\n",
       "      <td>9.000000</td>\n",
       "      <td>...</td>\n",
       "      <td>3992.000000</td>\n",
       "      <td>3993.000000</td>\n",
       "      <td>3994.000000</td>\n",
       "      <td>3995.000000</td>\n",
       "      <td>3996.000000</td>\n",
       "      <td>3997.000000</td>\n",
       "      <td>3998.000000</td>\n",
       "      <td>3999.000000</td>\n",
       "      <td>4000.000000</td>\n",
       "      <td>1</td>\n",
       "    </tr>\n",
       "    <tr>\n",
       "      <th>1</th>\n",
       "      <td>1.0</td>\n",
       "      <td>1.704799</td>\n",
       "      <td>-0.745489</td>\n",
       "      <td>0.052248</td>\n",
       "      <td>1.748210</td>\n",
       "      <td>-0.796583</td>\n",
       "      <td>-0.348523</td>\n",
       "      <td>-1.205813</td>\n",
       "      <td>-1.275925</td>\n",
       "      <td>-0.041451</td>\n",
       "      <td>...</td>\n",
       "      <td>0.141567</td>\n",
       "      <td>-0.508027</td>\n",
       "      <td>-0.268470</td>\n",
       "      <td>-0.683595</td>\n",
       "      <td>-1.148360</td>\n",
       "      <td>-0.768934</td>\n",
       "      <td>0.410325</td>\n",
       "      <td>1.180934</td>\n",
       "      <td>-0.342190</td>\n",
       "      <td>1</td>\n",
       "    </tr>\n",
       "    <tr>\n",
       "      <th>2</th>\n",
       "      <td>2.0</td>\n",
       "      <td>0.797852</td>\n",
       "      <td>0.911313</td>\n",
       "      <td>-0.261807</td>\n",
       "      <td>0.231184</td>\n",
       "      <td>-0.427165</td>\n",
       "      <td>-0.512496</td>\n",
       "      <td>2.087391</td>\n",
       "      <td>-0.893582</td>\n",
       "      <td>-0.538660</td>\n",
       "      <td>...</td>\n",
       "      <td>1.014224</td>\n",
       "      <td>1.008310</td>\n",
       "      <td>-0.969186</td>\n",
       "      <td>-0.789943</td>\n",
       "      <td>-0.381024</td>\n",
       "      <td>-0.025922</td>\n",
       "      <td>0.238282</td>\n",
       "      <td>-0.154614</td>\n",
       "      <td>-1.751410</td>\n",
       "      <td>1</td>\n",
       "    </tr>\n",
       "    <tr>\n",
       "      <th>3</th>\n",
       "      <td>3.0</td>\n",
       "      <td>0.545433</td>\n",
       "      <td>0.512226</td>\n",
       "      <td>-1.445186</td>\n",
       "      <td>-1.502195</td>\n",
       "      <td>-0.957869</td>\n",
       "      <td>-1.382279</td>\n",
       "      <td>-0.227001</td>\n",
       "      <td>-0.481144</td>\n",
       "      <td>-0.240505</td>\n",
       "      <td>...</td>\n",
       "      <td>-0.007860</td>\n",
       "      <td>-0.087068</td>\n",
       "      <td>-1.712189</td>\n",
       "      <td>0.879362</td>\n",
       "      <td>1.082480</td>\n",
       "      <td>0.471231</td>\n",
       "      <td>1.180879</td>\n",
       "      <td>-0.143177</td>\n",
       "      <td>0.827599</td>\n",
       "      <td>0</td>\n",
       "    </tr>\n",
       "    <tr>\n",
       "      <th>4</th>\n",
       "      <td>4.0</td>\n",
       "      <td>0.148874</td>\n",
       "      <td>-0.319653</td>\n",
       "      <td>0.353593</td>\n",
       "      <td>0.300798</td>\n",
       "      <td>-1.196353</td>\n",
       "      <td>0.521240</td>\n",
       "      <td>-0.939005</td>\n",
       "      <td>0.619990</td>\n",
       "      <td>0.603118</td>\n",
       "      <td>...</td>\n",
       "      <td>1.549680</td>\n",
       "      <td>0.698603</td>\n",
       "      <td>-0.082834</td>\n",
       "      <td>-0.626794</td>\n",
       "      <td>-0.637757</td>\n",
       "      <td>-1.265041</td>\n",
       "      <td>0.340837</td>\n",
       "      <td>-0.760557</td>\n",
       "      <td>0.370310</td>\n",
       "      <td>1</td>\n",
       "    </tr>\n",
       "  </tbody>\n",
       "</table>\n",
       "<p>5 rows × 4002 columns</p>\n",
       "</div>"
      ],
      "text/plain": [
       "   0         1         2         3         4         5         6         7     \\\n",
       "0   NaN  1.000000  2.000000  3.000000  4.000000  5.000000  6.000000  7.000000   \n",
       "1   1.0  1.704799 -0.745489  0.052248  1.748210 -0.796583 -0.348523 -1.205813   \n",
       "2   2.0  0.797852  0.911313 -0.261807  0.231184 -0.427165 -0.512496  2.087391   \n",
       "3   3.0  0.545433  0.512226 -1.445186 -1.502195 -0.957869 -1.382279 -0.227001   \n",
       "4   4.0  0.148874 -0.319653  0.353593  0.300798 -1.196353  0.521240 -0.939005   \n",
       "\n",
       "       8         9     ...          3992         3993         3994  \\\n",
       "0  8.000000  9.000000  ...   3992.000000  3993.000000  3994.000000   \n",
       "1 -1.275925 -0.041451  ...      0.141567    -0.508027    -0.268470   \n",
       "2 -0.893582 -0.538660  ...      1.014224     1.008310    -0.969186   \n",
       "3 -0.481144 -0.240505  ...     -0.007860    -0.087068    -1.712189   \n",
       "4  0.619990  0.603118  ...      1.549680     0.698603    -0.082834   \n",
       "\n",
       "          3995         3996         3997         3998         3999  \\\n",
       "0  3995.000000  3996.000000  3997.000000  3998.000000  3999.000000   \n",
       "1    -0.683595    -1.148360    -0.768934     0.410325     1.180934   \n",
       "2    -0.789943    -0.381024    -0.025922     0.238282    -0.154614   \n",
       "3     0.879362     1.082480     0.471231     1.180879    -0.143177   \n",
       "4    -0.626794    -0.637757    -1.265041     0.340837    -0.760557   \n",
       "\n",
       "          4000  4001  \n",
       "0  4000.000000     1  \n",
       "1    -0.342190     1  \n",
       "2    -1.751410     1  \n",
       "3     0.827599     0  \n",
       "4     0.370310     1  \n",
       "\n",
       "[5 rows x 4002 columns]"
      ]
     },
     "execution_count": 8,
     "metadata": {},
     "output_type": "execute_result"
    }
   ],
   "source": []
  },
  {
   "cell_type": "markdown",
   "metadata": {},
   "source": [
    "---"
   ]
  },
  {
   "cell_type": "markdown",
   "metadata": {},
   "source": [
    "**Keras Model**"
   ]
  },
  {
   "cell_type": "code",
   "execution_count": 2,
   "metadata": {},
   "outputs": [
    {
     "name": "stderr",
     "output_type": "stream",
     "text": [
      "Using TensorFlow backend.\n"
     ]
    },
    {
     "name": "stdout",
     "output_type": "stream",
     "text": [
      "Epoch 1/10\n",
      "400/400 [==============================] - 2s 5ms/step - loss: 0.8951 - acc: 0.5350\n",
      "Epoch 2/10\n",
      "400/400 [==============================] - 0s 83us/step - loss: 0.6846 - acc: 0.6300\n",
      "Epoch 3/10\n",
      "400/400 [==============================] - 0s 68us/step - loss: 0.5169 - acc: 0.7725\n",
      "Epoch 4/10\n",
      "400/400 [==============================] - 0s 74us/step - loss: 0.3932 - acc: 0.8800\n",
      "Epoch 5/10\n",
      "400/400 [==============================] - 0s 109us/step - loss: 0.2992 - acc: 0.9450\n",
      "Epoch 6/10\n",
      "400/400 [==============================] - 0s 66us/step - loss: 0.2276 - acc: 0.9775\n",
      "Epoch 7/10\n",
      "400/400 [==============================] - 0s 101us/step - loss: 0.1789 - acc: 0.9925\n",
      "Epoch 8/10\n",
      "400/400 [==============================] - 0s 84us/step - loss: 0.1440 - acc: 1.0000\n",
      "Epoch 9/10\n",
      "400/400 [==============================] - 0s 66us/step - loss: 0.1186 - acc: 1.0000\n",
      "Epoch 10/10\n",
      "400/400 [==============================] - 0s 74us/step - loss: 0.1003 - acc: 1.0000\n",
      "600/600 [==============================] - 0s 100us/step\n",
      "\n",
      "acc: 48.83%\n"
     ]
    }
   ],
   "source": [
    "# Keras #\n",
    "\n",
    "### Logistic regression using DNN ###\n",
    "import numpy as np\n",
    "from keras.models import Sequential\n",
    "from keras.layers.core import Dense, Activation\n",
    "from keras.utils import np_utils\n",
    "\n",
    "np.random.seed(7)\n",
    "\n",
    "# Defining model #\n",
    "\n",
    "model = Sequential()\n",
    "model.add(Dense(1,input_dim=4000,activation='sigmoid'))\n",
    "\n",
    "# Compile the model #\n",
    "\n",
    "model.compile(loss='binary_crossentropy', optimizer='adam', metrics=['accuracy'])\n",
    "\n",
    "# Fit the model #\n",
    "\n",
    "model.fit(x_train, y_train, epochs=10, batch_size=100)\n",
    "\n",
    "# Evaluate the model #\n",
    "\n",
    "scores = model.evaluate(x_test, y_test)\n",
    "print(\"\\n%s: %.2f%%\" % (model.metrics_names[1], scores[1]*100))"
   ]
  },
  {
   "cell_type": "markdown",
   "metadata": {},
   "source": [
    "---"
   ]
  },
  {
   "cell_type": "markdown",
   "metadata": {},
   "source": [
    "**Scikit model**"
   ]
  },
  {
   "cell_type": "code",
   "execution_count": 3,
   "metadata": {},
   "outputs": [
    {
     "name": "stdout",
     "output_type": "stream",
     "text": [
      "0.5633333333333334\n"
     ]
    },
    {
     "name": "stderr",
     "output_type": "stream",
     "text": [
      "C:\\Users\\shakk\\Anaconda2\\envs\\py36\\lib\\site-packages\\sklearn\\utils\\validation.py:578: DataConversionWarning: A column-vector y was passed when a 1d array was expected. Please change the shape of y to (n_samples, ), for example using ravel().\n",
      "  y = column_or_1d(y, warn=True)\n"
     ]
    }
   ],
   "source": [
    "# Scikit learn #\n",
    "\n",
    "# Import and create an instance of your model(Logistic regression)\n",
    "\n",
    "from sklearn.linear_model import LogisticRegression\n",
    "logisticRegr = LogisticRegression()\n",
    "\n",
    "# Train your model using the training dataset\n",
    "\n",
    "logisticRegr.fit(x_train,y_train)\n",
    "\n",
    "# Predict the output \n",
    "\n",
    "predictions = logisticRegr.predict(x_test)\n",
    "\n",
    "score = logisticRegr.score(x_test,y_test)\n",
    "print(score)\n"
   ]
  },
  {
   "cell_type": "markdown",
   "metadata": {},
   "source": [
    "---"
   ]
  },
  {
   "cell_type": "markdown",
   "metadata": {},
   "source": [
    "**Kfold validation**"
   ]
  },
  {
   "cell_type": "code",
   "execution_count": 4,
   "metadata": {},
   "outputs": [
    {
     "name": "stdout",
     "output_type": "stream",
     "text": [
      "acc: 46.53%\n",
      "acc: 53.47%\n",
      "acc: 54.00%\n",
      "acc: 59.00%\n",
      "acc: 47.00%\n",
      "acc: 55.00%\n",
      "acc: 48.00%\n",
      "acc: 43.00%\n",
      "acc: 60.61%\n",
      "acc: 59.60%\n",
      "52.62% (+/- 5.86%)\n"
     ]
    }
   ],
   "source": [
    "# Validation #\n",
    "from keras.models import Sequential\n",
    "from keras.layers import Dense\n",
    "from sklearn.model_selection import StratifiedKFold\n",
    "import numpy\n",
    "\n",
    "seed = 7\n",
    "numpy.random.seed(seed)\n",
    "\n",
    "kfold = StratifiedKFold(n_splits=10, shuffle=True, random_state=seed)\n",
    "cvscores = []\n",
    "\n",
    "for train, test in kfold.split(X, Y):\n",
    "    # create model\n",
    "    model = Sequential()\n",
    "    model.add(Dense(1,input_dim=4000,activation='sigmoid'))\n",
    "    # Compile model\n",
    "    model.compile(loss='binary_crossentropy', optimizer='adam', metrics=['accuracy'])\n",
    "    # Fit the model\n",
    "    model.fit(X[train], Y.iloc[train], epochs=10, batch_size=100, verbose=0)\n",
    "    # evaluate the model\n",
    "    scores = model.evaluate(X[test], Y.iloc[test], verbose=0)\n",
    "    print(\"%s: %.2f%%\" % (model.metrics_names[1], scores[1]*100))\n",
    "    cvscores.append(scores[1] * 100)\n",
    "print(\"%.2f%% (+/- %.2f%%)\" % (numpy.mean(cvscores), numpy.std(cvscores)))\n"
   ]
  },
  {
   "cell_type": "markdown",
   "metadata": {},
   "source": [
    "---"
   ]
  },
  {
   "cell_type": "markdown",
   "metadata": {},
   "source": [
    "**ROC Curve and Confusion matrix**"
   ]
  },
  {
   "cell_type": "code",
   "execution_count": 7,
   "metadata": {},
   "outputs": [
    {
     "data": {
      "image/png": "[encoded data removed]",
      "text/plain": [
       "<Figure size 432x288 with 1 Axes>"
      ]
     },
     "metadata": {
      "needs_background": "light"
     },
     "output_type": "display_data"
    },
    {
     "name": "stdout",
     "output_type": "stream",
     "text": [
      "[[296  24]\n",
      " [ 18 262]]\n"
     ]
    }
   ],
   "source": [
    "# Prediction #\n",
    "from sklearn import metrics\n",
    "import matplotlib.pyplot as plt\n",
    "from sklearn.metrics import confusion_matrix\n",
    "\n",
    "y_pred = model.predict(x_test)\n",
    "y_pred = (y_pred>0.5)\n",
    "fpr, tpr, threshold = metrics.roc_curve(y_test, y_pred)\n",
    "roc_auc = metrics.auc(fpr, tpr)\n",
    "\n",
    "\n",
    "plt.title('Receiver Operating Characteristic')\n",
    "plt.plot(fpr, tpr, 'b', label = 'AUC = %0.2f' % roc_auc)\n",
    "plt.legend(loc = 'lower right')\n",
    "plt.plot([0, 1], [0, 1],'r--')\n",
    "plt.xlim([0, 1])\n",
    "plt.ylim([0, 1])\n",
    "plt.ylabel('True Positive Rate')\n",
    "plt.xlabel('False Positive Rate')\n",
    "plt.show()\n",
    "\n",
    "\n",
    "# Creating the Confusion Matrix\n",
    "cm = confusion_matrix(y_test, y_pred)\n",
    "print(cm)"
   ]
  },
  {
   "cell_type": "markdown",
   "metadata": {},
   "source": [
    "---"
   ]
  },
  {
   "cell_type": "markdown",
   "metadata": {},
   "source": [
    "**Classification Report**"
   ]
  },
  {
   "cell_type": "code",
   "execution_count": 6,
   "metadata": {},
   "outputs": [
    {
     "name": "stdout",
     "output_type": "stream",
     "text": [
      "             precision    recall  f1-score   support\n",
      "\n",
      "    Class 1       0.94      0.93      0.93       320\n",
      "    Class 2       0.92      0.94      0.93       280\n",
      "\n",
      "avg / total       0.93      0.93      0.93       600\n",
      "\n"
     ]
    }
   ],
   "source": [
    "from sklearn.metrics import classification_report\n",
    "\n",
    "target_names = ['Class 1', 'Class 2']\n",
    "print(classification_report(y_test, y_pred, target_names=target_names))"
   ]
  },
  {
   "cell_type": "markdown",
   "metadata": {},
   "source": [
    "---"
   ]
  },
  {
   "cell_type": "markdown",
   "metadata": {},
   "source": [
    "# Pending #\n",
    "1. "
   ]
  }
 ],
 "metadata": {
  "kernelspec": {
   "display_name": "Python 3",
   "language": "python",
   "name": "python3"
  },
  "language_info": {
   "codemirror_mode": {
    "name": "ipython",
    "version": 3
   },
   "file_extension": ".py",
   "mimetype": "text/x-python",
   "name": "python",
   "nbconvert_exporter": "python",
   "pygments_lexer": "ipython3",
   "version": "3.6.6"
  }
 },
 "nbformat": 4,
 "nbformat_minor": 2
}
