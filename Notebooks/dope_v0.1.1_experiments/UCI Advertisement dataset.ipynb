{
 "cells": [
  {
   "cell_type": "markdown",
   "metadata": {},
   "source": [
    "# Notes #\n",
    "1. Data preparation\n",
    "    + Why do we have to use normalization in this  \n",
    "    specific case?\n",
    "\n",
    "\n",
    "**Rough notes**  \n",
    "1. "
   ]
  },
  {
   "cell_type": "markdown",
   "metadata": {},
   "source": [
    "---"
   ]
  },
  {
   "cell_type": "markdown",
   "metadata": {},
   "source": [
    "**Data preparation**"
   ]
  },
  {
   "cell_type": "code",
   "execution_count": 1,
   "metadata": {},
   "outputs": [],
   "source": [
    "# Load dataset info #\n",
    "import automation_script\n",
    "import pandas as pd\n",
    "import numpy as np\n",
    "from os import path\n",
    "from sklearn.preprocessing import LabelEncoder\n",
    "\n",
    "dataset_name = \"UCI Ad dataset\"\n",
    "dataset_info = automation_script.get_url(dataset_name)"
   ]
  },
  {
   "cell_type": "code",
   "execution_count": 13,
   "metadata": {},
   "outputs": [
    {
     "name": "stderr",
     "output_type": "stream",
     "text": [
      "C:\\Users\\shakk\\Anaconda2\\envs\\py36\\lib\\site-packages\\IPython\\core\\interactiveshell.py:2785: DtypeWarning: Columns (3) have mixed types. Specify dtype option on import or set low_memory=False.\n",
      "  interactivity=interactivity, compiler=compiler, result=result)\n"
     ]
    }
   ],
   "source": [
    "url = \"../data/ad.data.csv\" if path.exists(\"../data/dataset.csv.csv\") else dataset_info['url']\n",
    "data = pd.read_csv(url, delimiter=\",\", header=None, index_col=False)\n",
    "\n",
    "# Check for columns that contain missing values #\n",
    "\n",
    "data = data.applymap(lambda val: np.nan if str(val).strip() == '?' else val)\n",
    "data = data.dropna()\n",
    "\n",
    "\n",
    "# Label encoding #\n",
    "\n",
    "lb = LabelEncoder()\n",
    "Y = lb.fit_transform(data.iloc[:, -1])\n",
    "\n",
    "X = data.iloc[:,:-1]\n",
    "\n",
    "# Normalize the X values #\n",
    "from sklearn.preprocessing import StandardScaler\n",
    "sc = StandardScaler()\n",
    "X = sc.fit_transform(X)\n",
    "X = pd.DataFrame(X)\n",
    "Y = pd.DataFrame(Y)"
   ]
  },
  {
   "cell_type": "code",
   "execution_count": null,
   "metadata": {},
   "outputs": [],
   "source": []
  },
  {
   "cell_type": "markdown",
   "metadata": {},
   "source": [
    "---"
   ]
  },
  {
   "cell_type": "markdown",
   "metadata": {},
   "source": [
    "**Keras Model**"
   ]
  },
  {
   "cell_type": "code",
   "execution_count": 14,
   "metadata": {},
   "outputs": [
    {
     "name": "stdout",
     "output_type": "stream",
     "text": [
      "1416/1416 [==============================] - 0s 55us/step\n",
      "\n",
      "acc: 94.35%\n"
     ]
    }
   ],
   "source": [
    "# Keras #\n",
    "\n",
    "config = {\n",
    "    'epoch': 500,\n",
    "    'batch_size': 100,\n",
    "    'verbose': 0,\n",
    "    'model_info': {\n",
    "        'loss':'binary_crossentropy',\n",
    "        'optimizer':'adam',\n",
    "        'metrics':['accuracy']\n",
    "    }\n",
    "}\n",
    "\n",
    "keras_score,keras_params = automation_script.get_keras_params(X,Y,dataset_info,config)"
   ]
  },
  {
   "cell_type": "markdown",
   "metadata": {},
   "source": [
    "---"
   ]
  },
  {
   "cell_type": "markdown",
   "metadata": {},
   "source": [
    "**Scikit model**"
   ]
  },
  {
   "cell_type": "code",
   "execution_count": 15,
   "metadata": {},
   "outputs": [
    {
     "name": "stderr",
     "output_type": "stream",
     "text": [
      "C:\\Users\\shakk\\Anaconda2\\envs\\py36\\lib\\site-packages\\sklearn\\utils\\validation.py:578: DataConversionWarning: A column-vector y was passed when a 1d array was expected. Please change the shape of y to (n_samples, ), for example using ravel().\n",
      "  y = column_or_1d(y, warn=True)\n"
     ]
    },
    {
     "name": "stdout",
     "output_type": "stream",
     "text": [
      "0.9477401129943502\n"
     ]
    }
   ],
   "source": [
    "# Scikit learn #\n",
    "scikit_score, scikit_params = automation_script.get_scikit_params(X,Y)"
   ]
  },
  {
   "cell_type": "markdown",
   "metadata": {},
   "source": [
    "---"
   ]
  },
  {
   "cell_type": "markdown",
   "metadata": {},
   "source": [
    "**Kfold validation**"
   ]
  },
  {
   "cell_type": "code",
   "execution_count": 16,
   "metadata": {},
   "outputs": [
    {
     "name": "stdout",
     "output_type": "stream",
     "text": [
      "acc: 95.36%\n",
      "acc: 95.34%\n",
      "acc: 97.03%\n",
      "acc: 95.76%\n",
      "acc: 96.19%\n",
      "acc: 95.76%\n",
      "acc: 98.73%\n",
      "acc: 97.03%\n",
      "acc: 94.89%\n",
      "acc: 96.60%\n",
      "96.27% (+/- 1.07%)\n",
      "\n",
      "   -------------   \n",
      "\n"
     ]
    },
    {
     "data": {
      "text/plain": [
       "<Figure size 640x480 with 1 Axes>"
      ]
     },
     "metadata": {},
     "output_type": "display_data"
    },
    {
     "name": "stdout",
     "output_type": "stream",
     "text": [
      "[[ 227    5]\n",
      " [   8 1176]]\n",
      "\n",
      "   -------------   \n",
      "\n",
      "             precision    recall  f1-score   support\n",
      "\n",
      "    Class 1       0.97      0.98      0.97       232\n",
      "    Class 2       1.00      0.99      0.99      1184\n",
      "\n",
      "avg / total       0.99      0.99      0.99      1416\n",
      "\n"
     ]
    }
   ],
   "source": [
    "config = {\n",
    "    'epoch': 500,\n",
    "    'batch_size': 100,\n",
    "    'splits':10,\n",
    "    'model_info': {\n",
    "        'loss':'binary_crossentropy',\n",
    "        'optimizer':'adam',\n",
    "        'metrics':['accuracy']\n",
    "    }\n",
    "}\n",
    "\n",
    "kfold_acc = automation_script.get_kfold(X,Y,config)"
   ]
  },
  {
   "cell_type": "markdown",
   "metadata": {},
   "source": [
    "---"
   ]
  },
  {
   "cell_type": "markdown",
   "metadata": {},
   "source": [
    "#### Writing back to Master sheet ####"
   ]
  },
  {
   "cell_type": "code",
   "execution_count": 17,
   "metadata": {},
   "outputs": [],
   "source": [
    "dataset_info['scikit_params'] = scikit_params\n",
    "dataset_info['keras_params'] = keras_params\n",
    "dataset_info['type'] = 'Binary'\n",
    "accuracy_values = {\n",
    "    'keras': keras_score,\n",
    "    'scikit': scikit_score,\n",
    "    'kfold': kfold_acc\n",
    "}\n",
    "\n",
    "automation_script.write_to_mastersheet(dataset_info,X,Y,accuracy_values)"
   ]
  },
  {
   "cell_type": "markdown",
   "metadata": {},
   "source": [
    "---"
   ]
  },
  {
   "cell_type": "markdown",
   "metadata": {},
   "source": [
    "# Pending #\n",
    "1. "
   ]
  }
 ],
 "metadata": {
  "kernelspec": {
   "display_name": "Python 3",
   "language": "python",
   "name": "python3"
  },
  "language_info": {
   "codemirror_mode": {
    "name": "ipython",
    "version": 3
   },
   "file_extension": ".py",
   "mimetype": "text/x-python",
   "name": "python",
   "nbconvert_exporter": "python",
   "pygments_lexer": "ipython3",
   "version": "3.6.6"
  }
 },
 "nbformat": 4,
 "nbformat_minor": 2
}
