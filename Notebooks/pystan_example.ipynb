{
 "cells": [
  {
   "cell_type": "code",
   "execution_count": 1,
   "metadata": {},
   "outputs": [],
   "source": [
    "import numpy as np\n",
    "import scipy as sp\n",
    "%load_ext autoreload\n",
    "%autoreload 2"
   ]
  },
  {
   "cell_type": "markdown",
   "metadata": {},
   "source": [
    "# simulate data y~n(mu,sigma), mu~n(mu0,sig0)"
   ]
  },
  {
   "cell_type": "code",
   "execution_count": 31,
   "metadata": {},
   "outputs": [],
   "source": [
    "p = 2\n",
    "rho = 0.5\n",
    "mu0 = np.ones([p,1])\n",
    "sigma0 = np.identity(p)\n",
    "sigma = np.array([[1,rho],[rho,1]])\n",
    "n = 100\n",
    "y = np.zeros([p,n])\n",
    "for i in range(n):\n",
    "    mn = np.random.multivariate_normal(mu0.ravel(),sigma0)\n",
    "    obs = np.random.multivariate_normal(mn.ravel(),sigma)\n",
    "    y[:,i] = obs"
   ]
  },
  {
   "cell_type": "markdown",
   "metadata": {},
   "source": [
    "# get posterio distribution, analytically"
   ]
  },
  {
   "cell_type": "code",
   "execution_count": 32,
   "metadata": {},
   "outputs": [
    {
     "name": "stdout",
     "output_type": "stream",
     "text": [
      "[[1.03735823]\n",
      " [1.17609898]]\n",
      "0.49627791563275436\n",
      "0.5\n"
     ]
    }
   ],
   "source": [
    "ybar = np.reshape(np.mean(y,axis=-1),(2,1))\n",
    "post_sig = np.linalg.inv((n*np.linalg.inv(sigma))+np.linalg.inv(sigma0))\n",
    "\n",
    "def get_post_mean(mu0,sigma0,sigma,ybar,n):\n",
    "    tmp1 = np.matmul(np.linalg.inv(sigma0),mu0)\n",
    "    tmp2 = n*np.matmul(np.linalg.inv(sigma),ybar)\n",
    "    tmp3 = np.matmul(post_sig,tmp1+tmp2)\n",
    "    return tmp3\n",
    "    \n",
    "def get_rho(sigma):\n",
    "    return sigma[1,0]/(np.sqrt(sigma[0,0])*np.sqrt(sigma[1,1]))\n",
    "\n",
    "\n",
    "#post_sig = np.linalg.inv((n*np.matmul(np.linalg.inv(sigma),ybar))+np.linalg.inv(sigma0))\n",
    "post_mean = get_post_mean(mu0,sigma0,sigma,ybar,n)\n",
    "post_rho = get_rho(post_sig)\n",
    "prior_rho = get_rho(sigma0)\n",
    "\n",
    "print(post_mean)\n",
    "print(get_rho(post_sig))\n",
    "print(get_rho(sigma))"
   ]
  },
  {
   "cell_type": "markdown",
   "metadata": {},
   "source": [
    "# estimate via Deep QR"
   ]
  },
  {
   "cell_type": "markdown",
   "metadata": {},
   "source": [
    "# estimate posterior over MCMC using PyStan"
   ]
  },
  {
   "cell_type": "code",
   "execution_count": 33,
   "metadata": {},
   "outputs": [
    {
     "name": "stderr",
     "output_type": "stream",
     "text": [
      "INFO:pystan:COMPILING THE C++ CODE FOR MODEL anon_model_cb4cc9c2a04d0e34d711077557307fb7 NOW.\n"
     ]
    }
   ],
   "source": [
    "import pystan\n",
    "import matplotlib.pyplot as plt\n",
    "import seaborn as sns\n",
    "import pandas as pd\n",
    "import numpy as np\n",
    "\n",
    "sns.set()  # Nice plot aesthetic\n",
    "np.random.seed(101)\n",
    "\n",
    "model = \"\"\"\n",
    "data {\n",
    "    int<lower=0> N;\n",
    "    vector[N] x;\n",
    "    vector[N] y;\n",
    "}\n",
    "parameters {\n",
    "    real alpha;\n",
    "    real beta;\n",
    "    real<lower=0> sigma;\n",
    "}\n",
    "model {\n",
    "    y ~ normal(alpha + beta * x, sigma);\n",
    "}\n",
    "\"\"\"\n",
    "# Parameters to be inferred\n",
    "alpha = 4.0\n",
    "beta = 0.5\n",
    "sigma = 1.0\n",
    "\n",
    "# Generate and plot data\n",
    "x = 10 * np.random.rand(100)\n",
    "y = alpha + beta * x\n",
    "y = np.random.normal(y, scale=sigma)\n",
    "# Put our data in a dictionary\n",
    "data = {'N': len(x), 'x': x, 'y': y}\n",
    "\n",
    "# Compile the model\n",
    "sm = pystan.StanModel(model_code=model)\n",
    "\n",
    "# Train the model and generate samples\n",
    "fit = sm.sampling(data=data, iter=1000, chains=4, warmup=500, thin=1, seed=101)\n",
    "summary_dict = fit.summary()\n",
    "print(summary_dict)"
   ]
  },
  {
   "cell_type": "code",
   "execution_count": 36,
   "metadata": {},
   "outputs": [
    {
     "name": "stdout",
     "output_type": "stream",
     "text": [
      "OrderedDict([('summary', array([[ 3.84723296e+00,  7.79091576e-03,  2.04476226e-01,\n",
      "         3.43219865e+00,  3.71204470e+00,  3.84394529e+00,\n",
      "         3.98862143e+00,  4.24730697e+00,  6.88824561e+02,\n",
      "         1.00380551e+00],\n",
      "       [ 5.18992255e-01,  1.35712972e-03,  3.57738839e-02,\n",
      "         4.51553674e-01,  4.94031077e-01,  5.19022037e-01,\n",
      "         5.42252166e-01,  5.92751491e-01,  6.94847442e+02,\n",
      "         1.00513724e+00],\n",
      "       [ 1.01833638e+00,  2.22970579e-03,  7.24110929e-02,\n",
      "         8.89964491e-01,  9.66515269e-01,  1.01535241e+00,\n",
      "         1.06287782e+00,  1.17144063e+00,  1.05466633e+03,\n",
      "         1.00353560e+00],\n",
      "       [-5.06707612e+01,  4.66894179e-02,  1.19914649e+00,\n",
      "        -5.37411249e+01, -5.11806548e+01, -5.03810091e+01,\n",
      "        -4.98233326e+01, -4.92740575e+01,  6.59640882e+02,\n",
      "         1.00925428e+00]])), ('c_summary', array([[[ 3.82870373e+00,  2.07959206e-01,  3.85228783e+00,\n",
      "          2.07291473e-01],\n",
      "        [ 3.85552278e+00,  2.09997480e-01,  3.85241749e+00,\n",
      "          1.91604620e-01],\n",
      "        [ 3.43969144e+00,  3.68231709e+00,  3.82789131e+00,\n",
      "          3.97602277e+00],\n",
      "        [ 4.23851594e+00,  3.42244756e+00,  3.70866729e+00,\n",
      "          3.84694514e+00],\n",
      "        [ 3.99911549e+00,  4.25933718e+00,  3.41982714e+00,\n",
      "          3.71859925e+00],\n",
      "        [ 3.85476407e+00,  4.00186473e+00,  4.29161408e+00,\n",
      "          3.45231233e+00],\n",
      "        [ 3.72980367e+00,  3.84824863e+00,  3.98716231e+00,\n",
      "          4.21998417e+00]],\n",
      "\n",
      "       [[ 5.21088629e-01,  3.64182371e-02,  5.18227493e-01,\n",
      "          3.65086377e-02],\n",
      "        [ 5.18477298e-01,  3.71772121e-02,  5.18175600e-01,\n",
      "          3.28563507e-02],\n",
      "        [ 4.44639787e-01,  4.95461499e-01,  5.20831268e-01,\n",
      "          5.43798036e-01],\n",
      "        [ 5.93847758e-01,  4.50445532e-01,  4.91260600e-01,\n",
      "          5.20250896e-01],\n",
      "        [ 5.42947513e-01,  5.91132956e-01,  4.51113625e-01,\n",
      "          4.91981637e-01],\n",
      "        [ 5.17711610e-01,  5.42859801e-01,  5.96771317e-01,\n",
      "          4.57888378e-01],\n",
      "        [ 4.95982160e-01,  5.17642213e-01,  5.37725705e-01,\n",
      "          5.85974388e-01]],\n",
      "\n",
      "       [[ 1.02370366e+00,  7.62115425e-02,  1.01751655e+00,\n",
      "          7.26051308e-02],\n",
      "        [ 1.01495516e+00,  7.13956907e-02,  1.01717016e+00,\n",
      "          6.91779060e-02],\n",
      "        [ 8.88151374e-01,  9.68477712e-01,  1.01935245e+00,\n",
      "          1.07090460e+00],\n",
      "        [ 1.18256239e+00,  8.90270567e-01,  9.69023479e-01,\n",
      "          1.00945201e+00],\n",
      "        [ 1.06056424e+00,  1.18598991e+00,  8.87700892e-01,\n",
      "          9.58917339e-01],\n",
      "        [ 1.01404896e+00,  1.06367931e+00,  1.15267295e+00,\n",
      "          8.96597006e-01],\n",
      "        [ 9.68490944e-01,  1.01653133e+00,  1.06007025e+00,\n",
      "          1.16670178e+00]],\n",
      "\n",
      "       [[-5.07207354e+01,  1.28847410e+00, -5.07499143e+01,\n",
      "          1.26647978e+00],\n",
      "        [-5.07079179e+01,  1.18677547e+00, -5.05044771e+01,\n",
      "          1.02470107e+00],\n",
      "        [-5.42558896e+01, -5.12321427e+01, -5.03879116e+01,\n",
      "         -4.98182305e+01],\n",
      "        [-4.92825463e+01, -5.37927826e+01, -5.13525612e+01,\n",
      "         -5.04167054e+01],\n",
      "        [-4.98424029e+01, -4.92926031e+01, -5.38966119e+01,\n",
      "         -5.12534775e+01],\n",
      "        [-5.04296157e+01, -4.98526756e+01, -4.92746806e+01,\n",
      "         -5.30037436e+01],\n",
      "        [-5.09556518e+01, -5.02585071e+01, -4.97701475e+01,\n",
      "         -4.92580977e+01]]])), ('summary_rownames', array(['alpha', 'beta', 'sigma', 'lp__'], dtype='<U5')), ('summary_colnames', ('mean', 'se_mean', 'sd', '2.5%', '25%', '50%', '75%', '97.5%', 'n_eff', 'Rhat')), ('c_summary_rownames', array(['alpha', 'beta', 'sigma', 'lp__'], dtype='<U5')), ('c_summary_colnames', ('mean', 'sd', '2.5%', '25%', '50%', '75%', '97.5%'))])\n"
     ]
    }
   ],
   "source": []
  },
  {
   "cell_type": "code",
   "execution_count": null,
   "metadata": {},
   "outputs": [],
   "source": []
  }
 ],
 "metadata": {
  "kernelspec": {
   "display_name": "daggit",
   "language": "python",
   "name": "daggit"
  },
  "language_info": {
   "codemirror_mode": {
    "name": "ipython",
    "version": 3
   },
   "file_extension": ".py",
   "mimetype": "text/x-python",
   "name": "python",
   "nbconvert_exporter": "python",
   "pygments_lexer": "ipython3",
   "version": "3.6.5"
  }
 },
 "nbformat": 4,
 "nbformat_minor": 2
}
