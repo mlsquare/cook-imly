{
 "cells": [
  {
   "cell_type": "markdown",
   "metadata": {},
   "source": [
    "### Contributing Logistic regression to mlsquare"
   ]
  },
  {
   "cell_type": "markdown",
   "metadata": {},
   "source": [
    "**Fork mlsquare repository to your account and clone.**\n",
    "\n",
    "**Or just Clone https://github.com/mlsquare/mlsquare.git**"
   ]
  },
  {
   "cell_type": "markdown",
   "metadata": {},
   "source": [
    "* Navigate to `src/mlsquare/architectures` folder, Where the code for mapping Logistic regression  to DNN resides.\n",
    "* The code for mapping primal model(logistic regression) to corresponding dnn equivalent is saved as `.py` file"
   ]
  },
  {
   "cell_type": "markdown",
   "metadata": {},
   "source": [
    "#### 1. create a concrete class which inherits & contains implementation of following abstract methods from an existing Base class (mlsquare.base.BaseModel):\n",
    "* `create_model()` \n",
    "* `set_params()`\n",
    "* `get_params()` \n",
    "* `update_params()` \n",
    "\n",
    "**a potential model to be implemented (Also implemented as class) will instantiate base attributes-- `adapter` and access abstract methods of BaseModel listed above to register a new algorithm for mapping in mlsquare registry.**"
   ]
  },
  {
   "cell_type": "code",
   "execution_count": 1,
   "metadata": {},
   "outputs": [
    {
     "name": "stderr",
     "output_type": "stream",
     "text": [
      "Using TensorFlow backend.\n",
      "/home/kev/Desktop/pyvirtual2/lib/python3.6/site-packages/tensorflow/python/framework/dtypes.py:526: FutureWarning: Passing (type, 1) or '1type' as a synonym of type is deprecated; in a future version of numpy, it will be understood as (type, (1,)) / '(1,)type'.\n",
      "  _np_qint8 = np.dtype([(\"qint8\", np.int8, 1)])\n",
      "/home/kev/Desktop/pyvirtual2/lib/python3.6/site-packages/tensorflow/python/framework/dtypes.py:527: FutureWarning: Passing (type, 1) or '1type' as a synonym of type is deprecated; in a future version of numpy, it will be understood as (type, (1,)) / '(1,)type'.\n",
      "  _np_quint8 = np.dtype([(\"quint8\", np.uint8, 1)])\n",
      "/home/kev/Desktop/pyvirtual2/lib/python3.6/site-packages/tensorflow/python/framework/dtypes.py:528: FutureWarning: Passing (type, 1) or '1type' as a synonym of type is deprecated; in a future version of numpy, it will be understood as (type, (1,)) / '(1,)type'.\n",
      "  _np_qint16 = np.dtype([(\"qint16\", np.int16, 1)])\n",
      "/home/kev/Desktop/pyvirtual2/lib/python3.6/site-packages/tensorflow/python/framework/dtypes.py:529: FutureWarning: Passing (type, 1) or '1type' as a synonym of type is deprecated; in a future version of numpy, it will be understood as (type, (1,)) / '(1,)type'.\n",
      "  _np_quint16 = np.dtype([(\"quint16\", np.uint16, 1)])\n",
      "/home/kev/Desktop/pyvirtual2/lib/python3.6/site-packages/tensorflow/python/framework/dtypes.py:530: FutureWarning: Passing (type, 1) or '1type' as a synonym of type is deprecated; in a future version of numpy, it will be understood as (type, (1,)) / '(1,)type'.\n",
      "  _np_qint32 = np.dtype([(\"qint32\", np.int32, 1)])\n",
      "/home/kev/Desktop/pyvirtual2/lib/python3.6/site-packages/tensorflow/python/framework/dtypes.py:535: FutureWarning: Passing (type, 1) or '1type' as a synonym of type is deprecated; in a future version of numpy, it will be understood as (type, (1,)) / '(1,)type'.\n",
      "  np_resource = np.dtype([(\"resource\", np.ubyte, 1)])\n",
      "2019-11-05 18:01:21,021\tINFO node.py:423 -- Process STDOUT and STDERR is being redirected to /tmp/ray/session_2019-11-05_18-01-21_7893/logs.\n",
      "2019-11-05 18:01:21,132\tINFO services.py:363 -- Waiting for redis server at 127.0.0.1:56748 to respond...\n",
      "2019-11-05 18:01:21,254\tINFO services.py:363 -- Waiting for redis server at 127.0.0.1:18655 to respond...\n",
      "2019-11-05 18:01:21,259\tINFO services.py:760 -- Starting Redis shard with 20.0 GB max memory.\n",
      "2019-11-05 18:01:21,291\tINFO services.py:1384 -- Starting the Plasma object store with 1.0 GB memory using /dev/shm.\n"
     ]
    }
   ],
   "source": [
    "from mlsquare.base import BaseModel\n",
    "from mlsquare.utils.functions import _parse_params\n",
    "\n",
    "import numpy as np\n",
    "from keras.regularizers import l1_l2\n",
    "from keras.models import Sequential\n",
    "from keras.layers import Dense, Input\n",
    "from keras.models import Model"
   ]
  },
  {
   "cell_type": "markdown",
   "metadata": {},
   "source": [
    "* View required abstract base methods from BaseModel"
   ]
  },
  {
   "cell_type": "code",
   "execution_count": 2,
   "metadata": {},
   "outputs": [],
   "source": [
    "??BaseModel"
   ]
  },
  {
   "cell_type": "code",
   "execution_count": 3,
   "metadata": {},
   "outputs": [],
   "source": [
    "class concrete_child(BaseModel):\n",
    "    \n",
    "    def create_model(self, **kwargs):\n",
    "\n",
    "        model_params = _parse_params(self._model_params, return_as='nested')\n",
    "        model = Sequential()\n",
    "\n",
    "        if len(self.y.shape) == 1 or self.y.shape[1] == 1:\n",
    "            units = 1\n",
    "        else:\n",
    "            units = self.y.shape[1]\n",
    "        model_params['layer_1'].update({'input_dim': self.X.shape[1], 'units': units})\n",
    "        model.add(Dense(units=model_params['layer_1']['units'],\n",
    "                        input_dim=model_params['layer_1']['input_dim'],\n",
    "                        activation=model_params['layer_1']['activation'],\n",
    "                        kernel_regularizer=l1_l2(l1=model_params['layer_1']['l1'],\n",
    "                                                 l2=model_params['layer_1']['l2'])))\n",
    "        model.compile(optimizer=model_params['optimizer'],\n",
    "                      loss=model_params['loss'],\n",
    "                      metrics=['accuracy'])\n",
    "\n",
    "        return model\n",
    "\n",
    "    def set_params(self, **kwargs):\n",
    "        kwargs.setdefault('params', None)\n",
    "        kwargs.setdefault('set_by', None)\n",
    "        if kwargs['set_by'] == 'model_init':\n",
    "            self._model_params = _parse_params(kwargs['params'], return_as='flat')\n",
    "        elif kwargs['set_by'] == 'opitmizer':\n",
    "            self._model_params = kwargs['params']\n",
    "        else:\n",
    "            self._model_params = kwargs['params']\n",
    "\n",
    "    def get_params(self):\n",
    "        return self._model_params\n",
    "\n",
    "    def update_params(self, params):\n",
    "        self._model_params.update(params)\n",
    "\n",
    "    def adapter(self):\n",
    "        return self._adapter"
   ]
  },
  {
   "cell_type": "markdown",
   "metadata": {},
   "source": [
    "* `create_model` method contains the keras layer definition, the dnn equivalent mapping for incoming model name --`Logisticreggression` "
   ]
  },
  {
   "cell_type": "markdown",
   "metadata": {},
   "source": [
    "####  2. Register the new algorithm in `registry`  as class using the `@registry.register` decorator following the base model definition.\n",
    "**Following attributes are initilized through new model class-- `LogisticRegression` which when passed to parent--`concrete_child` class enables model registry and model creation:**\n",
    "* `adapter` : an object/function for mapping primal model to dnn(`object`) -- `SklearnKerasClassifier`\n",
    "* `module_name` : primal module name (`str` type)-- `'sklearn'`\n",
    "* `name`: primal model name (`str` type)-- `'LogisticRegression'`\n",
    "* `version`: name for specific dnn implementation (`str` type)-- `'default'`\n",
    "* `model_params` : key parameters to compile dnn model (`dict` type)-- `{'layer_1': {'units': 1, 'l1': 0, 'l2': 0, 'activation': 'sigmoid'}, 'optimizer': 'adam', 'loss': 'binary_crossentropy'}`"
   ]
  },
  {
   "cell_type": "code",
   "execution_count": 4,
   "metadata": {
    "scrolled": true
   },
   "outputs": [],
   "source": [
    "from mlsquare.base import registry\n",
    "from mlsquare.adapters.sklearn import SklearnKerasClassifier\n",
    "\n",
    "\n",
    "@registry.register\n",
    "class LogisticRegression(concrete_child):\n",
    "    def __init__(self):\n",
    "        self.adapter = SklearnKerasClassifier\n",
    "        self.module_name = 'sklearn'\n",
    "        self.name = 'LogisticRegression'\n",
    "        self.version = 'default'\n",
    "        model_params = {'layer_1': {'units': 1,\n",
    "                                    'l1': 0,\n",
    "                                    'l2': 0,\n",
    "                                    'activation': 'sigmoid'},\n",
    "                        'optimizer': 'adam',\n",
    "                        'loss': 'binary_crossentropy'\n",
    "                        }\n",
    "\n",
    "        self.set_params(params=model_params, set_by='model_init')\n"
   ]
  },
  {
   "cell_type": "markdown",
   "metadata": {},
   "source": [
    "* key parameters as `model_params` should be defined as a dictionary of dictionaries, first level of which contains the `idexed layer name`, `optimizer value`, `loss function`.\n",
    "* `indexed layer name` corresponds to layer parameters such as `no of units`, `l1`,`l2`,`activation function`\n",
    "* `model_params` is parsed using mlsquare's `utils function`-- `_parse_params` conveniently inside `create_model` &`set_params` methods of parent class."
   ]
  },
  {
   "cell_type": "code",
   "execution_count": 5,
   "metadata": {
    "scrolled": true
   },
   "outputs": [
    {
     "data": {
      "text/plain": [
       "{'layer_1.units': 1,\n",
       " 'layer_1.l1': 0,\n",
       " 'layer_1.l2': 0,\n",
       " 'layer_1.activation': 'sigmoid',\n",
       " 'optimizer': 'adam',\n",
       " 'loss': 'binary_crossentropy'}"
      ]
     },
     "execution_count": 5,
     "metadata": {},
     "output_type": "execute_result"
    }
   ],
   "source": [
    "model_params = {'layer_1': {'units': 1, 'l1': 0, 'l2': 0, 'activation': 'sigmoid'}, 'optimizer': 'adam',\n",
    "                'loss': 'binary_crossentropy'}\n",
    "\n",
    "\n",
    "_parse_params(model_params, return_as='flat')"
   ]
  },
  {
   "cell_type": "markdown",
   "metadata": {},
   "source": [
    "* Now the `concrete_child` class, `LogisticRegression` class (code contained in cell 1, 3 & 4) should be saved as `algo_name.py` file in `mlsquare/architectures/` directory."
   ]
  }
 ],
 "metadata": {
  "kernelspec": {
   "display_name": "Python 3",
   "language": "python",
   "name": "python3"
  },
  "language_info": {
   "codemirror_mode": {
    "name": "ipython",
    "version": 3
   },
   "file_extension": ".py",
   "mimetype": "text/x-python",
   "name": "python",
   "nbconvert_exporter": "python",
   "pygments_lexer": "ipython3",
   "version": "3.6.8"
  }
 },
 "nbformat": 4,
 "nbformat_minor": 2
}
