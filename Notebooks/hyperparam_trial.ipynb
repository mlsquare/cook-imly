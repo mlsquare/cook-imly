{
 "cells": [
  {
   "cell_type": "markdown",
   "metadata": {},
   "source": [
    "## Hyperparameter optimization trial code ##"
   ]
  },
  {
   "cell_type": "code",
   "execution_count": 3,
   "metadata": {},
   "outputs": [],
   "source": [
    "# Using Iris dataset to test #\n",
    "import automation_script\n",
    "import pandas as pd\n",
    "import numpy as np\n",
    "from os import path\n",
    "\n",
    "dataset_name = \"UCI Iris\"\n",
    "dataset_info = automation_script.get_url(dataset_name)"
   ]
  },
  {
   "cell_type": "code",
   "execution_count": 4,
   "metadata": {},
   "outputs": [
    {
     "data": {
      "text/plain": [
       "pandas.core.series.Series"
      ]
     },
     "execution_count": 4,
     "metadata": {},
     "output_type": "execute_result"
    }
   ],
   "source": [
    "# Import iris dataset #\n",
    "url = \"../data/iris.csv\" if path.exists(\"../data/iris.csv\") else dataset_info['url']\n",
    "data = pd.read_csv(url , delimiter=\",\", header=None, index_col=False)\n",
    "class_name,index = np.unique(data.iloc[:,-1],return_inverse=True)\n",
    "data.iloc[:,-1] = index\n",
    "data = data.loc[data[4] != 2]\n",
    "X = data.iloc[:,:-1]\n",
    "Y = data.iloc[:,-1]\n",
    "type(Y)"
   ]
  },
  {
   "cell_type": "code",
   "execution_count": 30,
   "metadata": {},
   "outputs": [
    {
     "data": {
      "text/plain": [
       "0    6.0\n",
       "1    2.7\n",
       "2    5.1\n",
       "3    1.6\n",
       "4    1.0\n",
       "Name: 83, dtype: float64"
      ]
     },
     "execution_count": 30,
     "metadata": {},
     "output_type": "execute_result"
    }
   ],
   "source": [
    "# data.filter(items=[2,3])\n",
    "# data.lookup([data[2].argmax()],[4])\n",
    "data_1 = data.iloc[data[2].idxmax()]\n",
    "# data[2].max()\n",
    "# df.loc[df['A'].idxmax()]\n",
    "# data\n",
    "data_1"
   ]
  },
  {
   "cell_type": "code",
   "execution_count": 31,
   "metadata": {},
   "outputs": [
    {
     "data": {
      "text/plain": [
       "1.6"
      ]
     },
     "execution_count": 31,
     "metadata": {},
     "output_type": "execute_result"
    }
   ],
   "source": [
    "data_1.iloc[3]"
   ]
  },
  {
   "cell_type": "code",
   "execution_count": 48,
   "metadata": {},
   "outputs": [],
   "source": [
    "import pandas as pd\n",
    "url = './talos_readings_1.csv'\n",
    "report = pd.read_csv(url, delimiter=\",\", header=0, index_col=False)\n",
    "performance_metric = 'val_loss'\n",
    "report = report.filter(items=[performance_metric, 'optimizer', 'losses'])\n",
    "# report = report.iloc[report[performance_metric].idxmax()]\n",
    "# loss = report['losses']\n",
    "# optimizer = report['optimizer']\n",
    "# loss.split(\" \")[1]"
   ]
  },
  {
   "cell_type": "code",
   "execution_count": 49,
   "metadata": {},
   "outputs": [
    {
     "data": {
      "text/plain": [
       "val_loss                                               29835.2\n",
       "optimizer                                                nadam\n",
       "losses       <function mean_squared_error at 0x000001DB59CF...\n",
       "Name: 1, dtype: object"
      ]
     },
     "execution_count": 49,
     "metadata": {},
     "output_type": "execute_result"
    }
   ],
   "source": [
    "report.iloc[report[performance_metric].idxmax()]"
   ]
  },
  {
   "cell_type": "code",
   "execution_count": 36,
   "metadata": {},
   "outputs": [
    {
     "data": {
      "text/plain": [
       "a    1\n",
       "b    2\n",
       "c    3\n",
       "d    4\n",
       "e    5\n",
       "dtype: int64"
      ]
     },
     "execution_count": 36,
     "metadata": {},
     "output_type": "execute_result"
    }
   ],
   "source": [
    "s = pd.Series([1,2,3,4,5],index = ['a','b','c','d','e'])\n",
    "s"
   ]
  },
  {
   "cell_type": "code",
   "execution_count": 3,
   "metadata": {},
   "outputs": [
    {
     "name": "stdout",
     "output_type": "stream",
     "text": [
      "1.0\n"
     ]
    }
   ],
   "source": [
    "scikit_score, scikit_params, predictions = automation_script.get_scikit_params(X,Y)"
   ]
  },
  {
   "cell_type": "code",
   "execution_count": null,
   "metadata": {},
   "outputs": [],
   "source": [
    "predictions = pd.Series(predictions)\n",
    "print(predictions)\n"
   ]
  },
  {
   "cell_type": "code",
   "execution_count": null,
   "metadata": {},
   "outputs": [],
   "source": [
    "print(Y)"
   ]
  },
  {
   "cell_type": "code",
   "execution_count": 4,
   "metadata": {},
   "outputs": [
    {
     "name": "stderr",
     "output_type": "stream",
     "text": [
      "Using TensorFlow backend.\n"
     ]
    },
    {
     "name": "stdout",
     "output_type": "stream",
     "text": [
      "60/60 [==============================] - 0s 1ms/step\n",
      "60/60 [==============================] - 0s 270us/step\n",
      "\n",
      "acc: 93.33%\n",
      "\n",
      "acc: 93.33%\n"
     ]
    }
   ],
   "source": [
    "config = {\n",
    "    'epoch': 200,\n",
    "    'batch_size': 10,\n",
    "    'verbose': 0,\n",
    "    'model_info': {\n",
    "        'loss':'binary_crossentropy',\n",
    "        'optimizer':'adam',\n",
    "        'metrics':['accuracy']\n",
    "    }\n",
    "}\n",
    "\n",
    "keras_score,keras_params = automation_script.get_keras_params(X,Y,predictions,dataset_info,config)"
   ]
  },
  {
   "cell_type": "markdown",
   "metadata": {},
   "source": [
    "---"
   ]
  },
  {
   "cell_type": "markdown",
   "metadata": {},
   "source": [
    "### Talos trial ###"
   ]
  },
  {
   "cell_type": "code",
   "execution_count": 1,
   "metadata": {},
   "outputs": [
    {
     "name": "stderr",
     "output_type": "stream",
     "text": [
      "Using TensorFlow backend.\n",
      "100%|██████████| 1/1 [00:03<00:00,  3.40s/it]\n"
     ]
    },
    {
     "name": "stdout",
     "output_type": "stream",
     "text": [
      "Scan Finished!\n"
     ]
    }
   ],
   "source": [
    "from keras.models import Sequential\n",
    "from keras.layers import Dense\n",
    "from keras.optimizers import Adam, Nadam\n",
    "from keras.losses import categorical_crossentropy, logcosh\n",
    "from keras.activations import sigmoid\n",
    "import talos as ta\n",
    "from sklearn.model_selection import train_test_split\n",
    "\n",
    "\n",
    "x, y = ta.datasets.iris()\n",
    "\n",
    "# then define the parameter boundaries\n",
    "\n",
    "p = {'lr': [2, 10, 30],\n",
    "     'first_neuron': [3],\n",
    "     'batch_size': [20],\n",
    "     'epochs': [100],\n",
    "     'weight_regulizer': [None],\n",
    "     'emb_output_dims': [None],\n",
    "     'optimizer': ['adam'],\n",
    "     'losses': [categorical_crossentropy],\n",
    "     'activation': [sigmoid]\n",
    "    }\n",
    "\n",
    "\n",
    "# then define your Keras model\n",
    "def iris_model(x_train, y_train, x_val, y_val, params):\n",
    "\n",
    "    model = Sequential()\n",
    "    model.add(Dense(params['first_neuron'],\n",
    "                    input_dim=x_train.shape[1],\n",
    "                    activation=params['activation']))\n",
    "\n",
    "    model.compile(optimizer=params['optimizer'],\n",
    "                  loss=params['losses'],\n",
    "                  metrics=['acc'])\n",
    "\n",
    "    out = model.fit(x_train, y_train,\n",
    "                    batch_size=params['batch_size'],\n",
    "                    epochs=params['epochs'],\n",
    "                    verbose=0,\n",
    "                    validation_data=[x_val, y_val])\n",
    "\n",
    "    return out, model\n",
    "\n",
    "\n",
    "# and run the scan\n",
    "h = ta.Scan(x, y,\n",
    "            params=p,\n",
    "            dataset_name='first_test',\n",
    "            experiment_no='a',\n",
    "            model=iris_model,\n",
    "            grid_downsample=0.5)"
   ]
  },
  {
   "cell_type": "code",
   "execution_count": 2,
   "metadata": {},
   "outputs": [
    {
     "data": {
      "text/plain": [
       "{'LinearRegression': {'config': {'lr': [2, 10, 30],\n",
       "   'first_neuron': [1],\n",
       "   'batch_size': [10],\n",
       "   'epochs': [10],\n",
       "   'weight_regulizer': [None],\n",
       "   'emb_output_dims': [None],\n",
       "   'optimizer': ['nadam'],\n",
       "   'losses': ['mse'],\n",
       "   'activation': ['linear']},\n",
       "  'performance_metric': 'val_loss'}}"
      ]
     },
     "execution_count": 2,
     "metadata": {},
     "output_type": "execute_result"
    }
   ],
   "source": [
    "import json\n",
    "p = json.load(open('../imly/architectures/talos/params.json'))\n",
    "p_dict = dict(p['params'])\n",
    "p_dict"
   ]
  },
  {
   "cell_type": "code",
   "execution_count": 18,
   "metadata": {},
   "outputs": [
    {
     "data": {
      "text/plain": [
       "<function keras.losses.mean_squared_error(y_true, y_pred)>"
      ]
     },
     "execution_count": 18,
     "metadata": {},
     "output_type": "execute_result"
    }
   ],
   "source": [
    "from keras import losses as keras_losses\n",
    "name = 'mse'\n",
    "loss = keras_losses.mean_squared_error\n",
    "loss"
   ]
  },
  {
   "cell_type": "code",
   "execution_count": 17,
   "metadata": {},
   "outputs": [
    {
     "data": {
      "text/plain": [
       "<function keras.losses.mean_squared_error(y_true, y_pred)>"
      ]
     },
     "execution_count": 17,
     "metadata": {},
     "output_type": "execute_result"
    }
   ],
   "source": [
    "module = __import__('keras.losses', fromlist=[name])\n",
    "getattr(module, name)"
   ]
  },
  {
   "cell_type": "code",
   "execution_count": 24,
   "metadata": {},
   "outputs": [],
   "source": [
    "params = {}\n",
    "params['losses'] = ['mse','hinge']\n",
    "losses = params['losses']\n",
    "params['losses'] = []\n",
    "for loss_name in losses:\n",
    "    module = __import__('keras.losses', fromlist=[loss_name])\n",
    "    params['losses'].append(getattr(module, name))"
   ]
  },
  {
   "cell_type": "code",
   "execution_count": 25,
   "metadata": {},
   "outputs": [
    {
     "data": {
      "text/plain": [
       "{'losses': [<function keras.losses.mean_squared_error(y_true, y_pred)>,\n",
       "  <function keras.losses.mean_squared_error(y_true, y_pred)>]}"
      ]
     },
     "execution_count": 25,
     "metadata": {},
     "output_type": "execute_result"
    }
   ],
   "source": [
    "params"
   ]
  },
  {
   "cell_type": "code",
   "execution_count": 3,
   "metadata": {},
   "outputs": [
    {
     "data": {
      "text/plain": [
       "{'lr': [2, 10, 30],\n",
       " 'first_neuron': [1],\n",
       " 'batch_size': [10],\n",
       " 'epochs': [10],\n",
       " 'weight_regulizer': ['None'],\n",
       " 'emb_output_dims': ['None'],\n",
       " 'optimizer': ['nadam'],\n",
       " 'losses': ['mse'],\n",
       " 'activation': ['linear']}"
      ]
     },
     "execution_count": 3,
     "metadata": {},
     "output_type": "execute_result"
    }
   ],
   "source": [
    "p_normal = p['params']['f1']\n",
    "p_normal"
   ]
  },
  {
   "cell_type": "code",
   "execution_count": 3,
   "metadata": {},
   "outputs": [
    {
     "data": {
      "text/plain": [
       "random_method          uniform_mersenne\n",
       "reduction_method                   None\n",
       "reduction_interval                   50\n",
       "reduction_window                     20\n",
       "grid_downsample                     0.5\n",
       "reduction_threshold                 0.2\n",
       "reduction_metric                val_acc\n",
       "reduce_loss                       False\n",
       "experiment_name            first_test_a\n",
       "complete_time            12/31/18/20:52\n",
       "x_shape                        (150, 4)\n",
       "y_shape                        (150, 3)\n",
       "dtype: object"
      ]
     },
     "execution_count": 3,
     "metadata": {},
     "output_type": "execute_result"
    }
   ],
   "source": [
    "h.details"
   ]
  },
  {
   "cell_type": "code",
   "execution_count": 2,
   "metadata": {},
   "outputs": [
    {
     "data": {
      "text/html": [
       "<div>\n",
       "<style scoped>\n",
       "    .dataframe tbody tr th:only-of-type {\n",
       "        vertical-align: middle;\n",
       "    }\n",
       "\n",
       "    .dataframe tbody tr th {\n",
       "        vertical-align: top;\n",
       "    }\n",
       "\n",
       "    .dataframe thead th {\n",
       "        text-align: right;\n",
       "    }\n",
       "</style>\n",
       "<table border=\"1\" class=\"dataframe\">\n",
       "  <thead>\n",
       "    <tr style=\"text-align: right;\">\n",
       "      <th></th>\n",
       "      <th>round_epochs</th>\n",
       "      <th>val_loss</th>\n",
       "      <th>val_acc</th>\n",
       "      <th>loss</th>\n",
       "      <th>acc</th>\n",
       "      <th>lr</th>\n",
       "      <th>first_neuron</th>\n",
       "      <th>batch_size</th>\n",
       "      <th>epochs</th>\n",
       "      <th>weight_regulizer</th>\n",
       "      <th>emb_output_dims</th>\n",
       "      <th>optimizer</th>\n",
       "      <th>losses</th>\n",
       "      <th>activation</th>\n",
       "    </tr>\n",
       "  </thead>\n",
       "  <tbody>\n",
       "    <tr>\n",
       "      <th>0</th>\n",
       "      <td>100</td>\n",
       "      <td>0.7990767823325263</td>\n",
       "      <td>0.7111111117733849</td>\n",
       "      <td>0.783875340507144</td>\n",
       "      <td>0.6380952454748607</td>\n",
       "      <td>10</td>\n",
       "      <td>3</td>\n",
       "      <td>20</td>\n",
       "      <td>100</td>\n",
       "      <td>None</td>\n",
       "      <td>None</td>\n",
       "      <td>adam</td>\n",
       "      <td>&lt;function categorical_crossentropy at 0x000002...</td>\n",
       "      <td>&lt;function sigmoid at 0x00000207C6E49840&gt;</td>\n",
       "    </tr>\n",
       "  </tbody>\n",
       "</table>\n",
       "</div>"
      ],
      "text/plain": [
       "  round_epochs            val_loss             val_acc               loss  \\\n",
       "0          100  0.7990767823325263  0.7111111117733849  0.783875340507144   \n",
       "\n",
       "                  acc  lr first_neuron batch_size epochs weight_regulizer  \\\n",
       "0  0.6380952454748607  10            3         20    100             None   \n",
       "\n",
       "  emb_output_dims optimizer  \\\n",
       "0            None      adam   \n",
       "\n",
       "                                              losses  \\\n",
       "0  <function categorical_crossentropy at 0x000002...   \n",
       "\n",
       "                                 activation  \n",
       "0  <function sigmoid at 0x00000207C6E49840>  "
      ]
     },
     "execution_count": 2,
     "metadata": {},
     "output_type": "execute_result"
    }
   ],
   "source": [
    "h.data"
   ]
  },
  {
   "cell_type": "code",
   "execution_count": 4,
   "metadata": {},
   "outputs": [
    {
     "data": {
      "text/plain": [
       "'<function categorical_crossentropy at 0x00000207C6E1C7B8>'"
      ]
     },
     "execution_count": 4,
     "metadata": {},
     "output_type": "execute_result"
    }
   ],
   "source": [
    "from talos.utils.best_model import best_model,activate_model\n",
    "\n",
    "report = h.data\n",
    "best_model_id = report.sort_values('val_loss', ascending=True).iloc[0]\n",
    "# best_model_id = best_model(h, 'val_loss', asc=True)\n",
    "best_model_id.losses\n",
    "\n",
    "# report = report.iloc[report[performance_metric].idxmax()]\n",
    "# loss = report['losses']\n",
    "# loss = loss.split(\" \")[1]\n",
    "# optimizer = report['optimizer']"
   ]
  },
  {
   "cell_type": "code",
   "execution_count": 18,
   "metadata": {},
   "outputs": [
    {
     "data": {
      "text/plain": [
       "'<function categorical_crossentropy at 0x000001DAD5A387B8>'"
      ]
     },
     "execution_count": 18,
     "metadata": {},
     "output_type": "execute_result"
    }
   ],
   "source": [
    "report.loc[:,'optimizer'][0]"
   ]
  },
  {
   "cell_type": "code",
   "execution_count": 7,
   "metadata": {},
   "outputs": [],
   "source": [
    "from talos import Reporting\n",
    "r = Reporting('first_test_a.csv')"
   ]
  },
  {
   "cell_type": "code",
   "execution_count": 8,
   "metadata": {},
   "outputs": [
    {
     "data": {
      "text/html": [
       "<div>\n",
       "<style scoped>\n",
       "    .dataframe tbody tr th:only-of-type {\n",
       "        vertical-align: middle;\n",
       "    }\n",
       "\n",
       "    .dataframe tbody tr th {\n",
       "        vertical-align: top;\n",
       "    }\n",
       "\n",
       "    .dataframe thead th {\n",
       "        text-align: right;\n",
       "    }\n",
       "</style>\n",
       "<table border=\"1\" class=\"dataframe\">\n",
       "  <thead>\n",
       "    <tr style=\"text-align: right;\">\n",
       "      <th></th>\n",
       "      <th>round_epochs</th>\n",
       "      <th>val_loss</th>\n",
       "      <th>val_acc</th>\n",
       "      <th>loss</th>\n",
       "      <th>acc</th>\n",
       "      <th>lr</th>\n",
       "      <th>first_neuron</th>\n",
       "      <th>batch_size</th>\n",
       "      <th>epochs</th>\n",
       "      <th>weight_regulizer</th>\n",
       "      <th>emb_output_dims</th>\n",
       "      <th>optimizer</th>\n",
       "      <th>losses</th>\n",
       "      <th>activation</th>\n",
       "    </tr>\n",
       "  </thead>\n",
       "  <tbody>\n",
       "    <tr>\n",
       "      <th>0</th>\n",
       "      <td>100</td>\n",
       "      <td>0.920621</td>\n",
       "      <td>0.577778</td>\n",
       "      <td>0.862995</td>\n",
       "      <td>0.704762</td>\n",
       "      <td>7</td>\n",
       "      <td>3</td>\n",
       "      <td>20</td>\n",
       "      <td>100</td>\n",
       "      <td>None</td>\n",
       "      <td>None</td>\n",
       "      <td>adam</td>\n",
       "      <td>&lt;function categorical_crossentropy at 0x000002...</td>\n",
       "      <td>&lt;function sigmoid at 0x0000021EB8E7E8C8&gt;</td>\n",
       "    </tr>\n",
       "    <tr>\n",
       "      <th>1</th>\n",
       "      <td>100</td>\n",
       "      <td>0.633556</td>\n",
       "      <td>0.911111</td>\n",
       "      <td>0.637392</td>\n",
       "      <td>0.857143</td>\n",
       "      <td>9</td>\n",
       "      <td>3</td>\n",
       "      <td>20</td>\n",
       "      <td>100</td>\n",
       "      <td>None</td>\n",
       "      <td>None</td>\n",
       "      <td>adam</td>\n",
       "      <td>&lt;function categorical_crossentropy at 0x000002...</td>\n",
       "      <td>&lt;function sigmoid at 0x0000021EB8E7E8C8&gt;</td>\n",
       "    </tr>\n",
       "    <tr>\n",
       "      <th>2</th>\n",
       "      <td>100</td>\n",
       "      <td>0.982563</td>\n",
       "      <td>0.400000</td>\n",
       "      <td>1.019067</td>\n",
       "      <td>0.333333</td>\n",
       "      <td>5</td>\n",
       "      <td>3</td>\n",
       "      <td>20</td>\n",
       "      <td>100</td>\n",
       "      <td>None</td>\n",
       "      <td>None</td>\n",
       "      <td>adam</td>\n",
       "      <td>&lt;function categorical_crossentropy at 0x000002...</td>\n",
       "      <td>&lt;function sigmoid at 0x0000021EB8E7E8C8&gt;</td>\n",
       "    </tr>\n",
       "    <tr>\n",
       "      <th>3</th>\n",
       "      <td>100</td>\n",
       "      <td>0.761032</td>\n",
       "      <td>0.577778</td>\n",
       "      <td>0.741682</td>\n",
       "      <td>0.619048</td>\n",
       "      <td>6</td>\n",
       "      <td>3</td>\n",
       "      <td>20</td>\n",
       "      <td>100</td>\n",
       "      <td>None</td>\n",
       "      <td>None</td>\n",
       "      <td>adam</td>\n",
       "      <td>&lt;function categorical_crossentropy at 0x000002...</td>\n",
       "      <td>&lt;function sigmoid at 0x0000021EB8E7E8C8&gt;</td>\n",
       "    </tr>\n",
       "  </tbody>\n",
       "</table>\n",
       "</div>"
      ],
      "text/plain": [
       "   round_epochs  val_loss   val_acc      loss       acc  lr  first_neuron  \\\n",
       "0           100  0.920621  0.577778  0.862995  0.704762   7             3   \n",
       "1           100  0.633556  0.911111  0.637392  0.857143   9             3   \n",
       "2           100  0.982563  0.400000  1.019067  0.333333   5             3   \n",
       "3           100  0.761032  0.577778  0.741682  0.619048   6             3   \n",
       "\n",
       "   batch_size  epochs weight_regulizer emb_output_dims optimizer  \\\n",
       "0          20     100             None            None      adam   \n",
       "1          20     100             None            None      adam   \n",
       "2          20     100             None            None      adam   \n",
       "3          20     100             None            None      adam   \n",
       "\n",
       "                                              losses  \\\n",
       "0  <function categorical_crossentropy at 0x000002...   \n",
       "1  <function categorical_crossentropy at 0x000002...   \n",
       "2  <function categorical_crossentropy at 0x000002...   \n",
       "3  <function categorical_crossentropy at 0x000002...   \n",
       "\n",
       "                                 activation  \n",
       "0  <function sigmoid at 0x0000021EB8E7E8C8>  \n",
       "1  <function sigmoid at 0x0000021EB8E7E8C8>  \n",
       "2  <function sigmoid at 0x0000021EB8E7E8C8>  \n",
       "3  <function sigmoid at 0x0000021EB8E7E8C8>  "
      ]
     },
     "execution_count": 8,
     "metadata": {},
     "output_type": "execute_result"
    }
   ],
   "source": [
    "r.data"
   ]
  },
  {
   "cell_type": "code",
   "execution_count": 12,
   "metadata": {},
   "outputs": [
    {
     "data": {
      "text/plain": [
       "0.9777777989705404"
      ]
     },
     "execution_count": 12,
     "metadata": {},
     "output_type": "execute_result"
    }
   ],
   "source": [
    "r.high('val_acc')"
   ]
  },
  {
   "cell_type": "code",
   "execution_count": 13,
   "metadata": {},
   "outputs": [
    {
     "data": {
      "text/plain": [
       "18"
      ]
     },
     "execution_count": 13,
     "metadata": {},
     "output_type": "execute_result"
    }
   ],
   "source": [
    "# Number of rounds it took to find the best model #\n",
    "r.rounds2high()"
   ]
  },
  {
   "cell_type": "code",
   "execution_count": 14,
   "metadata": {},
   "outputs": [
    {
     "data": {
      "image/png": "[encoded data removed]",
      "text/plain": [
       "<Figure size 720x475.2 with 1 Axes>"
      ]
     },
     "metadata": {},
     "output_type": "display_data"
    }
   ],
   "source": [
    "# x-axis is val_acc. What is y-axis? #\n",
    "r.plot_hist()"
   ]
  },
  {
   "cell_type": "code",
   "execution_count": 9,
   "metadata": {},
   "outputs": [
    {
     "ename": "AttributeError",
     "evalue": "'Reporting' object has no attribute 'best_model'",
     "output_type": "error",
     "traceback": [
      "\u001b[1;31m---------------------------------------------------------------------------\u001b[0m",
      "\u001b[1;31mAttributeError\u001b[0m                            Traceback (most recent call last)",
      "\u001b[1;32m<ipython-input-9-19508f49fee9>\u001b[0m in \u001b[0;36m<module>\u001b[1;34m()\u001b[0m\n\u001b[1;32m----> 1\u001b[1;33m \u001b[0mr\u001b[0m\u001b[1;33m.\u001b[0m\u001b[0mbest_model\u001b[0m\u001b[1;33m(\u001b[0m\u001b[0mmetric\u001b[0m\u001b[1;33m=\u001b[0m\u001b[1;34m'val_loss'\u001b[0m\u001b[1;33m)\u001b[0m\u001b[1;33m\u001b[0m\u001b[0m\n\u001b[0m",
      "\u001b[1;31mAttributeError\u001b[0m: 'Reporting' object has no attribute 'best_model'"
     ]
    }
   ],
   "source": [
    "r.best_model(metric='val_loss')"
   ]
  },
  {
   "cell_type": "code",
   "execution_count": 10,
   "metadata": {},
   "outputs": [
    {
     "data": {
      "text/plain": [
       "array([0, 2, 2, 0, 0, 0, 2, 2, 0, 1, 1, 2, 0, 2, 1, 2, 1, 0, 2, 2, 2, 0,\n",
       "       2, 1, 0, 2, 0, 2, 2, 0, 1, 2, 2, 0, 1, 2, 2, 2, 2, 0, 2, 2, 2, 1,\n",
       "       2, 1, 0, 2, 1, 2, 2, 2, 2, 2, 0, 1, 2, 2, 2, 2, 0, 0, 2, 2, 2, 2,\n",
       "       2, 0, 0, 2, 0, 1, 2, 0, 1, 2, 1, 0, 2, 2, 2, 2, 1, 1, 1, 2, 2, 1,\n",
       "       1, 0, 2, 2, 2, 2, 2, 0, 2, 2, 2, 0, 1, 1, 1, 2, 0, 1, 0, 0, 2, 2,\n",
       "       2, 1, 0, 0, 1, 2, 0, 2, 0, 2, 2, 1, 2, 0, 1, 2, 2, 0, 0, 2, 2, 1,\n",
       "       2, 1, 2, 2, 2, 2, 0, 1, 2, 2, 2, 0, 2, 2, 0, 2, 2, 2], dtype=int64)"
      ]
     },
     "execution_count": 10,
     "metadata": {},
     "output_type": "execute_result"
    }
   ],
   "source": [
    "from talos import Predict\n",
    "p = Predict(h)\n",
    "p.predict_classes(x)"
   ]
  },
  {
   "cell_type": "code",
   "execution_count": 13,
   "metadata": {},
   "outputs": [
    {
     "data": {
      "text/plain": [
       "array([[20, 'adam',\n",
       "        '<function categorical_crossentropy at 0x0000021EB8E4F840>', 9,\n",
       "        '<function sigmoid at 0x0000021EB8E7E8C8>', 3, 100, 'None',\n",
       "        'None', 0],\n",
       "       [20, 'adam',\n",
       "        '<function categorical_crossentropy at 0x0000021EB8E4F840>', 6,\n",
       "        '<function sigmoid at 0x0000021EB8E7E8C8>', 3, 100, 'None',\n",
       "        'None', 1],\n",
       "       [20, 'adam',\n",
       "        '<function categorical_crossentropy at 0x0000021EB8E4F840>', 7,\n",
       "        '<function sigmoid at 0x0000021EB8E7E8C8>', 3, 100, 'None',\n",
       "        'None', 2],\n",
       "       [20, 'adam',\n",
       "        '<function categorical_crossentropy at 0x0000021EB8E4F840>', 5,\n",
       "        '<function sigmoid at 0x0000021EB8E7E8C8>', 3, 100, 'None',\n",
       "        'None', 3]], dtype=object)"
      ]
     },
     "execution_count": 13,
     "metadata": {},
     "output_type": "execute_result"
    }
   ],
   "source": [
    "r.best_params()"
   ]
  },
  {
   "cell_type": "code",
   "execution_count": 2,
   "metadata": {},
   "outputs": [
    {
     "data": {
      "text/plain": [
       "2"
      ]
     },
     "execution_count": 2,
     "metadata": {},
     "output_type": "execute_result"
    }
   ],
   "source": [
    "from talos.utils.best_model import best_model\n",
    "\n",
    "best_model(h,metric='val_loss',asc=False)"
   ]
  },
  {
   "cell_type": "code",
   "execution_count": 29,
   "metadata": {},
   "outputs": [
    {
     "name": "stdout",
     "output_type": "stream",
     "text": [
      "14.74% (+/- 4.88%)\n"
     ]
    }
   ],
   "source": [
    "from talos import Evaluate\n",
    "\n",
    "# create the evaluate object\n",
    "e = Evaluate(h)\n",
    "e.evaluate(x, y, average='macro')"
   ]
  },
  {
   "cell_type": "markdown",
   "metadata": {},
   "source": [
    "---"
   ]
  },
  {
   "cell_type": "markdown",
   "metadata": {},
   "source": [
    "#### Notes ####"
   ]
  },
  {
   "cell_type": "markdown",
   "metadata": {},
   "source": [
    "1. Why is there a mismatch in y_shape of our model and   \n",
    "Talos model?\n",
    "2. How to validate or cross check the performance of  \n",
    "Talos optimization?\n",
    "3. The y_shape is 3(and hence expected to have 3 classes).  \n",
    "But the y data contains only 2 classes. Why?  \n",
    "3. **Report method is no longer available**\n",
    " - Any alternates available?\n",
    "4. Why does p.predict(x) return 3 values instead of one value? What are these 3 values?\n",
    "5. What does evaluate do? The 'average' param."
   ]
  },
  {
   "cell_type": "code",
   "execution_count": null,
   "metadata": {},
   "outputs": [],
   "source": []
  }
 ],
 "metadata": {
  "kernelspec": {
   "display_name": "Python 3",
   "language": "python",
   "name": "python3"
  },
  "language_info": {
   "codemirror_mode": {
    "name": "ipython",
    "version": 3
   },
   "file_extension": ".py",
   "mimetype": "text/x-python",
   "name": "python",
   "nbconvert_exporter": "python",
   "pygments_lexer": "ipython3",
   "version": "3.6.8"
  },
  "notify_time": "5",
  "toc": {
   "base_numbering": 1,
   "nav_menu": {},
   "number_sections": true,
   "sideBar": true,
   "skip_h1_title": false,
   "title_cell": "Table of Contents",
   "title_sidebar": "Contents",
   "toc_cell": false,
   "toc_position": {},
   "toc_section_display": true,
   "toc_window_display": true
  }
 },
 "nbformat": 4,
 "nbformat_minor": 2
}
