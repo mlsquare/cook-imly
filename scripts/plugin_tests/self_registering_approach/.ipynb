{
 "cells": [
  {
   "cell_type": "code",
   "execution_count": 1,
   "metadata": {},
   "outputs": [
    {
     "ename": "ModuleNotFoundError",
     "evalue": "No module named 'imly'",
     "output_type": "error",
     "traceback": [
      "\u001b[0;31m---------------------------------------------------------------------------\u001b[0m",
      "\u001b[0;31mModuleNotFoundError\u001b[0m                       Traceback (most recent call last)",
      "\u001b[0;32m<ipython-input-1-83db100afeeb>\u001b[0m in \u001b[0;36m<module>\u001b[0;34m\u001b[0m\n\u001b[0;32m----> 1\u001b[0;31m \u001b[0;32mfrom\u001b[0m \u001b[0mimly\u001b[0m \u001b[0;32mimport\u001b[0m \u001b[0mdope\u001b[0m\u001b[0;34m\u001b[0m\u001b[0;34m\u001b[0m\u001b[0m\n\u001b[0m",
      "\u001b[0;31mModuleNotFoundError\u001b[0m: No module named 'imly'"
     ]
    }
   ],
   "source": [
    "from imly import dope"
   ]
  },
  {
   "cell_type": "code",
   "execution_count": 2,
   "metadata": {},
   "outputs": [
    {
     "ename": "OSError",
     "evalue": "/home/shakkeel/Desktop/plugin_tests/selfregistering_approach/imly/base.py/models is not a directory",
     "output_type": "error",
     "traceback": [
      "\u001b[0;31m---------------------------------------------------------------------------\u001b[0m",
      "\u001b[0;31mKeyError\u001b[0m                                  Traceback (most recent call last)",
      "\u001b[0;32m~/Desktop/plugin_tests/selfregistering_approach/imly/base.py\u001b[0m in \u001b[0;36m__getitem__\u001b[0;34m(self, key, retry)\u001b[0m\n\u001b[1;32m    125\u001b[0m         \u001b[0;32mtry\u001b[0m\u001b[0;34m:\u001b[0m\u001b[0;34m\u001b[0m\u001b[0;34m\u001b[0m\u001b[0m\n\u001b[0;32m--> 126\u001b[0;31m             \u001b[0;32mreturn\u001b[0m \u001b[0mself\u001b[0m\u001b[0;34m.\u001b[0m\u001b[0mmodels\u001b[0m\u001b[0;34m[\u001b[0m\u001b[0mkey\u001b[0m\u001b[0;34m]\u001b[0m\u001b[0;34m\u001b[0m\u001b[0;34m\u001b[0m\u001b[0m\n\u001b[0m\u001b[1;32m    127\u001b[0m         \u001b[0;32mexcept\u001b[0m \u001b[0mKeyError\u001b[0m\u001b[0;34m:\u001b[0m\u001b[0;34m\u001b[0m\u001b[0;34m\u001b[0m\u001b[0m\n",
      "\u001b[0;31mKeyError\u001b[0m: ('sklearn', 'LinearRegression')",
      "\nDuring handling of the above exception, another exception occurred:\n",
      "\u001b[0;31mOSError\u001b[0m                                   Traceback (most recent call last)",
      "\u001b[0;32m<ipython-input-2-ab4aa10205b9>\u001b[0m in \u001b[0;36m<module>\u001b[0;34m\u001b[0m\n\u001b[0;32m----> 1\u001b[0;31m \u001b[0mdope\u001b[0m\u001b[0;34m(\u001b[0m\u001b[0;36m1\u001b[0m\u001b[0;34m)\u001b[0m\u001b[0;34m\u001b[0m\u001b[0;34m\u001b[0m\u001b[0m\n\u001b[0m",
      "\u001b[0;32m~/Desktop/plugin_tests/selfregistering_approach/imly/__init__.py\u001b[0m in \u001b[0;36mdope\u001b[0;34m(primal_model)\u001b[0m\n\u001b[1;32m     13\u001b[0m     \u001b[0;31m# glm.register_plugin_dir('/home/shakkeel/Desktop/plugin_tests/selfregistering_approach/imly/plugins')\u001b[0m\u001b[0;34m\u001b[0m\u001b[0;34m\u001b[0m\u001b[0;34m\u001b[0m\u001b[0m\n\u001b[1;32m     14\u001b[0m \u001b[0;34m\u001b[0m\u001b[0m\n\u001b[0;32m---> 15\u001b[0;31m     \u001b[0mabstract_model\u001b[0m\u001b[0;34m,\u001b[0m \u001b[0mwrapper\u001b[0m \u001b[0;34m=\u001b[0m \u001b[0mregistrar\u001b[0m\u001b[0;34m[\u001b[0m\u001b[0;34m(\u001b[0m\u001b[0;34m'sklearn'\u001b[0m\u001b[0;34m,\u001b[0m \u001b[0;34m'LinearRegression'\u001b[0m\u001b[0;34m)\u001b[0m\u001b[0;34m]\u001b[0m \u001b[0;31m# Change attrib name -- `models` to something else\u001b[0m\u001b[0;34m\u001b[0m\u001b[0;34m\u001b[0m\u001b[0m\n\u001b[0m\u001b[1;32m     16\u001b[0m     \u001b[0;31m# abstract_model, wrapper = BaseModel.models[('sklearn', 'LogisticRegression')]\u001b[0m\u001b[0;34m\u001b[0m\u001b[0;34m\u001b[0m\u001b[0;34m\u001b[0m\u001b[0m\n\u001b[1;32m     17\u001b[0m     \u001b[0mmodel\u001b[0m \u001b[0;34m=\u001b[0m \u001b[0mwrapper\u001b[0m\u001b[0;34m(\u001b[0m\u001b[0mabstract_model\u001b[0m\u001b[0;34m=\u001b[0m\u001b[0mabstract_model\u001b[0m\u001b[0;34m)\u001b[0m \u001b[0;31m## Get rid of build_fn\u001b[0m\u001b[0;34m\u001b[0m\u001b[0;34m\u001b[0m\u001b[0m\n",
      "\u001b[0;32m~/Desktop/plugin_tests/selfregistering_approach/imly/base.py\u001b[0m in \u001b[0;36m__getitem__\u001b[0;34m(self, key, retry)\u001b[0m\n\u001b[1;32m    129\u001b[0m             \u001b[0;31m#     return default\u001b[0m\u001b[0;34m\u001b[0m\u001b[0;34m\u001b[0m\u001b[0;34m\u001b[0m\u001b[0m\n\u001b[1;32m    130\u001b[0m             \u001b[0;32mif\u001b[0m \u001b[0mretry\u001b[0m\u001b[0;34m:\u001b[0m\u001b[0;34m\u001b[0m\u001b[0;34m\u001b[0m\u001b[0m\n\u001b[0;32m--> 131\u001b[0;31m                 \u001b[0mself\u001b[0m\u001b[0;34m.\u001b[0m\u001b[0mfind_models\u001b[0m\u001b[0;34m(\u001b[0m\u001b[0;34m)\u001b[0m\u001b[0;34m\u001b[0m\u001b[0;34m\u001b[0m\u001b[0m\n\u001b[0m\u001b[1;32m    132\u001b[0m                 \u001b[0;32mreturn\u001b[0m \u001b[0mself\u001b[0m\u001b[0;34m.\u001b[0m\u001b[0m__getitem__\u001b[0m\u001b[0;34m(\u001b[0m\u001b[0mkey\u001b[0m\u001b[0;34m,\u001b[0m \u001b[0;32mFalse\u001b[0m\u001b[0;34m)\u001b[0m\u001b[0;34m\u001b[0m\u001b[0;34m\u001b[0m\u001b[0m\n\u001b[1;32m    133\u001b[0m             \u001b[0;32melse\u001b[0m\u001b[0;34m:\u001b[0m\u001b[0;34m\u001b[0m\u001b[0;34m\u001b[0m\u001b[0m\n",
      "\u001b[0;32m~/Desktop/plugin_tests/selfregistering_approach/imly/base.py\u001b[0m in \u001b[0;36mfind_models\u001b[0;34m(self)\u001b[0m\n\u001b[1;32m    107\u001b[0m         \u001b[0;31m# model_collection_path = '/home/shakkeel/Desktop/plugin_tests/selfregistering_approach/imly/arch'\u001b[0m\u001b[0;34m\u001b[0m\u001b[0;34m\u001b[0m\u001b[0;34m\u001b[0m\u001b[0m\n\u001b[1;32m    108\u001b[0m         \u001b[0;32mif\u001b[0m \u001b[0;32mnot\u001b[0m \u001b[0mos\u001b[0m\u001b[0;34m.\u001b[0m\u001b[0mpath\u001b[0m\u001b[0;34m.\u001b[0m\u001b[0misdir\u001b[0m\u001b[0;34m(\u001b[0m\u001b[0mself\u001b[0m\u001b[0;34m.\u001b[0m\u001b[0mmodel_collection_path\u001b[0m\u001b[0;34m)\u001b[0m\u001b[0;34m:\u001b[0m\u001b[0;34m\u001b[0m\u001b[0;34m\u001b[0m\u001b[0m\n\u001b[0;32m--> 109\u001b[0;31m             \u001b[0;32mraise\u001b[0m \u001b[0mEnvironmentError\u001b[0m\u001b[0;34m(\u001b[0m\u001b[0;34m'%s is not a directory'\u001b[0m \u001b[0;34m%\u001b[0m \u001b[0mself\u001b[0m\u001b[0;34m.\u001b[0m\u001b[0mmodel_collection_path\u001b[0m\u001b[0;34m)\u001b[0m \u001b[0;31m# Make the error more informative\u001b[0m\u001b[0;34m\u001b[0m\u001b[0;34m\u001b[0m\u001b[0m\n\u001b[0m\u001b[1;32m    110\u001b[0m \u001b[0;34m\u001b[0m\u001b[0m\n\u001b[1;32m    111\u001b[0m         \u001b[0;32mfor\u001b[0m \u001b[0mfile_\u001b[0m \u001b[0;32min\u001b[0m \u001b[0mos\u001b[0m\u001b[0;34m.\u001b[0m\u001b[0mlistdir\u001b[0m\u001b[0;34m(\u001b[0m\u001b[0mself\u001b[0m\u001b[0;34m.\u001b[0m\u001b[0mmodel_collection_path\u001b[0m\u001b[0;34m)\u001b[0m\u001b[0;34m:\u001b[0m\u001b[0;34m\u001b[0m\u001b[0;34m\u001b[0m\u001b[0m\n",
      "\u001b[0;31mOSError\u001b[0m: /home/shakkeel/Desktop/plugin_tests/selfregistering_approach/imly/base.py/models is not a directory"
     ]
    }
   ],
   "source": [
    "dope(1)"
   ]
  },
  {
   "cell_type": "code",
   "execution_count": 2,
   "metadata": {},
   "outputs": [
    {
     "name": "stdout",
     "output_type": "stream",
     "text": [
      "WARNING:tensorflow:From /home/shakkeel/anaconda3/envs/test_imly/lib/python3.6/site-packages/tensorflow/python/framework/op_def_library.py:263: colocate_with (from tensorflow.python.framework.ops) is deprecated and will be removed in a future version.\n",
      "Instructions for updating:\n",
      "Colocations handled automatically by placer.\n"
     ]
    },
    {
     "data": {
      "text/plain": [
       "<imly.wrappers.sklearn.SklearnKerasClassifier at 0x7faf8892e470>"
      ]
     },
     "execution_count": 2,
     "metadata": {},
     "output_type": "execute_result"
    }
   ],
   "source": [
    "dope(2)"
   ]
  },
  {
   "cell_type": "code",
   "execution_count": 3,
   "metadata": {},
   "outputs": [],
   "source": [
    "from imly.base import registrar"
   ]
  },
  {
   "cell_type": "code",
   "execution_count": 5,
   "metadata": {},
   "outputs": [
    {
     "ename": "KeyError",
     "evalue": "''",
     "output_type": "error",
     "traceback": [
      "\u001b[0;31m---------------------------------------------------------------------------\u001b[0m",
      "\u001b[0;31mKeyError\u001b[0m                                  Traceback (most recent call last)",
      "\u001b[0;32m<ipython-input-5-a7ce9249fd4a>\u001b[0m in \u001b[0;36m<module>\u001b[0;34m\u001b[0m\n\u001b[0;32m----> 1\u001b[0;31m \u001b[0mregistrar\u001b[0m\u001b[0;34m.\u001b[0m\u001b[0mmodels\u001b[0m\u001b[0;34m[\u001b[0m\u001b[0;34m''\u001b[0m\u001b[0;34m]\u001b[0m\u001b[0;34m\u001b[0m\u001b[0;34m\u001b[0m\u001b[0m\n\u001b[0m",
      "\u001b[0;31mKeyError\u001b[0m: ''"
     ]
    }
   ],
   "source": [
    "registrar.models['']"
   ]
  },
  {
   "cell_type": "code",
   "execution_count": 6,
   "metadata": {},
   "outputs": [],
   "source": [
    "modellib.register_model_dir('/home/shakkeel/anaconda3/envs/test_imly/lib/')"
   ]
  },
  {
   "cell_type": "code",
   "execution_count": 9,
   "metadata": {},
   "outputs": [],
   "source": [
    "modellib.find_models()"
   ]
  },
  {
   "cell_type": "code",
   "execution_count": 4,
   "metadata": {},
   "outputs": [
    {
     "data": {
      "text/plain": [
       "{('sklearn',\n",
       "  'LogisticRegression'): [<imly.arch.sklearn.LogisticRegression at 0x7ff754ecc860>, imly.wrappers.sklearn.SklearnKerasClassifier],\n",
       " ('sklearn',\n",
       "  'LinearRegression'): [<imly.arch.sklearn.LinearRegression at 0x7ff754ecca58>, imly.wrappers.sklearn.SklearnKerasClassifier]}"
      ]
     },
     "execution_count": 4,
     "metadata": {},
     "output_type": "execute_result"
    }
   ],
   "source": [
    "modellib.models"
   ]
  },
  {
   "cell_type": "code",
   "execution_count": 8,
   "metadata": {},
   "outputs": [
    {
     "data": {
      "text/plain": [
       "'/home/shakkeel/Desktop/plugin_tests/selfregistering_approach/imly/base.py/plugins'"
      ]
     },
     "execution_count": 8,
     "metadata": {},
     "output_type": "execute_result"
    }
   ],
   "source": [
    "glm.plugin_path"
   ]
  },
  {
   "cell_type": "code",
   "execution_count": 4,
   "metadata": {},
   "outputs": [
    {
     "ename": "NameError",
     "evalue": "name '__file__' is not defined",
     "output_type": "error",
     "traceback": [
      "\u001b[0;31m---------------------------------------------------------------------------\u001b[0m",
      "\u001b[0;31mNameError\u001b[0m                                 Traceback (most recent call last)",
      "\u001b[0;32m<ipython-input-4-b7a534c22e89>\u001b[0m in \u001b[0;36m<module>\u001b[0;34m\u001b[0m\n\u001b[1;32m      1\u001b[0m \u001b[0;32mimport\u001b[0m \u001b[0mos\u001b[0m\u001b[0;34m\u001b[0m\u001b[0;34m\u001b[0m\u001b[0m\n\u001b[0;32m----> 2\u001b[0;31m \u001b[0mos\u001b[0m\u001b[0;34m.\u001b[0m\u001b[0mpath\u001b[0m\u001b[0;34m.\u001b[0m\u001b[0mdirname\u001b[0m\u001b[0;34m(\u001b[0m\u001b[0mos\u001b[0m\u001b[0;34m.\u001b[0m\u001b[0mpath\u001b[0m\u001b[0;34m.\u001b[0m\u001b[0mrealpath\u001b[0m\u001b[0;34m(\u001b[0m\u001b[0m__file__\u001b[0m\u001b[0;34m)\u001b[0m\u001b[0;34m)\u001b[0m\u001b[0;34m\u001b[0m\u001b[0;34m\u001b[0m\u001b[0m\n\u001b[0m",
      "\u001b[0;31mNameError\u001b[0m: name '__file__' is not defined"
     ]
    }
   ],
   "source": [
    "import os\n",
    "os.path.dirname(os.path.realpath(__file__))"
   ]
  },
  {
   "cell_type": "code",
   "execution_count": 10,
   "metadata": {},
   "outputs": [
    {
     "name": "stdout",
     "output_type": "stream",
     "text": [
      "Registrar initialized\n"
     ]
    },
    {
     "ename": "TypeError",
     "evalue": "metaclass conflict: the metaclass of a derived class must be a (non-strict) subclass of the metaclasses of all its bases",
     "output_type": "error",
     "traceback": [
      "\u001b[0;31m---------------------------------------------------------------------------\u001b[0m",
      "\u001b[0;31mTypeError\u001b[0m                                 Traceback (most recent call last)",
      "\u001b[0;32m<ipython-input-10-a7622ececaef>\u001b[0m in \u001b[0;36m<module>\u001b[0;34m\u001b[0m\n\u001b[1;32m     22\u001b[0m \u001b[0;34m\u001b[0m\u001b[0m\n\u001b[1;32m     23\u001b[0m \u001b[0;31m# @modellib.register_model\u001b[0m\u001b[0;34m\u001b[0m\u001b[0;34m\u001b[0m\u001b[0;34m\u001b[0m\u001b[0m\n\u001b[0;32m---> 24\u001b[0;31m \u001b[0;32mclass\u001b[0m \u001b[0mLinearRegression\u001b[0m\u001b[0;34m(\u001b[0m\u001b[0mmodellib\u001b[0m\u001b[0;34m,\u001b[0m \u001b[0mglm\u001b[0m\u001b[0;34m)\u001b[0m\u001b[0;34m:\u001b[0m\u001b[0;34m\u001b[0m\u001b[0;34m\u001b[0m\u001b[0m\n\u001b[0m\u001b[1;32m     25\u001b[0m     \u001b[0;32mdef\u001b[0m \u001b[0m__init__\u001b[0m\u001b[0;34m(\u001b[0m\u001b[0mself\u001b[0m\u001b[0;34m)\u001b[0m\u001b[0;34m:\u001b[0m\u001b[0;34m\u001b[0m\u001b[0;34m\u001b[0m\u001b[0m\n\u001b[1;32m     26\u001b[0m         \u001b[0;32mpass\u001b[0m\u001b[0;34m\u001b[0m\u001b[0;34m\u001b[0m\u001b[0m\n",
      "\u001b[0;31mTypeError\u001b[0m: metaclass conflict: the metaclass of a derived class must be a (non-strict) subclass of the metaclasses of all its bases"
     ]
    }
   ],
   "source": [
    "from abc import ABC, abstractmethod\n",
    "\n",
    "class Registrar(type):\n",
    "    def __init__(self, name, bases, attrs):\n",
    "        print('Registrar initialized')\n",
    "        \n",
    "    def register_model(self,model_instance):\n",
    "        print(self)\n",
    "        \n",
    "class registry(metaclass=Registrar): # 1) Get rid of this part!\n",
    "    def __init__(self, model_name):\n",
    "        print(model_name)\n",
    "\n",
    "\n",
    "class BaseModel(ABC): # Conflicts with Registrar(Cannot contain 2 metaclasses)!\n",
    "    def create_model(self):\n",
    "        raise NotImplementedError('Needs to be implemented!')\n",
    "        \n",
    "class glm(BaseModel):\n",
    "    def create_model(self):\n",
    "        pass        \n",
    "        \n",
    "# @modellib.register_model\n",
    "class LinearRegression(modellib, glm): # This `registry` should go as decorator\n",
    "    def __init__(self):\n",
    "        pass\n",
    "    \n",
    "    def create_model(self):\n",
    "        super(LinearRegression, self).create_model()"
   ]
  },
  {
   "cell_type": "code",
   "execution_count": 6,
   "metadata": {},
   "outputs": [
    {
     "ename": "TypeError",
     "evalue": "'NoneType' object is not callable",
     "output_type": "error",
     "traceback": [
      "\u001b[0;31m---------------------------------------------------------------------------\u001b[0m",
      "\u001b[0;31mTypeError\u001b[0m                                 Traceback (most recent call last)",
      "\u001b[0;32m<ipython-input-6-c16f8ba906e8>\u001b[0m in \u001b[0;36m<module>\u001b[0;34m\u001b[0m\n\u001b[0;32m----> 1\u001b[0;31m \u001b[0mmdoel\u001b[0m \u001b[0;34m=\u001b[0m \u001b[0mLinearRegression\u001b[0m\u001b[0;34m(\u001b[0m\u001b[0;34m)\u001b[0m\u001b[0;34m\u001b[0m\u001b[0;34m\u001b[0m\u001b[0m\n\u001b[0m",
      "\u001b[0;31mTypeError\u001b[0m: 'NoneType' object is not callable"
     ]
    }
   ],
   "source": [
    "model = LinearRegression()"
   ]
  },
  {
   "cell_type": "code",
   "execution_count": 9,
   "metadata": {},
   "outputs": [
    {
     "data": {
      "text/plain": [
       "NoneType"
      ]
     },
     "execution_count": 9,
     "metadata": {},
     "output_type": "execute_result"
    }
   ],
   "source": [
    "type(LinearRegression)"
   ]
  },
  {
   "cell_type": "code",
   "execution_count": 5,
   "metadata": {},
   "outputs": [],
   "source": [
    "class test_class():\n",
    "    def __init__(self):\n",
    "        print(self)\n",
    "        pass\n",
    "    def new_method(self):\n",
    "        print(test_class)\n",
    "        pass"
   ]
  },
  {
   "cell_type": "code",
   "execution_count": 6,
   "metadata": {},
   "outputs": [
    {
     "name": "stdout",
     "output_type": "stream",
     "text": [
      "<__main__.test_class object at 0x7fd4b11bc780>\n"
     ]
    }
   ],
   "source": [
    "nnn = test_class()"
   ]
  },
  {
   "cell_type": "code",
   "execution_count": 7,
   "metadata": {},
   "outputs": [
    {
     "name": "stdout",
     "output_type": "stream",
     "text": [
      "<class '__main__.test_class'>\n"
     ]
    }
   ],
   "source": [
    "nnn.new_method()"
   ]
  },
  {
   "cell_type": "code",
   "execution_count": 11,
   "metadata": {},
   "outputs": [
    {
     "name": "stdout",
     "output_type": "stream",
     "text": [
      "<__main__.test_class object at 0x7fa647befeb8>\n"
     ]
    }
   ],
   "source": [
    "\n",
    "@test_class\n",
    "class child_class(test_class):\n",
    "    pass"
   ]
  },
  {
   "cell_type": "code",
   "execution_count": 13,
   "metadata": {},
   "outputs": [
    {
     "data": {
      "text/plain": [
       "type"
      ]
     },
     "execution_count": 13,
     "metadata": {},
     "output_type": "execute_result"
    }
   ],
   "source": [
    "child_class.__class__.__"
   ]
  },
  {
   "cell_type": "code",
   "execution_count": 1,
   "metadata": {},
   "outputs": [
    {
     "name": "stdout",
     "output_type": "stream",
     "text": [
      "file -- __init__.py\n",
      "file -- xgboost.py\n",
      "file -- sklearn.py\n",
      "name --  imly\n",
      "package --  imly\n",
      "Mount initialized\n",
      "name --  imly\n",
      "package --  imly\n"
     ]
    },
    {
     "name": "stderr",
     "output_type": "stream",
     "text": [
      "Using TensorFlow backend.\n"
     ]
    },
    {
     "name": "stdout",
     "output_type": "stream",
     "text": [
      "<class 'imly.LogisticRegression'>\n",
      "<class 'imly.LinearRegression'>\n",
      "file -- model_arch.json\n",
      "file -- __pycache__\n"
     ]
    }
   ],
   "source": [
    "import os, imp\n",
    "\n",
    "model_collection_path = '/home/shakkeel/Desktop/plugin_tests/selfregistering_approach/imly/arch'\n",
    "\n",
    "for file_ in os.listdir(model_collection_path):\n",
    "    print('file --', file_)\n",
    "    if file_.endswith('.py') and file_ != '__init__.py':\n",
    "        module = file_[:-3] #< Strip extension\n",
    "        mod_obj = globals().get(module)\n",
    "        if mod_obj is None:\n",
    "            f, filename, desc = imp.find_module(\n",
    "                module, [model_collection_path])\n",
    "            globals()[module] = mod_obj = imp.load_module(\n",
    "                module, f, filename, desc)"
   ]
  },
  {
   "cell_type": "code",
   "execution_count": 8,
   "metadata": {},
   "outputs": [
    {
     "data": {
      "text/plain": [
       "['__init__.py', 'xgboost.py', 'sklearn.py', 'model_arch.json', '__pycache__']"
      ]
     },
     "execution_count": 8,
     "metadata": {},
     "output_type": "execute_result"
    }
   ],
   "source": [
    "os.listdir(model_collection_path)"
   ]
  },
  {
   "cell_type": "code",
   "execution_count": 31,
   "metadata": {},
   "outputs": [],
   "source": [
    "f, filename, desc = imp.find_module('xgboost', [model_collection_path])"
   ]
  },
  {
   "cell_type": "code",
   "execution_count": 32,
   "metadata": {},
   "outputs": [
    {
     "data": {
      "text/plain": [
       "<module 'xgboost' from '/home/shakkeel/Desktop/plugin_tests/selfregistering_approach/imly/arch/xgboost.py'>"
      ]
     },
     "execution_count": 32,
     "metadata": {},
     "output_type": "execute_result"
    }
   ],
   "source": [
    "imp.load_module('xgboost', f, filename, desc)"
   ]
  },
  {
   "cell_type": "code",
   "execution_count": 19,
   "metadata": {},
   "outputs": [
    {
     "name": "stdout",
     "output_type": "stream",
     "text": [
      "none\n"
     ]
    }
   ],
   "source": [
    "if globals().get('sklearn') is None:\n",
    "    print('none')"
   ]
  },
  {
   "cell_type": "code",
   "execution_count": 25,
   "metadata": {},
   "outputs": [
    {
     "data": {
      "text/plain": [
       "_io.TextIOWrapper"
      ]
     },
     "execution_count": 25,
     "metadata": {},
     "output_type": "execute_result"
    }
   ],
   "source": [
    "f"
   ]
  },
  {
   "cell_type": "code",
   "execution_count": 23,
   "metadata": {},
   "outputs": [
    {
     "data": {
      "text/plain": [
       "'/home/shakkeel/Desktop/plugin_tests/selfregistering_approach/imly/arch/sklearn.py'"
      ]
     },
     "execution_count": 23,
     "metadata": {},
     "output_type": "execute_result"
    }
   ],
   "source": [
    "filename"
   ]
  },
  {
   "cell_type": "code",
   "execution_count": 24,
   "metadata": {},
   "outputs": [
    {
     "data": {
      "text/plain": [
       "('.py', 'r', 1)"
      ]
     },
     "execution_count": 24,
     "metadata": {},
     "output_type": "execute_result"
    }
   ],
   "source": [
    "desc"
   ]
  },
  {
   "cell_type": "code",
   "execution_count": 28,
   "metadata": {},
   "outputs": [
    {
     "data": {
      "text/plain": [
       "{'__name__': '__main__',\n",
       " '__doc__': 'Automatically created module for IPython interactive environment',\n",
       " '__package__': None,\n",
       " '__loader__': None,\n",
       " '__spec__': None,\n",
       " '__builtin__': <module 'builtins' (built-in)>,\n",
       " '__builtins__': <module 'builtins' (built-in)>,\n",
       " '_ih': ['',\n",
       "  'from imly import dope',\n",
       "  'dope(1)',\n",
       "  \"model_collection_path = '/home/shakkeel/Desktop/plugin_tests/selfregistering_approach/imly/arch'\\n\\nfor file_ in os.listdir(model_collection_path):\\n    print(file_)\\n    if file_.endswith('.py') and file_ != '__init__.py':\\n        module = file_[:-3] #< Strip extension\\n        mod_obj = globals().get(module)\\n        if mod_obj is None:\\n            f, filename, desc = imp.find_module(\\n                module, [model_collection_path])\\n            print(module)\\n            globals()[module] = mod_obj = imp.load_module(\\n                module, f, filename, desc)\",\n",
       "  \"import os\\n\\nmodel_collection_path = '/home/shakkeel/Desktop/plugin_tests/selfregistering_approach/imly/arch'\\n\\nfor file_ in os.listdir(model_collection_path):\\n    print(file_)\\n    if file_.endswith('.py') and file_ != '__init__.py':\\n        module = file_[:-3] #< Strip extension\\n        mod_obj = globals().get(module)\\n        if mod_obj is None:\\n            f, filename, desc = imp.find_module(\\n                module, [model_collection_path])\\n            print(module)\\n            globals()[module] = mod_obj = imp.load_module(\\n                module, f, filename, desc)\",\n",
       "  \"import os\\n\\nmodel_collection_path = '/home/shakkeel/Desktop/plugin_tests/selfregistering_approach/imly/arch'\\n\\nfor file_ in os.listdir(model_collection_path):\\n    print(file_)\\n    if file_.endswith('.py') and file_ != '__init__.py':\\n        module = file_[:-3] #< Strip extension\\n        mod_obj = globals().get(module)\\n        if mod_obj is None:\\n            f, filename, desc = imp.find_module(\\n                module, [model_collection_path])\\n            globals()[module] = mod_obj = imp.load_module(\\n                module, f, filename, desc)\",\n",
       "  \"import os\\n\\nmodel_collection_path = '/home/shakkeel/Desktop/plugin_tests/selfregistering_approach/imly/arch'\\n\\nfor file_ in os.listdir(model_collection_path):\\n    print('file --', file_)\\n    if file_.endswith('.py') and file_ != '__init__.py':\\n        module = file_[:-3] #< Strip extension\\n        mod_obj = globals().get(module)\\n        if mod_obj is None:\\n            f, filename, desc = imp.find_module(\\n                module, [model_collection_path])\\n            globals()[module] = mod_obj = imp.load_module(\\n                module, f, filename, desc)\",\n",
       "  \"import os, imp\\n\\nmodel_collection_path = '/home/shakkeel/Desktop/plugin_tests/selfregistering_approach/imly/arch'\\n\\nfor file_ in os.listdir(model_collection_path):\\n    print('file --', file_)\\n    if file_.endswith('.py') and file_ != '__init__.py':\\n        module = file_[:-3] #< Strip extension\\n        mod_obj = globals().get(module)\\n        if mod_obj is None:\\n            f, filename, desc = imp.find_module(\\n                module, [model_collection_path])\\n            globals()[module] = mod_obj = imp.load_module(\\n                module, f, filename, desc)\",\n",
       "  'os.listdir(model_collection_path)',\n",
       "  'globals()',\n",
       "  'globals().get(sklearn)',\n",
       "  \"globals().get('sklearn')\",\n",
       "  \"globals().get('xgboost')\",\n",
       "  \"globals().get('sklearn')\",\n",
       "  \"globals().get('xgboost')\",\n",
       "  \"globals().get('keras')\",\n",
       "  \"globals().get('xgboost')\",\n",
       "  \"type(globals().get('xgboost'))\",\n",
       "  \"if globals().get('xgboost') is None:\\n    print('none')\",\n",
       "  \"if globals().get('sklearn') is None:\\n    print('none')\",\n",
       "  \"imp.find_module('sklearn', [model_collection_path])\",\n",
       "  \"f, filename, desc = imp.find_module('sklearn', [model_collection_path])\",\n",
       "  'f',\n",
       "  'filename',\n",
       "  'desc',\n",
       "  'type(f)',\n",
       "  \"globals()['xboost']\",\n",
       "  \"globals()['__init__']\",\n",
       "  'globals()'],\n",
       " '_oh': {8: ['__init__.py',\n",
       "   'xgboost.py',\n",
       "   'sklearn.py',\n",
       "   'model_arch.json',\n",
       "   '__pycache__'],\n",
       "  9: {...},\n",
       "  12: <module 'xgboost' from '/home/shakkeel/Desktop/plugin_tests/selfregistering_approach/imly/arch/xgboost.py'>,\n",
       "  14: <module 'xgboost' from '/home/shakkeel/Desktop/plugin_tests/selfregistering_approach/imly/arch/xgboost.py'>,\n",
       "  16: <module 'xgboost' from '/home/shakkeel/Desktop/plugin_tests/selfregistering_approach/imly/arch/xgboost.py'>,\n",
       "  17: module,\n",
       "  20: (<_io.TextIOWrapper name='/home/shakkeel/Desktop/plugin_tests/selfregistering_approach/imly/arch/sklearn.py' mode='r' encoding='utf-8'>,\n",
       "   '/home/shakkeel/Desktop/plugin_tests/selfregistering_approach/imly/arch/sklearn.py',\n",
       "   ('.py', 'r', 1)),\n",
       "  22: <_io.TextIOWrapper name='/home/shakkeel/Desktop/plugin_tests/selfregistering_approach/imly/arch/sklearn.py' mode='r' encoding='utf-8'>,\n",
       "  23: '/home/shakkeel/Desktop/plugin_tests/selfregistering_approach/imly/arch/sklearn.py',\n",
       "  24: ('.py', 'r', 1),\n",
       "  25: _io.TextIOWrapper},\n",
       " '_dh': ['/home/shakkeel/Desktop/plugin_tests/selfregistering_approach'],\n",
       " 'In': ['',\n",
       "  'from imly import dope',\n",
       "  'dope(1)',\n",
       "  \"model_collection_path = '/home/shakkeel/Desktop/plugin_tests/selfregistering_approach/imly/arch'\\n\\nfor file_ in os.listdir(model_collection_path):\\n    print(file_)\\n    if file_.endswith('.py') and file_ != '__init__.py':\\n        module = file_[:-3] #< Strip extension\\n        mod_obj = globals().get(module)\\n        if mod_obj is None:\\n            f, filename, desc = imp.find_module(\\n                module, [model_collection_path])\\n            print(module)\\n            globals()[module] = mod_obj = imp.load_module(\\n                module, f, filename, desc)\",\n",
       "  \"import os\\n\\nmodel_collection_path = '/home/shakkeel/Desktop/plugin_tests/selfregistering_approach/imly/arch'\\n\\nfor file_ in os.listdir(model_collection_path):\\n    print(file_)\\n    if file_.endswith('.py') and file_ != '__init__.py':\\n        module = file_[:-3] #< Strip extension\\n        mod_obj = globals().get(module)\\n        if mod_obj is None:\\n            f, filename, desc = imp.find_module(\\n                module, [model_collection_path])\\n            print(module)\\n            globals()[module] = mod_obj = imp.load_module(\\n                module, f, filename, desc)\",\n",
       "  \"import os\\n\\nmodel_collection_path = '/home/shakkeel/Desktop/plugin_tests/selfregistering_approach/imly/arch'\\n\\nfor file_ in os.listdir(model_collection_path):\\n    print(file_)\\n    if file_.endswith('.py') and file_ != '__init__.py':\\n        module = file_[:-3] #< Strip extension\\n        mod_obj = globals().get(module)\\n        if mod_obj is None:\\n            f, filename, desc = imp.find_module(\\n                module, [model_collection_path])\\n            globals()[module] = mod_obj = imp.load_module(\\n                module, f, filename, desc)\",\n",
       "  \"import os\\n\\nmodel_collection_path = '/home/shakkeel/Desktop/plugin_tests/selfregistering_approach/imly/arch'\\n\\nfor file_ in os.listdir(model_collection_path):\\n    print('file --', file_)\\n    if file_.endswith('.py') and file_ != '__init__.py':\\n        module = file_[:-3] #< Strip extension\\n        mod_obj = globals().get(module)\\n        if mod_obj is None:\\n            f, filename, desc = imp.find_module(\\n                module, [model_collection_path])\\n            globals()[module] = mod_obj = imp.load_module(\\n                module, f, filename, desc)\",\n",
       "  \"import os, imp\\n\\nmodel_collection_path = '/home/shakkeel/Desktop/plugin_tests/selfregistering_approach/imly/arch'\\n\\nfor file_ in os.listdir(model_collection_path):\\n    print('file --', file_)\\n    if file_.endswith('.py') and file_ != '__init__.py':\\n        module = file_[:-3] #< Strip extension\\n        mod_obj = globals().get(module)\\n        if mod_obj is None:\\n            f, filename, desc = imp.find_module(\\n                module, [model_collection_path])\\n            globals()[module] = mod_obj = imp.load_module(\\n                module, f, filename, desc)\",\n",
       "  'os.listdir(model_collection_path)',\n",
       "  'globals()',\n",
       "  'globals().get(sklearn)',\n",
       "  \"globals().get('sklearn')\",\n",
       "  \"globals().get('xgboost')\",\n",
       "  \"globals().get('sklearn')\",\n",
       "  \"globals().get('xgboost')\",\n",
       "  \"globals().get('keras')\",\n",
       "  \"globals().get('xgboost')\",\n",
       "  \"type(globals().get('xgboost'))\",\n",
       "  \"if globals().get('xgboost') is None:\\n    print('none')\",\n",
       "  \"if globals().get('sklearn') is None:\\n    print('none')\",\n",
       "  \"imp.find_module('sklearn', [model_collection_path])\",\n",
       "  \"f, filename, desc = imp.find_module('sklearn', [model_collection_path])\",\n",
       "  'f',\n",
       "  'filename',\n",
       "  'desc',\n",
       "  'type(f)',\n",
       "  \"globals()['xboost']\",\n",
       "  \"globals()['__init__']\",\n",
       "  'globals()'],\n",
       " 'Out': {8: ['__init__.py',\n",
       "   'xgboost.py',\n",
       "   'sklearn.py',\n",
       "   'model_arch.json',\n",
       "   '__pycache__'],\n",
       "  9: {...},\n",
       "  12: <module 'xgboost' from '/home/shakkeel/Desktop/plugin_tests/selfregistering_approach/imly/arch/xgboost.py'>,\n",
       "  14: <module 'xgboost' from '/home/shakkeel/Desktop/plugin_tests/selfregistering_approach/imly/arch/xgboost.py'>,\n",
       "  16: <module 'xgboost' from '/home/shakkeel/Desktop/plugin_tests/selfregistering_approach/imly/arch/xgboost.py'>,\n",
       "  17: module,\n",
       "  20: (<_io.TextIOWrapper name='/home/shakkeel/Desktop/plugin_tests/selfregistering_approach/imly/arch/sklearn.py' mode='r' encoding='utf-8'>,\n",
       "   '/home/shakkeel/Desktop/plugin_tests/selfregistering_approach/imly/arch/sklearn.py',\n",
       "   ('.py', 'r', 1)),\n",
       "  22: <_io.TextIOWrapper name='/home/shakkeel/Desktop/plugin_tests/selfregistering_approach/imly/arch/sklearn.py' mode='r' encoding='utf-8'>,\n",
       "  23: '/home/shakkeel/Desktop/plugin_tests/selfregistering_approach/imly/arch/sklearn.py',\n",
       "  24: ('.py', 'r', 1),\n",
       "  25: _io.TextIOWrapper},\n",
       " 'get_ipython': <bound method InteractiveShell.get_ipython of <ipykernel.zmqshell.ZMQInteractiveShell object at 0x7f2d88b65048>>,\n",
       " 'exit': <IPython.core.autocall.ZMQExitAutocall at 0x7f2d85b35668>,\n",
       " 'quit': <IPython.core.autocall.ZMQExitAutocall at 0x7f2d85b35668>,\n",
       " '_': _io.TextIOWrapper,\n",
       " '__': ('.py', 'r', 1),\n",
       " '___': '/home/shakkeel/Desktop/plugin_tests/selfregistering_approach/imly/arch/sklearn.py',\n",
       " '_i': \"globals()['__init__']\",\n",
       " '_ii': \"globals()['xboost']\",\n",
       " '_iii': 'type(f)',\n",
       " '_i1': 'from imly import dope',\n",
       " 'dope': <function imly.dope(primal_model)>,\n",
       " '_i2': 'dope(1)',\n",
       " '_i3': \"model_collection_path = '/home/shakkeel/Desktop/plugin_tests/selfregistering_approach/imly/arch'\\n\\nfor file_ in os.listdir(model_collection_path):\\n    print(file_)\\n    if file_.endswith('.py') and file_ != '__init__.py':\\n        module = file_[:-3] #< Strip extension\\n        mod_obj = globals().get(module)\\n        if mod_obj is None:\\n            f, filename, desc = imp.find_module(\\n                module, [model_collection_path])\\n            print(module)\\n            globals()[module] = mod_obj = imp.load_module(\\n                module, f, filename, desc)\",\n",
       " 'model_collection_path': '/home/shakkeel/Desktop/plugin_tests/selfregistering_approach/imly/arch',\n",
       " '_i4': \"import os\\n\\nmodel_collection_path = '/home/shakkeel/Desktop/plugin_tests/selfregistering_approach/imly/arch'\\n\\nfor file_ in os.listdir(model_collection_path):\\n    print(file_)\\n    if file_.endswith('.py') and file_ != '__init__.py':\\n        module = file_[:-3] #< Strip extension\\n        mod_obj = globals().get(module)\\n        if mod_obj is None:\\n            f, filename, desc = imp.find_module(\\n                module, [model_collection_path])\\n            print(module)\\n            globals()[module] = mod_obj = imp.load_module(\\n                module, f, filename, desc)\",\n",
       " 'os': <module 'os' from '/home/shakkeel/anaconda3/envs/test_imly/lib/python3.6/os.py'>,\n",
       " 'file_': 'sklearn.py',\n",
       " 'module': 'sklearn',\n",
       " 'mod_obj': None,\n",
       " '_i5': \"import os\\n\\nmodel_collection_path = '/home/shakkeel/Desktop/plugin_tests/selfregistering_approach/imly/arch'\\n\\nfor file_ in os.listdir(model_collection_path):\\n    print(file_)\\n    if file_.endswith('.py') and file_ != '__init__.py':\\n        module = file_[:-3] #< Strip extension\\n        mod_obj = globals().get(module)\\n        if mod_obj is None:\\n            f, filename, desc = imp.find_module(\\n                module, [model_collection_path])\\n            globals()[module] = mod_obj = imp.load_module(\\n                module, f, filename, desc)\",\n",
       " '_i6': \"import os\\n\\nmodel_collection_path = '/home/shakkeel/Desktop/plugin_tests/selfregistering_approach/imly/arch'\\n\\nfor file_ in os.listdir(model_collection_path):\\n    print('file --', file_)\\n    if file_.endswith('.py') and file_ != '__init__.py':\\n        module = file_[:-3] #< Strip extension\\n        mod_obj = globals().get(module)\\n        if mod_obj is None:\\n            f, filename, desc = imp.find_module(\\n                module, [model_collection_path])\\n            globals()[module] = mod_obj = imp.load_module(\\n                module, f, filename, desc)\",\n",
       " '_i7': \"import os, imp\\n\\nmodel_collection_path = '/home/shakkeel/Desktop/plugin_tests/selfregistering_approach/imly/arch'\\n\\nfor file_ in os.listdir(model_collection_path):\\n    print('file --', file_)\\n    if file_.endswith('.py') and file_ != '__init__.py':\\n        module = file_[:-3] #< Strip extension\\n        mod_obj = globals().get(module)\\n        if mod_obj is None:\\n            f, filename, desc = imp.find_module(\\n                module, [model_collection_path])\\n            globals()[module] = mod_obj = imp.load_module(\\n                module, f, filename, desc)\",\n",
       " 'imp': <module 'imp' from '/home/shakkeel/anaconda3/envs/test_imly/lib/python3.6/imp.py'>,\n",
       " 'f': <_io.TextIOWrapper name='/home/shakkeel/Desktop/plugin_tests/selfregistering_approach/imly/arch/sklearn.py' mode='r' encoding='utf-8'>,\n",
       " 'filename': '/home/shakkeel/Desktop/plugin_tests/selfregistering_approach/imly/arch/sklearn.py',\n",
       " 'desc': ('.py', 'r', 1),\n",
       " 'xgboost': <module 'xgboost' from '/home/shakkeel/Desktop/plugin_tests/selfregistering_approach/imly/arch/xgboost.py'>,\n",
       " '_i8': 'os.listdir(model_collection_path)',\n",
       " '_8': ['__init__.py',\n",
       "  'xgboost.py',\n",
       "  'sklearn.py',\n",
       "  'model_arch.json',\n",
       "  '__pycache__'],\n",
       " '_i9': 'globals()',\n",
       " '_9': {...},\n",
       " '_i10': 'globals().get(sklearn)',\n",
       " '_i11': \"globals().get('sklearn')\",\n",
       " '_i12': \"globals().get('xgboost')\",\n",
       " '_12': <module 'xgboost' from '/home/shakkeel/Desktop/plugin_tests/selfregistering_approach/imly/arch/xgboost.py'>,\n",
       " '_i13': \"globals().get('sklearn')\",\n",
       " '_i14': \"globals().get('xgboost')\",\n",
       " '_14': <module 'xgboost' from '/home/shakkeel/Desktop/plugin_tests/selfregistering_approach/imly/arch/xgboost.py'>,\n",
       " '_i15': \"globals().get('keras')\",\n",
       " '_i16': \"globals().get('xgboost')\",\n",
       " '_16': <module 'xgboost' from '/home/shakkeel/Desktop/plugin_tests/selfregistering_approach/imly/arch/xgboost.py'>,\n",
       " '_i17': \"type(globals().get('xgboost'))\",\n",
       " '_17': module,\n",
       " '_i18': \"if globals().get('xgboost') is None:\\n    print('none')\",\n",
       " '_i19': \"if globals().get('sklearn') is None:\\n    print('none')\",\n",
       " '_i20': \"imp.find_module('sklearn', [model_collection_path])\",\n",
       " '_20': (<_io.TextIOWrapper name='/home/shakkeel/Desktop/plugin_tests/selfregistering_approach/imly/arch/sklearn.py' mode='r' encoding='utf-8'>,\n",
       "  '/home/shakkeel/Desktop/plugin_tests/selfregistering_approach/imly/arch/sklearn.py',\n",
       "  ('.py', 'r', 1)),\n",
       " '_i21': \"f, filename, desc = imp.find_module('sklearn', [model_collection_path])\",\n",
       " '_i22': 'f',\n",
       " '_22': <_io.TextIOWrapper name='/home/shakkeel/Desktop/plugin_tests/selfregistering_approach/imly/arch/sklearn.py' mode='r' encoding='utf-8'>,\n",
       " '_i23': 'filename',\n",
       " '_23': '/home/shakkeel/Desktop/plugin_tests/selfregistering_approach/imly/arch/sklearn.py',\n",
       " '_i24': 'desc',\n",
       " '_24': ('.py', 'r', 1),\n",
       " '_i25': 'type(f)',\n",
       " '_25': _io.TextIOWrapper,\n",
       " '_i26': \"globals()['xboost']\",\n",
       " '_i27': \"globals()['__init__']\",\n",
       " '_i28': 'globals()'}"
      ]
     },
     "execution_count": 28,
     "metadata": {},
     "output_type": "execute_result"
    }
   ],
   "source": [
    "globals()"
   ]
  },
  {
   "cell_type": "code",
   "execution_count": 33,
   "metadata": {},
   "outputs": [
    {
     "data": {
      "text/plain": [
       "<module 'imp' from '/home/shakkeel/anaconda3/envs/test_imly/lib/python3.6/imp.py'>"
      ]
     },
     "execution_count": 33,
     "metadata": {},
     "output_type": "execute_result"
    }
   ],
   "source": [
    "imp"
   ]
  },
  {
   "cell_type": "code",
   "execution_count": 2,
   "metadata": {},
   "outputs": [
    {
     "data": {
      "text/plain": [
       "'__main__'"
      ]
     },
     "execution_count": 2,
     "metadata": {},
     "output_type": "execute_result"
    }
   ],
   "source": [
    "__name__"
   ]
  },
  {
   "cell_type": "code",
   "execution_count": 3,
   "metadata": {},
   "outputs": [],
   "source": [
    "__package__"
   ]
  },
  {
   "cell_type": "code",
   "execution_count": null,
   "metadata": {},
   "outputs": [],
   "source": []
  }
 ],
 "metadata": {
  "kernelspec": {
   "display_name": "Python 3",
   "language": "python",
   "name": "python3"
  },
  "language_info": {
   "codemirror_mode": {
    "name": "ipython",
    "version": 3
   },
   "file_extension": ".py",
   "mimetype": "text/x-python",
   "name": "python",
   "nbconvert_exporter": "python",
   "pygments_lexer": "ipython3",
   "version": "3.6.8"
  },
  "toc": {
   "base_numbering": 1,
   "nav_menu": {},
   "number_sections": true,
   "sideBar": true,
   "skip_h1_title": false,
   "title_cell": "Table of Contents",
   "title_sidebar": "Contents",
   "toc_cell": false,
   "toc_position": {},
   "toc_section_display": true,
   "toc_window_display": false
  }
 },
 "nbformat": 4,
 "nbformat_minor": 2
}
